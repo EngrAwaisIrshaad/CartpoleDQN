{
  "nbformat": 4,
  "nbformat_minor": 0,
  "metadata": {
    "colab": {
      "name": "CartPoleDQN.ipynb",
      "provenance": [],
      "collapsed_sections": [],
      "include_colab_link": true
    },
    "kernelspec": {
      "name": "python3",
      "display_name": "Python 3"
    }
  },
  "cells": [
    {
      "cell_type": "markdown",
      "metadata": {
        "id": "view-in-github",
        "colab_type": "text"
      },
      "source": [
        "<a href=\"https://colab.research.google.com/github/Megacity1/CartpoleDQN/blob/main/Week%203%20Deep%20RL%202/CartPoleDQN.ipynb\" target=\"_parent\"><img src=\"https://colab.research.google.com/assets/colab-badge.svg\" alt=\"Open In Colab\"/></a>"
      ]
    },
    {
      "cell_type": "markdown",
      "metadata": {
        "id": "VKK5DA390wRe"
      },
      "source": [
        "# Deep Q Network (DQN) for CartPole Using Boltzmann Q Policy\n",
        "This exercise implements a DQN for CartPole using a Boltzmann Q policy for selecting the actions"
      ]
    },
    {
      "cell_type": "code",
      "metadata": {
        "id": "LGsC7cJ5jNcX",
        "colab": {
          "base_uri": "https://localhost:8080/"
        },
        "outputId": "cda73cbf-3020-40f4-e45e-7b87053448f1"
      },
      "source": [
        "# install keras rl2 (we need to install keras-rl2 so it works with the tensorflow 2 version that comes pre-installed with colab)\n",
        "!pip install keras-rl2"
      ],
      "execution_count": 57,
      "outputs": [
        {
          "output_type": "stream",
          "name": "stdout",
          "text": [
            "Requirement already satisfied: keras-rl2 in /usr/local/lib/python3.7/dist-packages (1.0.5)\n",
            "Requirement already satisfied: tensorflow in /usr/local/lib/python3.7/dist-packages (from keras-rl2) (2.8.0)\n",
            "Requirement already satisfied: keras-preprocessing>=1.1.1 in /usr/local/lib/python3.7/dist-packages (from tensorflow->keras-rl2) (1.1.2)\n",
            "Requirement already satisfied: protobuf>=3.9.2 in /usr/local/lib/python3.7/dist-packages (from tensorflow->keras-rl2) (3.17.3)\n",
            "Requirement already satisfied: tensorflow-io-gcs-filesystem>=0.23.1 in /usr/local/lib/python3.7/dist-packages (from tensorflow->keras-rl2) (0.24.0)\n",
            "Requirement already satisfied: libclang>=9.0.1 in /usr/local/lib/python3.7/dist-packages (from tensorflow->keras-rl2) (13.0.0)\n",
            "Requirement already satisfied: h5py>=2.9.0 in /usr/local/lib/python3.7/dist-packages (from tensorflow->keras-rl2) (3.1.0)\n",
            "Requirement already satisfied: opt-einsum>=2.3.2 in /usr/local/lib/python3.7/dist-packages (from tensorflow->keras-rl2) (3.3.0)\n",
            "Requirement already satisfied: gast>=0.2.1 in /usr/local/lib/python3.7/dist-packages (from tensorflow->keras-rl2) (0.5.3)\n",
            "Requirement already satisfied: grpcio<2.0,>=1.24.3 in /usr/local/lib/python3.7/dist-packages (from tensorflow->keras-rl2) (1.44.0)\n",
            "Requirement already satisfied: tensorboard<2.9,>=2.8 in /usr/local/lib/python3.7/dist-packages (from tensorflow->keras-rl2) (2.8.0)\n",
            "Requirement already satisfied: wrapt>=1.11.0 in /usr/local/lib/python3.7/dist-packages (from tensorflow->keras-rl2) (1.14.0)\n",
            "Requirement already satisfied: absl-py>=0.4.0 in /usr/local/lib/python3.7/dist-packages (from tensorflow->keras-rl2) (1.0.0)\n",
            "Requirement already satisfied: flatbuffers>=1.12 in /usr/local/lib/python3.7/dist-packages (from tensorflow->keras-rl2) (2.0)\n",
            "Requirement already satisfied: termcolor>=1.1.0 in /usr/local/lib/python3.7/dist-packages (from tensorflow->keras-rl2) (1.1.0)\n",
            "Requirement already satisfied: keras<2.9,>=2.8.0rc0 in /usr/local/lib/python3.7/dist-packages (from tensorflow->keras-rl2) (2.8.0)\n",
            "Requirement already satisfied: six>=1.12.0 in /usr/local/lib/python3.7/dist-packages (from tensorflow->keras-rl2) (1.15.0)\n",
            "Requirement already satisfied: tf-estimator-nightly==2.8.0.dev2021122109 in /usr/local/lib/python3.7/dist-packages (from tensorflow->keras-rl2) (2.8.0.dev2021122109)\n",
            "Requirement already satisfied: numpy>=1.20 in /usr/local/lib/python3.7/dist-packages (from tensorflow->keras-rl2) (1.21.5)\n",
            "Requirement already satisfied: astunparse>=1.6.0 in /usr/local/lib/python3.7/dist-packages (from tensorflow->keras-rl2) (1.6.3)\n",
            "Requirement already satisfied: typing-extensions>=3.6.6 in /usr/local/lib/python3.7/dist-packages (from tensorflow->keras-rl2) (3.10.0.2)\n",
            "Requirement already satisfied: setuptools in /usr/local/lib/python3.7/dist-packages (from tensorflow->keras-rl2) (57.4.0)\n",
            "Requirement already satisfied: google-pasta>=0.1.1 in /usr/local/lib/python3.7/dist-packages (from tensorflow->keras-rl2) (0.2.0)\n",
            "Requirement already satisfied: wheel<1.0,>=0.23.0 in /usr/local/lib/python3.7/dist-packages (from astunparse>=1.6.0->tensorflow->keras-rl2) (0.37.1)\n",
            "Requirement already satisfied: cached-property in /usr/local/lib/python3.7/dist-packages (from h5py>=2.9.0->tensorflow->keras-rl2) (1.5.2)\n",
            "Requirement already satisfied: google-auth-oauthlib<0.5,>=0.4.1 in /usr/local/lib/python3.7/dist-packages (from tensorboard<2.9,>=2.8->tensorflow->keras-rl2) (0.4.6)\n",
            "Requirement already satisfied: requests<3,>=2.21.0 in /usr/local/lib/python3.7/dist-packages (from tensorboard<2.9,>=2.8->tensorflow->keras-rl2) (2.23.0)\n",
            "Requirement already satisfied: werkzeug>=0.11.15 in /usr/local/lib/python3.7/dist-packages (from tensorboard<2.9,>=2.8->tensorflow->keras-rl2) (1.0.1)\n",
            "Requirement already satisfied: markdown>=2.6.8 in /usr/local/lib/python3.7/dist-packages (from tensorboard<2.9,>=2.8->tensorflow->keras-rl2) (3.3.6)\n",
            "Requirement already satisfied: google-auth<3,>=1.6.3 in /usr/local/lib/python3.7/dist-packages (from tensorboard<2.9,>=2.8->tensorflow->keras-rl2) (1.35.0)\n",
            "Requirement already satisfied: tensorboard-data-server<0.7.0,>=0.6.0 in /usr/local/lib/python3.7/dist-packages (from tensorboard<2.9,>=2.8->tensorflow->keras-rl2) (0.6.1)\n",
            "Requirement already satisfied: tensorboard-plugin-wit>=1.6.0 in /usr/local/lib/python3.7/dist-packages (from tensorboard<2.9,>=2.8->tensorflow->keras-rl2) (1.8.1)\n",
            "Requirement already satisfied: pyasn1-modules>=0.2.1 in /usr/local/lib/python3.7/dist-packages (from google-auth<3,>=1.6.3->tensorboard<2.9,>=2.8->tensorflow->keras-rl2) (0.2.8)\n",
            "Requirement already satisfied: cachetools<5.0,>=2.0.0 in /usr/local/lib/python3.7/dist-packages (from google-auth<3,>=1.6.3->tensorboard<2.9,>=2.8->tensorflow->keras-rl2) (4.2.4)\n",
            "Requirement already satisfied: rsa<5,>=3.1.4 in /usr/local/lib/python3.7/dist-packages (from google-auth<3,>=1.6.3->tensorboard<2.9,>=2.8->tensorflow->keras-rl2) (4.8)\n",
            "Requirement already satisfied: requests-oauthlib>=0.7.0 in /usr/local/lib/python3.7/dist-packages (from google-auth-oauthlib<0.5,>=0.4.1->tensorboard<2.9,>=2.8->tensorflow->keras-rl2) (1.3.1)\n",
            "Requirement already satisfied: importlib-metadata>=4.4 in /usr/local/lib/python3.7/dist-packages (from markdown>=2.6.8->tensorboard<2.9,>=2.8->tensorflow->keras-rl2) (4.11.3)\n",
            "Requirement already satisfied: zipp>=0.5 in /usr/local/lib/python3.7/dist-packages (from importlib-metadata>=4.4->markdown>=2.6.8->tensorboard<2.9,>=2.8->tensorflow->keras-rl2) (3.7.0)\n",
            "Requirement already satisfied: pyasn1<0.5.0,>=0.4.6 in /usr/local/lib/python3.7/dist-packages (from pyasn1-modules>=0.2.1->google-auth<3,>=1.6.3->tensorboard<2.9,>=2.8->tensorflow->keras-rl2) (0.4.8)\n",
            "Requirement already satisfied: chardet<4,>=3.0.2 in /usr/local/lib/python3.7/dist-packages (from requests<3,>=2.21.0->tensorboard<2.9,>=2.8->tensorflow->keras-rl2) (3.0.4)\n",
            "Requirement already satisfied: urllib3!=1.25.0,!=1.25.1,<1.26,>=1.21.1 in /usr/local/lib/python3.7/dist-packages (from requests<3,>=2.21.0->tensorboard<2.9,>=2.8->tensorflow->keras-rl2) (1.24.3)\n",
            "Requirement already satisfied: idna<3,>=2.5 in /usr/local/lib/python3.7/dist-packages (from requests<3,>=2.21.0->tensorboard<2.9,>=2.8->tensorflow->keras-rl2) (2.10)\n",
            "Requirement already satisfied: certifi>=2017.4.17 in /usr/local/lib/python3.7/dist-packages (from requests<3,>=2.21.0->tensorboard<2.9,>=2.8->tensorflow->keras-rl2) (2021.10.8)\n",
            "Requirement already satisfied: oauthlib>=3.0.0 in /usr/local/lib/python3.7/dist-packages (from requests-oauthlib>=0.7.0->google-auth-oauthlib<0.5,>=0.4.1->tensorboard<2.9,>=2.8->tensorflow->keras-rl2) (3.2.0)\n"
          ]
        }
      ]
    },
    {
      "cell_type": "code",
      "metadata": {
        "id": "XMIHLgQ3Z-lF",
        "colab": {
          "base_uri": "https://localhost:8080/"
        },
        "outputId": "3d5a8608-456f-4127-ce8a-f551e5f4e4f3"
      },
      "source": [
        "!pip install gym"
      ],
      "execution_count": 58,
      "outputs": [
        {
          "output_type": "stream",
          "name": "stdout",
          "text": [
            "Requirement already satisfied: gym in /usr/local/lib/python3.7/dist-packages (0.17.3)\n",
            "Requirement already satisfied: numpy>=1.10.4 in /usr/local/lib/python3.7/dist-packages (from gym) (1.21.5)\n",
            "Requirement already satisfied: scipy in /usr/local/lib/python3.7/dist-packages (from gym) (1.4.1)\n",
            "Requirement already satisfied: pyglet<=1.5.0,>=1.4.0 in /usr/local/lib/python3.7/dist-packages (from gym) (1.5.0)\n",
            "Requirement already satisfied: cloudpickle<1.7.0,>=1.2.0 in /usr/local/lib/python3.7/dist-packages (from gym) (1.3.0)\n",
            "Requirement already satisfied: future in /usr/local/lib/python3.7/dist-packages (from pyglet<=1.5.0,>=1.4.0->gym) (0.16.0)\n"
          ]
        }
      ]
    },
    {
      "cell_type": "code",
      "metadata": {
        "id": "M0AMLzq08ap0",
        "colab": {
          "base_uri": "https://localhost:8080/"
        },
        "outputId": "77b380e1-6c3d-4bce-8233-a8ac01deaf26"
      },
      "source": [
        "# load the gym module\n",
        "import gym\n",
        "import matplotlib.pyplot as plt\n",
        "# import the usual Keras modules for creating deep neural networks\n",
        "from keras import Sequential\n",
        "from keras.layers import Input, Flatten, Dense\n",
        "!pip install Adam\n",
        "#from keras.optimizers import Adam\n",
        "from tensorflow.keras.optimizers import Adam\n",
        "ENV_NAME = 'CartPole-v0'\n",
        "env = gym.make(ENV_NAME)"
      ],
      "execution_count": 62,
      "outputs": [
        {
          "output_type": "stream",
          "name": "stdout",
          "text": [
            "Requirement already satisfied: Adam in /usr/local/lib/python3.7/dist-packages (0.0.0.dev0)\n"
          ]
        }
      ]
    },
    {
      "cell_type": "markdown",
      "metadata": {
        "id": "ll6bNdUm54WS"
      },
      "source": [
        "Implementation of DQN for CartPole, applying policy BoltzmannQPolicy"
      ]
    },
    {
      "cell_type": "markdown",
      "metadata": {
        "id": "RSCrPKNy40PC"
      },
      "source": [
        "##Implement DQN with BoltzmannGumbelQPolicy"
      ]
    },
    {
      "cell_type": "code",
      "metadata": {
        "id": "efM9jkXr5A3c",
        "colab": {
          "base_uri": "https://localhost:8080/",
          "height": 1000
        },
        "outputId": "0db9f804-e5b1-453e-a47a-909b3367b8b7"
      },
      "source": [
        "import rl\n",
        "from rl.memory import SequentialMemory  # import the exerience replay buffer module\n",
        "from rl.policy import BoltzmannGumbelQPolicy\n",
        "from rl.policy import LinearAnnealedPolicy\n",
        "from rl.policy import EpsGreedyQPolicy\n",
        "from rl.agents.dqn import DQNAgent      # import the DQN agent\n",
        "\n",
        "# setup experience replay buffer\n",
        "memory = SequentialMemory(limit=10000, window_length=1)\n",
        "\n",
        "policy = LinearAnnealedPolicy(EpsGreedyQPolicy(), \n",
        "                               attr='eps',            \n",
        "                               value_max=4.,\n",
        "                               value_min=.4, \n",
        "                               value_test=.05,\n",
        "                               nb_steps=20)\n",
        "# Q-Network\n",
        "model = Sequential()\n",
        "model.add(Input(shape=(1,env.observation_space.shape[0])))  # The input is 1 observation vector, and the number of observations in that vector \n",
        "model.add(Flatten())\n",
        "model.add(Dense(16, activation='relu'))\n",
        "# add extra layers here\n",
        "model.add(Dense(env.action_space.n, activation='linear'))   # the output is the number of actions in the action space\n",
        "\n",
        "print(model.summary())\n",
        "\n",
        "# define the agent\n",
        "dqn = DQNAgent(model=model, \n",
        "               nb_actions=env.action_space.n,\n",
        "               memory=memory,\n",
        "               nb_steps_warmup=20,\n",
        "               target_model_update=1e-2, \n",
        "               policy=policy) \n",
        "\n",
        "dqn.compile(Adam(lr=1e-3), metrics=['mae'])\n",
        "\n",
        "history = dqn.fit(env, nb_steps=6000, visualize=False, verbose=2)\n",
        "\n",
        "# summarize the history for number  of episode steps\n",
        "plt.plot(history.history['nb_episode_steps'])\n",
        "plt.ylabel('nb_episode_steps')\n",
        "plt.xlabel('episodes')\n",
        "plt.show()\n",
        "\n",
        "dqn.test(env, nb_episodes=20, visualize=False)"
      ],
      "execution_count": 85,
      "outputs": [
        {
          "output_type": "stream",
          "name": "stdout",
          "text": [
            "Model: \"sequential_36\"\n",
            "_________________________________________________________________\n",
            " Layer (type)                Output Shape              Param #   \n",
            "=================================================================\n",
            " flatten_34 (Flatten)        (None, 4)                 0         \n",
            "                                                                 \n",
            " dense_69 (Dense)            (None, 16)                80        \n",
            "                                                                 \n",
            " dense_70 (Dense)            (None, 2)                 34        \n",
            "                                                                 \n",
            "=================================================================\n",
            "Total params: 114\n",
            "Trainable params: 114\n",
            "Non-trainable params: 0\n",
            "_________________________________________________________________\n",
            "None\n"
          ]
        },
        {
          "output_type": "stream",
          "name": "stderr",
          "text": [
            "/usr/local/lib/python3.7/dist-packages/keras/optimizer_v2/adam.py:105: UserWarning: The `lr` argument is deprecated, use `learning_rate` instead.\n",
            "  super(Adam, self).__init__(name, **kwargs)\n"
          ]
        },
        {
          "output_type": "stream",
          "name": "stdout",
          "text": [
            "Training for 6000 steps ...\n"
          ]
        },
        {
          "output_type": "stream",
          "name": "stderr",
          "text": [
            "/usr/local/lib/python3.7/dist-packages/keras/engine/training_v1.py:2079: UserWarning: `Model.state_updates` will be removed in a future version. This property should not be used in TensorFlow 2.0, as `updates` are applied automatically.\n",
            "  updates=self.state_updates,\n",
            "/usr/local/lib/python3.7/dist-packages/rl/memory.py:37: UserWarning: Not enough entries to sample without replacement. Consider increasing your warm-up phase to avoid oversampling!\n",
            "  warnings.warn('Not enough entries to sample without replacement. Consider increasing your warm-up phase to avoid oversampling!')\n"
          ]
        },
        {
          "output_type": "stream",
          "name": "stdout",
          "text": [
            "   21/6000: episode: 1, duration: 8.238s, episode steps:  21, steps per second:   3, episode reward: 21.000, mean reward:  1.000 [ 1.000,  1.000], mean action: 0.381 [0.000, 1.000],  loss: --, mae: --, mean_q: --, mean_eps: --\n"
          ]
        },
        {
          "output_type": "stream",
          "name": "stderr",
          "text": [
            "/usr/local/lib/python3.7/dist-packages/rl/memory.py:37: UserWarning: Not enough entries to sample without replacement. Consider increasing your warm-up phase to avoid oversampling!\n",
            "  warnings.warn('Not enough entries to sample without replacement. Consider increasing your warm-up phase to avoid oversampling!')\n"
          ]
        },
        {
          "output_type": "stream",
          "name": "stdout",
          "text": [
            "   50/6000: episode: 2, duration: 0.364s, episode steps:  29, steps per second:  80, episode reward: 29.000, mean reward:  1.000 [ 1.000,  1.000], mean action: 0.552 [0.000, 1.000],  loss: 0.546896, mae: 0.652534, mean_q: 0.414838, mean_eps: 0.400000\n",
            "   65/6000: episode: 3, duration: 0.194s, episode steps:  15, steps per second:  77, episode reward: 15.000, mean reward:  1.000 [ 1.000,  1.000], mean action: 0.133 [0.000, 1.000],  loss: 0.427334, mae: 0.595762, mean_q: 0.423149, mean_eps: 0.400000\n",
            "   75/6000: episode: 4, duration: 0.162s, episode steps:  10, steps per second:  62, episode reward: 10.000, mean reward:  1.000 [ 1.000,  1.000], mean action: 0.000 [0.000, 0.000],  loss: 0.429660, mae: 0.654927, mean_q: 0.680041, mean_eps: 0.400000\n",
            "   85/6000: episode: 5, duration: 0.132s, episode steps:  10, steps per second:  76, episode reward: 10.000, mean reward:  1.000 [ 1.000,  1.000], mean action: 0.300 [0.000, 1.000],  loss: 0.426140, mae: 0.710891, mean_q: 0.876172, mean_eps: 0.400000\n",
            "   97/6000: episode: 6, duration: 0.161s, episode steps:  12, steps per second:  75, episode reward: 12.000, mean reward:  1.000 [ 1.000,  1.000], mean action: 0.250 [0.000, 1.000],  loss: 0.420865, mae: 0.775012, mean_q: 1.053384, mean_eps: 0.400000\n",
            "  111/6000: episode: 7, duration: 0.172s, episode steps:  14, steps per second:  81, episode reward: 14.000, mean reward:  1.000 [ 1.000,  1.000], mean action: 0.214 [0.000, 1.000],  loss: 0.398350, mae: 0.800033, mean_q: 1.103455, mean_eps: 0.400000\n",
            "  132/6000: episode: 8, duration: 0.261s, episode steps:  21, steps per second:  80, episode reward: 21.000, mean reward:  1.000 [ 1.000,  1.000], mean action: 0.286 [0.000, 1.000],  loss: 0.362665, mae: 0.851785, mean_q: 1.247904, mean_eps: 0.400000\n",
            "  146/6000: episode: 9, duration: 0.215s, episode steps:  14, steps per second:  65, episode reward: 14.000, mean reward:  1.000 [ 1.000,  1.000], mean action: 0.143 [0.000, 1.000],  loss: 0.388319, mae: 0.907269, mean_q: 1.395155, mean_eps: 0.400000\n",
            "  156/6000: episode: 10, duration: 0.155s, episode steps:  10, steps per second:  64, episode reward: 10.000, mean reward:  1.000 [ 1.000,  1.000], mean action: 0.200 [0.000, 1.000],  loss: 0.432417, mae: 0.987788, mean_q: 1.504797, mean_eps: 0.400000\n",
            "  167/6000: episode: 11, duration: 0.184s, episode steps:  11, steps per second:  60, episode reward: 11.000, mean reward:  1.000 [ 1.000,  1.000], mean action: 0.091 [0.000, 1.000],  loss: 0.343062, mae: 0.995148, mean_q: 1.537878, mean_eps: 0.400000\n",
            "  179/6000: episode: 12, duration: 0.233s, episode steps:  12, steps per second:  51, episode reward: 12.000, mean reward:  1.000 [ 1.000,  1.000], mean action: 0.167 [0.000, 1.000],  loss: 0.502708, mae: 1.121406, mean_q: 1.790237, mean_eps: 0.400000\n",
            "  190/6000: episode: 13, duration: 0.200s, episode steps:  11, steps per second:  55, episode reward: 11.000, mean reward:  1.000 [ 1.000,  1.000], mean action: 0.091 [0.000, 1.000],  loss: 0.497398, mae: 1.125619, mean_q: 1.713004, mean_eps: 0.400000\n",
            "  199/6000: episode: 14, duration: 0.186s, episode steps:   9, steps per second:  48, episode reward:  9.000, mean reward:  1.000 [ 1.000,  1.000], mean action: 0.111 [0.000, 1.000],  loss: 0.446094, mae: 1.155575, mean_q: 1.786333, mean_eps: 0.400000\n",
            "  211/6000: episode: 15, duration: 0.248s, episode steps:  12, steps per second:  48, episode reward: 12.000, mean reward:  1.000 [ 1.000,  1.000], mean action: 0.167 [0.000, 1.000],  loss: 0.418657, mae: 1.180086, mean_q: 1.838319, mean_eps: 0.400000\n",
            "  222/6000: episode: 16, duration: 0.194s, episode steps:  11, steps per second:  57, episode reward: 11.000, mean reward:  1.000 [ 1.000,  1.000], mean action: 0.091 [0.000, 1.000],  loss: 0.573874, mae: 1.302790, mean_q: 2.051586, mean_eps: 0.400000\n",
            "  233/6000: episode: 17, duration: 0.193s, episode steps:  11, steps per second:  57, episode reward: 11.000, mean reward:  1.000 [ 1.000,  1.000], mean action: 0.182 [0.000, 1.000],  loss: 0.493827, mae: 1.333512, mean_q: 2.142196, mean_eps: 0.400000\n",
            "  247/6000: episode: 18, duration: 0.181s, episode steps:  14, steps per second:  77, episode reward: 14.000, mean reward:  1.000 [ 1.000,  1.000], mean action: 0.214 [0.000, 1.000],  loss: 0.472315, mae: 1.361193, mean_q: 2.199456, mean_eps: 0.400000\n",
            "  265/6000: episode: 19, duration: 0.236s, episode steps:  18, steps per second:  76, episode reward: 18.000, mean reward:  1.000 [ 1.000,  1.000], mean action: 0.333 [0.000, 1.000],  loss: 0.515837, mae: 1.399351, mean_q: 2.316779, mean_eps: 0.400000\n",
            "  275/6000: episode: 20, duration: 0.145s, episode steps:  10, steps per second:  69, episode reward: 10.000, mean reward:  1.000 [ 1.000,  1.000], mean action: 0.100 [0.000, 1.000],  loss: 0.614906, mae: 1.505618, mean_q: 2.488524, mean_eps: 0.400000\n",
            "  285/6000: episode: 21, duration: 0.145s, episode steps:  10, steps per second:  69, episode reward: 10.000, mean reward:  1.000 [ 1.000,  1.000], mean action: 0.100 [0.000, 1.000],  loss: 0.639168, mae: 1.569049, mean_q: 2.560577, mean_eps: 0.400000\n",
            "  297/6000: episode: 22, duration: 0.160s, episode steps:  12, steps per second:  75, episode reward: 12.000, mean reward:  1.000 [ 1.000,  1.000], mean action: 0.250 [0.000, 1.000],  loss: 0.618265, mae: 1.600320, mean_q: 2.613533, mean_eps: 0.400000\n",
            "  310/6000: episode: 23, duration: 0.171s, episode steps:  13, steps per second:  76, episode reward: 13.000, mean reward:  1.000 [ 1.000,  1.000], mean action: 0.077 [0.000, 1.000],  loss: 0.554126, mae: 1.605350, mean_q: 2.635749, mean_eps: 0.400000\n",
            "  322/6000: episode: 24, duration: 0.162s, episode steps:  12, steps per second:  74, episode reward: 12.000, mean reward:  1.000 [ 1.000,  1.000], mean action: 0.167 [0.000, 1.000],  loss: 0.469865, mae: 1.621843, mean_q: 2.763663, mean_eps: 0.400000\n",
            "  344/6000: episode: 25, duration: 0.305s, episode steps:  22, steps per second:  72, episode reward: 22.000, mean reward:  1.000 [ 1.000,  1.000], mean action: 0.227 [0.000, 1.000],  loss: 0.627074, mae: 1.707614, mean_q: 2.909642, mean_eps: 0.400000\n",
            "  353/6000: episode: 26, duration: 0.119s, episode steps:   9, steps per second:  76, episode reward:  9.000, mean reward:  1.000 [ 1.000,  1.000], mean action: 0.000 [0.000, 0.000],  loss: 0.575868, mae: 1.731222, mean_q: 2.979853, mean_eps: 0.400000\n",
            "  372/6000: episode: 27, duration: 0.232s, episode steps:  19, steps per second:  82, episode reward: 19.000, mean reward:  1.000 [ 1.000,  1.000], mean action: 0.263 [0.000, 1.000],  loss: 0.705695, mae: 1.794435, mean_q: 3.069280, mean_eps: 0.400000\n",
            "  381/6000: episode: 28, duration: 0.117s, episode steps:   9, steps per second:  77, episode reward:  9.000, mean reward:  1.000 [ 1.000,  1.000], mean action: 0.111 [0.000, 1.000],  loss: 0.556502, mae: 1.811125, mean_q: 3.202378, mean_eps: 0.400000\n",
            "  396/6000: episode: 29, duration: 0.198s, episode steps:  15, steps per second:  76, episode reward: 15.000, mean reward:  1.000 [ 1.000,  1.000], mean action: 0.267 [0.000, 1.000],  loss: 0.549787, mae: 1.790905, mean_q: 3.243903, mean_eps: 0.400000\n",
            "  405/6000: episode: 30, duration: 0.124s, episode steps:   9, steps per second:  73, episode reward:  9.000, mean reward:  1.000 [ 1.000,  1.000], mean action: 0.000 [0.000, 0.000],  loss: 0.682676, mae: 1.880258, mean_q: 3.363742, mean_eps: 0.400000\n",
            "  417/6000: episode: 31, duration: 0.182s, episode steps:  12, steps per second:  66, episode reward: 12.000, mean reward:  1.000 [ 1.000,  1.000], mean action: 0.250 [0.000, 1.000],  loss: 0.454814, mae: 1.861800, mean_q: 3.426268, mean_eps: 0.400000\n",
            "  427/6000: episode: 32, duration: 0.146s, episode steps:  10, steps per second:  68, episode reward: 10.000, mean reward:  1.000 [ 1.000,  1.000], mean action: 0.000 [0.000, 0.000],  loss: 0.583925, mae: 1.909255, mean_q: 3.505774, mean_eps: 0.400000\n",
            "  438/6000: episode: 33, duration: 0.174s, episode steps:  11, steps per second:  63, episode reward: 11.000, mean reward:  1.000 [ 1.000,  1.000], mean action: 0.182 [0.000, 1.000],  loss: 0.582161, mae: 1.959107, mean_q: 3.574273, mean_eps: 0.400000\n",
            "  448/6000: episode: 34, duration: 0.145s, episode steps:  10, steps per second:  69, episode reward: 10.000, mean reward:  1.000 [ 1.000,  1.000], mean action: 0.100 [0.000, 1.000],  loss: 0.686833, mae: 2.011420, mean_q: 3.660051, mean_eps: 0.400000\n",
            "  460/6000: episode: 35, duration: 0.168s, episode steps:  12, steps per second:  72, episode reward: 12.000, mean reward:  1.000 [ 1.000,  1.000], mean action: 0.167 [0.000, 1.000],  loss: 0.525258, mae: 2.008751, mean_q: 3.683712, mean_eps: 0.400000\n",
            "  474/6000: episode: 36, duration: 0.194s, episode steps:  14, steps per second:  72, episode reward: 14.000, mean reward:  1.000 [ 1.000,  1.000], mean action: 0.286 [0.000, 1.000],  loss: 0.566587, mae: 2.090815, mean_q: 3.851289, mean_eps: 0.400000\n",
            "  485/6000: episode: 37, duration: 0.179s, episode steps:  11, steps per second:  61, episode reward: 11.000, mean reward:  1.000 [ 1.000,  1.000], mean action: 0.273 [0.000, 1.000],  loss: 0.547099, mae: 2.105591, mean_q: 3.914585, mean_eps: 0.400000\n",
            "  502/6000: episode: 38, duration: 0.274s, episode steps:  17, steps per second:  62, episode reward: 17.000, mean reward:  1.000 [ 1.000,  1.000], mean action: 0.353 [0.000, 1.000],  loss: 0.511597, mae: 2.164808, mean_q: 3.970210, mean_eps: 0.400000\n",
            "  512/6000: episode: 39, duration: 0.169s, episode steps:  10, steps per second:  59, episode reward: 10.000, mean reward:  1.000 [ 1.000,  1.000], mean action: 0.200 [0.000, 1.000],  loss: 0.553339, mae: 2.206930, mean_q: 4.004180, mean_eps: 0.400000\n",
            "  523/6000: episode: 40, duration: 0.200s, episode steps:  11, steps per second:  55, episode reward: 11.000, mean reward:  1.000 [ 1.000,  1.000], mean action: 0.273 [0.000, 1.000],  loss: 0.557870, mae: 2.299020, mean_q: 4.125731, mean_eps: 0.400000\n",
            "  534/6000: episode: 41, duration: 0.153s, episode steps:  11, steps per second:  72, episode reward: 11.000, mean reward:  1.000 [ 1.000,  1.000], mean action: 0.273 [0.000, 1.000],  loss: 0.570539, mae: 2.264206, mean_q: 4.179376, mean_eps: 0.400000\n",
            "  548/6000: episode: 42, duration: 0.199s, episode steps:  14, steps per second:  70, episode reward: 14.000, mean reward:  1.000 [ 1.000,  1.000], mean action: 0.286 [0.000, 1.000],  loss: 0.443252, mae: 2.264269, mean_q: 4.252003, mean_eps: 0.400000\n",
            "  558/6000: episode: 43, duration: 0.154s, episode steps:  10, steps per second:  65, episode reward: 10.000, mean reward:  1.000 [ 1.000,  1.000], mean action: 0.300 [0.000, 1.000],  loss: 0.662492, mae: 2.379642, mean_q: 4.393722, mean_eps: 0.400000\n",
            "  567/6000: episode: 44, duration: 0.147s, episode steps:   9, steps per second:  61, episode reward:  9.000, mean reward:  1.000 [ 1.000,  1.000], mean action: 0.222 [0.000, 1.000],  loss: 0.470434, mae: 2.348477, mean_q: 4.378721, mean_eps: 0.400000\n",
            "  582/6000: episode: 45, duration: 0.220s, episode steps:  15, steps per second:  68, episode reward: 15.000, mean reward:  1.000 [ 1.000,  1.000], mean action: 0.267 [0.000, 1.000],  loss: 0.488171, mae: 2.385261, mean_q: 4.445930, mean_eps: 0.400000\n",
            "  591/6000: episode: 46, duration: 0.146s, episode steps:   9, steps per second:  61, episode reward:  9.000, mean reward:  1.000 [ 1.000,  1.000], mean action: 0.111 [0.000, 1.000],  loss: 0.578673, mae: 2.408107, mean_q: 4.519289, mean_eps: 0.400000\n",
            "  601/6000: episode: 47, duration: 0.153s, episode steps:  10, steps per second:  65, episode reward: 10.000, mean reward:  1.000 [ 1.000,  1.000], mean action: 0.200 [0.000, 1.000],  loss: 0.393834, mae: 2.402170, mean_q: 4.605106, mean_eps: 0.400000\n",
            "  614/6000: episode: 48, duration: 0.188s, episode steps:  13, steps per second:  69, episode reward: 13.000, mean reward:  1.000 [ 1.000,  1.000], mean action: 0.231 [0.000, 1.000],  loss: 0.632342, mae: 2.517752, mean_q: 4.705943, mean_eps: 0.400000\n",
            "  623/6000: episode: 49, duration: 0.137s, episode steps:   9, steps per second:  65, episode reward:  9.000, mean reward:  1.000 [ 1.000,  1.000], mean action: 0.111 [0.000, 1.000],  loss: 0.561022, mae: 2.505802, mean_q: 4.662786, mean_eps: 0.400000\n",
            "  633/6000: episode: 50, duration: 0.146s, episode steps:  10, steps per second:  68, episode reward: 10.000, mean reward:  1.000 [ 1.000,  1.000], mean action: 0.100 [0.000, 1.000],  loss: 0.631295, mae: 2.552041, mean_q: 4.653469, mean_eps: 0.400000\n",
            "  642/6000: episode: 51, duration: 0.133s, episode steps:   9, steps per second:  68, episode reward:  9.000, mean reward:  1.000 [ 1.000,  1.000], mean action: 0.111 [0.000, 1.000],  loss: 0.469145, mae: 2.543568, mean_q: 4.741904, mean_eps: 0.400000\n",
            "  654/6000: episode: 52, duration: 0.156s, episode steps:  12, steps per second:  77, episode reward: 12.000, mean reward:  1.000 [ 1.000,  1.000], mean action: 0.250 [0.000, 1.000],  loss: 0.425420, mae: 2.561551, mean_q: 4.932236, mean_eps: 0.400000\n",
            "  664/6000: episode: 53, duration: 0.153s, episode steps:  10, steps per second:  65, episode reward: 10.000, mean reward:  1.000 [ 1.000,  1.000], mean action: 0.200 [0.000, 1.000],  loss: 0.405352, mae: 2.598954, mean_q: 5.051636, mean_eps: 0.400000\n",
            "  676/6000: episode: 54, duration: 0.158s, episode steps:  12, steps per second:  76, episode reward: 12.000, mean reward:  1.000 [ 1.000,  1.000], mean action: 0.250 [0.000, 1.000],  loss: 0.508019, mae: 2.684412, mean_q: 5.087638, mean_eps: 0.400000\n",
            "  689/6000: episode: 55, duration: 0.193s, episode steps:  13, steps per second:  67, episode reward: 13.000, mean reward:  1.000 [ 1.000,  1.000], mean action: 0.308 [0.000, 1.000],  loss: 0.536463, mae: 2.743840, mean_q: 5.072471, mean_eps: 0.400000\n",
            "  699/6000: episode: 56, duration: 0.135s, episode steps:  10, steps per second:  74, episode reward: 10.000, mean reward:  1.000 [ 1.000,  1.000], mean action: 0.200 [0.000, 1.000],  loss: 0.596099, mae: 2.782603, mean_q: 5.078196, mean_eps: 0.400000\n",
            "  711/6000: episode: 57, duration: 0.165s, episode steps:  12, steps per second:  73, episode reward: 12.000, mean reward:  1.000 [ 1.000,  1.000], mean action: 0.250 [0.000, 1.000],  loss: 0.554148, mae: 2.781096, mean_q: 5.130500, mean_eps: 0.400000\n",
            "  730/6000: episode: 58, duration: 0.253s, episode steps:  19, steps per second:  75, episode reward: 19.000, mean reward:  1.000 [ 1.000,  1.000], mean action: 0.368 [0.000, 1.000],  loss: 0.535938, mae: 2.820066, mean_q: 5.292028, mean_eps: 0.400000\n",
            "  740/6000: episode: 59, duration: 0.137s, episode steps:  10, steps per second:  73, episode reward: 10.000, mean reward:  1.000 [ 1.000,  1.000], mean action: 0.100 [0.000, 1.000],  loss: 0.433900, mae: 2.827032, mean_q: 5.326239, mean_eps: 0.400000\n",
            "  749/6000: episode: 60, duration: 0.133s, episode steps:   9, steps per second:  68, episode reward:  9.000, mean reward:  1.000 [ 1.000,  1.000], mean action: 0.222 [0.000, 1.000],  loss: 0.330774, mae: 2.835103, mean_q: 5.397380, mean_eps: 0.400000\n",
            "  760/6000: episode: 61, duration: 0.146s, episode steps:  11, steps per second:  75, episode reward: 11.000, mean reward:  1.000 [ 1.000,  1.000], mean action: 0.182 [0.000, 1.000],  loss: 0.737994, mae: 2.940222, mean_q: 5.401612, mean_eps: 0.400000\n",
            "  769/6000: episode: 62, duration: 0.153s, episode steps:   9, steps per second:  59, episode reward:  9.000, mean reward:  1.000 [ 1.000,  1.000], mean action: 0.111 [0.000, 1.000],  loss: 0.472021, mae: 2.906168, mean_q: 5.409308, mean_eps: 0.400000\n",
            "  779/6000: episode: 63, duration: 0.158s, episode steps:  10, steps per second:  63, episode reward: 10.000, mean reward:  1.000 [ 1.000,  1.000], mean action: 0.100 [0.000, 1.000],  loss: 0.551949, mae: 2.945721, mean_q: 5.421302, mean_eps: 0.400000\n",
            "  794/6000: episode: 64, duration: 0.214s, episode steps:  15, steps per second:  70, episode reward: 15.000, mean reward:  1.000 [ 1.000,  1.000], mean action: 0.267 [0.000, 1.000],  loss: 0.571114, mae: 2.976593, mean_q: 5.477916, mean_eps: 0.400000\n",
            "  806/6000: episode: 65, duration: 0.155s, episode steps:  12, steps per second:  78, episode reward: 12.000, mean reward:  1.000 [ 1.000,  1.000], mean action: 0.250 [0.000, 1.000],  loss: 0.526198, mae: 3.006740, mean_q: 5.466695, mean_eps: 0.400000\n",
            "  816/6000: episode: 66, duration: 0.141s, episode steps:  10, steps per second:  71, episode reward: 10.000, mean reward:  1.000 [ 1.000,  1.000], mean action: 0.200 [0.000, 1.000],  loss: 0.500535, mae: 2.997130, mean_q: 5.586398, mean_eps: 0.400000\n",
            "  827/6000: episode: 67, duration: 0.143s, episode steps:  11, steps per second:  77, episode reward: 11.000, mean reward:  1.000 [ 1.000,  1.000], mean action: 0.182 [0.000, 1.000],  loss: 0.489434, mae: 3.027902, mean_q: 5.687922, mean_eps: 0.400000\n",
            "  838/6000: episode: 68, duration: 0.165s, episode steps:  11, steps per second:  67, episode reward: 11.000, mean reward:  1.000 [ 1.000,  1.000], mean action: 0.273 [0.000, 1.000],  loss: 0.461545, mae: 3.096850, mean_q: 5.767780, mean_eps: 0.400000\n",
            "  851/6000: episode: 69, duration: 0.162s, episode steps:  13, steps per second:  80, episode reward: 13.000, mean reward:  1.000 [ 1.000,  1.000], mean action: 0.308 [0.000, 1.000],  loss: 0.343121, mae: 3.115878, mean_q: 5.859821, mean_eps: 0.400000\n",
            "  865/6000: episode: 70, duration: 0.183s, episode steps:  14, steps per second:  76, episode reward: 14.000, mean reward:  1.000 [ 1.000,  1.000], mean action: 0.429 [0.000, 1.000],  loss: 0.486664, mae: 3.185331, mean_q: 5.914138, mean_eps: 0.400000\n",
            "  889/6000: episode: 71, duration: 0.335s, episode steps:  24, steps per second:  72, episode reward: 24.000, mean reward:  1.000 [ 1.000,  1.000], mean action: 0.375 [0.000, 1.000],  loss: 0.388225, mae: 3.218350, mean_q: 5.989250, mean_eps: 0.400000\n",
            "  904/6000: episode: 72, duration: 0.211s, episode steps:  15, steps per second:  71, episode reward: 15.000, mean reward:  1.000 [ 1.000,  1.000], mean action: 0.400 [0.000, 1.000],  loss: 0.402108, mae: 3.262928, mean_q: 6.069399, mean_eps: 0.400000\n",
            "  926/6000: episode: 73, duration: 0.289s, episode steps:  22, steps per second:  76, episode reward: 22.000, mean reward:  1.000 [ 1.000,  1.000], mean action: 0.500 [0.000, 1.000],  loss: 0.494561, mae: 3.313426, mean_q: 6.152621, mean_eps: 0.400000\n",
            "  950/6000: episode: 74, duration: 0.307s, episode steps:  24, steps per second:  78, episode reward: 24.000, mean reward:  1.000 [ 1.000,  1.000], mean action: 0.458 [0.000, 1.000],  loss: 0.451767, mae: 3.381091, mean_q: 6.274972, mean_eps: 0.400000\n",
            "  961/6000: episode: 75, duration: 0.192s, episode steps:  11, steps per second:  57, episode reward: 11.000, mean reward:  1.000 [ 1.000,  1.000], mean action: 0.818 [0.000, 1.000],  loss: 0.459489, mae: 3.422894, mean_q: 6.324419, mean_eps: 0.400000\n",
            "  971/6000: episode: 76, duration: 0.165s, episode steps:  10, steps per second:  61, episode reward: 10.000, mean reward:  1.000 [ 1.000,  1.000], mean action: 0.800 [0.000, 1.000],  loss: 0.417647, mae: 3.487640, mean_q: 6.577616, mean_eps: 0.400000\n",
            "  980/6000: episode: 77, duration: 0.150s, episode steps:   9, steps per second:  60, episode reward:  9.000, mean reward:  1.000 [ 1.000,  1.000], mean action: 1.000 [1.000, 1.000],  loss: 0.421533, mae: 3.542063, mean_q: 6.789065, mean_eps: 0.400000\n",
            "  998/6000: episode: 78, duration: 0.255s, episode steps:  18, steps per second:  71, episode reward: 18.000, mean reward:  1.000 [ 1.000,  1.000], mean action: 0.778 [0.000, 1.000],  loss: 0.563842, mae: 3.550955, mean_q: 6.657996, mean_eps: 0.400000\n",
            " 1016/6000: episode: 79, duration: 0.243s, episode steps:  18, steps per second:  74, episode reward: 18.000, mean reward:  1.000 [ 1.000,  1.000], mean action: 0.500 [0.000, 1.000],  loss: 0.729905, mae: 3.622492, mean_q: 6.730309, mean_eps: 0.400000\n",
            " 1032/6000: episode: 80, duration: 0.215s, episode steps:  16, steps per second:  75, episode reward: 16.000, mean reward:  1.000 [ 1.000,  1.000], mean action: 0.438 [0.000, 1.000],  loss: 0.832266, mae: 3.683129, mean_q: 6.953799, mean_eps: 0.400000\n",
            " 1053/6000: episode: 81, duration: 0.290s, episode steps:  21, steps per second:  72, episode reward: 21.000, mean reward:  1.000 [ 1.000,  1.000], mean action: 0.476 [0.000, 1.000],  loss: 0.969711, mae: 3.740041, mean_q: 6.896905, mean_eps: 0.400000\n",
            " 1073/6000: episode: 82, duration: 0.266s, episode steps:  20, steps per second:  75, episode reward: 20.000, mean reward:  1.000 [ 1.000,  1.000], mean action: 0.450 [0.000, 1.000],  loss: 0.790175, mae: 3.692965, mean_q: 6.725434, mean_eps: 0.400000\n",
            " 1100/6000: episode: 83, duration: 0.357s, episode steps:  27, steps per second:  76, episode reward: 27.000, mean reward:  1.000 [ 1.000,  1.000], mean action: 0.519 [0.000, 1.000],  loss: 0.586564, mae: 3.753281, mean_q: 7.023548, mean_eps: 0.400000\n",
            " 1120/6000: episode: 84, duration: 0.264s, episode steps:  20, steps per second:  76, episode reward: 20.000, mean reward:  1.000 [ 1.000,  1.000], mean action: 0.450 [0.000, 1.000],  loss: 0.617256, mae: 3.820474, mean_q: 7.171104, mean_eps: 0.400000\n",
            " 1137/6000: episode: 85, duration: 0.232s, episode steps:  17, steps per second:  73, episode reward: 17.000, mean reward:  1.000 [ 1.000,  1.000], mean action: 0.471 [0.000, 1.000],  loss: 0.759468, mae: 3.865582, mean_q: 7.222863, mean_eps: 0.400000\n",
            " 1165/6000: episode: 86, duration: 0.340s, episode steps:  28, steps per second:  82, episode reward: 28.000, mean reward:  1.000 [ 1.000,  1.000], mean action: 0.536 [0.000, 1.000],  loss: 0.808268, mae: 3.903228, mean_q: 7.248208, mean_eps: 0.400000\n",
            " 1185/6000: episode: 87, duration: 0.262s, episode steps:  20, steps per second:  76, episode reward: 20.000, mean reward:  1.000 [ 1.000,  1.000], mean action: 0.500 [0.000, 1.000],  loss: 0.548228, mae: 3.987283, mean_q: 7.557735, mean_eps: 0.400000\n",
            " 1202/6000: episode: 88, duration: 0.258s, episode steps:  17, steps per second:  66, episode reward: 17.000, mean reward:  1.000 [ 1.000,  1.000], mean action: 0.588 [0.000, 1.000],  loss: 0.730813, mae: 4.054797, mean_q: 7.630784, mean_eps: 0.400000\n",
            " 1259/6000: episode: 89, duration: 0.974s, episode steps:  57, steps per second:  59, episode reward: 57.000, mean reward:  1.000 [ 1.000,  1.000], mean action: 0.526 [0.000, 1.000],  loss: 0.745452, mae: 4.172874, mean_q: 7.884396, mean_eps: 0.400000\n",
            " 1321/6000: episode: 90, duration: 0.920s, episode steps:  62, steps per second:  67, episode reward: 62.000, mean reward:  1.000 [ 1.000,  1.000], mean action: 0.484 [0.000, 1.000],  loss: 0.766447, mae: 4.340093, mean_q: 8.240385, mean_eps: 0.400000\n",
            " 1351/6000: episode: 91, duration: 0.405s, episode steps:  30, steps per second:  74, episode reward: 30.000, mean reward:  1.000 [ 1.000,  1.000], mean action: 0.533 [0.000, 1.000],  loss: 0.643040, mae: 4.424036, mean_q: 8.335555, mean_eps: 0.400000\n",
            " 1408/6000: episode: 92, duration: 0.732s, episode steps:  57, steps per second:  78, episode reward: 57.000, mean reward:  1.000 [ 1.000,  1.000], mean action: 0.632 [0.000, 1.000],  loss: 0.900883, mae: 4.597038, mean_q: 8.758931, mean_eps: 0.400000\n",
            " 1420/6000: episode: 93, duration: 0.192s, episode steps:  12, steps per second:  62, episode reward: 12.000, mean reward:  1.000 [ 1.000,  1.000], mean action: 0.833 [0.000, 1.000],  loss: 1.118456, mae: 4.766830, mean_q: 8.984122, mean_eps: 0.400000\n",
            " 1436/6000: episode: 94, duration: 0.220s, episode steps:  16, steps per second:  73, episode reward: 16.000, mean reward:  1.000 [ 1.000,  1.000], mean action: 0.625 [0.000, 1.000],  loss: 1.021937, mae: 4.767283, mean_q: 8.944705, mean_eps: 0.400000\n",
            " 1459/6000: episode: 95, duration: 0.298s, episode steps:  23, steps per second:  77, episode reward: 23.000, mean reward:  1.000 [ 1.000,  1.000], mean action: 0.609 [0.000, 1.000],  loss: 1.003402, mae: 4.742856, mean_q: 8.909704, mean_eps: 0.400000\n",
            " 1551/6000: episode: 96, duration: 1.275s, episode steps:  92, steps per second:  72, episode reward: 92.000, mean reward:  1.000 [ 1.000,  1.000], mean action: 0.587 [0.000, 1.000],  loss: 1.162083, mae: 4.976660, mean_q: 9.458866, mean_eps: 0.400000\n",
            " 1588/6000: episode: 97, duration: 0.489s, episode steps:  37, steps per second:  76, episode reward: 37.000, mean reward:  1.000 [ 1.000,  1.000], mean action: 0.486 [0.000, 1.000],  loss: 1.133023, mae: 5.151796, mean_q: 9.807909, mean_eps: 0.400000\n",
            " 1625/6000: episode: 98, duration: 0.477s, episode steps:  37, steps per second:  78, episode reward: 37.000, mean reward:  1.000 [ 1.000,  1.000], mean action: 0.514 [0.000, 1.000],  loss: 1.353271, mae: 5.239645, mean_q: 9.855505, mean_eps: 0.400000\n",
            " 1676/6000: episode: 99, duration: 0.674s, episode steps:  51, steps per second:  76, episode reward: 51.000, mean reward:  1.000 [ 1.000,  1.000], mean action: 0.529 [0.000, 1.000],  loss: 1.479962, mae: 5.397420, mean_q: 10.235918, mean_eps: 0.400000\n",
            " 1725/6000: episode: 100, duration: 0.660s, episode steps:  49, steps per second:  74, episode reward: 49.000, mean reward:  1.000 [ 1.000,  1.000], mean action: 0.531 [0.000, 1.000],  loss: 1.258827, mae: 5.471532, mean_q: 10.467968, mean_eps: 0.400000\n",
            " 1761/6000: episode: 101, duration: 0.459s, episode steps:  36, steps per second:  78, episode reward: 36.000, mean reward:  1.000 [ 1.000,  1.000], mean action: 0.500 [0.000, 1.000],  loss: 1.786130, mae: 5.686866, mean_q: 10.759601, mean_eps: 0.400000\n",
            " 1828/6000: episode: 102, duration: 0.852s, episode steps:  67, steps per second:  79, episode reward: 67.000, mean reward:  1.000 [ 1.000,  1.000], mean action: 0.552 [0.000, 1.000],  loss: 1.225605, mae: 5.771983, mean_q: 11.085560, mean_eps: 0.400000\n",
            " 1861/6000: episode: 103, duration: 0.433s, episode steps:  33, steps per second:  76, episode reward: 33.000, mean reward:  1.000 [ 1.000,  1.000], mean action: 0.515 [0.000, 1.000],  loss: 1.735097, mae: 5.996906, mean_q: 11.444379, mean_eps: 0.400000\n",
            " 1888/6000: episode: 104, duration: 0.385s, episode steps:  27, steps per second:  70, episode reward: 27.000, mean reward:  1.000 [ 1.000,  1.000], mean action: 0.481 [0.000, 1.000],  loss: 1.430854, mae: 6.104229, mean_q: 11.705260, mean_eps: 0.400000\n",
            " 2024/6000: episode: 105, duration: 1.701s, episode steps: 136, steps per second:  80, episode reward: 136.000, mean reward:  1.000 [ 1.000,  1.000], mean action: 0.551 [0.000, 1.000],  loss: 1.847604, mae: 6.289780, mean_q: 11.989378, mean_eps: 0.400000\n",
            " 2056/6000: episode: 106, duration: 0.417s, episode steps:  32, steps per second:  77, episode reward: 32.000, mean reward:  1.000 [ 1.000,  1.000], mean action: 0.500 [0.000, 1.000],  loss: 1.714935, mae: 6.539141, mean_q: 12.558410, mean_eps: 0.400000\n",
            " 2137/6000: episode: 107, duration: 1.018s, episode steps:  81, steps per second:  80, episode reward: 81.000, mean reward:  1.000 [ 1.000,  1.000], mean action: 0.580 [0.000, 1.000],  loss: 2.004975, mae: 6.660520, mean_q: 12.745681, mean_eps: 0.400000\n",
            " 2202/6000: episode: 108, duration: 0.820s, episode steps:  65, steps per second:  79, episode reward: 65.000, mean reward:  1.000 [ 1.000,  1.000], mean action: 0.523 [0.000, 1.000],  loss: 1.671811, mae: 6.843594, mean_q: 13.207827, mean_eps: 0.400000\n",
            " 2240/6000: episode: 109, duration: 0.464s, episode steps:  38, steps per second:  82, episode reward: 38.000, mean reward:  1.000 [ 1.000,  1.000], mean action: 0.526 [0.000, 1.000],  loss: 2.286798, mae: 7.087391, mean_q: 13.672176, mean_eps: 0.400000\n",
            " 2266/6000: episode: 110, duration: 0.327s, episode steps:  26, steps per second:  80, episode reward: 26.000, mean reward:  1.000 [ 1.000,  1.000], mean action: 0.538 [0.000, 1.000],  loss: 2.328678, mae: 7.169807, mean_q: 13.822469, mean_eps: 0.400000\n",
            " 2290/6000: episode: 111, duration: 0.319s, episode steps:  24, steps per second:  75, episode reward: 24.000, mean reward:  1.000 [ 1.000,  1.000], mean action: 0.500 [0.000, 1.000],  loss: 2.022837, mae: 7.234503, mean_q: 13.981733, mean_eps: 0.400000\n",
            " 2317/6000: episode: 112, duration: 0.392s, episode steps:  27, steps per second:  69, episode reward: 27.000, mean reward:  1.000 [ 1.000,  1.000], mean action: 0.519 [0.000, 1.000],  loss: 3.000083, mae: 7.353269, mean_q: 14.109879, mean_eps: 0.400000\n",
            " 2352/6000: episode: 113, duration: 0.450s, episode steps:  35, steps per second:  78, episode reward: 35.000, mean reward:  1.000 [ 1.000,  1.000], mean action: 0.543 [0.000, 1.000],  loss: 2.772330, mae: 7.488557, mean_q: 14.336949, mean_eps: 0.400000\n",
            " 2364/6000: episode: 114, duration: 0.154s, episode steps:  12, steps per second:  78, episode reward: 12.000, mean reward:  1.000 [ 1.000,  1.000], mean action: 0.583 [0.000, 1.000],  loss: 3.591885, mae: 7.663794, mean_q: 14.594577, mean_eps: 0.400000\n",
            " 2387/6000: episode: 115, duration: 0.287s, episode steps:  23, steps per second:  80, episode reward: 23.000, mean reward:  1.000 [ 1.000,  1.000], mean action: 0.609 [0.000, 1.000],  loss: 1.396197, mae: 7.511379, mean_q: 14.629242, mean_eps: 0.400000\n",
            " 2405/6000: episode: 116, duration: 0.234s, episode steps:  18, steps per second:  77, episode reward: 18.000, mean reward:  1.000 [ 1.000,  1.000], mean action: 0.500 [0.000, 1.000],  loss: 4.079017, mae: 7.789924, mean_q: 14.895671, mean_eps: 0.400000\n",
            " 2448/6000: episode: 117, duration: 0.527s, episode steps:  43, steps per second:  82, episode reward: 43.000, mean reward:  1.000 [ 1.000,  1.000], mean action: 0.465 [0.000, 1.000],  loss: 3.580532, mae: 7.761927, mean_q: 14.690242, mean_eps: 0.400000\n",
            " 2466/6000: episode: 118, duration: 0.237s, episode steps:  18, steps per second:  76, episode reward: 18.000, mean reward:  1.000 [ 1.000,  1.000], mean action: 0.556 [0.000, 1.000],  loss: 2.618007, mae: 7.824293, mean_q: 14.931237, mean_eps: 0.400000\n",
            " 2495/6000: episode: 119, duration: 0.400s, episode steps:  29, steps per second:  72, episode reward: 29.000, mean reward:  1.000 [ 1.000,  1.000], mean action: 0.517 [0.000, 1.000],  loss: 3.643216, mae: 8.040289, mean_q: 15.400388, mean_eps: 0.400000\n",
            " 2515/6000: episode: 120, duration: 0.260s, episode steps:  20, steps per second:  77, episode reward: 20.000, mean reward:  1.000 [ 1.000,  1.000], mean action: 0.550 [0.000, 1.000],  loss: 3.287565, mae: 7.898494, mean_q: 15.131817, mean_eps: 0.400000\n",
            " 2537/6000: episode: 121, duration: 0.283s, episode steps:  22, steps per second:  78, episode reward: 22.000, mean reward:  1.000 [ 1.000,  1.000], mean action: 0.500 [0.000, 1.000],  loss: 3.691531, mae: 8.068831, mean_q: 15.318063, mean_eps: 0.400000\n",
            " 2587/6000: episode: 122, duration: 0.616s, episode steps:  50, steps per second:  81, episode reward: 50.000, mean reward:  1.000 [ 1.000,  1.000], mean action: 0.500 [0.000, 1.000],  loss: 3.596015, mae: 8.215118, mean_q: 15.597429, mean_eps: 0.400000\n",
            " 2615/6000: episode: 123, duration: 0.366s, episode steps:  28, steps per second:  76, episode reward: 28.000, mean reward:  1.000 [ 1.000,  1.000], mean action: 0.536 [0.000, 1.000],  loss: 4.303933, mae: 8.283934, mean_q: 15.614947, mean_eps: 0.400000\n",
            " 2640/6000: episode: 124, duration: 0.329s, episode steps:  25, steps per second:  76, episode reward: 25.000, mean reward:  1.000 [ 1.000,  1.000], mean action: 0.520 [0.000, 1.000],  loss: 2.760727, mae: 8.129723, mean_q: 15.646017, mean_eps: 0.400000\n",
            " 2669/6000: episode: 125, duration: 0.378s, episode steps:  29, steps per second:  77, episode reward: 29.000, mean reward:  1.000 [ 1.000,  1.000], mean action: 0.517 [0.000, 1.000],  loss: 3.850778, mae: 8.347849, mean_q: 15.930307, mean_eps: 0.400000\n",
            " 2693/6000: episode: 126, duration: 0.311s, episode steps:  24, steps per second:  77, episode reward: 24.000, mean reward:  1.000 [ 1.000,  1.000], mean action: 0.500 [0.000, 1.000],  loss: 2.731588, mae: 8.297945, mean_q: 15.887157, mean_eps: 0.400000\n",
            " 2723/6000: episode: 127, duration: 0.392s, episode steps:  30, steps per second:  77, episode reward: 30.000, mean reward:  1.000 [ 1.000,  1.000], mean action: 0.600 [0.000, 1.000],  loss: 3.066193, mae: 8.354057, mean_q: 16.032506, mean_eps: 0.400000\n",
            " 2772/6000: episode: 128, duration: 0.657s, episode steps:  49, steps per second:  75, episode reward: 49.000, mean reward:  1.000 [ 1.000,  1.000], mean action: 0.490 [0.000, 1.000],  loss: 3.959333, mae: 8.536011, mean_q: 16.318911, mean_eps: 0.400000\n",
            " 2823/6000: episode: 129, duration: 0.787s, episode steps:  51, steps per second:  65, episode reward: 51.000, mean reward:  1.000 [ 1.000,  1.000], mean action: 0.471 [0.000, 1.000],  loss: 3.898440, mae: 8.563020, mean_q: 16.252421, mean_eps: 0.400000\n",
            " 2909/6000: episode: 130, duration: 1.130s, episode steps:  86, steps per second:  76, episode reward: 86.000, mean reward:  1.000 [ 1.000,  1.000], mean action: 0.547 [0.000, 1.000],  loss: 3.964005, mae: 8.742117, mean_q: 16.625997, mean_eps: 0.400000\n",
            " 2936/6000: episode: 131, duration: 0.335s, episode steps:  27, steps per second:  81, episode reward: 27.000, mean reward:  1.000 [ 1.000,  1.000], mean action: 0.481 [0.000, 1.000],  loss: 3.879886, mae: 8.847274, mean_q: 16.918955, mean_eps: 0.400000\n",
            " 2984/6000: episode: 132, duration: 0.606s, episode steps:  48, steps per second:  79, episode reward: 48.000, mean reward:  1.000 [ 1.000,  1.000], mean action: 0.500 [0.000, 1.000],  loss: 3.636482, mae: 8.883503, mean_q: 17.012640, mean_eps: 0.400000\n",
            " 3014/6000: episode: 133, duration: 0.404s, episode steps:  30, steps per second:  74, episode reward: 30.000, mean reward:  1.000 [ 1.000,  1.000], mean action: 0.567 [0.000, 1.000],  loss: 3.524062, mae: 8.936691, mean_q: 17.217269, mean_eps: 0.400000\n",
            " 3062/6000: episode: 134, duration: 0.598s, episode steps:  48, steps per second:  80, episode reward: 48.000, mean reward:  1.000 [ 1.000,  1.000], mean action: 0.458 [0.000, 1.000],  loss: 3.632630, mae: 8.989220, mean_q: 17.237269, mean_eps: 0.400000\n",
            " 3130/6000: episode: 135, duration: 0.903s, episode steps:  68, steps per second:  75, episode reward: 68.000, mean reward:  1.000 [ 1.000,  1.000], mean action: 0.529 [0.000, 1.000],  loss: 4.040567, mae: 9.158105, mean_q: 17.499998, mean_eps: 0.400000\n",
            " 3153/6000: episode: 136, duration: 0.302s, episode steps:  23, steps per second:  76, episode reward: 23.000, mean reward:  1.000 [ 1.000,  1.000], mean action: 0.522 [0.000, 1.000],  loss: 4.219835, mae: 9.298366, mean_q: 17.860521, mean_eps: 0.400000\n",
            " 3197/6000: episode: 137, duration: 0.547s, episode steps:  44, steps per second:  80, episode reward: 44.000, mean reward:  1.000 [ 1.000,  1.000], mean action: 0.523 [0.000, 1.000],  loss: 4.076176, mae: 9.371994, mean_q: 17.893799, mean_eps: 0.400000\n",
            " 3256/6000: episode: 138, duration: 0.759s, episode steps:  59, steps per second:  78, episode reward: 59.000, mean reward:  1.000 [ 1.000,  1.000], mean action: 0.475 [0.000, 1.000],  loss: 3.928900, mae: 9.441513, mean_q: 18.173445, mean_eps: 0.400000\n",
            " 3282/6000: episode: 139, duration: 0.357s, episode steps:  26, steps per second:  73, episode reward: 26.000, mean reward:  1.000 [ 1.000,  1.000], mean action: 0.500 [0.000, 1.000],  loss: 3.798765, mae: 9.551932, mean_q: 18.522145, mean_eps: 0.400000\n",
            " 3309/6000: episode: 140, duration: 0.365s, episode steps:  27, steps per second:  74, episode reward: 27.000, mean reward:  1.000 [ 1.000,  1.000], mean action: 0.481 [0.000, 1.000],  loss: 4.427450, mae: 9.607851, mean_q: 18.428083, mean_eps: 0.400000\n",
            " 3339/6000: episode: 141, duration: 0.424s, episode steps:  30, steps per second:  71, episode reward: 30.000, mean reward:  1.000 [ 1.000,  1.000], mean action: 0.533 [0.000, 1.000],  loss: 5.128413, mae: 9.731434, mean_q: 18.591006, mean_eps: 0.400000\n",
            " 3375/6000: episode: 142, duration: 0.502s, episode steps:  36, steps per second:  72, episode reward: 36.000, mean reward:  1.000 [ 1.000,  1.000], mean action: 0.472 [0.000, 1.000],  loss: 3.831246, mae: 9.775960, mean_q: 18.875338, mean_eps: 0.400000\n",
            " 3475/6000: episode: 143, duration: 1.294s, episode steps: 100, steps per second:  77, episode reward: 100.000, mean reward:  1.000 [ 1.000,  1.000], mean action: 0.520 [0.000, 1.000],  loss: 4.186700, mae: 9.858502, mean_q: 18.941780, mean_eps: 0.400000\n",
            " 3565/6000: episode: 144, duration: 1.310s, episode steps:  90, steps per second:  69, episode reward: 90.000, mean reward:  1.000 [ 1.000,  1.000], mean action: 0.489 [0.000, 1.000],  loss: 4.546340, mae: 10.039258, mean_q: 19.266962, mean_eps: 0.400000\n",
            " 3622/6000: episode: 145, duration: 0.952s, episode steps:  57, steps per second:  60, episode reward: 57.000, mean reward:  1.000 [ 1.000,  1.000], mean action: 0.474 [0.000, 1.000],  loss: 4.136419, mae: 10.179852, mean_q: 19.588306, mean_eps: 0.400000\n",
            " 3722/6000: episode: 146, duration: 1.263s, episode steps: 100, steps per second:  79, episode reward: 100.000, mean reward:  1.000 [ 1.000,  1.000], mean action: 0.430 [0.000, 1.000],  loss: 4.582667, mae: 10.332927, mean_q: 19.825937, mean_eps: 0.400000\n",
            " 3772/6000: episode: 147, duration: 0.717s, episode steps:  50, steps per second:  70, episode reward: 50.000, mean reward:  1.000 [ 1.000,  1.000], mean action: 0.500 [0.000, 1.000],  loss: 4.211310, mae: 10.437871, mean_q: 20.099614, mean_eps: 0.400000\n",
            " 3841/6000: episode: 148, duration: 0.917s, episode steps:  69, steps per second:  75, episode reward: 69.000, mean reward:  1.000 [ 1.000,  1.000], mean action: 0.507 [0.000, 1.000],  loss: 5.054601, mae: 10.564609, mean_q: 20.287988, mean_eps: 0.400000\n",
            " 3964/6000: episode: 149, duration: 1.774s, episode steps: 123, steps per second:  69, episode reward: 123.000, mean reward:  1.000 [ 1.000,  1.000], mean action: 0.480 [0.000, 1.000],  loss: 4.208289, mae: 10.617535, mean_q: 20.453510, mean_eps: 0.400000\n",
            " 4100/6000: episode: 150, duration: 1.801s, episode steps: 136, steps per second:  76, episode reward: 136.000, mean reward:  1.000 [ 1.000,  1.000], mean action: 0.544 [0.000, 1.000],  loss: 5.074364, mae: 10.935573, mean_q: 21.065096, mean_eps: 0.400000\n",
            " 4237/6000: episode: 151, duration: 1.890s, episode steps: 137, steps per second:  72, episode reward: 137.000, mean reward:  1.000 [ 1.000,  1.000], mean action: 0.511 [0.000, 1.000],  loss: 4.821073, mae: 11.182786, mean_q: 21.636939, mean_eps: 0.400000\n",
            " 4317/6000: episode: 152, duration: 1.030s, episode steps:  80, steps per second:  78, episode reward: 80.000, mean reward:  1.000 [ 1.000,  1.000], mean action: 0.475 [0.000, 1.000],  loss: 4.674848, mae: 11.409573, mean_q: 22.059374, mean_eps: 0.400000\n",
            " 4363/6000: episode: 153, duration: 0.587s, episode steps:  46, steps per second:  78, episode reward: 46.000, mean reward:  1.000 [ 1.000,  1.000], mean action: 0.500 [0.000, 1.000],  loss: 6.501965, mae: 11.535258, mean_q: 22.103432, mean_eps: 0.400000\n",
            " 4403/6000: episode: 154, duration: 0.513s, episode steps:  40, steps per second:  78, episode reward: 40.000, mean reward:  1.000 [ 1.000,  1.000], mean action: 0.500 [0.000, 1.000],  loss: 4.829227, mae: 11.626888, mean_q: 22.542271, mean_eps: 0.400000\n",
            " 4504/6000: episode: 155, duration: 1.269s, episode steps: 101, steps per second:  80, episode reward: 101.000, mean reward:  1.000 [ 1.000,  1.000], mean action: 0.446 [0.000, 1.000],  loss: 5.077370, mae: 11.751901, mean_q: 22.752674, mean_eps: 0.400000\n",
            " 4535/6000: episode: 156, duration: 0.379s, episode steps:  31, steps per second:  82, episode reward: 31.000, mean reward:  1.000 [ 1.000,  1.000], mean action: 0.516 [0.000, 1.000],  loss: 6.395244, mae: 11.851771, mean_q: 22.779369, mean_eps: 0.400000\n",
            " 4614/6000: episode: 157, duration: 0.963s, episode steps:  79, steps per second:  82, episode reward: 79.000, mean reward:  1.000 [ 1.000,  1.000], mean action: 0.519 [0.000, 1.000],  loss: 5.199113, mae: 11.943589, mean_q: 23.098380, mean_eps: 0.400000\n",
            " 4705/6000: episode: 158, duration: 1.142s, episode steps:  91, steps per second:  80, episode reward: 91.000, mean reward:  1.000 [ 1.000,  1.000], mean action: 0.473 [0.000, 1.000],  loss: 4.749436, mae: 12.085108, mean_q: 23.496350, mean_eps: 0.400000\n",
            " 4804/6000: episode: 159, duration: 1.224s, episode steps:  99, steps per second:  81, episode reward: 99.000, mean reward:  1.000 [ 1.000,  1.000], mean action: 0.535 [0.000, 1.000],  loss: 5.083376, mae: 12.271316, mean_q: 23.815996, mean_eps: 0.400000\n",
            " 4894/6000: episode: 160, duration: 1.075s, episode steps:  90, steps per second:  84, episode reward: 90.000, mean reward:  1.000 [ 1.000,  1.000], mean action: 0.467 [0.000, 1.000],  loss: 6.102672, mae: 12.486262, mean_q: 24.065171, mean_eps: 0.400000\n",
            " 4992/6000: episode: 161, duration: 1.276s, episode steps:  98, steps per second:  77, episode reward: 98.000, mean reward:  1.000 [ 1.000,  1.000], mean action: 0.510 [0.000, 1.000],  loss: 6.005233, mae: 12.616480, mean_q: 24.390361, mean_eps: 0.400000\n",
            " 5055/6000: episode: 162, duration: 0.780s, episode steps:  63, steps per second:  81, episode reward: 63.000, mean reward:  1.000 [ 1.000,  1.000], mean action: 0.540 [0.000, 1.000],  loss: 4.978881, mae: 12.669959, mean_q: 24.560092, mean_eps: 0.400000\n",
            " 5105/6000: episode: 163, duration: 0.658s, episode steps:  50, steps per second:  76, episode reward: 50.000, mean reward:  1.000 [ 1.000,  1.000], mean action: 0.500 [0.000, 1.000],  loss: 6.213931, mae: 12.868866, mean_q: 24.960529, mean_eps: 0.400000\n",
            " 5142/6000: episode: 164, duration: 0.497s, episode steps:  37, steps per second:  74, episode reward: 37.000, mean reward:  1.000 [ 1.000,  1.000], mean action: 0.514 [0.000, 1.000],  loss: 6.084166, mae: 12.889363, mean_q: 24.937028, mean_eps: 0.400000\n",
            " 5203/6000: episode: 165, duration: 0.775s, episode steps:  61, steps per second:  79, episode reward: 61.000, mean reward:  1.000 [ 1.000,  1.000], mean action: 0.541 [0.000, 1.000],  loss: 4.707779, mae: 12.970757, mean_q: 25.284249, mean_eps: 0.400000\n",
            " 5289/6000: episode: 166, duration: 1.148s, episode steps:  86, steps per second:  75, episode reward: 86.000, mean reward:  1.000 [ 1.000,  1.000], mean action: 0.512 [0.000, 1.000],  loss: 5.288253, mae: 13.077608, mean_q: 25.445398, mean_eps: 0.400000\n",
            " 5418/6000: episode: 167, duration: 1.604s, episode steps: 129, steps per second:  80, episode reward: 129.000, mean reward:  1.000 [ 1.000,  1.000], mean action: 0.519 [0.000, 1.000],  loss: 5.107580, mae: 13.313087, mean_q: 25.986255, mean_eps: 0.400000\n",
            " 5462/6000: episode: 168, duration: 0.564s, episode steps:  44, steps per second:  78, episode reward: 44.000, mean reward:  1.000 [ 1.000,  1.000], mean action: 0.477 [0.000, 1.000],  loss: 5.811496, mae: 13.452907, mean_q: 26.232980, mean_eps: 0.400000\n",
            " 5510/6000: episode: 169, duration: 0.625s, episode steps:  48, steps per second:  77, episode reward: 48.000, mean reward:  1.000 [ 1.000,  1.000], mean action: 0.500 [0.000, 1.000],  loss: 7.160106, mae: 13.586834, mean_q: 26.269891, mean_eps: 0.400000\n",
            " 5670/6000: episode: 170, duration: 1.960s, episode steps: 160, steps per second:  82, episode reward: 160.000, mean reward:  1.000 [ 1.000,  1.000], mean action: 0.494 [0.000, 1.000],  loss: 6.062875, mae: 13.767610, mean_q: 26.822605, mean_eps: 0.400000\n",
            " 5720/6000: episode: 171, duration: 0.610s, episode steps:  50, steps per second:  82, episode reward: 50.000, mean reward:  1.000 [ 1.000,  1.000], mean action: 0.500 [0.000, 1.000],  loss: 6.487328, mae: 14.018967, mean_q: 27.285713, mean_eps: 0.400000\n",
            " 5759/6000: episode: 172, duration: 0.615s, episode steps:  39, steps per second:  63, episode reward: 39.000, mean reward:  1.000 [ 1.000,  1.000], mean action: 0.487 [0.000, 1.000],  loss: 7.983421, mae: 14.091172, mean_q: 27.212983, mean_eps: 0.400000\n",
            " 5821/6000: episode: 173, duration: 0.991s, episode steps:  62, steps per second:  63, episode reward: 62.000, mean reward:  1.000 [ 1.000,  1.000], mean action: 0.452 [0.000, 1.000],  loss: 8.107360, mae: 14.158396, mean_q: 27.347564, mean_eps: 0.400000\n",
            " 5852/6000: episode: 174, duration: 0.394s, episode steps:  31, steps per second:  79, episode reward: 31.000, mean reward:  1.000 [ 1.000,  1.000], mean action: 0.516 [0.000, 1.000],  loss: 5.115116, mae: 14.206811, mean_q: 27.674663, mean_eps: 0.400000\n",
            " 5912/6000: episode: 175, duration: 0.769s, episode steps:  60, steps per second:  78, episode reward: 60.000, mean reward:  1.000 [ 1.000,  1.000], mean action: 0.517 [0.000, 1.000],  loss: 6.444091, mae: 14.249352, mean_q: 27.783500, mean_eps: 0.400000\n",
            " 5955/6000: episode: 176, duration: 0.537s, episode steps:  43, steps per second:  80, episode reward: 43.000, mean reward:  1.000 [ 1.000,  1.000], mean action: 0.488 [0.000, 1.000],  loss: 4.598283, mae: 14.245070, mean_q: 27.955593, mean_eps: 0.400000\n",
            "done, took 88.552 seconds\n"
          ]
        },
        {
          "output_type": "display_data",
          "data": {
            "text/plain": [
              "<Figure size 432x288 with 1 Axes>"
            ],
            "image/png": "[encoded data removed]"
          },
          "metadata": {
            "needs_background": "light"
          }
        },
        {
          "output_type": "stream",
          "name": "stdout",
          "text": [
            "Testing for 20 episodes ...\n",
            "Episode 1: reward: 66.000, steps: 66\n",
            "Episode 2: reward: 49.000, steps: 49\n",
            "Episode 3: reward: 52.000, steps: 52\n",
            "Episode 4: reward: 42.000, steps: 42\n",
            "Episode 5: reward: 46.000, steps: 46\n",
            "Episode 6: reward: 54.000, steps: 54\n",
            "Episode 7: reward: 69.000, steps: 69\n",
            "Episode 8: reward: 46.000, steps: 46\n",
            "Episode 9: reward: 48.000, steps: 48\n",
            "Episode 10: reward: 76.000, steps: 76\n",
            "Episode 11: reward: 50.000, steps: 50\n",
            "Episode 12: reward: 61.000, steps: 61\n",
            "Episode 13: reward: 56.000, steps: 56\n",
            "Episode 14: reward: 65.000, steps: 65\n",
            "Episode 15: reward: 46.000, steps: 46\n",
            "Episode 16: reward: 42.000, steps: 42\n",
            "Episode 17: reward: 98.000, steps: 98\n",
            "Episode 18: reward: 47.000, steps: 47\n",
            "Episode 19: reward: 63.000, steps: 63\n",
            "Episode 20: reward: 90.000, steps: 90\n"
          ]
        },
        {
          "output_type": "execute_result",
          "data": {
            "text/plain": [
              "<keras.callbacks.History at 0x7fb171e57c10>"
            ]
          },
          "metadata": {},
          "execution_count": 85
        }
      ]
    }
  ]
}