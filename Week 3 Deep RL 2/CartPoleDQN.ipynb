{
  "nbformat": 4,
  "nbformat_minor": 0,
  "metadata": {
    "colab": {
      "name": "CartPoleDQN.ipynb",
      "provenance": [],
      "collapsed_sections": [],
      "include_colab_link": true
    },
    "kernelspec": {
      "name": "python3",
      "display_name": "Python 3"
    }
  },
  "cells": [
    {
      "cell_type": "markdown",
      "metadata": {
        "id": "view-in-github",
        "colab_type": "text"
      },
      "source": [
        "<a href=\"https://colab.research.google.com/github/Megacity1/CartpoleDQN/blob/main/Week%203%20Deep%20RL%202/CartPoleDQN.ipynb\" target=\"_parent\"><img src=\"https://colab.research.google.com/assets/colab-badge.svg\" alt=\"Open In Colab\"/></a>"
      ]
    },
    {
      "cell_type": "markdown",
      "metadata": {
        "id": "VKK5DA390wRe"
      },
      "source": [
        "# Deep Q Network (DQN) for CartPole Using Boltzmann Q Policy\n",
        "This exercise implements a DQN for CartPole using a Boltzmann Q policy for selecting the actions"
      ]
    },
    {
      "cell_type": "code",
      "metadata": {
        "id": "LGsC7cJ5jNcX",
        "colab": {
          "base_uri": "https://localhost:8080/"
        },
        "outputId": "cda73cbf-3020-40f4-e45e-7b87053448f1"
      },
      "source": [
        "# install keras rl2 (we need to install keras-rl2 so it works with the tensorflow 2 version that comes pre-installed with colab)\n",
        "!pip install keras-rl2"
      ],
      "execution_count": 57,
      "outputs": [
        {
          "output_type": "stream",
          "name": "stdout",
          "text": [
            "Requirement already satisfied: keras-rl2 in /usr/local/lib/python3.7/dist-packages (1.0.5)\n",
            "Requirement already satisfied: tensorflow in /usr/local/lib/python3.7/dist-packages (from keras-rl2) (2.8.0)\n",
            "Requirement already satisfied: keras-preprocessing>=1.1.1 in /usr/local/lib/python3.7/dist-packages (from tensorflow->keras-rl2) (1.1.2)\n",
            "Requirement already satisfied: protobuf>=3.9.2 in /usr/local/lib/python3.7/dist-packages (from tensorflow->keras-rl2) (3.17.3)\n",
            "Requirement already satisfied: tensorflow-io-gcs-filesystem>=0.23.1 in /usr/local/lib/python3.7/dist-packages (from tensorflow->keras-rl2) (0.24.0)\n",
            "Requirement already satisfied: libclang>=9.0.1 in /usr/local/lib/python3.7/dist-packages (from tensorflow->keras-rl2) (13.0.0)\n",
            "Requirement already satisfied: h5py>=2.9.0 in /usr/local/lib/python3.7/dist-packages (from tensorflow->keras-rl2) (3.1.0)\n",
            "Requirement already satisfied: opt-einsum>=2.3.2 in /usr/local/lib/python3.7/dist-packages (from tensorflow->keras-rl2) (3.3.0)\n",
            "Requirement already satisfied: gast>=0.2.1 in /usr/local/lib/python3.7/dist-packages (from tensorflow->keras-rl2) (0.5.3)\n",
            "Requirement already satisfied: grpcio<2.0,>=1.24.3 in /usr/local/lib/python3.7/dist-packages (from tensorflow->keras-rl2) (1.44.0)\n",
            "Requirement already satisfied: tensorboard<2.9,>=2.8 in /usr/local/lib/python3.7/dist-packages (from tensorflow->keras-rl2) (2.8.0)\n",
            "Requirement already satisfied: wrapt>=1.11.0 in /usr/local/lib/python3.7/dist-packages (from tensorflow->keras-rl2) (1.14.0)\n",
            "Requirement already satisfied: absl-py>=0.4.0 in /usr/local/lib/python3.7/dist-packages (from tensorflow->keras-rl2) (1.0.0)\n",
            "Requirement already satisfied: flatbuffers>=1.12 in /usr/local/lib/python3.7/dist-packages (from tensorflow->keras-rl2) (2.0)\n",
            "Requirement already satisfied: termcolor>=1.1.0 in /usr/local/lib/python3.7/dist-packages (from tensorflow->keras-rl2) (1.1.0)\n",
            "Requirement already satisfied: keras<2.9,>=2.8.0rc0 in /usr/local/lib/python3.7/dist-packages (from tensorflow->keras-rl2) (2.8.0)\n",
            "Requirement already satisfied: six>=1.12.0 in /usr/local/lib/python3.7/dist-packages (from tensorflow->keras-rl2) (1.15.0)\n",
            "Requirement already satisfied: tf-estimator-nightly==2.8.0.dev2021122109 in /usr/local/lib/python3.7/dist-packages (from tensorflow->keras-rl2) (2.8.0.dev2021122109)\n",
            "Requirement already satisfied: numpy>=1.20 in /usr/local/lib/python3.7/dist-packages (from tensorflow->keras-rl2) (1.21.5)\n",
            "Requirement already satisfied: astunparse>=1.6.0 in /usr/local/lib/python3.7/dist-packages (from tensorflow->keras-rl2) (1.6.3)\n",
            "Requirement already satisfied: typing-extensions>=3.6.6 in /usr/local/lib/python3.7/dist-packages (from tensorflow->keras-rl2) (3.10.0.2)\n",
            "Requirement already satisfied: setuptools in /usr/local/lib/python3.7/dist-packages (from tensorflow->keras-rl2) (57.4.0)\n",
            "Requirement already satisfied: google-pasta>=0.1.1 in /usr/local/lib/python3.7/dist-packages (from tensorflow->keras-rl2) (0.2.0)\n",
            "Requirement already satisfied: wheel<1.0,>=0.23.0 in /usr/local/lib/python3.7/dist-packages (from astunparse>=1.6.0->tensorflow->keras-rl2) (0.37.1)\n",
            "Requirement already satisfied: cached-property in /usr/local/lib/python3.7/dist-packages (from h5py>=2.9.0->tensorflow->keras-rl2) (1.5.2)\n",
            "Requirement already satisfied: google-auth-oauthlib<0.5,>=0.4.1 in /usr/local/lib/python3.7/dist-packages (from tensorboard<2.9,>=2.8->tensorflow->keras-rl2) (0.4.6)\n",
            "Requirement already satisfied: requests<3,>=2.21.0 in /usr/local/lib/python3.7/dist-packages (from tensorboard<2.9,>=2.8->tensorflow->keras-rl2) (2.23.0)\n",
            "Requirement already satisfied: werkzeug>=0.11.15 in /usr/local/lib/python3.7/dist-packages (from tensorboard<2.9,>=2.8->tensorflow->keras-rl2) (1.0.1)\n",
            "Requirement already satisfied: markdown>=2.6.8 in /usr/local/lib/python3.7/dist-packages (from tensorboard<2.9,>=2.8->tensorflow->keras-rl2) (3.3.6)\n",
            "Requirement already satisfied: google-auth<3,>=1.6.3 in /usr/local/lib/python3.7/dist-packages (from tensorboard<2.9,>=2.8->tensorflow->keras-rl2) (1.35.0)\n",
            "Requirement already satisfied: tensorboard-data-server<0.7.0,>=0.6.0 in /usr/local/lib/python3.7/dist-packages (from tensorboard<2.9,>=2.8->tensorflow->keras-rl2) (0.6.1)\n",
            "Requirement already satisfied: tensorboard-plugin-wit>=1.6.0 in /usr/local/lib/python3.7/dist-packages (from tensorboard<2.9,>=2.8->tensorflow->keras-rl2) (1.8.1)\n",
            "Requirement already satisfied: pyasn1-modules>=0.2.1 in /usr/local/lib/python3.7/dist-packages (from google-auth<3,>=1.6.3->tensorboard<2.9,>=2.8->tensorflow->keras-rl2) (0.2.8)\n",
            "Requirement already satisfied: cachetools<5.0,>=2.0.0 in /usr/local/lib/python3.7/dist-packages (from google-auth<3,>=1.6.3->tensorboard<2.9,>=2.8->tensorflow->keras-rl2) (4.2.4)\n",
            "Requirement already satisfied: rsa<5,>=3.1.4 in /usr/local/lib/python3.7/dist-packages (from google-auth<3,>=1.6.3->tensorboard<2.9,>=2.8->tensorflow->keras-rl2) (4.8)\n",
            "Requirement already satisfied: requests-oauthlib>=0.7.0 in /usr/local/lib/python3.7/dist-packages (from google-auth-oauthlib<0.5,>=0.4.1->tensorboard<2.9,>=2.8->tensorflow->keras-rl2) (1.3.1)\n",
            "Requirement already satisfied: importlib-metadata>=4.4 in /usr/local/lib/python3.7/dist-packages (from markdown>=2.6.8->tensorboard<2.9,>=2.8->tensorflow->keras-rl2) (4.11.3)\n",
            "Requirement already satisfied: zipp>=0.5 in /usr/local/lib/python3.7/dist-packages (from importlib-metadata>=4.4->markdown>=2.6.8->tensorboard<2.9,>=2.8->tensorflow->keras-rl2) (3.7.0)\n",
            "Requirement already satisfied: pyasn1<0.5.0,>=0.4.6 in /usr/local/lib/python3.7/dist-packages (from pyasn1-modules>=0.2.1->google-auth<3,>=1.6.3->tensorboard<2.9,>=2.8->tensorflow->keras-rl2) (0.4.8)\n",
            "Requirement already satisfied: chardet<4,>=3.0.2 in /usr/local/lib/python3.7/dist-packages (from requests<3,>=2.21.0->tensorboard<2.9,>=2.8->tensorflow->keras-rl2) (3.0.4)\n",
            "Requirement already satisfied: urllib3!=1.25.0,!=1.25.1,<1.26,>=1.21.1 in /usr/local/lib/python3.7/dist-packages (from requests<3,>=2.21.0->tensorboard<2.9,>=2.8->tensorflow->keras-rl2) (1.24.3)\n",
            "Requirement already satisfied: idna<3,>=2.5 in /usr/local/lib/python3.7/dist-packages (from requests<3,>=2.21.0->tensorboard<2.9,>=2.8->tensorflow->keras-rl2) (2.10)\n",
            "Requirement already satisfied: certifi>=2017.4.17 in /usr/local/lib/python3.7/dist-packages (from requests<3,>=2.21.0->tensorboard<2.9,>=2.8->tensorflow->keras-rl2) (2021.10.8)\n",
            "Requirement already satisfied: oauthlib>=3.0.0 in /usr/local/lib/python3.7/dist-packages (from requests-oauthlib>=0.7.0->google-auth-oauthlib<0.5,>=0.4.1->tensorboard<2.9,>=2.8->tensorflow->keras-rl2) (3.2.0)\n"
          ]
        }
      ]
    },
    {
      "cell_type": "code",
      "metadata": {
        "id": "XMIHLgQ3Z-lF",
        "colab": {
          "base_uri": "https://localhost:8080/"
        },
        "outputId": "3d5a8608-456f-4127-ce8a-f551e5f4e4f3"
      },
      "source": [
        "!pip install gym"
      ],
      "execution_count": 58,
      "outputs": [
        {
          "output_type": "stream",
          "name": "stdout",
          "text": [
            "Requirement already satisfied: gym in /usr/local/lib/python3.7/dist-packages (0.17.3)\n",
            "Requirement already satisfied: numpy>=1.10.4 in /usr/local/lib/python3.7/dist-packages (from gym) (1.21.5)\n",
            "Requirement already satisfied: scipy in /usr/local/lib/python3.7/dist-packages (from gym) (1.4.1)\n",
            "Requirement already satisfied: pyglet<=1.5.0,>=1.4.0 in /usr/local/lib/python3.7/dist-packages (from gym) (1.5.0)\n",
            "Requirement already satisfied: cloudpickle<1.7.0,>=1.2.0 in /usr/local/lib/python3.7/dist-packages (from gym) (1.3.0)\n",
            "Requirement already satisfied: future in /usr/local/lib/python3.7/dist-packages (from pyglet<=1.5.0,>=1.4.0->gym) (0.16.0)\n"
          ]
        }
      ]
    },
    {
      "cell_type": "code",
      "metadata": {
        "id": "M0AMLzq08ap0",
        "colab": {
          "base_uri": "https://localhost:8080/"
        },
        "outputId": "77b380e1-6c3d-4bce-8233-a8ac01deaf26"
      },
      "source": [
        "# load the gym module\n",
        "import gym\n",
        "import matplotlib.pyplot as plt\n",
        "# import the usual Keras modules for creating deep neural networks\n",
        "from keras import Sequential\n",
        "from keras.layers import Input, Flatten, Dense\n",
        "!pip install Adam\n",
        "#from keras.optimizers import Adam\n",
        "from tensorflow.keras.optimizers import Adam\n",
        "ENV_NAME = 'CartPole-v0'\n",
        "env = gym.make(ENV_NAME)"
      ],
      "execution_count": 62,
      "outputs": [
        {
          "output_type": "stream",
          "name": "stdout",
          "text": [
            "Requirement already satisfied: Adam in /usr/local/lib/python3.7/dist-packages (0.0.0.dev0)\n"
          ]
        }
      ]
    },
    {
      "cell_type": "markdown",
      "metadata": {
        "id": "ll6bNdUm54WS"
      },
      "source": [
        "Implementation of DQN for CartPole, applying policy BoltzmannQPolicy"
      ]
    },
    {
      "cell_type": "markdown",
      "metadata": {
        "id": "RSCrPKNy40PC"
      },
      "source": [
        "##Implement DQN with BoltzmannGumbelQPolicy"
      ]
    },
    {
      "cell_type": "code",
      "metadata": {
        "id": "efM9jkXr5A3c",
        "colab": {
          "base_uri": "https://localhost:8080/",
          "height": 1000
        },
        "outputId": "c40afed0-4726-46e4-9250-1846dfa84c86"
      },
      "source": [
        "import rl\n",
        "from rl.memory import SequentialMemory  # import the exerience replay buffer module\n",
        "from rl.policy import BoltzmannGumbelQPolicy\n",
        "from rl.policy import LinearAnnealedPolicy\n",
        "from rl.policy import EpsGreedyQPolicy\n",
        "from rl.agents.dqn import DQNAgent      # import the DQN agent\n",
        "\n",
        "# setup experience replay buffer\n",
        "memory = SequentialMemory(limit=10000, window_length=1)\n",
        "\n",
        "policy = LinearAnnealedPolicy(EpsGreedyQPolicy(), \n",
        "                               attr='eps',            \n",
        "                               value_max=5.,\n",
        "                               value_min=.5, \n",
        "                               value_test=.05,\n",
        "                               nb_steps=200)\n",
        "# Q-Network\n",
        "model = Sequential()\n",
        "model.add(Input(shape=(1,env.observation_space.shape[0])))  # The input is 1 observation vector, and the number of observations in that vector \n",
        "model.add(Flatten())\n",
        "model.add(Dense(16, activation='relu'))\n",
        "# add extra layers here\n",
        "model.add(Dense(env.action_space.n, activation='linear'))   # the output is the number of actions in the action space\n",
        "\n",
        "print(model.summary())\n",
        "\n",
        "# define the agent\n",
        "dqn = DQNAgent(model=model, \n",
        "               nb_actions=env.action_space.n,\n",
        "               memory=memory,\n",
        "               nb_steps_warmup=20,\n",
        "               target_model_update=1e-2, \n",
        "               policy=policy) \n",
        "\n",
        "dqn.compile(Adam(lr=1e-3), metrics=['mae'])\n",
        "\n",
        "history = dqn.fit(env, nb_steps=10000, visualize=False, verbose=2)\n",
        "\n",
        "# summarize the history for number  of episode steps\n",
        "plt.plot(history.history['nb_episode_steps'])\n",
        "plt.ylabel('nb_episode_steps')\n",
        "plt.xlabel('episodes')\n",
        "plt.show()\n",
        "\n",
        "dqn.test(env, nb_episodes=20, visualize=False)"
      ],
      "execution_count": 96,
      "outputs": [
        {
          "output_type": "stream",
          "name": "stdout",
          "text": [
            "Model: \"sequential_47\"\n",
            "_________________________________________________________________\n",
            " Layer (type)                Output Shape              Param #   \n",
            "=================================================================\n",
            " flatten_45 (Flatten)        (None, 4)                 0         \n",
            "                                                                 \n",
            " dense_91 (Dense)            (None, 16)                80        \n",
            "                                                                 \n",
            " dense_92 (Dense)            (None, 2)                 34        \n",
            "                                                                 \n",
            "=================================================================\n",
            "Total params: 114\n",
            "Trainable params: 114\n",
            "Non-trainable params: 0\n",
            "_________________________________________________________________\n",
            "None\n"
          ]
        },
        {
          "output_type": "stream",
          "name": "stderr",
          "text": [
            "/usr/local/lib/python3.7/dist-packages/keras/optimizer_v2/adam.py:105: UserWarning: The `lr` argument is deprecated, use `learning_rate` instead.\n",
            "  super(Adam, self).__init__(name, **kwargs)\n"
          ]
        },
        {
          "output_type": "stream",
          "name": "stdout",
          "text": [
            "Training for 10000 steps ...\n"
          ]
        },
        {
          "output_type": "stream",
          "name": "stderr",
          "text": [
            "/usr/local/lib/python3.7/dist-packages/keras/engine/training_v1.py:2079: UserWarning: `Model.state_updates` will be removed in a future version. This property should not be used in TensorFlow 2.0, as `updates` are applied automatically.\n",
            "  updates=self.state_updates,\n"
          ]
        },
        {
          "output_type": "stream",
          "name": "stdout",
          "text": [
            "   16/10000: episode: 1, duration: 2.428s, episode steps:  16, steps per second:   7, episode reward: 16.000, mean reward:  1.000 [ 1.000,  1.000], mean action: 0.688 [0.000, 1.000],  loss: --, mae: --, mean_q: --, mean_eps: --\n"
          ]
        },
        {
          "output_type": "stream",
          "name": "stderr",
          "text": [
            "/usr/local/lib/python3.7/dist-packages/rl/memory.py:37: UserWarning: Not enough entries to sample without replacement. Consider increasing your warm-up phase to avoid oversampling!\n",
            "  warnings.warn('Not enough entries to sample without replacement. Consider increasing your warm-up phase to avoid oversampling!')\n",
            "/usr/local/lib/python3.7/dist-packages/keras/engine/training_v1.py:2079: UserWarning: `Model.state_updates` will be removed in a future version. This property should not be used in TensorFlow 2.0, as `updates` are applied automatically.\n",
            "  updates=self.state_updates,\n"
          ]
        },
        {
          "output_type": "stream",
          "name": "stdout",
          "text": [
            "   55/10000: episode: 2, duration: 11.228s, episode steps:  39, steps per second:   3, episode reward: 39.000, mean reward:  1.000 [ 1.000,  1.000], mean action: 0.436 [0.000, 1.000],  loss: 0.528783, mae: 0.577818, mean_q: -0.035839, mean_eps: 4.156250\n",
            "   66/10000: episode: 3, duration: 0.319s, episode steps:  11, steps per second:  35, episode reward: 11.000, mean reward:  1.000 [ 1.000,  1.000], mean action: 0.818 [0.000, 1.000],  loss: 0.442412, mae: 0.513853, mean_q: 0.005641, mean_eps: 3.650000\n",
            "  121/10000: episode: 4, duration: 1.387s, episode steps:  55, steps per second:  40, episode reward: 55.000, mean reward:  1.000 [ 1.000,  1.000], mean action: 0.582 [0.000, 1.000],  loss: 0.395210, mae: 0.509272, mean_q: 0.163071, mean_eps: 2.907500\n",
            "  155/10000: episode: 5, duration: 0.930s, episode steps:  34, steps per second:  37, episode reward: 34.000, mean reward:  1.000 [ 1.000,  1.000], mean action: 0.382 [0.000, 1.000],  loss: 0.341125, mae: 0.548035, mean_q: 0.341597, mean_eps: 1.906250\n",
            "  176/10000: episode: 6, duration: 0.562s, episode steps:  21, steps per second:  37, episode reward: 21.000, mean reward:  1.000 [ 1.000,  1.000], mean action: 0.381 [0.000, 1.000],  loss: 0.277985, mae: 0.582614, mean_q: 0.493713, mean_eps: 1.287500\n",
            "  197/10000: episode: 7, duration: 0.552s, episode steps:  21, steps per second:  38, episode reward: 21.000, mean reward:  1.000 [ 1.000,  1.000], mean action: 0.333 [0.000, 1.000],  loss: 0.246603, mae: 0.616494, mean_q: 0.629369, mean_eps: 0.815000\n",
            "  210/10000: episode: 8, duration: 0.361s, episode steps:  13, steps per second:  36, episode reward: 13.000, mean reward:  1.000 [ 1.000,  1.000], mean action: 0.231 [0.000, 1.000],  loss: 0.218677, mae: 0.665300, mean_q: 0.797253, mean_eps: 0.510385\n",
            "  224/10000: episode: 9, duration: 0.382s, episode steps:  14, steps per second:  37, episode reward: 14.000, mean reward:  1.000 [ 1.000,  1.000], mean action: 0.214 [0.000, 1.000],  loss: 0.188883, mae: 0.700774, mean_q: 0.937672, mean_eps: 0.500000\n",
            "  239/10000: episode: 10, duration: 0.438s, episode steps:  15, steps per second:  34, episode reward: 15.000, mean reward:  1.000 [ 1.000,  1.000], mean action: 0.400 [0.000, 1.000],  loss: 0.186635, mae: 0.740442, mean_q: 1.026020, mean_eps: 0.500000\n",
            "  250/10000: episode: 11, duration: 0.297s, episode steps:  11, steps per second:  37, episode reward: 11.000, mean reward:  1.000 [ 1.000,  1.000], mean action: 0.091 [0.000, 1.000],  loss: 0.170276, mae: 0.769085, mean_q: 1.108711, mean_eps: 0.500000\n",
            "  261/10000: episode: 12, duration: 0.327s, episode steps:  11, steps per second:  34, episode reward: 11.000, mean reward:  1.000 [ 1.000,  1.000], mean action: 0.182 [0.000, 1.000],  loss: 0.170855, mae: 0.821785, mean_q: 1.284406, mean_eps: 0.500000\n",
            "  281/10000: episode: 13, duration: 0.354s, episode steps:  20, steps per second:  57, episode reward: 20.000, mean reward:  1.000 [ 1.000,  1.000], mean action: 0.350 [0.000, 1.000],  loss: 0.163871, mae: 0.859463, mean_q: 1.366445, mean_eps: 0.500000\n",
            "  301/10000: episode: 14, duration: 0.343s, episode steps:  20, steps per second:  58, episode reward: 20.000, mean reward:  1.000 [ 1.000,  1.000], mean action: 0.400 [0.000, 1.000],  loss: 0.162173, mae: 0.924761, mean_q: 1.530996, mean_eps: 0.500000\n",
            "  312/10000: episode: 15, duration: 0.188s, episode steps:  11, steps per second:  58, episode reward: 11.000, mean reward:  1.000 [ 1.000,  1.000], mean action: 0.091 [0.000, 1.000],  loss: 0.180149, mae: 0.973818, mean_q: 1.649140, mean_eps: 0.500000\n",
            "  322/10000: episode: 16, duration: 0.193s, episode steps:  10, steps per second:  52, episode reward: 10.000, mean reward:  1.000 [ 1.000,  1.000], mean action: 0.100 [0.000, 1.000],  loss: 0.187661, mae: 1.009592, mean_q: 1.723749, mean_eps: 0.500000\n",
            "  333/10000: episode: 17, duration: 0.183s, episode steps:  11, steps per second:  60, episode reward: 11.000, mean reward:  1.000 [ 1.000,  1.000], mean action: 0.182 [0.000, 1.000],  loss: 0.238040, mae: 1.079675, mean_q: 1.844637, mean_eps: 0.500000\n",
            "  343/10000: episode: 18, duration: 0.174s, episode steps:  10, steps per second:  57, episode reward: 10.000, mean reward:  1.000 [ 1.000,  1.000], mean action: 0.100 [0.000, 1.000],  loss: 0.191979, mae: 1.104838, mean_q: 1.912407, mean_eps: 0.500000\n",
            "  358/10000: episode: 19, duration: 0.255s, episode steps:  15, steps per second:  59, episode reward: 15.000, mean reward:  1.000 [ 1.000,  1.000], mean action: 0.200 [0.000, 1.000],  loss: 0.218033, mae: 1.146637, mean_q: 2.058119, mean_eps: 0.500000\n",
            "  367/10000: episode: 20, duration: 0.172s, episode steps:   9, steps per second:  52, episode reward:  9.000, mean reward:  1.000 [ 1.000,  1.000], mean action: 0.222 [0.000, 1.000],  loss: 0.201514, mae: 1.204230, mean_q: 2.151903, mean_eps: 0.500000\n",
            "  381/10000: episode: 21, duration: 0.255s, episode steps:  14, steps per second:  55, episode reward: 14.000, mean reward:  1.000 [ 1.000,  1.000], mean action: 0.214 [0.000, 1.000],  loss: 0.279962, mae: 1.277747, mean_q: 2.271408, mean_eps: 0.500000\n",
            "  389/10000: episode: 22, duration: 0.132s, episode steps:   8, steps per second:  61, episode reward:  8.000, mean reward:  1.000 [ 1.000,  1.000], mean action: 0.000 [0.000, 0.000],  loss: 0.250344, mae: 1.305440, mean_q: 2.277427, mean_eps: 0.500000\n",
            "  403/10000: episode: 23, duration: 0.291s, episode steps:  14, steps per second:  48, episode reward: 14.000, mean reward:  1.000 [ 1.000,  1.000], mean action: 0.286 [0.000, 1.000],  loss: 0.354536, mae: 1.386234, mean_q: 2.334597, mean_eps: 0.500000\n",
            "  419/10000: episode: 24, duration: 0.330s, episode steps:  16, steps per second:  49, episode reward: 16.000, mean reward:  1.000 [ 1.000,  1.000], mean action: 0.312 [0.000, 1.000],  loss: 0.259396, mae: 1.387112, mean_q: 2.415412, mean_eps: 0.500000\n",
            "  432/10000: episode: 25, duration: 0.241s, episode steps:  13, steps per second:  54, episode reward: 13.000, mean reward:  1.000 [ 1.000,  1.000], mean action: 0.231 [0.000, 1.000],  loss: 0.294096, mae: 1.458908, mean_q: 2.617284, mean_eps: 0.500000\n",
            "  442/10000: episode: 26, duration: 0.158s, episode steps:  10, steps per second:  63, episode reward: 10.000, mean reward:  1.000 [ 1.000,  1.000], mean action: 0.100 [0.000, 1.000],  loss: 0.268343, mae: 1.459111, mean_q: 2.640504, mean_eps: 0.500000\n",
            "  454/10000: episode: 27, duration: 0.193s, episode steps:  12, steps per second:  62, episode reward: 12.000, mean reward:  1.000 [ 1.000,  1.000], mean action: 0.167 [0.000, 1.000],  loss: 0.397601, mae: 1.582620, mean_q: 2.798394, mean_eps: 0.500000\n",
            "  466/10000: episode: 28, duration: 0.205s, episode steps:  12, steps per second:  59, episode reward: 12.000, mean reward:  1.000 [ 1.000,  1.000], mean action: 0.167 [0.000, 1.000],  loss: 0.328776, mae: 1.595189, mean_q: 2.884877, mean_eps: 0.500000\n",
            "  477/10000: episode: 29, duration: 0.185s, episode steps:  11, steps per second:  60, episode reward: 11.000, mean reward:  1.000 [ 1.000,  1.000], mean action: 0.182 [0.000, 1.000],  loss: 0.286596, mae: 1.582934, mean_q: 2.875344, mean_eps: 0.500000\n",
            "  497/10000: episode: 30, duration: 0.347s, episode steps:  20, steps per second:  58, episode reward: 20.000, mean reward:  1.000 [ 1.000,  1.000], mean action: 0.250 [0.000, 1.000],  loss: 0.372986, mae: 1.673088, mean_q: 3.073008, mean_eps: 0.500000\n",
            "  510/10000: episode: 31, duration: 0.222s, episode steps:  13, steps per second:  58, episode reward: 13.000, mean reward:  1.000 [ 1.000,  1.000], mean action: 0.154 [0.000, 1.000],  loss: 0.406543, mae: 1.722250, mean_q: 3.128890, mean_eps: 0.500000\n",
            "  520/10000: episode: 32, duration: 0.169s, episode steps:  10, steps per second:  59, episode reward: 10.000, mean reward:  1.000 [ 1.000,  1.000], mean action: 0.100 [0.000, 1.000],  loss: 0.441304, mae: 1.808402, mean_q: 3.229882, mean_eps: 0.500000\n",
            "  535/10000: episode: 33, duration: 0.235s, episode steps:  15, steps per second:  64, episode reward: 15.000, mean reward:  1.000 [ 1.000,  1.000], mean action: 0.267 [0.000, 1.000],  loss: 0.428532, mae: 1.835627, mean_q: 3.273916, mean_eps: 0.500000\n",
            "  544/10000: episode: 34, duration: 0.173s, episode steps:   9, steps per second:  52, episode reward:  9.000, mean reward:  1.000 [ 1.000,  1.000], mean action: 0.111 [0.000, 1.000],  loss: 0.371320, mae: 1.860045, mean_q: 3.371517, mean_eps: 0.500000\n",
            "  559/10000: episode: 35, duration: 0.377s, episode steps:  15, steps per second:  40, episode reward: 15.000, mean reward:  1.000 [ 1.000,  1.000], mean action: 0.333 [0.000, 1.000],  loss: 0.387974, mae: 1.907577, mean_q: 3.453246, mean_eps: 0.500000\n",
            "  571/10000: episode: 36, duration: 0.336s, episode steps:  12, steps per second:  36, episode reward: 12.000, mean reward:  1.000 [ 1.000,  1.000], mean action: 0.250 [0.000, 1.000],  loss: 0.393869, mae: 1.954232, mean_q: 3.600804, mean_eps: 0.500000\n",
            "  602/10000: episode: 37, duration: 0.869s, episode steps:  31, steps per second:  36, episode reward: 31.000, mean reward:  1.000 [ 1.000,  1.000], mean action: 0.387 [0.000, 1.000],  loss: 0.438481, mae: 2.015462, mean_q: 3.791114, mean_eps: 0.500000\n",
            "  611/10000: episode: 38, duration: 0.256s, episode steps:   9, steps per second:  35, episode reward:  9.000, mean reward:  1.000 [ 1.000,  1.000], mean action: 0.000 [0.000, 0.000],  loss: 0.390170, mae: 2.060084, mean_q: 3.923185, mean_eps: 0.500000\n",
            "  624/10000: episode: 39, duration: 0.344s, episode steps:  13, steps per second:  38, episode reward: 13.000, mean reward:  1.000 [ 1.000,  1.000], mean action: 0.077 [0.000, 1.000],  loss: 0.582426, mae: 2.158156, mean_q: 4.045883, mean_eps: 0.500000\n",
            "  633/10000: episode: 40, duration: 0.266s, episode steps:   9, steps per second:  34, episode reward:  9.000, mean reward:  1.000 [ 1.000,  1.000], mean action: 0.111 [0.000, 1.000],  loss: 0.413816, mae: 2.164362, mean_q: 4.027550, mean_eps: 0.500000\n",
            "  645/10000: episode: 41, duration: 0.339s, episode steps:  12, steps per second:  35, episode reward: 12.000, mean reward:  1.000 [ 1.000,  1.000], mean action: 0.250 [0.000, 1.000],  loss: 0.555285, mae: 2.238939, mean_q: 4.116087, mean_eps: 0.500000\n",
            "  655/10000: episode: 42, duration: 0.243s, episode steps:  10, steps per second:  41, episode reward: 10.000, mean reward:  1.000 [ 1.000,  1.000], mean action: 0.200 [0.000, 1.000],  loss: 0.574851, mae: 2.274442, mean_q: 4.143932, mean_eps: 0.500000\n",
            "  671/10000: episode: 43, duration: 0.299s, episode steps:  16, steps per second:  54, episode reward: 16.000, mean reward:  1.000 [ 1.000,  1.000], mean action: 0.312 [0.000, 1.000],  loss: 0.484201, mae: 2.305286, mean_q: 4.203350, mean_eps: 0.500000\n",
            "  698/10000: episode: 44, duration: 0.453s, episode steps:  27, steps per second:  60, episode reward: 27.000, mean reward:  1.000 [ 1.000,  1.000], mean action: 0.407 [0.000, 1.000],  loss: 0.469624, mae: 2.388094, mean_q: 4.388654, mean_eps: 0.500000\n",
            "  713/10000: episode: 45, duration: 0.279s, episode steps:  15, steps per second:  54, episode reward: 15.000, mean reward:  1.000 [ 1.000,  1.000], mean action: 0.400 [0.000, 1.000],  loss: 0.451093, mae: 2.454426, mean_q: 4.534385, mean_eps: 0.500000\n",
            "  723/10000: episode: 46, duration: 0.302s, episode steps:  10, steps per second:  33, episode reward: 10.000, mean reward:  1.000 [ 1.000,  1.000], mean action: 0.200 [0.000, 1.000],  loss: 0.432307, mae: 2.466017, mean_q: 4.630248, mean_eps: 0.500000\n",
            "  735/10000: episode: 47, duration: 0.324s, episode steps:  12, steps per second:  37, episode reward: 12.000, mean reward:  1.000 [ 1.000,  1.000], mean action: 0.333 [0.000, 1.000],  loss: 0.350870, mae: 2.476733, mean_q: 4.731912, mean_eps: 0.500000\n",
            "  747/10000: episode: 48, duration: 0.371s, episode steps:  12, steps per second:  32, episode reward: 12.000, mean reward:  1.000 [ 1.000,  1.000], mean action: 0.083 [0.000, 1.000],  loss: 0.501106, mae: 2.544450, mean_q: 4.825864, mean_eps: 0.500000\n",
            "  758/10000: episode: 49, duration: 0.226s, episode steps:  11, steps per second:  49, episode reward: 11.000, mean reward:  1.000 [ 1.000,  1.000], mean action: 0.273 [0.000, 1.000],  loss: 0.399794, mae: 2.545437, mean_q: 4.907576, mean_eps: 0.500000\n",
            "  784/10000: episode: 50, duration: 0.498s, episode steps:  26, steps per second:  52, episode reward: 26.000, mean reward:  1.000 [ 1.000,  1.000], mean action: 0.385 [0.000, 1.000],  loss: 0.510887, mae: 2.653441, mean_q: 4.943847, mean_eps: 0.500000\n",
            "  795/10000: episode: 51, duration: 0.180s, episode steps:  11, steps per second:  61, episode reward: 11.000, mean reward:  1.000 [ 1.000,  1.000], mean action: 0.273 [0.000, 1.000],  loss: 0.406635, mae: 2.701585, mean_q: 5.080875, mean_eps: 0.500000\n",
            "  811/10000: episode: 52, duration: 0.280s, episode steps:  16, steps per second:  57, episode reward: 16.000, mean reward:  1.000 [ 1.000,  1.000], mean action: 0.250 [0.000, 1.000],  loss: 0.431226, mae: 2.738447, mean_q: 5.195483, mean_eps: 0.500000\n",
            "  827/10000: episode: 53, duration: 0.267s, episode steps:  16, steps per second:  60, episode reward: 16.000, mean reward:  1.000 [ 1.000,  1.000], mean action: 0.375 [0.000, 1.000],  loss: 0.510039, mae: 2.795648, mean_q: 5.268312, mean_eps: 0.500000\n",
            "  838/10000: episode: 54, duration: 0.176s, episode steps:  11, steps per second:  63, episode reward: 11.000, mean reward:  1.000 [ 1.000,  1.000], mean action: 0.182 [0.000, 1.000],  loss: 0.513647, mae: 2.852392, mean_q: 5.355454, mean_eps: 0.500000\n",
            "  860/10000: episode: 55, duration: 0.366s, episode steps:  22, steps per second:  60, episode reward: 22.000, mean reward:  1.000 [ 1.000,  1.000], mean action: 0.455 [0.000, 1.000],  loss: 0.500091, mae: 2.880642, mean_q: 5.407494, mean_eps: 0.500000\n",
            "  871/10000: episode: 56, duration: 0.234s, episode steps:  11, steps per second:  47, episode reward: 11.000, mean reward:  1.000 [ 1.000,  1.000], mean action: 0.273 [0.000, 1.000],  loss: 0.516191, mae: 2.951241, mean_q: 5.530659, mean_eps: 0.500000\n",
            "  883/10000: episode: 57, duration: 0.184s, episode steps:  12, steps per second:  65, episode reward: 12.000, mean reward:  1.000 [ 1.000,  1.000], mean action: 0.333 [0.000, 1.000],  loss: 0.495662, mae: 2.981760, mean_q: 5.633386, mean_eps: 0.500000\n",
            "  903/10000: episode: 58, duration: 0.323s, episode steps:  20, steps per second:  62, episode reward: 20.000, mean reward:  1.000 [ 1.000,  1.000], mean action: 0.350 [0.000, 1.000],  loss: 0.501992, mae: 3.030832, mean_q: 5.614263, mean_eps: 0.500000\n",
            "  922/10000: episode: 59, duration: 0.310s, episode steps:  19, steps per second:  61, episode reward: 19.000, mean reward:  1.000 [ 1.000,  1.000], mean action: 0.368 [0.000, 1.000],  loss: 0.546213, mae: 3.075513, mean_q: 5.753436, mean_eps: 0.500000\n",
            "  938/10000: episode: 60, duration: 0.479s, episode steps:  16, steps per second:  33, episode reward: 16.000, mean reward:  1.000 [ 1.000,  1.000], mean action: 0.375 [0.000, 1.000],  loss: 0.438387, mae: 3.119510, mean_q: 5.847322, mean_eps: 0.500000\n",
            "  950/10000: episode: 61, duration: 0.327s, episode steps:  12, steps per second:  37, episode reward: 12.000, mean reward:  1.000 [ 1.000,  1.000], mean action: 0.417 [0.000, 1.000],  loss: 0.508583, mae: 3.157672, mean_q: 5.860372, mean_eps: 0.500000\n",
            "  962/10000: episode: 62, duration: 0.306s, episode steps:  12, steps per second:  39, episode reward: 12.000, mean reward:  1.000 [ 1.000,  1.000], mean action: 0.167 [0.000, 1.000],  loss: 0.568741, mae: 3.195383, mean_q: 5.948012, mean_eps: 0.500000\n",
            "  972/10000: episode: 63, duration: 0.283s, episode steps:  10, steps per second:  35, episode reward: 10.000, mean reward:  1.000 [ 1.000,  1.000], mean action: 0.600 [0.000, 1.000],  loss: 0.360977, mae: 3.185484, mean_q: 6.005473, mean_eps: 0.500000\n",
            " 1002/10000: episode: 64, duration: 0.728s, episode steps:  30, steps per second:  41, episode reward: 30.000, mean reward:  1.000 [ 1.000,  1.000], mean action: 0.700 [0.000, 1.000],  loss: 0.559744, mae: 3.302099, mean_q: 6.202052, mean_eps: 0.500000\n",
            " 1025/10000: episode: 65, duration: 0.383s, episode steps:  23, steps per second:  60, episode reward: 23.000, mean reward:  1.000 [ 1.000,  1.000], mean action: 0.391 [0.000, 1.000],  loss: 0.495849, mae: 3.369516, mean_q: 6.322378, mean_eps: 0.500000\n",
            " 1038/10000: episode: 66, duration: 0.245s, episode steps:  13, steps per second:  53, episode reward: 13.000, mean reward:  1.000 [ 1.000,  1.000], mean action: 0.462 [0.000, 1.000],  loss: 0.592192, mae: 3.449685, mean_q: 6.402994, mean_eps: 0.500000\n",
            " 1055/10000: episode: 67, duration: 0.296s, episode steps:  17, steps per second:  58, episode reward: 17.000, mean reward:  1.000 [ 1.000,  1.000], mean action: 0.471 [0.000, 1.000],  loss: 0.636509, mae: 3.514534, mean_q: 6.562129, mean_eps: 0.500000\n",
            " 1071/10000: episode: 68, duration: 0.280s, episode steps:  16, steps per second:  57, episode reward: 16.000, mean reward:  1.000 [ 1.000,  1.000], mean action: 0.438 [0.000, 1.000],  loss: 0.625085, mae: 3.555176, mean_q: 6.621096, mean_eps: 0.500000\n",
            " 1133/10000: episode: 69, duration: 0.980s, episode steps:  62, steps per second:  63, episode reward: 62.000, mean reward:  1.000 [ 1.000,  1.000], mean action: 0.629 [0.000, 1.000],  loss: 0.712622, mae: 3.657847, mean_q: 6.820805, mean_eps: 0.500000\n",
            " 1145/10000: episode: 70, duration: 0.199s, episode steps:  12, steps per second:  60, episode reward: 12.000, mean reward:  1.000 [ 1.000,  1.000], mean action: 0.833 [0.000, 1.000],  loss: 0.635586, mae: 3.744953, mean_q: 6.946470, mean_eps: 0.500000\n",
            " 1157/10000: episode: 71, duration: 0.192s, episode steps:  12, steps per second:  63, episode reward: 12.000, mean reward:  1.000 [ 1.000,  1.000], mean action: 0.750 [0.000, 1.000],  loss: 0.797327, mae: 3.793729, mean_q: 7.098016, mean_eps: 0.500000\n",
            " 1167/10000: episode: 72, duration: 0.179s, episode steps:  10, steps per second:  56, episode reward: 10.000, mean reward:  1.000 [ 1.000,  1.000], mean action: 0.900 [0.000, 1.000],  loss: 0.928594, mae: 3.895587, mean_q: 7.268488, mean_eps: 0.500000\n",
            " 1178/10000: episode: 73, duration: 0.183s, episode steps:  11, steps per second:  60, episode reward: 11.000, mean reward:  1.000 [ 1.000,  1.000], mean action: 0.818 [0.000, 1.000],  loss: 0.872362, mae: 3.927424, mean_q: 7.360471, mean_eps: 0.500000\n",
            " 1190/10000: episode: 74, duration: 0.181s, episode steps:  12, steps per second:  66, episode reward: 12.000, mean reward:  1.000 [ 1.000,  1.000], mean action: 0.750 [0.000, 1.000],  loss: 0.603066, mae: 3.918427, mean_q: 7.422847, mean_eps: 0.500000\n",
            " 1203/10000: episode: 75, duration: 0.210s, episode steps:  13, steps per second:  62, episode reward: 13.000, mean reward:  1.000 [ 1.000,  1.000], mean action: 0.692 [0.000, 1.000],  loss: 0.650324, mae: 3.953874, mean_q: 7.557949, mean_eps: 0.500000\n",
            " 1222/10000: episode: 76, duration: 0.283s, episode steps:  19, steps per second:  67, episode reward: 19.000, mean reward:  1.000 [ 1.000,  1.000], mean action: 0.737 [0.000, 1.000],  loss: 0.866754, mae: 4.085646, mean_q: 7.863612, mean_eps: 0.500000\n",
            " 1234/10000: episode: 77, duration: 0.181s, episode steps:  12, steps per second:  66, episode reward: 12.000, mean reward:  1.000 [ 1.000,  1.000], mean action: 0.833 [0.000, 1.000],  loss: 1.084072, mae: 4.102970, mean_q: 7.715005, mean_eps: 0.500000\n",
            " 1247/10000: episode: 78, duration: 0.200s, episode steps:  13, steps per second:  65, episode reward: 13.000, mean reward:  1.000 [ 1.000,  1.000], mean action: 0.615 [0.000, 1.000],  loss: 0.911369, mae: 4.179918, mean_q: 7.923203, mean_eps: 0.500000\n",
            " 1257/10000: episode: 79, duration: 0.160s, episode steps:  10, steps per second:  63, episode reward: 10.000, mean reward:  1.000 [ 1.000,  1.000], mean action: 0.900 [0.000, 1.000],  loss: 1.011473, mae: 4.219813, mean_q: 7.976795, mean_eps: 0.500000\n",
            " 1267/10000: episode: 80, duration: 0.168s, episode steps:  10, steps per second:  60, episode reward: 10.000, mean reward:  1.000 [ 1.000,  1.000], mean action: 0.900 [0.000, 1.000],  loss: 1.336585, mae: 4.221075, mean_q: 7.910644, mean_eps: 0.500000\n",
            " 1275/10000: episode: 81, duration: 0.127s, episode steps:   8, steps per second:  63, episode reward:  8.000, mean reward:  1.000 [ 1.000,  1.000], mean action: 0.875 [0.000, 1.000],  loss: 0.737364, mae: 4.166422, mean_q: 7.932453, mean_eps: 0.500000\n",
            " 1284/10000: episode: 82, duration: 0.169s, episode steps:   9, steps per second:  53, episode reward:  9.000, mean reward:  1.000 [ 1.000,  1.000], mean action: 1.000 [1.000, 1.000],  loss: 1.430423, mae: 4.347631, mean_q: 8.138055, mean_eps: 0.500000\n",
            " 1303/10000: episode: 83, duration: 0.313s, episode steps:  19, steps per second:  61, episode reward: 19.000, mean reward:  1.000 [ 1.000,  1.000], mean action: 0.684 [0.000, 1.000],  loss: 1.005997, mae: 4.273574, mean_q: 8.070448, mean_eps: 0.500000\n",
            " 1312/10000: episode: 84, duration: 0.158s, episode steps:   9, steps per second:  57, episode reward:  9.000, mean reward:  1.000 [ 1.000,  1.000], mean action: 1.000 [1.000, 1.000],  loss: 1.705582, mae: 4.417480, mean_q: 8.318970, mean_eps: 0.500000\n",
            " 1328/10000: episode: 85, duration: 0.302s, episode steps:  16, steps per second:  53, episode reward: 16.000, mean reward:  1.000 [ 1.000,  1.000], mean action: 0.562 [0.000, 1.000],  loss: 1.139482, mae: 4.387605, mean_q: 8.236846, mean_eps: 0.500000\n",
            " 1342/10000: episode: 86, duration: 0.251s, episode steps:  14, steps per second:  56, episode reward: 14.000, mean reward:  1.000 [ 1.000,  1.000], mean action: 0.786 [0.000, 1.000],  loss: 1.436854, mae: 4.453648, mean_q: 8.322553, mean_eps: 0.500000\n",
            " 1360/10000: episode: 87, duration: 0.295s, episode steps:  18, steps per second:  61, episode reward: 18.000, mean reward:  1.000 [ 1.000,  1.000], mean action: 0.778 [0.000, 1.000],  loss: 1.032780, mae: 4.490618, mean_q: 8.517203, mean_eps: 0.500000\n",
            " 1378/10000: episode: 88, duration: 0.282s, episode steps:  18, steps per second:  64, episode reward: 18.000, mean reward:  1.000 [ 1.000,  1.000], mean action: 0.500 [0.000, 1.000],  loss: 1.065148, mae: 4.524305, mean_q: 8.642169, mean_eps: 0.500000\n",
            " 1399/10000: episode: 89, duration: 0.351s, episode steps:  21, steps per second:  60, episode reward: 21.000, mean reward:  1.000 [ 1.000,  1.000], mean action: 0.667 [0.000, 1.000],  loss: 1.357219, mae: 4.609924, mean_q: 8.737984, mean_eps: 0.500000\n",
            " 1418/10000: episode: 90, duration: 0.295s, episode steps:  19, steps per second:  65, episode reward: 19.000, mean reward:  1.000 [ 1.000,  1.000], mean action: 0.579 [0.000, 1.000],  loss: 1.381675, mae: 4.682043, mean_q: 8.806221, mean_eps: 0.500000\n",
            " 1429/10000: episode: 91, duration: 0.168s, episode steps:  11, steps per second:  65, episode reward: 11.000, mean reward:  1.000 [ 1.000,  1.000], mean action: 0.818 [0.000, 1.000],  loss: 1.153835, mae: 4.751097, mean_q: 9.021880, mean_eps: 0.500000\n",
            " 1447/10000: episode: 92, duration: 0.418s, episode steps:  18, steps per second:  43, episode reward: 18.000, mean reward:  1.000 [ 1.000,  1.000], mean action: 0.667 [0.000, 1.000],  loss: 1.511418, mae: 4.847790, mean_q: 9.224009, mean_eps: 0.500000\n",
            " 1459/10000: episode: 93, duration: 0.293s, episode steps:  12, steps per second:  41, episode reward: 12.000, mean reward:  1.000 [ 1.000,  1.000], mean action: 0.917 [0.000, 1.000],  loss: 2.039545, mae: 4.916860, mean_q: 9.228423, mean_eps: 0.500000\n",
            " 1475/10000: episode: 94, duration: 0.404s, episode steps:  16, steps per second:  40, episode reward: 16.000, mean reward:  1.000 [ 1.000,  1.000], mean action: 0.750 [0.000, 1.000],  loss: 1.406098, mae: 4.890330, mean_q: 9.277640, mean_eps: 0.500000\n",
            " 1487/10000: episode: 95, duration: 0.310s, episode steps:  12, steps per second:  39, episode reward: 12.000, mean reward:  1.000 [ 1.000,  1.000], mean action: 0.750 [0.000, 1.000],  loss: 2.077474, mae: 4.987439, mean_q: 9.223260, mean_eps: 0.500000\n",
            " 1495/10000: episode: 96, duration: 0.207s, episode steps:   8, steps per second:  39, episode reward:  8.000, mean reward:  1.000 [ 1.000,  1.000], mean action: 1.000 [1.000, 1.000],  loss: 1.519854, mae: 4.918958, mean_q: 9.153208, mean_eps: 0.500000\n",
            " 1509/10000: episode: 97, duration: 0.305s, episode steps:  14, steps per second:  46, episode reward: 14.000, mean reward:  1.000 [ 1.000,  1.000], mean action: 0.643 [0.000, 1.000],  loss: 2.436748, mae: 5.037722, mean_q: 9.168056, mean_eps: 0.500000\n",
            " 1522/10000: episode: 98, duration: 0.249s, episode steps:  13, steps per second:  52, episode reward: 13.000, mean reward:  1.000 [ 1.000,  1.000], mean action: 0.846 [0.000, 1.000],  loss: 1.239448, mae: 4.953473, mean_q: 9.277354, mean_eps: 0.500000\n",
            " 1537/10000: episode: 99, duration: 0.240s, episode steps:  15, steps per second:  63, episode reward: 15.000, mean reward:  1.000 [ 1.000,  1.000], mean action: 0.800 [0.000, 1.000],  loss: 1.209714, mae: 5.036433, mean_q: 9.592891, mean_eps: 0.500000\n",
            " 1551/10000: episode: 100, duration: 0.224s, episode steps:  14, steps per second:  63, episode reward: 14.000, mean reward:  1.000 [ 1.000,  1.000], mean action: 0.786 [0.000, 1.000],  loss: 1.478312, mae: 5.110566, mean_q: 9.730345, mean_eps: 0.500000\n",
            " 1562/10000: episode: 101, duration: 0.177s, episode steps:  11, steps per second:  62, episode reward: 11.000, mean reward:  1.000 [ 1.000,  1.000], mean action: 0.909 [0.000, 1.000],  loss: 1.408313, mae: 5.134584, mean_q: 9.845422, mean_eps: 0.500000\n",
            " 1585/10000: episode: 102, duration: 0.372s, episode steps:  23, steps per second:  62, episode reward: 23.000, mean reward:  1.000 [ 1.000,  1.000], mean action: 0.609 [0.000, 1.000],  loss: 1.694684, mae: 5.227388, mean_q: 9.919294, mean_eps: 0.500000\n",
            " 1603/10000: episode: 103, duration: 0.301s, episode steps:  18, steps per second:  60, episode reward: 18.000, mean reward:  1.000 [ 1.000,  1.000], mean action: 0.611 [0.000, 1.000],  loss: 2.059031, mae: 5.390554, mean_q: 10.025925, mean_eps: 0.500000\n",
            " 1615/10000: episode: 104, duration: 0.194s, episode steps:  12, steps per second:  62, episode reward: 12.000, mean reward:  1.000 [ 1.000,  1.000], mean action: 0.667 [0.000, 1.000],  loss: 2.074240, mae: 5.464472, mean_q: 10.113112, mean_eps: 0.500000\n",
            " 1628/10000: episode: 105, duration: 0.203s, episode steps:  13, steps per second:  64, episode reward: 13.000, mean reward:  1.000 [ 1.000,  1.000], mean action: 0.769 [0.000, 1.000],  loss: 2.288993, mae: 5.439756, mean_q: 10.103422, mean_eps: 0.500000\n",
            " 1640/10000: episode: 106, duration: 0.179s, episode steps:  12, steps per second:  67, episode reward: 12.000, mean reward:  1.000 [ 1.000,  1.000], mean action: 0.750 [0.000, 1.000],  loss: 1.624452, mae: 5.325384, mean_q: 9.964922, mean_eps: 0.500000\n",
            " 1650/10000: episode: 107, duration: 0.334s, episode steps:  10, steps per second:  30, episode reward: 10.000, mean reward:  1.000 [ 1.000,  1.000], mean action: 1.000 [1.000, 1.000],  loss: 2.065258, mae: 5.430836, mean_q: 10.091526, mean_eps: 0.500000\n",
            " 1734/10000: episode: 108, duration: 1.567s, episode steps:  84, steps per second:  54, episode reward: 84.000, mean reward:  1.000 [ 1.000,  1.000], mean action: 0.476 [0.000, 1.000],  loss: 1.965490, mae: 5.486765, mean_q: 10.116167, mean_eps: 0.500000\n",
            " 1746/10000: episode: 109, duration: 0.190s, episode steps:  12, steps per second:  63, episode reward: 12.000, mean reward:  1.000 [ 1.000,  1.000], mean action: 0.667 [0.000, 1.000],  loss: 1.283591, mae: 5.520367, mean_q: 10.528546, mean_eps: 0.500000\n",
            " 1757/10000: episode: 110, duration: 0.290s, episode steps:  11, steps per second:  38, episode reward: 11.000, mean reward:  1.000 [ 1.000,  1.000], mean action: 0.909 [0.000, 1.000],  loss: 1.902721, mae: 5.628677, mean_q: 10.618608, mean_eps: 0.500000\n",
            " 1768/10000: episode: 111, duration: 0.282s, episode steps:  11, steps per second:  39, episode reward: 11.000, mean reward:  1.000 [ 1.000,  1.000], mean action: 0.727 [0.000, 1.000],  loss: 1.528463, mae: 5.615473, mean_q: 10.650309, mean_eps: 0.500000\n",
            " 1780/10000: episode: 112, duration: 0.295s, episode steps:  12, steps per second:  41, episode reward: 12.000, mean reward:  1.000 [ 1.000,  1.000], mean action: 0.750 [0.000, 1.000],  loss: 1.989170, mae: 5.656650, mean_q: 10.659646, mean_eps: 0.500000\n",
            " 1796/10000: episode: 113, duration: 0.366s, episode steps:  16, steps per second:  44, episode reward: 16.000, mean reward:  1.000 [ 1.000,  1.000], mean action: 0.562 [0.000, 1.000],  loss: 1.627859, mae: 5.706671, mean_q: 10.829069, mean_eps: 0.500000\n",
            " 1808/10000: episode: 114, duration: 0.313s, episode steps:  12, steps per second:  38, episode reward: 12.000, mean reward:  1.000 [ 1.000,  1.000], mean action: 0.833 [0.000, 1.000],  loss: 1.490084, mae: 5.650639, mean_q: 10.698303, mean_eps: 0.500000\n",
            " 1831/10000: episode: 115, duration: 0.490s, episode steps:  23, steps per second:  47, episode reward: 23.000, mean reward:  1.000 [ 1.000,  1.000], mean action: 0.739 [0.000, 1.000],  loss: 1.920361, mae: 5.789697, mean_q: 10.843156, mean_eps: 0.500000\n",
            " 1861/10000: episode: 116, duration: 0.641s, episode steps:  30, steps per second:  47, episode reward: 30.000, mean reward:  1.000 [ 1.000,  1.000], mean action: 0.700 [0.000, 1.000],  loss: 2.293587, mae: 5.799533, mean_q: 10.605151, mean_eps: 0.500000\n",
            " 1917/10000: episode: 117, duration: 1.070s, episode steps:  56, steps per second:  52, episode reward: 56.000, mean reward:  1.000 [ 1.000,  1.000], mean action: 0.482 [0.000, 1.000],  loss: 1.594159, mae: 5.863517, mean_q: 11.063483, mean_eps: 0.500000\n",
            " 1966/10000: episode: 118, duration: 1.177s, episode steps:  49, steps per second:  42, episode reward: 49.000, mean reward:  1.000 [ 1.000,  1.000], mean action: 0.490 [0.000, 1.000],  loss: 1.802165, mae: 6.010779, mean_q: 11.262066, mean_eps: 0.500000\n",
            " 1997/10000: episode: 119, duration: 0.546s, episode steps:  31, steps per second:  57, episode reward: 31.000, mean reward:  1.000 [ 1.000,  1.000], mean action: 0.516 [0.000, 1.000],  loss: 2.388062, mae: 6.084656, mean_q: 11.268996, mean_eps: 0.500000\n",
            " 2028/10000: episode: 120, duration: 0.477s, episode steps:  31, steps per second:  65, episode reward: 31.000, mean reward:  1.000 [ 1.000,  1.000], mean action: 0.484 [0.000, 1.000],  loss: 1.639723, mae: 6.056834, mean_q: 11.359227, mean_eps: 0.500000\n",
            " 2076/10000: episode: 121, duration: 0.956s, episode steps:  48, steps per second:  50, episode reward: 48.000, mean reward:  1.000 [ 1.000,  1.000], mean action: 0.521 [0.000, 1.000],  loss: 1.926237, mae: 6.202960, mean_q: 11.620039, mean_eps: 0.500000\n",
            " 2114/10000: episode: 122, duration: 0.841s, episode steps:  38, steps per second:  45, episode reward: 38.000, mean reward:  1.000 [ 1.000,  1.000], mean action: 0.500 [0.000, 1.000],  loss: 1.446608, mae: 6.259061, mean_q: 11.887888, mean_eps: 0.500000\n",
            " 2167/10000: episode: 123, duration: 1.136s, episode steps:  53, steps per second:  47, episode reward: 53.000, mean reward:  1.000 [ 1.000,  1.000], mean action: 0.528 [0.000, 1.000],  loss: 1.946330, mae: 6.405512, mean_q: 12.010304, mean_eps: 0.500000\n",
            " 2248/10000: episode: 124, duration: 1.796s, episode steps:  81, steps per second:  45, episode reward: 81.000, mean reward:  1.000 [ 1.000,  1.000], mean action: 0.494 [0.000, 1.000],  loss: 1.943292, mae: 6.540280, mean_q: 12.317051, mean_eps: 0.500000\n",
            " 2266/10000: episode: 125, duration: 0.389s, episode steps:  18, steps per second:  46, episode reward: 18.000, mean reward:  1.000 [ 1.000,  1.000], mean action: 0.500 [0.000, 1.000],  loss: 1.980503, mae: 6.592023, mean_q: 12.446211, mean_eps: 0.500000\n",
            " 2302/10000: episode: 126, duration: 0.860s, episode steps:  36, steps per second:  42, episode reward: 36.000, mean reward:  1.000 [ 1.000,  1.000], mean action: 0.528 [0.000, 1.000],  loss: 1.748534, mae: 6.635250, mean_q: 12.578990, mean_eps: 0.500000\n",
            " 2399/10000: episode: 127, duration: 1.906s, episode steps:  97, steps per second:  51, episode reward: 97.000, mean reward:  1.000 [ 1.000,  1.000], mean action: 0.495 [0.000, 1.000],  loss: 1.973294, mae: 6.789047, mean_q: 12.854500, mean_eps: 0.500000\n",
            " 2428/10000: episode: 128, duration: 0.408s, episode steps:  29, steps per second:  71, episode reward: 29.000, mean reward:  1.000 [ 1.000,  1.000], mean action: 0.483 [0.000, 1.000],  loss: 1.878790, mae: 6.875741, mean_q: 13.112861, mean_eps: 0.500000\n",
            " 2443/10000: episode: 129, duration: 0.339s, episode steps:  15, steps per second:  44, episode reward: 15.000, mean reward:  1.000 [ 1.000,  1.000], mean action: 0.467 [0.000, 1.000],  loss: 2.878207, mae: 7.011499, mean_q: 13.127277, mean_eps: 0.500000\n",
            " 2463/10000: episode: 130, duration: 0.452s, episode steps:  20, steps per second:  44, episode reward: 20.000, mean reward:  1.000 [ 1.000,  1.000], mean action: 0.450 [0.000, 1.000],  loss: 1.895036, mae: 6.972703, mean_q: 13.203735, mean_eps: 0.500000\n",
            " 2500/10000: episode: 131, duration: 0.848s, episode steps:  37, steps per second:  44, episode reward: 37.000, mean reward:  1.000 [ 1.000,  1.000], mean action: 0.514 [0.000, 1.000],  loss: 2.066463, mae: 7.093891, mean_q: 13.540971, mean_eps: 0.500000\n",
            " 2542/10000: episode: 132, duration: 1.041s, episode steps:  42, steps per second:  40, episode reward: 42.000, mean reward:  1.000 [ 1.000,  1.000], mean action: 0.500 [0.000, 1.000],  loss: 2.348459, mae: 7.142698, mean_q: 13.506799, mean_eps: 0.500000\n",
            " 2620/10000: episode: 133, duration: 1.585s, episode steps:  78, steps per second:  49, episode reward: 78.000, mean reward:  1.000 [ 1.000,  1.000], mean action: 0.487 [0.000, 1.000],  loss: 1.894607, mae: 7.265612, mean_q: 13.911545, mean_eps: 0.500000\n",
            " 2669/10000: episode: 134, duration: 0.764s, episode steps:  49, steps per second:  64, episode reward: 49.000, mean reward:  1.000 [ 1.000,  1.000], mean action: 0.510 [0.000, 1.000],  loss: 1.917854, mae: 7.485152, mean_q: 14.446363, mean_eps: 0.500000\n",
            " 2759/10000: episode: 135, duration: 1.326s, episode steps:  90, steps per second:  68, episode reward: 90.000, mean reward:  1.000 [ 1.000,  1.000], mean action: 0.478 [0.000, 1.000],  loss: 2.308195, mae: 7.600491, mean_q: 14.559011, mean_eps: 0.500000\n",
            " 2776/10000: episode: 136, duration: 0.271s, episode steps:  17, steps per second:  63, episode reward: 17.000, mean reward:  1.000 [ 1.000,  1.000], mean action: 0.529 [0.000, 1.000],  loss: 2.327673, mae: 7.733749, mean_q: 14.768273, mean_eps: 0.500000\n",
            " 2811/10000: episode: 137, duration: 0.512s, episode steps:  35, steps per second:  68, episode reward: 35.000, mean reward:  1.000 [ 1.000,  1.000], mean action: 0.486 [0.000, 1.000],  loss: 2.252003, mae: 7.809639, mean_q: 14.999977, mean_eps: 0.500000\n",
            " 2883/10000: episode: 138, duration: 1.534s, episode steps:  72, steps per second:  47, episode reward: 72.000, mean reward:  1.000 [ 1.000,  1.000], mean action: 0.528 [0.000, 1.000],  loss: 2.482527, mae: 7.928241, mean_q: 15.164005, mean_eps: 0.500000\n",
            " 2928/10000: episode: 139, duration: 0.834s, episode steps:  45, steps per second:  54, episode reward: 45.000, mean reward:  1.000 [ 1.000,  1.000], mean action: 0.511 [0.000, 1.000],  loss: 3.113145, mae: 8.060630, mean_q: 15.325578, mean_eps: 0.500000\n",
            " 2968/10000: episode: 140, duration: 0.554s, episode steps:  40, steps per second:  72, episode reward: 40.000, mean reward:  1.000 [ 1.000,  1.000], mean action: 0.500 [0.000, 1.000],  loss: 2.914765, mae: 8.117174, mean_q: 15.437508, mean_eps: 0.500000\n",
            " 3013/10000: episode: 141, duration: 0.692s, episode steps:  45, steps per second:  65, episode reward: 45.000, mean reward:  1.000 [ 1.000,  1.000], mean action: 0.467 [0.000, 1.000],  loss: 2.432271, mae: 8.209638, mean_q: 15.784352, mean_eps: 0.500000\n",
            " 3032/10000: episode: 142, duration: 0.273s, episode steps:  19, steps per second:  70, episode reward: 19.000, mean reward:  1.000 [ 1.000,  1.000], mean action: 0.526 [0.000, 1.000],  loss: 2.347188, mae: 8.191838, mean_q: 15.759804, mean_eps: 0.500000\n",
            " 3064/10000: episode: 143, duration: 0.477s, episode steps:  32, steps per second:  67, episode reward: 32.000, mean reward:  1.000 [ 1.000,  1.000], mean action: 0.500 [0.000, 1.000],  loss: 2.408217, mae: 8.299023, mean_q: 15.977224, mean_eps: 0.500000\n",
            " 3111/10000: episode: 144, duration: 0.701s, episode steps:  47, steps per second:  67, episode reward: 47.000, mean reward:  1.000 [ 1.000,  1.000], mean action: 0.489 [0.000, 1.000],  loss: 3.025793, mae: 8.475776, mean_q: 16.273576, mean_eps: 0.500000\n",
            " 3167/10000: episode: 145, duration: 1.095s, episode steps:  56, steps per second:  51, episode reward: 56.000, mean reward:  1.000 [ 1.000,  1.000], mean action: 0.500 [0.000, 1.000],  loss: 2.179144, mae: 8.504645, mean_q: 16.446598, mean_eps: 0.500000\n",
            " 3211/10000: episode: 146, duration: 0.896s, episode steps:  44, steps per second:  49, episode reward: 44.000, mean reward:  1.000 [ 1.000,  1.000], mean action: 0.523 [0.000, 1.000],  loss: 2.740594, mae: 8.654113, mean_q: 16.643084, mean_eps: 0.500000\n",
            " 3264/10000: episode: 147, duration: 1.155s, episode steps:  53, steps per second:  46, episode reward: 53.000, mean reward:  1.000 [ 1.000,  1.000], mean action: 0.509 [0.000, 1.000],  loss: 3.215834, mae: 8.754767, mean_q: 16.781058, mean_eps: 0.500000\n",
            " 3332/10000: episode: 148, duration: 1.402s, episode steps:  68, steps per second:  48, episode reward: 68.000, mean reward:  1.000 [ 1.000,  1.000], mean action: 0.471 [0.000, 1.000],  loss: 3.039068, mae: 8.920728, mean_q: 17.202307, mean_eps: 0.500000\n",
            " 3376/10000: episode: 149, duration: 0.896s, episode steps:  44, steps per second:  49, episode reward: 44.000, mean reward:  1.000 [ 1.000,  1.000], mean action: 0.455 [0.000, 1.000],  loss: 3.121977, mae: 9.038587, mean_q: 17.320571, mean_eps: 0.500000\n",
            " 3440/10000: episode: 150, duration: 1.402s, episode steps:  64, steps per second:  46, episode reward: 64.000, mean reward:  1.000 [ 1.000,  1.000], mean action: 0.484 [0.000, 1.000],  loss: 2.775446, mae: 9.128634, mean_q: 17.692890, mean_eps: 0.500000\n",
            " 3481/10000: episode: 151, duration: 1.240s, episode steps:  41, steps per second:  33, episode reward: 41.000, mean reward:  1.000 [ 1.000,  1.000], mean action: 0.512 [0.000, 1.000],  loss: 2.858717, mae: 9.336973, mean_q: 18.032827, mean_eps: 0.500000\n",
            " 3516/10000: episode: 152, duration: 0.711s, episode steps:  35, steps per second:  49, episode reward: 35.000, mean reward:  1.000 [ 1.000,  1.000], mean action: 0.457 [0.000, 1.000],  loss: 2.826212, mae: 9.270912, mean_q: 17.929470, mean_eps: 0.500000\n",
            " 3572/10000: episode: 153, duration: 0.959s, episode steps:  56, steps per second:  58, episode reward: 56.000, mean reward:  1.000 [ 1.000,  1.000], mean action: 0.518 [0.000, 1.000],  loss: 3.208004, mae: 9.479639, mean_q: 18.289174, mean_eps: 0.500000\n",
            " 3618/10000: episode: 154, duration: 0.693s, episode steps:  46, steps per second:  66, episode reward: 46.000, mean reward:  1.000 [ 1.000,  1.000], mean action: 0.522 [0.000, 1.000],  loss: 2.727222, mae: 9.565174, mean_q: 18.587409, mean_eps: 0.500000\n",
            " 3716/10000: episode: 155, duration: 1.398s, episode steps:  98, steps per second:  70, episode reward: 98.000, mean reward:  1.000 [ 1.000,  1.000], mean action: 0.500 [0.000, 1.000],  loss: 3.506200, mae: 9.722533, mean_q: 18.780982, mean_eps: 0.500000\n",
            " 3831/10000: episode: 156, duration: 1.710s, episode steps: 115, steps per second:  67, episode reward: 115.000, mean reward:  1.000 [ 1.000,  1.000], mean action: 0.513 [0.000, 1.000],  loss: 3.353436, mae: 9.963120, mean_q: 19.320143, mean_eps: 0.500000\n",
            " 3858/10000: episode: 157, duration: 0.424s, episode steps:  27, steps per second:  64, episode reward: 27.000, mean reward:  1.000 [ 1.000,  1.000], mean action: 0.519 [0.000, 1.000],  loss: 3.772268, mae: 10.144580, mean_q: 19.732934, mean_eps: 0.500000\n",
            " 3896/10000: episode: 158, duration: 0.711s, episode steps:  38, steps per second:  53, episode reward: 38.000, mean reward:  1.000 [ 1.000,  1.000], mean action: 0.526 [0.000, 1.000],  loss: 2.976638, mae: 10.133465, mean_q: 19.706625, mean_eps: 0.500000\n",
            " 3948/10000: episode: 159, duration: 1.167s, episode steps:  52, steps per second:  45, episode reward: 52.000, mean reward:  1.000 [ 1.000,  1.000], mean action: 0.500 [0.000, 1.000],  loss: 3.561782, mae: 10.279828, mean_q: 19.950383, mean_eps: 0.500000\n",
            " 4035/10000: episode: 160, duration: 1.993s, episode steps:  87, steps per second:  44, episode reward: 87.000, mean reward:  1.000 [ 1.000,  1.000], mean action: 0.483 [0.000, 1.000],  loss: 3.305196, mae: 10.436005, mean_q: 20.328518, mean_eps: 0.500000\n",
            " 4051/10000: episode: 161, duration: 0.298s, episode steps:  16, steps per second:  54, episode reward: 16.000, mean reward:  1.000 [ 1.000,  1.000], mean action: 0.438 [0.000, 1.000],  loss: 2.681956, mae: 10.567232, mean_q: 20.683341, mean_eps: 0.500000\n",
            " 4102/10000: episode: 162, duration: 1.093s, episode steps:  51, steps per second:  47, episode reward: 51.000, mean reward:  1.000 [ 1.000,  1.000], mean action: 0.529 [0.000, 1.000],  loss: 4.214653, mae: 10.632950, mean_q: 20.625105, mean_eps: 0.500000\n",
            " 4162/10000: episode: 163, duration: 1.129s, episode steps:  60, steps per second:  53, episode reward: 60.000, mean reward:  1.000 [ 1.000,  1.000], mean action: 0.533 [0.000, 1.000],  loss: 2.607725, mae: 10.749162, mean_q: 21.113401, mean_eps: 0.500000\n",
            " 4263/10000: episode: 164, duration: 1.725s, episode steps: 101, steps per second:  59, episode reward: 101.000, mean reward:  1.000 [ 1.000,  1.000], mean action: 0.505 [0.000, 1.000],  loss: 3.607342, mae: 10.975623, mean_q: 21.460591, mean_eps: 0.500000\n",
            " 4350/10000: episode: 165, duration: 1.494s, episode steps:  87, steps per second:  58, episode reward: 87.000, mean reward:  1.000 [ 1.000,  1.000], mean action: 0.506 [0.000, 1.000],  loss: 3.705646, mae: 11.184594, mean_q: 21.858941, mean_eps: 0.500000\n",
            " 4386/10000: episode: 166, duration: 0.550s, episode steps:  36, steps per second:  65, episode reward: 36.000, mean reward:  1.000 [ 1.000,  1.000], mean action: 0.528 [0.000, 1.000],  loss: 3.956678, mae: 11.437330, mean_q: 22.365322, mean_eps: 0.500000\n",
            " 4432/10000: episode: 167, duration: 0.872s, episode steps:  46, steps per second:  53, episode reward: 46.000, mean reward:  1.000 [ 1.000,  1.000], mean action: 0.522 [0.000, 1.000],  loss: 4.395997, mae: 11.329960, mean_q: 21.967248, mean_eps: 0.500000\n",
            " 4460/10000: episode: 168, duration: 0.633s, episode steps:  28, steps per second:  44, episode reward: 28.000, mean reward:  1.000 [ 1.000,  1.000], mean action: 0.464 [0.000, 1.000],  loss: 3.874563, mae: 11.533261, mean_q: 22.590599, mean_eps: 0.500000\n",
            " 4498/10000: episode: 169, duration: 0.932s, episode steps:  38, steps per second:  41, episode reward: 38.000, mean reward:  1.000 [ 1.000,  1.000], mean action: 0.447 [0.000, 1.000],  loss: 4.325065, mae: 11.578956, mean_q: 22.663689, mean_eps: 0.500000\n",
            " 4524/10000: episode: 170, duration: 0.503s, episode steps:  26, steps per second:  52, episode reward: 26.000, mean reward:  1.000 [ 1.000,  1.000], mean action: 0.577 [0.000, 1.000],  loss: 4.015435, mae: 11.591238, mean_q: 22.626279, mean_eps: 0.500000\n",
            " 4569/10000: episode: 171, duration: 0.730s, episode steps:  45, steps per second:  62, episode reward: 45.000, mean reward:  1.000 [ 1.000,  1.000], mean action: 0.511 [0.000, 1.000],  loss: 3.765877, mae: 11.755490, mean_q: 23.077531, mean_eps: 0.500000\n",
            " 4632/10000: episode: 172, duration: 0.958s, episode steps:  63, steps per second:  66, episode reward: 63.000, mean reward:  1.000 [ 1.000,  1.000], mean action: 0.524 [0.000, 1.000],  loss: 3.283649, mae: 11.808557, mean_q: 23.284872, mean_eps: 0.500000\n",
            " 4724/10000: episode: 173, duration: 2.091s, episode steps:  92, steps per second:  44, episode reward: 92.000, mean reward:  1.000 [ 1.000,  1.000], mean action: 0.489 [0.000, 1.000],  loss: 5.537451, mae: 12.080147, mean_q: 23.535585, mean_eps: 0.500000\n",
            " 4807/10000: episode: 174, duration: 1.385s, episode steps:  83, steps per second:  60, episode reward: 83.000, mean reward:  1.000 [ 1.000,  1.000], mean action: 0.506 [0.000, 1.000],  loss: 6.354180, mae: 12.236513, mean_q: 23.706413, mean_eps: 0.500000\n",
            " 4943/10000: episode: 175, duration: 3.090s, episode steps: 136, steps per second:  44, episode reward: 136.000, mean reward:  1.000 [ 1.000,  1.000], mean action: 0.485 [0.000, 1.000],  loss: 5.017347, mae: 12.361588, mean_q: 24.122144, mean_eps: 0.500000\n",
            " 5000/10000: episode: 176, duration: 1.386s, episode steps:  57, steps per second:  41, episode reward: 57.000, mean reward:  1.000 [ 1.000,  1.000], mean action: 0.544 [0.000, 1.000],  loss: 4.901691, mae: 12.591072, mean_q: 24.641080, mean_eps: 0.500000\n",
            " 5046/10000: episode: 177, duration: 0.851s, episode steps:  46, steps per second:  54, episode reward: 46.000, mean reward:  1.000 [ 1.000,  1.000], mean action: 0.500 [0.000, 1.000],  loss: 3.893187, mae: 12.654595, mean_q: 24.883611, mean_eps: 0.500000\n",
            " 5097/10000: episode: 178, duration: 0.973s, episode steps:  51, steps per second:  52, episode reward: 51.000, mean reward:  1.000 [ 1.000,  1.000], mean action: 0.549 [0.000, 1.000],  loss: 6.406675, mae: 12.791982, mean_q: 24.920114, mean_eps: 0.500000\n",
            " 5163/10000: episode: 179, duration: 1.225s, episode steps:  66, steps per second:  54, episode reward: 66.000, mean reward:  1.000 [ 1.000,  1.000], mean action: 0.515 [0.000, 1.000],  loss: 5.739831, mae: 12.838235, mean_q: 25.049102, mean_eps: 0.500000\n",
            " 5295/10000: episode: 180, duration: 2.058s, episode steps: 132, steps per second:  64, episode reward: 132.000, mean reward:  1.000 [ 1.000,  1.000], mean action: 0.523 [0.000, 1.000],  loss: 4.683533, mae: 12.985238, mean_q: 25.532184, mean_eps: 0.500000\n",
            " 5377/10000: episode: 181, duration: 2.052s, episode steps:  82, steps per second:  40, episode reward: 82.000, mean reward:  1.000 [ 1.000,  1.000], mean action: 0.476 [0.000, 1.000],  loss: 5.848711, mae: 13.252131, mean_q: 25.977221, mean_eps: 0.500000\n",
            " 5424/10000: episode: 182, duration: 0.827s, episode steps:  47, steps per second:  57, episode reward: 47.000, mean reward:  1.000 [ 1.000,  1.000], mean action: 0.468 [0.000, 1.000],  loss: 5.631607, mae: 13.412614, mean_q: 26.319096, mean_eps: 0.500000\n",
            " 5527/10000: episode: 183, duration: 2.133s, episode steps: 103, steps per second:  48, episode reward: 103.000, mean reward:  1.000 [ 1.000,  1.000], mean action: 0.524 [0.000, 1.000],  loss: 5.704859, mae: 13.514249, mean_q: 26.512635, mean_eps: 0.500000\n",
            " 5597/10000: episode: 184, duration: 1.220s, episode steps:  70, steps per second:  57, episode reward: 70.000, mean reward:  1.000 [ 1.000,  1.000], mean action: 0.471 [0.000, 1.000],  loss: 5.636866, mae: 13.577099, mean_q: 26.650322, mean_eps: 0.500000\n",
            " 5706/10000: episode: 185, duration: 2.106s, episode steps: 109, steps per second:  52, episode reward: 109.000, mean reward:  1.000 [ 1.000,  1.000], mean action: 0.514 [0.000, 1.000],  loss: 4.372719, mae: 13.782834, mean_q: 27.309500, mean_eps: 0.500000\n",
            " 5724/10000: episode: 186, duration: 0.411s, episode steps:  18, steps per second:  44, episode reward: 18.000, mean reward:  1.000 [ 1.000,  1.000], mean action: 0.500 [0.000, 1.000],  loss: 7.737228, mae: 14.181449, mean_q: 27.763862, mean_eps: 0.500000\n",
            " 5785/10000: episode: 187, duration: 1.440s, episode steps:  61, steps per second:  42, episode reward: 61.000, mean reward:  1.000 [ 1.000,  1.000], mean action: 0.525 [0.000, 1.000],  loss: 6.186137, mae: 14.095475, mean_q: 27.694557, mean_eps: 0.500000\n",
            " 5857/10000: episode: 188, duration: 1.879s, episode steps:  72, steps per second:  38, episode reward: 72.000, mean reward:  1.000 [ 1.000,  1.000], mean action: 0.458 [0.000, 1.000],  loss: 6.151392, mae: 14.193858, mean_q: 27.919092, mean_eps: 0.500000\n",
            " 5898/10000: episode: 189, duration: 0.869s, episode steps:  41, steps per second:  47, episode reward: 41.000, mean reward:  1.000 [ 1.000,  1.000], mean action: 0.488 [0.000, 1.000],  loss: 6.840373, mae: 14.391105, mean_q: 28.273422, mean_eps: 0.500000\n",
            " 5956/10000: episode: 190, duration: 1.243s, episode steps:  58, steps per second:  47, episode reward: 58.000, mean reward:  1.000 [ 1.000,  1.000], mean action: 0.466 [0.000, 1.000],  loss: 5.245585, mae: 14.399544, mean_q: 28.480592, mean_eps: 0.500000\n",
            " 6033/10000: episode: 191, duration: 1.319s, episode steps:  77, steps per second:  58, episode reward: 77.000, mean reward:  1.000 [ 1.000,  1.000], mean action: 0.468 [0.000, 1.000],  loss: 5.842643, mae: 14.596228, mean_q: 28.883736, mean_eps: 0.500000\n",
            " 6062/10000: episode: 192, duration: 0.714s, episode steps:  29, steps per second:  41, episode reward: 29.000, mean reward:  1.000 [ 1.000,  1.000], mean action: 0.517 [0.000, 1.000],  loss: 5.793465, mae: 14.604327, mean_q: 28.777264, mean_eps: 0.500000\n",
            " 6115/10000: episode: 193, duration: 1.354s, episode steps:  53, steps per second:  39, episode reward: 53.000, mean reward:  1.000 [ 1.000,  1.000], mean action: 0.491 [0.000, 1.000],  loss: 7.447926, mae: 14.775569, mean_q: 29.055963, mean_eps: 0.500000\n",
            " 6193/10000: episode: 194, duration: 2.256s, episode steps:  78, steps per second:  35, episode reward: 78.000, mean reward:  1.000 [ 1.000,  1.000], mean action: 0.513 [0.000, 1.000],  loss: 7.761234, mae: 14.877696, mean_q: 29.251942, mean_eps: 0.500000\n",
            " 6274/10000: episode: 195, duration: 2.341s, episode steps:  81, steps per second:  35, episode reward: 81.000, mean reward:  1.000 [ 1.000,  1.000], mean action: 0.519 [0.000, 1.000],  loss: 5.361631, mae: 14.962412, mean_q: 29.631978, mean_eps: 0.500000\n",
            " 6382/10000: episode: 196, duration: 2.131s, episode steps: 108, steps per second:  51, episode reward: 108.000, mean reward:  1.000 [ 1.000,  1.000], mean action: 0.481 [0.000, 1.000],  loss: 5.917430, mae: 15.230291, mean_q: 30.192078, mean_eps: 0.500000\n",
            " 6402/10000: episode: 197, duration: 0.315s, episode steps:  20, steps per second:  64, episode reward: 20.000, mean reward:  1.000 [ 1.000,  1.000], mean action: 0.400 [0.000, 1.000],  loss: 7.598782, mae: 15.457938, mean_q: 30.402190, mean_eps: 0.500000\n",
            " 6570/10000: episode: 198, duration: 3.424s, episode steps: 168, steps per second:  49, episode reward: 168.000, mean reward:  1.000 [ 1.000,  1.000], mean action: 0.482 [0.000, 1.000],  loss: 7.314619, mae: 15.517238, mean_q: 30.551994, mean_eps: 0.500000\n",
            " 6730/10000: episode: 199, duration: 3.260s, episode steps: 160, steps per second:  49, episode reward: 160.000, mean reward:  1.000 [ 1.000,  1.000], mean action: 0.519 [0.000, 1.000],  loss: 7.192511, mae: 15.860366, mean_q: 31.346779, mean_eps: 0.500000\n",
            " 6814/10000: episode: 200, duration: 2.392s, episode steps:  84, steps per second:  35, episode reward: 84.000, mean reward:  1.000 [ 1.000,  1.000], mean action: 0.500 [0.000, 1.000],  loss: 8.862681, mae: 16.069781, mean_q: 31.571638, mean_eps: 0.500000\n",
            " 6889/10000: episode: 201, duration: 2.065s, episode steps:  75, steps per second:  36, episode reward: 75.000, mean reward:  1.000 [ 1.000,  1.000], mean action: 0.453 [0.000, 1.000],  loss: 7.929102, mae: 16.165358, mean_q: 31.846374, mean_eps: 0.500000\n",
            " 6979/10000: episode: 202, duration: 2.424s, episode steps:  90, steps per second:  37, episode reward: 90.000, mean reward:  1.000 [ 1.000,  1.000], mean action: 0.511 [0.000, 1.000],  loss: 8.151763, mae: 16.302231, mean_q: 32.110661, mean_eps: 0.500000\n",
            " 7021/10000: episode: 203, duration: 1.146s, episode steps:  42, steps per second:  37, episode reward: 42.000, mean reward:  1.000 [ 1.000,  1.000], mean action: 0.476 [0.000, 1.000],  loss: 5.060981, mae: 16.372643, mean_q: 32.574042, mean_eps: 0.500000\n",
            " 7113/10000: episode: 204, duration: 1.943s, episode steps:  92, steps per second:  47, episode reward: 92.000, mean reward:  1.000 [ 1.000,  1.000], mean action: 0.522 [0.000, 1.000],  loss: 6.889000, mae: 16.533806, mean_q: 32.790883, mean_eps: 0.500000\n",
            " 7155/10000: episode: 205, duration: 1.247s, episode steps:  42, steps per second:  34, episode reward: 42.000, mean reward:  1.000 [ 1.000,  1.000], mean action: 0.452 [0.000, 1.000],  loss: 6.324815, mae: 16.643520, mean_q: 33.036682, mean_eps: 0.500000\n",
            " 7278/10000: episode: 206, duration: 3.447s, episode steps: 123, steps per second:  36, episode reward: 123.000, mean reward:  1.000 [ 1.000,  1.000], mean action: 0.504 [0.000, 1.000],  loss: 8.925638, mae: 16.865193, mean_q: 33.297287, mean_eps: 0.500000\n",
            " 7312/10000: episode: 207, duration: 0.815s, episode steps:  34, steps per second:  42, episode reward: 34.000, mean reward:  1.000 [ 1.000,  1.000], mean action: 0.441 [0.000, 1.000],  loss: 7.788334, mae: 16.999402, mean_q: 33.644196, mean_eps: 0.500000\n",
            " 7341/10000: episode: 208, duration: 0.535s, episode steps:  29, steps per second:  54, episode reward: 29.000, mean reward:  1.000 [ 1.000,  1.000], mean action: 0.448 [0.000, 1.000],  loss: 7.445295, mae: 16.894563, mean_q: 33.500264, mean_eps: 0.500000\n",
            " 7394/10000: episode: 209, duration: 0.980s, episode steps:  53, steps per second:  54, episode reward: 53.000, mean reward:  1.000 [ 1.000,  1.000], mean action: 0.528 [0.000, 1.000],  loss: 9.007692, mae: 17.130849, mean_q: 33.812424, mean_eps: 0.500000\n",
            " 7459/10000: episode: 210, duration: 1.398s, episode steps:  65, steps per second:  46, episode reward: 65.000, mean reward:  1.000 [ 1.000,  1.000], mean action: 0.508 [0.000, 1.000],  loss: 7.704982, mae: 17.193390, mean_q: 34.009003, mean_eps: 0.500000\n",
            " 7569/10000: episode: 211, duration: 2.648s, episode steps: 110, steps per second:  42, episode reward: 110.000, mean reward:  1.000 [ 1.000,  1.000], mean action: 0.464 [0.000, 1.000],  loss: 7.261836, mae: 17.271407, mean_q: 34.263833, mean_eps: 0.500000\n",
            " 7685/10000: episode: 212, duration: 2.037s, episode steps: 116, steps per second:  57, episode reward: 116.000, mean reward:  1.000 [ 1.000,  1.000], mean action: 0.474 [0.000, 1.000],  loss: 7.898440, mae: 17.548446, mean_q: 34.787038, mean_eps: 0.500000\n",
            " 7786/10000: episode: 213, duration: 2.007s, episode steps: 101, steps per second:  50, episode reward: 101.000, mean reward:  1.000 [ 1.000,  1.000], mean action: 0.495 [0.000, 1.000],  loss: 7.594066, mae: 17.741193, mean_q: 35.255345, mean_eps: 0.500000\n",
            " 7891/10000: episode: 214, duration: 2.556s, episode steps: 105, steps per second:  41, episode reward: 105.000, mean reward:  1.000 [ 1.000,  1.000], mean action: 0.476 [0.000, 1.000],  loss: 8.577877, mae: 17.873787, mean_q: 35.422231, mean_eps: 0.500000\n",
            " 8034/10000: episode: 215, duration: 3.277s, episode steps: 143, steps per second:  44, episode reward: 143.000, mean reward:  1.000 [ 1.000,  1.000], mean action: 0.483 [0.000, 1.000],  loss: 8.472620, mae: 18.185480, mean_q: 36.050296, mean_eps: 0.500000\n",
            " 8092/10000: episode: 216, duration: 1.033s, episode steps:  58, steps per second:  56, episode reward: 58.000, mean reward:  1.000 [ 1.000,  1.000], mean action: 0.448 [0.000, 1.000],  loss: 9.982365, mae: 18.366293, mean_q: 36.424672, mean_eps: 0.500000\n",
            " 8166/10000: episode: 217, duration: 1.108s, episode steps:  74, steps per second:  67, episode reward: 74.000, mean reward:  1.000 [ 1.000,  1.000], mean action: 0.500 [0.000, 1.000],  loss: 8.859147, mae: 18.373797, mean_q: 36.444155, mean_eps: 0.500000\n",
            " 8211/10000: episode: 218, duration: 0.892s, episode steps:  45, steps per second:  50, episode reward: 45.000, mean reward:  1.000 [ 1.000,  1.000], mean action: 0.511 [0.000, 1.000],  loss: 5.619614, mae: 18.504698, mean_q: 36.862139, mean_eps: 0.500000\n",
            " 8411/10000: episode: 219, duration: 4.804s, episode steps: 200, steps per second:  42, episode reward: 200.000, mean reward:  1.000 [ 1.000,  1.000], mean action: 0.495 [0.000, 1.000],  loss: 9.277187, mae: 18.719097, mean_q: 37.149111, mean_eps: 0.500000\n",
            " 8549/10000: episode: 220, duration: 2.386s, episode steps: 138, steps per second:  58, episode reward: 138.000, mean reward:  1.000 [ 1.000,  1.000], mean action: 0.522 [0.000, 1.000],  loss: 7.858161, mae: 19.018771, mean_q: 37.833918, mean_eps: 0.500000\n",
            " 8678/10000: episode: 221, duration: 2.607s, episode steps: 129, steps per second:  49, episode reward: 129.000, mean reward:  1.000 [ 1.000,  1.000], mean action: 0.527 [0.000, 1.000],  loss: 10.158415, mae: 19.286729, mean_q: 38.290289, mean_eps: 0.500000\n",
            " 8832/10000: episode: 222, duration: 2.543s, episode steps: 154, steps per second:  61, episode reward: 154.000, mean reward:  1.000 [ 1.000,  1.000], mean action: 0.481 [0.000, 1.000],  loss: 8.512279, mae: 19.555697, mean_q: 38.918291, mean_eps: 0.500000\n",
            " 8930/10000: episode: 223, duration: 1.588s, episode steps:  98, steps per second:  62, episode reward: 98.000, mean reward:  1.000 [ 1.000,  1.000], mean action: 0.469 [0.000, 1.000],  loss: 8.307416, mae: 19.741539, mean_q: 39.286527, mean_eps: 0.500000\n",
            " 8998/10000: episode: 224, duration: 1.048s, episode steps:  68, steps per second:  65, episode reward: 68.000, mean reward:  1.000 [ 1.000,  1.000], mean action: 0.485 [0.000, 1.000],  loss: 8.859388, mae: 19.920367, mean_q: 39.650759, mean_eps: 0.500000\n",
            " 9058/10000: episode: 225, duration: 1.287s, episode steps:  60, steps per second:  47, episode reward: 60.000, mean reward:  1.000 [ 1.000,  1.000], mean action: 0.433 [0.000, 1.000],  loss: 8.514935, mae: 19.968589, mean_q: 39.812488, mean_eps: 0.500000\n",
            " 9193/10000: episode: 226, duration: 2.186s, episode steps: 135, steps per second:  62, episode reward: 135.000, mean reward:  1.000 [ 1.000,  1.000], mean action: 0.519 [0.000, 1.000],  loss: 10.839299, mae: 20.149728, mean_q: 40.008311, mean_eps: 0.500000\n",
            " 9273/10000: episode: 227, duration: 1.522s, episode steps:  80, steps per second:  53, episode reward: 80.000, mean reward:  1.000 [ 1.000,  1.000], mean action: 0.463 [0.000, 1.000],  loss: 10.331968, mae: 20.416994, mean_q: 40.446804, mean_eps: 0.500000\n",
            " 9462/10000: episode: 228, duration: 3.957s, episode steps: 189, steps per second:  48, episode reward: 189.000, mean reward:  1.000 [ 1.000,  1.000], mean action: 0.508 [0.000, 1.000],  loss: 9.051730, mae: 20.582950, mean_q: 41.051325, mean_eps: 0.500000\n",
            " 9494/10000: episode: 229, duration: 0.830s, episode steps:  32, steps per second:  39, episode reward: 32.000, mean reward:  1.000 [ 1.000,  1.000], mean action: 0.438 [0.000, 1.000],  loss: 11.070083, mae: 20.737960, mean_q: 41.405538, mean_eps: 0.500000\n",
            " 9529/10000: episode: 230, duration: 0.636s, episode steps:  35, steps per second:  55, episode reward: 35.000, mean reward:  1.000 [ 1.000,  1.000], mean action: 0.457 [0.000, 1.000],  loss: 10.318280, mae: 20.757172, mean_q: 41.389764, mean_eps: 0.500000\n",
            " 9586/10000: episode: 231, duration: 0.902s, episode steps:  57, steps per second:  63, episode reward: 57.000, mean reward:  1.000 [ 1.000,  1.000], mean action: 0.439 [0.000, 1.000],  loss: 11.744753, mae: 20.952231, mean_q: 41.737073, mean_eps: 0.500000\n",
            " 9603/10000: episode: 232, duration: 0.326s, episode steps:  17, steps per second:  52, episode reward: 17.000, mean reward:  1.000 [ 1.000,  1.000], mean action: 0.471 [0.000, 1.000],  loss: 9.006905, mae: 20.863786, mean_q: 41.491070, mean_eps: 0.500000\n",
            " 9713/10000: episode: 233, duration: 2.853s, episode steps: 110, steps per second:  39, episode reward: 110.000, mean reward:  1.000 [ 1.000,  1.000], mean action: 0.464 [0.000, 1.000],  loss: 8.676599, mae: 21.157065, mean_q: 42.308423, mean_eps: 0.500000\n",
            " 9736/10000: episode: 234, duration: 0.686s, episode steps:  23, steps per second:  34, episode reward: 23.000, mean reward:  1.000 [ 1.000,  1.000], mean action: 0.522 [0.000, 1.000],  loss: 12.175210, mae: 21.283808, mean_q: 42.211639, mean_eps: 0.500000\n",
            " 9815/10000: episode: 235, duration: 1.543s, episode steps:  79, steps per second:  51, episode reward: 79.000, mean reward:  1.000 [ 1.000,  1.000], mean action: 0.494 [0.000, 1.000],  loss: 12.848234, mae: 21.251370, mean_q: 42.214622, mean_eps: 0.500000\n",
            " 9907/10000: episode: 236, duration: 2.386s, episode steps:  92, steps per second:  39, episode reward: 92.000, mean reward:  1.000 [ 1.000,  1.000], mean action: 0.489 [0.000, 1.000],  loss: 10.422176, mae: 21.342746, mean_q: 42.506312, mean_eps: 0.500000\n",
            " 9968/10000: episode: 237, duration: 1.072s, episode steps:  61, steps per second:  57, episode reward: 61.000, mean reward:  1.000 [ 1.000,  1.000], mean action: 0.459 [0.000, 1.000],  loss: 10.051375, mae: 21.458636, mean_q: 42.814261, mean_eps: 0.500000\n",
            " 9980/10000: episode: 238, duration: 0.239s, episode steps:  12, steps per second:  50, episode reward: 12.000, mean reward:  1.000 [ 1.000,  1.000], mean action: 0.417 [0.000, 1.000],  loss: 15.161727, mae: 21.849584, mean_q: 43.316525, mean_eps: 0.500000\n",
            "done, took 217.151 seconds\n"
          ]
        },
        {
          "output_type": "display_data",
          "data": {
            "text/plain": [
              "<Figure size 432x288 with 1 Axes>"
            ],
            "image/png": "[encoded data removed]"
          },
          "metadata": {
            "needs_background": "light"
          }
        },
        {
          "output_type": "stream",
          "name": "stdout",
          "text": [
            "Testing for 20 episodes ...\n",
            "Episode 1: reward: 200.000, steps: 200\n",
            "Episode 2: reward: 200.000, steps: 200\n",
            "Episode 3: reward: 200.000, steps: 200\n",
            "Episode 4: reward: 200.000, steps: 200\n",
            "Episode 5: reward: 200.000, steps: 200\n",
            "Episode 6: reward: 200.000, steps: 200\n",
            "Episode 7: reward: 200.000, steps: 200\n",
            "Episode 8: reward: 176.000, steps: 176\n",
            "Episode 9: reward: 200.000, steps: 200\n",
            "Episode 10: reward: 200.000, steps: 200\n",
            "Episode 11: reward: 200.000, steps: 200\n",
            "Episode 12: reward: 200.000, steps: 200\n",
            "Episode 13: reward: 200.000, steps: 200\n",
            "Episode 14: reward: 200.000, steps: 200\n",
            "Episode 15: reward: 200.000, steps: 200\n",
            "Episode 16: reward: 200.000, steps: 200\n",
            "Episode 17: reward: 200.000, steps: 200\n",
            "Episode 18: reward: 151.000, steps: 151\n",
            "Episode 19: reward: 200.000, steps: 200\n",
            "Episode 20: reward: 200.000, steps: 200\n"
          ]
        },
        {
          "output_type": "execute_result",
          "data": {
            "text/plain": [
              "<keras.callbacks.History at 0x7fb1703b8a10>"
            ]
          },
          "metadata": {},
          "execution_count": 96
        }
      ]
    }
  ]
}