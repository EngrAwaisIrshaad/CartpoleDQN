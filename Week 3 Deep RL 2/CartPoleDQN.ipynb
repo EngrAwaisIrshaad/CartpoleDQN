{
  "nbformat": 4,
  "nbformat_minor": 0,
  "metadata": {
    "colab": {
      "name": "CartPoleDQN.ipynb",
      "provenance": [],
      "collapsed_sections": [],
      "include_colab_link": true
    },
    "kernelspec": {
      "name": "python3",
      "display_name": "Python 3"
    }
  },
  "cells": [
    {
      "cell_type": "markdown",
      "metadata": {
        "id": "view-in-github",
        "colab_type": "text"
      },
      "source": [
        "<a href=\"https://colab.research.google.com/github/Megacity1/CartpoleDQN/blob/main/Week%203%20Deep%20RL%202/CartPoleDQN.ipynb\" target=\"_parent\"><img src=\"https://colab.research.google.com/assets/colab-badge.svg\" alt=\"Open In Colab\"/></a>"
      ]
    },
    {
      "cell_type": "markdown",
      "metadata": {
        "id": "VKK5DA390wRe"
      },
      "source": [
        "# Deep Q Network (DQN) for CartPole Using Boltzmann Q Policy\n",
        "This exercise implements a DQN for CartPole using a Boltzmann Q policy for selecting the actions"
      ]
    },
    {
      "cell_type": "code",
      "metadata": {
        "id": "LGsC7cJ5jNcX",
        "colab": {
          "base_uri": "https://localhost:8080/"
        },
        "outputId": "cda73cbf-3020-40f4-e45e-7b87053448f1"
      },
      "source": [
        "# install keras rl2 (we need to install keras-rl2 so it works with the tensorflow 2 version that comes pre-installed with colab)\n",
        "!pip install keras-rl2"
      ],
      "execution_count": 57,
      "outputs": [
        {
          "output_type": "stream",
          "name": "stdout",
          "text": [
            "Requirement already satisfied: keras-rl2 in /usr/local/lib/python3.7/dist-packages (1.0.5)\n",
            "Requirement already satisfied: tensorflow in /usr/local/lib/python3.7/dist-packages (from keras-rl2) (2.8.0)\n",
            "Requirement already satisfied: keras-preprocessing>=1.1.1 in /usr/local/lib/python3.7/dist-packages (from tensorflow->keras-rl2) (1.1.2)\n",
            "Requirement already satisfied: protobuf>=3.9.2 in /usr/local/lib/python3.7/dist-packages (from tensorflow->keras-rl2) (3.17.3)\n",
            "Requirement already satisfied: tensorflow-io-gcs-filesystem>=0.23.1 in /usr/local/lib/python3.7/dist-packages (from tensorflow->keras-rl2) (0.24.0)\n",
            "Requirement already satisfied: libclang>=9.0.1 in /usr/local/lib/python3.7/dist-packages (from tensorflow->keras-rl2) (13.0.0)\n",
            "Requirement already satisfied: h5py>=2.9.0 in /usr/local/lib/python3.7/dist-packages (from tensorflow->keras-rl2) (3.1.0)\n",
            "Requirement already satisfied: opt-einsum>=2.3.2 in /usr/local/lib/python3.7/dist-packages (from tensorflow->keras-rl2) (3.3.0)\n",
            "Requirement already satisfied: gast>=0.2.1 in /usr/local/lib/python3.7/dist-packages (from tensorflow->keras-rl2) (0.5.3)\n",
            "Requirement already satisfied: grpcio<2.0,>=1.24.3 in /usr/local/lib/python3.7/dist-packages (from tensorflow->keras-rl2) (1.44.0)\n",
            "Requirement already satisfied: tensorboard<2.9,>=2.8 in /usr/local/lib/python3.7/dist-packages (from tensorflow->keras-rl2) (2.8.0)\n",
            "Requirement already satisfied: wrapt>=1.11.0 in /usr/local/lib/python3.7/dist-packages (from tensorflow->keras-rl2) (1.14.0)\n",
            "Requirement already satisfied: absl-py>=0.4.0 in /usr/local/lib/python3.7/dist-packages (from tensorflow->keras-rl2) (1.0.0)\n",
            "Requirement already satisfied: flatbuffers>=1.12 in /usr/local/lib/python3.7/dist-packages (from tensorflow->keras-rl2) (2.0)\n",
            "Requirement already satisfied: termcolor>=1.1.0 in /usr/local/lib/python3.7/dist-packages (from tensorflow->keras-rl2) (1.1.0)\n",
            "Requirement already satisfied: keras<2.9,>=2.8.0rc0 in /usr/local/lib/python3.7/dist-packages (from tensorflow->keras-rl2) (2.8.0)\n",
            "Requirement already satisfied: six>=1.12.0 in /usr/local/lib/python3.7/dist-packages (from tensorflow->keras-rl2) (1.15.0)\n",
            "Requirement already satisfied: tf-estimator-nightly==2.8.0.dev2021122109 in /usr/local/lib/python3.7/dist-packages (from tensorflow->keras-rl2) (2.8.0.dev2021122109)\n",
            "Requirement already satisfied: numpy>=1.20 in /usr/local/lib/python3.7/dist-packages (from tensorflow->keras-rl2) (1.21.5)\n",
            "Requirement already satisfied: astunparse>=1.6.0 in /usr/local/lib/python3.7/dist-packages (from tensorflow->keras-rl2) (1.6.3)\n",
            "Requirement already satisfied: typing-extensions>=3.6.6 in /usr/local/lib/python3.7/dist-packages (from tensorflow->keras-rl2) (3.10.0.2)\n",
            "Requirement already satisfied: setuptools in /usr/local/lib/python3.7/dist-packages (from tensorflow->keras-rl2) (57.4.0)\n",
            "Requirement already satisfied: google-pasta>=0.1.1 in /usr/local/lib/python3.7/dist-packages (from tensorflow->keras-rl2) (0.2.0)\n",
            "Requirement already satisfied: wheel<1.0,>=0.23.0 in /usr/local/lib/python3.7/dist-packages (from astunparse>=1.6.0->tensorflow->keras-rl2) (0.37.1)\n",
            "Requirement already satisfied: cached-property in /usr/local/lib/python3.7/dist-packages (from h5py>=2.9.0->tensorflow->keras-rl2) (1.5.2)\n",
            "Requirement already satisfied: google-auth-oauthlib<0.5,>=0.4.1 in /usr/local/lib/python3.7/dist-packages (from tensorboard<2.9,>=2.8->tensorflow->keras-rl2) (0.4.6)\n",
            "Requirement already satisfied: requests<3,>=2.21.0 in /usr/local/lib/python3.7/dist-packages (from tensorboard<2.9,>=2.8->tensorflow->keras-rl2) (2.23.0)\n",
            "Requirement already satisfied: werkzeug>=0.11.15 in /usr/local/lib/python3.7/dist-packages (from tensorboard<2.9,>=2.8->tensorflow->keras-rl2) (1.0.1)\n",
            "Requirement already satisfied: markdown>=2.6.8 in /usr/local/lib/python3.7/dist-packages (from tensorboard<2.9,>=2.8->tensorflow->keras-rl2) (3.3.6)\n",
            "Requirement already satisfied: google-auth<3,>=1.6.3 in /usr/local/lib/python3.7/dist-packages (from tensorboard<2.9,>=2.8->tensorflow->keras-rl2) (1.35.0)\n",
            "Requirement already satisfied: tensorboard-data-server<0.7.0,>=0.6.0 in /usr/local/lib/python3.7/dist-packages (from tensorboard<2.9,>=2.8->tensorflow->keras-rl2) (0.6.1)\n",
            "Requirement already satisfied: tensorboard-plugin-wit>=1.6.0 in /usr/local/lib/python3.7/dist-packages (from tensorboard<2.9,>=2.8->tensorflow->keras-rl2) (1.8.1)\n",
            "Requirement already satisfied: pyasn1-modules>=0.2.1 in /usr/local/lib/python3.7/dist-packages (from google-auth<3,>=1.6.3->tensorboard<2.9,>=2.8->tensorflow->keras-rl2) (0.2.8)\n",
            "Requirement already satisfied: cachetools<5.0,>=2.0.0 in /usr/local/lib/python3.7/dist-packages (from google-auth<3,>=1.6.3->tensorboard<2.9,>=2.8->tensorflow->keras-rl2) (4.2.4)\n",
            "Requirement already satisfied: rsa<5,>=3.1.4 in /usr/local/lib/python3.7/dist-packages (from google-auth<3,>=1.6.3->tensorboard<2.9,>=2.8->tensorflow->keras-rl2) (4.8)\n",
            "Requirement already satisfied: requests-oauthlib>=0.7.0 in /usr/local/lib/python3.7/dist-packages (from google-auth-oauthlib<0.5,>=0.4.1->tensorboard<2.9,>=2.8->tensorflow->keras-rl2) (1.3.1)\n",
            "Requirement already satisfied: importlib-metadata>=4.4 in /usr/local/lib/python3.7/dist-packages (from markdown>=2.6.8->tensorboard<2.9,>=2.8->tensorflow->keras-rl2) (4.11.3)\n",
            "Requirement already satisfied: zipp>=0.5 in /usr/local/lib/python3.7/dist-packages (from importlib-metadata>=4.4->markdown>=2.6.8->tensorboard<2.9,>=2.8->tensorflow->keras-rl2) (3.7.0)\n",
            "Requirement already satisfied: pyasn1<0.5.0,>=0.4.6 in /usr/local/lib/python3.7/dist-packages (from pyasn1-modules>=0.2.1->google-auth<3,>=1.6.3->tensorboard<2.9,>=2.8->tensorflow->keras-rl2) (0.4.8)\n",
            "Requirement already satisfied: chardet<4,>=3.0.2 in /usr/local/lib/python3.7/dist-packages (from requests<3,>=2.21.0->tensorboard<2.9,>=2.8->tensorflow->keras-rl2) (3.0.4)\n",
            "Requirement already satisfied: urllib3!=1.25.0,!=1.25.1,<1.26,>=1.21.1 in /usr/local/lib/python3.7/dist-packages (from requests<3,>=2.21.0->tensorboard<2.9,>=2.8->tensorflow->keras-rl2) (1.24.3)\n",
            "Requirement already satisfied: idna<3,>=2.5 in /usr/local/lib/python3.7/dist-packages (from requests<3,>=2.21.0->tensorboard<2.9,>=2.8->tensorflow->keras-rl2) (2.10)\n",
            "Requirement already satisfied: certifi>=2017.4.17 in /usr/local/lib/python3.7/dist-packages (from requests<3,>=2.21.0->tensorboard<2.9,>=2.8->tensorflow->keras-rl2) (2021.10.8)\n",
            "Requirement already satisfied: oauthlib>=3.0.0 in /usr/local/lib/python3.7/dist-packages (from requests-oauthlib>=0.7.0->google-auth-oauthlib<0.5,>=0.4.1->tensorboard<2.9,>=2.8->tensorflow->keras-rl2) (3.2.0)\n"
          ]
        }
      ]
    },
    {
      "cell_type": "code",
      "metadata": {
        "id": "XMIHLgQ3Z-lF",
        "colab": {
          "base_uri": "https://localhost:8080/"
        },
        "outputId": "3d5a8608-456f-4127-ce8a-f551e5f4e4f3"
      },
      "source": [
        "!pip install gym"
      ],
      "execution_count": 58,
      "outputs": [
        {
          "output_type": "stream",
          "name": "stdout",
          "text": [
            "Requirement already satisfied: gym in /usr/local/lib/python3.7/dist-packages (0.17.3)\n",
            "Requirement already satisfied: numpy>=1.10.4 in /usr/local/lib/python3.7/dist-packages (from gym) (1.21.5)\n",
            "Requirement already satisfied: scipy in /usr/local/lib/python3.7/dist-packages (from gym) (1.4.1)\n",
            "Requirement already satisfied: pyglet<=1.5.0,>=1.4.0 in /usr/local/lib/python3.7/dist-packages (from gym) (1.5.0)\n",
            "Requirement already satisfied: cloudpickle<1.7.0,>=1.2.0 in /usr/local/lib/python3.7/dist-packages (from gym) (1.3.0)\n",
            "Requirement already satisfied: future in /usr/local/lib/python3.7/dist-packages (from pyglet<=1.5.0,>=1.4.0->gym) (0.16.0)\n"
          ]
        }
      ]
    },
    {
      "cell_type": "code",
      "metadata": {
        "id": "M0AMLzq08ap0",
        "colab": {
          "base_uri": "https://localhost:8080/"
        },
        "outputId": "77b380e1-6c3d-4bce-8233-a8ac01deaf26"
      },
      "source": [
        "# load the gym module\n",
        "import gym\n",
        "import matplotlib.pyplot as plt\n",
        "# import the usual Keras modules for creating deep neural networks\n",
        "from keras import Sequential\n",
        "from keras.layers import Input, Flatten, Dense\n",
        "!pip install Adam\n",
        "#from keras.optimizers import Adam\n",
        "from tensorflow.keras.optimizers import Adam\n",
        "ENV_NAME = 'CartPole-v0'\n",
        "env = gym.make(ENV_NAME)"
      ],
      "execution_count": 62,
      "outputs": [
        {
          "output_type": "stream",
          "name": "stdout",
          "text": [
            "Requirement already satisfied: Adam in /usr/local/lib/python3.7/dist-packages (0.0.0.dev0)\n"
          ]
        }
      ]
    },
    {
      "cell_type": "markdown",
      "metadata": {
        "id": "ll6bNdUm54WS"
      },
      "source": [
        "Implementation of DQN for CartPole, applying policy BoltzmannQPolicy"
      ]
    },
    {
      "cell_type": "markdown",
      "metadata": {
        "id": "RSCrPKNy40PC"
      },
      "source": [
        "##Implement DQN with BoltzmannGumbelQPolicy"
      ]
    },
    {
      "cell_type": "code",
      "metadata": {
        "id": "efM9jkXr5A3c",
        "colab": {
          "base_uri": "https://localhost:8080/",
          "height": 1000
        },
        "outputId": "74320ade-a650-4862-b96f-cb5993919a2b"
      },
      "source": [
        "import rl\n",
        "from rl.memory import SequentialMemory  # import the exerience replay buffer module\n",
        "from rl.policy import BoltzmannGumbelQPolicy\n",
        "from rl.policy import LinearAnnealedPolicy\n",
        "from rl.policy import EpsGreedyQPolicy\n",
        "from rl.agents.dqn import DQNAgent      # import the DQN agent\n",
        "\n",
        "# setup experience replay buffer\n",
        "memory = SequentialMemory(limit=10000, window_length=1)\n",
        "\n",
        "policy = LinearAnnealedPolicy(EpsGreedyQPolicy(), \n",
        "                               attr='eps',            \n",
        "                               value_max=2.,\n",
        "                               value_min=.2, \n",
        "                               value_test=.05,\n",
        "                               nb_steps=200)\n",
        "# Q-Network\n",
        "model = Sequential()\n",
        "model.add(Input(shape=(1,env.observation_space.shape[0])))  # The input is 1 observation vector, and the number of observations in that vector \n",
        "model.add(Flatten())\n",
        "model.add(Dense(16, activation='relu'))\n",
        "# add extra layers here\n",
        "model.add(Dense(env.action_space.n, activation='linear'))   # the output is the number of actions in the action space\n",
        "\n",
        "print(model.summary())\n",
        "\n",
        "# define the agent\n",
        "dqn = DQNAgent(model=model, \n",
        "               nb_actions=env.action_space.n,\n",
        "               memory=memory,\n",
        "               nb_steps_warmup=15,\n",
        "               target_model_update=1e-2, \n",
        "               policy=policy) \n",
        "\n",
        "dqn.compile(Adam(lr=1e-3), metrics=['mae'])\n",
        "\n",
        "history = dqn.fit(env, nb_steps=4000, visualize=False, verbose=2)\n",
        "\n",
        "# summarize the history for number  of episode steps\n",
        "plt.plot(history.history['nb_episode_steps'])\n",
        "plt.ylabel('nb_episode_steps')\n",
        "plt.xlabel('episodes')\n",
        "plt.show()\n",
        "\n",
        "dqn.test(env, nb_episodes=20, visualize=False)"
      ],
      "execution_count": 82,
      "outputs": [
        {
          "output_type": "stream",
          "name": "stdout",
          "text": [
            "Model: \"sequential_33\"\n",
            "_________________________________________________________________\n",
            " Layer (type)                Output Shape              Param #   \n",
            "=================================================================\n",
            " flatten_31 (Flatten)        (None, 4)                 0         \n",
            "                                                                 \n",
            " dense_63 (Dense)            (None, 16)                80        \n",
            "                                                                 \n",
            " dense_64 (Dense)            (None, 2)                 34        \n",
            "                                                                 \n",
            "=================================================================\n",
            "Total params: 114\n",
            "Trainable params: 114\n",
            "Non-trainable params: 0\n",
            "_________________________________________________________________\n",
            "None\n"
          ]
        },
        {
          "output_type": "stream",
          "name": "stderr",
          "text": [
            "/usr/local/lib/python3.7/dist-packages/keras/optimizer_v2/adam.py:105: UserWarning: The `lr` argument is deprecated, use `learning_rate` instead.\n",
            "  super(Adam, self).__init__(name, **kwargs)\n"
          ]
        },
        {
          "output_type": "stream",
          "name": "stdout",
          "text": [
            "Training for 4000 steps ...\n"
          ]
        },
        {
          "output_type": "stream",
          "name": "stderr",
          "text": [
            "/usr/local/lib/python3.7/dist-packages/keras/engine/training_v1.py:2079: UserWarning: `Model.state_updates` will be removed in a future version. This property should not be used in TensorFlow 2.0, as `updates` are applied automatically.\n",
            "  updates=self.state_updates,\n",
            "/usr/local/lib/python3.7/dist-packages/rl/memory.py:37: UserWarning: Not enough entries to sample without replacement. Consider increasing your warm-up phase to avoid oversampling!\n",
            "  warnings.warn('Not enough entries to sample without replacement. Consider increasing your warm-up phase to avoid oversampling!')\n"
          ]
        },
        {
          "output_type": "stream",
          "name": "stdout",
          "text": [
            "   44/4000: episode: 1, duration: 8.779s, episode steps:  44, steps per second:   5, episode reward: 44.000, mean reward:  1.000 [ 1.000,  1.000], mean action: 0.455 [0.000, 1.000],  loss: 0.598857, mae: 0.616910, mean_q: 0.200632, mean_eps: 1.734500\n",
            "   60/4000: episode: 2, duration: 0.307s, episode steps:  16, steps per second:  52, episode reward: 16.000, mean reward:  1.000 [ 1.000,  1.000], mean action: 0.438 [0.000, 1.000],  loss: 0.506022, mae: 0.613859, mean_q: 0.300292, mean_eps: 1.536500\n",
            "   70/4000: episode: 3, duration: 0.166s, episode steps:  10, steps per second:  60, episode reward: 10.000, mean reward:  1.000 [ 1.000,  1.000], mean action: 0.300 [0.000, 1.000],  loss: 0.451315, mae: 0.617122, mean_q: 0.359671, mean_eps: 1.419500\n",
            "  108/4000: episode: 4, duration: 0.692s, episode steps:  38, steps per second:  55, episode reward: 38.000, mean reward:  1.000 [ 1.000,  1.000], mean action: 0.474 [0.000, 1.000],  loss: 0.402991, mae: 0.664470, mean_q: 0.513012, mean_eps: 1.203500\n",
            "  119/4000: episode: 5, duration: 0.217s, episode steps:  11, steps per second:  51, episode reward: 11.000, mean reward:  1.000 [ 1.000,  1.000], mean action: 0.545 [0.000, 1.000],  loss: 0.400166, mae: 0.740531, mean_q: 0.759812, mean_eps: 0.983000\n",
            "  140/4000: episode: 6, duration: 0.331s, episode steps:  21, steps per second:  63, episode reward: 21.000, mean reward:  1.000 [ 1.000,  1.000], mean action: 0.429 [0.000, 1.000],  loss: 0.348472, mae: 0.781210, mean_q: 0.900202, mean_eps: 0.839000\n",
            "  155/4000: episode: 7, duration: 0.170s, episode steps:  15, steps per second:  88, episode reward: 15.000, mean reward:  1.000 [ 1.000,  1.000], mean action: 0.800 [0.000, 1.000],  loss: 0.274979, mae: 0.791142, mean_q: 1.028533, mean_eps: 0.677000\n",
            "  168/4000: episode: 8, duration: 0.159s, episode steps:  13, steps per second:  82, episode reward: 13.000, mean reward:  1.000 [ 1.000,  1.000], mean action: 0.692 [0.000, 1.000],  loss: 0.251742, mae: 0.838209, mean_q: 1.214289, mean_eps: 0.551000\n",
            "  180/4000: episode: 9, duration: 0.161s, episode steps:  12, steps per second:  75, episode reward: 12.000, mean reward:  1.000 [ 1.000,  1.000], mean action: 0.667 [0.000, 1.000],  loss: 0.240018, mae: 0.914349, mean_q: 1.468057, mean_eps: 0.438500\n",
            "  195/4000: episode: 10, duration: 0.197s, episode steps:  15, steps per second:  76, episode reward: 15.000, mean reward:  1.000 [ 1.000,  1.000], mean action: 0.733 [0.000, 1.000],  loss: 0.219526, mae: 0.917790, mean_q: 1.512798, mean_eps: 0.317000\n",
            "  208/4000: episode: 11, duration: 0.161s, episode steps:  13, steps per second:  81, episode reward: 13.000, mean reward:  1.000 [ 1.000,  1.000], mean action: 0.846 [0.000, 1.000],  loss: 0.200652, mae: 0.967381, mean_q: 1.732105, mean_eps: 0.210385\n",
            "  217/4000: episode: 12, duration: 0.139s, episode steps:   9, steps per second:  65, episode reward:  9.000, mean reward:  1.000 [ 1.000,  1.000], mean action: 1.000 [1.000, 1.000],  loss: 0.338314, mae: 1.079554, mean_q: 1.977270, mean_eps: 0.200000\n",
            "  227/4000: episode: 13, duration: 0.160s, episode steps:  10, steps per second:  63, episode reward: 10.000, mean reward:  1.000 [ 1.000,  1.000], mean action: 0.900 [0.000, 1.000],  loss: 0.249561, mae: 1.071948, mean_q: 1.938410, mean_eps: 0.200000\n",
            "  237/4000: episode: 14, duration: 0.176s, episode steps:  10, steps per second:  57, episode reward: 10.000, mean reward:  1.000 [ 1.000,  1.000], mean action: 1.000 [1.000, 1.000],  loss: 0.340658, mae: 1.188016, mean_q: 2.167185, mean_eps: 0.200000\n",
            "  246/4000: episode: 15, duration: 0.166s, episode steps:   9, steps per second:  54, episode reward:  9.000, mean reward:  1.000 [ 1.000,  1.000], mean action: 1.000 [1.000, 1.000],  loss: 0.331391, mae: 1.185935, mean_q: 2.208658, mean_eps: 0.200000\n",
            "  258/4000: episode: 16, duration: 0.226s, episode steps:  12, steps per second:  53, episode reward: 12.000, mean reward:  1.000 [ 1.000,  1.000], mean action: 0.917 [0.000, 1.000],  loss: 0.430659, mae: 1.283197, mean_q: 2.325316, mean_eps: 0.200000\n",
            "  268/4000: episode: 17, duration: 0.170s, episode steps:  10, steps per second:  59, episode reward: 10.000, mean reward:  1.000 [ 1.000,  1.000], mean action: 0.900 [0.000, 1.000],  loss: 0.447093, mae: 1.324897, mean_q: 2.398497, mean_eps: 0.200000\n",
            "  277/4000: episode: 18, duration: 0.183s, episode steps:   9, steps per second:  49, episode reward:  9.000, mean reward:  1.000 [ 1.000,  1.000], mean action: 1.000 [1.000, 1.000],  loss: 0.507545, mae: 1.374197, mean_q: 2.443399, mean_eps: 0.200000\n",
            "  290/4000: episode: 19, duration: 0.247s, episode steps:  13, steps per second:  53, episode reward: 13.000, mean reward:  1.000 [ 1.000,  1.000], mean action: 0.769 [0.000, 1.000],  loss: 0.636514, mae: 1.448690, mean_q: 2.560604, mean_eps: 0.200000\n",
            "  299/4000: episode: 20, duration: 0.186s, episode steps:   9, steps per second:  48, episode reward:  9.000, mean reward:  1.000 [ 1.000,  1.000], mean action: 1.000 [1.000, 1.000],  loss: 0.436567, mae: 1.411348, mean_q: 2.492271, mean_eps: 0.200000\n",
            "  308/4000: episode: 21, duration: 0.180s, episode steps:   9, steps per second:  50, episode reward:  9.000, mean reward:  1.000 [ 1.000,  1.000], mean action: 1.000 [1.000, 1.000],  loss: 0.503424, mae: 1.507328, mean_q: 2.737021, mean_eps: 0.200000\n",
            "  322/4000: episode: 22, duration: 0.282s, episode steps:  14, steps per second:  50, episode reward: 14.000, mean reward:  1.000 [ 1.000,  1.000], mean action: 0.786 [0.000, 1.000],  loss: 0.569326, mae: 1.598269, mean_q: 2.923313, mean_eps: 0.200000\n",
            "  332/4000: episode: 23, duration: 0.194s, episode steps:  10, steps per second:  52, episode reward: 10.000, mean reward:  1.000 [ 1.000,  1.000], mean action: 1.000 [1.000, 1.000],  loss: 0.554687, mae: 1.595257, mean_q: 2.916799, mean_eps: 0.200000\n",
            "  342/4000: episode: 24, duration: 0.225s, episode steps:  10, steps per second:  44, episode reward: 10.000, mean reward:  1.000 [ 1.000,  1.000], mean action: 1.000 [1.000, 1.000],  loss: 0.535772, mae: 1.664366, mean_q: 3.032665, mean_eps: 0.200000\n",
            "  352/4000: episode: 25, duration: 0.218s, episode steps:  10, steps per second:  46, episode reward: 10.000, mean reward:  1.000 [ 1.000,  1.000], mean action: 0.800 [0.000, 1.000],  loss: 0.682657, mae: 1.753898, mean_q: 3.136197, mean_eps: 0.200000\n",
            "  361/4000: episode: 26, duration: 0.218s, episode steps:   9, steps per second:  41, episode reward:  9.000, mean reward:  1.000 [ 1.000,  1.000], mean action: 1.000 [1.000, 1.000],  loss: 0.432468, mae: 1.651499, mean_q: 3.017522, mean_eps: 0.200000\n",
            "  373/4000: episode: 27, duration: 0.241s, episode steps:  12, steps per second:  50, episode reward: 12.000, mean reward:  1.000 [ 1.000,  1.000], mean action: 0.917 [0.000, 1.000],  loss: 0.563818, mae: 1.780689, mean_q: 3.256813, mean_eps: 0.200000\n",
            "  382/4000: episode: 28, duration: 0.168s, episode steps:   9, steps per second:  53, episode reward:  9.000, mean reward:  1.000 [ 1.000,  1.000], mean action: 0.889 [0.000, 1.000],  loss: 0.687505, mae: 1.892502, mean_q: 3.451137, mean_eps: 0.200000\n",
            "  391/4000: episode: 29, duration: 0.166s, episode steps:   9, steps per second:  54, episode reward:  9.000, mean reward:  1.000 [ 1.000,  1.000], mean action: 1.000 [1.000, 1.000],  loss: 0.967474, mae: 1.981839, mean_q: 3.560122, mean_eps: 0.200000\n",
            "  401/4000: episode: 30, duration: 0.178s, episode steps:  10, steps per second:  56, episode reward: 10.000, mean reward:  1.000 [ 1.000,  1.000], mean action: 0.900 [0.000, 1.000],  loss: 0.625692, mae: 1.898243, mean_q: 3.481066, mean_eps: 0.200000\n",
            "  410/4000: episode: 31, duration: 0.187s, episode steps:   9, steps per second:  48, episode reward:  9.000, mean reward:  1.000 [ 1.000,  1.000], mean action: 1.000 [1.000, 1.000],  loss: 0.771996, mae: 1.913663, mean_q: 3.474828, mean_eps: 0.200000\n",
            "  419/4000: episode: 32, duration: 0.137s, episode steps:   9, steps per second:  66, episode reward:  9.000, mean reward:  1.000 [ 1.000,  1.000], mean action: 1.000 [1.000, 1.000],  loss: 0.826969, mae: 2.037388, mean_q: 3.646646, mean_eps: 0.200000\n",
            "  430/4000: episode: 33, duration: 0.194s, episode steps:  11, steps per second:  57, episode reward: 11.000, mean reward:  1.000 [ 1.000,  1.000], mean action: 0.909 [0.000, 1.000],  loss: 0.589984, mae: 1.960536, mean_q: 3.709742, mean_eps: 0.200000\n",
            "  440/4000: episode: 34, duration: 0.177s, episode steps:  10, steps per second:  56, episode reward: 10.000, mean reward:  1.000 [ 1.000,  1.000], mean action: 1.000 [1.000, 1.000],  loss: 0.859801, mae: 2.043140, mean_q: 3.848510, mean_eps: 0.200000\n",
            "  450/4000: episode: 35, duration: 0.193s, episode steps:  10, steps per second:  52, episode reward: 10.000, mean reward:  1.000 [ 1.000,  1.000], mean action: 1.000 [1.000, 1.000],  loss: 0.776985, mae: 2.095480, mean_q: 3.886363, mean_eps: 0.200000\n",
            "  460/4000: episode: 36, duration: 0.151s, episode steps:  10, steps per second:  66, episode reward: 10.000, mean reward:  1.000 [ 1.000,  1.000], mean action: 0.900 [0.000, 1.000],  loss: 0.653917, mae: 2.121508, mean_q: 3.986558, mean_eps: 0.200000\n",
            "  472/4000: episode: 37, duration: 0.237s, episode steps:  12, steps per second:  51, episode reward: 12.000, mean reward:  1.000 [ 1.000,  1.000], mean action: 0.833 [0.000, 1.000],  loss: 0.980455, mae: 2.225183, mean_q: 4.145283, mean_eps: 0.200000\n",
            "  485/4000: episode: 38, duration: 0.256s, episode steps:  13, steps per second:  51, episode reward: 13.000, mean reward:  1.000 [ 1.000,  1.000], mean action: 0.846 [0.000, 1.000],  loss: 0.876779, mae: 2.190441, mean_q: 4.105256, mean_eps: 0.200000\n",
            "  494/4000: episode: 39, duration: 0.137s, episode steps:   9, steps per second:  66, episode reward:  9.000, mean reward:  1.000 [ 1.000,  1.000], mean action: 0.889 [0.000, 1.000],  loss: 1.196561, mae: 2.342865, mean_q: 4.220307, mean_eps: 0.200000\n",
            "  505/4000: episode: 40, duration: 0.217s, episode steps:  11, steps per second:  51, episode reward: 11.000, mean reward:  1.000 [ 1.000,  1.000], mean action: 0.818 [0.000, 1.000],  loss: 0.870311, mae: 2.278755, mean_q: 4.184900, mean_eps: 0.200000\n",
            "  516/4000: episode: 41, duration: 0.213s, episode steps:  11, steps per second:  52, episode reward: 11.000, mean reward:  1.000 [ 1.000,  1.000], mean action: 0.909 [0.000, 1.000],  loss: 0.966241, mae: 2.404505, mean_q: 4.337285, mean_eps: 0.200000\n",
            "  527/4000: episode: 42, duration: 0.274s, episode steps:  11, steps per second:  40, episode reward: 11.000, mean reward:  1.000 [ 1.000,  1.000], mean action: 0.909 [0.000, 1.000],  loss: 0.810703, mae: 2.355020, mean_q: 4.385284, mean_eps: 0.200000\n",
            "  538/4000: episode: 43, duration: 0.177s, episode steps:  11, steps per second:  62, episode reward: 11.000, mean reward:  1.000 [ 1.000,  1.000], mean action: 0.818 [0.000, 1.000],  loss: 1.191694, mae: 2.478938, mean_q: 4.540020, mean_eps: 0.200000\n",
            "  548/4000: episode: 44, duration: 0.132s, episode steps:  10, steps per second:  76, episode reward: 10.000, mean reward:  1.000 [ 1.000,  1.000], mean action: 0.900 [0.000, 1.000],  loss: 0.734338, mae: 2.421757, mean_q: 4.502838, mean_eps: 0.200000\n",
            "  559/4000: episode: 45, duration: 0.133s, episode steps:  11, steps per second:  83, episode reward: 11.000, mean reward:  1.000 [ 1.000,  1.000], mean action: 0.727 [0.000, 1.000],  loss: 0.985988, mae: 2.503106, mean_q: 4.646802, mean_eps: 0.200000\n",
            "  570/4000: episode: 46, duration: 0.149s, episode steps:  11, steps per second:  74, episode reward: 11.000, mean reward:  1.000 [ 1.000,  1.000], mean action: 0.909 [0.000, 1.000],  loss: 1.000019, mae: 2.546591, mean_q: 4.737668, mean_eps: 0.200000\n",
            "  579/4000: episode: 47, duration: 0.109s, episode steps:   9, steps per second:  83, episode reward:  9.000, mean reward:  1.000 [ 1.000,  1.000], mean action: 0.889 [0.000, 1.000],  loss: 0.887249, mae: 2.559954, mean_q: 4.741427, mean_eps: 0.200000\n",
            "  588/4000: episode: 48, duration: 0.126s, episode steps:   9, steps per second:  71, episode reward:  9.000, mean reward:  1.000 [ 1.000,  1.000], mean action: 1.000 [1.000, 1.000],  loss: 0.848312, mae: 2.560657, mean_q: 4.781374, mean_eps: 0.200000\n",
            "  599/4000: episode: 49, duration: 0.129s, episode steps:  11, steps per second:  85, episode reward: 11.000, mean reward:  1.000 [ 1.000,  1.000], mean action: 0.818 [0.000, 1.000],  loss: 1.133012, mae: 2.660284, mean_q: 4.856731, mean_eps: 0.200000\n",
            "  610/4000: episode: 50, duration: 0.138s, episode steps:  11, steps per second:  80, episode reward: 11.000, mean reward:  1.000 [ 1.000,  1.000], mean action: 0.909 [0.000, 1.000],  loss: 1.018575, mae: 2.682300, mean_q: 4.824761, mean_eps: 0.200000\n",
            "  619/4000: episode: 51, duration: 0.119s, episode steps:   9, steps per second:  75, episode reward:  9.000, mean reward:  1.000 [ 1.000,  1.000], mean action: 1.000 [1.000, 1.000],  loss: 0.790676, mae: 2.646927, mean_q: 4.933052, mean_eps: 0.200000\n",
            "  632/4000: episode: 52, duration: 0.163s, episode steps:  13, steps per second:  80, episode reward: 13.000, mean reward:  1.000 [ 1.000,  1.000], mean action: 0.846 [0.000, 1.000],  loss: 0.997607, mae: 2.733893, mean_q: 5.026156, mean_eps: 0.200000\n",
            "  642/4000: episode: 53, duration: 0.130s, episode steps:  10, steps per second:  77, episode reward: 10.000, mean reward:  1.000 [ 1.000,  1.000], mean action: 0.800 [0.000, 1.000],  loss: 0.842227, mae: 2.758850, mean_q: 5.082844, mean_eps: 0.200000\n",
            "  652/4000: episode: 54, duration: 0.133s, episode steps:  10, steps per second:  75, episode reward: 10.000, mean reward:  1.000 [ 1.000,  1.000], mean action: 1.000 [1.000, 1.000],  loss: 1.029072, mae: 2.803331, mean_q: 5.134372, mean_eps: 0.200000\n",
            "  665/4000: episode: 55, duration: 0.178s, episode steps:  13, steps per second:  73, episode reward: 13.000, mean reward:  1.000 [ 1.000,  1.000], mean action: 0.769 [0.000, 1.000],  loss: 0.885599, mae: 2.818138, mean_q: 5.100231, mean_eps: 0.200000\n",
            "  674/4000: episode: 56, duration: 0.130s, episode steps:   9, steps per second:  69, episode reward:  9.000, mean reward:  1.000 [ 1.000,  1.000], mean action: 1.000 [1.000, 1.000],  loss: 1.029944, mae: 2.847483, mean_q: 5.119231, mean_eps: 0.200000\n",
            "  692/4000: episode: 57, duration: 0.251s, episode steps:  18, steps per second:  72, episode reward: 18.000, mean reward:  1.000 [ 1.000,  1.000], mean action: 0.778 [0.000, 1.000],  loss: 0.801883, mae: 2.833762, mean_q: 5.155764, mean_eps: 0.200000\n",
            "  705/4000: episode: 58, duration: 0.158s, episode steps:  13, steps per second:  82, episode reward: 13.000, mean reward:  1.000 [ 1.000,  1.000], mean action: 0.769 [0.000, 1.000],  loss: 0.752602, mae: 2.889930, mean_q: 5.327864, mean_eps: 0.200000\n",
            "  714/4000: episode: 59, duration: 0.116s, episode steps:   9, steps per second:  78, episode reward:  9.000, mean reward:  1.000 [ 1.000,  1.000], mean action: 1.000 [1.000, 1.000],  loss: 0.819813, mae: 2.943130, mean_q: 5.399490, mean_eps: 0.200000\n",
            "  723/4000: episode: 60, duration: 0.114s, episode steps:   9, steps per second:  79, episode reward:  9.000, mean reward:  1.000 [ 1.000,  1.000], mean action: 1.000 [1.000, 1.000],  loss: 0.772124, mae: 2.965805, mean_q: 5.430414, mean_eps: 0.200000\n",
            "  733/4000: episode: 61, duration: 0.137s, episode steps:  10, steps per second:  73, episode reward: 10.000, mean reward:  1.000 [ 1.000,  1.000], mean action: 0.900 [0.000, 1.000],  loss: 0.824428, mae: 2.989048, mean_q: 5.429227, mean_eps: 0.200000\n",
            "  743/4000: episode: 62, duration: 0.134s, episode steps:  10, steps per second:  74, episode reward: 10.000, mean reward:  1.000 [ 1.000,  1.000], mean action: 0.900 [0.000, 1.000],  loss: 0.532598, mae: 2.952793, mean_q: 5.543435, mean_eps: 0.200000\n",
            "  754/4000: episode: 63, duration: 0.139s, episode steps:  11, steps per second:  79, episode reward: 11.000, mean reward:  1.000 [ 1.000,  1.000], mean action: 0.909 [0.000, 1.000],  loss: 0.825217, mae: 3.065892, mean_q: 5.604860, mean_eps: 0.200000\n",
            "  766/4000: episode: 64, duration: 0.147s, episode steps:  12, steps per second:  81, episode reward: 12.000, mean reward:  1.000 [ 1.000,  1.000], mean action: 0.750 [0.000, 1.000],  loss: 0.701675, mae: 3.060301, mean_q: 5.672793, mean_eps: 0.200000\n",
            "  777/4000: episode: 65, duration: 0.334s, episode steps:  11, steps per second:  33, episode reward: 11.000, mean reward:  1.000 [ 1.000,  1.000], mean action: 0.818 [0.000, 1.000],  loss: 0.901125, mae: 3.123514, mean_q: 5.632284, mean_eps: 0.200000\n",
            "  789/4000: episode: 66, duration: 0.290s, episode steps:  12, steps per second:  41, episode reward: 12.000, mean reward:  1.000 [ 1.000,  1.000], mean action: 0.833 [0.000, 1.000],  loss: 0.621537, mae: 3.094772, mean_q: 5.681490, mean_eps: 0.200000\n",
            "  798/4000: episode: 67, duration: 0.212s, episode steps:   9, steps per second:  42, episode reward:  9.000, mean reward:  1.000 [ 1.000,  1.000], mean action: 0.889 [0.000, 1.000],  loss: 0.786706, mae: 3.154951, mean_q: 5.674365, mean_eps: 0.200000\n",
            "  809/4000: episode: 68, duration: 0.238s, episode steps:  11, steps per second:  46, episode reward: 11.000, mean reward:  1.000 [ 1.000,  1.000], mean action: 0.636 [0.000, 1.000],  loss: 0.872309, mae: 3.193082, mean_q: 5.711658, mean_eps: 0.200000\n",
            "  823/4000: episode: 69, duration: 0.202s, episode steps:  14, steps per second:  69, episode reward: 14.000, mean reward:  1.000 [ 1.000,  1.000], mean action: 0.500 [0.000, 1.000],  loss: 0.706392, mae: 3.192605, mean_q: 5.770623, mean_eps: 0.200000\n",
            "  832/4000: episode: 70, duration: 0.131s, episode steps:   9, steps per second:  69, episode reward:  9.000, mean reward:  1.000 [ 1.000,  1.000], mean action: 0.667 [0.000, 1.000],  loss: 0.794477, mae: 3.234998, mean_q: 5.867947, mean_eps: 0.200000\n",
            "  843/4000: episode: 71, duration: 0.160s, episode steps:  11, steps per second:  69, episode reward: 11.000, mean reward:  1.000 [ 1.000,  1.000], mean action: 0.727 [0.000, 1.000],  loss: 0.821466, mae: 3.292081, mean_q: 5.964297, mean_eps: 0.200000\n",
            "  870/4000: episode: 72, duration: 0.371s, episode steps:  27, steps per second:  73, episode reward: 27.000, mean reward:  1.000 [ 1.000,  1.000], mean action: 0.593 [0.000, 1.000],  loss: 0.787185, mae: 3.331538, mean_q: 5.992899, mean_eps: 0.200000\n",
            "  887/4000: episode: 73, duration: 0.234s, episode steps:  17, steps per second:  73, episode reward: 17.000, mean reward:  1.000 [ 1.000,  1.000], mean action: 0.471 [0.000, 1.000],  loss: 0.829716, mae: 3.356792, mean_q: 6.094388, mean_eps: 0.200000\n",
            "  902/4000: episode: 74, duration: 0.282s, episode steps:  15, steps per second:  53, episode reward: 15.000, mean reward:  1.000 [ 1.000,  1.000], mean action: 0.533 [0.000, 1.000],  loss: 0.597336, mae: 3.364920, mean_q: 6.196566, mean_eps: 0.200000\n",
            "  911/4000: episode: 75, duration: 0.156s, episode steps:   9, steps per second:  58, episode reward:  9.000, mean reward:  1.000 [ 1.000,  1.000], mean action: 0.778 [0.000, 1.000],  loss: 0.565074, mae: 3.385219, mean_q: 6.265640, mean_eps: 0.200000\n",
            "  932/4000: episode: 76, duration: 0.379s, episode steps:  21, steps per second:  55, episode reward: 21.000, mean reward:  1.000 [ 1.000,  1.000], mean action: 0.571 [0.000, 1.000],  loss: 0.733911, mae: 3.455568, mean_q: 6.324381, mean_eps: 0.200000\n",
            "  943/4000: episode: 77, duration: 0.171s, episode steps:  11, steps per second:  64, episode reward: 11.000, mean reward:  1.000 [ 1.000,  1.000], mean action: 0.636 [0.000, 1.000],  loss: 1.040540, mae: 3.556436, mean_q: 6.352627, mean_eps: 0.200000\n",
            "  976/4000: episode: 78, duration: 0.403s, episode steps:  33, steps per second:  82, episode reward: 33.000, mean reward:  1.000 [ 1.000,  1.000], mean action: 0.515 [0.000, 1.000],  loss: 0.860353, mae: 3.567709, mean_q: 6.431856, mean_eps: 0.200000\n",
            " 1022/4000: episode: 79, duration: 0.555s, episode steps:  46, steps per second:  83, episode reward: 46.000, mean reward:  1.000 [ 1.000,  1.000], mean action: 0.500 [0.000, 1.000],  loss: 0.766681, mae: 3.614308, mean_q: 6.600209, mean_eps: 0.200000\n",
            " 1056/4000: episode: 80, duration: 0.405s, episode steps:  34, steps per second:  84, episode reward: 34.000, mean reward:  1.000 [ 1.000,  1.000], mean action: 0.500 [0.000, 1.000],  loss: 0.879373, mae: 3.743644, mean_q: 6.832322, mean_eps: 0.200000\n",
            " 1101/4000: episode: 81, duration: 0.538s, episode steps:  45, steps per second:  84, episode reward: 45.000, mean reward:  1.000 [ 1.000,  1.000], mean action: 0.489 [0.000, 1.000],  loss: 0.689612, mae: 3.835933, mean_q: 7.120667, mean_eps: 0.200000\n",
            " 1111/4000: episode: 82, duration: 0.178s, episode steps:  10, steps per second:  56, episode reward: 10.000, mean reward:  1.000 [ 1.000,  1.000], mean action: 0.400 [0.000, 1.000],  loss: 0.818111, mae: 3.934007, mean_q: 7.349282, mean_eps: 0.200000\n",
            " 1132/4000: episode: 83, duration: 0.372s, episode steps:  21, steps per second:  56, episode reward: 21.000, mean reward:  1.000 [ 1.000,  1.000], mean action: 0.476 [0.000, 1.000],  loss: 0.672612, mae: 3.919559, mean_q: 7.308434, mean_eps: 0.200000\n",
            " 1156/4000: episode: 84, duration: 0.403s, episode steps:  24, steps per second:  59, episode reward: 24.000, mean reward:  1.000 [ 1.000,  1.000], mean action: 0.500 [0.000, 1.000],  loss: 1.101320, mae: 4.024197, mean_q: 7.349245, mean_eps: 0.200000\n",
            " 1167/4000: episode: 85, duration: 0.180s, episode steps:  11, steps per second:  61, episode reward: 11.000, mean reward:  1.000 [ 1.000,  1.000], mean action: 0.364 [0.000, 1.000],  loss: 0.926393, mae: 4.056322, mean_q: 7.444246, mean_eps: 0.200000\n",
            " 1175/4000: episode: 86, duration: 0.141s, episode steps:   8, steps per second:  57, episode reward:  8.000, mean reward:  1.000 [ 1.000,  1.000], mean action: 0.125 [0.000, 1.000],  loss: 0.986982, mae: 4.119121, mean_q: 7.624796, mean_eps: 0.200000\n",
            " 1185/4000: episode: 87, duration: 0.175s, episode steps:  10, steps per second:  57, episode reward: 10.000, mean reward:  1.000 [ 1.000,  1.000], mean action: 0.200 [0.000, 1.000],  loss: 1.337383, mae: 4.221123, mean_q: 7.736977, mean_eps: 0.200000\n",
            " 1196/4000: episode: 88, duration: 0.192s, episode steps:  11, steps per second:  57, episode reward: 11.000, mean reward:  1.000 [ 1.000,  1.000], mean action: 0.182 [0.000, 1.000],  loss: 0.978664, mae: 4.185954, mean_q: 7.733466, mean_eps: 0.200000\n",
            " 1205/4000: episode: 89, duration: 0.198s, episode steps:   9, steps per second:  46, episode reward:  9.000, mean reward:  1.000 [ 1.000,  1.000], mean action: 0.111 [0.000, 1.000],  loss: 1.028363, mae: 4.248744, mean_q: 7.875426, mean_eps: 0.200000\n",
            " 1214/4000: episode: 90, duration: 0.200s, episode steps:   9, steps per second:  45, episode reward:  9.000, mean reward:  1.000 [ 1.000,  1.000], mean action: 0.111 [0.000, 1.000],  loss: 0.927114, mae: 4.254918, mean_q: 7.943855, mean_eps: 0.200000\n",
            " 1227/4000: episode: 91, duration: 0.176s, episode steps:  13, steps per second:  74, episode reward: 13.000, mean reward:  1.000 [ 1.000,  1.000], mean action: 0.154 [0.000, 1.000],  loss: 1.051599, mae: 4.307367, mean_q: 8.020107, mean_eps: 0.200000\n",
            " 1237/4000: episode: 92, duration: 0.141s, episode steps:  10, steps per second:  71, episode reward: 10.000, mean reward:  1.000 [ 1.000,  1.000], mean action: 0.200 [0.000, 1.000],  loss: 0.982933, mae: 4.344877, mean_q: 8.091029, mean_eps: 0.200000\n",
            " 1250/4000: episode: 93, duration: 0.156s, episode steps:  13, steps per second:  83, episode reward: 13.000, mean reward:  1.000 [ 1.000,  1.000], mean action: 0.154 [0.000, 1.000],  loss: 1.138260, mae: 4.425136, mean_q: 8.254618, mean_eps: 0.200000\n",
            " 1263/4000: episode: 94, duration: 0.163s, episode steps:  13, steps per second:  80, episode reward: 13.000, mean reward:  1.000 [ 1.000,  1.000], mean action: 0.231 [0.000, 1.000],  loss: 1.555864, mae: 4.544305, mean_q: 8.459794, mean_eps: 0.200000\n",
            " 1274/4000: episode: 95, duration: 0.147s, episode steps:  11, steps per second:  75, episode reward: 11.000, mean reward:  1.000 [ 1.000,  1.000], mean action: 0.091 [0.000, 1.000],  loss: 1.545002, mae: 4.586926, mean_q: 8.462686, mean_eps: 0.200000\n",
            " 1286/4000: episode: 96, duration: 0.155s, episode steps:  12, steps per second:  78, episode reward: 12.000, mean reward:  1.000 [ 1.000,  1.000], mean action: 0.083 [0.000, 1.000],  loss: 1.358845, mae: 4.616969, mean_q: 8.596092, mean_eps: 0.200000\n",
            " 1297/4000: episode: 97, duration: 0.151s, episode steps:  11, steps per second:  73, episode reward: 11.000, mean reward:  1.000 [ 1.000,  1.000], mean action: 0.182 [0.000, 1.000],  loss: 1.090281, mae: 4.624346, mean_q: 8.735567, mean_eps: 0.200000\n",
            " 1308/4000: episode: 98, duration: 0.215s, episode steps:  11, steps per second:  51, episode reward: 11.000, mean reward:  1.000 [ 1.000,  1.000], mean action: 0.091 [0.000, 1.000],  loss: 1.331010, mae: 4.763527, mean_q: 9.029000, mean_eps: 0.200000\n",
            " 1318/4000: episode: 99, duration: 0.170s, episode steps:  10, steps per second:  59, episode reward: 10.000, mean reward:  1.000 [ 1.000,  1.000], mean action: 0.000 [0.000, 0.000],  loss: 2.348092, mae: 4.869792, mean_q: 9.051704, mean_eps: 0.200000\n",
            " 1332/4000: episode: 100, duration: 0.264s, episode steps:  14, steps per second:  53, episode reward: 14.000, mean reward:  1.000 [ 1.000,  1.000], mean action: 0.143 [0.000, 1.000],  loss: 2.420724, mae: 4.990053, mean_q: 9.060464, mean_eps: 0.200000\n",
            " 1341/4000: episode: 101, duration: 0.177s, episode steps:   9, steps per second:  51, episode reward:  9.000, mean reward:  1.000 [ 1.000,  1.000], mean action: 0.111 [0.000, 1.000],  loss: 1.677252, mae: 4.900049, mean_q: 8.955050, mean_eps: 0.200000\n",
            " 1351/4000: episode: 102, duration: 0.199s, episode steps:  10, steps per second:  50, episode reward: 10.000, mean reward:  1.000 [ 1.000,  1.000], mean action: 0.100 [0.000, 1.000],  loss: 2.597947, mae: 5.048701, mean_q: 9.050289, mean_eps: 0.200000\n",
            " 1360/4000: episode: 103, duration: 0.141s, episode steps:   9, steps per second:  64, episode reward:  9.000, mean reward:  1.000 [ 1.000,  1.000], mean action: 0.000 [0.000, 0.000],  loss: 1.909804, mae: 4.983836, mean_q: 9.071987, mean_eps: 0.200000\n",
            " 1370/4000: episode: 104, duration: 0.136s, episode steps:  10, steps per second:  73, episode reward: 10.000, mean reward:  1.000 [ 1.000,  1.000], mean action: 0.200 [0.000, 1.000],  loss: 1.865742, mae: 4.984857, mean_q: 9.090539, mean_eps: 0.200000\n",
            " 1381/4000: episode: 105, duration: 0.148s, episode steps:  11, steps per second:  74, episode reward: 11.000, mean reward:  1.000 [ 1.000,  1.000], mean action: 0.273 [0.000, 1.000],  loss: 2.231614, mae: 5.111471, mean_q: 9.312796, mean_eps: 0.200000\n",
            " 1389/4000: episode: 106, duration: 0.115s, episode steps:   8, steps per second:  69, episode reward:  8.000, mean reward:  1.000 [ 1.000,  1.000], mean action: 0.000 [0.000, 0.000],  loss: 1.855055, mae: 5.144467, mean_q: 9.440051, mean_eps: 0.200000\n",
            " 1403/4000: episode: 107, duration: 0.183s, episode steps:  14, steps per second:  76, episode reward: 14.000, mean reward:  1.000 [ 1.000,  1.000], mean action: 0.214 [0.000, 1.000],  loss: 1.595935, mae: 5.129145, mean_q: 9.484007, mean_eps: 0.200000\n",
            " 1413/4000: episode: 108, duration: 0.125s, episode steps:  10, steps per second:  80, episode reward: 10.000, mean reward:  1.000 [ 1.000,  1.000], mean action: 0.000 [0.000, 0.000],  loss: 2.269581, mae: 5.213608, mean_q: 9.550417, mean_eps: 0.200000\n",
            " 1421/4000: episode: 109, duration: 0.100s, episode steps:   8, steps per second:  80, episode reward:  8.000, mean reward:  1.000 [ 1.000,  1.000], mean action: 0.000 [0.000, 0.000],  loss: 1.836832, mae: 5.138880, mean_q: 9.514043, mean_eps: 0.200000\n",
            " 1430/4000: episode: 110, duration: 0.123s, episode steps:   9, steps per second:  73, episode reward:  9.000, mean reward:  1.000 [ 1.000,  1.000], mean action: 0.000 [0.000, 0.000],  loss: 2.010315, mae: 5.269891, mean_q: 9.749461, mean_eps: 0.200000\n",
            " 1441/4000: episode: 111, duration: 0.136s, episode steps:  11, steps per second:  81, episode reward: 11.000, mean reward:  1.000 [ 1.000,  1.000], mean action: 0.182 [0.000, 1.000],  loss: 2.039629, mae: 5.266441, mean_q: 9.614218, mean_eps: 0.200000\n",
            " 1451/4000: episode: 112, duration: 0.125s, episode steps:  10, steps per second:  80, episode reward: 10.000, mean reward:  1.000 [ 1.000,  1.000], mean action: 0.100 [0.000, 1.000],  loss: 2.475782, mae: 5.316311, mean_q: 9.611363, mean_eps: 0.200000\n",
            " 1462/4000: episode: 113, duration: 0.141s, episode steps:  11, steps per second:  78, episode reward: 11.000, mean reward:  1.000 [ 1.000,  1.000], mean action: 0.273 [0.000, 1.000],  loss: 2.506441, mae: 5.371687, mean_q: 9.710843, mean_eps: 0.200000\n",
            " 1472/4000: episode: 114, duration: 0.132s, episode steps:  10, steps per second:  76, episode reward: 10.000, mean reward:  1.000 [ 1.000,  1.000], mean action: 0.100 [0.000, 1.000],  loss: 2.169956, mae: 5.348105, mean_q: 9.706176, mean_eps: 0.200000\n",
            " 1482/4000: episode: 115, duration: 0.136s, episode steps:  10, steps per second:  73, episode reward: 10.000, mean reward:  1.000 [ 1.000,  1.000], mean action: 0.200 [0.000, 1.000],  loss: 1.918494, mae: 5.416047, mean_q: 9.969274, mean_eps: 0.200000\n",
            " 1492/4000: episode: 116, duration: 0.127s, episode steps:  10, steps per second:  79, episode reward: 10.000, mean reward:  1.000 [ 1.000,  1.000], mean action: 0.100 [0.000, 1.000],  loss: 2.627377, mae: 5.478553, mean_q: 9.991900, mean_eps: 0.200000\n",
            " 1501/4000: episode: 117, duration: 0.112s, episode steps:   9, steps per second:  81, episode reward:  9.000, mean reward:  1.000 [ 1.000,  1.000], mean action: 0.111 [0.000, 1.000],  loss: 4.152007, mae: 5.714617, mean_q: 10.138890, mean_eps: 0.200000\n",
            " 1511/4000: episode: 118, duration: 0.136s, episode steps:  10, steps per second:  73, episode reward: 10.000, mean reward:  1.000 [ 1.000,  1.000], mean action: 0.300 [0.000, 1.000],  loss: 3.355585, mae: 5.670374, mean_q: 10.081288, mean_eps: 0.200000\n",
            " 1521/4000: episode: 119, duration: 0.123s, episode steps:  10, steps per second:  82, episode reward: 10.000, mean reward:  1.000 [ 1.000,  1.000], mean action: 0.300 [0.000, 1.000],  loss: 3.144167, mae: 5.582272, mean_q: 9.988121, mean_eps: 0.200000\n",
            " 1530/4000: episode: 120, duration: 0.144s, episode steps:   9, steps per second:  63, episode reward:  9.000, mean reward:  1.000 [ 1.000,  1.000], mean action: 0.111 [0.000, 1.000],  loss: 2.213123, mae: 5.548987, mean_q: 10.100791, mean_eps: 0.200000\n",
            " 1539/4000: episode: 121, duration: 0.128s, episode steps:   9, steps per second:  70, episode reward:  9.000, mean reward:  1.000 [ 1.000,  1.000], mean action: 0.111 [0.000, 1.000],  loss: 2.878464, mae: 5.635328, mean_q: 10.161752, mean_eps: 0.200000\n",
            " 1550/4000: episode: 122, duration: 0.138s, episode steps:  11, steps per second:  80, episode reward: 11.000, mean reward:  1.000 [ 1.000,  1.000], mean action: 0.182 [0.000, 1.000],  loss: 3.008391, mae: 5.740627, mean_q: 10.343907, mean_eps: 0.200000\n",
            " 1559/4000: episode: 123, duration: 0.118s, episode steps:   9, steps per second:  76, episode reward:  9.000, mean reward:  1.000 [ 1.000,  1.000], mean action: 0.111 [0.000, 1.000],  loss: 2.850490, mae: 5.743248, mean_q: 10.458101, mean_eps: 0.200000\n",
            " 1569/4000: episode: 124, duration: 0.127s, episode steps:  10, steps per second:  79, episode reward: 10.000, mean reward:  1.000 [ 1.000,  1.000], mean action: 0.200 [0.000, 1.000],  loss: 3.191128, mae: 5.727003, mean_q: 10.413291, mean_eps: 0.200000\n",
            " 1581/4000: episode: 125, duration: 0.174s, episode steps:  12, steps per second:  69, episode reward: 12.000, mean reward:  1.000 [ 1.000,  1.000], mean action: 0.167 [0.000, 1.000],  loss: 3.187697, mae: 5.853415, mean_q: 10.585946, mean_eps: 0.200000\n",
            " 1591/4000: episode: 126, duration: 0.183s, episode steps:  10, steps per second:  55, episode reward: 10.000, mean reward:  1.000 [ 1.000,  1.000], mean action: 0.200 [0.000, 1.000],  loss: 2.748740, mae: 5.799988, mean_q: 10.580033, mean_eps: 0.200000\n",
            " 1601/4000: episode: 127, duration: 0.178s, episode steps:  10, steps per second:  56, episode reward: 10.000, mean reward:  1.000 [ 1.000,  1.000], mean action: 0.100 [0.000, 1.000],  loss: 3.221108, mae: 5.868073, mean_q: 10.574733, mean_eps: 0.200000\n",
            " 1611/4000: episode: 128, duration: 0.165s, episode steps:  10, steps per second:  60, episode reward: 10.000, mean reward:  1.000 [ 1.000,  1.000], mean action: 0.200 [0.000, 1.000],  loss: 2.820752, mae: 5.815537, mean_q: 10.553555, mean_eps: 0.200000\n",
            " 1621/4000: episode: 129, duration: 0.182s, episode steps:  10, steps per second:  55, episode reward: 10.000, mean reward:  1.000 [ 1.000,  1.000], mean action: 0.100 [0.000, 1.000],  loss: 2.830649, mae: 5.859423, mean_q: 10.613879, mean_eps: 0.200000\n",
            " 1630/4000: episode: 130, duration: 0.190s, episode steps:   9, steps per second:  47, episode reward:  9.000, mean reward:  1.000 [ 1.000,  1.000], mean action: 0.222 [0.000, 1.000],  loss: 2.985707, mae: 5.890265, mean_q: 10.736775, mean_eps: 0.200000\n",
            " 1640/4000: episode: 131, duration: 0.143s, episode steps:  10, steps per second:  70, episode reward: 10.000, mean reward:  1.000 [ 1.000,  1.000], mean action: 0.300 [0.000, 1.000],  loss: 3.245456, mae: 5.960416, mean_q: 10.789262, mean_eps: 0.200000\n",
            " 1648/4000: episode: 132, duration: 0.110s, episode steps:   8, steps per second:  73, episode reward:  8.000, mean reward:  1.000 [ 1.000,  1.000], mean action: 0.000 [0.000, 0.000],  loss: 2.756214, mae: 5.972304, mean_q: 10.857800, mean_eps: 0.200000\n",
            " 1658/4000: episode: 133, duration: 0.129s, episode steps:  10, steps per second:  78, episode reward: 10.000, mean reward:  1.000 [ 1.000,  1.000], mean action: 0.100 [0.000, 1.000],  loss: 2.272650, mae: 5.913414, mean_q: 10.832133, mean_eps: 0.200000\n",
            " 1673/4000: episode: 134, duration: 0.192s, episode steps:  15, steps per second:  78, episode reward: 15.000, mean reward:  1.000 [ 1.000,  1.000], mean action: 0.267 [0.000, 1.000],  loss: 2.855967, mae: 5.974633, mean_q: 10.936022, mean_eps: 0.200000\n",
            " 1681/4000: episode: 135, duration: 0.098s, episode steps:   8, steps per second:  82, episode reward:  8.000, mean reward:  1.000 [ 1.000,  1.000], mean action: 0.000 [0.000, 0.000],  loss: 2.208032, mae: 5.938475, mean_q: 11.011657, mean_eps: 0.200000\n",
            " 1694/4000: episode: 136, duration: 0.166s, episode steps:  13, steps per second:  78, episode reward: 13.000, mean reward:  1.000 [ 1.000,  1.000], mean action: 0.231 [0.000, 1.000],  loss: 2.310442, mae: 5.977603, mean_q: 11.127027, mean_eps: 0.200000\n",
            " 1705/4000: episode: 137, duration: 0.148s, episode steps:  11, steps per second:  74, episode reward: 11.000, mean reward:  1.000 [ 1.000,  1.000], mean action: 0.273 [0.000, 1.000],  loss: 4.677696, mae: 6.231143, mean_q: 11.061796, mean_eps: 0.200000\n",
            " 1716/4000: episode: 138, duration: 0.161s, episode steps:  11, steps per second:  68, episode reward: 11.000, mean reward:  1.000 [ 1.000,  1.000], mean action: 0.364 [0.000, 1.000],  loss: 3.941779, mae: 6.123574, mean_q: 10.825611, mean_eps: 0.200000\n",
            " 1728/4000: episode: 139, duration: 0.215s, episode steps:  12, steps per second:  56, episode reward: 12.000, mean reward:  1.000 [ 1.000,  1.000], mean action: 0.417 [0.000, 1.000],  loss: 2.907833, mae: 6.089980, mean_q: 10.898802, mean_eps: 0.200000\n",
            " 1737/4000: episode: 140, duration: 0.177s, episode steps:   9, steps per second:  51, episode reward:  9.000, mean reward:  1.000 [ 1.000,  1.000], mean action: 0.333 [0.000, 1.000],  loss: 3.874644, mae: 6.218801, mean_q: 11.021297, mean_eps: 0.200000\n",
            " 1746/4000: episode: 141, duration: 0.212s, episode steps:   9, steps per second:  42, episode reward:  9.000, mean reward:  1.000 [ 1.000,  1.000], mean action: 0.222 [0.000, 1.000],  loss: 4.609675, mae: 6.273657, mean_q: 11.014861, mean_eps: 0.200000\n",
            " 1756/4000: episode: 142, duration: 0.195s, episode steps:  10, steps per second:  51, episode reward: 10.000, mean reward:  1.000 [ 1.000,  1.000], mean action: 0.200 [0.000, 1.000],  loss: 2.996235, mae: 6.142678, mean_q: 11.041569, mean_eps: 0.200000\n",
            " 1769/4000: episode: 143, duration: 0.251s, episode steps:  13, steps per second:  52, episode reward: 13.000, mean reward:  1.000 [ 1.000,  1.000], mean action: 0.385 [0.000, 1.000],  loss: 3.329119, mae: 6.161735, mean_q: 10.992020, mean_eps: 0.200000\n",
            " 1781/4000: episode: 144, duration: 0.238s, episode steps:  12, steps per second:  51, episode reward: 12.000, mean reward:  1.000 [ 1.000,  1.000], mean action: 0.333 [0.000, 1.000],  loss: 3.792488, mae: 6.252963, mean_q: 11.176534, mean_eps: 0.200000\n",
            " 1790/4000: episode: 145, duration: 0.162s, episode steps:   9, steps per second:  56, episode reward:  9.000, mean reward:  1.000 [ 1.000,  1.000], mean action: 0.111 [0.000, 1.000],  loss: 2.692198, mae: 6.140417, mean_q: 11.180868, mean_eps: 0.200000\n",
            " 1802/4000: episode: 146, duration: 0.206s, episode steps:  12, steps per second:  58, episode reward: 12.000, mean reward:  1.000 [ 1.000,  1.000], mean action: 0.333 [0.000, 1.000],  loss: 3.922883, mae: 6.264666, mean_q: 11.201525, mean_eps: 0.200000\n",
            " 1813/4000: episode: 147, duration: 0.194s, episode steps:  11, steps per second:  57, episode reward: 11.000, mean reward:  1.000 [ 1.000,  1.000], mean action: 0.364 [0.000, 1.000],  loss: 3.098191, mae: 6.223474, mean_q: 11.212445, mean_eps: 0.200000\n",
            " 1823/4000: episode: 148, duration: 0.175s, episode steps:  10, steps per second:  57, episode reward: 10.000, mean reward:  1.000 [ 1.000,  1.000], mean action: 0.400 [0.000, 1.000],  loss: 2.878559, mae: 6.184194, mean_q: 11.251014, mean_eps: 0.200000\n",
            " 1836/4000: episode: 149, duration: 0.227s, episode steps:  13, steps per second:  57, episode reward: 13.000, mean reward:  1.000 [ 1.000,  1.000], mean action: 0.385 [0.000, 1.000],  loss: 4.167899, mae: 6.392400, mean_q: 11.389999, mean_eps: 0.200000\n",
            " 1847/4000: episode: 150, duration: 0.187s, episode steps:  11, steps per second:  59, episode reward: 11.000, mean reward:  1.000 [ 1.000,  1.000], mean action: 0.364 [0.000, 1.000],  loss: 2.874569, mae: 6.272785, mean_q: 11.417935, mean_eps: 0.200000\n",
            " 1858/4000: episode: 151, duration: 0.205s, episode steps:  11, steps per second:  54, episode reward: 11.000, mean reward:  1.000 [ 1.000,  1.000], mean action: 0.364 [0.000, 1.000],  loss: 2.948162, mae: 6.281019, mean_q: 11.434245, mean_eps: 0.200000\n",
            " 1868/4000: episode: 152, duration: 0.200s, episode steps:  10, steps per second:  50, episode reward: 10.000, mean reward:  1.000 [ 1.000,  1.000], mean action: 0.300 [0.000, 1.000],  loss: 3.236112, mae: 6.309996, mean_q: 11.476395, mean_eps: 0.200000\n",
            " 1879/4000: episode: 153, duration: 0.179s, episode steps:  11, steps per second:  61, episode reward: 11.000, mean reward:  1.000 [ 1.000,  1.000], mean action: 0.273 [0.000, 1.000],  loss: 4.331401, mae: 6.443836, mean_q: 11.527423, mean_eps: 0.200000\n",
            " 1889/4000: episode: 154, duration: 0.128s, episode steps:  10, steps per second:  78, episode reward: 10.000, mean reward:  1.000 [ 1.000,  1.000], mean action: 0.200 [0.000, 1.000],  loss: 4.468380, mae: 6.456897, mean_q: 11.434722, mean_eps: 0.200000\n",
            " 1908/4000: episode: 155, duration: 0.227s, episode steps:  19, steps per second:  84, episode reward: 19.000, mean reward:  1.000 [ 1.000,  1.000], mean action: 0.368 [0.000, 1.000],  loss: 3.688526, mae: 6.403663, mean_q: 11.364853, mean_eps: 0.200000\n",
            " 1920/4000: episode: 156, duration: 0.139s, episode steps:  12, steps per second:  86, episode reward: 12.000, mean reward:  1.000 [ 1.000,  1.000], mean action: 0.417 [0.000, 1.000],  loss: 5.018241, mae: 6.502025, mean_q: 11.339020, mean_eps: 0.200000\n",
            " 1930/4000: episode: 157, duration: 0.148s, episode steps:  10, steps per second:  67, episode reward: 10.000, mean reward:  1.000 [ 1.000,  1.000], mean action: 0.400 [0.000, 1.000],  loss: 4.518615, mae: 6.459450, mean_q: 11.247232, mean_eps: 0.200000\n",
            " 1942/4000: episode: 158, duration: 0.168s, episode steps:  12, steps per second:  71, episode reward: 12.000, mean reward:  1.000 [ 1.000,  1.000], mean action: 0.417 [0.000, 1.000],  loss: 2.103689, mae: 6.232960, mean_q: 11.260441, mean_eps: 0.200000\n",
            " 1952/4000: episode: 159, duration: 0.134s, episode steps:  10, steps per second:  74, episode reward: 10.000, mean reward:  1.000 [ 1.000,  1.000], mean action: 0.400 [0.000, 1.000],  loss: 2.992563, mae: 6.350155, mean_q: 11.532988, mean_eps: 0.200000\n",
            " 1967/4000: episode: 160, duration: 0.184s, episode steps:  15, steps per second:  82, episode reward: 15.000, mean reward:  1.000 [ 1.000,  1.000], mean action: 0.467 [0.000, 1.000],  loss: 3.507854, mae: 6.413648, mean_q: 11.600993, mean_eps: 0.200000\n",
            " 1979/4000: episode: 161, duration: 0.155s, episode steps:  12, steps per second:  77, episode reward: 12.000, mean reward:  1.000 [ 1.000,  1.000], mean action: 0.417 [0.000, 1.000],  loss: 4.503139, mae: 6.495336, mean_q: 11.451030, mean_eps: 0.200000\n",
            " 1994/4000: episode: 162, duration: 0.194s, episode steps:  15, steps per second:  77, episode reward: 15.000, mean reward:  1.000 [ 1.000,  1.000], mean action: 0.467 [0.000, 1.000],  loss: 3.807012, mae: 6.438050, mean_q: 11.412464, mean_eps: 0.200000\n",
            " 2007/4000: episode: 163, duration: 0.165s, episode steps:  13, steps per second:  79, episode reward: 13.000, mean reward:  1.000 [ 1.000,  1.000], mean action: 0.462 [0.000, 1.000],  loss: 3.338644, mae: 6.380048, mean_q: 11.377266, mean_eps: 0.200000\n",
            " 2019/4000: episode: 164, duration: 0.170s, episode steps:  12, steps per second:  71, episode reward: 12.000, mean reward:  1.000 [ 1.000,  1.000], mean action: 0.500 [0.000, 1.000],  loss: 3.637982, mae: 6.477192, mean_q: 11.578738, mean_eps: 0.200000\n",
            " 2033/4000: episode: 165, duration: 0.175s, episode steps:  14, steps per second:  80, episode reward: 14.000, mean reward:  1.000 [ 1.000,  1.000], mean action: 0.500 [0.000, 1.000],  loss: 2.755553, mae: 6.331370, mean_q: 11.471859, mean_eps: 0.200000\n",
            " 2048/4000: episode: 166, duration: 0.291s, episode steps:  15, steps per second:  52, episode reward: 15.000, mean reward:  1.000 [ 1.000,  1.000], mean action: 0.533 [0.000, 1.000],  loss: 3.032733, mae: 6.408586, mean_q: 11.672629, mean_eps: 0.200000\n",
            " 2065/4000: episode: 167, duration: 0.309s, episode steps:  17, steps per second:  55, episode reward: 17.000, mean reward:  1.000 [ 1.000,  1.000], mean action: 0.471 [0.000, 1.000],  loss: 3.869412, mae: 6.447385, mean_q: 11.495850, mean_eps: 0.200000\n",
            " 2093/4000: episode: 168, duration: 0.484s, episode steps:  28, steps per second:  58, episode reward: 28.000, mean reward:  1.000 [ 1.000,  1.000], mean action: 0.464 [0.000, 1.000],  loss: 2.778915, mae: 6.373131, mean_q: 11.554418, mean_eps: 0.200000\n",
            " 2118/4000: episode: 169, duration: 0.409s, episode steps:  25, steps per second:  61, episode reward: 25.000, mean reward:  1.000 [ 1.000,  1.000], mean action: 0.440 [0.000, 1.000],  loss: 3.230239, mae: 6.423668, mean_q: 11.636168, mean_eps: 0.200000\n",
            " 2140/4000: episode: 170, duration: 0.365s, episode steps:  22, steps per second:  60, episode reward: 22.000, mean reward:  1.000 [ 1.000,  1.000], mean action: 0.500 [0.000, 1.000],  loss: 3.888116, mae: 6.493870, mean_q: 11.534492, mean_eps: 0.200000\n",
            " 2166/4000: episode: 171, duration: 0.472s, episode steps:  26, steps per second:  55, episode reward: 26.000, mean reward:  1.000 [ 1.000,  1.000], mean action: 0.500 [0.000, 1.000],  loss: 3.135299, mae: 6.429490, mean_q: 11.568814, mean_eps: 0.200000\n",
            " 2185/4000: episode: 172, duration: 0.307s, episode steps:  19, steps per second:  62, episode reward: 19.000, mean reward:  1.000 [ 1.000,  1.000], mean action: 0.526 [0.000, 1.000],  loss: 2.771597, mae: 6.411407, mean_q: 11.698077, mean_eps: 0.200000\n",
            " 2254/4000: episode: 173, duration: 1.078s, episode steps:  69, steps per second:  64, episode reward: 69.000, mean reward:  1.000 [ 1.000,  1.000], mean action: 0.493 [0.000, 1.000],  loss: 3.552226, mae: 6.498198, mean_q: 11.654901, mean_eps: 0.200000\n",
            " 2278/4000: episode: 174, duration: 0.402s, episode steps:  24, steps per second:  60, episode reward: 24.000, mean reward:  1.000 [ 1.000,  1.000], mean action: 0.500 [0.000, 1.000],  loss: 3.451722, mae: 6.477960, mean_q: 11.551496, mean_eps: 0.200000\n",
            " 2301/4000: episode: 175, duration: 0.301s, episode steps:  23, steps per second:  76, episode reward: 23.000, mean reward:  1.000 [ 1.000,  1.000], mean action: 0.565 [0.000, 1.000],  loss: 2.350636, mae: 6.407950, mean_q: 11.699201, mean_eps: 0.200000\n",
            " 2330/4000: episode: 176, duration: 0.337s, episode steps:  29, steps per second:  86, episode reward: 29.000, mean reward:  1.000 [ 1.000,  1.000], mean action: 0.517 [0.000, 1.000],  loss: 3.605586, mae: 6.530579, mean_q: 11.829649, mean_eps: 0.200000\n",
            " 2376/4000: episode: 177, duration: 0.559s, episode steps:  46, steps per second:  82, episode reward: 46.000, mean reward:  1.000 [ 1.000,  1.000], mean action: 0.500 [0.000, 1.000],  loss: 2.940128, mae: 6.517730, mean_q: 11.815037, mean_eps: 0.200000\n",
            " 2461/4000: episode: 178, duration: 1.125s, episode steps:  85, steps per second:  76, episode reward: 85.000, mean reward:  1.000 [ 1.000,  1.000], mean action: 0.494 [0.000, 1.000],  loss: 3.025096, mae: 6.507311, mean_q: 11.833423, mean_eps: 0.200000\n",
            " 2483/4000: episode: 179, duration: 0.392s, episode steps:  22, steps per second:  56, episode reward: 22.000, mean reward:  1.000 [ 1.000,  1.000], mean action: 0.500 [0.000, 1.000],  loss: 2.776095, mae: 6.546158, mean_q: 12.027101, mean_eps: 0.200000\n",
            " 2512/4000: episode: 180, duration: 0.515s, episode steps:  29, steps per second:  56, episode reward: 29.000, mean reward:  1.000 [ 1.000,  1.000], mean action: 0.483 [0.000, 1.000],  loss: 2.523121, mae: 6.567264, mean_q: 12.137833, mean_eps: 0.200000\n",
            " 2538/4000: episode: 181, duration: 0.419s, episode steps:  26, steps per second:  62, episode reward: 26.000, mean reward:  1.000 [ 1.000,  1.000], mean action: 0.500 [0.000, 1.000],  loss: 3.443507, mae: 6.603305, mean_q: 11.935188, mean_eps: 0.200000\n",
            " 2570/4000: episode: 182, duration: 0.593s, episode steps:  32, steps per second:  54, episode reward: 32.000, mean reward:  1.000 [ 1.000,  1.000], mean action: 0.500 [0.000, 1.000],  loss: 2.779505, mae: 6.606414, mean_q: 12.104201, mean_eps: 0.200000\n",
            " 2628/4000: episode: 183, duration: 0.988s, episode steps:  58, steps per second:  59, episode reward: 58.000, mean reward:  1.000 [ 1.000,  1.000], mean action: 0.517 [0.000, 1.000],  loss: 2.796931, mae: 6.656297, mean_q: 12.240582, mean_eps: 0.200000\n",
            " 2667/4000: episode: 184, duration: 0.626s, episode steps:  39, steps per second:  62, episode reward: 39.000, mean reward:  1.000 [ 1.000,  1.000], mean action: 0.513 [0.000, 1.000],  loss: 3.233401, mae: 6.721301, mean_q: 12.251986, mean_eps: 0.200000\n",
            " 2723/4000: episode: 185, duration: 0.956s, episode steps:  56, steps per second:  59, episode reward: 56.000, mean reward:  1.000 [ 1.000,  1.000], mean action: 0.500 [0.000, 1.000],  loss: 2.738175, mae: 6.681070, mean_q: 12.259691, mean_eps: 0.200000\n",
            " 2770/4000: episode: 186, duration: 0.730s, episode steps:  47, steps per second:  64, episode reward: 47.000, mean reward:  1.000 [ 1.000,  1.000], mean action: 0.511 [0.000, 1.000],  loss: 2.836246, mae: 6.753185, mean_q: 12.430753, mean_eps: 0.200000\n",
            " 2847/4000: episode: 187, duration: 1.096s, episode steps:  77, steps per second:  70, episode reward: 77.000, mean reward:  1.000 [ 1.000,  1.000], mean action: 0.506 [0.000, 1.000],  loss: 2.574576, mae: 6.781589, mean_q: 12.575741, mean_eps: 0.200000\n",
            " 2894/4000: episode: 188, duration: 0.727s, episode steps:  47, steps per second:  65, episode reward: 47.000, mean reward:  1.000 [ 1.000,  1.000], mean action: 0.489 [0.000, 1.000],  loss: 2.173022, mae: 6.822624, mean_q: 12.767547, mean_eps: 0.200000\n",
            " 2948/4000: episode: 189, duration: 0.843s, episode steps:  54, steps per second:  64, episode reward: 54.000, mean reward:  1.000 [ 1.000,  1.000], mean action: 0.519 [0.000, 1.000],  loss: 2.519114, mae: 6.919381, mean_q: 12.872160, mean_eps: 0.200000\n",
            " 3020/4000: episode: 190, duration: 1.096s, episode steps:  72, steps per second:  66, episode reward: 72.000, mean reward:  1.000 [ 1.000,  1.000], mean action: 0.514 [0.000, 1.000],  loss: 2.680387, mae: 7.010095, mean_q: 13.025288, mean_eps: 0.200000\n",
            " 3050/4000: episode: 191, duration: 0.348s, episode steps:  30, steps per second:  86, episode reward: 30.000, mean reward:  1.000 [ 1.000,  1.000], mean action: 0.467 [0.000, 1.000],  loss: 2.690504, mae: 7.030988, mean_q: 13.066053, mean_eps: 0.200000\n",
            " 3107/4000: episode: 192, duration: 0.732s, episode steps:  57, steps per second:  78, episode reward: 57.000, mean reward:  1.000 [ 1.000,  1.000], mean action: 0.509 [0.000, 1.000],  loss: 2.626191, mae: 7.112538, mean_q: 13.232706, mean_eps: 0.200000\n",
            " 3146/4000: episode: 193, duration: 0.604s, episode steps:  39, steps per second:  65, episode reward: 39.000, mean reward:  1.000 [ 1.000,  1.000], mean action: 0.513 [0.000, 1.000],  loss: 2.454655, mae: 7.148053, mean_q: 13.405782, mean_eps: 0.200000\n",
            " 3197/4000: episode: 194, duration: 0.656s, episode steps:  51, steps per second:  78, episode reward: 51.000, mean reward:  1.000 [ 1.000,  1.000], mean action: 0.490 [0.000, 1.000],  loss: 2.305066, mae: 7.196260, mean_q: 13.510550, mean_eps: 0.200000\n",
            " 3250/4000: episode: 195, duration: 0.617s, episode steps:  53, steps per second:  86, episode reward: 53.000, mean reward:  1.000 [ 1.000,  1.000], mean action: 0.491 [0.000, 1.000],  loss: 2.318364, mae: 7.277890, mean_q: 13.669209, mean_eps: 0.200000\n",
            " 3283/4000: episode: 196, duration: 0.375s, episode steps:  33, steps per second:  88, episode reward: 33.000, mean reward:  1.000 [ 1.000,  1.000], mean action: 0.485 [0.000, 1.000],  loss: 2.683682, mae: 7.447124, mean_q: 13.978401, mean_eps: 0.200000\n",
            " 3330/4000: episode: 197, duration: 0.551s, episode steps:  47, steps per second:  85, episode reward: 47.000, mean reward:  1.000 [ 1.000,  1.000], mean action: 0.489 [0.000, 1.000],  loss: 2.427314, mae: 7.463972, mean_q: 13.973477, mean_eps: 0.200000\n",
            " 3363/4000: episode: 198, duration: 0.381s, episode steps:  33, steps per second:  87, episode reward: 33.000, mean reward:  1.000 [ 1.000,  1.000], mean action: 0.515 [0.000, 1.000],  loss: 2.003609, mae: 7.485347, mean_q: 14.168409, mean_eps: 0.200000\n",
            " 3400/4000: episode: 199, duration: 0.441s, episode steps:  37, steps per second:  84, episode reward: 37.000, mean reward:  1.000 [ 1.000,  1.000], mean action: 0.486 [0.000, 1.000],  loss: 3.254697, mae: 7.634891, mean_q: 14.181516, mean_eps: 0.200000\n",
            " 3437/4000: episode: 200, duration: 0.442s, episode steps:  37, steps per second:  84, episode reward: 37.000, mean reward:  1.000 [ 1.000,  1.000], mean action: 0.459 [0.000, 1.000],  loss: 2.514777, mae: 7.631323, mean_q: 14.331255, mean_eps: 0.200000\n",
            " 3491/4000: episode: 201, duration: 0.628s, episode steps:  54, steps per second:  86, episode reward: 54.000, mean reward:  1.000 [ 1.000,  1.000], mean action: 0.500 [0.000, 1.000],  loss: 2.975886, mae: 7.715346, mean_q: 14.444643, mean_eps: 0.200000\n",
            " 3532/4000: episode: 202, duration: 0.478s, episode steps:  41, steps per second:  86, episode reward: 41.000, mean reward:  1.000 [ 1.000,  1.000], mean action: 0.488 [0.000, 1.000],  loss: 3.133748, mae: 7.793402, mean_q: 14.580737, mean_eps: 0.200000\n",
            " 3576/4000: episode: 203, duration: 0.523s, episode steps:  44, steps per second:  84, episode reward: 44.000, mean reward:  1.000 [ 1.000,  1.000], mean action: 0.477 [0.000, 1.000],  loss: 3.023173, mae: 7.887201, mean_q: 14.797414, mean_eps: 0.200000\n",
            " 3614/4000: episode: 204, duration: 0.418s, episode steps:  38, steps per second:  91, episode reward: 38.000, mean reward:  1.000 [ 1.000,  1.000], mean action: 0.500 [0.000, 1.000],  loss: 2.845516, mae: 7.884459, mean_q: 14.797112, mean_eps: 0.200000\n",
            " 3748/4000: episode: 205, duration: 1.470s, episode steps: 134, steps per second:  91, episode reward: 134.000, mean reward:  1.000 [ 1.000,  1.000], mean action: 0.493 [0.000, 1.000],  loss: 3.016764, mae: 7.999053, mean_q: 15.024226, mean_eps: 0.200000\n",
            " 3778/4000: episode: 206, duration: 0.358s, episode steps:  30, steps per second:  84, episode reward: 30.000, mean reward:  1.000 [ 1.000,  1.000], mean action: 0.467 [0.000, 1.000],  loss: 2.641574, mae: 8.182103, mean_q: 15.478601, mean_eps: 0.200000\n",
            " 3828/4000: episode: 207, duration: 0.738s, episode steps:  50, steps per second:  68, episode reward: 50.000, mean reward:  1.000 [ 1.000,  1.000], mean action: 0.480 [0.000, 1.000],  loss: 3.486221, mae: 8.256557, mean_q: 15.464907, mean_eps: 0.200000\n",
            " 3870/4000: episode: 208, duration: 0.687s, episode steps:  42, steps per second:  61, episode reward: 42.000, mean reward:  1.000 [ 1.000,  1.000], mean action: 0.476 [0.000, 1.000],  loss: 2.879864, mae: 8.290290, mean_q: 15.677353, mean_eps: 0.200000\n",
            " 3909/4000: episode: 209, duration: 0.651s, episode steps:  39, steps per second:  60, episode reward: 39.000, mean reward:  1.000 [ 1.000,  1.000], mean action: 0.487 [0.000, 1.000],  loss: 3.166097, mae: 8.441880, mean_q: 15.909541, mean_eps: 0.200000\n",
            " 3937/4000: episode: 210, duration: 0.340s, episode steps:  28, steps per second:  82, episode reward: 28.000, mean reward:  1.000 [ 1.000,  1.000], mean action: 0.464 [0.000, 1.000],  loss: 2.731440, mae: 8.355042, mean_q: 15.839477, mean_eps: 0.200000\n",
            " 3972/4000: episode: 211, duration: 0.434s, episode steps:  35, steps per second:  81, episode reward: 35.000, mean reward:  1.000 [ 1.000,  1.000], mean action: 0.486 [0.000, 1.000],  loss: 3.515545, mae: 8.481320, mean_q: 16.037656, mean_eps: 0.200000\n",
            " 4000/4000: episode: 212, duration: 0.332s, episode steps:  28, steps per second:  84, episode reward: 28.000, mean reward:  1.000 [ 1.000,  1.000], mean action: 0.500 [0.000, 1.000],  loss: 3.729735, mae: 8.659801, mean_q: 16.341548, mean_eps: 0.200000\n",
            "done, took 67.775 seconds\n"
          ]
        },
        {
          "output_type": "display_data",
          "data": {
            "text/plain": [
              "<Figure size 432x288 with 1 Axes>"
            ],
            "image/png": "[encoded data removed]"
          },
          "metadata": {
            "needs_background": "light"
          }
        },
        {
          "output_type": "stream",
          "name": "stdout",
          "text": [
            "Testing for 20 episodes ...\n",
            "Episode 1: reward: 44.000, steps: 44\n",
            "Episode 2: reward: 28.000, steps: 28\n",
            "Episode 3: reward: 37.000, steps: 37\n",
            "Episode 4: reward: 26.000, steps: 26\n",
            "Episode 5: reward: 38.000, steps: 38\n",
            "Episode 6: reward: 38.000, steps: 38\n",
            "Episode 7: reward: 28.000, steps: 28\n",
            "Episode 8: reward: 24.000, steps: 24\n",
            "Episode 9: reward: 30.000, steps: 30\n",
            "Episode 10: reward: 38.000, steps: 38\n",
            "Episode 11: reward: 30.000, steps: 30\n",
            "Episode 12: reward: 36.000, steps: 36\n",
            "Episode 13: reward: 42.000, steps: 42\n",
            "Episode 14: reward: 23.000, steps: 23\n",
            "Episode 15: reward: 32.000, steps: 32\n",
            "Episode 16: reward: 26.000, steps: 26\n",
            "Episode 17: reward: 27.000, steps: 27\n",
            "Episode 18: reward: 30.000, steps: 30\n",
            "Episode 19: reward: 44.000, steps: 44\n",
            "Episode 20: reward: 35.000, steps: 35\n"
          ]
        },
        {
          "output_type": "execute_result",
          "data": {
            "text/plain": [
              "<keras.callbacks.History at 0x7fb1725cadd0>"
            ]
          },
          "metadata": {},
          "execution_count": 82
        }
      ]
    }
  ]
}