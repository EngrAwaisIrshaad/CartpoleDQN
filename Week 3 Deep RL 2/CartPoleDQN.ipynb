{
  "nbformat": 4,
  "nbformat_minor": 0,
  "metadata": {
    "colab": {
      "name": "CartPoleDQN.ipynb",
      "provenance": [],
      "collapsed_sections": [],
      "include_colab_link": true
    },
    "kernelspec": {
      "name": "python3",
      "display_name": "Python 3"
    }
  },
  "cells": [
    {
      "cell_type": "markdown",
      "metadata": {
        "id": "view-in-github",
        "colab_type": "text"
      },
      "source": [
        "<a href=\"https://colab.research.google.com/github/Megacity1/CartpoleDQN/blob/main/Week%203%20Deep%20RL%202/CartPoleDQN.ipynb\" target=\"_parent\"><img src=\"https://colab.research.google.com/assets/colab-badge.svg\" alt=\"Open In Colab\"/></a>"
      ]
    },
    {
      "cell_type": "markdown",
      "metadata": {
        "id": "VKK5DA390wRe"
      },
      "source": [
        "# Deep Q Network (DQN) for CartPole Using Boltzmann Q Policy\n",
        "This exercise implements a DQN for CartPole using a Boltzmann Q policy for selecting the actions"
      ]
    },
    {
      "cell_type": "code",
      "metadata": {
        "id": "LGsC7cJ5jNcX",
        "colab": {
          "base_uri": "https://localhost:8080/"
        },
        "outputId": "cda73cbf-3020-40f4-e45e-7b87053448f1"
      },
      "source": [
        "# install keras rl2 (we need to install keras-rl2 so it works with the tensorflow 2 version that comes pre-installed with colab)\n",
        "!pip install keras-rl2"
      ],
      "execution_count": 57,
      "outputs": [
        {
          "output_type": "stream",
          "name": "stdout",
          "text": [
            "Requirement already satisfied: keras-rl2 in /usr/local/lib/python3.7/dist-packages (1.0.5)\n",
            "Requirement already satisfied: tensorflow in /usr/local/lib/python3.7/dist-packages (from keras-rl2) (2.8.0)\n",
            "Requirement already satisfied: keras-preprocessing>=1.1.1 in /usr/local/lib/python3.7/dist-packages (from tensorflow->keras-rl2) (1.1.2)\n",
            "Requirement already satisfied: protobuf>=3.9.2 in /usr/local/lib/python3.7/dist-packages (from tensorflow->keras-rl2) (3.17.3)\n",
            "Requirement already satisfied: tensorflow-io-gcs-filesystem>=0.23.1 in /usr/local/lib/python3.7/dist-packages (from tensorflow->keras-rl2) (0.24.0)\n",
            "Requirement already satisfied: libclang>=9.0.1 in /usr/local/lib/python3.7/dist-packages (from tensorflow->keras-rl2) (13.0.0)\n",
            "Requirement already satisfied: h5py>=2.9.0 in /usr/local/lib/python3.7/dist-packages (from tensorflow->keras-rl2) (3.1.0)\n",
            "Requirement already satisfied: opt-einsum>=2.3.2 in /usr/local/lib/python3.7/dist-packages (from tensorflow->keras-rl2) (3.3.0)\n",
            "Requirement already satisfied: gast>=0.2.1 in /usr/local/lib/python3.7/dist-packages (from tensorflow->keras-rl2) (0.5.3)\n",
            "Requirement already satisfied: grpcio<2.0,>=1.24.3 in /usr/local/lib/python3.7/dist-packages (from tensorflow->keras-rl2) (1.44.0)\n",
            "Requirement already satisfied: tensorboard<2.9,>=2.8 in /usr/local/lib/python3.7/dist-packages (from tensorflow->keras-rl2) (2.8.0)\n",
            "Requirement already satisfied: wrapt>=1.11.0 in /usr/local/lib/python3.7/dist-packages (from tensorflow->keras-rl2) (1.14.0)\n",
            "Requirement already satisfied: absl-py>=0.4.0 in /usr/local/lib/python3.7/dist-packages (from tensorflow->keras-rl2) (1.0.0)\n",
            "Requirement already satisfied: flatbuffers>=1.12 in /usr/local/lib/python3.7/dist-packages (from tensorflow->keras-rl2) (2.0)\n",
            "Requirement already satisfied: termcolor>=1.1.0 in /usr/local/lib/python3.7/dist-packages (from tensorflow->keras-rl2) (1.1.0)\n",
            "Requirement already satisfied: keras<2.9,>=2.8.0rc0 in /usr/local/lib/python3.7/dist-packages (from tensorflow->keras-rl2) (2.8.0)\n",
            "Requirement already satisfied: six>=1.12.0 in /usr/local/lib/python3.7/dist-packages (from tensorflow->keras-rl2) (1.15.0)\n",
            "Requirement already satisfied: tf-estimator-nightly==2.8.0.dev2021122109 in /usr/local/lib/python3.7/dist-packages (from tensorflow->keras-rl2) (2.8.0.dev2021122109)\n",
            "Requirement already satisfied: numpy>=1.20 in /usr/local/lib/python3.7/dist-packages (from tensorflow->keras-rl2) (1.21.5)\n",
            "Requirement already satisfied: astunparse>=1.6.0 in /usr/local/lib/python3.7/dist-packages (from tensorflow->keras-rl2) (1.6.3)\n",
            "Requirement already satisfied: typing-extensions>=3.6.6 in /usr/local/lib/python3.7/dist-packages (from tensorflow->keras-rl2) (3.10.0.2)\n",
            "Requirement already satisfied: setuptools in /usr/local/lib/python3.7/dist-packages (from tensorflow->keras-rl2) (57.4.0)\n",
            "Requirement already satisfied: google-pasta>=0.1.1 in /usr/local/lib/python3.7/dist-packages (from tensorflow->keras-rl2) (0.2.0)\n",
            "Requirement already satisfied: wheel<1.0,>=0.23.0 in /usr/local/lib/python3.7/dist-packages (from astunparse>=1.6.0->tensorflow->keras-rl2) (0.37.1)\n",
            "Requirement already satisfied: cached-property in /usr/local/lib/python3.7/dist-packages (from h5py>=2.9.0->tensorflow->keras-rl2) (1.5.2)\n",
            "Requirement already satisfied: google-auth-oauthlib<0.5,>=0.4.1 in /usr/local/lib/python3.7/dist-packages (from tensorboard<2.9,>=2.8->tensorflow->keras-rl2) (0.4.6)\n",
            "Requirement already satisfied: requests<3,>=2.21.0 in /usr/local/lib/python3.7/dist-packages (from tensorboard<2.9,>=2.8->tensorflow->keras-rl2) (2.23.0)\n",
            "Requirement already satisfied: werkzeug>=0.11.15 in /usr/local/lib/python3.7/dist-packages (from tensorboard<2.9,>=2.8->tensorflow->keras-rl2) (1.0.1)\n",
            "Requirement already satisfied: markdown>=2.6.8 in /usr/local/lib/python3.7/dist-packages (from tensorboard<2.9,>=2.8->tensorflow->keras-rl2) (3.3.6)\n",
            "Requirement already satisfied: google-auth<3,>=1.6.3 in /usr/local/lib/python3.7/dist-packages (from tensorboard<2.9,>=2.8->tensorflow->keras-rl2) (1.35.0)\n",
            "Requirement already satisfied: tensorboard-data-server<0.7.0,>=0.6.0 in /usr/local/lib/python3.7/dist-packages (from tensorboard<2.9,>=2.8->tensorflow->keras-rl2) (0.6.1)\n",
            "Requirement already satisfied: tensorboard-plugin-wit>=1.6.0 in /usr/local/lib/python3.7/dist-packages (from tensorboard<2.9,>=2.8->tensorflow->keras-rl2) (1.8.1)\n",
            "Requirement already satisfied: pyasn1-modules>=0.2.1 in /usr/local/lib/python3.7/dist-packages (from google-auth<3,>=1.6.3->tensorboard<2.9,>=2.8->tensorflow->keras-rl2) (0.2.8)\n",
            "Requirement already satisfied: cachetools<5.0,>=2.0.0 in /usr/local/lib/python3.7/dist-packages (from google-auth<3,>=1.6.3->tensorboard<2.9,>=2.8->tensorflow->keras-rl2) (4.2.4)\n",
            "Requirement already satisfied: rsa<5,>=3.1.4 in /usr/local/lib/python3.7/dist-packages (from google-auth<3,>=1.6.3->tensorboard<2.9,>=2.8->tensorflow->keras-rl2) (4.8)\n",
            "Requirement already satisfied: requests-oauthlib>=0.7.0 in /usr/local/lib/python3.7/dist-packages (from google-auth-oauthlib<0.5,>=0.4.1->tensorboard<2.9,>=2.8->tensorflow->keras-rl2) (1.3.1)\n",
            "Requirement already satisfied: importlib-metadata>=4.4 in /usr/local/lib/python3.7/dist-packages (from markdown>=2.6.8->tensorboard<2.9,>=2.8->tensorflow->keras-rl2) (4.11.3)\n",
            "Requirement already satisfied: zipp>=0.5 in /usr/local/lib/python3.7/dist-packages (from importlib-metadata>=4.4->markdown>=2.6.8->tensorboard<2.9,>=2.8->tensorflow->keras-rl2) (3.7.0)\n",
            "Requirement already satisfied: pyasn1<0.5.0,>=0.4.6 in /usr/local/lib/python3.7/dist-packages (from pyasn1-modules>=0.2.1->google-auth<3,>=1.6.3->tensorboard<2.9,>=2.8->tensorflow->keras-rl2) (0.4.8)\n",
            "Requirement already satisfied: chardet<4,>=3.0.2 in /usr/local/lib/python3.7/dist-packages (from requests<3,>=2.21.0->tensorboard<2.9,>=2.8->tensorflow->keras-rl2) (3.0.4)\n",
            "Requirement already satisfied: urllib3!=1.25.0,!=1.25.1,<1.26,>=1.21.1 in /usr/local/lib/python3.7/dist-packages (from requests<3,>=2.21.0->tensorboard<2.9,>=2.8->tensorflow->keras-rl2) (1.24.3)\n",
            "Requirement already satisfied: idna<3,>=2.5 in /usr/local/lib/python3.7/dist-packages (from requests<3,>=2.21.0->tensorboard<2.9,>=2.8->tensorflow->keras-rl2) (2.10)\n",
            "Requirement already satisfied: certifi>=2017.4.17 in /usr/local/lib/python3.7/dist-packages (from requests<3,>=2.21.0->tensorboard<2.9,>=2.8->tensorflow->keras-rl2) (2021.10.8)\n",
            "Requirement already satisfied: oauthlib>=3.0.0 in /usr/local/lib/python3.7/dist-packages (from requests-oauthlib>=0.7.0->google-auth-oauthlib<0.5,>=0.4.1->tensorboard<2.9,>=2.8->tensorflow->keras-rl2) (3.2.0)\n"
          ]
        }
      ]
    },
    {
      "cell_type": "code",
      "metadata": {
        "id": "XMIHLgQ3Z-lF",
        "colab": {
          "base_uri": "https://localhost:8080/"
        },
        "outputId": "3d5a8608-456f-4127-ce8a-f551e5f4e4f3"
      },
      "source": [
        "!pip install gym"
      ],
      "execution_count": 58,
      "outputs": [
        {
          "output_type": "stream",
          "name": "stdout",
          "text": [
            "Requirement already satisfied: gym in /usr/local/lib/python3.7/dist-packages (0.17.3)\n",
            "Requirement already satisfied: numpy>=1.10.4 in /usr/local/lib/python3.7/dist-packages (from gym) (1.21.5)\n",
            "Requirement already satisfied: scipy in /usr/local/lib/python3.7/dist-packages (from gym) (1.4.1)\n",
            "Requirement already satisfied: pyglet<=1.5.0,>=1.4.0 in /usr/local/lib/python3.7/dist-packages (from gym) (1.5.0)\n",
            "Requirement already satisfied: cloudpickle<1.7.0,>=1.2.0 in /usr/local/lib/python3.7/dist-packages (from gym) (1.3.0)\n",
            "Requirement already satisfied: future in /usr/local/lib/python3.7/dist-packages (from pyglet<=1.5.0,>=1.4.0->gym) (0.16.0)\n"
          ]
        }
      ]
    },
    {
      "cell_type": "code",
      "metadata": {
        "id": "M0AMLzq08ap0",
        "colab": {
          "base_uri": "https://localhost:8080/"
        },
        "outputId": "77b380e1-6c3d-4bce-8233-a8ac01deaf26"
      },
      "source": [
        "# load the gym module\n",
        "import gym\n",
        "import matplotlib.pyplot as plt\n",
        "# import the usual Keras modules for creating deep neural networks\n",
        "from keras import Sequential\n",
        "from keras.layers import Input, Flatten, Dense\n",
        "!pip install Adam\n",
        "#from keras.optimizers import Adam\n",
        "from tensorflow.keras.optimizers import Adam\n",
        "ENV_NAME = 'CartPole-v0'\n",
        "env = gym.make(ENV_NAME)"
      ],
      "execution_count": 62,
      "outputs": [
        {
          "output_type": "stream",
          "name": "stdout",
          "text": [
            "Requirement already satisfied: Adam in /usr/local/lib/python3.7/dist-packages (0.0.0.dev0)\n"
          ]
        }
      ]
    },
    {
      "cell_type": "markdown",
      "metadata": {
        "id": "ll6bNdUm54WS"
      },
      "source": [
        "Implementation of DQN for CartPole, applying policy BoltzmannQPolicy"
      ]
    },
    {
      "cell_type": "markdown",
      "metadata": {
        "id": "RSCrPKNy40PC"
      },
      "source": [
        "##Implement DQN with BoltzmannGumbelQPolicy"
      ]
    },
    {
      "cell_type": "code",
      "metadata": {
        "id": "efM9jkXr5A3c",
        "colab": {
          "base_uri": "https://localhost:8080/",
          "height": 1000
        },
        "outputId": "df26de01-c08d-4f8b-b520-0f821af88946"
      },
      "source": [
        "import rl\n",
        "from rl.memory import SequentialMemory  # import the exerience replay buffer module\n",
        "from rl.policy import BoltzmannGumbelQPolicy\n",
        "from rl.policy import LinearAnnealedPolicy\n",
        "from rl.policy import EpsGreedyQPolicy\n",
        "from rl.agents.dqn import DQNAgent      # import the DQN agent\n",
        "\n",
        "# setup experience replay buffer\n",
        "memory = SequentialMemory(limit=10000, window_length=1)\n",
        "\n",
        "policy = LinearAnnealedPolicy(EpsGreedyQPolicy(), \n",
        "                               attr='eps',            \n",
        "                               value_max=5.,\n",
        "                               value_min=.5, \n",
        "                               value_test=.05,\n",
        "                               nb_steps=200)\n",
        "# Q-Network\n",
        "model = Sequential()\n",
        "model.add(Input(shape=(1,env.observation_space.shape[0])))  # The input is 1 observation vector, and the number of observations in that vector \n",
        "model.add(Flatten())\n",
        "model.add(Dense(16, activation='relu'))\n",
        "# add extra layers here\n",
        "model.add(Dense(env.action_space.n, activation='linear'))   # the output is the number of actions in the action space\n",
        "\n",
        "print(model.summary())\n",
        "\n",
        "# define the agent\n",
        "dqn = DQNAgent(model=model, \n",
        "               nb_actions=env.action_space.n,\n",
        "               memory=memory,\n",
        "               nb_steps_warmup=25,\n",
        "               target_model_update=1e-2, \n",
        "               policy=policy) \n",
        "\n",
        "dqn.compile(Adam(lr=1e-3), metrics=['mae'])\n",
        "\n",
        "history = dqn.fit(env, nb_steps=8000, visualize=False, verbose=2)\n",
        "\n",
        "# summarize the history for number  of episode steps\n",
        "plt.plot(history.history['nb_episode_steps'])\n",
        "plt.ylabel('nb_episode_steps')\n",
        "plt.xlabel('episodes')\n",
        "plt.show()\n",
        "\n",
        "dqn.test(env, nb_episodes=20, visualize=False)"
      ],
      "execution_count": 97,
      "outputs": [
        {
          "output_type": "stream",
          "name": "stdout",
          "text": [
            "Model: \"sequential_48\"\n",
            "_________________________________________________________________\n",
            " Layer (type)                Output Shape              Param #   \n",
            "=================================================================\n",
            " flatten_46 (Flatten)        (None, 4)                 0         \n",
            "                                                                 \n",
            " dense_93 (Dense)            (None, 16)                80        \n",
            "                                                                 \n",
            " dense_94 (Dense)            (None, 2)                 34        \n",
            "                                                                 \n",
            "=================================================================\n",
            "Total params: 114\n",
            "Trainable params: 114\n",
            "Non-trainable params: 0\n",
            "_________________________________________________________________\n",
            "None\n"
          ]
        },
        {
          "output_type": "stream",
          "name": "stderr",
          "text": [
            "/usr/local/lib/python3.7/dist-packages/keras/optimizer_v2/adam.py:105: UserWarning: The `lr` argument is deprecated, use `learning_rate` instead.\n",
            "  super(Adam, self).__init__(name, **kwargs)\n"
          ]
        },
        {
          "output_type": "stream",
          "name": "stdout",
          "text": [
            "Training for 8000 steps ...\n"
          ]
        },
        {
          "output_type": "stream",
          "name": "stderr",
          "text": [
            "/usr/local/lib/python3.7/dist-packages/keras/engine/training_v1.py:2079: UserWarning: `Model.state_updates` will be removed in a future version. This property should not be used in TensorFlow 2.0, as `updates` are applied automatically.\n",
            "  updates=self.state_updates,\n"
          ]
        },
        {
          "output_type": "stream",
          "name": "stdout",
          "text": [
            "   14/8000: episode: 1, duration: 2.751s, episode steps:  14, steps per second:   5, episode reward: 14.000, mean reward:  1.000 [ 1.000,  1.000], mean action: 0.643 [0.000, 1.000],  loss: --, mae: --, mean_q: --, mean_eps: --\n"
          ]
        },
        {
          "output_type": "stream",
          "name": "stderr",
          "text": [
            "/usr/local/lib/python3.7/dist-packages/rl/memory.py:37: UserWarning: Not enough entries to sample without replacement. Consider increasing your warm-up phase to avoid oversampling!\n",
            "  warnings.warn('Not enough entries to sample without replacement. Consider increasing your warm-up phase to avoid oversampling!')\n",
            "/usr/local/lib/python3.7/dist-packages/keras/engine/training_v1.py:2079: UserWarning: `Model.state_updates` will be removed in a future version. This property should not be used in TensorFlow 2.0, as `updates` are applied automatically.\n",
            "  updates=self.state_updates,\n"
          ]
        },
        {
          "output_type": "stream",
          "name": "stdout",
          "text": [
            "   71/8000: episode: 2, duration: 10.940s, episode steps:  57, steps per second:   5, episode reward: 57.000, mean reward:  1.000 [ 1.000,  1.000], mean action: 0.509 [0.000, 1.000],  loss: 0.461205, mae: 0.560181, mean_q: 0.235865, mean_eps: 3.920000\n",
            "   83/8000: episode: 3, duration: 0.380s, episode steps:  12, steps per second:  32, episode reward: 12.000, mean reward:  1.000 [ 1.000,  1.000], mean action: 0.750 [0.000, 1.000],  loss: 0.361101, mae: 0.583431, mean_q: 0.437215, mean_eps: 3.278750\n",
            "   92/8000: episode: 4, duration: 0.299s, episode steps:   9, steps per second:  30, episode reward:  9.000, mean reward:  1.000 [ 1.000,  1.000], mean action: 0.000 [0.000, 0.000],  loss: 0.327096, mae: 0.604245, mean_q: 0.515365, mean_eps: 3.042500\n",
            "  118/8000: episode: 5, duration: 0.716s, episode steps:  26, steps per second:  36, episode reward: 26.000, mean reward:  1.000 [ 1.000,  1.000], mean action: 0.538 [0.000, 1.000],  loss: 0.289777, mae: 0.634907, mean_q: 0.603117, mean_eps: 2.648750\n",
            "  131/8000: episode: 6, duration: 0.270s, episode steps:  13, steps per second:  48, episode reward: 13.000, mean reward:  1.000 [ 1.000,  1.000], mean action: 0.385 [0.000, 1.000],  loss: 0.249970, mae: 0.662403, mean_q: 0.706320, mean_eps: 2.210000\n",
            "  159/8000: episode: 7, duration: 0.524s, episode steps:  28, steps per second:  53, episode reward: 28.000, mean reward:  1.000 [ 1.000,  1.000], mean action: 0.464 [0.000, 1.000],  loss: 0.217404, mae: 0.703501, mean_q: 0.825177, mean_eps: 1.748750\n",
            "  173/8000: episode: 8, duration: 0.362s, episode steps:  14, steps per second:  39, episode reward: 14.000, mean reward:  1.000 [ 1.000,  1.000], mean action: 0.643 [0.000, 1.000],  loss: 0.194012, mae: 0.742927, mean_q: 0.943071, mean_eps: 1.276250\n",
            "  191/8000: episode: 9, duration: 0.496s, episode steps:  18, steps per second:  36, episode reward: 18.000, mean reward:  1.000 [ 1.000,  1.000], mean action: 0.389 [0.000, 1.000],  loss: 0.174565, mae: 0.795060, mean_q: 1.075848, mean_eps: 0.916250\n",
            "  205/8000: episode: 10, duration: 0.376s, episode steps:  14, steps per second:  37, episode reward: 14.000, mean reward:  1.000 [ 1.000,  1.000], mean action: 0.500 [0.000, 1.000],  loss: 0.171119, mae: 0.851336, mean_q: 1.196911, mean_eps: 0.572321\n",
            "  217/8000: episode: 11, duration: 0.212s, episode steps:  12, steps per second:  57, episode reward: 12.000, mean reward:  1.000 [ 1.000,  1.000], mean action: 0.750 [0.000, 1.000],  loss: 0.151821, mae: 0.862138, mean_q: 1.254667, mean_eps: 0.500000\n",
            "  231/8000: episode: 12, duration: 0.221s, episode steps:  14, steps per second:  63, episode reward: 14.000, mean reward:  1.000 [ 1.000,  1.000], mean action: 0.429 [0.000, 1.000],  loss: 0.149607, mae: 0.916047, mean_q: 1.383109, mean_eps: 0.500000\n",
            "  246/8000: episode: 13, duration: 0.238s, episode steps:  15, steps per second:  63, episode reward: 15.000, mean reward:  1.000 [ 1.000,  1.000], mean action: 0.600 [0.000, 1.000],  loss: 0.155339, mae: 0.956537, mean_q: 1.477015, mean_eps: 0.500000\n",
            "  260/8000: episode: 14, duration: 0.236s, episode steps:  14, steps per second:  59, episode reward: 14.000, mean reward:  1.000 [ 1.000,  1.000], mean action: 0.286 [0.000, 1.000],  loss: 0.158415, mae: 1.014618, mean_q: 1.603091, mean_eps: 0.500000\n",
            "  272/8000: episode: 15, duration: 0.198s, episode steps:  12, steps per second:  61, episode reward: 12.000, mean reward:  1.000 [ 1.000,  1.000], mean action: 0.250 [0.000, 1.000],  loss: 0.159189, mae: 1.069735, mean_q: 1.737053, mean_eps: 0.500000\n",
            "  284/8000: episode: 16, duration: 0.187s, episode steps:  12, steps per second:  64, episode reward: 12.000, mean reward:  1.000 [ 1.000,  1.000], mean action: 0.417 [0.000, 1.000],  loss: 0.178150, mae: 1.100552, mean_q: 1.811848, mean_eps: 0.500000\n",
            "  304/8000: episode: 17, duration: 0.319s, episode steps:  20, steps per second:  63, episode reward: 20.000, mean reward:  1.000 [ 1.000,  1.000], mean action: 0.750 [0.000, 1.000],  loss: 0.172679, mae: 1.163496, mean_q: 1.925831, mean_eps: 0.500000\n",
            "  315/8000: episode: 18, duration: 0.181s, episode steps:  11, steps per second:  61, episode reward: 11.000, mean reward:  1.000 [ 1.000,  1.000], mean action: 0.182 [0.000, 1.000],  loss: 0.224837, mae: 1.217450, mean_q: 2.029720, mean_eps: 0.500000\n",
            "  327/8000: episode: 19, duration: 0.211s, episode steps:  12, steps per second:  57, episode reward: 12.000, mean reward:  1.000 [ 1.000,  1.000], mean action: 0.917 [0.000, 1.000],  loss: 0.188684, mae: 1.251128, mean_q: 2.133705, mean_eps: 0.500000\n",
            "  339/8000: episode: 20, duration: 0.196s, episode steps:  12, steps per second:  61, episode reward: 12.000, mean reward:  1.000 [ 1.000,  1.000], mean action: 0.333 [0.000, 1.000],  loss: 0.218063, mae: 1.313477, mean_q: 2.257527, mean_eps: 0.500000\n",
            "  348/8000: episode: 21, duration: 0.182s, episode steps:   9, steps per second:  49, episode reward:  9.000, mean reward:  1.000 [ 1.000,  1.000], mean action: 0.000 [0.000, 0.000],  loss: 0.226442, mae: 1.354102, mean_q: 2.338739, mean_eps: 0.500000\n",
            "  359/8000: episode: 22, duration: 0.170s, episode steps:  11, steps per second:  65, episode reward: 11.000, mean reward:  1.000 [ 1.000,  1.000], mean action: 0.273 [0.000, 1.000],  loss: 0.244051, mae: 1.411219, mean_q: 2.453446, mean_eps: 0.500000\n",
            "  369/8000: episode: 23, duration: 0.168s, episode steps:  10, steps per second:  60, episode reward: 10.000, mean reward:  1.000 [ 1.000,  1.000], mean action: 0.200 [0.000, 1.000],  loss: 0.397649, mae: 1.499897, mean_q: 2.526285, mean_eps: 0.500000\n",
            "  379/8000: episode: 24, duration: 0.152s, episode steps:  10, steps per second:  66, episode reward: 10.000, mean reward:  1.000 [ 1.000,  1.000], mean action: 0.900 [0.000, 1.000],  loss: 0.335275, mae: 1.509362, mean_q: 2.579707, mean_eps: 0.500000\n",
            "  391/8000: episode: 25, duration: 0.217s, episode steps:  12, steps per second:  55, episode reward: 12.000, mean reward:  1.000 [ 1.000,  1.000], mean action: 0.083 [0.000, 1.000],  loss: 0.291679, mae: 1.512247, mean_q: 2.593013, mean_eps: 0.500000\n",
            "  400/8000: episode: 26, duration: 0.147s, episode steps:   9, steps per second:  61, episode reward:  9.000, mean reward:  1.000 [ 1.000,  1.000], mean action: 0.111 [0.000, 1.000],  loss: 0.395705, mae: 1.620714, mean_q: 2.751176, mean_eps: 0.500000\n",
            "  412/8000: episode: 27, duration: 0.214s, episode steps:  12, steps per second:  56, episode reward: 12.000, mean reward:  1.000 [ 1.000,  1.000], mean action: 0.083 [0.000, 1.000],  loss: 0.336023, mae: 1.641903, mean_q: 2.859409, mean_eps: 0.500000\n",
            "  421/8000: episode: 28, duration: 0.153s, episode steps:   9, steps per second:  59, episode reward:  9.000, mean reward:  1.000 [ 1.000,  1.000], mean action: 0.111 [0.000, 1.000],  loss: 0.270522, mae: 1.645261, mean_q: 2.928287, mean_eps: 0.500000\n",
            "  431/8000: episode: 29, duration: 0.159s, episode steps:  10, steps per second:  63, episode reward: 10.000, mean reward:  1.000 [ 1.000,  1.000], mean action: 0.300 [0.000, 1.000],  loss: 0.407193, mae: 1.727584, mean_q: 3.027085, mean_eps: 0.500000\n",
            "  439/8000: episode: 30, duration: 0.127s, episode steps:   8, steps per second:  63, episode reward:  8.000, mean reward:  1.000 [ 1.000,  1.000], mean action: 1.000 [1.000, 1.000],  loss: 0.494588, mae: 1.770428, mean_q: 3.099464, mean_eps: 0.500000\n",
            "  458/8000: episode: 31, duration: 0.342s, episode steps:  19, steps per second:  56, episode reward: 19.000, mean reward:  1.000 [ 1.000,  1.000], mean action: 0.632 [0.000, 1.000],  loss: 0.493136, mae: 1.799882, mean_q: 3.153733, mean_eps: 0.500000\n",
            "  468/8000: episode: 32, duration: 0.162s, episode steps:  10, steps per second:  62, episode reward: 10.000, mean reward:  1.000 [ 1.000,  1.000], mean action: 0.100 [0.000, 1.000],  loss: 0.372378, mae: 1.811933, mean_q: 3.186419, mean_eps: 0.500000\n",
            "  486/8000: episode: 33, duration: 0.302s, episode steps:  18, steps per second:  60, episode reward: 18.000, mean reward:  1.000 [ 1.000,  1.000], mean action: 0.389 [0.000, 1.000],  loss: 0.439487, mae: 1.874575, mean_q: 3.340620, mean_eps: 0.500000\n",
            "  497/8000: episode: 34, duration: 0.184s, episode steps:  11, steps per second:  60, episode reward: 11.000, mean reward:  1.000 [ 1.000,  1.000], mean action: 0.182 [0.000, 1.000],  loss: 0.548364, mae: 1.969043, mean_q: 3.500837, mean_eps: 0.500000\n",
            "  510/8000: episode: 35, duration: 0.227s, episode steps:  13, steps per second:  57, episode reward: 13.000, mean reward:  1.000 [ 1.000,  1.000], mean action: 0.846 [0.000, 1.000],  loss: 0.444032, mae: 1.990058, mean_q: 3.538214, mean_eps: 0.500000\n",
            "  524/8000: episode: 36, duration: 0.244s, episode steps:  14, steps per second:  57, episode reward: 14.000, mean reward:  1.000 [ 1.000,  1.000], mean action: 0.643 [0.000, 1.000],  loss: 0.396780, mae: 1.983319, mean_q: 3.566076, mean_eps: 0.500000\n",
            "  533/8000: episode: 37, duration: 0.156s, episode steps:   9, steps per second:  58, episode reward:  9.000, mean reward:  1.000 [ 1.000,  1.000], mean action: 0.222 [0.000, 1.000],  loss: 0.476532, mae: 2.087468, mean_q: 3.742150, mean_eps: 0.500000\n",
            "  549/8000: episode: 38, duration: 0.261s, episode steps:  16, steps per second:  61, episode reward: 16.000, mean reward:  1.000 [ 1.000,  1.000], mean action: 0.688 [0.000, 1.000],  loss: 0.473652, mae: 2.121727, mean_q: 3.865894, mean_eps: 0.500000\n",
            "  560/8000: episode: 39, duration: 0.176s, episode steps:  11, steps per second:  62, episode reward: 11.000, mean reward:  1.000 [ 1.000,  1.000], mean action: 0.091 [0.000, 1.000],  loss: 0.452580, mae: 2.158997, mean_q: 3.954098, mean_eps: 0.500000\n",
            "  571/8000: episode: 40, duration: 0.211s, episode steps:  11, steps per second:  52, episode reward: 11.000, mean reward:  1.000 [ 1.000,  1.000], mean action: 0.727 [0.000, 1.000],  loss: 0.569970, mae: 2.233444, mean_q: 4.041322, mean_eps: 0.500000\n",
            "  583/8000: episode: 41, duration: 0.203s, episode steps:  12, steps per second:  59, episode reward: 12.000, mean reward:  1.000 [ 1.000,  1.000], mean action: 0.167 [0.000, 1.000],  loss: 0.484522, mae: 2.237404, mean_q: 4.104009, mean_eps: 0.500000\n",
            "  597/8000: episode: 42, duration: 0.219s, episode steps:  14, steps per second:  64, episode reward: 14.000, mean reward:  1.000 [ 1.000,  1.000], mean action: 0.786 [0.000, 1.000],  loss: 0.802639, mae: 2.359171, mean_q: 4.257805, mean_eps: 0.500000\n",
            "  613/8000: episode: 43, duration: 0.243s, episode steps:  16, steps per second:  66, episode reward: 16.000, mean reward:  1.000 [ 1.000,  1.000], mean action: 0.750 [0.000, 1.000],  loss: 0.614705, mae: 2.369370, mean_q: 4.279141, mean_eps: 0.500000\n",
            "  625/8000: episode: 44, duration: 0.194s, episode steps:  12, steps per second:  62, episode reward: 12.000, mean reward:  1.000 [ 1.000,  1.000], mean action: 0.750 [0.000, 1.000],  loss: 0.493305, mae: 2.385470, mean_q: 4.396099, mean_eps: 0.500000\n",
            "  637/8000: episode: 45, duration: 0.212s, episode steps:  12, steps per second:  57, episode reward: 12.000, mean reward:  1.000 [ 1.000,  1.000], mean action: 0.833 [0.000, 1.000],  loss: 0.847846, mae: 2.499017, mean_q: 4.520627, mean_eps: 0.500000\n",
            "  649/8000: episode: 46, duration: 0.192s, episode steps:  12, steps per second:  62, episode reward: 12.000, mean reward:  1.000 [ 1.000,  1.000], mean action: 0.167 [0.000, 1.000],  loss: 0.665930, mae: 2.522671, mean_q: 4.550008, mean_eps: 0.500000\n",
            "  659/8000: episode: 47, duration: 0.167s, episode steps:  10, steps per second:  60, episode reward: 10.000, mean reward:  1.000 [ 1.000,  1.000], mean action: 0.100 [0.000, 1.000],  loss: 0.691719, mae: 2.557916, mean_q: 4.574785, mean_eps: 0.500000\n",
            "  677/8000: episode: 48, duration: 0.299s, episode steps:  18, steps per second:  60, episode reward: 18.000, mean reward:  1.000 [ 1.000,  1.000], mean action: 0.444 [0.000, 1.000],  loss: 0.778979, mae: 2.602255, mean_q: 4.640380, mean_eps: 0.500000\n",
            "  692/8000: episode: 49, duration: 0.303s, episode steps:  15, steps per second:  49, episode reward: 15.000, mean reward:  1.000 [ 1.000,  1.000], mean action: 0.667 [0.000, 1.000],  loss: 0.635572, mae: 2.637268, mean_q: 4.740254, mean_eps: 0.500000\n",
            "  705/8000: episode: 50, duration: 0.227s, episode steps:  13, steps per second:  57, episode reward: 13.000, mean reward:  1.000 [ 1.000,  1.000], mean action: 0.385 [0.000, 1.000],  loss: 0.660574, mae: 2.687178, mean_q: 4.856025, mean_eps: 0.500000\n",
            "  718/8000: episode: 51, duration: 0.217s, episode steps:  13, steps per second:  60, episode reward: 13.000, mean reward:  1.000 [ 1.000,  1.000], mean action: 0.231 [0.000, 1.000],  loss: 0.917238, mae: 2.790065, mean_q: 4.941607, mean_eps: 0.500000\n",
            "  729/8000: episode: 52, duration: 0.181s, episode steps:  11, steps per second:  61, episode reward: 11.000, mean reward:  1.000 [ 1.000,  1.000], mean action: 0.182 [0.000, 1.000],  loss: 0.747509, mae: 2.789854, mean_q: 4.955080, mean_eps: 0.500000\n",
            "  740/8000: episode: 53, duration: 0.213s, episode steps:  11, steps per second:  52, episode reward: 11.000, mean reward:  1.000 [ 1.000,  1.000], mean action: 0.636 [0.000, 1.000],  loss: 0.558000, mae: 2.776686, mean_q: 5.004916, mean_eps: 0.500000\n",
            "  750/8000: episode: 54, duration: 0.193s, episode steps:  10, steps per second:  52, episode reward: 10.000, mean reward:  1.000 [ 1.000,  1.000], mean action: 0.100 [0.000, 1.000],  loss: 0.614396, mae: 2.816091, mean_q: 5.124948, mean_eps: 0.500000\n",
            "  761/8000: episode: 55, duration: 0.214s, episode steps:  11, steps per second:  51, episode reward: 11.000, mean reward:  1.000 [ 1.000,  1.000], mean action: 0.273 [0.000, 1.000],  loss: 0.940982, mae: 2.934547, mean_q: 5.193946, mean_eps: 0.500000\n",
            "  773/8000: episode: 56, duration: 0.184s, episode steps:  12, steps per second:  65, episode reward: 12.000, mean reward:  1.000 [ 1.000,  1.000], mean action: 0.583 [0.000, 1.000],  loss: 0.937120, mae: 2.971857, mean_q: 5.231576, mean_eps: 0.500000\n",
            "  785/8000: episode: 57, duration: 0.191s, episode steps:  12, steps per second:  63, episode reward: 12.000, mean reward:  1.000 [ 1.000,  1.000], mean action: 0.250 [0.000, 1.000],  loss: 0.705253, mae: 2.930825, mean_q: 5.265472, mean_eps: 0.500000\n",
            "  796/8000: episode: 58, duration: 0.173s, episode steps:  11, steps per second:  64, episode reward: 11.000, mean reward:  1.000 [ 1.000,  1.000], mean action: 0.091 [0.000, 1.000],  loss: 0.666679, mae: 2.948243, mean_q: 5.357590, mean_eps: 0.500000\n",
            "  806/8000: episode: 59, duration: 0.200s, episode steps:  10, steps per second:  50, episode reward: 10.000, mean reward:  1.000 [ 1.000,  1.000], mean action: 0.300 [0.000, 1.000],  loss: 0.627361, mae: 2.984993, mean_q: 5.437832, mean_eps: 0.500000\n",
            "  820/8000: episode: 60, duration: 0.237s, episode steps:  14, steps per second:  59, episode reward: 14.000, mean reward:  1.000 [ 1.000,  1.000], mean action: 0.714 [0.000, 1.000],  loss: 0.718824, mae: 3.038160, mean_q: 5.522551, mean_eps: 0.500000\n",
            "  829/8000: episode: 61, duration: 0.145s, episode steps:   9, steps per second:  62, episode reward:  9.000, mean reward:  1.000 [ 1.000,  1.000], mean action: 0.222 [0.000, 1.000],  loss: 0.711577, mae: 3.080505, mean_q: 5.601127, mean_eps: 0.500000\n",
            "  840/8000: episode: 62, duration: 0.177s, episode steps:  11, steps per second:  62, episode reward: 11.000, mean reward:  1.000 [ 1.000,  1.000], mean action: 0.364 [0.000, 1.000],  loss: 0.887510, mae: 3.126902, mean_q: 5.611633, mean_eps: 0.500000\n",
            "  850/8000: episode: 63, duration: 0.158s, episode steps:  10, steps per second:  63, episode reward: 10.000, mean reward:  1.000 [ 1.000,  1.000], mean action: 0.100 [0.000, 1.000],  loss: 0.998394, mae: 3.182229, mean_q: 5.647114, mean_eps: 0.500000\n",
            "  860/8000: episode: 64, duration: 0.182s, episode steps:  10, steps per second:  55, episode reward: 10.000, mean reward:  1.000 [ 1.000,  1.000], mean action: 0.200 [0.000, 1.000],  loss: 0.766882, mae: 3.152085, mean_q: 5.660049, mean_eps: 0.500000\n",
            "  877/8000: episode: 65, duration: 0.428s, episode steps:  17, steps per second:  40, episode reward: 17.000, mean reward:  1.000 [ 1.000,  1.000], mean action: 0.529 [0.000, 1.000],  loss: 0.815370, mae: 3.194735, mean_q: 5.771546, mean_eps: 0.500000\n",
            "  894/8000: episode: 66, duration: 0.488s, episode steps:  17, steps per second:  35, episode reward: 17.000, mean reward:  1.000 [ 1.000,  1.000], mean action: 0.353 [0.000, 1.000],  loss: 0.942549, mae: 3.260644, mean_q: 5.873710, mean_eps: 0.500000\n",
            "  906/8000: episode: 67, duration: 0.316s, episode steps:  12, steps per second:  38, episode reward: 12.000, mean reward:  1.000 [ 1.000,  1.000], mean action: 0.250 [0.000, 1.000],  loss: 1.006395, mae: 3.302356, mean_q: 5.890884, mean_eps: 0.500000\n",
            "  916/8000: episode: 68, duration: 0.196s, episode steps:  10, steps per second:  51, episode reward: 10.000, mean reward:  1.000 [ 1.000,  1.000], mean action: 0.200 [0.000, 1.000],  loss: 0.830518, mae: 3.294065, mean_q: 5.893972, mean_eps: 0.500000\n",
            "  930/8000: episode: 69, duration: 0.314s, episode steps:  14, steps per second:  45, episode reward: 14.000, mean reward:  1.000 [ 1.000,  1.000], mean action: 0.357 [0.000, 1.000],  loss: 0.797648, mae: 3.330689, mean_q: 5.980574, mean_eps: 0.500000\n",
            "  947/8000: episode: 70, duration: 0.340s, episode steps:  17, steps per second:  50, episode reward: 17.000, mean reward:  1.000 [ 1.000,  1.000], mean action: 0.412 [0.000, 1.000],  loss: 1.115062, mae: 3.422089, mean_q: 6.091557, mean_eps: 0.500000\n",
            "  961/8000: episode: 71, duration: 0.278s, episode steps:  14, steps per second:  50, episode reward: 14.000, mean reward:  1.000 [ 1.000,  1.000], mean action: 0.357 [0.000, 1.000],  loss: 0.870367, mae: 3.400165, mean_q: 6.072394, mean_eps: 0.500000\n",
            "  973/8000: episode: 72, duration: 0.221s, episode steps:  12, steps per second:  54, episode reward: 12.000, mean reward:  1.000 [ 1.000,  1.000], mean action: 0.250 [0.000, 1.000],  loss: 0.932972, mae: 3.443921, mean_q: 6.180240, mean_eps: 0.500000\n",
            " 1011/8000: episode: 73, duration: 0.743s, episode steps:  38, steps per second:  51, episode reward: 38.000, mean reward:  1.000 [ 1.000,  1.000], mean action: 0.421 [0.000, 1.000],  loss: 0.864715, mae: 3.490611, mean_q: 6.333545, mean_eps: 0.500000\n",
            " 1025/8000: episode: 74, duration: 0.360s, episode steps:  14, steps per second:  39, episode reward: 14.000, mean reward:  1.000 [ 1.000,  1.000], mean action: 0.286 [0.000, 1.000],  loss: 0.900311, mae: 3.557988, mean_q: 6.484155, mean_eps: 0.500000\n",
            " 1037/8000: episode: 75, duration: 0.333s, episode steps:  12, steps per second:  36, episode reward: 12.000, mean reward:  1.000 [ 1.000,  1.000], mean action: 0.417 [0.000, 1.000],  loss: 0.870855, mae: 3.550270, mean_q: 6.505212, mean_eps: 0.500000\n",
            " 1049/8000: episode: 76, duration: 0.324s, episode steps:  12, steps per second:  37, episode reward: 12.000, mean reward:  1.000 [ 1.000,  1.000], mean action: 0.250 [0.000, 1.000],  loss: 1.027827, mae: 3.622772, mean_q: 6.574797, mean_eps: 0.500000\n",
            " 1065/8000: episode: 77, duration: 0.376s, episode steps:  16, steps per second:  43, episode reward: 16.000, mean reward:  1.000 [ 1.000,  1.000], mean action: 0.375 [0.000, 1.000],  loss: 0.989749, mae: 3.646916, mean_q: 6.570341, mean_eps: 0.500000\n",
            " 1094/8000: episode: 78, duration: 0.663s, episode steps:  29, steps per second:  44, episode reward: 29.000, mean reward:  1.000 [ 1.000,  1.000], mean action: 0.448 [0.000, 1.000],  loss: 0.867618, mae: 3.691686, mean_q: 6.739324, mean_eps: 0.500000\n",
            " 1110/8000: episode: 79, duration: 0.272s, episode steps:  16, steps per second:  59, episode reward: 16.000, mean reward:  1.000 [ 1.000,  1.000], mean action: 0.438 [0.000, 1.000],  loss: 0.864982, mae: 3.748125, mean_q: 6.901511, mean_eps: 0.500000\n",
            " 1134/8000: episode: 80, duration: 0.374s, episode steps:  24, steps per second:  64, episode reward: 24.000, mean reward:  1.000 [ 1.000,  1.000], mean action: 0.458 [0.000, 1.000],  loss: 1.140706, mae: 3.831224, mean_q: 6.958870, mean_eps: 0.500000\n",
            " 1145/8000: episode: 81, duration: 0.212s, episode steps:  11, steps per second:  52, episode reward: 11.000, mean reward:  1.000 [ 1.000,  1.000], mean action: 0.364 [0.000, 1.000],  loss: 1.097543, mae: 3.853973, mean_q: 6.954351, mean_eps: 0.500000\n",
            " 1159/8000: episode: 82, duration: 0.230s, episode steps:  14, steps per second:  61, episode reward: 14.000, mean reward:  1.000 [ 1.000,  1.000], mean action: 0.429 [0.000, 1.000],  loss: 0.929819, mae: 3.827989, mean_q: 6.926465, mean_eps: 0.500000\n",
            " 1172/8000: episode: 83, duration: 0.224s, episode steps:  13, steps per second:  58, episode reward: 13.000, mean reward:  1.000 [ 1.000,  1.000], mean action: 0.462 [0.000, 1.000],  loss: 0.800165, mae: 3.854856, mean_q: 7.133108, mean_eps: 0.500000\n",
            " 1185/8000: episode: 84, duration: 0.223s, episode steps:  13, steps per second:  58, episode reward: 13.000, mean reward:  1.000 [ 1.000,  1.000], mean action: 0.385 [0.000, 1.000],  loss: 1.308611, mae: 3.970713, mean_q: 7.256458, mean_eps: 0.500000\n",
            " 1206/8000: episode: 85, duration: 0.411s, episode steps:  21, steps per second:  51, episode reward: 21.000, mean reward:  1.000 [ 1.000,  1.000], mean action: 0.429 [0.000, 1.000],  loss: 1.163945, mae: 3.983757, mean_q: 7.229009, mean_eps: 0.500000\n",
            " 1224/8000: episode: 86, duration: 0.353s, episode steps:  18, steps per second:  51, episode reward: 18.000, mean reward:  1.000 [ 1.000,  1.000], mean action: 0.667 [0.000, 1.000],  loss: 1.038129, mae: 4.011890, mean_q: 7.292150, mean_eps: 0.500000\n",
            " 1235/8000: episode: 87, duration: 0.236s, episode steps:  11, steps per second:  47, episode reward: 11.000, mean reward:  1.000 [ 1.000,  1.000], mean action: 0.364 [0.000, 1.000],  loss: 0.883245, mae: 3.995703, mean_q: 7.347870, mean_eps: 0.500000\n",
            " 1249/8000: episode: 88, duration: 0.278s, episode steps:  14, steps per second:  50, episode reward: 14.000, mean reward:  1.000 [ 1.000,  1.000], mean action: 0.357 [0.000, 1.000],  loss: 1.075804, mae: 4.039884, mean_q: 7.447258, mean_eps: 0.500000\n",
            " 1267/8000: episode: 89, duration: 0.308s, episode steps:  18, steps per second:  59, episode reward: 18.000, mean reward:  1.000 [ 1.000,  1.000], mean action: 0.500 [0.000, 1.000],  loss: 1.195795, mae: 4.102289, mean_q: 7.480164, mean_eps: 0.500000\n",
            " 1287/8000: episode: 90, duration: 0.381s, episode steps:  20, steps per second:  52, episode reward: 20.000, mean reward:  1.000 [ 1.000,  1.000], mean action: 0.500 [0.000, 1.000],  loss: 0.953515, mae: 4.132252, mean_q: 7.630668, mean_eps: 0.500000\n",
            " 1305/8000: episode: 91, duration: 0.354s, episode steps:  18, steps per second:  51, episode reward: 18.000, mean reward:  1.000 [ 1.000,  1.000], mean action: 0.444 [0.000, 1.000],  loss: 0.867017, mae: 4.172136, mean_q: 7.747730, mean_eps: 0.500000\n",
            " 1324/8000: episode: 92, duration: 0.363s, episode steps:  19, steps per second:  52, episode reward: 19.000, mean reward:  1.000 [ 1.000,  1.000], mean action: 0.421 [0.000, 1.000],  loss: 0.913386, mae: 4.218837, mean_q: 7.879364, mean_eps: 0.500000\n",
            " 1344/8000: episode: 93, duration: 0.376s, episode steps:  20, steps per second:  53, episode reward: 20.000, mean reward:  1.000 [ 1.000,  1.000], mean action: 0.500 [0.000, 1.000],  loss: 1.639683, mae: 4.348153, mean_q: 7.883661, mean_eps: 0.500000\n",
            " 1361/8000: episode: 94, duration: 0.338s, episode steps:  17, steps per second:  50, episode reward: 17.000, mean reward:  1.000 [ 1.000,  1.000], mean action: 0.471 [0.000, 1.000],  loss: 1.401699, mae: 4.315988, mean_q: 7.724239, mean_eps: 0.500000\n",
            " 1376/8000: episode: 95, duration: 0.404s, episode steps:  15, steps per second:  37, episode reward: 15.000, mean reward:  1.000 [ 1.000,  1.000], mean action: 0.467 [0.000, 1.000],  loss: 1.023819, mae: 4.289380, mean_q: 7.869128, mean_eps: 0.500000\n",
            " 1403/8000: episode: 96, duration: 0.797s, episode steps:  27, steps per second:  34, episode reward: 27.000, mean reward:  1.000 [ 1.000,  1.000], mean action: 0.556 [0.000, 1.000],  loss: 1.304877, mae: 4.395522, mean_q: 8.082602, mean_eps: 0.500000\n",
            " 1421/8000: episode: 97, duration: 0.524s, episode steps:  18, steps per second:  34, episode reward: 18.000, mean reward:  1.000 [ 1.000,  1.000], mean action: 0.556 [0.000, 1.000],  loss: 1.403207, mae: 4.421539, mean_q: 8.077627, mean_eps: 0.500000\n",
            " 1441/8000: episode: 98, duration: 0.495s, episode steps:  20, steps per second:  40, episode reward: 20.000, mean reward:  1.000 [ 1.000,  1.000], mean action: 0.450 [0.000, 1.000],  loss: 0.909759, mae: 4.412391, mean_q: 8.170854, mean_eps: 0.500000\n",
            " 1469/8000: episode: 99, duration: 0.510s, episode steps:  28, steps per second:  55, episode reward: 28.000, mean reward:  1.000 [ 1.000,  1.000], mean action: 0.536 [0.000, 1.000],  loss: 1.497664, mae: 4.591447, mean_q: 8.379869, mean_eps: 0.500000\n",
            " 1505/8000: episode: 100, duration: 0.783s, episode steps:  36, steps per second:  46, episode reward: 36.000, mean reward:  1.000 [ 1.000,  1.000], mean action: 0.528 [0.000, 1.000],  loss: 1.123396, mae: 4.591083, mean_q: 8.458692, mean_eps: 0.500000\n",
            " 1557/8000: episode: 101, duration: 0.999s, episode steps:  52, steps per second:  52, episode reward: 52.000, mean reward:  1.000 [ 1.000,  1.000], mean action: 0.519 [0.000, 1.000],  loss: 1.141858, mae: 4.707746, mean_q: 8.806185, mean_eps: 0.500000\n",
            " 1582/8000: episode: 102, duration: 0.468s, episode steps:  25, steps per second:  53, episode reward: 25.000, mean reward:  1.000 [ 1.000,  1.000], mean action: 0.520 [0.000, 1.000],  loss: 1.563297, mae: 4.867901, mean_q: 8.998723, mean_eps: 0.500000\n",
            " 1604/8000: episode: 103, duration: 0.449s, episode steps:  22, steps per second:  49, episode reward: 22.000, mean reward:  1.000 [ 1.000,  1.000], mean action: 0.545 [0.000, 1.000],  loss: 1.740892, mae: 4.934073, mean_q: 9.068815, mean_eps: 0.500000\n",
            " 1633/8000: episode: 104, duration: 0.567s, episode steps:  29, steps per second:  51, episode reward: 29.000, mean reward:  1.000 [ 1.000,  1.000], mean action: 0.517 [0.000, 1.000],  loss: 1.206576, mae: 4.887852, mean_q: 9.084438, mean_eps: 0.500000\n",
            " 1668/8000: episode: 105, duration: 0.620s, episode steps:  35, steps per second:  56, episode reward: 35.000, mean reward:  1.000 [ 1.000,  1.000], mean action: 0.514 [0.000, 1.000],  loss: 1.411022, mae: 5.004499, mean_q: 9.334095, mean_eps: 0.500000\n",
            " 1688/8000: episode: 106, duration: 0.359s, episode steps:  20, steps per second:  56, episode reward: 20.000, mean reward:  1.000 [ 1.000,  1.000], mean action: 0.500 [0.000, 1.000],  loss: 1.455975, mae: 5.076335, mean_q: 9.521167, mean_eps: 0.500000\n",
            " 1706/8000: episode: 107, duration: 0.330s, episode steps:  18, steps per second:  55, episode reward: 18.000, mean reward:  1.000 [ 1.000,  1.000], mean action: 0.500 [0.000, 1.000],  loss: 1.872392, mae: 5.167432, mean_q: 9.554415, mean_eps: 0.500000\n",
            " 1729/8000: episode: 108, duration: 0.423s, episode steps:  23, steps per second:  54, episode reward: 23.000, mean reward:  1.000 [ 1.000,  1.000], mean action: 0.522 [0.000, 1.000],  loss: 1.443379, mae: 5.133966, mean_q: 9.607386, mean_eps: 0.500000\n",
            " 1794/8000: episode: 109, duration: 1.145s, episode steps:  65, steps per second:  57, episode reward: 65.000, mean reward:  1.000 [ 1.000,  1.000], mean action: 0.538 [0.000, 1.000],  loss: 1.705318, mae: 5.292466, mean_q: 9.865251, mean_eps: 0.500000\n",
            " 1820/8000: episode: 110, duration: 0.523s, episode steps:  26, steps per second:  50, episode reward: 26.000, mean reward:  1.000 [ 1.000,  1.000], mean action: 0.500 [0.000, 1.000],  loss: 1.795758, mae: 5.421698, mean_q: 10.064808, mean_eps: 0.500000\n",
            " 1855/8000: episode: 111, duration: 0.636s, episode steps:  35, steps per second:  55, episode reward: 35.000, mean reward:  1.000 [ 1.000,  1.000], mean action: 0.543 [0.000, 1.000],  loss: 1.882592, mae: 5.510179, mean_q: 10.265921, mean_eps: 0.500000\n",
            " 1877/8000: episode: 112, duration: 0.407s, episode steps:  22, steps per second:  54, episode reward: 22.000, mean reward:  1.000 [ 1.000,  1.000], mean action: 0.500 [0.000, 1.000],  loss: 1.756097, mae: 5.581849, mean_q: 10.427710, mean_eps: 0.500000\n",
            " 1904/8000: episode: 113, duration: 0.429s, episode steps:  27, steps per second:  63, episode reward: 27.000, mean reward:  1.000 [ 1.000,  1.000], mean action: 0.481 [0.000, 1.000],  loss: 1.799195, mae: 5.576963, mean_q: 10.422834, mean_eps: 0.500000\n",
            " 1926/8000: episode: 114, duration: 0.364s, episode steps:  22, steps per second:  60, episode reward: 22.000, mean reward:  1.000 [ 1.000,  1.000], mean action: 0.591 [0.000, 1.000],  loss: 1.788768, mae: 5.628629, mean_q: 10.434085, mean_eps: 0.500000\n",
            " 1954/8000: episode: 115, duration: 0.809s, episode steps:  28, steps per second:  35, episode reward: 28.000, mean reward:  1.000 [ 1.000,  1.000], mean action: 0.500 [0.000, 1.000],  loss: 1.898136, mae: 5.703167, mean_q: 10.655198, mean_eps: 0.500000\n",
            " 1992/8000: episode: 116, duration: 1.003s, episode steps:  38, steps per second:  38, episode reward: 38.000, mean reward:  1.000 [ 1.000,  1.000], mean action: 0.526 [0.000, 1.000],  loss: 1.821422, mae: 5.755110, mean_q: 10.794655, mean_eps: 0.500000\n",
            " 2015/8000: episode: 117, duration: 0.653s, episode steps:  23, steps per second:  35, episode reward: 23.000, mean reward:  1.000 [ 1.000,  1.000], mean action: 0.522 [0.000, 1.000],  loss: 2.215292, mae: 5.884245, mean_q: 11.025644, mean_eps: 0.500000\n",
            " 2059/8000: episode: 118, duration: 1.095s, episode steps:  44, steps per second:  40, episode reward: 44.000, mean reward:  1.000 [ 1.000,  1.000], mean action: 0.523 [0.000, 1.000],  loss: 1.989981, mae: 5.892510, mean_q: 11.058264, mean_eps: 0.500000\n",
            " 2122/8000: episode: 119, duration: 1.435s, episode steps:  63, steps per second:  44, episode reward: 63.000, mean reward:  1.000 [ 1.000,  1.000], mean action: 0.508 [0.000, 1.000],  loss: 2.041326, mae: 6.014348, mean_q: 11.264845, mean_eps: 0.500000\n",
            " 2166/8000: episode: 120, duration: 0.982s, episode steps:  44, steps per second:  45, episode reward: 44.000, mean reward:  1.000 [ 1.000,  1.000], mean action: 0.477 [0.000, 1.000],  loss: 1.937833, mae: 6.129677, mean_q: 11.523683, mean_eps: 0.500000\n",
            " 2198/8000: episode: 121, duration: 0.537s, episode steps:  32, steps per second:  60, episode reward: 32.000, mean reward:  1.000 [ 1.000,  1.000], mean action: 0.531 [0.000, 1.000],  loss: 2.559067, mae: 6.262904, mean_q: 11.686212, mean_eps: 0.500000\n",
            " 2218/8000: episode: 122, duration: 0.316s, episode steps:  20, steps per second:  63, episode reward: 20.000, mean reward:  1.000 [ 1.000,  1.000], mean action: 0.600 [0.000, 1.000],  loss: 2.227764, mae: 6.213149, mean_q: 11.604959, mean_eps: 0.500000\n",
            " 2243/8000: episode: 123, duration: 0.381s, episode steps:  25, steps per second:  66, episode reward: 25.000, mean reward:  1.000 [ 1.000,  1.000], mean action: 0.480 [0.000, 1.000],  loss: 1.857873, mae: 6.257679, mean_q: 11.834525, mean_eps: 0.500000\n",
            " 2274/8000: episode: 124, duration: 0.497s, episode steps:  31, steps per second:  62, episode reward: 31.000, mean reward:  1.000 [ 1.000,  1.000], mean action: 0.548 [0.000, 1.000],  loss: 2.365140, mae: 6.379615, mean_q: 11.909439, mean_eps: 0.500000\n",
            " 2292/8000: episode: 125, duration: 0.312s, episode steps:  18, steps per second:  58, episode reward: 18.000, mean reward:  1.000 [ 1.000,  1.000], mean action: 0.556 [0.000, 1.000],  loss: 2.564212, mae: 6.424503, mean_q: 11.970866, mean_eps: 0.500000\n",
            " 2308/8000: episode: 126, duration: 0.330s, episode steps:  16, steps per second:  49, episode reward: 16.000, mean reward:  1.000 [ 1.000,  1.000], mean action: 0.562 [0.000, 1.000],  loss: 2.194080, mae: 6.364116, mean_q: 11.929704, mean_eps: 0.500000\n",
            " 2327/8000: episode: 127, duration: 0.440s, episode steps:  19, steps per second:  43, episode reward: 19.000, mean reward:  1.000 [ 1.000,  1.000], mean action: 0.421 [0.000, 1.000],  loss: 2.119271, mae: 6.463436, mean_q: 12.153844, mean_eps: 0.500000\n",
            " 2369/8000: episode: 128, duration: 0.982s, episode steps:  42, steps per second:  43, episode reward: 42.000, mean reward:  1.000 [ 1.000,  1.000], mean action: 0.524 [0.000, 1.000],  loss: 2.423690, mae: 6.470693, mean_q: 12.075421, mean_eps: 0.500000\n",
            " 2405/8000: episode: 129, duration: 0.852s, episode steps:  36, steps per second:  42, episode reward: 36.000, mean reward:  1.000 [ 1.000,  1.000], mean action: 0.500 [0.000, 1.000],  loss: 1.965058, mae: 6.539084, mean_q: 12.346787, mean_eps: 0.500000\n",
            " 2428/8000: episode: 130, duration: 0.521s, episode steps:  23, steps per second:  44, episode reward: 23.000, mean reward:  1.000 [ 1.000,  1.000], mean action: 0.522 [0.000, 1.000],  loss: 1.859794, mae: 6.574834, mean_q: 12.459747, mean_eps: 0.500000\n",
            " 2466/8000: episode: 131, duration: 0.671s, episode steps:  38, steps per second:  57, episode reward: 38.000, mean reward:  1.000 [ 1.000,  1.000], mean action: 0.500 [0.000, 1.000],  loss: 2.157471, mae: 6.680381, mean_q: 12.635321, mean_eps: 0.500000\n",
            " 2500/8000: episode: 132, duration: 0.541s, episode steps:  34, steps per second:  63, episode reward: 34.000, mean reward:  1.000 [ 1.000,  1.000], mean action: 0.500 [0.000, 1.000],  loss: 1.975675, mae: 6.785900, mean_q: 12.887392, mean_eps: 0.500000\n",
            " 2534/8000: episode: 133, duration: 0.562s, episode steps:  34, steps per second:  60, episode reward: 34.000, mean reward:  1.000 [ 1.000,  1.000], mean action: 0.500 [0.000, 1.000],  loss: 2.481775, mae: 6.844375, mean_q: 12.903158, mean_eps: 0.500000\n",
            " 2562/8000: episode: 134, duration: 0.423s, episode steps:  28, steps per second:  66, episode reward: 28.000, mean reward:  1.000 [ 1.000,  1.000], mean action: 0.500 [0.000, 1.000],  loss: 2.642782, mae: 6.846900, mean_q: 12.873070, mean_eps: 0.500000\n",
            " 2598/8000: episode: 135, duration: 0.583s, episode steps:  36, steps per second:  62, episode reward: 36.000, mean reward:  1.000 [ 1.000,  1.000], mean action: 0.500 [0.000, 1.000],  loss: 2.550422, mae: 6.989489, mean_q: 13.196028, mean_eps: 0.500000\n",
            " 2614/8000: episode: 136, duration: 0.244s, episode steps:  16, steps per second:  65, episode reward: 16.000, mean reward:  1.000 [ 1.000,  1.000], mean action: 0.562 [0.000, 1.000],  loss: 2.585584, mae: 7.052497, mean_q: 13.274654, mean_eps: 0.500000\n",
            " 2654/8000: episode: 137, duration: 0.620s, episode steps:  40, steps per second:  64, episode reward: 40.000, mean reward:  1.000 [ 1.000,  1.000], mean action: 0.475 [0.000, 1.000],  loss: 2.351169, mae: 7.073295, mean_q: 13.404905, mean_eps: 0.500000\n",
            " 2704/8000: episode: 138, duration: 0.950s, episode steps:  50, steps per second:  53, episode reward: 50.000, mean reward:  1.000 [ 1.000,  1.000], mean action: 0.540 [0.000, 1.000],  loss: 2.931188, mae: 7.147985, mean_q: 13.407868, mean_eps: 0.500000\n",
            " 2771/8000: episode: 139, duration: 1.271s, episode steps:  67, steps per second:  53, episode reward: 67.000, mean reward:  1.000 [ 1.000,  1.000], mean action: 0.522 [0.000, 1.000],  loss: 2.134463, mae: 7.229847, mean_q: 13.752170, mean_eps: 0.500000\n",
            " 2800/8000: episode: 140, duration: 0.468s, episode steps:  29, steps per second:  62, episode reward: 29.000, mean reward:  1.000 [ 1.000,  1.000], mean action: 0.483 [0.000, 1.000],  loss: 2.782816, mae: 7.386462, mean_q: 14.010651, mean_eps: 0.500000\n",
            " 2832/8000: episode: 141, duration: 0.526s, episode steps:  32, steps per second:  61, episode reward: 32.000, mean reward:  1.000 [ 1.000,  1.000], mean action: 0.469 [0.000, 1.000],  loss: 2.510696, mae: 7.481447, mean_q: 14.274962, mean_eps: 0.500000\n",
            " 2874/8000: episode: 142, duration: 0.630s, episode steps:  42, steps per second:  67, episode reward: 42.000, mean reward:  1.000 [ 1.000,  1.000], mean action: 0.500 [0.000, 1.000],  loss: 2.555734, mae: 7.463420, mean_q: 14.233769, mean_eps: 0.500000\n",
            " 2916/8000: episode: 143, duration: 0.627s, episode steps:  42, steps per second:  67, episode reward: 42.000, mean reward:  1.000 [ 1.000,  1.000], mean action: 0.500 [0.000, 1.000],  loss: 3.360760, mae: 7.585833, mean_q: 14.304493, mean_eps: 0.500000\n",
            " 2967/8000: episode: 144, duration: 0.772s, episode steps:  51, steps per second:  66, episode reward: 51.000, mean reward:  1.000 [ 1.000,  1.000], mean action: 0.529 [0.000, 1.000],  loss: 2.927084, mae: 7.650993, mean_q: 14.484877, mean_eps: 0.500000\n",
            " 2992/8000: episode: 145, duration: 0.428s, episode steps:  25, steps per second:  58, episode reward: 25.000, mean reward:  1.000 [ 1.000,  1.000], mean action: 0.480 [0.000, 1.000],  loss: 3.171719, mae: 7.772242, mean_q: 14.717141, mean_eps: 0.500000\n",
            " 3034/8000: episode: 146, duration: 1.120s, episode steps:  42, steps per second:  37, episode reward: 42.000, mean reward:  1.000 [ 1.000,  1.000], mean action: 0.476 [0.000, 1.000],  loss: 2.898112, mae: 7.838331, mean_q: 14.942044, mean_eps: 0.500000\n",
            " 3073/8000: episode: 147, duration: 0.995s, episode steps:  39, steps per second:  39, episode reward: 39.000, mean reward:  1.000 [ 1.000,  1.000], mean action: 0.513 [0.000, 1.000],  loss: 2.823326, mae: 7.846058, mean_q: 14.915781, mean_eps: 0.500000\n",
            " 3104/8000: episode: 148, duration: 0.752s, episode steps:  31, steps per second:  41, episode reward: 31.000, mean reward:  1.000 [ 1.000,  1.000], mean action: 0.484 [0.000, 1.000],  loss: 2.843954, mae: 7.965219, mean_q: 15.177784, mean_eps: 0.500000\n",
            " 3180/8000: episode: 149, duration: 1.320s, episode steps:  76, steps per second:  58, episode reward: 76.000, mean reward:  1.000 [ 1.000,  1.000], mean action: 0.487 [0.000, 1.000],  loss: 2.877878, mae: 8.090414, mean_q: 15.472623, mean_eps: 0.500000\n",
            " 3232/8000: episode: 150, duration: 0.830s, episode steps:  52, steps per second:  63, episode reward: 52.000, mean reward:  1.000 [ 1.000,  1.000], mean action: 0.481 [0.000, 1.000],  loss: 3.444686, mae: 8.211071, mean_q: 15.599007, mean_eps: 0.500000\n",
            " 3272/8000: episode: 151, duration: 0.605s, episode steps:  40, steps per second:  66, episode reward: 40.000, mean reward:  1.000 [ 1.000,  1.000], mean action: 0.500 [0.000, 1.000],  loss: 2.900950, mae: 8.245852, mean_q: 15.788821, mean_eps: 0.500000\n",
            " 3397/8000: episode: 152, duration: 2.651s, episode steps: 125, steps per second:  47, episode reward: 125.000, mean reward:  1.000 [ 1.000,  1.000], mean action: 0.488 [0.000, 1.000],  loss: 3.605239, mae: 8.417219, mean_q: 15.983993, mean_eps: 0.500000\n",
            " 3440/8000: episode: 153, duration: 1.030s, episode steps:  43, steps per second:  42, episode reward: 43.000, mean reward:  1.000 [ 1.000,  1.000], mean action: 0.512 [0.000, 1.000],  loss: 3.146401, mae: 8.539429, mean_q: 16.284944, mean_eps: 0.500000\n",
            " 3464/8000: episode: 154, duration: 0.660s, episode steps:  24, steps per second:  36, episode reward: 24.000, mean reward:  1.000 [ 1.000,  1.000], mean action: 0.542 [0.000, 1.000],  loss: 2.933516, mae: 8.635134, mean_q: 16.508353, mean_eps: 0.500000\n",
            " 3516/8000: episode: 155, duration: 0.952s, episode steps:  52, steps per second:  55, episode reward: 52.000, mean reward:  1.000 [ 1.000,  1.000], mean action: 0.538 [0.000, 1.000],  loss: 2.743816, mae: 8.661683, mean_q: 16.602402, mean_eps: 0.500000\n",
            " 3615/8000: episode: 156, duration: 1.944s, episode steps:  99, steps per second:  51, episode reward: 99.000, mean reward:  1.000 [ 1.000,  1.000], mean action: 0.485 [0.000, 1.000],  loss: 2.582161, mae: 8.801486, mean_q: 16.976695, mean_eps: 0.500000\n",
            " 3626/8000: episode: 157, duration: 0.178s, episode steps:  11, steps per second:  62, episode reward: 11.000, mean reward:  1.000 [ 1.000,  1.000], mean action: 0.636 [0.000, 1.000],  loss: 3.164425, mae: 8.946908, mean_q: 17.251347, mean_eps: 0.500000\n",
            " 3666/8000: episode: 158, duration: 0.643s, episode steps:  40, steps per second:  62, episode reward: 40.000, mean reward:  1.000 [ 1.000,  1.000], mean action: 0.500 [0.000, 1.000],  loss: 3.743455, mae: 9.022301, mean_q: 17.242797, mean_eps: 0.500000\n",
            " 3729/8000: episode: 159, duration: 1.017s, episode steps:  63, steps per second:  62, episode reward: 63.000, mean reward:  1.000 [ 1.000,  1.000], mean action: 0.476 [0.000, 1.000],  loss: 3.633148, mae: 9.069696, mean_q: 17.400945, mean_eps: 0.500000\n",
            " 3778/8000: episode: 160, duration: 0.794s, episode steps:  49, steps per second:  62, episode reward: 49.000, mean reward:  1.000 [ 1.000,  1.000], mean action: 0.490 [0.000, 1.000],  loss: 3.357334, mae: 9.270802, mean_q: 17.825828, mean_eps: 0.500000\n",
            " 3798/8000: episode: 161, duration: 0.340s, episode steps:  20, steps per second:  59, episode reward: 20.000, mean reward:  1.000 [ 1.000,  1.000], mean action: 0.450 [0.000, 1.000],  loss: 3.568702, mae: 9.255292, mean_q: 17.801601, mean_eps: 0.500000\n",
            " 3820/8000: episode: 162, duration: 0.352s, episode steps:  22, steps per second:  63, episode reward: 22.000, mean reward:  1.000 [ 1.000,  1.000], mean action: 0.500 [0.000, 1.000],  loss: 2.885370, mae: 9.320594, mean_q: 18.012300, mean_eps: 0.500000\n",
            " 3850/8000: episode: 163, duration: 0.481s, episode steps:  30, steps per second:  62, episode reward: 30.000, mean reward:  1.000 [ 1.000,  1.000], mean action: 0.533 [0.000, 1.000],  loss: 2.656035, mae: 9.365770, mean_q: 18.091348, mean_eps: 0.500000\n",
            " 3919/8000: episode: 164, duration: 1.124s, episode steps:  69, steps per second:  61, episode reward: 69.000, mean reward:  1.000 [ 1.000,  1.000], mean action: 0.493 [0.000, 1.000],  loss: 3.718391, mae: 9.414684, mean_q: 18.037975, mean_eps: 0.500000\n",
            " 3979/8000: episode: 165, duration: 1.063s, episode steps:  60, steps per second:  56, episode reward: 60.000, mean reward:  1.000 [ 1.000,  1.000], mean action: 0.483 [0.000, 1.000],  loss: 3.439195, mae: 9.578591, mean_q: 18.443980, mean_eps: 0.500000\n",
            " 4022/8000: episode: 166, duration: 0.900s, episode steps:  43, steps per second:  48, episode reward: 43.000, mean reward:  1.000 [ 1.000,  1.000], mean action: 0.488 [0.000, 1.000],  loss: 3.290615, mae: 9.667739, mean_q: 18.634406, mean_eps: 0.500000\n",
            " 4108/8000: episode: 167, duration: 1.755s, episode steps:  86, steps per second:  49, episode reward: 86.000, mean reward:  1.000 [ 1.000,  1.000], mean action: 0.477 [0.000, 1.000],  loss: 3.648408, mae: 9.800380, mean_q: 18.907492, mean_eps: 0.500000\n",
            " 4159/8000: episode: 168, duration: 1.177s, episode steps:  51, steps per second:  43, episode reward: 51.000, mean reward:  1.000 [ 1.000,  1.000], mean action: 0.490 [0.000, 1.000],  loss: 4.009798, mae: 9.882725, mean_q: 19.023264, mean_eps: 0.500000\n",
            " 4177/8000: episode: 169, duration: 0.298s, episode steps:  18, steps per second:  60, episode reward: 18.000, mean reward:  1.000 [ 1.000,  1.000], mean action: 0.500 [0.000, 1.000],  loss: 3.785680, mae: 9.930394, mean_q: 19.157574, mean_eps: 0.500000\n",
            " 4199/8000: episode: 170, duration: 0.363s, episode steps:  22, steps per second:  61, episode reward: 22.000, mean reward:  1.000 [ 1.000,  1.000], mean action: 0.591 [0.000, 1.000],  loss: 3.475943, mae: 9.992366, mean_q: 19.312670, mean_eps: 0.500000\n",
            " 4231/8000: episode: 171, duration: 0.554s, episode steps:  32, steps per second:  58, episode reward: 32.000, mean reward:  1.000 [ 1.000,  1.000], mean action: 0.469 [0.000, 1.000],  loss: 4.453962, mae: 10.099374, mean_q: 19.448669, mean_eps: 0.500000\n",
            " 4274/8000: episode: 172, duration: 0.693s, episode steps:  43, steps per second:  62, episode reward: 43.000, mean reward:  1.000 [ 1.000,  1.000], mean action: 0.488 [0.000, 1.000],  loss: 3.707330, mae: 10.108036, mean_q: 19.511259, mean_eps: 0.500000\n",
            " 4311/8000: episode: 173, duration: 0.976s, episode steps:  37, steps per second:  38, episode reward: 37.000, mean reward:  1.000 [ 1.000,  1.000], mean action: 0.486 [0.000, 1.000],  loss: 4.563927, mae: 10.184839, mean_q: 19.582112, mean_eps: 0.500000\n",
            " 4345/8000: episode: 174, duration: 0.822s, episode steps:  34, steps per second:  41, episode reward: 34.000, mean reward:  1.000 [ 1.000,  1.000], mean action: 0.471 [0.000, 1.000],  loss: 3.860948, mae: 10.142890, mean_q: 19.560657, mean_eps: 0.500000\n",
            " 4377/8000: episode: 175, duration: 0.799s, episode steps:  32, steps per second:  40, episode reward: 32.000, mean reward:  1.000 [ 1.000,  1.000], mean action: 0.469 [0.000, 1.000],  loss: 4.172110, mae: 10.386957, mean_q: 20.088897, mean_eps: 0.500000\n",
            " 4396/8000: episode: 176, duration: 0.446s, episode steps:  19, steps per second:  43, episode reward: 19.000, mean reward:  1.000 [ 1.000,  1.000], mean action: 0.579 [0.000, 1.000],  loss: 3.035549, mae: 10.321156, mean_q: 20.101106, mean_eps: 0.500000\n",
            " 4469/8000: episode: 177, duration: 1.301s, episode steps:  73, steps per second:  56, episode reward: 73.000, mean reward:  1.000 [ 1.000,  1.000], mean action: 0.534 [0.000, 1.000],  loss: 4.533177, mae: 10.422500, mean_q: 20.056222, mean_eps: 0.500000\n",
            " 4553/8000: episode: 178, duration: 1.752s, episode steps:  84, steps per second:  48, episode reward: 84.000, mean reward:  1.000 [ 1.000,  1.000], mean action: 0.476 [0.000, 1.000],  loss: 3.677952, mae: 10.541444, mean_q: 20.474465, mean_eps: 0.500000\n",
            " 4594/8000: episode: 179, duration: 0.856s, episode steps:  41, steps per second:  48, episode reward: 41.000, mean reward:  1.000 [ 1.000,  1.000], mean action: 0.463 [0.000, 1.000],  loss: 5.911695, mae: 10.775286, mean_q: 20.655984, mean_eps: 0.500000\n",
            " 4661/8000: episode: 180, duration: 1.448s, episode steps:  67, steps per second:  46, episode reward: 67.000, mean reward:  1.000 [ 1.000,  1.000], mean action: 0.463 [0.000, 1.000],  loss: 4.377758, mae: 10.752237, mean_q: 20.784478, mean_eps: 0.500000\n",
            " 4754/8000: episode: 181, duration: 1.666s, episode steps:  93, steps per second:  56, episode reward: 93.000, mean reward:  1.000 [ 1.000,  1.000], mean action: 0.495 [0.000, 1.000],  loss: 4.296966, mae: 10.902851, mean_q: 21.096128, mean_eps: 0.500000\n",
            " 4834/8000: episode: 182, duration: 2.195s, episode steps:  80, steps per second:  36, episode reward: 80.000, mean reward:  1.000 [ 1.000,  1.000], mean action: 0.537 [0.000, 1.000],  loss: 4.468756, mae: 11.062293, mean_q: 21.375544, mean_eps: 0.500000\n",
            " 4883/8000: episode: 183, duration: 1.341s, episode steps:  49, steps per second:  37, episode reward: 49.000, mean reward:  1.000 [ 1.000,  1.000], mean action: 0.490 [0.000, 1.000],  loss: 4.851040, mae: 11.078230, mean_q: 21.336211, mean_eps: 0.500000\n",
            " 4907/8000: episode: 184, duration: 0.687s, episode steps:  24, steps per second:  35, episode reward: 24.000, mean reward:  1.000 [ 1.000,  1.000], mean action: 0.458 [0.000, 1.000],  loss: 4.855122, mae: 11.080877, mean_q: 21.345433, mean_eps: 0.500000\n",
            " 5057/8000: episode: 185, duration: 3.287s, episode steps: 150, steps per second:  46, episode reward: 150.000, mean reward:  1.000 [ 1.000,  1.000], mean action: 0.513 [0.000, 1.000],  loss: 4.123143, mae: 11.280730, mean_q: 21.879082, mean_eps: 0.500000\n",
            " 5109/8000: episode: 186, duration: 0.871s, episode steps:  52, steps per second:  60, episode reward: 52.000, mean reward:  1.000 [ 1.000,  1.000], mean action: 0.462 [0.000, 1.000],  loss: 3.860025, mae: 11.526148, mean_q: 22.442360, mean_eps: 0.500000\n",
            " 5168/8000: episode: 187, duration: 0.902s, episode steps:  59, steps per second:  65, episode reward: 59.000, mean reward:  1.000 [ 1.000,  1.000], mean action: 0.559 [0.000, 1.000],  loss: 4.700175, mae: 11.553332, mean_q: 22.339986, mean_eps: 0.500000\n",
            " 5237/8000: episode: 188, duration: 1.155s, episode steps:  69, steps per second:  60, episode reward: 69.000, mean reward:  1.000 [ 1.000,  1.000], mean action: 0.507 [0.000, 1.000],  loss: 4.200796, mae: 11.710534, mean_q: 22.771518, mean_eps: 0.500000\n",
            " 5258/8000: episode: 189, duration: 0.329s, episode steps:  21, steps per second:  64, episode reward: 21.000, mean reward:  1.000 [ 1.000,  1.000], mean action: 0.381 [0.000, 1.000],  loss: 4.540206, mae: 11.788533, mean_q: 22.922960, mean_eps: 0.500000\n",
            " 5326/8000: episode: 190, duration: 1.316s, episode steps:  68, steps per second:  52, episode reward: 68.000, mean reward:  1.000 [ 1.000,  1.000], mean action: 0.544 [0.000, 1.000],  loss: 5.375845, mae: 11.752641, mean_q: 22.743618, mean_eps: 0.500000\n",
            " 5387/8000: episode: 191, duration: 1.057s, episode steps:  61, steps per second:  58, episode reward: 61.000, mean reward:  1.000 [ 1.000,  1.000], mean action: 0.475 [0.000, 1.000],  loss: 5.470864, mae: 11.953719, mean_q: 23.127929, mean_eps: 0.500000\n",
            " 5472/8000: episode: 192, duration: 1.436s, episode steps:  85, steps per second:  59, episode reward: 85.000, mean reward:  1.000 [ 1.000,  1.000], mean action: 0.471 [0.000, 1.000],  loss: 4.983809, mae: 12.031066, mean_q: 23.353494, mean_eps: 0.500000\n",
            " 5531/8000: episode: 193, duration: 1.063s, episode steps:  59, steps per second:  56, episode reward: 59.000, mean reward:  1.000 [ 1.000,  1.000], mean action: 0.492 [0.000, 1.000],  loss: 5.094847, mae: 12.057929, mean_q: 23.384970, mean_eps: 0.500000\n",
            " 5595/8000: episode: 194, duration: 1.159s, episode steps:  64, steps per second:  55, episode reward: 64.000, mean reward:  1.000 [ 1.000,  1.000], mean action: 0.484 [0.000, 1.000],  loss: 5.216660, mae: 12.196815, mean_q: 23.629621, mean_eps: 0.500000\n",
            " 5682/8000: episode: 195, duration: 1.586s, episode steps:  87, steps per second:  55, episode reward: 87.000, mean reward:  1.000 [ 1.000,  1.000], mean action: 0.552 [0.000, 1.000],  loss: 5.312971, mae: 12.257192, mean_q: 23.763390, mean_eps: 0.500000\n",
            " 5715/8000: episode: 196, duration: 0.567s, episode steps:  33, steps per second:  58, episode reward: 33.000, mean reward:  1.000 [ 1.000,  1.000], mean action: 0.455 [0.000, 1.000],  loss: 5.998732, mae: 12.367105, mean_q: 23.914718, mean_eps: 0.500000\n",
            " 5737/8000: episode: 197, duration: 0.414s, episode steps:  22, steps per second:  53, episode reward: 22.000, mean reward:  1.000 [ 1.000,  1.000], mean action: 0.500 [0.000, 1.000],  loss: 4.881535, mae: 12.382953, mean_q: 24.119547, mean_eps: 0.500000\n",
            " 5804/8000: episode: 198, duration: 1.233s, episode steps:  67, steps per second:  54, episode reward: 67.000, mean reward:  1.000 [ 1.000,  1.000], mean action: 0.478 [0.000, 1.000],  loss: 5.298170, mae: 12.467213, mean_q: 24.213039, mean_eps: 0.500000\n",
            " 5923/8000: episode: 199, duration: 2.181s, episode steps: 119, steps per second:  55, episode reward: 119.000, mean reward:  1.000 [ 1.000,  1.000], mean action: 0.487 [0.000, 1.000],  loss: 5.099801, mae: 12.545635, mean_q: 24.399172, mean_eps: 0.500000\n",
            " 6009/8000: episode: 200, duration: 1.481s, episode steps:  86, steps per second:  58, episode reward: 86.000, mean reward:  1.000 [ 1.000,  1.000], mean action: 0.477 [0.000, 1.000],  loss: 4.434106, mae: 12.707400, mean_q: 24.784412, mean_eps: 0.500000\n",
            " 6115/8000: episode: 201, duration: 1.970s, episode steps: 106, steps per second:  54, episode reward: 106.000, mean reward:  1.000 [ 1.000,  1.000], mean action: 0.500 [0.000, 1.000],  loss: 4.685949, mae: 12.839780, mean_q: 25.088235, mean_eps: 0.500000\n",
            " 6161/8000: episode: 202, duration: 0.880s, episode steps:  46, steps per second:  52, episode reward: 46.000, mean reward:  1.000 [ 1.000,  1.000], mean action: 0.500 [0.000, 1.000],  loss: 6.211545, mae: 13.067796, mean_q: 25.356269, mean_eps: 0.500000\n",
            " 6303/8000: episode: 203, duration: 3.220s, episode steps: 142, steps per second:  44, episode reward: 142.000, mean reward:  1.000 [ 1.000,  1.000], mean action: 0.521 [0.000, 1.000],  loss: 4.461032, mae: 13.135213, mean_q: 25.691972, mean_eps: 0.500000\n",
            " 6378/8000: episode: 204, duration: 1.418s, episode steps:  75, steps per second:  53, episode reward: 75.000, mean reward:  1.000 [ 1.000,  1.000], mean action: 0.480 [0.000, 1.000],  loss: 5.834136, mae: 13.353434, mean_q: 26.077096, mean_eps: 0.500000\n",
            " 6473/8000: episode: 205, duration: 1.968s, episode steps:  95, steps per second:  48, episode reward: 95.000, mean reward:  1.000 [ 1.000,  1.000], mean action: 0.516 [0.000, 1.000],  loss: 4.243758, mae: 13.493950, mean_q: 26.552997, mean_eps: 0.500000\n",
            " 6503/8000: episode: 206, duration: 0.749s, episode steps:  30, steps per second:  40, episode reward: 30.000, mean reward:  1.000 [ 1.000,  1.000], mean action: 0.500 [0.000, 1.000],  loss: 6.264159, mae: 13.700891, mean_q: 26.794668, mean_eps: 0.500000\n",
            " 6546/8000: episode: 207, duration: 1.163s, episode steps:  43, steps per second:  37, episode reward: 43.000, mean reward:  1.000 [ 1.000,  1.000], mean action: 0.488 [0.000, 1.000],  loss: 5.164788, mae: 13.666961, mean_q: 26.793316, mean_eps: 0.500000\n",
            " 6746/8000: episode: 208, duration: 3.963s, episode steps: 200, steps per second:  50, episode reward: 200.000, mean reward:  1.000 [ 1.000,  1.000], mean action: 0.490 [0.000, 1.000],  loss: 5.005911, mae: 13.887393, mean_q: 27.276258, mean_eps: 0.500000\n",
            " 6919/8000: episode: 209, duration: 4.154s, episode steps: 173, steps per second:  42, episode reward: 173.000, mean reward:  1.000 [ 1.000,  1.000], mean action: 0.480 [0.000, 1.000],  loss: 5.492770, mae: 14.197156, mean_q: 27.860359, mean_eps: 0.500000\n",
            " 7013/8000: episode: 210, duration: 1.834s, episode steps:  94, steps per second:  51, episode reward: 94.000, mean reward:  1.000 [ 1.000,  1.000], mean action: 0.479 [0.000, 1.000],  loss: 5.408937, mae: 14.445958, mean_q: 28.380178, mean_eps: 0.500000\n",
            " 7056/8000: episode: 211, duration: 0.743s, episode steps:  43, steps per second:  58, episode reward: 43.000, mean reward:  1.000 [ 1.000,  1.000], mean action: 0.512 [0.000, 1.000],  loss: 4.758886, mae: 14.401746, mean_q: 28.384230, mean_eps: 0.500000\n",
            " 7088/8000: episode: 212, duration: 0.618s, episode steps:  32, steps per second:  52, episode reward: 32.000, mean reward:  1.000 [ 1.000,  1.000], mean action: 0.531 [0.000, 1.000],  loss: 4.713669, mae: 14.466461, mean_q: 28.629237, mean_eps: 0.500000\n",
            " 7210/8000: episode: 213, duration: 1.848s, episode steps: 122, steps per second:  66, episode reward: 122.000, mean reward:  1.000 [ 1.000,  1.000], mean action: 0.484 [0.000, 1.000],  loss: 5.845465, mae: 14.588993, mean_q: 28.726400, mean_eps: 0.500000\n",
            " 7303/8000: episode: 214, duration: 1.348s, episode steps:  93, steps per second:  69, episode reward: 93.000, mean reward:  1.000 [ 1.000,  1.000], mean action: 0.495 [0.000, 1.000],  loss: 5.995838, mae: 14.784550, mean_q: 29.158185, mean_eps: 0.500000\n",
            " 7373/8000: episode: 215, duration: 1.093s, episode steps:  70, steps per second:  64, episode reward: 70.000, mean reward:  1.000 [ 1.000,  1.000], mean action: 0.486 [0.000, 1.000],  loss: 4.965897, mae: 14.911380, mean_q: 29.459919, mean_eps: 0.500000\n",
            " 7459/8000: episode: 216, duration: 1.670s, episode steps:  86, steps per second:  52, episode reward: 86.000, mean reward:  1.000 [ 1.000,  1.000], mean action: 0.488 [0.000, 1.000],  loss: 5.860899, mae: 15.023179, mean_q: 29.606452, mean_eps: 0.500000\n",
            " 7595/8000: episode: 217, duration: 2.322s, episode steps: 136, steps per second:  59, episode reward: 136.000, mean reward:  1.000 [ 1.000,  1.000], mean action: 0.485 [0.000, 1.000],  loss: 6.279101, mae: 15.228073, mean_q: 29.991436, mean_eps: 0.500000\n",
            " 7620/8000: episode: 218, duration: 0.686s, episode steps:  25, steps per second:  36, episode reward: 25.000, mean reward:  1.000 [ 1.000,  1.000], mean action: 0.480 [0.000, 1.000],  loss: 6.616205, mae: 15.140521, mean_q: 29.761098, mean_eps: 0.500000\n",
            " 7753/8000: episode: 219, duration: 2.789s, episode steps: 133, steps per second:  48, episode reward: 133.000, mean reward:  1.000 [ 1.000,  1.000], mean action: 0.489 [0.000, 1.000],  loss: 6.325343, mae: 15.400117, mean_q: 30.327569, mean_eps: 0.500000\n",
            " 7867/8000: episode: 220, duration: 1.890s, episode steps: 114, steps per second:  60, episode reward: 114.000, mean reward:  1.000 [ 1.000,  1.000], mean action: 0.482 [0.000, 1.000],  loss: 4.774402, mae: 15.589575, mean_q: 30.825020, mean_eps: 0.500000\n",
            "done, took 167.824 seconds\n"
          ]
        },
        {
          "output_type": "display_data",
          "data": {
            "text/plain": [
              "<Figure size 432x288 with 1 Axes>"
            ],
            "image/png": "[encoded data removed]"
          },
          "metadata": {
            "needs_background": "light"
          }
        },
        {
          "output_type": "stream",
          "name": "stdout",
          "text": [
            "Testing for 20 episodes ...\n",
            "Episode 1: reward: 187.000, steps: 187\n",
            "Episode 2: reward: 172.000, steps: 172\n",
            "Episode 3: reward: 154.000, steps: 154\n",
            "Episode 4: reward: 200.000, steps: 200\n",
            "Episode 5: reward: 200.000, steps: 200\n",
            "Episode 6: reward: 178.000, steps: 178\n",
            "Episode 7: reward: 200.000, steps: 200\n",
            "Episode 8: reward: 200.000, steps: 200\n",
            "Episode 9: reward: 144.000, steps: 144\n",
            "Episode 10: reward: 197.000, steps: 197\n",
            "Episode 11: reward: 200.000, steps: 200\n",
            "Episode 12: reward: 174.000, steps: 174\n",
            "Episode 13: reward: 200.000, steps: 200\n",
            "Episode 14: reward: 167.000, steps: 167\n",
            "Episode 15: reward: 162.000, steps: 162\n",
            "Episode 16: reward: 200.000, steps: 200\n",
            "Episode 17: reward: 170.000, steps: 170\n",
            "Episode 18: reward: 200.000, steps: 200\n",
            "Episode 19: reward: 194.000, steps: 194\n",
            "Episode 20: reward: 164.000, steps: 164\n"
          ]
        },
        {
          "output_type": "execute_result",
          "data": {
            "text/plain": [
              "<keras.callbacks.History at 0x7fb170066910>"
            ]
          },
          "metadata": {},
          "execution_count": 97
        }
      ]
    }
  ]
}