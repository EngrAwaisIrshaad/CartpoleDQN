{
  "nbformat": 4,
  "nbformat_minor": 0,
  "metadata": {
    "colab": {
      "name": "CartPoleDQN.ipynb",
      "provenance": [],
      "collapsed_sections": [],
      "include_colab_link": true
    },
    "kernelspec": {
      "name": "python3",
      "display_name": "Python 3"
    }
  },
  "cells": [
    {
      "cell_type": "markdown",
      "metadata": {
        "id": "view-in-github",
        "colab_type": "text"
      },
      "source": [
        "<a href=\"https://colab.research.google.com/github/Megacity1/CartpoleDQN/blob/main/Week%203%20Deep%20RL%202/CartPoleDQN.ipynb\" target=\"_parent\"><img src=\"https://colab.research.google.com/assets/colab-badge.svg\" alt=\"Open In Colab\"/></a>"
      ]
    },
    {
      "cell_type": "markdown",
      "metadata": {
        "id": "VKK5DA390wRe"
      },
      "source": [
        "# Deep Q Network (DQN) for CartPole Using Boltzmann Q Policy\n",
        "This exercise implements a DQN for CartPole using a Boltzmann Q policy for selecting the actions"
      ]
    },
    {
      "cell_type": "code",
      "metadata": {
        "id": "LGsC7cJ5jNcX",
        "colab": {
          "base_uri": "https://localhost:8080/"
        },
        "outputId": "cda73cbf-3020-40f4-e45e-7b87053448f1"
      },
      "source": [
        "# install keras rl2 (we need to install keras-rl2 so it works with the tensorflow 2 version that comes pre-installed with colab)\n",
        "!pip install keras-rl2"
      ],
      "execution_count": 57,
      "outputs": [
        {
          "output_type": "stream",
          "name": "stdout",
          "text": [
            "Requirement already satisfied: keras-rl2 in /usr/local/lib/python3.7/dist-packages (1.0.5)\n",
            "Requirement already satisfied: tensorflow in /usr/local/lib/python3.7/dist-packages (from keras-rl2) (2.8.0)\n",
            "Requirement already satisfied: keras-preprocessing>=1.1.1 in /usr/local/lib/python3.7/dist-packages (from tensorflow->keras-rl2) (1.1.2)\n",
            "Requirement already satisfied: protobuf>=3.9.2 in /usr/local/lib/python3.7/dist-packages (from tensorflow->keras-rl2) (3.17.3)\n",
            "Requirement already satisfied: tensorflow-io-gcs-filesystem>=0.23.1 in /usr/local/lib/python3.7/dist-packages (from tensorflow->keras-rl2) (0.24.0)\n",
            "Requirement already satisfied: libclang>=9.0.1 in /usr/local/lib/python3.7/dist-packages (from tensorflow->keras-rl2) (13.0.0)\n",
            "Requirement already satisfied: h5py>=2.9.0 in /usr/local/lib/python3.7/dist-packages (from tensorflow->keras-rl2) (3.1.0)\n",
            "Requirement already satisfied: opt-einsum>=2.3.2 in /usr/local/lib/python3.7/dist-packages (from tensorflow->keras-rl2) (3.3.0)\n",
            "Requirement already satisfied: gast>=0.2.1 in /usr/local/lib/python3.7/dist-packages (from tensorflow->keras-rl2) (0.5.3)\n",
            "Requirement already satisfied: grpcio<2.0,>=1.24.3 in /usr/local/lib/python3.7/dist-packages (from tensorflow->keras-rl2) (1.44.0)\n",
            "Requirement already satisfied: tensorboard<2.9,>=2.8 in /usr/local/lib/python3.7/dist-packages (from tensorflow->keras-rl2) (2.8.0)\n",
            "Requirement already satisfied: wrapt>=1.11.0 in /usr/local/lib/python3.7/dist-packages (from tensorflow->keras-rl2) (1.14.0)\n",
            "Requirement already satisfied: absl-py>=0.4.0 in /usr/local/lib/python3.7/dist-packages (from tensorflow->keras-rl2) (1.0.0)\n",
            "Requirement already satisfied: flatbuffers>=1.12 in /usr/local/lib/python3.7/dist-packages (from tensorflow->keras-rl2) (2.0)\n",
            "Requirement already satisfied: termcolor>=1.1.0 in /usr/local/lib/python3.7/dist-packages (from tensorflow->keras-rl2) (1.1.0)\n",
            "Requirement already satisfied: keras<2.9,>=2.8.0rc0 in /usr/local/lib/python3.7/dist-packages (from tensorflow->keras-rl2) (2.8.0)\n",
            "Requirement already satisfied: six>=1.12.0 in /usr/local/lib/python3.7/dist-packages (from tensorflow->keras-rl2) (1.15.0)\n",
            "Requirement already satisfied: tf-estimator-nightly==2.8.0.dev2021122109 in /usr/local/lib/python3.7/dist-packages (from tensorflow->keras-rl2) (2.8.0.dev2021122109)\n",
            "Requirement already satisfied: numpy>=1.20 in /usr/local/lib/python3.7/dist-packages (from tensorflow->keras-rl2) (1.21.5)\n",
            "Requirement already satisfied: astunparse>=1.6.0 in /usr/local/lib/python3.7/dist-packages (from tensorflow->keras-rl2) (1.6.3)\n",
            "Requirement already satisfied: typing-extensions>=3.6.6 in /usr/local/lib/python3.7/dist-packages (from tensorflow->keras-rl2) (3.10.0.2)\n",
            "Requirement already satisfied: setuptools in /usr/local/lib/python3.7/dist-packages (from tensorflow->keras-rl2) (57.4.0)\n",
            "Requirement already satisfied: google-pasta>=0.1.1 in /usr/local/lib/python3.7/dist-packages (from tensorflow->keras-rl2) (0.2.0)\n",
            "Requirement already satisfied: wheel<1.0,>=0.23.0 in /usr/local/lib/python3.7/dist-packages (from astunparse>=1.6.0->tensorflow->keras-rl2) (0.37.1)\n",
            "Requirement already satisfied: cached-property in /usr/local/lib/python3.7/dist-packages (from h5py>=2.9.0->tensorflow->keras-rl2) (1.5.2)\n",
            "Requirement already satisfied: google-auth-oauthlib<0.5,>=0.4.1 in /usr/local/lib/python3.7/dist-packages (from tensorboard<2.9,>=2.8->tensorflow->keras-rl2) (0.4.6)\n",
            "Requirement already satisfied: requests<3,>=2.21.0 in /usr/local/lib/python3.7/dist-packages (from tensorboard<2.9,>=2.8->tensorflow->keras-rl2) (2.23.0)\n",
            "Requirement already satisfied: werkzeug>=0.11.15 in /usr/local/lib/python3.7/dist-packages (from tensorboard<2.9,>=2.8->tensorflow->keras-rl2) (1.0.1)\n",
            "Requirement already satisfied: markdown>=2.6.8 in /usr/local/lib/python3.7/dist-packages (from tensorboard<2.9,>=2.8->tensorflow->keras-rl2) (3.3.6)\n",
            "Requirement already satisfied: google-auth<3,>=1.6.3 in /usr/local/lib/python3.7/dist-packages (from tensorboard<2.9,>=2.8->tensorflow->keras-rl2) (1.35.0)\n",
            "Requirement already satisfied: tensorboard-data-server<0.7.0,>=0.6.0 in /usr/local/lib/python3.7/dist-packages (from tensorboard<2.9,>=2.8->tensorflow->keras-rl2) (0.6.1)\n",
            "Requirement already satisfied: tensorboard-plugin-wit>=1.6.0 in /usr/local/lib/python3.7/dist-packages (from tensorboard<2.9,>=2.8->tensorflow->keras-rl2) (1.8.1)\n",
            "Requirement already satisfied: pyasn1-modules>=0.2.1 in /usr/local/lib/python3.7/dist-packages (from google-auth<3,>=1.6.3->tensorboard<2.9,>=2.8->tensorflow->keras-rl2) (0.2.8)\n",
            "Requirement already satisfied: cachetools<5.0,>=2.0.0 in /usr/local/lib/python3.7/dist-packages (from google-auth<3,>=1.6.3->tensorboard<2.9,>=2.8->tensorflow->keras-rl2) (4.2.4)\n",
            "Requirement already satisfied: rsa<5,>=3.1.4 in /usr/local/lib/python3.7/dist-packages (from google-auth<3,>=1.6.3->tensorboard<2.9,>=2.8->tensorflow->keras-rl2) (4.8)\n",
            "Requirement already satisfied: requests-oauthlib>=0.7.0 in /usr/local/lib/python3.7/dist-packages (from google-auth-oauthlib<0.5,>=0.4.1->tensorboard<2.9,>=2.8->tensorflow->keras-rl2) (1.3.1)\n",
            "Requirement already satisfied: importlib-metadata>=4.4 in /usr/local/lib/python3.7/dist-packages (from markdown>=2.6.8->tensorboard<2.9,>=2.8->tensorflow->keras-rl2) (4.11.3)\n",
            "Requirement already satisfied: zipp>=0.5 in /usr/local/lib/python3.7/dist-packages (from importlib-metadata>=4.4->markdown>=2.6.8->tensorboard<2.9,>=2.8->tensorflow->keras-rl2) (3.7.0)\n",
            "Requirement already satisfied: pyasn1<0.5.0,>=0.4.6 in /usr/local/lib/python3.7/dist-packages (from pyasn1-modules>=0.2.1->google-auth<3,>=1.6.3->tensorboard<2.9,>=2.8->tensorflow->keras-rl2) (0.4.8)\n",
            "Requirement already satisfied: chardet<4,>=3.0.2 in /usr/local/lib/python3.7/dist-packages (from requests<3,>=2.21.0->tensorboard<2.9,>=2.8->tensorflow->keras-rl2) (3.0.4)\n",
            "Requirement already satisfied: urllib3!=1.25.0,!=1.25.1,<1.26,>=1.21.1 in /usr/local/lib/python3.7/dist-packages (from requests<3,>=2.21.0->tensorboard<2.9,>=2.8->tensorflow->keras-rl2) (1.24.3)\n",
            "Requirement already satisfied: idna<3,>=2.5 in /usr/local/lib/python3.7/dist-packages (from requests<3,>=2.21.0->tensorboard<2.9,>=2.8->tensorflow->keras-rl2) (2.10)\n",
            "Requirement already satisfied: certifi>=2017.4.17 in /usr/local/lib/python3.7/dist-packages (from requests<3,>=2.21.0->tensorboard<2.9,>=2.8->tensorflow->keras-rl2) (2021.10.8)\n",
            "Requirement already satisfied: oauthlib>=3.0.0 in /usr/local/lib/python3.7/dist-packages (from requests-oauthlib>=0.7.0->google-auth-oauthlib<0.5,>=0.4.1->tensorboard<2.9,>=2.8->tensorflow->keras-rl2) (3.2.0)\n"
          ]
        }
      ]
    },
    {
      "cell_type": "code",
      "metadata": {
        "id": "XMIHLgQ3Z-lF",
        "colab": {
          "base_uri": "https://localhost:8080/"
        },
        "outputId": "3d5a8608-456f-4127-ce8a-f551e5f4e4f3"
      },
      "source": [
        "!pip install gym"
      ],
      "execution_count": 58,
      "outputs": [
        {
          "output_type": "stream",
          "name": "stdout",
          "text": [
            "Requirement already satisfied: gym in /usr/local/lib/python3.7/dist-packages (0.17.3)\n",
            "Requirement already satisfied: numpy>=1.10.4 in /usr/local/lib/python3.7/dist-packages (from gym) (1.21.5)\n",
            "Requirement already satisfied: scipy in /usr/local/lib/python3.7/dist-packages (from gym) (1.4.1)\n",
            "Requirement already satisfied: pyglet<=1.5.0,>=1.4.0 in /usr/local/lib/python3.7/dist-packages (from gym) (1.5.0)\n",
            "Requirement already satisfied: cloudpickle<1.7.0,>=1.2.0 in /usr/local/lib/python3.7/dist-packages (from gym) (1.3.0)\n",
            "Requirement already satisfied: future in /usr/local/lib/python3.7/dist-packages (from pyglet<=1.5.0,>=1.4.0->gym) (0.16.0)\n"
          ]
        }
      ]
    },
    {
      "cell_type": "code",
      "metadata": {
        "id": "M0AMLzq08ap0",
        "colab": {
          "base_uri": "https://localhost:8080/"
        },
        "outputId": "77b380e1-6c3d-4bce-8233-a8ac01deaf26"
      },
      "source": [
        "# load the gym module\n",
        "import gym\n",
        "import matplotlib.pyplot as plt\n",
        "# import the usual Keras modules for creating deep neural networks\n",
        "from keras import Sequential\n",
        "from keras.layers import Input, Flatten, Dense\n",
        "!pip install Adam\n",
        "#from keras.optimizers import Adam\n",
        "from tensorflow.keras.optimizers import Adam\n",
        "ENV_NAME = 'CartPole-v0'\n",
        "env = gym.make(ENV_NAME)"
      ],
      "execution_count": 62,
      "outputs": [
        {
          "output_type": "stream",
          "name": "stdout",
          "text": [
            "Requirement already satisfied: Adam in /usr/local/lib/python3.7/dist-packages (0.0.0.dev0)\n"
          ]
        }
      ]
    },
    {
      "cell_type": "markdown",
      "metadata": {
        "id": "ll6bNdUm54WS"
      },
      "source": [
        "Implementation of DQN for CartPole, applying policy BoltzmannQPolicy"
      ]
    },
    {
      "cell_type": "markdown",
      "metadata": {
        "id": "RSCrPKNy40PC"
      },
      "source": [
        "##Implement DQN with BoltzmannGumbelQPolicy"
      ]
    },
    {
      "cell_type": "code",
      "metadata": {
        "id": "efM9jkXr5A3c",
        "colab": {
          "base_uri": "https://localhost:8080/",
          "height": 1000
        },
        "outputId": "d0af0deb-b006-46b9-c8cd-12017f347169"
      },
      "source": [
        "import rl\n",
        "from rl.memory import SequentialMemory  # import the exerience replay buffer module\n",
        "from rl.policy import BoltzmannGumbelQPolicy\n",
        "from rl.policy import LinearAnnealedPolicy\n",
        "from rl.policy import EpsGreedyQPolicy\n",
        "from rl.agents.dqn import DQNAgent      # import the DQN agent\n",
        "\n",
        "# setup experience replay buffer\n",
        "memory = SequentialMemory(limit=10000, window_length=1)\n",
        "\n",
        "policy = LinearAnnealedPolicy(EpsGreedyQPolicy(), \n",
        "                               attr='eps',            \n",
        "                               value_max=5.,\n",
        "                               value_min=.5, \n",
        "                               value_test=.05,\n",
        "                               nb_steps=20)\n",
        "# Q-Network\n",
        "model = Sequential()\n",
        "model.add(Input(shape=(1,env.observation_space.shape[0])))  # The input is 1 observation vector, and the number of observations in that vector \n",
        "model.add(Flatten())\n",
        "model.add(Dense(16, activation='relu'))\n",
        "# add extra layers here\n",
        "model.add(Dense(env.action_space.n, activation='linear'))   # the output is the number of actions in the action space\n",
        "\n",
        "print(model.summary())\n",
        "\n",
        "# define the agent\n",
        "dqn = DQNAgent(model=model, \n",
        "               nb_actions=env.action_space.n,\n",
        "               memory=memory,\n",
        "               nb_steps_warmup=20,\n",
        "               target_model_update=1e-2, \n",
        "               policy=policy) \n",
        "\n",
        "dqn.compile(Adam(lr=1e-3), metrics=['mae'])\n",
        "\n",
        "history = dqn.fit(env, nb_steps=8000, visualize=False, verbose=2)\n",
        "\n",
        "# summarize the history for number  of episode steps\n",
        "plt.plot(history.history['nb_episode_steps'])\n",
        "plt.ylabel('nb_episode_steps')\n",
        "plt.xlabel('episodes')\n",
        "plt.show()\n",
        "\n",
        "dqn.test(env, nb_episodes=20, visualize=False)"
      ],
      "execution_count": 92,
      "outputs": [
        {
          "output_type": "stream",
          "name": "stdout",
          "text": [
            "Model: \"sequential_43\"\n",
            "_________________________________________________________________\n",
            " Layer (type)                Output Shape              Param #   \n",
            "=================================================================\n",
            " flatten_41 (Flatten)        (None, 4)                 0         \n",
            "                                                                 \n",
            " dense_83 (Dense)            (None, 16)                80        \n",
            "                                                                 \n",
            " dense_84 (Dense)            (None, 2)                 34        \n",
            "                                                                 \n",
            "=================================================================\n",
            "Total params: 114\n",
            "Trainable params: 114\n",
            "Non-trainable params: 0\n",
            "_________________________________________________________________\n",
            "None\n"
          ]
        },
        {
          "output_type": "stream",
          "name": "stderr",
          "text": [
            "/usr/local/lib/python3.7/dist-packages/keras/optimizer_v2/adam.py:105: UserWarning: The `lr` argument is deprecated, use `learning_rate` instead.\n",
            "  super(Adam, self).__init__(name, **kwargs)\n"
          ]
        },
        {
          "output_type": "stream",
          "name": "stdout",
          "text": [
            "Training for 8000 steps ...\n"
          ]
        },
        {
          "output_type": "stream",
          "name": "stderr",
          "text": [
            "/usr/local/lib/python3.7/dist-packages/keras/engine/training_v1.py:2079: UserWarning: `Model.state_updates` will be removed in a future version. This property should not be used in TensorFlow 2.0, as `updates` are applied automatically.\n",
            "  updates=self.state_updates,\n",
            "/usr/local/lib/python3.7/dist-packages/rl/memory.py:37: UserWarning: Not enough entries to sample without replacement. Consider increasing your warm-up phase to avoid oversampling!\n",
            "  warnings.warn('Not enough entries to sample without replacement. Consider increasing your warm-up phase to avoid oversampling!')\n"
          ]
        },
        {
          "output_type": "stream",
          "name": "stdout",
          "text": [
            "   26/8000: episode: 1, duration: 11.935s, episode steps:  26, steps per second:   2, episode reward: 26.000, mean reward:  1.000 [ 1.000,  1.000], mean action: 0.577 [0.000, 1.000],  loss: 0.488553, mae: 0.566223, mean_q: -0.128485, mean_eps: 0.500000\n"
          ]
        },
        {
          "output_type": "stream",
          "name": "stderr",
          "text": [
            "/usr/local/lib/python3.7/dist-packages/rl/memory.py:37: UserWarning: Not enough entries to sample without replacement. Consider increasing your warm-up phase to avoid oversampling!\n",
            "  warnings.warn('Not enough entries to sample without replacement. Consider increasing your warm-up phase to avoid oversampling!')\n"
          ]
        },
        {
          "output_type": "stream",
          "name": "stdout",
          "text": [
            "   46/8000: episode: 2, duration: 0.476s, episode steps:  20, steps per second:  42, episode reward: 20.000, mean reward:  1.000 [ 1.000,  1.000], mean action: 0.700 [0.000, 1.000],  loss: 0.447511, mae: 0.522043, mean_q: -0.059933, mean_eps: 0.500000\n",
            "   56/8000: episode: 3, duration: 0.257s, episode steps:  10, steps per second:  39, episode reward: 10.000, mean reward:  1.000 [ 1.000,  1.000], mean action: 1.000 [1.000, 1.000],  loss: 0.380601, mae: 0.478004, mean_q: -0.004628, mean_eps: 0.500000\n",
            "   78/8000: episode: 4, duration: 0.485s, episode steps:  22, steps per second:  45, episode reward: 22.000, mean reward:  1.000 [ 1.000,  1.000], mean action: 0.682 [0.000, 1.000],  loss: 0.337320, mae: 0.449646, mean_q: 0.111948, mean_eps: 0.500000\n",
            "   87/8000: episode: 5, duration: 0.229s, episode steps:   9, steps per second:  39, episode reward:  9.000, mean reward:  1.000 [ 1.000,  1.000], mean action: 1.000 [1.000, 1.000],  loss: 0.290972, mae: 0.419757, mean_q: 0.221467, mean_eps: 0.500000\n",
            "  100/8000: episode: 6, duration: 0.327s, episode steps:  13, steps per second:  40, episode reward: 13.000, mean reward:  1.000 [ 1.000,  1.000], mean action: 0.769 [0.000, 1.000],  loss: 0.266700, mae: 0.403566, mean_q: 0.306622, mean_eps: 0.500000\n",
            "  109/8000: episode: 7, duration: 0.205s, episode steps:   9, steps per second:  44, episode reward:  9.000, mean reward:  1.000 [ 1.000,  1.000], mean action: 0.778 [0.000, 1.000],  loss: 0.252982, mae: 0.390435, mean_q: 0.396499, mean_eps: 0.500000\n",
            "  124/8000: episode: 8, duration: 0.315s, episode steps:  15, steps per second:  48, episode reward: 15.000, mean reward:  1.000 [ 1.000,  1.000], mean action: 0.667 [0.000, 1.000],  loss: 0.255633, mae: 0.394986, mean_q: 0.475462, mean_eps: 0.500000\n",
            "  134/8000: episode: 9, duration: 0.182s, episode steps:  10, steps per second:  55, episode reward: 10.000, mean reward:  1.000 [ 1.000,  1.000], mean action: 0.700 [0.000, 1.000],  loss: 0.247691, mae: 0.411839, mean_q: 0.564829, mean_eps: 0.500000\n",
            "  152/8000: episode: 10, duration: 0.309s, episode steps:  18, steps per second:  58, episode reward: 18.000, mean reward:  1.000 [ 1.000,  1.000], mean action: 0.667 [0.000, 1.000],  loss: 0.265743, mae: 0.470626, mean_q: 0.622538, mean_eps: 0.500000\n",
            "  168/8000: episode: 11, duration: 0.266s, episode steps:  16, steps per second:  60, episode reward: 16.000, mean reward:  1.000 [ 1.000,  1.000], mean action: 0.562 [0.000, 1.000],  loss: 0.243474, mae: 0.510452, mean_q: 0.746596, mean_eps: 0.500000\n",
            "  185/8000: episode: 12, duration: 0.277s, episode steps:  17, steps per second:  61, episode reward: 17.000, mean reward:  1.000 [ 1.000,  1.000], mean action: 0.588 [0.000, 1.000],  loss: 0.252849, mae: 0.577056, mean_q: 0.825915, mean_eps: 0.500000\n",
            "  199/8000: episode: 13, duration: 0.334s, episode steps:  14, steps per second:  42, episode reward: 14.000, mean reward:  1.000 [ 1.000,  1.000], mean action: 0.643 [0.000, 1.000],  loss: 0.228568, mae: 0.609352, mean_q: 0.938848, mean_eps: 0.500000\n",
            "  209/8000: episode: 14, duration: 0.241s, episode steps:  10, steps per second:  42, episode reward: 10.000, mean reward:  1.000 [ 1.000,  1.000], mean action: 0.900 [0.000, 1.000],  loss: 0.215724, mae: 0.657517, mean_q: 1.037191, mean_eps: 0.500000\n",
            "  220/8000: episode: 15, duration: 0.250s, episode steps:  11, steps per second:  44, episode reward: 11.000, mean reward:  1.000 [ 1.000,  1.000], mean action: 0.909 [0.000, 1.000],  loss: 0.198687, mae: 0.683051, mean_q: 1.116190, mean_eps: 0.500000\n",
            "  235/8000: episode: 16, duration: 0.319s, episode steps:  15, steps per second:  47, episode reward: 15.000, mean reward:  1.000 [ 1.000,  1.000], mean action: 0.867 [0.000, 1.000],  loss: 0.188895, mae: 0.737682, mean_q: 1.263609, mean_eps: 0.500000\n",
            "  244/8000: episode: 17, duration: 0.237s, episode steps:   9, steps per second:  38, episode reward:  9.000, mean reward:  1.000 [ 1.000,  1.000], mean action: 1.000 [1.000, 1.000],  loss: 0.185054, mae: 0.773292, mean_q: 1.350129, mean_eps: 0.500000\n",
            "  254/8000: episode: 18, duration: 0.231s, episode steps:  10, steps per second:  43, episode reward: 10.000, mean reward:  1.000 [ 1.000,  1.000], mean action: 0.800 [0.000, 1.000],  loss: 0.178970, mae: 0.802708, mean_q: 1.456892, mean_eps: 0.500000\n",
            "  268/8000: episode: 19, duration: 0.293s, episode steps:  14, steps per second:  48, episode reward: 14.000, mean reward:  1.000 [ 1.000,  1.000], mean action: 0.714 [0.000, 1.000],  loss: 0.206696, mae: 0.870216, mean_q: 1.562374, mean_eps: 0.500000\n",
            "  298/8000: episode: 20, duration: 0.627s, episode steps:  30, steps per second:  48, episode reward: 30.000, mean reward:  1.000 [ 1.000,  1.000], mean action: 0.633 [0.000, 1.000],  loss: 0.185816, mae: 0.928611, mean_q: 1.671285, mean_eps: 0.500000\n",
            "  309/8000: episode: 21, duration: 0.194s, episode steps:  11, steps per second:  57, episode reward: 11.000, mean reward:  1.000 [ 1.000,  1.000], mean action: 0.909 [0.000, 1.000],  loss: 0.177015, mae: 0.979430, mean_q: 1.803773, mean_eps: 0.500000\n",
            "  323/8000: episode: 22, duration: 0.251s, episode steps:  14, steps per second:  56, episode reward: 14.000, mean reward:  1.000 [ 1.000,  1.000], mean action: 0.714 [0.000, 1.000],  loss: 0.213612, mae: 1.039967, mean_q: 1.939606, mean_eps: 0.500000\n",
            "  336/8000: episode: 23, duration: 0.261s, episode steps:  13, steps per second:  50, episode reward: 13.000, mean reward:  1.000 [ 1.000,  1.000], mean action: 0.769 [0.000, 1.000],  loss: 0.190069, mae: 1.058049, mean_q: 1.951233, mean_eps: 0.500000\n",
            "  363/8000: episode: 24, duration: 0.595s, episode steps:  27, steps per second:  45, episode reward: 27.000, mean reward:  1.000 [ 1.000,  1.000], mean action: 0.704 [0.000, 1.000],  loss: 0.224268, mae: 1.147515, mean_q: 2.133793, mean_eps: 0.500000\n",
            "  403/8000: episode: 25, duration: 0.791s, episode steps:  40, steps per second:  51, episode reward: 40.000, mean reward:  1.000 [ 1.000,  1.000], mean action: 0.600 [0.000, 1.000],  loss: 0.246698, mae: 1.262531, mean_q: 2.349097, mean_eps: 0.500000\n",
            "  430/8000: episode: 26, duration: 0.551s, episode steps:  27, steps per second:  49, episode reward: 27.000, mean reward:  1.000 [ 1.000,  1.000], mean action: 0.630 [0.000, 1.000],  loss: 0.247130, mae: 1.370208, mean_q: 2.600967, mean_eps: 0.500000\n",
            "  441/8000: episode: 27, duration: 0.252s, episode steps:  11, steps per second:  44, episode reward: 11.000, mean reward:  1.000 [ 1.000,  1.000], mean action: 0.727 [0.000, 1.000],  loss: 0.307651, mae: 1.448199, mean_q: 2.739849, mean_eps: 0.500000\n",
            "  450/8000: episode: 28, duration: 0.193s, episode steps:   9, steps per second:  47, episode reward:  9.000, mean reward:  1.000 [ 1.000,  1.000], mean action: 0.889 [0.000, 1.000],  loss: 0.301617, mae: 1.527508, mean_q: 2.850305, mean_eps: 0.500000\n",
            "  464/8000: episode: 29, duration: 0.268s, episode steps:  14, steps per second:  52, episode reward: 14.000, mean reward:  1.000 [ 1.000,  1.000], mean action: 0.714 [0.000, 1.000],  loss: 0.286917, mae: 1.522795, mean_q: 2.929062, mean_eps: 0.500000\n",
            "  473/8000: episode: 30, duration: 0.179s, episode steps:   9, steps per second:  50, episode reward:  9.000, mean reward:  1.000 [ 1.000,  1.000], mean action: 1.000 [1.000, 1.000],  loss: 0.345308, mae: 1.589046, mean_q: 3.026509, mean_eps: 0.500000\n",
            "  483/8000: episode: 31, duration: 0.203s, episode steps:  10, steps per second:  49, episode reward: 10.000, mean reward:  1.000 [ 1.000,  1.000], mean action: 0.700 [0.000, 1.000],  loss: 0.413195, mae: 1.681697, mean_q: 3.071041, mean_eps: 0.500000\n",
            "  501/8000: episode: 32, duration: 0.391s, episode steps:  18, steps per second:  46, episode reward: 18.000, mean reward:  1.000 [ 1.000,  1.000], mean action: 0.667 [0.000, 1.000],  loss: 0.315892, mae: 1.654567, mean_q: 3.087032, mean_eps: 0.500000\n",
            "  510/8000: episode: 33, duration: 0.223s, episode steps:   9, steps per second:  40, episode reward:  9.000, mean reward:  1.000 [ 1.000,  1.000], mean action: 0.889 [0.000, 1.000],  loss: 0.371886, mae: 1.722141, mean_q: 3.240416, mean_eps: 0.500000\n",
            "  522/8000: episode: 34, duration: 0.300s, episode steps:  12, steps per second:  40, episode reward: 12.000, mean reward:  1.000 [ 1.000,  1.000], mean action: 0.833 [0.000, 1.000],  loss: 0.311925, mae: 1.763979, mean_q: 3.323625, mean_eps: 0.500000\n",
            "  535/8000: episode: 35, duration: 0.317s, episode steps:  13, steps per second:  41, episode reward: 13.000, mean reward:  1.000 [ 1.000,  1.000], mean action: 0.692 [0.000, 1.000],  loss: 0.368663, mae: 1.807057, mean_q: 3.442047, mean_eps: 0.500000\n",
            "  545/8000: episode: 36, duration: 0.274s, episode steps:  10, steps per second:  36, episode reward: 10.000, mean reward:  1.000 [ 1.000,  1.000], mean action: 0.900 [0.000, 1.000],  loss: 0.271352, mae: 1.823819, mean_q: 3.470684, mean_eps: 0.500000\n",
            "  554/8000: episode: 37, duration: 0.232s, episode steps:   9, steps per second:  39, episode reward:  9.000, mean reward:  1.000 [ 1.000,  1.000], mean action: 1.000 [1.000, 1.000],  loss: 0.320831, mae: 1.880909, mean_q: 3.526285, mean_eps: 0.500000\n",
            "  565/8000: episode: 38, duration: 0.273s, episode steps:  11, steps per second:  40, episode reward: 11.000, mean reward:  1.000 [ 1.000,  1.000], mean action: 0.909 [0.000, 1.000],  loss: 0.383824, mae: 1.944308, mean_q: 3.568901, mean_eps: 0.500000\n",
            "  579/8000: episode: 39, duration: 0.351s, episode steps:  14, steps per second:  40, episode reward: 14.000, mean reward:  1.000 [ 1.000,  1.000], mean action: 0.786 [0.000, 1.000],  loss: 0.431466, mae: 2.001548, mean_q: 3.662997, mean_eps: 0.500000\n",
            "  588/8000: episode: 40, duration: 0.224s, episode steps:   9, steps per second:  40, episode reward:  9.000, mean reward:  1.000 [ 1.000,  1.000], mean action: 0.778 [0.000, 1.000],  loss: 0.370290, mae: 1.983534, mean_q: 3.724610, mean_eps: 0.500000\n",
            "  601/8000: episode: 41, duration: 0.328s, episode steps:  13, steps per second:  40, episode reward: 13.000, mean reward:  1.000 [ 1.000,  1.000], mean action: 0.769 [0.000, 1.000],  loss: 0.326074, mae: 2.016073, mean_q: 3.772815, mean_eps: 0.500000\n",
            "  613/8000: episode: 42, duration: 0.268s, episode steps:  12, steps per second:  45, episode reward: 12.000, mean reward:  1.000 [ 1.000,  1.000], mean action: 0.833 [0.000, 1.000],  loss: 0.323892, mae: 2.075411, mean_q: 3.857588, mean_eps: 0.500000\n",
            "  629/8000: episode: 43, duration: 0.317s, episode steps:  16, steps per second:  50, episode reward: 16.000, mean reward:  1.000 [ 1.000,  1.000], mean action: 0.688 [0.000, 1.000],  loss: 0.356653, mae: 2.137712, mean_q: 4.009197, mean_eps: 0.500000\n",
            "  640/8000: episode: 44, duration: 0.227s, episode steps:  11, steps per second:  48, episode reward: 11.000, mean reward:  1.000 [ 1.000,  1.000], mean action: 0.636 [0.000, 1.000],  loss: 0.335722, mae: 2.160696, mean_q: 4.052915, mean_eps: 0.500000\n",
            "  654/8000: episode: 45, duration: 0.245s, episode steps:  14, steps per second:  57, episode reward: 14.000, mean reward:  1.000 [ 1.000,  1.000], mean action: 0.714 [0.000, 1.000],  loss: 0.294108, mae: 2.191616, mean_q: 4.141251, mean_eps: 0.500000\n",
            "  663/8000: episode: 46, duration: 0.174s, episode steps:   9, steps per second:  52, episode reward:  9.000, mean reward:  1.000 [ 1.000,  1.000], mean action: 1.000 [1.000, 1.000],  loss: 0.362888, mae: 2.251265, mean_q: 4.258038, mean_eps: 0.500000\n",
            "  673/8000: episode: 47, duration: 0.232s, episode steps:  10, steps per second:  43, episode reward: 10.000, mean reward:  1.000 [ 1.000,  1.000], mean action: 0.900 [0.000, 1.000],  loss: 0.244385, mae: 2.233435, mean_q: 4.296081, mean_eps: 0.500000\n",
            "  684/8000: episode: 48, duration: 0.231s, episode steps:  11, steps per second:  48, episode reward: 11.000, mean reward:  1.000 [ 1.000,  1.000], mean action: 0.636 [0.000, 1.000],  loss: 0.384764, mae: 2.316376, mean_q: 4.282679, mean_eps: 0.500000\n",
            "  700/8000: episode: 49, duration: 0.360s, episode steps:  16, steps per second:  44, episode reward: 16.000, mean reward:  1.000 [ 1.000,  1.000], mean action: 0.688 [0.000, 1.000],  loss: 0.384079, mae: 2.339390, mean_q: 4.368562, mean_eps: 0.500000\n",
            "  719/8000: episode: 50, duration: 0.453s, episode steps:  19, steps per second:  42, episode reward: 19.000, mean reward:  1.000 [ 1.000,  1.000], mean action: 0.421 [0.000, 1.000],  loss: 0.325321, mae: 2.376811, mean_q: 4.450742, mean_eps: 0.500000\n",
            "  734/8000: episode: 51, duration: 0.364s, episode steps:  15, steps per second:  41, episode reward: 15.000, mean reward:  1.000 [ 1.000,  1.000], mean action: 0.733 [0.000, 1.000],  loss: 0.308233, mae: 2.444515, mean_q: 4.575341, mean_eps: 0.500000\n",
            "  746/8000: episode: 52, duration: 0.262s, episode steps:  12, steps per second:  46, episode reward: 12.000, mean reward:  1.000 [ 1.000,  1.000], mean action: 0.667 [0.000, 1.000],  loss: 0.280238, mae: 2.477484, mean_q: 4.686570, mean_eps: 0.500000\n",
            "  757/8000: episode: 53, duration: 0.252s, episode steps:  11, steps per second:  44, episode reward: 11.000, mean reward:  1.000 [ 1.000,  1.000], mean action: 0.727 [0.000, 1.000],  loss: 0.314094, mae: 2.544237, mean_q: 4.768182, mean_eps: 0.500000\n",
            "  769/8000: episode: 54, duration: 0.303s, episode steps:  12, steps per second:  40, episode reward: 12.000, mean reward:  1.000 [ 1.000,  1.000], mean action: 0.667 [0.000, 1.000],  loss: 0.255300, mae: 2.567385, mean_q: 4.787478, mean_eps: 0.500000\n",
            "  784/8000: episode: 55, duration: 0.350s, episode steps:  15, steps per second:  43, episode reward: 15.000, mean reward:  1.000 [ 1.000,  1.000], mean action: 0.600 [0.000, 1.000],  loss: 0.266539, mae: 2.588253, mean_q: 4.915160, mean_eps: 0.500000\n",
            "  796/8000: episode: 56, duration: 0.295s, episode steps:  12, steps per second:  41, episode reward: 12.000, mean reward:  1.000 [ 1.000,  1.000], mean action: 0.583 [0.000, 1.000],  loss: 0.296604, mae: 2.640293, mean_q: 4.947237, mean_eps: 0.500000\n",
            "  810/8000: episode: 57, duration: 0.383s, episode steps:  14, steps per second:  37, episode reward: 14.000, mean reward:  1.000 [ 1.000,  1.000], mean action: 0.643 [0.000, 1.000],  loss: 0.382053, mae: 2.697705, mean_q: 5.024308, mean_eps: 0.500000\n",
            "  827/8000: episode: 58, duration: 0.393s, episode steps:  17, steps per second:  43, episode reward: 17.000, mean reward:  1.000 [ 1.000,  1.000], mean action: 0.529 [0.000, 1.000],  loss: 0.491960, mae: 2.787601, mean_q: 5.115363, mean_eps: 0.500000\n",
            "  838/8000: episode: 59, duration: 0.220s, episode steps:  11, steps per second:  50, episode reward: 11.000, mean reward:  1.000 [ 1.000,  1.000], mean action: 0.273 [0.000, 1.000],  loss: 0.377872, mae: 2.767663, mean_q: 5.049358, mean_eps: 0.500000\n",
            "  848/8000: episode: 60, duration: 0.160s, episode steps:  10, steps per second:  63, episode reward: 10.000, mean reward:  1.000 [ 1.000,  1.000], mean action: 0.700 [0.000, 1.000],  loss: 0.359378, mae: 2.828520, mean_q: 5.272484, mean_eps: 0.500000\n",
            "  860/8000: episode: 61, duration: 0.240s, episode steps:  12, steps per second:  50, episode reward: 12.000, mean reward:  1.000 [ 1.000,  1.000], mean action: 0.750 [0.000, 1.000],  loss: 0.422500, mae: 2.843982, mean_q: 5.314528, mean_eps: 0.500000\n",
            "  877/8000: episode: 62, duration: 0.297s, episode steps:  17, steps per second:  57, episode reward: 17.000, mean reward:  1.000 [ 1.000,  1.000], mean action: 0.529 [0.000, 1.000],  loss: 0.447508, mae: 2.915426, mean_q: 5.365190, mean_eps: 0.500000\n",
            "  890/8000: episode: 63, duration: 0.242s, episode steps:  13, steps per second:  54, episode reward: 13.000, mean reward:  1.000 [ 1.000,  1.000], mean action: 0.308 [0.000, 1.000],  loss: 0.314492, mae: 2.935795, mean_q: 5.467675, mean_eps: 0.500000\n",
            "  904/8000: episode: 64, duration: 0.214s, episode steps:  14, steps per second:  65, episode reward: 14.000, mean reward:  1.000 [ 1.000,  1.000], mean action: 0.286 [0.000, 1.000],  loss: 0.426857, mae: 2.984380, mean_q: 5.527847, mean_eps: 0.500000\n",
            "  920/8000: episode: 65, duration: 0.280s, episode steps:  16, steps per second:  57, episode reward: 16.000, mean reward:  1.000 [ 1.000,  1.000], mean action: 0.312 [0.000, 1.000],  loss: 0.430356, mae: 3.054643, mean_q: 5.715309, mean_eps: 0.500000\n",
            "  936/8000: episode: 66, duration: 0.284s, episode steps:  16, steps per second:  56, episode reward: 16.000, mean reward:  1.000 [ 1.000,  1.000], mean action: 0.250 [0.000, 1.000],  loss: 0.464183, mae: 3.098262, mean_q: 5.821634, mean_eps: 0.500000\n",
            "  944/8000: episode: 67, duration: 0.150s, episode steps:   8, steps per second:  53, episode reward:  8.000, mean reward:  1.000 [ 1.000,  1.000], mean action: 0.000 [0.000, 0.000],  loss: 0.643903, mae: 3.262772, mean_q: 6.103474, mean_eps: 0.500000\n",
            "  959/8000: episode: 68, duration: 0.222s, episode steps:  15, steps per second:  67, episode reward: 15.000, mean reward:  1.000 [ 1.000,  1.000], mean action: 0.267 [0.000, 1.000],  loss: 0.521995, mae: 3.242502, mean_q: 6.076954, mean_eps: 0.500000\n",
            "  974/8000: episode: 69, duration: 0.258s, episode steps:  15, steps per second:  58, episode reward: 15.000, mean reward:  1.000 [ 1.000,  1.000], mean action: 0.400 [0.000, 1.000],  loss: 0.728953, mae: 3.341115, mean_q: 6.219888, mean_eps: 0.500000\n",
            "  987/8000: episode: 70, duration: 0.197s, episode steps:  13, steps per second:  66, episode reward: 13.000, mean reward:  1.000 [ 1.000,  1.000], mean action: 0.308 [0.000, 1.000],  loss: 0.596916, mae: 3.337196, mean_q: 6.216487, mean_eps: 0.500000\n",
            "  999/8000: episode: 71, duration: 0.190s, episode steps:  12, steps per second:  63, episode reward: 12.000, mean reward:  1.000 [ 1.000,  1.000], mean action: 0.167 [0.000, 1.000],  loss: 0.794249, mae: 3.359317, mean_q: 6.223541, mean_eps: 0.500000\n",
            " 1013/8000: episode: 72, duration: 0.207s, episode steps:  14, steps per second:  68, episode reward: 14.000, mean reward:  1.000 [ 1.000,  1.000], mean action: 0.286 [0.000, 1.000],  loss: 0.830279, mae: 3.479724, mean_q: 6.460751, mean_eps: 0.500000\n",
            " 1027/8000: episode: 73, duration: 0.206s, episode steps:  14, steps per second:  68, episode reward: 14.000, mean reward:  1.000 [ 1.000,  1.000], mean action: 0.143 [0.000, 1.000],  loss: 0.959805, mae: 3.545754, mean_q: 6.548446, mean_eps: 0.500000\n",
            " 1036/8000: episode: 74, duration: 0.164s, episode steps:   9, steps per second:  55, episode reward:  9.000, mean reward:  1.000 [ 1.000,  1.000], mean action: 0.000 [0.000, 0.000],  loss: 0.617819, mae: 3.523233, mean_q: 6.567243, mean_eps: 0.500000\n",
            " 1048/8000: episode: 75, duration: 0.195s, episode steps:  12, steps per second:  61, episode reward: 12.000, mean reward:  1.000 [ 1.000,  1.000], mean action: 0.333 [0.000, 1.000],  loss: 1.055266, mae: 3.606717, mean_q: 6.679878, mean_eps: 0.500000\n",
            " 1060/8000: episode: 76, duration: 0.202s, episode steps:  12, steps per second:  59, episode reward: 12.000, mean reward:  1.000 [ 1.000,  1.000], mean action: 0.250 [0.000, 1.000],  loss: 1.065131, mae: 3.679320, mean_q: 6.713039, mean_eps: 0.500000\n",
            " 1074/8000: episode: 77, duration: 0.248s, episode steps:  14, steps per second:  56, episode reward: 14.000, mean reward:  1.000 [ 1.000,  1.000], mean action: 0.571 [0.000, 1.000],  loss: 0.844843, mae: 3.695557, mean_q: 6.859836, mean_eps: 0.500000\n",
            " 1085/8000: episode: 78, duration: 0.175s, episode steps:  11, steps per second:  63, episode reward: 11.000, mean reward:  1.000 [ 1.000,  1.000], mean action: 0.273 [0.000, 1.000],  loss: 0.666399, mae: 3.643245, mean_q: 6.768020, mean_eps: 0.500000\n",
            " 1099/8000: episode: 79, duration: 0.229s, episode steps:  14, steps per second:  61, episode reward: 14.000, mean reward:  1.000 [ 1.000,  1.000], mean action: 0.214 [0.000, 1.000],  loss: 0.776176, mae: 3.736223, mean_q: 7.012821, mean_eps: 0.500000\n",
            " 1121/8000: episode: 80, duration: 0.316s, episode steps:  22, steps per second:  70, episode reward: 22.000, mean reward:  1.000 [ 1.000,  1.000], mean action: 0.318 [0.000, 1.000],  loss: 1.368230, mae: 3.859537, mean_q: 7.067098, mean_eps: 0.500000\n",
            " 1134/8000: episode: 81, duration: 0.188s, episode steps:  13, steps per second:  69, episode reward: 13.000, mean reward:  1.000 [ 1.000,  1.000], mean action: 0.154 [0.000, 1.000],  loss: 1.083102, mae: 3.853611, mean_q: 7.039995, mean_eps: 0.500000\n",
            " 1146/8000: episode: 82, duration: 0.206s, episode steps:  12, steps per second:  58, episode reward: 12.000, mean reward:  1.000 [ 1.000,  1.000], mean action: 0.250 [0.000, 1.000],  loss: 0.827689, mae: 3.869755, mean_q: 7.093795, mean_eps: 0.500000\n",
            " 1157/8000: episode: 83, duration: 0.237s, episode steps:  11, steps per second:  46, episode reward: 11.000, mean reward:  1.000 [ 1.000,  1.000], mean action: 0.273 [0.000, 1.000],  loss: 1.371698, mae: 3.988565, mean_q: 7.363228, mean_eps: 0.500000\n",
            " 1168/8000: episode: 84, duration: 0.262s, episode steps:  11, steps per second:  42, episode reward: 11.000, mean reward:  1.000 [ 1.000,  1.000], mean action: 0.182 [0.000, 1.000],  loss: 0.642239, mae: 3.957563, mean_q: 7.487677, mean_eps: 0.500000\n",
            " 1178/8000: episode: 85, duration: 0.213s, episode steps:  10, steps per second:  47, episode reward: 10.000, mean reward:  1.000 [ 1.000,  1.000], mean action: 0.100 [0.000, 1.000],  loss: 0.873272, mae: 4.063804, mean_q: 7.688621, mean_eps: 0.500000\n",
            " 1187/8000: episode: 86, duration: 0.204s, episode steps:   9, steps per second:  44, episode reward:  9.000, mean reward:  1.000 [ 1.000,  1.000], mean action: 0.111 [0.000, 1.000],  loss: 1.392169, mae: 4.082559, mean_q: 7.593590, mean_eps: 0.500000\n",
            " 1200/8000: episode: 87, duration: 0.213s, episode steps:  13, steps per second:  61, episode reward: 13.000, mean reward:  1.000 [ 1.000,  1.000], mean action: 0.231 [0.000, 1.000],  loss: 1.244257, mae: 4.146850, mean_q: 7.715874, mean_eps: 0.500000\n",
            " 1211/8000: episode: 88, duration: 0.168s, episode steps:  11, steps per second:  65, episode reward: 11.000, mean reward:  1.000 [ 1.000,  1.000], mean action: 0.091 [0.000, 1.000],  loss: 1.277286, mae: 4.122403, mean_q: 7.595645, mean_eps: 0.500000\n",
            " 1224/8000: episode: 89, duration: 0.186s, episode steps:  13, steps per second:  70, episode reward: 13.000, mean reward:  1.000 [ 1.000,  1.000], mean action: 0.154 [0.000, 1.000],  loss: 1.079543, mae: 4.151568, mean_q: 7.708545, mean_eps: 0.500000\n",
            " 1233/8000: episode: 90, duration: 0.129s, episode steps:   9, steps per second:  70, episode reward:  9.000, mean reward:  1.000 [ 1.000,  1.000], mean action: 0.000 [0.000, 0.000],  loss: 1.385880, mae: 4.249874, mean_q: 7.850069, mean_eps: 0.500000\n",
            " 1247/8000: episode: 91, duration: 0.222s, episode steps:  14, steps per second:  63, episode reward: 14.000, mean reward:  1.000 [ 1.000,  1.000], mean action: 0.286 [0.000, 1.000],  loss: 1.323432, mae: 4.235758, mean_q: 7.799764, mean_eps: 0.500000\n",
            " 1273/8000: episode: 92, duration: 0.406s, episode steps:  26, steps per second:  64, episode reward: 26.000, mean reward:  1.000 [ 1.000,  1.000], mean action: 0.308 [0.000, 1.000],  loss: 1.355633, mae: 4.318747, mean_q: 7.980429, mean_eps: 0.500000\n",
            " 1286/8000: episode: 93, duration: 0.206s, episode steps:  13, steps per second:  63, episode reward: 13.000, mean reward:  1.000 [ 1.000,  1.000], mean action: 0.154 [0.000, 1.000],  loss: 1.480727, mae: 4.403248, mean_q: 8.142647, mean_eps: 0.500000\n",
            " 1299/8000: episode: 94, duration: 0.197s, episode steps:  13, steps per second:  66, episode reward: 13.000, mean reward:  1.000 [ 1.000,  1.000], mean action: 0.154 [0.000, 1.000],  loss: 1.905180, mae: 4.448623, mean_q: 8.169173, mean_eps: 0.500000\n",
            " 1311/8000: episode: 95, duration: 0.174s, episode steps:  12, steps per second:  69, episode reward: 12.000, mean reward:  1.000 [ 1.000,  1.000], mean action: 0.167 [0.000, 1.000],  loss: 1.431632, mae: 4.408820, mean_q: 8.082119, mean_eps: 0.500000\n",
            " 1321/8000: episode: 96, duration: 0.166s, episode steps:  10, steps per second:  60, episode reward: 10.000, mean reward:  1.000 [ 1.000,  1.000], mean action: 0.100 [0.000, 1.000],  loss: 1.023113, mae: 4.390645, mean_q: 8.141435, mean_eps: 0.500000\n",
            " 1329/8000: episode: 97, duration: 0.188s, episode steps:   8, steps per second:  42, episode reward:  8.000, mean reward:  1.000 [ 1.000,  1.000], mean action: 0.000 [0.000, 0.000],  loss: 1.675912, mae: 4.542676, mean_q: 8.283590, mean_eps: 0.500000\n",
            " 1340/8000: episode: 98, duration: 0.257s, episode steps:  11, steps per second:  43, episode reward: 11.000, mean reward:  1.000 [ 1.000,  1.000], mean action: 0.091 [0.000, 1.000],  loss: 1.189925, mae: 4.524978, mean_q: 8.375514, mean_eps: 0.500000\n",
            " 1377/8000: episode: 99, duration: 0.693s, episode steps:  37, steps per second:  53, episode reward: 37.000, mean reward:  1.000 [ 1.000,  1.000], mean action: 0.378 [0.000, 1.000],  loss: 1.614718, mae: 4.596776, mean_q: 8.312932, mean_eps: 0.500000\n",
            " 1387/8000: episode: 100, duration: 0.157s, episode steps:  10, steps per second:  64, episode reward: 10.000, mean reward:  1.000 [ 1.000,  1.000], mean action: 0.000 [0.000, 0.000],  loss: 1.716694, mae: 4.547762, mean_q: 8.207525, mean_eps: 0.500000\n",
            " 1398/8000: episode: 101, duration: 0.192s, episode steps:  11, steps per second:  57, episode reward: 11.000, mean reward:  1.000 [ 1.000,  1.000], mean action: 0.182 [0.000, 1.000],  loss: 1.400671, mae: 4.550858, mean_q: 8.304248, mean_eps: 0.500000\n",
            " 1411/8000: episode: 102, duration: 0.184s, episode steps:  13, steps per second:  71, episode reward: 13.000, mean reward:  1.000 [ 1.000,  1.000], mean action: 0.154 [0.000, 1.000],  loss: 1.579134, mae: 4.622764, mean_q: 8.394538, mean_eps: 0.500000\n",
            " 1425/8000: episode: 103, duration: 0.227s, episode steps:  14, steps per second:  62, episode reward: 14.000, mean reward:  1.000 [ 1.000,  1.000], mean action: 0.214 [0.000, 1.000],  loss: 1.197344, mae: 4.628591, mean_q: 8.517069, mean_eps: 0.500000\n",
            " 1440/8000: episode: 104, duration: 0.216s, episode steps:  15, steps per second:  70, episode reward: 15.000, mean reward:  1.000 [ 1.000,  1.000], mean action: 0.600 [0.000, 1.000],  loss: 1.037182, mae: 4.625484, mean_q: 8.527601, mean_eps: 0.500000\n",
            " 1475/8000: episode: 105, duration: 0.513s, episode steps:  35, steps per second:  68, episode reward: 35.000, mean reward:  1.000 [ 1.000,  1.000], mean action: 0.514 [0.000, 1.000],  loss: 1.710681, mae: 4.793842, mean_q: 8.684560, mean_eps: 0.500000\n",
            " 1506/8000: episode: 106, duration: 0.435s, episode steps:  31, steps per second:  71, episode reward: 31.000, mean reward:  1.000 [ 1.000,  1.000], mean action: 0.581 [0.000, 1.000],  loss: 1.543034, mae: 4.797159, mean_q: 8.727184, mean_eps: 0.500000\n",
            " 1526/8000: episode: 107, duration: 0.297s, episode steps:  20, steps per second:  67, episode reward: 20.000, mean reward:  1.000 [ 1.000,  1.000], mean action: 0.550 [0.000, 1.000],  loss: 0.949953, mae: 4.812572, mean_q: 8.984302, mean_eps: 0.500000\n",
            " 1638/8000: episode: 108, duration: 1.599s, episode steps: 112, steps per second:  70, episode reward: 112.000, mean reward:  1.000 [ 1.000,  1.000], mean action: 0.527 [0.000, 1.000],  loss: 1.339756, mae: 4.957848, mean_q: 9.149804, mean_eps: 0.500000\n",
            " 1785/8000: episode: 109, duration: 2.764s, episode steps: 147, steps per second:  53, episode reward: 147.000, mean reward:  1.000 [ 1.000,  1.000], mean action: 0.517 [0.000, 1.000],  loss: 1.102452, mae: 5.237975, mean_q: 9.833150, mean_eps: 0.500000\n",
            " 1837/8000: episode: 110, duration: 0.892s, episode steps:  52, steps per second:  58, episode reward: 52.000, mean reward:  1.000 [ 1.000,  1.000], mean action: 0.462 [0.000, 1.000],  loss: 1.170106, mae: 5.478023, mean_q: 10.294331, mean_eps: 0.500000\n",
            " 1869/8000: episode: 111, duration: 0.515s, episode steps:  32, steps per second:  62, episode reward: 32.000, mean reward:  1.000 [ 1.000,  1.000], mean action: 0.500 [0.000, 1.000],  loss: 1.466869, mae: 5.590080, mean_q: 10.450799, mean_eps: 0.500000\n",
            " 2000/8000: episode: 112, duration: 1.993s, episode steps: 131, steps per second:  66, episode reward: 131.000, mean reward:  1.000 [ 1.000,  1.000], mean action: 0.489 [0.000, 1.000],  loss: 1.182557, mae: 5.794200, mean_q: 11.008548, mean_eps: 0.500000\n",
            " 2047/8000: episode: 113, duration: 0.718s, episode steps:  47, steps per second:  65, episode reward: 47.000, mean reward:  1.000 [ 1.000,  1.000], mean action: 0.468 [0.000, 1.000],  loss: 1.219178, mae: 6.050362, mean_q: 11.511911, mean_eps: 0.500000\n",
            " 2094/8000: episode: 114, duration: 0.637s, episode steps:  47, steps per second:  74, episode reward: 47.000, mean reward:  1.000 [ 1.000,  1.000], mean action: 0.489 [0.000, 1.000],  loss: 1.484405, mae: 6.111493, mean_q: 11.552571, mean_eps: 0.500000\n",
            " 2148/8000: episode: 115, duration: 0.822s, episode steps:  54, steps per second:  66, episode reward: 54.000, mean reward:  1.000 [ 1.000,  1.000], mean action: 0.463 [0.000, 1.000],  loss: 1.201863, mae: 6.222228, mean_q: 11.850198, mean_eps: 0.500000\n",
            " 2190/8000: episode: 116, duration: 0.628s, episode steps:  42, steps per second:  67, episode reward: 42.000, mean reward:  1.000 [ 1.000,  1.000], mean action: 0.500 [0.000, 1.000],  loss: 1.241482, mae: 6.418727, mean_q: 12.289713, mean_eps: 0.500000\n",
            " 2240/8000: episode: 117, duration: 0.727s, episode steps:  50, steps per second:  69, episode reward: 50.000, mean reward:  1.000 [ 1.000,  1.000], mean action: 0.460 [0.000, 1.000],  loss: 1.472235, mae: 6.492651, mean_q: 12.339475, mean_eps: 0.500000\n",
            " 2305/8000: episode: 118, duration: 0.983s, episode steps:  65, steps per second:  66, episode reward: 65.000, mean reward:  1.000 [ 1.000,  1.000], mean action: 0.523 [0.000, 1.000],  loss: 1.286701, mae: 6.693262, mean_q: 12.823020, mean_eps: 0.500000\n",
            " 2399/8000: episode: 119, duration: 1.738s, episode steps:  94, steps per second:  54, episode reward: 94.000, mean reward:  1.000 [ 1.000,  1.000], mean action: 0.489 [0.000, 1.000],  loss: 1.489866, mae: 6.868245, mean_q: 13.130103, mean_eps: 0.500000\n",
            " 2498/8000: episode: 120, duration: 1.635s, episode steps:  99, steps per second:  61, episode reward: 99.000, mean reward:  1.000 [ 1.000,  1.000], mean action: 0.505 [0.000, 1.000],  loss: 1.314393, mae: 7.146676, mean_q: 13.760053, mean_eps: 0.500000\n",
            " 2536/8000: episode: 121, duration: 0.739s, episode steps:  38, steps per second:  51, episode reward: 38.000, mean reward:  1.000 [ 1.000,  1.000], mean action: 0.526 [0.000, 1.000],  loss: 1.361050, mae: 7.331223, mean_q: 14.163577, mean_eps: 0.500000\n",
            " 2641/8000: episode: 122, duration: 1.797s, episode steps: 105, steps per second:  58, episode reward: 105.000, mean reward:  1.000 [ 1.000,  1.000], mean action: 0.486 [0.000, 1.000],  loss: 1.610457, mae: 7.578560, mean_q: 14.605797, mean_eps: 0.500000\n",
            " 2667/8000: episode: 123, duration: 0.492s, episode steps:  26, steps per second:  53, episode reward: 26.000, mean reward:  1.000 [ 1.000,  1.000], mean action: 0.462 [0.000, 1.000],  loss: 1.502141, mae: 7.661496, mean_q: 14.752487, mean_eps: 0.500000\n",
            " 2718/8000: episode: 124, duration: 0.908s, episode steps:  51, steps per second:  56, episode reward: 51.000, mean reward:  1.000 [ 1.000,  1.000], mean action: 0.529 [0.000, 1.000],  loss: 2.263150, mae: 7.863644, mean_q: 15.028053, mean_eps: 0.500000\n",
            " 2799/8000: episode: 125, duration: 1.484s, episode steps:  81, steps per second:  55, episode reward: 81.000, mean reward:  1.000 [ 1.000,  1.000], mean action: 0.519 [0.000, 1.000],  loss: 1.873322, mae: 8.048460, mean_q: 15.534814, mean_eps: 0.500000\n",
            " 2854/8000: episode: 126, duration: 1.356s, episode steps:  55, steps per second:  41, episode reward: 55.000, mean reward:  1.000 [ 1.000,  1.000], mean action: 0.455 [0.000, 1.000],  loss: 2.026807, mae: 8.230822, mean_q: 15.892650, mean_eps: 0.500000\n",
            " 2905/8000: episode: 127, duration: 1.249s, episode steps:  51, steps per second:  41, episode reward: 51.000, mean reward:  1.000 [ 1.000,  1.000], mean action: 0.529 [0.000, 1.000],  loss: 1.992782, mae: 8.355839, mean_q: 16.151252, mean_eps: 0.500000\n",
            " 2977/8000: episode: 128, duration: 1.326s, episode steps:  72, steps per second:  54, episode reward: 72.000, mean reward:  1.000 [ 1.000,  1.000], mean action: 0.486 [0.000, 1.000],  loss: 2.303288, mae: 8.587287, mean_q: 16.588398, mean_eps: 0.500000\n",
            " 3066/8000: episode: 129, duration: 1.232s, episode steps:  89, steps per second:  72, episode reward: 89.000, mean reward:  1.000 [ 1.000,  1.000], mean action: 0.483 [0.000, 1.000],  loss: 2.221017, mae: 8.753286, mean_q: 16.953926, mean_eps: 0.500000\n",
            " 3140/8000: episode: 130, duration: 1.454s, episode steps:  74, steps per second:  51, episode reward: 74.000, mean reward:  1.000 [ 1.000,  1.000], mean action: 0.514 [0.000, 1.000],  loss: 2.513286, mae: 8.976395, mean_q: 17.297549, mean_eps: 0.500000\n",
            " 3194/8000: episode: 131, duration: 0.971s, episode steps:  54, steps per second:  56, episode reward: 54.000, mean reward:  1.000 [ 1.000,  1.000], mean action: 0.519 [0.000, 1.000],  loss: 2.424114, mae: 9.166211, mean_q: 17.743646, mean_eps: 0.500000\n",
            " 3223/8000: episode: 132, duration: 0.430s, episode steps:  29, steps per second:  67, episode reward: 29.000, mean reward:  1.000 [ 1.000,  1.000], mean action: 0.586 [0.000, 1.000],  loss: 1.986588, mae: 9.332415, mean_q: 18.106886, mean_eps: 0.500000\n",
            " 3271/8000: episode: 133, duration: 0.963s, episode steps:  48, steps per second:  50, episode reward: 48.000, mean reward:  1.000 [ 1.000,  1.000], mean action: 0.542 [0.000, 1.000],  loss: 2.502646, mae: 9.327239, mean_q: 18.023965, mean_eps: 0.500000\n",
            " 3350/8000: episode: 134, duration: 1.482s, episode steps:  79, steps per second:  53, episode reward: 79.000, mean reward:  1.000 [ 1.000,  1.000], mean action: 0.494 [0.000, 1.000],  loss: 3.107588, mae: 9.566819, mean_q: 18.468104, mean_eps: 0.500000\n",
            " 3430/8000: episode: 135, duration: 1.750s, episode steps:  80, steps per second:  46, episode reward: 80.000, mean reward:  1.000 [ 1.000,  1.000], mean action: 0.487 [0.000, 1.000],  loss: 2.650165, mae: 9.668339, mean_q: 18.689927, mean_eps: 0.500000\n",
            " 3510/8000: episode: 136, duration: 1.327s, episode steps:  80, steps per second:  60, episode reward: 80.000, mean reward:  1.000 [ 1.000,  1.000], mean action: 0.512 [0.000, 1.000],  loss: 2.647468, mae: 9.875169, mean_q: 19.054747, mean_eps: 0.500000\n",
            " 3581/8000: episode: 137, duration: 1.151s, episode steps:  71, steps per second:  62, episode reward: 71.000, mean reward:  1.000 [ 1.000,  1.000], mean action: 0.521 [0.000, 1.000],  loss: 2.803763, mae: 10.098303, mean_q: 19.538721, mean_eps: 0.500000\n",
            " 3616/8000: episode: 138, duration: 0.571s, episode steps:  35, steps per second:  61, episode reward: 35.000, mean reward:  1.000 [ 1.000,  1.000], mean action: 0.543 [0.000, 1.000],  loss: 2.594135, mae: 10.321736, mean_q: 20.023925, mean_eps: 0.500000\n",
            " 3751/8000: episode: 139, duration: 2.483s, episode steps: 135, steps per second:  54, episode reward: 135.000, mean reward:  1.000 [ 1.000,  1.000], mean action: 0.504 [0.000, 1.000],  loss: 2.872873, mae: 10.433461, mean_q: 20.273084, mean_eps: 0.500000\n",
            " 3784/8000: episode: 140, duration: 0.631s, episode steps:  33, steps per second:  52, episode reward: 33.000, mean reward:  1.000 [ 1.000,  1.000], mean action: 0.515 [0.000, 1.000],  loss: 2.919500, mae: 10.691111, mean_q: 20.907778, mean_eps: 0.500000\n",
            " 3812/8000: episode: 141, duration: 0.536s, episode steps:  28, steps per second:  52, episode reward: 28.000, mean reward:  1.000 [ 1.000,  1.000], mean action: 0.500 [0.000, 1.000],  loss: 2.509837, mae: 10.730675, mean_q: 20.974558, mean_eps: 0.500000\n",
            " 3865/8000: episode: 142, duration: 0.943s, episode steps:  53, steps per second:  56, episode reward: 53.000, mean reward:  1.000 [ 1.000,  1.000], mean action: 0.528 [0.000, 1.000],  loss: 2.097886, mae: 10.821722, mean_q: 21.208383, mean_eps: 0.500000\n",
            " 3898/8000: episode: 143, duration: 0.588s, episode steps:  33, steps per second:  56, episode reward: 33.000, mean reward:  1.000 [ 1.000,  1.000], mean action: 0.455 [0.000, 1.000],  loss: 3.473897, mae: 11.080418, mean_q: 21.613306, mean_eps: 0.500000\n",
            " 3973/8000: episode: 144, duration: 1.391s, episode steps:  75, steps per second:  54, episode reward: 75.000, mean reward:  1.000 [ 1.000,  1.000], mean action: 0.493 [0.000, 1.000],  loss: 3.408774, mae: 11.121371, mean_q: 21.615610, mean_eps: 0.500000\n",
            " 4060/8000: episode: 145, duration: 1.530s, episode steps:  87, steps per second:  57, episode reward: 87.000, mean reward:  1.000 [ 1.000,  1.000], mean action: 0.471 [0.000, 1.000],  loss: 2.881343, mae: 11.336076, mean_q: 22.135517, mean_eps: 0.500000\n",
            " 4125/8000: episode: 146, duration: 1.197s, episode steps:  65, steps per second:  54, episode reward: 65.000, mean reward:  1.000 [ 1.000,  1.000], mean action: 0.538 [0.000, 1.000],  loss: 3.321192, mae: 11.485113, mean_q: 22.407129, mean_eps: 0.500000\n",
            " 4156/8000: episode: 147, duration: 0.647s, episode steps:  31, steps per second:  48, episode reward: 31.000, mean reward:  1.000 [ 1.000,  1.000], mean action: 0.484 [0.000, 1.000],  loss: 3.106240, mae: 11.628437, mean_q: 22.737729, mean_eps: 0.500000\n",
            " 4227/8000: episode: 148, duration: 1.294s, episode steps:  71, steps per second:  55, episode reward: 71.000, mean reward:  1.000 [ 1.000,  1.000], mean action: 0.479 [0.000, 1.000],  loss: 3.901754, mae: 11.745045, mean_q: 22.872864, mean_eps: 0.500000\n",
            " 4268/8000: episode: 149, duration: 0.901s, episode steps:  41, steps per second:  46, episode reward: 41.000, mean reward:  1.000 [ 1.000,  1.000], mean action: 0.561 [0.000, 1.000],  loss: 3.181107, mae: 11.763502, mean_q: 22.988414, mean_eps: 0.500000\n",
            " 4365/8000: episode: 150, duration: 1.626s, episode steps:  97, steps per second:  60, episode reward: 97.000, mean reward:  1.000 [ 1.000,  1.000], mean action: 0.474 [0.000, 1.000],  loss: 3.995039, mae: 11.980996, mean_q: 23.298140, mean_eps: 0.500000\n",
            " 4392/8000: episode: 151, duration: 0.513s, episode steps:  27, steps per second:  53, episode reward: 27.000, mean reward:  1.000 [ 1.000,  1.000], mean action: 0.556 [0.000, 1.000],  loss: 5.227958, mae: 12.232097, mean_q: 23.717389, mean_eps: 0.500000\n",
            " 4419/8000: episode: 152, duration: 0.547s, episode steps:  27, steps per second:  49, episode reward: 27.000, mean reward:  1.000 [ 1.000,  1.000], mean action: 0.519 [0.000, 1.000],  loss: 3.581547, mae: 12.114750, mean_q: 23.582722, mean_eps: 0.500000\n",
            " 4457/8000: episode: 153, duration: 0.621s, episode steps:  38, steps per second:  61, episode reward: 38.000, mean reward:  1.000 [ 1.000,  1.000], mean action: 0.447 [0.000, 1.000],  loss: 3.354000, mae: 12.183014, mean_q: 23.815086, mean_eps: 0.500000\n",
            " 4526/8000: episode: 154, duration: 1.497s, episode steps:  69, steps per second:  46, episode reward: 69.000, mean reward:  1.000 [ 1.000,  1.000], mean action: 0.522 [0.000, 1.000],  loss: 3.688680, mae: 12.397667, mean_q: 24.205597, mean_eps: 0.500000\n",
            " 4566/8000: episode: 155, duration: 0.765s, episode steps:  40, steps per second:  52, episode reward: 40.000, mean reward:  1.000 [ 1.000,  1.000], mean action: 0.550 [0.000, 1.000],  loss: 2.920484, mae: 12.408573, mean_q: 24.378981, mean_eps: 0.500000\n",
            " 4606/8000: episode: 156, duration: 0.662s, episode steps:  40, steps per second:  60, episode reward: 40.000, mean reward:  1.000 [ 1.000,  1.000], mean action: 0.525 [0.000, 1.000],  loss: 4.020511, mae: 12.562690, mean_q: 24.539397, mean_eps: 0.500000\n",
            " 4656/8000: episode: 157, duration: 0.899s, episode steps:  50, steps per second:  56, episode reward: 50.000, mean reward:  1.000 [ 1.000,  1.000], mean action: 0.480 [0.000, 1.000],  loss: 3.842842, mae: 12.659491, mean_q: 24.771675, mean_eps: 0.500000\n",
            " 4688/8000: episode: 158, duration: 0.541s, episode steps:  32, steps per second:  59, episode reward: 32.000, mean reward:  1.000 [ 1.000,  1.000], mean action: 0.469 [0.000, 1.000],  loss: 4.006865, mae: 12.808720, mean_q: 25.013946, mean_eps: 0.500000\n",
            " 4743/8000: episode: 159, duration: 0.891s, episode steps:  55, steps per second:  62, episode reward: 55.000, mean reward:  1.000 [ 1.000,  1.000], mean action: 0.545 [0.000, 1.000],  loss: 3.998346, mae: 12.882557, mean_q: 25.217284, mean_eps: 0.500000\n",
            " 4801/8000: episode: 160, duration: 0.972s, episode steps:  58, steps per second:  60, episode reward: 58.000, mean reward:  1.000 [ 1.000,  1.000], mean action: 0.534 [0.000, 1.000],  loss: 5.177586, mae: 13.108536, mean_q: 25.507351, mean_eps: 0.500000\n",
            " 4989/8000: episode: 161, duration: 3.894s, episode steps: 188, steps per second:  48, episode reward: 188.000, mean reward:  1.000 [ 1.000,  1.000], mean action: 0.495 [0.000, 1.000],  loss: 4.748414, mae: 13.187042, mean_q: 25.712791, mean_eps: 0.500000\n",
            " 5142/8000: episode: 162, duration: 3.018s, episode steps: 153, steps per second:  51, episode reward: 153.000, mean reward:  1.000 [ 1.000,  1.000], mean action: 0.497 [0.000, 1.000],  loss: 5.233367, mae: 13.506944, mean_q: 26.288236, mean_eps: 0.500000\n",
            " 5224/8000: episode: 163, duration: 1.663s, episode steps:  82, steps per second:  49, episode reward: 82.000, mean reward:  1.000 [ 1.000,  1.000], mean action: 0.488 [0.000, 1.000],  loss: 4.469586, mae: 13.690802, mean_q: 26.831766, mean_eps: 0.500000\n",
            " 5264/8000: episode: 164, duration: 0.803s, episode steps:  40, steps per second:  50, episode reward: 40.000, mean reward:  1.000 [ 1.000,  1.000], mean action: 0.550 [0.000, 1.000],  loss: 5.024928, mae: 13.896606, mean_q: 27.163740, mean_eps: 0.500000\n",
            " 5326/8000: episode: 165, duration: 1.302s, episode steps:  62, steps per second:  48, episode reward: 62.000, mean reward:  1.000 [ 1.000,  1.000], mean action: 0.532 [0.000, 1.000],  loss: 4.292564, mae: 13.952989, mean_q: 27.376539, mean_eps: 0.500000\n",
            " 5526/8000: episode: 166, duration: 3.568s, episode steps: 200, steps per second:  56, episode reward: 200.000, mean reward:  1.000 [ 1.000,  1.000], mean action: 0.490 [0.000, 1.000],  loss: 4.104821, mae: 14.229349, mean_q: 27.949909, mean_eps: 0.500000\n",
            " 5553/8000: episode: 167, duration: 0.401s, episode steps:  27, steps per second:  67, episode reward: 27.000, mean reward:  1.000 [ 1.000,  1.000], mean action: 0.519 [0.000, 1.000],  loss: 5.263863, mae: 14.404190, mean_q: 28.214228, mean_eps: 0.500000\n",
            " 5665/8000: episode: 168, duration: 1.830s, episode steps: 112, steps per second:  61, episode reward: 112.000, mean reward:  1.000 [ 1.000,  1.000], mean action: 0.438 [0.000, 1.000],  loss: 4.057619, mae: 14.611433, mean_q: 28.762163, mean_eps: 0.500000\n",
            " 5720/8000: episode: 169, duration: 0.901s, episode steps:  55, steps per second:  61, episode reward: 55.000, mean reward:  1.000 [ 1.000,  1.000], mean action: 0.545 [0.000, 1.000],  loss: 4.896838, mae: 14.907117, mean_q: 29.349301, mean_eps: 0.500000\n",
            " 5807/8000: episode: 170, duration: 1.447s, episode steps:  87, steps per second:  60, episode reward: 87.000, mean reward:  1.000 [ 1.000,  1.000], mean action: 0.540 [0.000, 1.000],  loss: 5.036364, mae: 14.979185, mean_q: 29.475178, mean_eps: 0.500000\n",
            " 5889/8000: episode: 171, duration: 1.271s, episode steps:  82, steps per second:  64, episode reward: 82.000, mean reward:  1.000 [ 1.000,  1.000], mean action: 0.463 [0.000, 1.000],  loss: 5.694164, mae: 15.148415, mean_q: 29.785932, mean_eps: 0.500000\n",
            " 6060/8000: episode: 172, duration: 3.288s, episode steps: 171, steps per second:  52, episode reward: 171.000, mean reward:  1.000 [ 1.000,  1.000], mean action: 0.462 [0.000, 1.000],  loss: 5.135905, mae: 15.407621, mean_q: 30.323192, mean_eps: 0.500000\n",
            " 6260/8000: episode: 173, duration: 4.231s, episode steps: 200, steps per second:  47, episode reward: 200.000, mean reward:  1.000 [ 1.000,  1.000], mean action: 0.470 [0.000, 1.000],  loss: 5.590349, mae: 15.817431, mean_q: 31.175740, mean_eps: 0.500000\n",
            " 6340/8000: episode: 174, duration: 1.346s, episode steps:  80, steps per second:  59, episode reward: 80.000, mean reward:  1.000 [ 1.000,  1.000], mean action: 0.550 [0.000, 1.000],  loss: 4.701648, mae: 16.054844, mean_q: 31.782245, mean_eps: 0.500000\n",
            " 6478/8000: episode: 175, duration: 2.399s, episode steps: 138, steps per second:  58, episode reward: 138.000, mean reward:  1.000 [ 1.000,  1.000], mean action: 0.507 [0.000, 1.000],  loss: 6.443847, mae: 16.332937, mean_q: 32.152800, mean_eps: 0.500000\n",
            " 6678/8000: episode: 176, duration: 4.156s, episode steps: 200, steps per second:  48, episode reward: 200.000, mean reward:  1.000 [ 1.000,  1.000], mean action: 0.490 [0.000, 1.000],  loss: 6.580212, mae: 16.646835, mean_q: 32.783456, mean_eps: 0.500000\n",
            " 6761/8000: episode: 177, duration: 1.693s, episode steps:  83, steps per second:  49, episode reward: 83.000, mean reward:  1.000 [ 1.000,  1.000], mean action: 0.470 [0.000, 1.000],  loss: 7.347334, mae: 16.902716, mean_q: 33.219223, mean_eps: 0.500000\n",
            " 6948/8000: episode: 178, duration: 3.672s, episode steps: 187, steps per second:  51, episode reward: 187.000, mean reward:  1.000 [ 1.000,  1.000], mean action: 0.476 [0.000, 1.000],  loss: 6.301981, mae: 17.154383, mean_q: 33.860502, mean_eps: 0.500000\n",
            " 7144/8000: episode: 179, duration: 4.108s, episode steps: 196, steps per second:  48, episode reward: 196.000, mean reward:  1.000 [ 1.000,  1.000], mean action: 0.480 [0.000, 1.000],  loss: 5.290942, mae: 17.560838, mean_q: 34.774231, mean_eps: 0.500000\n",
            " 7265/8000: episode: 180, duration: 2.626s, episode steps: 121, steps per second:  46, episode reward: 121.000, mean reward:  1.000 [ 1.000,  1.000], mean action: 0.488 [0.000, 1.000],  loss: 5.578904, mae: 17.978794, mean_q: 35.658254, mean_eps: 0.500000\n",
            " 7465/8000: episode: 181, duration: 3.793s, episode steps: 200, steps per second:  53, episode reward: 200.000, mean reward:  1.000 [ 1.000,  1.000], mean action: 0.495 [0.000, 1.000],  loss: 6.874231, mae: 18.240061, mean_q: 36.039369, mean_eps: 0.500000\n",
            " 7665/8000: episode: 182, duration: 4.100s, episode steps: 200, steps per second:  49, episode reward: 200.000, mean reward:  1.000 [ 1.000,  1.000], mean action: 0.475 [0.000, 1.000],  loss: 6.696605, mae: 18.572715, mean_q: 36.726165, mean_eps: 0.500000\n",
            " 7718/8000: episode: 183, duration: 1.098s, episode steps:  53, steps per second:  48, episode reward: 53.000, mean reward:  1.000 [ 1.000,  1.000], mean action: 0.528 [0.000, 1.000],  loss: 6.161952, mae: 18.834072, mean_q: 37.436591, mean_eps: 0.500000\n",
            " 7918/8000: episode: 184, duration: 3.528s, episode steps: 200, steps per second:  57, episode reward: 200.000, mean reward:  1.000 [ 1.000,  1.000], mean action: 0.495 [0.000, 1.000],  loss: 6.888977, mae: 19.040191, mean_q: 37.728292, mean_eps: 0.500000\n",
            "done, took 161.003 seconds\n"
          ]
        },
        {
          "output_type": "display_data",
          "data": {
            "text/plain": [
              "<Figure size 432x288 with 1 Axes>"
            ],
            "image/png": "[encoded data removed]"
          },
          "metadata": {
            "needs_background": "light"
          }
        },
        {
          "output_type": "stream",
          "name": "stdout",
          "text": [
            "Testing for 20 episodes ...\n",
            "Episode 1: reward: 200.000, steps: 200\n",
            "Episode 2: reward: 200.000, steps: 200\n",
            "Episode 3: reward: 200.000, steps: 200\n",
            "Episode 4: reward: 200.000, steps: 200\n",
            "Episode 5: reward: 200.000, steps: 200\n",
            "Episode 6: reward: 200.000, steps: 200\n",
            "Episode 7: reward: 200.000, steps: 200\n",
            "Episode 8: reward: 200.000, steps: 200\n",
            "Episode 9: reward: 200.000, steps: 200\n",
            "Episode 10: reward: 200.000, steps: 200\n",
            "Episode 11: reward: 200.000, steps: 200\n",
            "Episode 12: reward: 200.000, steps: 200\n",
            "Episode 13: reward: 200.000, steps: 200\n",
            "Episode 14: reward: 200.000, steps: 200\n",
            "Episode 15: reward: 200.000, steps: 200\n",
            "Episode 16: reward: 200.000, steps: 200\n",
            "Episode 17: reward: 200.000, steps: 200\n",
            "Episode 18: reward: 200.000, steps: 200\n",
            "Episode 19: reward: 200.000, steps: 200\n",
            "Episode 20: reward: 200.000, steps: 200\n"
          ]
        },
        {
          "output_type": "execute_result",
          "data": {
            "text/plain": [
              "<keras.callbacks.History at 0x7fb170f05fd0>"
            ]
          },
          "metadata": {},
          "execution_count": 92
        }
      ]
    }
  ]
}