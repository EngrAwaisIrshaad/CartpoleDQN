{
  "nbformat": 4,
  "nbformat_minor": 0,
  "metadata": {
    "colab": {
      "name": "CartPoleDQN.ipynb",
      "provenance": [],
      "collapsed_sections": [],
      "include_colab_link": true
    },
    "kernelspec": {
      "name": "python3",
      "display_name": "Python 3"
    }
  },
  "cells": [
    {
      "cell_type": "markdown",
      "metadata": {
        "id": "view-in-github",
        "colab_type": "text"
      },
      "source": [
        "<a href=\"https://colab.research.google.com/github/Megacity1/CartpoleDQN/blob/main/Week%203%20Deep%20RL%202/CartPoleDQN.ipynb\" target=\"_parent\"><img src=\"https://colab.research.google.com/assets/colab-badge.svg\" alt=\"Open In Colab\"/></a>"
      ]
    },
    {
      "cell_type": "markdown",
      "metadata": {
        "id": "VKK5DA390wRe"
      },
      "source": [
        "# Deep Q Network (DQN) for CartPole Using Boltzmann Q Policy\n",
        "This exercise implements a DQN for CartPole using a Boltzmann Q policy for selecting the actions"
      ]
    },
    {
      "cell_type": "code",
      "metadata": {
        "id": "LGsC7cJ5jNcX",
        "colab": {
          "base_uri": "https://localhost:8080/"
        },
        "outputId": "cda73cbf-3020-40f4-e45e-7b87053448f1"
      },
      "source": [
        "# install keras rl2 (we need to install keras-rl2 so it works with the tensorflow 2 version that comes pre-installed with colab)\n",
        "!pip install keras-rl2"
      ],
      "execution_count": 57,
      "outputs": [
        {
          "output_type": "stream",
          "name": "stdout",
          "text": [
            "Requirement already satisfied: keras-rl2 in /usr/local/lib/python3.7/dist-packages (1.0.5)\n",
            "Requirement already satisfied: tensorflow in /usr/local/lib/python3.7/dist-packages (from keras-rl2) (2.8.0)\n",
            "Requirement already satisfied: keras-preprocessing>=1.1.1 in /usr/local/lib/python3.7/dist-packages (from tensorflow->keras-rl2) (1.1.2)\n",
            "Requirement already satisfied: protobuf>=3.9.2 in /usr/local/lib/python3.7/dist-packages (from tensorflow->keras-rl2) (3.17.3)\n",
            "Requirement already satisfied: tensorflow-io-gcs-filesystem>=0.23.1 in /usr/local/lib/python3.7/dist-packages (from tensorflow->keras-rl2) (0.24.0)\n",
            "Requirement already satisfied: libclang>=9.0.1 in /usr/local/lib/python3.7/dist-packages (from tensorflow->keras-rl2) (13.0.0)\n",
            "Requirement already satisfied: h5py>=2.9.0 in /usr/local/lib/python3.7/dist-packages (from tensorflow->keras-rl2) (3.1.0)\n",
            "Requirement already satisfied: opt-einsum>=2.3.2 in /usr/local/lib/python3.7/dist-packages (from tensorflow->keras-rl2) (3.3.0)\n",
            "Requirement already satisfied: gast>=0.2.1 in /usr/local/lib/python3.7/dist-packages (from tensorflow->keras-rl2) (0.5.3)\n",
            "Requirement already satisfied: grpcio<2.0,>=1.24.3 in /usr/local/lib/python3.7/dist-packages (from tensorflow->keras-rl2) (1.44.0)\n",
            "Requirement already satisfied: tensorboard<2.9,>=2.8 in /usr/local/lib/python3.7/dist-packages (from tensorflow->keras-rl2) (2.8.0)\n",
            "Requirement already satisfied: wrapt>=1.11.0 in /usr/local/lib/python3.7/dist-packages (from tensorflow->keras-rl2) (1.14.0)\n",
            "Requirement already satisfied: absl-py>=0.4.0 in /usr/local/lib/python3.7/dist-packages (from tensorflow->keras-rl2) (1.0.0)\n",
            "Requirement already satisfied: flatbuffers>=1.12 in /usr/local/lib/python3.7/dist-packages (from tensorflow->keras-rl2) (2.0)\n",
            "Requirement already satisfied: termcolor>=1.1.0 in /usr/local/lib/python3.7/dist-packages (from tensorflow->keras-rl2) (1.1.0)\n",
            "Requirement already satisfied: keras<2.9,>=2.8.0rc0 in /usr/local/lib/python3.7/dist-packages (from tensorflow->keras-rl2) (2.8.0)\n",
            "Requirement already satisfied: six>=1.12.0 in /usr/local/lib/python3.7/dist-packages (from tensorflow->keras-rl2) (1.15.0)\n",
            "Requirement already satisfied: tf-estimator-nightly==2.8.0.dev2021122109 in /usr/local/lib/python3.7/dist-packages (from tensorflow->keras-rl2) (2.8.0.dev2021122109)\n",
            "Requirement already satisfied: numpy>=1.20 in /usr/local/lib/python3.7/dist-packages (from tensorflow->keras-rl2) (1.21.5)\n",
            "Requirement already satisfied: astunparse>=1.6.0 in /usr/local/lib/python3.7/dist-packages (from tensorflow->keras-rl2) (1.6.3)\n",
            "Requirement already satisfied: typing-extensions>=3.6.6 in /usr/local/lib/python3.7/dist-packages (from tensorflow->keras-rl2) (3.10.0.2)\n",
            "Requirement already satisfied: setuptools in /usr/local/lib/python3.7/dist-packages (from tensorflow->keras-rl2) (57.4.0)\n",
            "Requirement already satisfied: google-pasta>=0.1.1 in /usr/local/lib/python3.7/dist-packages (from tensorflow->keras-rl2) (0.2.0)\n",
            "Requirement already satisfied: wheel<1.0,>=0.23.0 in /usr/local/lib/python3.7/dist-packages (from astunparse>=1.6.0->tensorflow->keras-rl2) (0.37.1)\n",
            "Requirement already satisfied: cached-property in /usr/local/lib/python3.7/dist-packages (from h5py>=2.9.0->tensorflow->keras-rl2) (1.5.2)\n",
            "Requirement already satisfied: google-auth-oauthlib<0.5,>=0.4.1 in /usr/local/lib/python3.7/dist-packages (from tensorboard<2.9,>=2.8->tensorflow->keras-rl2) (0.4.6)\n",
            "Requirement already satisfied: requests<3,>=2.21.0 in /usr/local/lib/python3.7/dist-packages (from tensorboard<2.9,>=2.8->tensorflow->keras-rl2) (2.23.0)\n",
            "Requirement already satisfied: werkzeug>=0.11.15 in /usr/local/lib/python3.7/dist-packages (from tensorboard<2.9,>=2.8->tensorflow->keras-rl2) (1.0.1)\n",
            "Requirement already satisfied: markdown>=2.6.8 in /usr/local/lib/python3.7/dist-packages (from tensorboard<2.9,>=2.8->tensorflow->keras-rl2) (3.3.6)\n",
            "Requirement already satisfied: google-auth<3,>=1.6.3 in /usr/local/lib/python3.7/dist-packages (from tensorboard<2.9,>=2.8->tensorflow->keras-rl2) (1.35.0)\n",
            "Requirement already satisfied: tensorboard-data-server<0.7.0,>=0.6.0 in /usr/local/lib/python3.7/dist-packages (from tensorboard<2.9,>=2.8->tensorflow->keras-rl2) (0.6.1)\n",
            "Requirement already satisfied: tensorboard-plugin-wit>=1.6.0 in /usr/local/lib/python3.7/dist-packages (from tensorboard<2.9,>=2.8->tensorflow->keras-rl2) (1.8.1)\n",
            "Requirement already satisfied: pyasn1-modules>=0.2.1 in /usr/local/lib/python3.7/dist-packages (from google-auth<3,>=1.6.3->tensorboard<2.9,>=2.8->tensorflow->keras-rl2) (0.2.8)\n",
            "Requirement already satisfied: cachetools<5.0,>=2.0.0 in /usr/local/lib/python3.7/dist-packages (from google-auth<3,>=1.6.3->tensorboard<2.9,>=2.8->tensorflow->keras-rl2) (4.2.4)\n",
            "Requirement already satisfied: rsa<5,>=3.1.4 in /usr/local/lib/python3.7/dist-packages (from google-auth<3,>=1.6.3->tensorboard<2.9,>=2.8->tensorflow->keras-rl2) (4.8)\n",
            "Requirement already satisfied: requests-oauthlib>=0.7.0 in /usr/local/lib/python3.7/dist-packages (from google-auth-oauthlib<0.5,>=0.4.1->tensorboard<2.9,>=2.8->tensorflow->keras-rl2) (1.3.1)\n",
            "Requirement already satisfied: importlib-metadata>=4.4 in /usr/local/lib/python3.7/dist-packages (from markdown>=2.6.8->tensorboard<2.9,>=2.8->tensorflow->keras-rl2) (4.11.3)\n",
            "Requirement already satisfied: zipp>=0.5 in /usr/local/lib/python3.7/dist-packages (from importlib-metadata>=4.4->markdown>=2.6.8->tensorboard<2.9,>=2.8->tensorflow->keras-rl2) (3.7.0)\n",
            "Requirement already satisfied: pyasn1<0.5.0,>=0.4.6 in /usr/local/lib/python3.7/dist-packages (from pyasn1-modules>=0.2.1->google-auth<3,>=1.6.3->tensorboard<2.9,>=2.8->tensorflow->keras-rl2) (0.4.8)\n",
            "Requirement already satisfied: chardet<4,>=3.0.2 in /usr/local/lib/python3.7/dist-packages (from requests<3,>=2.21.0->tensorboard<2.9,>=2.8->tensorflow->keras-rl2) (3.0.4)\n",
            "Requirement already satisfied: urllib3!=1.25.0,!=1.25.1,<1.26,>=1.21.1 in /usr/local/lib/python3.7/dist-packages (from requests<3,>=2.21.0->tensorboard<2.9,>=2.8->tensorflow->keras-rl2) (1.24.3)\n",
            "Requirement already satisfied: idna<3,>=2.5 in /usr/local/lib/python3.7/dist-packages (from requests<3,>=2.21.0->tensorboard<2.9,>=2.8->tensorflow->keras-rl2) (2.10)\n",
            "Requirement already satisfied: certifi>=2017.4.17 in /usr/local/lib/python3.7/dist-packages (from requests<3,>=2.21.0->tensorboard<2.9,>=2.8->tensorflow->keras-rl2) (2021.10.8)\n",
            "Requirement already satisfied: oauthlib>=3.0.0 in /usr/local/lib/python3.7/dist-packages (from requests-oauthlib>=0.7.0->google-auth-oauthlib<0.5,>=0.4.1->tensorboard<2.9,>=2.8->tensorflow->keras-rl2) (3.2.0)\n"
          ]
        }
      ]
    },
    {
      "cell_type": "code",
      "metadata": {
        "id": "XMIHLgQ3Z-lF",
        "colab": {
          "base_uri": "https://localhost:8080/"
        },
        "outputId": "3d5a8608-456f-4127-ce8a-f551e5f4e4f3"
      },
      "source": [
        "!pip install gym"
      ],
      "execution_count": 58,
      "outputs": [
        {
          "output_type": "stream",
          "name": "stdout",
          "text": [
            "Requirement already satisfied: gym in /usr/local/lib/python3.7/dist-packages (0.17.3)\n",
            "Requirement already satisfied: numpy>=1.10.4 in /usr/local/lib/python3.7/dist-packages (from gym) (1.21.5)\n",
            "Requirement already satisfied: scipy in /usr/local/lib/python3.7/dist-packages (from gym) (1.4.1)\n",
            "Requirement already satisfied: pyglet<=1.5.0,>=1.4.0 in /usr/local/lib/python3.7/dist-packages (from gym) (1.5.0)\n",
            "Requirement already satisfied: cloudpickle<1.7.0,>=1.2.0 in /usr/local/lib/python3.7/dist-packages (from gym) (1.3.0)\n",
            "Requirement already satisfied: future in /usr/local/lib/python3.7/dist-packages (from pyglet<=1.5.0,>=1.4.0->gym) (0.16.0)\n"
          ]
        }
      ]
    },
    {
      "cell_type": "code",
      "metadata": {
        "id": "M0AMLzq08ap0",
        "colab": {
          "base_uri": "https://localhost:8080/"
        },
        "outputId": "77b380e1-6c3d-4bce-8233-a8ac01deaf26"
      },
      "source": [
        "# load the gym module\n",
        "import gym\n",
        "import matplotlib.pyplot as plt\n",
        "# import the usual Keras modules for creating deep neural networks\n",
        "from keras import Sequential\n",
        "from keras.layers import Input, Flatten, Dense\n",
        "!pip install Adam\n",
        "#from keras.optimizers import Adam\n",
        "from tensorflow.keras.optimizers import Adam\n",
        "ENV_NAME = 'CartPole-v0'\n",
        "env = gym.make(ENV_NAME)"
      ],
      "execution_count": 62,
      "outputs": [
        {
          "output_type": "stream",
          "name": "stdout",
          "text": [
            "Requirement already satisfied: Adam in /usr/local/lib/python3.7/dist-packages (0.0.0.dev0)\n"
          ]
        }
      ]
    },
    {
      "cell_type": "markdown",
      "metadata": {
        "id": "ll6bNdUm54WS"
      },
      "source": [
        "Implementation of DQN for CartPole, applying policy BoltzmannQPolicy"
      ]
    },
    {
      "cell_type": "markdown",
      "metadata": {
        "id": "RSCrPKNy40PC"
      },
      "source": [
        "##Implement DQN with BoltzmannGumbelQPolicy"
      ]
    },
    {
      "cell_type": "code",
      "metadata": {
        "id": "efM9jkXr5A3c",
        "colab": {
          "base_uri": "https://localhost:8080/",
          "height": 1000
        },
        "outputId": "ac8ee802-cf57-4cd5-fb6a-66405bfc9062"
      },
      "source": [
        "import rl\n",
        "from rl.memory import SequentialMemory  # import the exerience replay buffer module\n",
        "from rl.policy import BoltzmannGumbelQPolicy\n",
        "from rl.policy import LinearAnnealedPolicy\n",
        "from rl.policy import EpsGreedyQPolicy\n",
        "from rl.agents.dqn import DQNAgent      # import the DQN agent\n",
        "\n",
        "# setup experience replay buffer\n",
        "memory = SequentialMemory(limit=10000, window_length=1)\n",
        "\n",
        "policy = LinearAnnealedPolicy(EpsGreedyQPolicy(), \n",
        "                               attr='eps',            \n",
        "                               value_max=5.,\n",
        "                               value_min=.5, \n",
        "                               value_test=.05,\n",
        "                               nb_steps=200)\n",
        "# Q-Network\n",
        "model = Sequential()\n",
        "model.add(Input(shape=(1,env.observation_space.shape[0])))  # The input is 1 observation vector, and the number of observations in that vector \n",
        "model.add(Flatten())\n",
        "model.add(Dense(16, activation='relu'))\n",
        "# add extra layers here\n",
        "model.add(Dense(env.action_space.n, activation='linear'))   # the output is the number of actions in the action space\n",
        "\n",
        "print(model.summary())\n",
        "\n",
        "# define the agent\n",
        "dqn = DQNAgent(model=model, \n",
        "               nb_actions=env.action_space.n,\n",
        "               memory=memory,\n",
        "               nb_steps_warmup=20,\n",
        "               target_model_update=1e-2, \n",
        "               policy=policy) \n",
        "\n",
        "dqn.compile(Adam(lr=1e-3), metrics=['mae'])\n",
        "\n",
        "history = dqn.fit(env, nb_steps=8000, visualize=False, verbose=2)\n",
        "\n",
        "# summarize the history for number  of episode steps\n",
        "plt.plot(history.history['nb_episode_steps'])\n",
        "plt.ylabel('nb_episode_steps')\n",
        "plt.xlabel('episodes')\n",
        "plt.show()\n",
        "\n",
        "dqn.test(env, nb_episodes=20, visualize=False)"
      ],
      "execution_count": 95,
      "outputs": [
        {
          "output_type": "stream",
          "name": "stdout",
          "text": [
            "Model: \"sequential_46\"\n",
            "_________________________________________________________________\n",
            " Layer (type)                Output Shape              Param #   \n",
            "=================================================================\n",
            " flatten_44 (Flatten)        (None, 4)                 0         \n",
            "                                                                 \n",
            " dense_89 (Dense)            (None, 16)                80        \n",
            "                                                                 \n",
            " dense_90 (Dense)            (None, 2)                 34        \n",
            "                                                                 \n",
            "=================================================================\n",
            "Total params: 114\n",
            "Trainable params: 114\n",
            "Non-trainable params: 0\n",
            "_________________________________________________________________\n",
            "None\n"
          ]
        },
        {
          "output_type": "stream",
          "name": "stderr",
          "text": [
            "/usr/local/lib/python3.7/dist-packages/keras/optimizer_v2/adam.py:105: UserWarning: The `lr` argument is deprecated, use `learning_rate` instead.\n",
            "  super(Adam, self).__init__(name, **kwargs)\n"
          ]
        },
        {
          "output_type": "stream",
          "name": "stdout",
          "text": [
            "Training for 8000 steps ...\n"
          ]
        },
        {
          "output_type": "stream",
          "name": "stderr",
          "text": [
            "/usr/local/lib/python3.7/dist-packages/keras/engine/training_v1.py:2079: UserWarning: `Model.state_updates` will be removed in a future version. This property should not be used in TensorFlow 2.0, as `updates` are applied automatically.\n",
            "  updates=self.state_updates,\n"
          ]
        },
        {
          "output_type": "stream",
          "name": "stdout",
          "text": [
            "   11/8000: episode: 1, duration: 4.027s, episode steps:  11, steps per second:   3, episode reward: 11.000, mean reward:  1.000 [ 1.000,  1.000], mean action: 0.727 [0.000, 1.000],  loss: --, mae: --, mean_q: --, mean_eps: --\n"
          ]
        },
        {
          "output_type": "stream",
          "name": "stderr",
          "text": [
            "/usr/local/lib/python3.7/dist-packages/rl/memory.py:37: UserWarning: Not enough entries to sample without replacement. Consider increasing your warm-up phase to avoid oversampling!\n",
            "  warnings.warn('Not enough entries to sample without replacement. Consider increasing your warm-up phase to avoid oversampling!')\n",
            "/usr/local/lib/python3.7/dist-packages/keras/engine/training_v1.py:2079: UserWarning: `Model.state_updates` will be removed in a future version. This property should not be used in TensorFlow 2.0, as `updates` are applied automatically.\n",
            "  updates=self.state_updates,\n"
          ]
        },
        {
          "output_type": "stream",
          "name": "stdout",
          "text": [
            "   42/8000: episode: 2, duration: 14.159s, episode steps:  31, steps per second:   2, episode reward: 31.000, mean reward:  1.000 [ 1.000,  1.000], mean action: 0.613 [0.000, 1.000],  loss: 0.552772, mae: 0.561661, mean_q: 0.009814, mean_eps: 4.302500\n",
            "   55/8000: episode: 3, duration: 0.408s, episode steps:  13, steps per second:  32, episode reward: 13.000, mean reward:  1.000 [ 1.000,  1.000], mean action: 0.308 [0.000, 1.000],  loss: 0.473358, mae: 0.518824, mean_q: 0.071483, mean_eps: 3.920000\n",
            "   74/8000: episode: 4, duration: 0.544s, episode steps:  19, steps per second:  35, episode reward: 19.000, mean reward:  1.000 [ 1.000,  1.000], mean action: 0.421 [0.000, 1.000],  loss: 0.436298, mae: 0.526123, mean_q: 0.164949, mean_eps: 3.560000\n",
            "   91/8000: episode: 5, duration: 0.478s, episode steps:  17, steps per second:  36, episode reward: 17.000, mean reward:  1.000 [ 1.000,  1.000], mean action: 0.588 [0.000, 1.000],  loss: 0.401781, mae: 0.537781, mean_q: 0.229113, mean_eps: 3.155000\n",
            "  105/8000: episode: 6, duration: 0.430s, episode steps:  14, steps per second:  33, episode reward: 14.000, mean reward:  1.000 [ 1.000,  1.000], mean action: 0.286 [0.000, 1.000],  loss: 0.379369, mae: 0.564876, mean_q: 0.311506, mean_eps: 2.806250\n",
            "  124/8000: episode: 7, duration: 0.528s, episode steps:  19, steps per second:  36, episode reward: 19.000, mean reward:  1.000 [ 1.000,  1.000], mean action: 0.526 [0.000, 1.000],  loss: 0.351620, mae: 0.578449, mean_q: 0.392738, mean_eps: 2.435000\n",
            "  138/8000: episode: 8, duration: 0.358s, episode steps:  14, steps per second:  39, episode reward: 14.000, mean reward:  1.000 [ 1.000,  1.000], mean action: 0.714 [0.000, 1.000],  loss: 0.327522, mae: 0.593352, mean_q: 0.449801, mean_eps: 2.063750\n",
            "  156/8000: episode: 9, duration: 0.487s, episode steps:  18, steps per second:  37, episode reward: 18.000, mean reward:  1.000 [ 1.000,  1.000], mean action: 0.389 [0.000, 1.000],  loss: 0.306793, mae: 0.620617, mean_q: 0.550649, mean_eps: 1.703750\n",
            "  176/8000: episode: 10, duration: 0.543s, episode steps:  20, steps per second:  37, episode reward: 20.000, mean reward:  1.000 [ 1.000,  1.000], mean action: 0.550 [0.000, 1.000],  loss: 0.276156, mae: 0.643539, mean_q: 0.675751, mean_eps: 1.276250\n",
            "  200/8000: episode: 11, duration: 1.101s, episode steps:  24, steps per second:  22, episode reward: 24.000, mean reward:  1.000 [ 1.000,  1.000], mean action: 0.292 [0.000, 1.000],  loss: 0.256375, mae: 0.681062, mean_q: 0.776354, mean_eps: 0.781250\n",
            "  217/8000: episode: 12, duration: 0.624s, episode steps:  17, steps per second:  27, episode reward: 17.000, mean reward:  1.000 [ 1.000,  1.000], mean action: 0.294 [0.000, 1.000],  loss: 0.234297, mae: 0.737841, mean_q: 0.966972, mean_eps: 0.500000\n",
            "  230/8000: episode: 13, duration: 0.369s, episode steps:  13, steps per second:  35, episode reward: 13.000, mean reward:  1.000 [ 1.000,  1.000], mean action: 0.231 [0.000, 1.000],  loss: 0.208736, mae: 0.774034, mean_q: 1.103334, mean_eps: 0.500000\n",
            "  240/8000: episode: 14, duration: 0.317s, episode steps:  10, steps per second:  32, episode reward: 10.000, mean reward:  1.000 [ 1.000,  1.000], mean action: 0.200 [0.000, 1.000],  loss: 0.216584, mae: 0.815829, mean_q: 1.217554, mean_eps: 0.500000\n",
            "  249/8000: episode: 15, duration: 0.295s, episode steps:   9, steps per second:  31, episode reward:  9.000, mean reward:  1.000 [ 1.000,  1.000], mean action: 0.333 [0.000, 1.000],  loss: 0.213640, mae: 0.864535, mean_q: 1.319024, mean_eps: 0.500000\n",
            "  265/8000: episode: 16, duration: 0.442s, episode steps:  16, steps per second:  36, episode reward: 16.000, mean reward:  1.000 [ 1.000,  1.000], mean action: 0.250 [0.000, 1.000],  loss: 0.197266, mae: 0.903016, mean_q: 1.421426, mean_eps: 0.500000\n",
            "  277/8000: episode: 17, duration: 0.402s, episode steps:  12, steps per second:  30, episode reward: 12.000, mean reward:  1.000 [ 1.000,  1.000], mean action: 0.333 [0.000, 1.000],  loss: 0.210228, mae: 0.963506, mean_q: 1.556423, mean_eps: 0.500000\n",
            "  298/8000: episode: 18, duration: 0.600s, episode steps:  21, steps per second:  35, episode reward: 21.000, mean reward:  1.000 [ 1.000,  1.000], mean action: 0.381 [0.000, 1.000],  loss: 0.186047, mae: 1.003112, mean_q: 1.650902, mean_eps: 0.500000\n",
            "  308/8000: episode: 19, duration: 0.296s, episode steps:  10, steps per second:  34, episode reward: 10.000, mean reward:  1.000 [ 1.000,  1.000], mean action: 0.000 [0.000, 0.000],  loss: 0.218580, mae: 1.087005, mean_q: 1.857272, mean_eps: 0.500000\n",
            "  332/8000: episode: 20, duration: 0.662s, episode steps:  24, steps per second:  36, episode reward: 24.000, mean reward:  1.000 [ 1.000,  1.000], mean action: 0.375 [0.000, 1.000],  loss: 0.232366, mae: 1.161789, mean_q: 2.044477, mean_eps: 0.500000\n",
            "  346/8000: episode: 21, duration: 0.412s, episode steps:  14, steps per second:  34, episode reward: 14.000, mean reward:  1.000 [ 1.000,  1.000], mean action: 0.429 [0.000, 1.000],  loss: 0.263942, mae: 1.243550, mean_q: 2.182643, mean_eps: 0.500000\n",
            "  356/8000: episode: 22, duration: 0.301s, episode steps:  10, steps per second:  33, episode reward: 10.000, mean reward:  1.000 [ 1.000,  1.000], mean action: 0.100 [0.000, 1.000],  loss: 0.256358, mae: 1.235664, mean_q: 2.200195, mean_eps: 0.500000\n",
            "  367/8000: episode: 23, duration: 0.286s, episode steps:  11, steps per second:  38, episode reward: 11.000, mean reward:  1.000 [ 1.000,  1.000], mean action: 0.182 [0.000, 1.000],  loss: 0.304923, mae: 1.316944, mean_q: 2.364116, mean_eps: 0.500000\n",
            "  388/8000: episode: 24, duration: 0.585s, episode steps:  21, steps per second:  36, episode reward: 21.000, mean reward:  1.000 [ 1.000,  1.000], mean action: 0.286 [0.000, 1.000],  loss: 0.282060, mae: 1.357676, mean_q: 2.435040, mean_eps: 0.500000\n",
            "  400/8000: episode: 25, duration: 0.328s, episode steps:  12, steps per second:  37, episode reward: 12.000, mean reward:  1.000 [ 1.000,  1.000], mean action: 0.250 [0.000, 1.000],  loss: 0.306447, mae: 1.471630, mean_q: 2.713329, mean_eps: 0.500000\n",
            "  411/8000: episode: 26, duration: 0.287s, episode steps:  11, steps per second:  38, episode reward: 11.000, mean reward:  1.000 [ 1.000,  1.000], mean action: 0.091 [0.000, 1.000],  loss: 0.414428, mae: 1.525322, mean_q: 2.767723, mean_eps: 0.500000\n",
            "  423/8000: episode: 27, duration: 0.341s, episode steps:  12, steps per second:  35, episode reward: 12.000, mean reward:  1.000 [ 1.000,  1.000], mean action: 0.167 [0.000, 1.000],  loss: 0.295470, mae: 1.524807, mean_q: 2.807016, mean_eps: 0.500000\n",
            "  432/8000: episode: 28, duration: 0.235s, episode steps:   9, steps per second:  38, episode reward:  9.000, mean reward:  1.000 [ 1.000,  1.000], mean action: 0.111 [0.000, 1.000],  loss: 0.444307, mae: 1.632834, mean_q: 3.023374, mean_eps: 0.500000\n",
            "  444/8000: episode: 29, duration: 0.234s, episode steps:  12, steps per second:  51, episode reward: 12.000, mean reward:  1.000 [ 1.000,  1.000], mean action: 0.333 [0.000, 1.000],  loss: 0.450771, mae: 1.643404, mean_q: 3.034448, mean_eps: 0.500000\n",
            "  453/8000: episode: 30, duration: 0.162s, episode steps:   9, steps per second:  56, episode reward:  9.000, mean reward:  1.000 [ 1.000,  1.000], mean action: 0.000 [0.000, 0.000],  loss: 0.362598, mae: 1.661580, mean_q: 3.073919, mean_eps: 0.500000\n",
            "  462/8000: episode: 31, duration: 0.166s, episode steps:   9, steps per second:  54, episode reward:  9.000, mean reward:  1.000 [ 1.000,  1.000], mean action: 0.222 [0.000, 1.000],  loss: 0.374900, mae: 1.658770, mean_q: 3.086311, mean_eps: 0.500000\n",
            "  470/8000: episode: 32, duration: 0.134s, episode steps:   8, steps per second:  60, episode reward:  8.000, mean reward:  1.000 [ 1.000,  1.000], mean action: 0.125 [0.000, 1.000],  loss: 0.514306, mae: 1.758113, mean_q: 3.274284, mean_eps: 0.500000\n",
            "  499/8000: episode: 33, duration: 0.431s, episode steps:  29, steps per second:  67, episode reward: 29.000, mean reward:  1.000 [ 1.000,  1.000], mean action: 0.345 [0.000, 1.000],  loss: 0.351743, mae: 1.795071, mean_q: 3.407965, mean_eps: 0.500000\n",
            "  525/8000: episode: 34, duration: 0.682s, episode steps:  26, steps per second:  38, episode reward: 26.000, mean reward:  1.000 [ 1.000,  1.000], mean action: 0.385 [0.000, 1.000],  loss: 0.525119, mae: 1.925709, mean_q: 3.663238, mean_eps: 0.500000\n",
            "  537/8000: episode: 35, duration: 0.303s, episode steps:  12, steps per second:  40, episode reward: 12.000, mean reward:  1.000 [ 1.000,  1.000], mean action: 0.167 [0.000, 1.000],  loss: 0.514716, mae: 2.021623, mean_q: 3.776264, mean_eps: 0.500000\n",
            "  548/8000: episode: 36, duration: 0.261s, episode steps:  11, steps per second:  42, episode reward: 11.000, mean reward:  1.000 [ 1.000,  1.000], mean action: 0.273 [0.000, 1.000],  loss: 0.378601, mae: 1.980377, mean_q: 3.870676, mean_eps: 0.500000\n",
            "  568/8000: episode: 37, duration: 0.494s, episode steps:  20, steps per second:  40, episode reward: 20.000, mean reward:  1.000 [ 1.000,  1.000], mean action: 0.300 [0.000, 1.000],  loss: 0.468892, mae: 2.083745, mean_q: 3.987011, mean_eps: 0.500000\n",
            "  582/8000: episode: 38, duration: 0.328s, episode steps:  14, steps per second:  43, episode reward: 14.000, mean reward:  1.000 [ 1.000,  1.000], mean action: 0.286 [0.000, 1.000],  loss: 0.458900, mae: 2.137952, mean_q: 4.056448, mean_eps: 0.500000\n",
            "  593/8000: episode: 39, duration: 0.286s, episode steps:  11, steps per second:  38, episode reward: 11.000, mean reward:  1.000 [ 1.000,  1.000], mean action: 0.091 [0.000, 1.000],  loss: 0.563238, mae: 2.210857, mean_q: 4.199425, mean_eps: 0.500000\n",
            "  614/8000: episode: 40, duration: 0.483s, episode steps:  21, steps per second:  44, episode reward: 21.000, mean reward:  1.000 [ 1.000,  1.000], mean action: 0.333 [0.000, 1.000],  loss: 0.556014, mae: 2.279749, mean_q: 4.360636, mean_eps: 0.500000\n",
            "  636/8000: episode: 41, duration: 0.425s, episode steps:  22, steps per second:  52, episode reward: 22.000, mean reward:  1.000 [ 1.000,  1.000], mean action: 0.364 [0.000, 1.000],  loss: 0.499899, mae: 2.327046, mean_q: 4.451870, mean_eps: 0.500000\n",
            "  646/8000: episode: 42, duration: 0.181s, episode steps:  10, steps per second:  55, episode reward: 10.000, mean reward:  1.000 [ 1.000,  1.000], mean action: 0.100 [0.000, 1.000],  loss: 0.489863, mae: 2.370203, mean_q: 4.632952, mean_eps: 0.500000\n",
            "  666/8000: episode: 43, duration: 0.315s, episode steps:  20, steps per second:  63, episode reward: 20.000, mean reward:  1.000 [ 1.000,  1.000], mean action: 0.300 [0.000, 1.000],  loss: 0.683670, mae: 2.464861, mean_q: 4.705684, mean_eps: 0.500000\n",
            "  676/8000: episode: 44, duration: 0.159s, episode steps:  10, steps per second:  63, episode reward: 10.000, mean reward:  1.000 [ 1.000,  1.000], mean action: 0.100 [0.000, 1.000],  loss: 0.565517, mae: 2.513454, mean_q: 4.790587, mean_eps: 0.500000\n",
            "  690/8000: episode: 45, duration: 0.206s, episode steps:  14, steps per second:  68, episode reward: 14.000, mean reward:  1.000 [ 1.000,  1.000], mean action: 0.143 [0.000, 1.000],  loss: 0.684435, mae: 2.562776, mean_q: 4.855328, mean_eps: 0.500000\n",
            "  703/8000: episode: 46, duration: 0.207s, episode steps:  13, steps per second:  63, episode reward: 13.000, mean reward:  1.000 [ 1.000,  1.000], mean action: 0.308 [0.000, 1.000],  loss: 0.538634, mae: 2.594377, mean_q: 4.954551, mean_eps: 0.500000\n",
            "  712/8000: episode: 47, duration: 0.142s, episode steps:   9, steps per second:  63, episode reward:  9.000, mean reward:  1.000 [ 1.000,  1.000], mean action: 0.000 [0.000, 0.000],  loss: 0.501811, mae: 2.631722, mean_q: 5.057765, mean_eps: 0.500000\n",
            "  724/8000: episode: 48, duration: 0.194s, episode steps:  12, steps per second:  62, episode reward: 12.000, mean reward:  1.000 [ 1.000,  1.000], mean action: 0.333 [0.000, 1.000],  loss: 0.684508, mae: 2.712989, mean_q: 5.143840, mean_eps: 0.500000\n",
            "  736/8000: episode: 49, duration: 0.220s, episode steps:  12, steps per second:  55, episode reward: 12.000, mean reward:  1.000 [ 1.000,  1.000], mean action: 0.417 [0.000, 1.000],  loss: 0.549446, mae: 2.722865, mean_q: 5.220583, mean_eps: 0.500000\n",
            "  749/8000: episode: 50, duration: 0.214s, episode steps:  13, steps per second:  61, episode reward: 13.000, mean reward:  1.000 [ 1.000,  1.000], mean action: 0.154 [0.000, 1.000],  loss: 0.585175, mae: 2.777808, mean_q: 5.293869, mean_eps: 0.500000\n",
            "  766/8000: episode: 51, duration: 0.400s, episode steps:  17, steps per second:  42, episode reward: 17.000, mean reward:  1.000 [ 1.000,  1.000], mean action: 0.353 [0.000, 1.000],  loss: 0.605289, mae: 2.831734, mean_q: 5.389682, mean_eps: 0.500000\n",
            "  779/8000: episode: 52, duration: 0.355s, episode steps:  13, steps per second:  37, episode reward: 13.000, mean reward:  1.000 [ 1.000,  1.000], mean action: 0.231 [0.000, 1.000],  loss: 0.492477, mae: 2.850669, mean_q: 5.519790, mean_eps: 0.500000\n",
            "  790/8000: episode: 53, duration: 0.308s, episode steps:  11, steps per second:  36, episode reward: 11.000, mean reward:  1.000 [ 1.000,  1.000], mean action: 0.545 [0.000, 1.000],  loss: 0.632893, mae: 2.917693, mean_q: 5.571397, mean_eps: 0.500000\n",
            "  801/8000: episode: 54, duration: 0.274s, episode steps:  11, steps per second:  40, episode reward: 11.000, mean reward:  1.000 [ 1.000,  1.000], mean action: 0.182 [0.000, 1.000],  loss: 0.512700, mae: 2.943009, mean_q: 5.638402, mean_eps: 0.500000\n",
            "  820/8000: episode: 55, duration: 0.490s, episode steps:  19, steps per second:  39, episode reward: 19.000, mean reward:  1.000 [ 1.000,  1.000], mean action: 0.368 [0.000, 1.000],  loss: 0.580128, mae: 3.005654, mean_q: 5.686560, mean_eps: 0.500000\n",
            "  831/8000: episode: 56, duration: 0.284s, episode steps:  11, steps per second:  39, episode reward: 11.000, mean reward:  1.000 [ 1.000,  1.000], mean action: 0.091 [0.000, 1.000],  loss: 0.766136, mae: 3.069599, mean_q: 5.746314, mean_eps: 0.500000\n",
            "  846/8000: episode: 57, duration: 0.397s, episode steps:  15, steps per second:  38, episode reward: 15.000, mean reward:  1.000 [ 1.000,  1.000], mean action: 0.200 [0.000, 1.000],  loss: 0.544480, mae: 3.049691, mean_q: 5.812460, mean_eps: 0.500000\n",
            "  855/8000: episode: 58, duration: 0.219s, episode steps:   9, steps per second:  41, episode reward:  9.000, mean reward:  1.000 [ 1.000,  1.000], mean action: 0.111 [0.000, 1.000],  loss: 0.628316, mae: 3.090106, mean_q: 5.908218, mean_eps: 0.500000\n",
            "  867/8000: episode: 59, duration: 0.300s, episode steps:  12, steps per second:  40, episode reward: 12.000, mean reward:  1.000 [ 1.000,  1.000], mean action: 0.167 [0.000, 1.000],  loss: 0.567397, mae: 3.152165, mean_q: 6.068284, mean_eps: 0.500000\n",
            "  892/8000: episode: 60, duration: 0.401s, episode steps:  25, steps per second:  62, episode reward: 25.000, mean reward:  1.000 [ 1.000,  1.000], mean action: 0.400 [0.000, 1.000],  loss: 0.588147, mae: 3.215198, mean_q: 6.005119, mean_eps: 0.500000\n",
            "  906/8000: episode: 61, duration: 0.228s, episode steps:  14, steps per second:  61, episode reward: 14.000, mean reward:  1.000 [ 1.000,  1.000], mean action: 0.286 [0.000, 1.000],  loss: 0.523836, mae: 3.253174, mean_q: 6.140788, mean_eps: 0.500000\n",
            "  922/8000: episode: 62, duration: 0.257s, episode steps:  16, steps per second:  62, episode reward: 16.000, mean reward:  1.000 [ 1.000,  1.000], mean action: 0.312 [0.000, 1.000],  loss: 0.554677, mae: 3.304292, mean_q: 6.327491, mean_eps: 0.500000\n",
            "  934/8000: episode: 63, duration: 0.209s, episode steps:  12, steps per second:  57, episode reward: 12.000, mean reward:  1.000 [ 1.000,  1.000], mean action: 0.250 [0.000, 1.000],  loss: 0.481355, mae: 3.342628, mean_q: 6.391203, mean_eps: 0.500000\n",
            "  951/8000: episode: 64, duration: 0.411s, episode steps:  17, steps per second:  41, episode reward: 17.000, mean reward:  1.000 [ 1.000,  1.000], mean action: 0.235 [0.000, 1.000],  loss: 0.517651, mae: 3.389800, mean_q: 6.386929, mean_eps: 0.500000\n",
            "  964/8000: episode: 65, duration: 0.366s, episode steps:  13, steps per second:  35, episode reward: 13.000, mean reward:  1.000 [ 1.000,  1.000], mean action: 0.308 [0.000, 1.000],  loss: 0.550218, mae: 3.439490, mean_q: 6.430776, mean_eps: 0.500000\n",
            "  980/8000: episode: 66, duration: 0.365s, episode steps:  16, steps per second:  44, episode reward: 16.000, mean reward:  1.000 [ 1.000,  1.000], mean action: 0.438 [0.000, 1.000],  loss: 0.548428, mae: 3.500757, mean_q: 6.613409, mean_eps: 0.500000\n",
            "  991/8000: episode: 67, duration: 0.216s, episode steps:  11, steps per second:  51, episode reward: 11.000, mean reward:  1.000 [ 1.000,  1.000], mean action: 0.364 [0.000, 1.000],  loss: 0.410721, mae: 3.497584, mean_q: 6.627829, mean_eps: 0.500000\n",
            " 1008/8000: episode: 68, duration: 0.285s, episode steps:  17, steps per second:  60, episode reward: 17.000, mean reward:  1.000 [ 1.000,  1.000], mean action: 0.471 [0.000, 1.000],  loss: 0.617402, mae: 3.540554, mean_q: 6.646024, mean_eps: 0.500000\n",
            " 1026/8000: episode: 69, duration: 0.265s, episode steps:  18, steps per second:  68, episode reward: 18.000, mean reward:  1.000 [ 1.000,  1.000], mean action: 0.333 [0.000, 1.000],  loss: 0.539016, mae: 3.580287, mean_q: 6.757519, mean_eps: 0.500000\n",
            " 1038/8000: episode: 70, duration: 0.239s, episode steps:  12, steps per second:  50, episode reward: 12.000, mean reward:  1.000 [ 1.000,  1.000], mean action: 0.250 [0.000, 1.000],  loss: 0.584759, mae: 3.623042, mean_q: 6.822669, mean_eps: 0.500000\n",
            " 1050/8000: episode: 71, duration: 0.240s, episode steps:  12, steps per second:  50, episode reward: 12.000, mean reward:  1.000 [ 1.000,  1.000], mean action: 0.333 [0.000, 1.000],  loss: 0.569334, mae: 3.659934, mean_q: 6.868190, mean_eps: 0.500000\n",
            " 1069/8000: episode: 72, duration: 0.403s, episode steps:  19, steps per second:  47, episode reward: 19.000, mean reward:  1.000 [ 1.000,  1.000], mean action: 0.421 [0.000, 1.000],  loss: 0.431365, mae: 3.690555, mean_q: 7.016202, mean_eps: 0.500000\n",
            " 1079/8000: episode: 73, duration: 0.182s, episode steps:  10, steps per second:  55, episode reward: 10.000, mean reward:  1.000 [ 1.000,  1.000], mean action: 0.900 [0.000, 1.000],  loss: 0.777001, mae: 3.709677, mean_q: 6.941114, mean_eps: 0.500000\n",
            " 1119/8000: episode: 74, duration: 0.831s, episode steps:  40, steps per second:  48, episode reward: 40.000, mean reward:  1.000 [ 1.000,  1.000], mean action: 0.475 [0.000, 1.000],  loss: 0.549467, mae: 3.796996, mean_q: 7.166203, mean_eps: 0.500000\n",
            " 1144/8000: episode: 75, duration: 0.686s, episode steps:  25, steps per second:  36, episode reward: 25.000, mean reward:  1.000 [ 1.000,  1.000], mean action: 0.480 [0.000, 1.000],  loss: 1.243461, mae: 3.925789, mean_q: 7.222218, mean_eps: 0.500000\n",
            " 1159/8000: episode: 76, duration: 0.428s, episode steps:  15, steps per second:  35, episode reward: 15.000, mean reward:  1.000 [ 1.000,  1.000], mean action: 0.333 [0.000, 1.000],  loss: 0.676525, mae: 3.886957, mean_q: 7.290924, mean_eps: 0.500000\n",
            " 1178/8000: episode: 77, duration: 0.371s, episode steps:  19, steps per second:  51, episode reward: 19.000, mean reward:  1.000 [ 1.000,  1.000], mean action: 0.474 [0.000, 1.000],  loss: 0.620951, mae: 3.941972, mean_q: 7.421289, mean_eps: 0.500000\n",
            " 1203/8000: episode: 78, duration: 0.415s, episode steps:  25, steps per second:  60, episode reward: 25.000, mean reward:  1.000 [ 1.000,  1.000], mean action: 0.440 [0.000, 1.000],  loss: 0.532403, mae: 3.971904, mean_q: 7.521791, mean_eps: 0.500000\n",
            " 1214/8000: episode: 79, duration: 0.195s, episode steps:  11, steps per second:  57, episode reward: 11.000, mean reward:  1.000 [ 1.000,  1.000], mean action: 0.455 [0.000, 1.000],  loss: 0.953108, mae: 4.098194, mean_q: 7.693158, mean_eps: 0.500000\n",
            " 1229/8000: episode: 80, duration: 0.237s, episode steps:  15, steps per second:  63, episode reward: 15.000, mean reward:  1.000 [ 1.000,  1.000], mean action: 0.467 [0.000, 1.000],  loss: 0.358534, mae: 4.059447, mean_q: 7.713686, mean_eps: 0.500000\n",
            " 1247/8000: episode: 81, duration: 0.300s, episode steps:  18, steps per second:  60, episode reward: 18.000, mean reward:  1.000 [ 1.000,  1.000], mean action: 0.500 [0.000, 1.000],  loss: 0.931955, mae: 4.115977, mean_q: 7.723806, mean_eps: 0.500000\n",
            " 1260/8000: episode: 82, duration: 0.238s, episode steps:  13, steps per second:  55, episode reward: 13.000, mean reward:  1.000 [ 1.000,  1.000], mean action: 0.462 [0.000, 1.000],  loss: 0.449585, mae: 4.082780, mean_q: 7.696291, mean_eps: 0.500000\n",
            " 1275/8000: episode: 83, duration: 0.263s, episode steps:  15, steps per second:  57, episode reward: 15.000, mean reward:  1.000 [ 1.000,  1.000], mean action: 0.533 [0.000, 1.000],  loss: 0.531781, mae: 4.185643, mean_q: 7.925038, mean_eps: 0.500000\n",
            " 1328/8000: episode: 84, duration: 1.190s, episode steps:  53, steps per second:  45, episode reward: 53.000, mean reward:  1.000 [ 1.000,  1.000], mean action: 0.660 [0.000, 1.000],  loss: 0.808647, mae: 4.262148, mean_q: 8.027406, mean_eps: 0.500000\n",
            " 1337/8000: episode: 85, duration: 0.236s, episode steps:   9, steps per second:  38, episode reward:  9.000, mean reward:  1.000 [ 1.000,  1.000], mean action: 0.889 [0.000, 1.000],  loss: 0.556842, mae: 4.243300, mean_q: 8.037391, mean_eps: 0.500000\n",
            " 1349/8000: episode: 86, duration: 0.317s, episode steps:  12, steps per second:  38, episode reward: 12.000, mean reward:  1.000 [ 1.000,  1.000], mean action: 0.750 [0.000, 1.000],  loss: 0.924966, mae: 4.401945, mean_q: 8.324501, mean_eps: 0.500000\n",
            " 1360/8000: episode: 87, duration: 0.315s, episode steps:  11, steps per second:  35, episode reward: 11.000, mean reward:  1.000 [ 1.000,  1.000], mean action: 0.727 [0.000, 1.000],  loss: 1.213130, mae: 4.480566, mean_q: 8.323892, mean_eps: 0.500000\n",
            " 1381/8000: episode: 88, duration: 0.564s, episode steps:  21, steps per second:  37, episode reward: 21.000, mean reward:  1.000 [ 1.000,  1.000], mean action: 0.429 [0.000, 1.000],  loss: 0.522855, mae: 4.406936, mean_q: 8.326274, mean_eps: 0.500000\n",
            " 1393/8000: episode: 89, duration: 0.358s, episode steps:  12, steps per second:  34, episode reward: 12.000, mean reward:  1.000 [ 1.000,  1.000], mean action: 0.833 [0.000, 1.000],  loss: 0.962803, mae: 4.461822, mean_q: 8.457940, mean_eps: 0.500000\n",
            " 1404/8000: episode: 90, duration: 0.322s, episode steps:  11, steps per second:  34, episode reward: 11.000, mean reward:  1.000 [ 1.000,  1.000], mean action: 0.636 [0.000, 1.000],  loss: 0.658987, mae: 4.501172, mean_q: 8.563259, mean_eps: 0.500000\n",
            " 1447/8000: episode: 91, duration: 0.991s, episode steps:  43, steps per second:  43, episode reward: 43.000, mean reward:  1.000 [ 1.000,  1.000], mean action: 0.628 [0.000, 1.000],  loss: 0.978075, mae: 4.616844, mean_q: 8.780211, mean_eps: 0.500000\n",
            " 1459/8000: episode: 92, duration: 0.191s, episode steps:  12, steps per second:  63, episode reward: 12.000, mean reward:  1.000 [ 1.000,  1.000], mean action: 0.750 [0.000, 1.000],  loss: 0.959179, mae: 4.682740, mean_q: 8.954683, mean_eps: 0.500000\n",
            " 1475/8000: episode: 93, duration: 0.297s, episode steps:  16, steps per second:  54, episode reward: 16.000, mean reward:  1.000 [ 1.000,  1.000], mean action: 0.750 [0.000, 1.000],  loss: 1.032169, mae: 4.795690, mean_q: 9.158376, mean_eps: 0.500000\n",
            " 1487/8000: episode: 94, duration: 0.254s, episode steps:  12, steps per second:  47, episode reward: 12.000, mean reward:  1.000 [ 1.000,  1.000], mean action: 0.750 [0.000, 1.000],  loss: 1.109284, mae: 4.798533, mean_q: 9.128671, mean_eps: 0.500000\n",
            " 1496/8000: episode: 95, duration: 0.195s, episode steps:   9, steps per second:  46, episode reward:  9.000, mean reward:  1.000 [ 1.000,  1.000], mean action: 0.889 [0.000, 1.000],  loss: 1.295697, mae: 4.846478, mean_q: 9.158266, mean_eps: 0.500000\n",
            " 1507/8000: episode: 96, duration: 0.287s, episode steps:  11, steps per second:  38, episode reward: 11.000, mean reward:  1.000 [ 1.000,  1.000], mean action: 0.818 [0.000, 1.000],  loss: 1.266025, mae: 4.914117, mean_q: 9.334545, mean_eps: 0.500000\n",
            " 1527/8000: episode: 97, duration: 0.514s, episode steps:  20, steps per second:  39, episode reward: 20.000, mean reward:  1.000 [ 1.000,  1.000], mean action: 0.600 [0.000, 1.000],  loss: 1.133158, mae: 4.897988, mean_q: 9.255441, mean_eps: 0.500000\n",
            " 1537/8000: episode: 98, duration: 0.296s, episode steps:  10, steps per second:  34, episode reward: 10.000, mean reward:  1.000 [ 1.000,  1.000], mean action: 0.900 [0.000, 1.000],  loss: 1.534620, mae: 5.011503, mean_q: 9.479995, mean_eps: 0.500000\n",
            " 1558/8000: episode: 99, duration: 0.373s, episode steps:  21, steps per second:  56, episode reward: 21.000, mean reward:  1.000 [ 1.000,  1.000], mean action: 0.524 [0.000, 1.000],  loss: 1.906111, mae: 5.115355, mean_q: 9.572415, mean_eps: 0.500000\n",
            " 1570/8000: episode: 100, duration: 0.262s, episode steps:  12, steps per second:  46, episode reward: 12.000, mean reward:  1.000 [ 1.000,  1.000], mean action: 0.833 [0.000, 1.000],  loss: 1.548957, mae: 5.079545, mean_q: 9.568703, mean_eps: 0.500000\n",
            " 1594/8000: episode: 101, duration: 0.439s, episode steps:  24, steps per second:  55, episode reward: 24.000, mean reward:  1.000 [ 1.000,  1.000], mean action: 0.708 [0.000, 1.000],  loss: 1.139089, mae: 5.129355, mean_q: 9.727926, mean_eps: 0.500000\n",
            " 1642/8000: episode: 102, duration: 0.895s, episode steps:  48, steps per second:  54, episode reward: 48.000, mean reward:  1.000 [ 1.000,  1.000], mean action: 0.625 [0.000, 1.000],  loss: 1.233713, mae: 5.190090, mean_q: 9.842553, mean_eps: 0.500000\n",
            " 1657/8000: episode: 103, duration: 0.276s, episode steps:  15, steps per second:  54, episode reward: 15.000, mean reward:  1.000 [ 1.000,  1.000], mean action: 0.733 [0.000, 1.000],  loss: 2.206208, mae: 5.309196, mean_q: 9.944388, mean_eps: 0.500000\n",
            " 1669/8000: episode: 104, duration: 0.235s, episode steps:  12, steps per second:  51, episode reward: 12.000, mean reward:  1.000 [ 1.000,  1.000], mean action: 0.833 [0.000, 1.000],  loss: 2.353843, mae: 5.378617, mean_q: 10.014456, mean_eps: 0.500000\n",
            " 1690/8000: episode: 105, duration: 0.370s, episode steps:  21, steps per second:  57, episode reward: 21.000, mean reward:  1.000 [ 1.000,  1.000], mean action: 0.667 [0.000, 1.000],  loss: 1.896845, mae: 5.393793, mean_q: 10.042255, mean_eps: 0.500000\n",
            " 1709/8000: episode: 106, duration: 0.385s, episode steps:  19, steps per second:  49, episode reward: 19.000, mean reward:  1.000 [ 1.000,  1.000], mean action: 0.421 [0.000, 1.000],  loss: 1.958818, mae: 5.415093, mean_q: 10.049150, mean_eps: 0.500000\n",
            " 1744/8000: episode: 107, duration: 0.960s, episode steps:  35, steps per second:  36, episode reward: 35.000, mean reward:  1.000 [ 1.000,  1.000], mean action: 0.457 [0.000, 1.000],  loss: 1.875238, mae: 5.406031, mean_q: 10.032653, mean_eps: 0.500000\n",
            " 1753/8000: episode: 108, duration: 0.263s, episode steps:   9, steps per second:  34, episode reward:  9.000, mean reward:  1.000 [ 1.000,  1.000], mean action: 1.000 [1.000, 1.000],  loss: 0.987378, mae: 5.368466, mean_q: 10.183512, mean_eps: 0.500000\n",
            " 1781/8000: episode: 109, duration: 0.695s, episode steps:  28, steps per second:  40, episode reward: 28.000, mean reward:  1.000 [ 1.000,  1.000], mean action: 0.536 [0.000, 1.000],  loss: 1.223439, mae: 5.385392, mean_q: 10.182474, mean_eps: 0.500000\n",
            " 1796/8000: episode: 110, duration: 0.320s, episode steps:  15, steps per second:  47, episode reward: 15.000, mean reward:  1.000 [ 1.000,  1.000], mean action: 0.533 [0.000, 1.000],  loss: 1.459111, mae: 5.577689, mean_q: 10.637673, mean_eps: 0.500000\n",
            " 1835/8000: episode: 111, duration: 0.805s, episode steps:  39, steps per second:  48, episode reward: 39.000, mean reward:  1.000 [ 1.000,  1.000], mean action: 0.538 [0.000, 1.000],  loss: 1.448328, mae: 5.569444, mean_q: 10.516868, mean_eps: 0.500000\n",
            " 1892/8000: episode: 112, duration: 0.920s, episode steps:  57, steps per second:  62, episode reward: 57.000, mean reward:  1.000 [ 1.000,  1.000], mean action: 0.614 [0.000, 1.000],  loss: 1.505703, mae: 5.651450, mean_q: 10.645995, mean_eps: 0.500000\n",
            " 1912/8000: episode: 113, duration: 0.293s, episode steps:  20, steps per second:  68, episode reward: 20.000, mean reward:  1.000 [ 1.000,  1.000], mean action: 0.550 [0.000, 1.000],  loss: 1.729410, mae: 5.661633, mean_q: 10.568726, mean_eps: 0.500000\n",
            " 1924/8000: episode: 114, duration: 0.196s, episode steps:  12, steps per second:  61, episode reward: 12.000, mean reward:  1.000 [ 1.000,  1.000], mean action: 0.833 [0.000, 1.000],  loss: 1.814840, mae: 5.760471, mean_q: 10.783806, mean_eps: 0.500000\n",
            " 1936/8000: episode: 115, duration: 0.211s, episode steps:  12, steps per second:  57, episode reward: 12.000, mean reward:  1.000 [ 1.000,  1.000], mean action: 0.750 [0.000, 1.000],  loss: 1.855754, mae: 5.696986, mean_q: 10.683859, mean_eps: 0.500000\n",
            " 1957/8000: episode: 116, duration: 0.420s, episode steps:  21, steps per second:  50, episode reward: 21.000, mean reward:  1.000 [ 1.000,  1.000], mean action: 0.667 [0.000, 1.000],  loss: 1.360217, mae: 5.816493, mean_q: 11.031944, mean_eps: 0.500000\n",
            " 1971/8000: episode: 117, duration: 0.369s, episode steps:  14, steps per second:  38, episode reward: 14.000, mean reward:  1.000 [ 1.000,  1.000], mean action: 0.857 [0.000, 1.000],  loss: 1.286503, mae: 5.786845, mean_q: 10.946182, mean_eps: 0.500000\n",
            " 2003/8000: episode: 118, duration: 0.712s, episode steps:  32, steps per second:  45, episode reward: 32.000, mean reward:  1.000 [ 1.000,  1.000], mean action: 0.688 [0.000, 1.000],  loss: 1.527288, mae: 5.876895, mean_q: 11.140423, mean_eps: 0.500000\n",
            " 2055/8000: episode: 119, duration: 0.968s, episode steps:  52, steps per second:  54, episode reward: 52.000, mean reward:  1.000 [ 1.000,  1.000], mean action: 0.538 [0.000, 1.000],  loss: 1.493032, mae: 5.889110, mean_q: 11.172755, mean_eps: 0.500000\n",
            " 2080/8000: episode: 120, duration: 0.692s, episode steps:  25, steps per second:  36, episode reward: 25.000, mean reward:  1.000 [ 1.000,  1.000], mean action: 0.520 [0.000, 1.000],  loss: 1.466197, mae: 6.010251, mean_q: 11.359791, mean_eps: 0.500000\n",
            " 2151/8000: episode: 121, duration: 1.811s, episode steps:  71, steps per second:  39, episode reward: 71.000, mean reward:  1.000 [ 1.000,  1.000], mean action: 0.507 [0.000, 1.000],  loss: 1.371622, mae: 6.072749, mean_q: 11.559842, mean_eps: 0.500000\n",
            " 2170/8000: episode: 122, duration: 0.470s, episode steps:  19, steps per second:  40, episode reward: 19.000, mean reward:  1.000 [ 1.000,  1.000], mean action: 0.526 [0.000, 1.000],  loss: 1.682885, mae: 6.184221, mean_q: 11.664184, mean_eps: 0.500000\n",
            " 2190/8000: episode: 123, duration: 0.321s, episode steps:  20, steps per second:  62, episode reward: 20.000, mean reward:  1.000 [ 1.000,  1.000], mean action: 0.400 [0.000, 1.000],  loss: 1.713534, mae: 6.199190, mean_q: 11.703710, mean_eps: 0.500000\n",
            " 2214/8000: episode: 124, duration: 0.387s, episode steps:  24, steps per second:  62, episode reward: 24.000, mean reward:  1.000 [ 1.000,  1.000], mean action: 0.542 [0.000, 1.000],  loss: 1.664017, mae: 6.257294, mean_q: 11.814370, mean_eps: 0.500000\n",
            " 2232/8000: episode: 125, duration: 0.323s, episode steps:  18, steps per second:  56, episode reward: 18.000, mean reward:  1.000 [ 1.000,  1.000], mean action: 0.444 [0.000, 1.000],  loss: 1.468839, mae: 6.324197, mean_q: 11.984008, mean_eps: 0.500000\n",
            " 2268/8000: episode: 126, duration: 0.913s, episode steps:  36, steps per second:  39, episode reward: 36.000, mean reward:  1.000 [ 1.000,  1.000], mean action: 0.500 [0.000, 1.000],  loss: 1.203572, mae: 6.286520, mean_q: 11.968063, mean_eps: 0.500000\n",
            " 2294/8000: episode: 127, duration: 0.632s, episode steps:  26, steps per second:  41, episode reward: 26.000, mean reward:  1.000 [ 1.000,  1.000], mean action: 0.500 [0.000, 1.000],  loss: 1.117892, mae: 6.396900, mean_q: 12.309107, mean_eps: 0.500000\n",
            " 2375/8000: episode: 128, duration: 1.908s, episode steps:  81, steps per second:  42, episode reward: 81.000, mean reward:  1.000 [ 1.000,  1.000], mean action: 0.519 [0.000, 1.000],  loss: 1.291449, mae: 6.454877, mean_q: 12.339543, mean_eps: 0.500000\n",
            " 2456/8000: episode: 129, duration: 1.972s, episode steps:  81, steps per second:  41, episode reward: 81.000, mean reward:  1.000 [ 1.000,  1.000], mean action: 0.506 [0.000, 1.000],  loss: 1.211941, mae: 6.572407, mean_q: 12.588273, mean_eps: 0.500000\n",
            " 2498/8000: episode: 130, duration: 1.083s, episode steps:  42, steps per second:  39, episode reward: 42.000, mean reward:  1.000 [ 1.000,  1.000], mean action: 0.524 [0.000, 1.000],  loss: 1.588680, mae: 6.730537, mean_q: 12.860620, mean_eps: 0.500000\n",
            " 2547/8000: episode: 131, duration: 0.962s, episode steps:  49, steps per second:  51, episode reward: 49.000, mean reward:  1.000 [ 1.000,  1.000], mean action: 0.490 [0.000, 1.000],  loss: 1.330534, mae: 6.751094, mean_q: 12.932219, mean_eps: 0.500000\n",
            " 2610/8000: episode: 132, duration: 1.003s, episode steps:  63, steps per second:  63, episode reward: 63.000, mean reward:  1.000 [ 1.000,  1.000], mean action: 0.460 [0.000, 1.000],  loss: 1.467268, mae: 6.959941, mean_q: 13.334037, mean_eps: 0.500000\n",
            " 2642/8000: episode: 133, duration: 0.550s, episode steps:  32, steps per second:  58, episode reward: 32.000, mean reward:  1.000 [ 1.000,  1.000], mean action: 0.562 [0.000, 1.000],  loss: 1.819245, mae: 7.130520, mean_q: 13.629243, mean_eps: 0.500000\n",
            " 2688/8000: episode: 134, duration: 0.704s, episode steps:  46, steps per second:  65, episode reward: 46.000, mean reward:  1.000 [ 1.000,  1.000], mean action: 0.478 [0.000, 1.000],  loss: 1.800606, mae: 7.167329, mean_q: 13.755034, mean_eps: 0.500000\n",
            " 2740/8000: episode: 135, duration: 1.150s, episode steps:  52, steps per second:  45, episode reward: 52.000, mean reward:  1.000 [ 1.000,  1.000], mean action: 0.519 [0.000, 1.000],  loss: 1.860876, mae: 7.226513, mean_q: 13.865346, mean_eps: 0.500000\n",
            " 2826/8000: episode: 136, duration: 1.849s, episode steps:  86, steps per second:  47, episode reward: 86.000, mean reward:  1.000 [ 1.000,  1.000], mean action: 0.500 [0.000, 1.000],  loss: 1.461038, mae: 7.270271, mean_q: 13.997471, mean_eps: 0.500000\n",
            " 2895/8000: episode: 137, duration: 1.545s, episode steps:  69, steps per second:  45, episode reward: 69.000, mean reward:  1.000 [ 1.000,  1.000], mean action: 0.536 [0.000, 1.000],  loss: 1.288637, mae: 7.504538, mean_q: 14.556084, mean_eps: 0.500000\n",
            " 2962/8000: episode: 138, duration: 1.332s, episode steps:  67, steps per second:  50, episode reward: 67.000, mean reward:  1.000 [ 1.000,  1.000], mean action: 0.522 [0.000, 1.000],  loss: 1.370994, mae: 7.702361, mean_q: 15.001311, mean_eps: 0.500000\n",
            " 3006/8000: episode: 139, duration: 1.241s, episode steps:  44, steps per second:  35, episode reward: 44.000, mean reward:  1.000 [ 1.000,  1.000], mean action: 0.477 [0.000, 1.000],  loss: 1.451705, mae: 7.682912, mean_q: 14.812983, mean_eps: 0.500000\n",
            " 3044/8000: episode: 140, duration: 1.039s, episode steps:  38, steps per second:  37, episode reward: 38.000, mean reward:  1.000 [ 1.000,  1.000], mean action: 0.474 [0.000, 1.000],  loss: 1.909149, mae: 7.817285, mean_q: 15.050830, mean_eps: 0.500000\n",
            " 3135/8000: episode: 141, duration: 1.714s, episode steps:  91, steps per second:  53, episode reward: 91.000, mean reward:  1.000 [ 1.000,  1.000], mean action: 0.516 [0.000, 1.000],  loss: 1.503732, mae: 7.988216, mean_q: 15.503798, mean_eps: 0.500000\n",
            " 3193/8000: episode: 142, duration: 1.336s, episode steps:  58, steps per second:  43, episode reward: 58.000, mean reward:  1.000 [ 1.000,  1.000], mean action: 0.534 [0.000, 1.000],  loss: 2.227845, mae: 8.142004, mean_q: 15.690227, mean_eps: 0.500000\n",
            " 3244/8000: episode: 143, duration: 1.193s, episode steps:  51, steps per second:  43, episode reward: 51.000, mean reward:  1.000 [ 1.000,  1.000], mean action: 0.451 [0.000, 1.000],  loss: 1.637775, mae: 8.190398, mean_q: 15.859980, mean_eps: 0.500000\n",
            " 3292/8000: episode: 144, duration: 0.958s, episode steps:  48, steps per second:  50, episode reward: 48.000, mean reward:  1.000 [ 1.000,  1.000], mean action: 0.521 [0.000, 1.000],  loss: 2.255431, mae: 8.416108, mean_q: 16.233961, mean_eps: 0.500000\n",
            " 3327/8000: episode: 145, duration: 0.806s, episode steps:  35, steps per second:  43, episode reward: 35.000, mean reward:  1.000 [ 1.000,  1.000], mean action: 0.543 [0.000, 1.000],  loss: 1.573391, mae: 8.501826, mean_q: 16.503788, mean_eps: 0.500000\n",
            " 3370/8000: episode: 146, duration: 0.899s, episode steps:  43, steps per second:  48, episode reward: 43.000, mean reward:  1.000 [ 1.000,  1.000], mean action: 0.535 [0.000, 1.000],  loss: 1.918425, mae: 8.629835, mean_q: 16.763550, mean_eps: 0.500000\n",
            " 3428/8000: episode: 147, duration: 0.941s, episode steps:  58, steps per second:  62, episode reward: 58.000, mean reward:  1.000 [ 1.000,  1.000], mean action: 0.466 [0.000, 1.000],  loss: 2.273367, mae: 8.671181, mean_q: 16.829276, mean_eps: 0.500000\n",
            " 3490/8000: episode: 148, duration: 1.018s, episode steps:  62, steps per second:  61, episode reward: 62.000, mean reward:  1.000 [ 1.000,  1.000], mean action: 0.500 [0.000, 1.000],  loss: 2.137259, mae: 8.787793, mean_q: 17.060909, mean_eps: 0.500000\n",
            " 3566/8000: episode: 149, duration: 1.715s, episode steps:  76, steps per second:  44, episode reward: 76.000, mean reward:  1.000 [ 1.000,  1.000], mean action: 0.500 [0.000, 1.000],  loss: 1.888808, mae: 8.961494, mean_q: 17.391885, mean_eps: 0.500000\n",
            " 3662/8000: episode: 150, duration: 2.132s, episode steps:  96, steps per second:  45, episode reward: 96.000, mean reward:  1.000 [ 1.000,  1.000], mean action: 0.510 [0.000, 1.000],  loss: 1.581009, mae: 9.163906, mean_q: 17.970297, mean_eps: 0.500000\n",
            " 3734/8000: episode: 151, duration: 1.255s, episode steps:  72, steps per second:  57, episode reward: 72.000, mean reward:  1.000 [ 1.000,  1.000], mean action: 0.472 [0.000, 1.000],  loss: 1.980700, mae: 9.415938, mean_q: 18.444761, mean_eps: 0.500000\n",
            " 3774/8000: episode: 152, duration: 0.711s, episode steps:  40, steps per second:  56, episode reward: 40.000, mean reward:  1.000 [ 1.000,  1.000], mean action: 0.500 [0.000, 1.000],  loss: 1.939600, mae: 9.393804, mean_q: 18.408502, mean_eps: 0.500000\n",
            " 3918/8000: episode: 153, duration: 2.560s, episode steps: 144, steps per second:  56, episode reward: 144.000, mean reward:  1.000 [ 1.000,  1.000], mean action: 0.486 [0.000, 1.000],  loss: 2.462423, mae: 9.775563, mean_q: 19.127069, mean_eps: 0.500000\n",
            " 3976/8000: episode: 154, duration: 1.274s, episode steps:  58, steps per second:  46, episode reward: 58.000, mean reward:  1.000 [ 1.000,  1.000], mean action: 0.552 [0.000, 1.000],  loss: 2.941374, mae: 10.008620, mean_q: 19.586696, mean_eps: 0.500000\n",
            " 4097/8000: episode: 155, duration: 2.318s, episode steps: 121, steps per second:  52, episode reward: 121.000, mean reward:  1.000 [ 1.000,  1.000], mean action: 0.512 [0.000, 1.000],  loss: 2.809477, mae: 10.184392, mean_q: 19.904014, mean_eps: 0.500000\n",
            " 4133/8000: episode: 156, duration: 0.801s, episode steps:  36, steps per second:  45, episode reward: 36.000, mean reward:  1.000 [ 1.000,  1.000], mean action: 0.528 [0.000, 1.000],  loss: 2.667166, mae: 10.325695, mean_q: 20.228336, mean_eps: 0.500000\n",
            " 4194/8000: episode: 157, duration: 1.083s, episode steps:  61, steps per second:  56, episode reward: 61.000, mean reward:  1.000 [ 1.000,  1.000], mean action: 0.459 [0.000, 1.000],  loss: 3.188660, mae: 10.433237, mean_q: 20.320512, mean_eps: 0.500000\n",
            " 4248/8000: episode: 158, duration: 1.803s, episode steps:  54, steps per second:  30, episode reward: 54.000, mean reward:  1.000 [ 1.000,  1.000], mean action: 0.481 [0.000, 1.000],  loss: 2.531975, mae: 10.560546, mean_q: 20.643232, mean_eps: 0.500000\n",
            " 4310/8000: episode: 159, duration: 1.942s, episode steps:  62, steps per second:  32, episode reward: 62.000, mean reward:  1.000 [ 1.000,  1.000], mean action: 0.500 [0.000, 1.000],  loss: 3.630918, mae: 10.772689, mean_q: 21.051962, mean_eps: 0.500000\n",
            " 4394/8000: episode: 160, duration: 1.668s, episode steps:  84, steps per second:  50, episode reward: 84.000, mean reward:  1.000 [ 1.000,  1.000], mean action: 0.476 [0.000, 1.000],  loss: 2.181657, mae: 10.768217, mean_q: 21.259892, mean_eps: 0.500000\n",
            " 4422/8000: episode: 161, duration: 0.500s, episode steps:  28, steps per second:  56, episode reward: 28.000, mean reward:  1.000 [ 1.000,  1.000], mean action: 0.500 [0.000, 1.000],  loss: 4.201676, mae: 11.119514, mean_q: 21.729291, mean_eps: 0.500000\n",
            " 4514/8000: episode: 162, duration: 1.859s, episode steps:  92, steps per second:  50, episode reward: 92.000, mean reward:  1.000 [ 1.000,  1.000], mean action: 0.522 [0.000, 1.000],  loss: 3.623774, mae: 11.128446, mean_q: 21.825590, mean_eps: 0.500000\n",
            " 4550/8000: episode: 163, duration: 0.577s, episode steps:  36, steps per second:  62, episode reward: 36.000, mean reward:  1.000 [ 1.000,  1.000], mean action: 0.528 [0.000, 1.000],  loss: 2.930987, mae: 11.282893, mean_q: 22.176227, mean_eps: 0.500000\n",
            " 4610/8000: episode: 164, duration: 0.995s, episode steps:  60, steps per second:  60, episode reward: 60.000, mean reward:  1.000 [ 1.000,  1.000], mean action: 0.450 [0.000, 1.000],  loss: 3.554927, mae: 11.353850, mean_q: 22.307867, mean_eps: 0.500000\n",
            " 4667/8000: episode: 165, duration: 0.917s, episode steps:  57, steps per second:  62, episode reward: 57.000, mean reward:  1.000 [ 1.000,  1.000], mean action: 0.474 [0.000, 1.000],  loss: 5.203132, mae: 11.515595, mean_q: 22.488533, mean_eps: 0.500000\n",
            " 4761/8000: episode: 166, duration: 2.281s, episode steps:  94, steps per second:  41, episode reward: 94.000, mean reward:  1.000 [ 1.000,  1.000], mean action: 0.511 [0.000, 1.000],  loss: 2.864384, mae: 11.633669, mean_q: 22.961281, mean_eps: 0.500000\n",
            " 4840/8000: episode: 167, duration: 1.675s, episode steps:  79, steps per second:  47, episode reward: 79.000, mean reward:  1.000 [ 1.000,  1.000], mean action: 0.532 [0.000, 1.000],  loss: 2.814310, mae: 11.906462, mean_q: 23.429453, mean_eps: 0.500000\n",
            " 4957/8000: episode: 168, duration: 1.924s, episode steps: 117, steps per second:  61, episode reward: 117.000, mean reward:  1.000 [ 1.000,  1.000], mean action: 0.487 [0.000, 1.000],  loss: 3.383366, mae: 12.077512, mean_q: 23.794297, mean_eps: 0.500000\n",
            " 5017/8000: episode: 169, duration: 0.964s, episode steps:  60, steps per second:  62, episode reward: 60.000, mean reward:  1.000 [ 1.000,  1.000], mean action: 0.533 [0.000, 1.000],  loss: 5.060006, mae: 12.298344, mean_q: 24.150220, mean_eps: 0.500000\n",
            " 5132/8000: episode: 170, duration: 1.980s, episode steps: 115, steps per second:  58, episode reward: 115.000, mean reward:  1.000 [ 1.000,  1.000], mean action: 0.522 [0.000, 1.000],  loss: 3.352312, mae: 12.378886, mean_q: 24.456706, mean_eps: 0.500000\n",
            " 5224/8000: episode: 171, duration: 1.756s, episode steps:  92, steps per second:  52, episode reward: 92.000, mean reward:  1.000 [ 1.000,  1.000], mean action: 0.522 [0.000, 1.000],  loss: 3.296544, mae: 12.722040, mean_q: 25.170173, mean_eps: 0.500000\n",
            " 5283/8000: episode: 172, duration: 1.785s, episode steps:  59, steps per second:  33, episode reward: 59.000, mean reward:  1.000 [ 1.000,  1.000], mean action: 0.492 [0.000, 1.000],  loss: 3.781384, mae: 12.760811, mean_q: 25.201407, mean_eps: 0.500000\n",
            " 5297/8000: episode: 173, duration: 0.308s, episode steps:  14, steps per second:  45, episode reward: 14.000, mean reward:  1.000 [ 1.000,  1.000], mean action: 0.500 [0.000, 1.000],  loss: 4.151876, mae: 12.788924, mean_q: 25.203814, mean_eps: 0.500000\n",
            " 5402/8000: episode: 174, duration: 2.552s, episode steps: 105, steps per second:  41, episode reward: 105.000, mean reward:  1.000 [ 1.000,  1.000], mean action: 0.514 [0.000, 1.000],  loss: 3.082635, mae: 13.061684, mean_q: 25.847467, mean_eps: 0.500000\n",
            " 5445/8000: episode: 175, duration: 0.919s, episode steps:  43, steps per second:  47, episode reward: 43.000, mean reward:  1.000 [ 1.000,  1.000], mean action: 0.535 [0.000, 1.000],  loss: 4.303926, mae: 13.171508, mean_q: 26.034007, mean_eps: 0.500000\n",
            " 5596/8000: episode: 176, duration: 3.483s, episode steps: 151, steps per second:  43, episode reward: 151.000, mean reward:  1.000 [ 1.000,  1.000], mean action: 0.523 [0.000, 1.000],  loss: 4.342716, mae: 13.293008, mean_q: 26.304207, mean_eps: 0.500000\n",
            " 5722/8000: episode: 177, duration: 3.055s, episode steps: 126, steps per second:  41, episode reward: 126.000, mean reward:  1.000 [ 1.000,  1.000], mean action: 0.524 [0.000, 1.000],  loss: 3.804729, mae: 13.646330, mean_q: 26.997252, mean_eps: 0.500000\n",
            " 5792/8000: episode: 178, duration: 1.485s, episode steps:  70, steps per second:  47, episode reward: 70.000, mean reward:  1.000 [ 1.000,  1.000], mean action: 0.457 [0.000, 1.000],  loss: 3.249521, mae: 13.968120, mean_q: 27.757557, mean_eps: 0.500000\n",
            " 5884/8000: episode: 179, duration: 2.436s, episode steps:  92, steps per second:  38, episode reward: 92.000, mean reward:  1.000 [ 1.000,  1.000], mean action: 0.554 [0.000, 1.000],  loss: 4.537950, mae: 14.066290, mean_q: 27.821527, mean_eps: 0.500000\n",
            " 5905/8000: episode: 180, duration: 0.454s, episode steps:  21, steps per second:  46, episode reward: 21.000, mean reward:  1.000 [ 1.000,  1.000], mean action: 0.429 [0.000, 1.000],  loss: 7.586402, mae: 14.183565, mean_q: 28.005804, mean_eps: 0.500000\n",
            " 5933/8000: episode: 181, duration: 0.567s, episode steps:  28, steps per second:  49, episode reward: 28.000, mean reward:  1.000 [ 1.000,  1.000], mean action: 0.464 [0.000, 1.000],  loss: 3.158623, mae: 14.194546, mean_q: 28.259953, mean_eps: 0.500000\n",
            " 5952/8000: episode: 182, duration: 0.352s, episode steps:  19, steps per second:  54, episode reward: 19.000, mean reward:  1.000 [ 1.000,  1.000], mean action: 0.474 [0.000, 1.000],  loss: 1.333202, mae: 14.127122, mean_q: 28.406747, mean_eps: 0.500000\n",
            " 6066/8000: episode: 183, duration: 2.004s, episode steps: 114, steps per second:  57, episode reward: 114.000, mean reward:  1.000 [ 1.000,  1.000], mean action: 0.500 [0.000, 1.000],  loss: 5.800108, mae: 14.399689, mean_q: 28.425338, mean_eps: 0.500000\n",
            " 6162/8000: episode: 184, duration: 1.764s, episode steps:  96, steps per second:  54, episode reward: 96.000, mean reward:  1.000 [ 1.000,  1.000], mean action: 0.510 [0.000, 1.000],  loss: 4.402103, mae: 14.641714, mean_q: 29.012225, mean_eps: 0.500000\n",
            " 6303/8000: episode: 185, duration: 3.690s, episode steps: 141, steps per second:  38, episode reward: 141.000, mean reward:  1.000 [ 1.000,  1.000], mean action: 0.518 [0.000, 1.000],  loss: 4.339196, mae: 14.922566, mean_q: 29.599013, mean_eps: 0.500000\n",
            " 6413/8000: episode: 186, duration: 2.337s, episode steps: 110, steps per second:  47, episode reward: 110.000, mean reward:  1.000 [ 1.000,  1.000], mean action: 0.500 [0.000, 1.000],  loss: 5.105759, mae: 15.129131, mean_q: 30.013888, mean_eps: 0.500000\n",
            " 6466/8000: episode: 187, duration: 1.550s, episode steps:  53, steps per second:  34, episode reward: 53.000, mean reward:  1.000 [ 1.000,  1.000], mean action: 0.453 [0.000, 1.000],  loss: 4.754487, mae: 15.323497, mean_q: 30.513235, mean_eps: 0.500000\n",
            " 6488/8000: episode: 188, duration: 0.723s, episode steps:  22, steps per second:  30, episode reward: 22.000, mean reward:  1.000 [ 1.000,  1.000], mean action: 0.500 [0.000, 1.000],  loss: 4.394853, mae: 15.432224, mean_q: 30.804875, mean_eps: 0.500000\n",
            " 6560/8000: episode: 189, duration: 1.425s, episode steps:  72, steps per second:  51, episode reward: 72.000, mean reward:  1.000 [ 1.000,  1.000], mean action: 0.542 [0.000, 1.000],  loss: 5.287622, mae: 15.588759, mean_q: 30.892790, mean_eps: 0.500000\n",
            " 6663/8000: episode: 190, duration: 1.861s, episode steps: 103, steps per second:  55, episode reward: 103.000, mean reward:  1.000 [ 1.000,  1.000], mean action: 0.544 [0.000, 1.000],  loss: 5.583631, mae: 15.613194, mean_q: 30.915296, mean_eps: 0.500000\n",
            " 6702/8000: episode: 191, duration: 0.953s, episode steps:  39, steps per second:  41, episode reward: 39.000, mean reward:  1.000 [ 1.000,  1.000], mean action: 0.513 [0.000, 1.000],  loss: 4.854326, mae: 15.760375, mean_q: 31.304312, mean_eps: 0.500000\n",
            " 6836/8000: episode: 192, duration: 2.557s, episode steps: 134, steps per second:  52, episode reward: 134.000, mean reward:  1.000 [ 1.000,  1.000], mean action: 0.545 [0.000, 1.000],  loss: 5.380269, mae: 15.968728, mean_q: 31.698839, mean_eps: 0.500000\n",
            " 6865/8000: episode: 193, duration: 0.432s, episode steps:  29, steps per second:  67, episode reward: 29.000, mean reward:  1.000 [ 1.000,  1.000], mean action: 0.483 [0.000, 1.000],  loss: 6.597020, mae: 15.851373, mean_q: 31.349829, mean_eps: 0.500000\n",
            " 6908/8000: episode: 194, duration: 0.654s, episode steps:  43, steps per second:  66, episode reward: 43.000, mean reward:  1.000 [ 1.000,  1.000], mean action: 0.512 [0.000, 1.000],  loss: 5.802247, mae: 16.250957, mean_q: 32.219812, mean_eps: 0.500000\n",
            " 6957/8000: episode: 195, duration: 1.054s, episode steps:  49, steps per second:  46, episode reward: 49.000, mean reward:  1.000 [ 1.000,  1.000], mean action: 0.490 [0.000, 1.000],  loss: 7.647055, mae: 16.298075, mean_q: 32.150374, mean_eps: 0.500000\n",
            " 7026/8000: episode: 196, duration: 1.587s, episode steps:  69, steps per second:  43, episode reward: 69.000, mean reward:  1.000 [ 1.000,  1.000], mean action: 0.478 [0.000, 1.000],  loss: 4.660565, mae: 16.482252, mean_q: 32.718085, mean_eps: 0.500000\n",
            " 7055/8000: episode: 197, duration: 0.484s, episode steps:  29, steps per second:  60, episode reward: 29.000, mean reward:  1.000 [ 1.000,  1.000], mean action: 0.586 [0.000, 1.000],  loss: 3.963427, mae: 16.493319, mean_q: 32.820682, mean_eps: 0.500000\n",
            " 7167/8000: episode: 198, duration: 2.867s, episode steps: 112, steps per second:  39, episode reward: 112.000, mean reward:  1.000 [ 1.000,  1.000], mean action: 0.500 [0.000, 1.000],  loss: 6.807549, mae: 16.650972, mean_q: 32.951966, mean_eps: 0.500000\n",
            " 7196/8000: episode: 199, duration: 0.691s, episode steps:  29, steps per second:  42, episode reward: 29.000, mean reward:  1.000 [ 1.000,  1.000], mean action: 0.414 [0.000, 1.000],  loss: 6.530134, mae: 16.905708, mean_q: 33.497087, mean_eps: 0.500000\n",
            " 7251/8000: episode: 200, duration: 0.892s, episode steps:  55, steps per second:  62, episode reward: 55.000, mean reward:  1.000 [ 1.000,  1.000], mean action: 0.455 [0.000, 1.000],  loss: 5.748670, mae: 16.605335, mean_q: 32.944310, mean_eps: 0.500000\n",
            " 7310/8000: episode: 201, duration: 1.072s, episode steps:  59, steps per second:  55, episode reward: 59.000, mean reward:  1.000 [ 1.000,  1.000], mean action: 0.441 [0.000, 1.000],  loss: 3.535741, mae: 16.943108, mean_q: 33.810491, mean_eps: 0.500000\n",
            " 7332/8000: episode: 202, duration: 0.360s, episode steps:  22, steps per second:  61, episode reward: 22.000, mean reward:  1.000 [ 1.000,  1.000], mean action: 0.455 [0.000, 1.000],  loss: 5.921909, mae: 17.196861, mean_q: 34.163733, mean_eps: 0.500000\n",
            " 7460/8000: episode: 203, duration: 2.866s, episode steps: 128, steps per second:  45, episode reward: 128.000, mean reward:  1.000 [ 1.000,  1.000], mean action: 0.547 [0.000, 1.000],  loss: 5.471659, mae: 17.262458, mean_q: 34.327953, mean_eps: 0.500000\n",
            " 7575/8000: episode: 204, duration: 2.479s, episode steps: 115, steps per second:  46, episode reward: 115.000, mean reward:  1.000 [ 1.000,  1.000], mean action: 0.496 [0.000, 1.000],  loss: 6.624914, mae: 17.440929, mean_q: 34.570645, mean_eps: 0.500000\n",
            " 7643/8000: episode: 205, duration: 1.095s, episode steps:  68, steps per second:  62, episode reward: 68.000, mean reward:  1.000 [ 1.000,  1.000], mean action: 0.500 [0.000, 1.000],  loss: 6.660629, mae: 17.627129, mean_q: 34.929191, mean_eps: 0.500000\n",
            " 7804/8000: episode: 206, duration: 2.699s, episode steps: 161, steps per second:  60, episode reward: 161.000, mean reward:  1.000 [ 1.000,  1.000], mean action: 0.522 [0.000, 1.000],  loss: 6.123967, mae: 17.775552, mean_q: 35.314300, mean_eps: 0.500000\n",
            " 7945/8000: episode: 207, duration: 3.292s, episode steps: 141, steps per second:  43, episode reward: 141.000, mean reward:  1.000 [ 1.000,  1.000], mean action: 0.518 [0.000, 1.000],  loss: 5.247855, mae: 18.058829, mean_q: 36.037255, mean_eps: 0.500000\n",
            "done, took 189.266 seconds\n"
          ]
        },
        {
          "output_type": "display_data",
          "data": {
            "text/plain": [
              "<Figure size 432x288 with 1 Axes>"
            ],
            "image/png": "[encoded data removed]"
          },
          "metadata": {
            "needs_background": "light"
          }
        },
        {
          "output_type": "stream",
          "name": "stdout",
          "text": [
            "Testing for 20 episodes ...\n",
            "Episode 1: reward: 200.000, steps: 200\n",
            "Episode 2: reward: 200.000, steps: 200\n",
            "Episode 3: reward: 162.000, steps: 162\n",
            "Episode 4: reward: 196.000, steps: 196\n",
            "Episode 5: reward: 200.000, steps: 200\n",
            "Episode 6: reward: 200.000, steps: 200\n",
            "Episode 7: reward: 156.000, steps: 156\n",
            "Episode 8: reward: 200.000, steps: 200\n",
            "Episode 9: reward: 192.000, steps: 192\n",
            "Episode 10: reward: 200.000, steps: 200\n",
            "Episode 11: reward: 178.000, steps: 178\n",
            "Episode 12: reward: 188.000, steps: 188\n",
            "Episode 13: reward: 200.000, steps: 200\n",
            "Episode 14: reward: 158.000, steps: 158\n",
            "Episode 15: reward: 186.000, steps: 186\n",
            "Episode 16: reward: 200.000, steps: 200\n",
            "Episode 17: reward: 200.000, steps: 200\n",
            "Episode 18: reward: 180.000, steps: 180\n",
            "Episode 19: reward: 154.000, steps: 154\n",
            "Episode 20: reward: 187.000, steps: 187\n"
          ]
        },
        {
          "output_type": "execute_result",
          "data": {
            "text/plain": [
              "<keras.callbacks.History at 0x7fb17067ee90>"
            ]
          },
          "metadata": {},
          "execution_count": 95
        }
      ]
    }
  ]
}