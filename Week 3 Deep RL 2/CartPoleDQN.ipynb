{
  "nbformat": 4,
  "nbformat_minor": 0,
  "metadata": {
    "colab": {
      "name": "CartPoleDQN.ipynb",
      "provenance": [],
      "collapsed_sections": [],
      "include_colab_link": true
    },
    "kernelspec": {
      "name": "python3",
      "display_name": "Python 3"
    }
  },
  "cells": [
    {
      "cell_type": "markdown",
      "metadata": {
        "id": "view-in-github",
        "colab_type": "text"
      },
      "source": [
        "<a href=\"https://colab.research.google.com/github/Megacity1/CartpoleDQN/blob/main/Week%203%20Deep%20RL%202/CartPoleDQN.ipynb\" target=\"_parent\"><img src=\"https://colab.research.google.com/assets/colab-badge.svg\" alt=\"Open In Colab\"/></a>"
      ]
    },
    {
      "cell_type": "markdown",
      "metadata": {
        "id": "VKK5DA390wRe"
      },
      "source": [
        "# Deep Q Network (DQN) for CartPole Using Boltzmann Q Policy\n",
        "This exercise implements a DQN for CartPole using a Boltzmann Q policy for selecting the actions"
      ]
    },
    {
      "cell_type": "code",
      "metadata": {
        "id": "LGsC7cJ5jNcX",
        "colab": {
          "base_uri": "https://localhost:8080/"
        },
        "outputId": "cda73cbf-3020-40f4-e45e-7b87053448f1"
      },
      "source": [
        "# install keras rl2 (we need to install keras-rl2 so it works with the tensorflow 2 version that comes pre-installed with colab)\n",
        "!pip install keras-rl2"
      ],
      "execution_count": 57,
      "outputs": [
        {
          "output_type": "stream",
          "name": "stdout",
          "text": [
            "Requirement already satisfied: keras-rl2 in /usr/local/lib/python3.7/dist-packages (1.0.5)\n",
            "Requirement already satisfied: tensorflow in /usr/local/lib/python3.7/dist-packages (from keras-rl2) (2.8.0)\n",
            "Requirement already satisfied: keras-preprocessing>=1.1.1 in /usr/local/lib/python3.7/dist-packages (from tensorflow->keras-rl2) (1.1.2)\n",
            "Requirement already satisfied: protobuf>=3.9.2 in /usr/local/lib/python3.7/dist-packages (from tensorflow->keras-rl2) (3.17.3)\n",
            "Requirement already satisfied: tensorflow-io-gcs-filesystem>=0.23.1 in /usr/local/lib/python3.7/dist-packages (from tensorflow->keras-rl2) (0.24.0)\n",
            "Requirement already satisfied: libclang>=9.0.1 in /usr/local/lib/python3.7/dist-packages (from tensorflow->keras-rl2) (13.0.0)\n",
            "Requirement already satisfied: h5py>=2.9.0 in /usr/local/lib/python3.7/dist-packages (from tensorflow->keras-rl2) (3.1.0)\n",
            "Requirement already satisfied: opt-einsum>=2.3.2 in /usr/local/lib/python3.7/dist-packages (from tensorflow->keras-rl2) (3.3.0)\n",
            "Requirement already satisfied: gast>=0.2.1 in /usr/local/lib/python3.7/dist-packages (from tensorflow->keras-rl2) (0.5.3)\n",
            "Requirement already satisfied: grpcio<2.0,>=1.24.3 in /usr/local/lib/python3.7/dist-packages (from tensorflow->keras-rl2) (1.44.0)\n",
            "Requirement already satisfied: tensorboard<2.9,>=2.8 in /usr/local/lib/python3.7/dist-packages (from tensorflow->keras-rl2) (2.8.0)\n",
            "Requirement already satisfied: wrapt>=1.11.0 in /usr/local/lib/python3.7/dist-packages (from tensorflow->keras-rl2) (1.14.0)\n",
            "Requirement already satisfied: absl-py>=0.4.0 in /usr/local/lib/python3.7/dist-packages (from tensorflow->keras-rl2) (1.0.0)\n",
            "Requirement already satisfied: flatbuffers>=1.12 in /usr/local/lib/python3.7/dist-packages (from tensorflow->keras-rl2) (2.0)\n",
            "Requirement already satisfied: termcolor>=1.1.0 in /usr/local/lib/python3.7/dist-packages (from tensorflow->keras-rl2) (1.1.0)\n",
            "Requirement already satisfied: keras<2.9,>=2.8.0rc0 in /usr/local/lib/python3.7/dist-packages (from tensorflow->keras-rl2) (2.8.0)\n",
            "Requirement already satisfied: six>=1.12.0 in /usr/local/lib/python3.7/dist-packages (from tensorflow->keras-rl2) (1.15.0)\n",
            "Requirement already satisfied: tf-estimator-nightly==2.8.0.dev2021122109 in /usr/local/lib/python3.7/dist-packages (from tensorflow->keras-rl2) (2.8.0.dev2021122109)\n",
            "Requirement already satisfied: numpy>=1.20 in /usr/local/lib/python3.7/dist-packages (from tensorflow->keras-rl2) (1.21.5)\n",
            "Requirement already satisfied: astunparse>=1.6.0 in /usr/local/lib/python3.7/dist-packages (from tensorflow->keras-rl2) (1.6.3)\n",
            "Requirement already satisfied: typing-extensions>=3.6.6 in /usr/local/lib/python3.7/dist-packages (from tensorflow->keras-rl2) (3.10.0.2)\n",
            "Requirement already satisfied: setuptools in /usr/local/lib/python3.7/dist-packages (from tensorflow->keras-rl2) (57.4.0)\n",
            "Requirement already satisfied: google-pasta>=0.1.1 in /usr/local/lib/python3.7/dist-packages (from tensorflow->keras-rl2) (0.2.0)\n",
            "Requirement already satisfied: wheel<1.0,>=0.23.0 in /usr/local/lib/python3.7/dist-packages (from astunparse>=1.6.0->tensorflow->keras-rl2) (0.37.1)\n",
            "Requirement already satisfied: cached-property in /usr/local/lib/python3.7/dist-packages (from h5py>=2.9.0->tensorflow->keras-rl2) (1.5.2)\n",
            "Requirement already satisfied: google-auth-oauthlib<0.5,>=0.4.1 in /usr/local/lib/python3.7/dist-packages (from tensorboard<2.9,>=2.8->tensorflow->keras-rl2) (0.4.6)\n",
            "Requirement already satisfied: requests<3,>=2.21.0 in /usr/local/lib/python3.7/dist-packages (from tensorboard<2.9,>=2.8->tensorflow->keras-rl2) (2.23.0)\n",
            "Requirement already satisfied: werkzeug>=0.11.15 in /usr/local/lib/python3.7/dist-packages (from tensorboard<2.9,>=2.8->tensorflow->keras-rl2) (1.0.1)\n",
            "Requirement already satisfied: markdown>=2.6.8 in /usr/local/lib/python3.7/dist-packages (from tensorboard<2.9,>=2.8->tensorflow->keras-rl2) (3.3.6)\n",
            "Requirement already satisfied: google-auth<3,>=1.6.3 in /usr/local/lib/python3.7/dist-packages (from tensorboard<2.9,>=2.8->tensorflow->keras-rl2) (1.35.0)\n",
            "Requirement already satisfied: tensorboard-data-server<0.7.0,>=0.6.0 in /usr/local/lib/python3.7/dist-packages (from tensorboard<2.9,>=2.8->tensorflow->keras-rl2) (0.6.1)\n",
            "Requirement already satisfied: tensorboard-plugin-wit>=1.6.0 in /usr/local/lib/python3.7/dist-packages (from tensorboard<2.9,>=2.8->tensorflow->keras-rl2) (1.8.1)\n",
            "Requirement already satisfied: pyasn1-modules>=0.2.1 in /usr/local/lib/python3.7/dist-packages (from google-auth<3,>=1.6.3->tensorboard<2.9,>=2.8->tensorflow->keras-rl2) (0.2.8)\n",
            "Requirement already satisfied: cachetools<5.0,>=2.0.0 in /usr/local/lib/python3.7/dist-packages (from google-auth<3,>=1.6.3->tensorboard<2.9,>=2.8->tensorflow->keras-rl2) (4.2.4)\n",
            "Requirement already satisfied: rsa<5,>=3.1.4 in /usr/local/lib/python3.7/dist-packages (from google-auth<3,>=1.6.3->tensorboard<2.9,>=2.8->tensorflow->keras-rl2) (4.8)\n",
            "Requirement already satisfied: requests-oauthlib>=0.7.0 in /usr/local/lib/python3.7/dist-packages (from google-auth-oauthlib<0.5,>=0.4.1->tensorboard<2.9,>=2.8->tensorflow->keras-rl2) (1.3.1)\n",
            "Requirement already satisfied: importlib-metadata>=4.4 in /usr/local/lib/python3.7/dist-packages (from markdown>=2.6.8->tensorboard<2.9,>=2.8->tensorflow->keras-rl2) (4.11.3)\n",
            "Requirement already satisfied: zipp>=0.5 in /usr/local/lib/python3.7/dist-packages (from importlib-metadata>=4.4->markdown>=2.6.8->tensorboard<2.9,>=2.8->tensorflow->keras-rl2) (3.7.0)\n",
            "Requirement already satisfied: pyasn1<0.5.0,>=0.4.6 in /usr/local/lib/python3.7/dist-packages (from pyasn1-modules>=0.2.1->google-auth<3,>=1.6.3->tensorboard<2.9,>=2.8->tensorflow->keras-rl2) (0.4.8)\n",
            "Requirement already satisfied: chardet<4,>=3.0.2 in /usr/local/lib/python3.7/dist-packages (from requests<3,>=2.21.0->tensorboard<2.9,>=2.8->tensorflow->keras-rl2) (3.0.4)\n",
            "Requirement already satisfied: urllib3!=1.25.0,!=1.25.1,<1.26,>=1.21.1 in /usr/local/lib/python3.7/dist-packages (from requests<3,>=2.21.0->tensorboard<2.9,>=2.8->tensorflow->keras-rl2) (1.24.3)\n",
            "Requirement already satisfied: idna<3,>=2.5 in /usr/local/lib/python3.7/dist-packages (from requests<3,>=2.21.0->tensorboard<2.9,>=2.8->tensorflow->keras-rl2) (2.10)\n",
            "Requirement already satisfied: certifi>=2017.4.17 in /usr/local/lib/python3.7/dist-packages (from requests<3,>=2.21.0->tensorboard<2.9,>=2.8->tensorflow->keras-rl2) (2021.10.8)\n",
            "Requirement already satisfied: oauthlib>=3.0.0 in /usr/local/lib/python3.7/dist-packages (from requests-oauthlib>=0.7.0->google-auth-oauthlib<0.5,>=0.4.1->tensorboard<2.9,>=2.8->tensorflow->keras-rl2) (3.2.0)\n"
          ]
        }
      ]
    },
    {
      "cell_type": "code",
      "metadata": {
        "id": "XMIHLgQ3Z-lF",
        "colab": {
          "base_uri": "https://localhost:8080/"
        },
        "outputId": "3d5a8608-456f-4127-ce8a-f551e5f4e4f3"
      },
      "source": [
        "!pip install gym"
      ],
      "execution_count": 58,
      "outputs": [
        {
          "output_type": "stream",
          "name": "stdout",
          "text": [
            "Requirement already satisfied: gym in /usr/local/lib/python3.7/dist-packages (0.17.3)\n",
            "Requirement already satisfied: numpy>=1.10.4 in /usr/local/lib/python3.7/dist-packages (from gym) (1.21.5)\n",
            "Requirement already satisfied: scipy in /usr/local/lib/python3.7/dist-packages (from gym) (1.4.1)\n",
            "Requirement already satisfied: pyglet<=1.5.0,>=1.4.0 in /usr/local/lib/python3.7/dist-packages (from gym) (1.5.0)\n",
            "Requirement already satisfied: cloudpickle<1.7.0,>=1.2.0 in /usr/local/lib/python3.7/dist-packages (from gym) (1.3.0)\n",
            "Requirement already satisfied: future in /usr/local/lib/python3.7/dist-packages (from pyglet<=1.5.0,>=1.4.0->gym) (0.16.0)\n"
          ]
        }
      ]
    },
    {
      "cell_type": "code",
      "metadata": {
        "id": "M0AMLzq08ap0",
        "colab": {
          "base_uri": "https://localhost:8080/"
        },
        "outputId": "77b380e1-6c3d-4bce-8233-a8ac01deaf26"
      },
      "source": [
        "# load the gym module\n",
        "import gym\n",
        "import matplotlib.pyplot as plt\n",
        "# import the usual Keras modules for creating deep neural networks\n",
        "from keras import Sequential\n",
        "from keras.layers import Input, Flatten, Dense\n",
        "!pip install Adam\n",
        "#from keras.optimizers import Adam\n",
        "from tensorflow.keras.optimizers import Adam\n",
        "ENV_NAME = 'CartPole-v0'\n",
        "env = gym.make(ENV_NAME)"
      ],
      "execution_count": 62,
      "outputs": [
        {
          "output_type": "stream",
          "name": "stdout",
          "text": [
            "Requirement already satisfied: Adam in /usr/local/lib/python3.7/dist-packages (0.0.0.dev0)\n"
          ]
        }
      ]
    },
    {
      "cell_type": "markdown",
      "metadata": {
        "id": "ll6bNdUm54WS"
      },
      "source": [
        "Implementation of DQN for CartPole, applying policy BoltzmannQPolicy"
      ]
    },
    {
      "cell_type": "markdown",
      "metadata": {
        "id": "RSCrPKNy40PC"
      },
      "source": [
        "##Implement DQN with BoltzmannGumbelQPolicy"
      ]
    },
    {
      "cell_type": "code",
      "metadata": {
        "id": "efM9jkXr5A3c",
        "colab": {
          "base_uri": "https://localhost:8080/",
          "height": 1000
        },
        "outputId": "f9dcedf4-c32e-4d65-dbac-1f2bbe0a41e3"
      },
      "source": [
        "import rl\n",
        "from rl.memory import SequentialMemory  # import the exerience replay buffer module\n",
        "from rl.policy import BoltzmannGumbelQPolicy\n",
        "from rl.policy import LinearAnnealedPolicy\n",
        "from rl.policy import EpsGreedyQPolicy\n",
        "from rl.agents.dqn import DQNAgent      # import the DQN agent\n",
        "\n",
        "# setup experience replay buffer\n",
        "memory = SequentialMemory(limit=10000, window_length=1)\n",
        "\n",
        "policy = LinearAnnealedPolicy(EpsGreedyQPolicy(), \n",
        "                               attr='eps',            \n",
        "                               value_max=2.,\n",
        "                               value_min=.2, \n",
        "                               value_test=.05,\n",
        "                               nb_steps=20)\n",
        "# Q-Network\n",
        "model = Sequential()\n",
        "model.add(Input(shape=(1,env.observation_space.shape[0])))  # The input is 1 observation vector, and the number of observations in that vector \n",
        "model.add(Flatten())\n",
        "model.add(Dense(16, activation='relu'))\n",
        "# add extra layers here\n",
        "model.add(Dense(env.action_space.n, activation='linear'))   # the output is the number of actions in the action space\n",
        "\n",
        "print(model.summary())\n",
        "\n",
        "# define the agent\n",
        "dqn = DQNAgent(model=model, \n",
        "               nb_actions=env.action_space.n,\n",
        "               memory=memory,\n",
        "               nb_steps_warmup=15,\n",
        "               target_model_update=1e-2, \n",
        "               policy=policy) \n",
        "\n",
        "dqn.compile(Adam(lr=1e-3), metrics=['mae'])\n",
        "\n",
        "history = dqn.fit(env, nb_steps=6000, visualize=False, verbose=2)\n",
        "\n",
        "# summarize the history for number  of episode steps\n",
        "plt.plot(history.history['nb_episode_steps'])\n",
        "plt.ylabel('nb_episode_steps')\n",
        "plt.xlabel('episodes')\n",
        "plt.show()\n",
        "\n",
        "dqn.test(env, nb_episodes=20, visualize=False)"
      ],
      "execution_count": 84,
      "outputs": [
        {
          "output_type": "stream",
          "name": "stdout",
          "text": [
            "Model: \"sequential_35\"\n",
            "_________________________________________________________________\n",
            " Layer (type)                Output Shape              Param #   \n",
            "=================================================================\n",
            " flatten_33 (Flatten)        (None, 4)                 0         \n",
            "                                                                 \n",
            " dense_67 (Dense)            (None, 16)                80        \n",
            "                                                                 \n",
            " dense_68 (Dense)            (None, 2)                 34        \n",
            "                                                                 \n",
            "=================================================================\n",
            "Total params: 114\n",
            "Trainable params: 114\n",
            "Non-trainable params: 0\n",
            "_________________________________________________________________\n",
            "None\n"
          ]
        },
        {
          "output_type": "stream",
          "name": "stderr",
          "text": [
            "/usr/local/lib/python3.7/dist-packages/keras/optimizer_v2/adam.py:105: UserWarning: The `lr` argument is deprecated, use `learning_rate` instead.\n",
            "  super(Adam, self).__init__(name, **kwargs)\n"
          ]
        },
        {
          "output_type": "stream",
          "name": "stdout",
          "text": [
            "Training for 6000 steps ...\n"
          ]
        },
        {
          "output_type": "stream",
          "name": "stderr",
          "text": [
            "/usr/local/lib/python3.7/dist-packages/keras/engine/training_v1.py:2079: UserWarning: `Model.state_updates` will be removed in a future version. This property should not be used in TensorFlow 2.0, as `updates` are applied automatically.\n",
            "  updates=self.state_updates,\n"
          ]
        },
        {
          "output_type": "stream",
          "name": "stdout",
          "text": [
            "   14/6000: episode: 1, duration: 2.073s, episode steps:  14, steps per second:   7, episode reward: 14.000, mean reward:  1.000 [ 1.000,  1.000], mean action: 0.357 [0.000, 1.000],  loss: --, mae: --, mean_q: --, mean_eps: --\n"
          ]
        },
        {
          "output_type": "stream",
          "name": "stderr",
          "text": [
            "/usr/local/lib/python3.7/dist-packages/rl/memory.py:37: UserWarning: Not enough entries to sample without replacement. Consider increasing your warm-up phase to avoid oversampling!\n",
            "  warnings.warn('Not enough entries to sample without replacement. Consider increasing your warm-up phase to avoid oversampling!')\n",
            "/usr/local/lib/python3.7/dist-packages/keras/engine/training_v1.py:2079: UserWarning: `Model.state_updates` will be removed in a future version. This property should not be used in TensorFlow 2.0, as `updates` are applied automatically.\n",
            "  updates=self.state_updates,\n"
          ]
        },
        {
          "output_type": "stream",
          "name": "stdout",
          "text": [
            "   28/6000: episode: 2, duration: 6.024s, episode steps:  14, steps per second:   2, episode reward: 14.000, mean reward:  1.000 [ 1.000,  1.000], mean action: 0.143 [0.000, 1.000],  loss: 0.495308, mae: 0.559647, mean_q: -0.079533, mean_eps: 0.275000\n",
            "   38/6000: episode: 3, duration: 0.126s, episode steps:  10, steps per second:  79, episode reward: 10.000, mean reward:  1.000 [ 1.000,  1.000], mean action: 0.000 [0.000, 0.000],  loss: 0.405486, mae: 0.517495, mean_q: -0.014644, mean_eps: 0.200000\n"
          ]
        },
        {
          "output_type": "stream",
          "name": "stderr",
          "text": [
            "/usr/local/lib/python3.7/dist-packages/rl/memory.py:37: UserWarning: Not enough entries to sample without replacement. Consider increasing your warm-up phase to avoid oversampling!\n",
            "  warnings.warn('Not enough entries to sample without replacement. Consider increasing your warm-up phase to avoid oversampling!')\n"
          ]
        },
        {
          "output_type": "stream",
          "name": "stdout",
          "text": [
            "   50/6000: episode: 4, duration: 0.159s, episode steps:  12, steps per second:  76, episode reward: 12.000, mean reward:  1.000 [ 1.000,  1.000], mean action: 0.167 [0.000, 1.000],  loss: 0.332634, mae: 0.469260, mean_q: 0.104848, mean_eps: 0.200000\n",
            "   63/6000: episode: 5, duration: 0.174s, episode steps:  13, steps per second:  75, episode reward: 13.000, mean reward:  1.000 [ 1.000,  1.000], mean action: 0.154 [0.000, 1.000],  loss: 0.282886, mae: 0.428036, mean_q: 0.230231, mean_eps: 0.200000\n",
            "   73/6000: episode: 6, duration: 0.136s, episode steps:  10, steps per second:  74, episode reward: 10.000, mean reward:  1.000 [ 1.000,  1.000], mean action: 0.000 [0.000, 0.000],  loss: 0.253495, mae: 0.394705, mean_q: 0.331508, mean_eps: 0.200000\n",
            "   84/6000: episode: 7, duration: 0.143s, episode steps:  11, steps per second:  77, episode reward: 11.000, mean reward:  1.000 [ 1.000,  1.000], mean action: 0.000 [0.000, 0.000],  loss: 0.217944, mae: 0.361479, mean_q: 0.455927, mean_eps: 0.200000\n",
            "   94/6000: episode: 8, duration: 0.136s, episode steps:  10, steps per second:  74, episode reward: 10.000, mean reward:  1.000 [ 1.000,  1.000], mean action: 0.100 [0.000, 1.000],  loss: 0.184629, mae: 0.315827, mean_q: 0.585234, mean_eps: 0.200000\n",
            "  103/6000: episode: 9, duration: 0.119s, episode steps:   9, steps per second:  75, episode reward:  9.000, mean reward:  1.000 [ 1.000,  1.000], mean action: 0.222 [0.000, 1.000],  loss: 0.193891, mae: 0.343059, mean_q: 0.666955, mean_eps: 0.200000\n",
            "  118/6000: episode: 10, duration: 0.186s, episode steps:  15, steps per second:  80, episode reward: 15.000, mean reward:  1.000 [ 1.000,  1.000], mean action: 0.200 [0.000, 1.000],  loss: 0.190927, mae: 0.389305, mean_q: 0.748984, mean_eps: 0.200000\n",
            "  127/6000: episode: 11, duration: 0.112s, episode steps:   9, steps per second:  80, episode reward:  9.000, mean reward:  1.000 [ 1.000,  1.000], mean action: 0.111 [0.000, 1.000],  loss: 0.176696, mae: 0.428343, mean_q: 0.863094, mean_eps: 0.200000\n",
            "  139/6000: episode: 12, duration: 0.179s, episode steps:  12, steps per second:  67, episode reward: 12.000, mean reward:  1.000 [ 1.000,  1.000], mean action: 0.250 [0.000, 1.000],  loss: 0.180137, mae: 0.490892, mean_q: 0.946346, mean_eps: 0.200000\n",
            "  152/6000: episode: 13, duration: 0.177s, episode steps:  13, steps per second:  74, episode reward: 13.000, mean reward:  1.000 [ 1.000,  1.000], mean action: 0.308 [0.000, 1.000],  loss: 0.163861, mae: 0.529502, mean_q: 1.035627, mean_eps: 0.200000\n",
            "  162/6000: episode: 14, duration: 0.139s, episode steps:  10, steps per second:  72, episode reward: 10.000, mean reward:  1.000 [ 1.000,  1.000], mean action: 0.200 [0.000, 1.000],  loss: 0.168843, mae: 0.587923, mean_q: 1.101887, mean_eps: 0.200000\n",
            "  172/6000: episode: 15, duration: 0.134s, episode steps:  10, steps per second:  75, episode reward: 10.000, mean reward:  1.000 [ 1.000,  1.000], mean action: 0.000 [0.000, 0.000],  loss: 0.164318, mae: 0.631747, mean_q: 1.155073, mean_eps: 0.200000\n",
            "  182/6000: episode: 16, duration: 0.151s, episode steps:  10, steps per second:  66, episode reward: 10.000, mean reward:  1.000 [ 1.000,  1.000], mean action: 0.000 [0.000, 0.000],  loss: 0.172851, mae: 0.675161, mean_q: 1.212775, mean_eps: 0.200000\n",
            "  191/6000: episode: 17, duration: 0.132s, episode steps:   9, steps per second:  68, episode reward:  9.000, mean reward:  1.000 [ 1.000,  1.000], mean action: 0.111 [0.000, 1.000],  loss: 0.157252, mae: 0.702819, mean_q: 1.308706, mean_eps: 0.200000\n",
            "  201/6000: episode: 18, duration: 0.135s, episode steps:  10, steps per second:  74, episode reward: 10.000, mean reward:  1.000 [ 1.000,  1.000], mean action: 0.100 [0.000, 1.000],  loss: 0.143735, mae: 0.728316, mean_q: 1.405859, mean_eps: 0.200000\n",
            "  213/6000: episode: 19, duration: 0.178s, episode steps:  12, steps per second:  67, episode reward: 12.000, mean reward:  1.000 [ 1.000,  1.000], mean action: 0.167 [0.000, 1.000],  loss: 0.145458, mae: 0.781219, mean_q: 1.527530, mean_eps: 0.200000\n",
            "  223/6000: episode: 20, duration: 0.156s, episode steps:  10, steps per second:  64, episode reward: 10.000, mean reward:  1.000 [ 1.000,  1.000], mean action: 0.100 [0.000, 1.000],  loss: 0.177224, mae: 0.828843, mean_q: 1.611862, mean_eps: 0.200000\n",
            "  233/6000: episode: 21, duration: 0.145s, episode steps:  10, steps per second:  69, episode reward: 10.000, mean reward:  1.000 [ 1.000,  1.000], mean action: 0.100 [0.000, 1.000],  loss: 0.172949, mae: 0.877126, mean_q: 1.645430, mean_eps: 0.200000\n",
            "  242/6000: episode: 22, duration: 0.134s, episode steps:   9, steps per second:  67, episode reward:  9.000, mean reward:  1.000 [ 1.000,  1.000], mean action: 0.222 [0.000, 1.000],  loss: 0.174850, mae: 0.913416, mean_q: 1.695929, mean_eps: 0.200000\n",
            "  251/6000: episode: 23, duration: 0.129s, episode steps:   9, steps per second:  70, episode reward:  9.000, mean reward:  1.000 [ 1.000,  1.000], mean action: 0.111 [0.000, 1.000],  loss: 0.172911, mae: 0.926842, mean_q: 1.729687, mean_eps: 0.200000\n",
            "  260/6000: episode: 24, duration: 0.120s, episode steps:   9, steps per second:  75, episode reward:  9.000, mean reward:  1.000 [ 1.000,  1.000], mean action: 0.111 [0.000, 1.000],  loss: 0.159405, mae: 0.947625, mean_q: 1.832297, mean_eps: 0.200000\n",
            "  270/6000: episode: 25, duration: 0.144s, episode steps:  10, steps per second:  69, episode reward: 10.000, mean reward:  1.000 [ 1.000,  1.000], mean action: 0.100 [0.000, 1.000],  loss: 0.166809, mae: 0.960648, mean_q: 1.909036, mean_eps: 0.200000\n",
            "  282/6000: episode: 26, duration: 0.172s, episode steps:  12, steps per second:  70, episode reward: 12.000, mean reward:  1.000 [ 1.000,  1.000], mean action: 0.083 [0.000, 1.000],  loss: 0.179978, mae: 1.010286, mean_q: 2.011861, mean_eps: 0.200000\n",
            "  293/6000: episode: 27, duration: 0.144s, episode steps:  11, steps per second:  76, episode reward: 11.000, mean reward:  1.000 [ 1.000,  1.000], mean action: 0.182 [0.000, 1.000],  loss: 0.194737, mae: 1.070973, mean_q: 2.019791, mean_eps: 0.200000\n",
            "  307/6000: episode: 28, duration: 0.181s, episode steps:  14, steps per second:  77, episode reward: 14.000, mean reward:  1.000 [ 1.000,  1.000], mean action: 0.214 [0.000, 1.000],  loss: 0.204066, mae: 1.095221, mean_q: 2.092621, mean_eps: 0.200000\n",
            "  325/6000: episode: 29, duration: 0.225s, episode steps:  18, steps per second:  80, episode reward: 18.000, mean reward:  1.000 [ 1.000,  1.000], mean action: 0.278 [0.000, 1.000],  loss: 0.222998, mae: 1.161624, mean_q: 2.196857, mean_eps: 0.200000\n",
            "  335/6000: episode: 30, duration: 0.128s, episode steps:  10, steps per second:  78, episode reward: 10.000, mean reward:  1.000 [ 1.000,  1.000], mean action: 0.200 [0.000, 1.000],  loss: 0.257508, mae: 1.213691, mean_q: 2.257866, mean_eps: 0.200000\n",
            "  343/6000: episode: 31, duration: 0.126s, episode steps:   8, steps per second:  63, episode reward:  8.000, mean reward:  1.000 [ 1.000,  1.000], mean action: 0.125 [0.000, 1.000],  loss: 0.286796, mae: 1.281004, mean_q: 2.329676, mean_eps: 0.200000\n",
            "  360/6000: episode: 32, duration: 0.248s, episode steps:  17, steps per second:  69, episode reward: 17.000, mean reward:  1.000 [ 1.000,  1.000], mean action: 0.294 [0.000, 1.000],  loss: 0.244488, mae: 1.263454, mean_q: 2.390127, mean_eps: 0.200000\n",
            "  370/6000: episode: 33, duration: 0.147s, episode steps:  10, steps per second:  68, episode reward: 10.000, mean reward:  1.000 [ 1.000,  1.000], mean action: 0.000 [0.000, 0.000],  loss: 0.229525, mae: 1.254677, mean_q: 2.523162, mean_eps: 0.200000\n",
            "  381/6000: episode: 34, duration: 0.194s, episode steps:  11, steps per second:  57, episode reward: 11.000, mean reward:  1.000 [ 1.000,  1.000], mean action: 0.182 [0.000, 1.000],  loss: 0.233910, mae: 1.274806, mean_q: 2.581594, mean_eps: 0.200000\n",
            "  392/6000: episode: 35, duration: 0.172s, episode steps:  11, steps per second:  64, episode reward: 11.000, mean reward:  1.000 [ 1.000,  1.000], mean action: 0.182 [0.000, 1.000],  loss: 0.244741, mae: 1.324260, mean_q: 2.632812, mean_eps: 0.200000\n",
            "  401/6000: episode: 36, duration: 0.129s, episode steps:   9, steps per second:  70, episode reward:  9.000, mean reward:  1.000 [ 1.000,  1.000], mean action: 0.000 [0.000, 0.000],  loss: 0.249313, mae: 1.344592, mean_q: 2.749826, mean_eps: 0.200000\n",
            "  411/6000: episode: 37, duration: 0.146s, episode steps:  10, steps per second:  69, episode reward: 10.000, mean reward:  1.000 [ 1.000,  1.000], mean action: 0.100 [0.000, 1.000],  loss: 0.234095, mae: 1.340715, mean_q: 2.834456, mean_eps: 0.200000\n",
            "  419/6000: episode: 38, duration: 0.141s, episode steps:   8, steps per second:  57, episode reward:  8.000, mean reward:  1.000 [ 1.000,  1.000], mean action: 0.000 [0.000, 0.000],  loss: 0.272617, mae: 1.401935, mean_q: 2.950734, mean_eps: 0.200000\n",
            "  429/6000: episode: 39, duration: 0.157s, episode steps:  10, steps per second:  64, episode reward: 10.000, mean reward:  1.000 [ 1.000,  1.000], mean action: 0.000 [0.000, 0.000],  loss: 0.324558, mae: 1.461193, mean_q: 2.979675, mean_eps: 0.200000\n",
            "  450/6000: episode: 40, duration: 0.268s, episode steps:  21, steps per second:  78, episode reward: 21.000, mean reward:  1.000 [ 1.000,  1.000], mean action: 0.286 [0.000, 1.000],  loss: 0.290556, mae: 1.465200, mean_q: 3.064228, mean_eps: 0.200000\n",
            "  462/6000: episode: 41, duration: 0.154s, episode steps:  12, steps per second:  78, episode reward: 12.000, mean reward:  1.000 [ 1.000,  1.000], mean action: 0.083 [0.000, 1.000],  loss: 0.246187, mae: 1.505469, mean_q: 3.180981, mean_eps: 0.200000\n",
            "  473/6000: episode: 42, duration: 0.158s, episode steps:  11, steps per second:  70, episode reward: 11.000, mean reward:  1.000 [ 1.000,  1.000], mean action: 0.182 [0.000, 1.000],  loss: 0.295788, mae: 1.554655, mean_q: 3.283481, mean_eps: 0.200000\n",
            "  484/6000: episode: 43, duration: 0.147s, episode steps:  11, steps per second:  75, episode reward: 11.000, mean reward:  1.000 [ 1.000,  1.000], mean action: 0.273 [0.000, 1.000],  loss: 0.297500, mae: 1.591152, mean_q: 3.343190, mean_eps: 0.200000\n",
            "  494/6000: episode: 44, duration: 0.144s, episode steps:  10, steps per second:  69, episode reward: 10.000, mean reward:  1.000 [ 1.000,  1.000], mean action: 0.100 [0.000, 1.000],  loss: 0.340898, mae: 1.629355, mean_q: 3.403123, mean_eps: 0.200000\n",
            "  502/6000: episode: 45, duration: 0.113s, episode steps:   8, steps per second:  71, episode reward:  8.000, mean reward:  1.000 [ 1.000,  1.000], mean action: 0.000 [0.000, 0.000],  loss: 0.328954, mae: 1.651881, mean_q: 3.437301, mean_eps: 0.200000\n",
            "  516/6000: episode: 46, duration: 0.219s, episode steps:  14, steps per second:  64, episode reward: 14.000, mean reward:  1.000 [ 1.000,  1.000], mean action: 0.214 [0.000, 1.000],  loss: 0.287481, mae: 1.669626, mean_q: 3.520853, mean_eps: 0.200000\n",
            "  526/6000: episode: 47, duration: 0.157s, episode steps:  10, steps per second:  64, episode reward: 10.000, mean reward:  1.000 [ 1.000,  1.000], mean action: 0.100 [0.000, 1.000],  loss: 0.244974, mae: 1.690361, mean_q: 3.656456, mean_eps: 0.200000\n",
            "  536/6000: episode: 48, duration: 0.134s, episode steps:  10, steps per second:  75, episode reward: 10.000, mean reward:  1.000 [ 1.000,  1.000], mean action: 0.100 [0.000, 1.000],  loss: 0.336994, mae: 1.752097, mean_q: 3.722592, mean_eps: 0.200000\n",
            "  545/6000: episode: 49, duration: 0.119s, episode steps:   9, steps per second:  76, episode reward:  9.000, mean reward:  1.000 [ 1.000,  1.000], mean action: 0.111 [0.000, 1.000],  loss: 0.308416, mae: 1.798885, mean_q: 3.727839, mean_eps: 0.200000\n",
            "  555/6000: episode: 50, duration: 0.144s, episode steps:  10, steps per second:  69, episode reward: 10.000, mean reward:  1.000 [ 1.000,  1.000], mean action: 0.200 [0.000, 1.000],  loss: 0.400569, mae: 1.901102, mean_q: 3.761123, mean_eps: 0.200000\n",
            "  565/6000: episode: 51, duration: 0.137s, episode steps:  10, steps per second:  73, episode reward: 10.000, mean reward:  1.000 [ 1.000,  1.000], mean action: 0.200 [0.000, 1.000],  loss: 0.281072, mae: 1.878939, mean_q: 3.807255, mean_eps: 0.200000\n",
            "  574/6000: episode: 52, duration: 0.121s, episode steps:   9, steps per second:  75, episode reward:  9.000, mean reward:  1.000 [ 1.000,  1.000], mean action: 0.222 [0.000, 1.000],  loss: 0.264622, mae: 1.880941, mean_q: 3.977497, mean_eps: 0.200000\n",
            "  583/6000: episode: 53, duration: 0.132s, episode steps:   9, steps per second:  68, episode reward:  9.000, mean reward:  1.000 [ 1.000,  1.000], mean action: 0.111 [0.000, 1.000],  loss: 0.313802, mae: 1.925138, mean_q: 4.037464, mean_eps: 0.200000\n",
            "  595/6000: episode: 54, duration: 0.159s, episode steps:  12, steps per second:  76, episode reward: 12.000, mean reward:  1.000 [ 1.000,  1.000], mean action: 0.250 [0.000, 1.000],  loss: 0.341766, mae: 2.032721, mean_q: 4.069799, mean_eps: 0.200000\n",
            "  606/6000: episode: 55, duration: 0.142s, episode steps:  11, steps per second:  78, episode reward: 11.000, mean reward:  1.000 [ 1.000,  1.000], mean action: 0.273 [0.000, 1.000],  loss: 0.293454, mae: 2.023308, mean_q: 4.169477, mean_eps: 0.200000\n",
            "  619/6000: episode: 56, duration: 0.200s, episode steps:  13, steps per second:  65, episode reward: 13.000, mean reward:  1.000 [ 1.000,  1.000], mean action: 0.308 [0.000, 1.000],  loss: 0.292221, mae: 2.088078, mean_q: 4.306394, mean_eps: 0.200000\n",
            "  629/6000: episode: 57, duration: 0.142s, episode steps:  10, steps per second:  71, episode reward: 10.000, mean reward:  1.000 [ 1.000,  1.000], mean action: 0.300 [0.000, 1.000],  loss: 0.383484, mae: 2.153978, mean_q: 4.275726, mean_eps: 0.200000\n",
            "  638/6000: episode: 58, duration: 0.131s, episode steps:   9, steps per second:  69, episode reward:  9.000, mean reward:  1.000 [ 1.000,  1.000], mean action: 0.222 [0.000, 1.000],  loss: 0.376244, mae: 2.165769, mean_q: 4.296124, mean_eps: 0.200000\n",
            "  649/6000: episode: 59, duration: 0.144s, episode steps:  11, steps per second:  76, episode reward: 11.000, mean reward:  1.000 [ 1.000,  1.000], mean action: 0.273 [0.000, 1.000],  loss: 0.392840, mae: 2.194920, mean_q: 4.331594, mean_eps: 0.200000\n",
            "  658/6000: episode: 60, duration: 0.124s, episode steps:   9, steps per second:  73, episode reward:  9.000, mean reward:  1.000 [ 1.000,  1.000], mean action: 0.222 [0.000, 1.000],  loss: 0.312181, mae: 2.128413, mean_q: 4.384566, mean_eps: 0.200000\n",
            "  668/6000: episode: 61, duration: 0.129s, episode steps:  10, steps per second:  77, episode reward: 10.000, mean reward:  1.000 [ 1.000,  1.000], mean action: 0.100 [0.000, 1.000],  loss: 0.376301, mae: 2.183855, mean_q: 4.467431, mean_eps: 0.200000\n",
            "  679/6000: episode: 62, duration: 0.142s, episode steps:  11, steps per second:  77, episode reward: 11.000, mean reward:  1.000 [ 1.000,  1.000], mean action: 0.273 [0.000, 1.000],  loss: 0.320433, mae: 2.191058, mean_q: 4.543687, mean_eps: 0.200000\n",
            "  691/6000: episode: 63, duration: 0.149s, episode steps:  12, steps per second:  81, episode reward: 12.000, mean reward:  1.000 [ 1.000,  1.000], mean action: 0.250 [0.000, 1.000],  loss: 0.362408, mae: 2.249309, mean_q: 4.600227, mean_eps: 0.200000\n",
            "  699/6000: episode: 64, duration: 0.119s, episode steps:   8, steps per second:  67, episode reward:  8.000, mean reward:  1.000 [ 1.000,  1.000], mean action: 0.125 [0.000, 1.000],  loss: 0.338843, mae: 2.261835, mean_q: 4.670751, mean_eps: 0.200000\n",
            "  709/6000: episode: 65, duration: 0.135s, episode steps:  10, steps per second:  74, episode reward: 10.000, mean reward:  1.000 [ 1.000,  1.000], mean action: 0.200 [0.000, 1.000],  loss: 0.328689, mae: 2.290770, mean_q: 4.744686, mean_eps: 0.200000\n",
            "  719/6000: episode: 66, duration: 0.131s, episode steps:  10, steps per second:  76, episode reward: 10.000, mean reward:  1.000 [ 1.000,  1.000], mean action: 0.200 [0.000, 1.000],  loss: 0.335116, mae: 2.300663, mean_q: 4.833202, mean_eps: 0.200000\n",
            "  728/6000: episode: 67, duration: 0.117s, episode steps:   9, steps per second:  77, episode reward:  9.000, mean reward:  1.000 [ 1.000,  1.000], mean action: 0.222 [0.000, 1.000],  loss: 0.336706, mae: 2.346770, mean_q: 4.808717, mean_eps: 0.200000\n",
            "  738/6000: episode: 68, duration: 0.138s, episode steps:  10, steps per second:  72, episode reward: 10.000, mean reward:  1.000 [ 1.000,  1.000], mean action: 0.200 [0.000, 1.000],  loss: 0.287105, mae: 2.346842, mean_q: 4.971541, mean_eps: 0.200000\n",
            "  748/6000: episode: 69, duration: 0.126s, episode steps:  10, steps per second:  79, episode reward: 10.000, mean reward:  1.000 [ 1.000,  1.000], mean action: 0.100 [0.000, 1.000],  loss: 0.349999, mae: 2.372672, mean_q: 4.917765, mean_eps: 0.200000\n",
            "  758/6000: episode: 70, duration: 0.137s, episode steps:  10, steps per second:  73, episode reward: 10.000, mean reward:  1.000 [ 1.000,  1.000], mean action: 0.100 [0.000, 1.000],  loss: 0.389421, mae: 2.402764, mean_q: 4.881684, mean_eps: 0.200000\n",
            "  767/6000: episode: 71, duration: 0.125s, episode steps:   9, steps per second:  72, episode reward:  9.000, mean reward:  1.000 [ 1.000,  1.000], mean action: 0.111 [0.000, 1.000],  loss: 0.337812, mae: 2.385982, mean_q: 4.834079, mean_eps: 0.200000\n",
            "  777/6000: episode: 72, duration: 0.138s, episode steps:  10, steps per second:  72, episode reward: 10.000, mean reward:  1.000 [ 1.000,  1.000], mean action: 0.200 [0.000, 1.000],  loss: 0.371251, mae: 2.407464, mean_q: 5.014966, mean_eps: 0.200000\n",
            "  787/6000: episode: 73, duration: 0.143s, episode steps:  10, steps per second:  70, episode reward: 10.000, mean reward:  1.000 [ 1.000,  1.000], mean action: 0.200 [0.000, 1.000],  loss: 0.403547, mae: 2.456954, mean_q: 5.041111, mean_eps: 0.200000\n",
            "  796/6000: episode: 74, duration: 0.132s, episode steps:   9, steps per second:  68, episode reward:  9.000, mean reward:  1.000 [ 1.000,  1.000], mean action: 0.111 [0.000, 1.000],  loss: 0.269153, mae: 2.450791, mean_q: 5.182605, mean_eps: 0.200000\n",
            "  809/6000: episode: 75, duration: 0.175s, episode steps:  13, steps per second:  74, episode reward: 13.000, mean reward:  1.000 [ 1.000,  1.000], mean action: 0.231 [0.000, 1.000],  loss: 0.375747, mae: 2.519417, mean_q: 5.160198, mean_eps: 0.200000\n",
            "  820/6000: episode: 76, duration: 0.146s, episode steps:  11, steps per second:  75, episode reward: 11.000, mean reward:  1.000 [ 1.000,  1.000], mean action: 0.182 [0.000, 1.000],  loss: 0.296349, mae: 2.556678, mean_q: 5.216036, mean_eps: 0.200000\n",
            "  834/6000: episode: 77, duration: 0.188s, episode steps:  14, steps per second:  75, episode reward: 14.000, mean reward:  1.000 [ 1.000,  1.000], mean action: 0.286 [0.000, 1.000],  loss: 0.301196, mae: 2.575428, mean_q: 5.374629, mean_eps: 0.200000\n",
            "  846/6000: episode: 78, duration: 0.159s, episode steps:  12, steps per second:  75, episode reward: 12.000, mean reward:  1.000 [ 1.000,  1.000], mean action: 0.250 [0.000, 1.000],  loss: 0.296132, mae: 2.610616, mean_q: 5.325654, mean_eps: 0.200000\n",
            "  857/6000: episode: 79, duration: 0.159s, episode steps:  11, steps per second:  69, episode reward: 11.000, mean reward:  1.000 [ 1.000,  1.000], mean action: 0.273 [0.000, 1.000],  loss: 0.293092, mae: 2.632824, mean_q: 5.309249, mean_eps: 0.200000\n",
            "  865/6000: episode: 80, duration: 0.120s, episode steps:   8, steps per second:  67, episode reward:  8.000, mean reward:  1.000 [ 1.000,  1.000], mean action: 0.125 [0.000, 1.000],  loss: 0.282593, mae: 2.633873, mean_q: 5.405137, mean_eps: 0.200000\n",
            "  874/6000: episode: 81, duration: 0.116s, episode steps:   9, steps per second:  77, episode reward:  9.000, mean reward:  1.000 [ 1.000,  1.000], mean action: 0.222 [0.000, 1.000],  loss: 0.298324, mae: 2.687588, mean_q: 5.484632, mean_eps: 0.200000\n",
            "  883/6000: episode: 82, duration: 0.125s, episode steps:   9, steps per second:  72, episode reward:  9.000, mean reward:  1.000 [ 1.000,  1.000], mean action: 0.222 [0.000, 1.000],  loss: 0.277638, mae: 2.730107, mean_q: 5.606676, mean_eps: 0.200000\n",
            "  893/6000: episode: 83, duration: 0.133s, episode steps:  10, steps per second:  75, episode reward: 10.000, mean reward:  1.000 [ 1.000,  1.000], mean action: 0.200 [0.000, 1.000],  loss: 0.393483, mae: 2.732133, mean_q: 5.411675, mean_eps: 0.200000\n",
            "  902/6000: episode: 84, duration: 0.128s, episode steps:   9, steps per second:  70, episode reward:  9.000, mean reward:  1.000 [ 1.000,  1.000], mean action: 0.222 [0.000, 1.000],  loss: 0.326801, mae: 2.715419, mean_q: 5.367199, mean_eps: 0.200000\n",
            "  911/6000: episode: 85, duration: 0.116s, episode steps:   9, steps per second:  77, episode reward:  9.000, mean reward:  1.000 [ 1.000,  1.000], mean action: 0.222 [0.000, 1.000],  loss: 0.291250, mae: 2.720929, mean_q: 5.537312, mean_eps: 0.200000\n",
            "  923/6000: episode: 86, duration: 0.164s, episode steps:  12, steps per second:  73, episode reward: 12.000, mean reward:  1.000 [ 1.000,  1.000], mean action: 0.250 [0.000, 1.000],  loss: 0.301486, mae: 2.693021, mean_q: 5.391655, mean_eps: 0.200000\n",
            "  934/6000: episode: 87, duration: 0.153s, episode steps:  11, steps per second:  72, episode reward: 11.000, mean reward:  1.000 [ 1.000,  1.000], mean action: 0.182 [0.000, 1.000],  loss: 0.304586, mae: 2.718999, mean_q: 5.469197, mean_eps: 0.200000\n",
            "  946/6000: episode: 88, duration: 0.161s, episode steps:  12, steps per second:  75, episode reward: 12.000, mean reward:  1.000 [ 1.000,  1.000], mean action: 0.250 [0.000, 1.000],  loss: 0.278234, mae: 2.752246, mean_q: 5.607921, mean_eps: 0.200000\n",
            "  957/6000: episode: 89, duration: 0.136s, episode steps:  11, steps per second:  81, episode reward: 11.000, mean reward:  1.000 [ 1.000,  1.000], mean action: 0.273 [0.000, 1.000],  loss: 0.261499, mae: 2.770333, mean_q: 5.569148, mean_eps: 0.200000\n",
            "  970/6000: episode: 90, duration: 0.176s, episode steps:  13, steps per second:  74, episode reward: 13.000, mean reward:  1.000 [ 1.000,  1.000], mean action: 0.308 [0.000, 1.000],  loss: 0.273747, mae: 2.828309, mean_q: 5.589882, mean_eps: 0.200000\n",
            "  979/6000: episode: 91, duration: 0.112s, episode steps:   9, steps per second:  81, episode reward:  9.000, mean reward:  1.000 [ 1.000,  1.000], mean action: 0.222 [0.000, 1.000],  loss: 0.312311, mae: 2.831933, mean_q: 5.519370, mean_eps: 0.200000\n",
            "  992/6000: episode: 92, duration: 0.177s, episode steps:  13, steps per second:  74, episode reward: 13.000, mean reward:  1.000 [ 1.000,  1.000], mean action: 0.308 [0.000, 1.000],  loss: 0.290375, mae: 2.832559, mean_q: 5.528592, mean_eps: 0.200000\n",
            " 1000/6000: episode: 93, duration: 0.107s, episode steps:   8, steps per second:  75, episode reward:  8.000, mean reward:  1.000 [ 1.000,  1.000], mean action: 0.125 [0.000, 1.000],  loss: 0.229250, mae: 2.867313, mean_q: 5.671693, mean_eps: 0.200000\n",
            " 1011/6000: episode: 94, duration: 0.156s, episode steps:  11, steps per second:  71, episode reward: 11.000, mean reward:  1.000 [ 1.000,  1.000], mean action: 0.364 [0.000, 1.000],  loss: 0.238141, mae: 2.932496, mean_q: 5.800392, mean_eps: 0.200000\n",
            " 1022/6000: episode: 95, duration: 0.140s, episode steps:  11, steps per second:  78, episode reward: 11.000, mean reward:  1.000 [ 1.000,  1.000], mean action: 0.364 [0.000, 1.000],  loss: 0.269699, mae: 2.898340, mean_q: 5.644471, mean_eps: 0.200000\n",
            " 1032/6000: episode: 96, duration: 0.153s, episode steps:  10, steps per second:  65, episode reward: 10.000, mean reward:  1.000 [ 1.000,  1.000], mean action: 0.300 [0.000, 1.000],  loss: 0.236752, mae: 2.959213, mean_q: 5.785749, mean_eps: 0.200000\n",
            " 1047/6000: episode: 97, duration: 0.181s, episode steps:  15, steps per second:  83, episode reward: 15.000, mean reward:  1.000 [ 1.000,  1.000], mean action: 0.333 [0.000, 1.000],  loss: 0.226717, mae: 3.030994, mean_q: 5.957066, mean_eps: 0.200000\n",
            " 1058/6000: episode: 98, duration: 0.139s, episode steps:  11, steps per second:  79, episode reward: 11.000, mean reward:  1.000 [ 1.000,  1.000], mean action: 0.364 [0.000, 1.000],  loss: 0.249664, mae: 3.059779, mean_q: 5.964716, mean_eps: 0.200000\n",
            " 1069/6000: episode: 99, duration: 0.140s, episode steps:  11, steps per second:  79, episode reward: 11.000, mean reward:  1.000 [ 1.000,  1.000], mean action: 0.455 [0.000, 1.000],  loss: 0.241458, mae: 2.960695, mean_q: 5.703576, mean_eps: 0.200000\n",
            " 1082/6000: episode: 100, duration: 0.167s, episode steps:  13, steps per second:  78, episode reward: 13.000, mean reward:  1.000 [ 1.000,  1.000], mean action: 0.385 [0.000, 1.000],  loss: 0.241155, mae: 3.067517, mean_q: 5.929156, mean_eps: 0.200000\n",
            " 1105/6000: episode: 101, duration: 0.294s, episode steps:  23, steps per second:  78, episode reward: 23.000, mean reward:  1.000 [ 1.000,  1.000], mean action: 0.478 [0.000, 1.000],  loss: 0.206171, mae: 3.109448, mean_q: 6.004481, mean_eps: 0.200000\n",
            " 1127/6000: episode: 102, duration: 0.270s, episode steps:  22, steps per second:  81, episode reward: 22.000, mean reward:  1.000 [ 1.000,  1.000], mean action: 0.545 [0.000, 1.000],  loss: 0.183757, mae: 3.178561, mean_q: 6.092206, mean_eps: 0.200000\n",
            " 1183/6000: episode: 103, duration: 0.665s, episode steps:  56, steps per second:  84, episode reward: 56.000, mean reward:  1.000 [ 1.000,  1.000], mean action: 0.554 [0.000, 1.000],  loss: 0.243701, mae: 3.264909, mean_q: 6.198996, mean_eps: 0.200000\n",
            " 1207/6000: episode: 104, duration: 0.279s, episode steps:  24, steps per second:  86, episode reward: 24.000, mean reward:  1.000 [ 1.000,  1.000], mean action: 0.542 [0.000, 1.000],  loss: 0.178081, mae: 3.427573, mean_q: 6.594708, mean_eps: 0.200000\n",
            " 1219/6000: episode: 105, duration: 0.147s, episode steps:  12, steps per second:  81, episode reward: 12.000, mean reward:  1.000 [ 1.000,  1.000], mean action: 0.583 [0.000, 1.000],  loss: 0.390772, mae: 3.458953, mean_q: 6.595710, mean_eps: 0.200000\n",
            " 1232/6000: episode: 106, duration: 0.166s, episode steps:  13, steps per second:  78, episode reward: 13.000, mean reward:  1.000 [ 1.000,  1.000], mean action: 0.615 [0.000, 1.000],  loss: 0.300075, mae: 3.541370, mean_q: 6.839145, mean_eps: 0.200000\n",
            " 1251/6000: episode: 107, duration: 0.253s, episode steps:  19, steps per second:  75, episode reward: 19.000, mean reward:  1.000 [ 1.000,  1.000], mean action: 0.684 [0.000, 1.000],  loss: 0.554461, mae: 3.698253, mean_q: 7.124333, mean_eps: 0.200000\n",
            " 1263/6000: episode: 108, duration: 0.159s, episode steps:  12, steps per second:  76, episode reward: 12.000, mean reward:  1.000 [ 1.000,  1.000], mean action: 0.667 [0.000, 1.000],  loss: 0.442374, mae: 3.647108, mean_q: 6.924773, mean_eps: 0.200000\n",
            " 1274/6000: episode: 109, duration: 0.139s, episode steps:  11, steps per second:  79, episode reward: 11.000, mean reward:  1.000 [ 1.000,  1.000], mean action: 0.545 [0.000, 1.000],  loss: 0.346625, mae: 3.597746, mean_q: 6.901107, mean_eps: 0.200000\n",
            " 1298/6000: episode: 110, duration: 0.288s, episode steps:  24, steps per second:  83, episode reward: 24.000, mean reward:  1.000 [ 1.000,  1.000], mean action: 0.500 [0.000, 1.000],  loss: 0.358604, mae: 3.646409, mean_q: 6.963385, mean_eps: 0.200000\n",
            " 1312/6000: episode: 111, duration: 0.174s, episode steps:  14, steps per second:  81, episode reward: 14.000, mean reward:  1.000 [ 1.000,  1.000], mean action: 0.571 [0.000, 1.000],  loss: 0.439667, mae: 3.816707, mean_q: 7.272398, mean_eps: 0.200000\n",
            " 1331/6000: episode: 112, duration: 0.240s, episode steps:  19, steps per second:  79, episode reward: 19.000, mean reward:  1.000 [ 1.000,  1.000], mean action: 0.632 [0.000, 1.000],  loss: 0.320547, mae: 3.832501, mean_q: 7.374165, mean_eps: 0.200000\n",
            " 1347/6000: episode: 113, duration: 0.211s, episode steps:  16, steps per second:  76, episode reward: 16.000, mean reward:  1.000 [ 1.000,  1.000], mean action: 0.562 [0.000, 1.000],  loss: 0.939275, mae: 3.961916, mean_q: 7.533132, mean_eps: 0.200000\n",
            " 1364/6000: episode: 114, duration: 0.221s, episode steps:  17, steps per second:  77, episode reward: 17.000, mean reward:  1.000 [ 1.000,  1.000], mean action: 0.529 [0.000, 1.000],  loss: 0.992793, mae: 3.959918, mean_q: 7.506565, mean_eps: 0.200000\n",
            " 1386/6000: episode: 115, duration: 0.265s, episode steps:  22, steps per second:  83, episode reward: 22.000, mean reward:  1.000 [ 1.000,  1.000], mean action: 0.545 [0.000, 1.000],  loss: 0.781795, mae: 4.001622, mean_q: 7.613571, mean_eps: 0.200000\n",
            " 1397/6000: episode: 116, duration: 0.142s, episode steps:  11, steps per second:  78, episode reward: 11.000, mean reward:  1.000 [ 1.000,  1.000], mean action: 0.727 [0.000, 1.000],  loss: 1.214629, mae: 4.196424, mean_q: 7.939154, mean_eps: 0.200000\n",
            " 1406/6000: episode: 117, duration: 0.140s, episode steps:   9, steps per second:  64, episode reward:  9.000, mean reward:  1.000 [ 1.000,  1.000], mean action: 1.000 [1.000, 1.000],  loss: 1.331432, mae: 4.207277, mean_q: 7.897053, mean_eps: 0.200000\n",
            " 1417/6000: episode: 118, duration: 0.162s, episode steps:  11, steps per second:  68, episode reward: 11.000, mean reward:  1.000 [ 1.000,  1.000], mean action: 0.818 [0.000, 1.000],  loss: 0.523601, mae: 4.263807, mean_q: 8.101349, mean_eps: 0.200000\n",
            " 1426/6000: episode: 119, duration: 0.128s, episode steps:   9, steps per second:  70, episode reward:  9.000, mean reward:  1.000 [ 1.000,  1.000], mean action: 1.000 [1.000, 1.000],  loss: 1.026778, mae: 4.219625, mean_q: 7.980832, mean_eps: 0.200000\n",
            " 1437/6000: episode: 120, duration: 0.136s, episode steps:  11, steps per second:  81, episode reward: 11.000, mean reward:  1.000 [ 1.000,  1.000], mean action: 1.000 [1.000, 1.000],  loss: 0.958569, mae: 4.207013, mean_q: 8.023868, mean_eps: 0.200000\n",
            " 1448/6000: episode: 121, duration: 0.145s, episode steps:  11, steps per second:  76, episode reward: 11.000, mean reward:  1.000 [ 1.000,  1.000], mean action: 0.818 [0.000, 1.000],  loss: 1.315462, mae: 4.357566, mean_q: 8.254217, mean_eps: 0.200000\n",
            " 1456/6000: episode: 122, duration: 0.110s, episode steps:   8, steps per second:  73, episode reward:  8.000, mean reward:  1.000 [ 1.000,  1.000], mean action: 1.000 [1.000, 1.000],  loss: 0.916386, mae: 4.303860, mean_q: 8.208172, mean_eps: 0.200000\n",
            " 1466/6000: episode: 123, duration: 0.138s, episode steps:  10, steps per second:  73, episode reward: 10.000, mean reward:  1.000 [ 1.000,  1.000], mean action: 0.800 [0.000, 1.000],  loss: 0.457926, mae: 4.371553, mean_q: 8.401551, mean_eps: 0.200000\n",
            " 1475/6000: episode: 124, duration: 0.113s, episode steps:   9, steps per second:  80, episode reward:  9.000, mean reward:  1.000 [ 1.000,  1.000], mean action: 0.889 [0.000, 1.000],  loss: 1.499434, mae: 4.312753, mean_q: 8.176460, mean_eps: 0.200000\n",
            " 1485/6000: episode: 125, duration: 0.144s, episode steps:  10, steps per second:  69, episode reward: 10.000, mean reward:  1.000 [ 1.000,  1.000], mean action: 0.800 [0.000, 1.000],  loss: 0.702236, mae: 4.408773, mean_q: 8.424351, mean_eps: 0.200000\n",
            " 1495/6000: episode: 126, duration: 0.130s, episode steps:  10, steps per second:  77, episode reward: 10.000, mean reward:  1.000 [ 1.000,  1.000], mean action: 0.800 [0.000, 1.000],  loss: 1.768283, mae: 4.487112, mean_q: 8.384881, mean_eps: 0.200000\n",
            " 1508/6000: episode: 127, duration: 0.160s, episode steps:  13, steps per second:  81, episode reward: 13.000, mean reward:  1.000 [ 1.000,  1.000], mean action: 0.692 [0.000, 1.000],  loss: 1.277391, mae: 4.542145, mean_q: 8.604105, mean_eps: 0.200000\n",
            " 1521/6000: episode: 128, duration: 0.153s, episode steps:  13, steps per second:  85, episode reward: 13.000, mean reward:  1.000 [ 1.000,  1.000], mean action: 0.769 [0.000, 1.000],  loss: 1.892512, mae: 4.677891, mean_q: 8.813899, mean_eps: 0.200000\n",
            " 1533/6000: episode: 129, duration: 0.157s, episode steps:  12, steps per second:  76, episode reward: 12.000, mean reward:  1.000 [ 1.000,  1.000], mean action: 0.667 [0.000, 1.000],  loss: 1.788806, mae: 4.681255, mean_q: 8.788210, mean_eps: 0.200000\n",
            " 1548/6000: episode: 130, duration: 0.185s, episode steps:  15, steps per second:  81, episode reward: 15.000, mean reward:  1.000 [ 1.000,  1.000], mean action: 0.800 [0.000, 1.000],  loss: 1.679753, mae: 4.762226, mean_q: 8.901239, mean_eps: 0.200000\n",
            " 1557/6000: episode: 131, duration: 0.125s, episode steps:   9, steps per second:  72, episode reward:  9.000, mean reward:  1.000 [ 1.000,  1.000], mean action: 1.000 [1.000, 1.000],  loss: 1.497447, mae: 4.845192, mean_q: 9.054576, mean_eps: 0.200000\n",
            " 1566/6000: episode: 132, duration: 0.129s, episode steps:   9, steps per second:  70, episode reward:  9.000, mean reward:  1.000 [ 1.000,  1.000], mean action: 1.000 [1.000, 1.000],  loss: 0.815320, mae: 4.579069, mean_q: 8.729220, mean_eps: 0.200000\n",
            " 1576/6000: episode: 133, duration: 0.133s, episode steps:  10, steps per second:  75, episode reward: 10.000, mean reward:  1.000 [ 1.000,  1.000], mean action: 0.900 [0.000, 1.000],  loss: 2.386830, mae: 4.969353, mean_q: 9.360258, mean_eps: 0.200000\n",
            " 1586/6000: episode: 134, duration: 0.126s, episode steps:  10, steps per second:  79, episode reward: 10.000, mean reward:  1.000 [ 1.000,  1.000], mean action: 0.900 [0.000, 1.000],  loss: 2.873213, mae: 4.870021, mean_q: 8.951168, mean_eps: 0.200000\n",
            " 1596/6000: episode: 135, duration: 0.140s, episode steps:  10, steps per second:  71, episode reward: 10.000, mean reward:  1.000 [ 1.000,  1.000], mean action: 0.700 [0.000, 1.000],  loss: 1.588554, mae: 4.842542, mean_q: 8.866314, mean_eps: 0.200000\n",
            " 1606/6000: episode: 136, duration: 0.123s, episode steps:  10, steps per second:  81, episode reward: 10.000, mean reward:  1.000 [ 1.000,  1.000], mean action: 0.800 [0.000, 1.000],  loss: 1.518065, mae: 4.771214, mean_q: 8.744933, mean_eps: 0.200000\n",
            " 1618/6000: episode: 137, duration: 0.168s, episode steps:  12, steps per second:  71, episode reward: 12.000, mean reward:  1.000 [ 1.000,  1.000], mean action: 0.833 [0.000, 1.000],  loss: 2.037474, mae: 4.827209, mean_q: 8.956309, mean_eps: 0.200000\n",
            " 1627/6000: episode: 138, duration: 0.114s, episode steps:   9, steps per second:  79, episode reward:  9.000, mean reward:  1.000 [ 1.000,  1.000], mean action: 0.778 [0.000, 1.000],  loss: 3.131437, mae: 5.098271, mean_q: 9.322982, mean_eps: 0.200000\n",
            " 1637/6000: episode: 139, duration: 0.137s, episode steps:  10, steps per second:  73, episode reward: 10.000, mean reward:  1.000 [ 1.000,  1.000], mean action: 0.800 [0.000, 1.000],  loss: 1.563220, mae: 4.949878, mean_q: 9.153828, mean_eps: 0.200000\n",
            " 1649/6000: episode: 140, duration: 0.175s, episode steps:  12, steps per second:  69, episode reward: 12.000, mean reward:  1.000 [ 1.000,  1.000], mean action: 0.667 [0.000, 1.000],  loss: 2.485970, mae: 5.125842, mean_q: 9.374296, mean_eps: 0.200000\n",
            " 1660/6000: episode: 141, duration: 0.136s, episode steps:  11, steps per second:  81, episode reward: 11.000, mean reward:  1.000 [ 1.000,  1.000], mean action: 0.727 [0.000, 1.000],  loss: 1.475750, mae: 4.750715, mean_q: 8.816164, mean_eps: 0.200000\n",
            " 1673/6000: episode: 142, duration: 0.165s, episode steps:  13, steps per second:  79, episode reward: 13.000, mean reward:  1.000 [ 1.000,  1.000], mean action: 0.615 [0.000, 1.000],  loss: 3.167926, mae: 5.141871, mean_q: 9.314396, mean_eps: 0.200000\n",
            " 1691/6000: episode: 143, duration: 0.232s, episode steps:  18, steps per second:  77, episode reward: 18.000, mean reward:  1.000 [ 1.000,  1.000], mean action: 0.556 [0.000, 1.000],  loss: 2.379252, mae: 4.986177, mean_q: 9.109634, mean_eps: 0.200000\n",
            " 1707/6000: episode: 144, duration: 0.193s, episode steps:  16, steps per second:  83, episode reward: 16.000, mean reward:  1.000 [ 1.000,  1.000], mean action: 0.562 [0.000, 1.000],  loss: 1.347618, mae: 5.071007, mean_q: 9.489913, mean_eps: 0.200000\n",
            " 1722/6000: episode: 145, duration: 0.204s, episode steps:  15, steps per second:  74, episode reward: 15.000, mean reward:  1.000 [ 1.000,  1.000], mean action: 0.533 [0.000, 1.000],  loss: 2.239513, mae: 5.151616, mean_q: 9.589792, mean_eps: 0.200000\n",
            " 1734/6000: episode: 146, duration: 0.151s, episode steps:  12, steps per second:  80, episode reward: 12.000, mean reward:  1.000 [ 1.000,  1.000], mean action: 0.583 [0.000, 1.000],  loss: 1.654247, mae: 5.028924, mean_q: 9.415071, mean_eps: 0.200000\n",
            " 1757/6000: episode: 147, duration: 0.299s, episode steps:  23, steps per second:  77, episode reward: 23.000, mean reward:  1.000 [ 1.000,  1.000], mean action: 0.435 [0.000, 1.000],  loss: 3.290365, mae: 5.168357, mean_q: 9.278672, mean_eps: 0.200000\n",
            " 1814/6000: episode: 148, duration: 0.712s, episode steps:  57, steps per second:  80, episode reward: 57.000, mean reward:  1.000 [ 1.000,  1.000], mean action: 0.474 [0.000, 1.000],  loss: 2.340588, mae: 5.208996, mean_q: 9.546458, mean_eps: 0.200000\n",
            " 1836/6000: episode: 149, duration: 0.285s, episode steps:  22, steps per second:  77, episode reward: 22.000, mean reward:  1.000 [ 1.000,  1.000], mean action: 0.500 [0.000, 1.000],  loss: 2.510784, mae: 5.245377, mean_q: 9.642138, mean_eps: 0.200000\n",
            " 1860/6000: episode: 150, duration: 0.314s, episode steps:  24, steps per second:  76, episode reward: 24.000, mean reward:  1.000 [ 1.000,  1.000], mean action: 0.500 [0.000, 1.000],  loss: 2.519841, mae: 5.318725, mean_q: 9.663902, mean_eps: 0.200000\n",
            " 1882/6000: episode: 151, duration: 0.302s, episode steps:  22, steps per second:  73, episode reward: 22.000, mean reward:  1.000 [ 1.000,  1.000], mean action: 0.500 [0.000, 1.000],  loss: 1.981743, mae: 5.296042, mean_q: 9.775457, mean_eps: 0.200000\n",
            " 1899/6000: episode: 152, duration: 0.230s, episode steps:  17, steps per second:  74, episode reward: 17.000, mean reward:  1.000 [ 1.000,  1.000], mean action: 0.588 [0.000, 1.000],  loss: 2.187656, mae: 5.318539, mean_q: 9.885346, mean_eps: 0.200000\n",
            " 1922/6000: episode: 153, duration: 0.287s, episode steps:  23, steps per second:  80, episode reward: 23.000, mean reward:  1.000 [ 1.000,  1.000], mean action: 0.478 [0.000, 1.000],  loss: 2.552184, mae: 5.411230, mean_q: 9.948980, mean_eps: 0.200000\n",
            " 1948/6000: episode: 154, duration: 0.340s, episode steps:  26, steps per second:  77, episode reward: 26.000, mean reward:  1.000 [ 1.000,  1.000], mean action: 0.500 [0.000, 1.000],  loss: 2.086903, mae: 5.367347, mean_q: 9.879379, mean_eps: 0.200000\n",
            " 1965/6000: episode: 155, duration: 0.235s, episode steps:  17, steps per second:  72, episode reward: 17.000, mean reward:  1.000 [ 1.000,  1.000], mean action: 0.529 [0.000, 1.000],  loss: 2.458684, mae: 5.347971, mean_q: 9.852753, mean_eps: 0.200000\n",
            " 1992/6000: episode: 156, duration: 0.354s, episode steps:  27, steps per second:  76, episode reward: 27.000, mean reward:  1.000 [ 1.000,  1.000], mean action: 0.481 [0.000, 1.000],  loss: 1.544857, mae: 5.459879, mean_q: 10.241346, mean_eps: 0.200000\n",
            " 2015/6000: episode: 157, duration: 0.279s, episode steps:  23, steps per second:  83, episode reward: 23.000, mean reward:  1.000 [ 1.000,  1.000], mean action: 0.478 [0.000, 1.000],  loss: 2.001222, mae: 5.432702, mean_q: 10.070364, mean_eps: 0.200000\n",
            " 2063/6000: episode: 158, duration: 0.597s, episode steps:  48, steps per second:  80, episode reward: 48.000, mean reward:  1.000 [ 1.000,  1.000], mean action: 0.479 [0.000, 1.000],  loss: 2.068036, mae: 5.483273, mean_q: 10.156581, mean_eps: 0.200000\n",
            " 2117/6000: episode: 159, duration: 0.687s, episode steps:  54, steps per second:  79, episode reward: 54.000, mean reward:  1.000 [ 1.000,  1.000], mean action: 0.481 [0.000, 1.000],  loss: 1.873263, mae: 5.657254, mean_q: 10.589782, mean_eps: 0.200000\n",
            " 2150/6000: episode: 160, duration: 0.401s, episode steps:  33, steps per second:  82, episode reward: 33.000, mean reward:  1.000 [ 1.000,  1.000], mean action: 0.485 [0.000, 1.000],  loss: 1.386544, mae: 5.683213, mean_q: 10.764984, mean_eps: 0.200000\n",
            " 2207/6000: episode: 161, duration: 0.742s, episode steps:  57, steps per second:  77, episode reward: 57.000, mean reward:  1.000 [ 1.000,  1.000], mean action: 0.474 [0.000, 1.000],  loss: 1.906624, mae: 5.839196, mean_q: 10.990529, mean_eps: 0.200000\n",
            " 2243/6000: episode: 162, duration: 0.443s, episode steps:  36, steps per second:  81, episode reward: 36.000, mean reward:  1.000 [ 1.000,  1.000], mean action: 0.472 [0.000, 1.000],  loss: 2.414178, mae: 5.788727, mean_q: 10.761299, mean_eps: 0.200000\n",
            " 2315/6000: episode: 163, duration: 0.857s, episode steps:  72, steps per second:  84, episode reward: 72.000, mean reward:  1.000 [ 1.000,  1.000], mean action: 0.486 [0.000, 1.000],  loss: 1.839072, mae: 5.916986, mean_q: 11.163329, mean_eps: 0.200000\n",
            " 2367/6000: episode: 164, duration: 0.644s, episode steps:  52, steps per second:  81, episode reward: 52.000, mean reward:  1.000 [ 1.000,  1.000], mean action: 0.462 [0.000, 1.000],  loss: 2.002217, mae: 6.092717, mean_q: 11.455740, mean_eps: 0.200000\n",
            " 2431/6000: episode: 165, duration: 0.770s, episode steps:  64, steps per second:  83, episode reward: 64.000, mean reward:  1.000 [ 1.000,  1.000], mean action: 0.516 [0.000, 1.000],  loss: 1.941340, mae: 6.194264, mean_q: 11.706501, mean_eps: 0.200000\n",
            " 2552/6000: episode: 166, duration: 1.425s, episode steps: 121, steps per second:  85, episode reward: 121.000, mean reward:  1.000 [ 1.000,  1.000], mean action: 0.512 [0.000, 1.000],  loss: 2.336775, mae: 6.300971, mean_q: 11.832594, mean_eps: 0.200000\n",
            " 2614/6000: episode: 167, duration: 0.737s, episode steps:  62, steps per second:  84, episode reward: 62.000, mean reward:  1.000 [ 1.000,  1.000], mean action: 0.532 [0.000, 1.000],  loss: 1.799240, mae: 6.477371, mean_q: 12.336664, mean_eps: 0.200000\n",
            " 2680/6000: episode: 168, duration: 0.802s, episode steps:  66, steps per second:  82, episode reward: 66.000, mean reward:  1.000 [ 1.000,  1.000], mean action: 0.530 [0.000, 1.000],  loss: 1.938479, mae: 6.610904, mean_q: 12.577566, mean_eps: 0.200000\n",
            " 2737/6000: episode: 169, duration: 0.662s, episode steps:  57, steps per second:  86, episode reward: 57.000, mean reward:  1.000 [ 1.000,  1.000], mean action: 0.474 [0.000, 1.000],  loss: 2.401447, mae: 6.753019, mean_q: 12.791793, mean_eps: 0.200000\n",
            " 2790/6000: episode: 170, duration: 0.645s, episode steps:  53, steps per second:  82, episode reward: 53.000, mean reward:  1.000 [ 1.000,  1.000], mean action: 0.472 [0.000, 1.000],  loss: 2.299534, mae: 6.808068, mean_q: 12.900455, mean_eps: 0.200000\n",
            " 2860/6000: episode: 171, duration: 0.850s, episode steps:  70, steps per second:  82, episode reward: 70.000, mean reward:  1.000 [ 1.000,  1.000], mean action: 0.529 [0.000, 1.000],  loss: 2.341421, mae: 6.925639, mean_q: 13.127703, mean_eps: 0.200000\n",
            " 2893/6000: episode: 172, duration: 0.404s, episode steps:  33, steps per second:  82, episode reward: 33.000, mean reward:  1.000 [ 1.000,  1.000], mean action: 0.455 [0.000, 1.000],  loss: 2.303547, mae: 6.973665, mean_q: 13.247427, mean_eps: 0.200000\n",
            " 3034/6000: episode: 173, duration: 1.664s, episode steps: 141, steps per second:  85, episode reward: 141.000, mean reward:  1.000 [ 1.000,  1.000], mean action: 0.489 [0.000, 1.000],  loss: 2.197098, mae: 7.094057, mean_q: 13.483263, mean_eps: 0.200000\n",
            " 3102/6000: episode: 174, duration: 0.824s, episode steps:  68, steps per second:  83, episode reward: 68.000, mean reward:  1.000 [ 1.000,  1.000], mean action: 0.471 [0.000, 1.000],  loss: 2.114417, mae: 7.297567, mean_q: 13.969727, mean_eps: 0.200000\n",
            " 3195/6000: episode: 175, duration: 1.113s, episode steps:  93, steps per second:  84, episode reward: 93.000, mean reward:  1.000 [ 1.000,  1.000], mean action: 0.527 [0.000, 1.000],  loss: 2.163200, mae: 7.454266, mean_q: 14.309602, mean_eps: 0.200000\n",
            " 3224/6000: episode: 176, duration: 0.361s, episode steps:  29, steps per second:  80, episode reward: 29.000, mean reward:  1.000 [ 1.000,  1.000], mean action: 0.448 [0.000, 1.000],  loss: 1.579044, mae: 7.486896, mean_q: 14.444993, mean_eps: 0.200000\n",
            " 3293/6000: episode: 177, duration: 0.802s, episode steps:  69, steps per second:  86, episode reward: 69.000, mean reward:  1.000 [ 1.000,  1.000], mean action: 0.536 [0.000, 1.000],  loss: 2.271633, mae: 7.686868, mean_q: 14.778585, mean_eps: 0.200000\n",
            " 3336/6000: episode: 178, duration: 0.534s, episode steps:  43, steps per second:  80, episode reward: 43.000, mean reward:  1.000 [ 1.000,  1.000], mean action: 0.465 [0.000, 1.000],  loss: 2.911773, mae: 7.941347, mean_q: 15.130882, mean_eps: 0.200000\n",
            " 3410/6000: episode: 179, duration: 0.867s, episode steps:  74, steps per second:  85, episode reward: 74.000, mean reward:  1.000 [ 1.000,  1.000], mean action: 0.527 [0.000, 1.000],  loss: 2.320547, mae: 7.888828, mean_q: 15.140657, mean_eps: 0.200000\n",
            " 3453/6000: episode: 180, duration: 0.529s, episode steps:  43, steps per second:  81, episode reward: 43.000, mean reward:  1.000 [ 1.000,  1.000], mean action: 0.488 [0.000, 1.000],  loss: 3.175237, mae: 8.068853, mean_q: 15.381300, mean_eps: 0.200000\n",
            " 3512/6000: episode: 181, duration: 1.480s, episode steps:  59, steps per second:  40, episode reward: 59.000, mean reward:  1.000 [ 1.000,  1.000], mean action: 0.542 [0.000, 1.000],  loss: 2.526437, mae: 8.079186, mean_q: 15.535372, mean_eps: 0.200000\n",
            " 3571/6000: episode: 182, duration: 1.062s, episode steps:  59, steps per second:  56, episode reward: 59.000, mean reward:  1.000 [ 1.000,  1.000], mean action: 0.475 [0.000, 1.000],  loss: 2.964840, mae: 8.154759, mean_q: 15.592696, mean_eps: 0.200000\n",
            " 3618/6000: episode: 183, duration: 0.562s, episode steps:  47, steps per second:  84, episode reward: 47.000, mean reward:  1.000 [ 1.000,  1.000], mean action: 0.468 [0.000, 1.000],  loss: 2.612647, mae: 8.221634, mean_q: 15.775309, mean_eps: 0.200000\n",
            " 3727/6000: episode: 184, duration: 1.293s, episode steps: 109, steps per second:  84, episode reward: 109.000, mean reward:  1.000 [ 1.000,  1.000], mean action: 0.514 [0.000, 1.000],  loss: 2.043675, mae: 8.397284, mean_q: 16.240506, mean_eps: 0.200000\n",
            " 3787/6000: episode: 185, duration: 0.709s, episode steps:  60, steps per second:  85, episode reward: 60.000, mean reward:  1.000 [ 1.000,  1.000], mean action: 0.533 [0.000, 1.000],  loss: 2.583395, mae: 8.612649, mean_q: 16.628343, mean_eps: 0.200000\n",
            " 3900/6000: episode: 186, duration: 1.356s, episode steps: 113, steps per second:  83, episode reward: 113.000, mean reward:  1.000 [ 1.000,  1.000], mean action: 0.487 [0.000, 1.000],  loss: 2.751261, mae: 8.797120, mean_q: 16.994207, mean_eps: 0.200000\n",
            " 4050/6000: episode: 187, duration: 1.722s, episode steps: 150, steps per second:  87, episode reward: 150.000, mean reward:  1.000 [ 1.000,  1.000], mean action: 0.513 [0.000, 1.000],  loss: 2.861665, mae: 9.081550, mean_q: 17.534990, mean_eps: 0.200000\n",
            " 4125/6000: episode: 188, duration: 0.887s, episode steps:  75, steps per second:  85, episode reward: 75.000, mean reward:  1.000 [ 1.000,  1.000], mean action: 0.493 [0.000, 1.000],  loss: 2.617629, mae: 9.181231, mean_q: 17.785927, mean_eps: 0.200000\n",
            " 4229/6000: episode: 189, duration: 1.242s, episode steps: 104, steps per second:  84, episode reward: 104.000, mean reward:  1.000 [ 1.000,  1.000], mean action: 0.490 [0.000, 1.000],  loss: 3.923906, mae: 9.450769, mean_q: 18.138321, mean_eps: 0.200000\n",
            " 4288/6000: episode: 190, duration: 0.742s, episode steps:  59, steps per second:  80, episode reward: 59.000, mean reward:  1.000 [ 1.000,  1.000], mean action: 0.525 [0.000, 1.000],  loss: 3.052248, mae: 9.562761, mean_q: 18.513722, mean_eps: 0.200000\n",
            " 4365/6000: episode: 191, duration: 1.011s, episode steps:  77, steps per second:  76, episode reward: 77.000, mean reward:  1.000 [ 1.000,  1.000], mean action: 0.532 [0.000, 1.000],  loss: 3.117933, mae: 9.637307, mean_q: 18.682639, mean_eps: 0.200000\n",
            " 4450/6000: episode: 192, duration: 1.067s, episode steps:  85, steps per second:  80, episode reward: 85.000, mean reward:  1.000 [ 1.000,  1.000], mean action: 0.482 [0.000, 1.000],  loss: 2.660304, mae: 9.751269, mean_q: 19.013860, mean_eps: 0.200000\n",
            " 4514/6000: episode: 193, duration: 0.824s, episode steps:  64, steps per second:  78, episode reward: 64.000, mean reward:  1.000 [ 1.000,  1.000], mean action: 0.469 [0.000, 1.000],  loss: 3.527987, mae: 9.905264, mean_q: 19.089410, mean_eps: 0.200000\n",
            " 4575/6000: episode: 194, duration: 0.808s, episode steps:  61, steps per second:  76, episode reward: 61.000, mean reward:  1.000 [ 1.000,  1.000], mean action: 0.475 [0.000, 1.000],  loss: 3.107367, mae: 9.971789, mean_q: 19.336585, mean_eps: 0.200000\n",
            " 4695/6000: episode: 195, duration: 1.467s, episode steps: 120, steps per second:  82, episode reward: 120.000, mean reward:  1.000 [ 1.000,  1.000], mean action: 0.483 [0.000, 1.000],  loss: 3.337129, mae: 10.182564, mean_q: 19.745585, mean_eps: 0.200000\n",
            " 4759/6000: episode: 196, duration: 0.826s, episode steps:  64, steps per second:  78, episode reward: 64.000, mean reward:  1.000 [ 1.000,  1.000], mean action: 0.484 [0.000, 1.000],  loss: 4.108836, mae: 10.292537, mean_q: 19.843874, mean_eps: 0.200000\n",
            " 4827/6000: episode: 197, duration: 0.866s, episode steps:  68, steps per second:  79, episode reward: 68.000, mean reward:  1.000 [ 1.000,  1.000], mean action: 0.485 [0.000, 1.000],  loss: 2.928500, mae: 10.391173, mean_q: 20.198343, mean_eps: 0.200000\n",
            " 4904/6000: episode: 198, duration: 0.995s, episode steps:  77, steps per second:  77, episode reward: 77.000, mean reward:  1.000 [ 1.000,  1.000], mean action: 0.532 [0.000, 1.000],  loss: 3.127545, mae: 10.445200, mean_q: 20.276197, mean_eps: 0.200000\n",
            " 4975/6000: episode: 199, duration: 0.950s, episode steps:  71, steps per second:  75, episode reward: 71.000, mean reward:  1.000 [ 1.000,  1.000], mean action: 0.479 [0.000, 1.000],  loss: 3.465452, mae: 10.528797, mean_q: 20.443630, mean_eps: 0.200000\n",
            " 5044/6000: episode: 200, duration: 0.880s, episode steps:  69, steps per second:  78, episode reward: 69.000, mean reward:  1.000 [ 1.000,  1.000], mean action: 0.478 [0.000, 1.000],  loss: 4.202000, mae: 10.666693, mean_q: 20.572365, mean_eps: 0.200000\n",
            " 5158/6000: episode: 201, duration: 1.381s, episode steps: 114, steps per second:  83, episode reward: 114.000, mean reward:  1.000 [ 1.000,  1.000], mean action: 0.526 [0.000, 1.000],  loss: 3.307937, mae: 10.723900, mean_q: 20.849246, mean_eps: 0.200000\n",
            " 5220/6000: episode: 202, duration: 0.769s, episode steps:  62, steps per second:  81, episode reward: 62.000, mean reward:  1.000 [ 1.000,  1.000], mean action: 0.468 [0.000, 1.000],  loss: 2.780104, mae: 10.911846, mean_q: 21.297878, mean_eps: 0.200000\n",
            " 5279/6000: episode: 203, duration: 0.779s, episode steps:  59, steps per second:  76, episode reward: 59.000, mean reward:  1.000 [ 1.000,  1.000], mean action: 0.492 [0.000, 1.000],  loss: 3.741701, mae: 11.089009, mean_q: 21.553861, mean_eps: 0.200000\n",
            " 5323/6000: episode: 204, duration: 0.570s, episode steps:  44, steps per second:  77, episode reward: 44.000, mean reward:  1.000 [ 1.000,  1.000], mean action: 0.455 [0.000, 1.000],  loss: 3.511536, mae: 11.084851, mean_q: 21.602083, mean_eps: 0.200000\n",
            " 5384/6000: episode: 205, duration: 0.805s, episode steps:  61, steps per second:  76, episode reward: 61.000, mean reward:  1.000 [ 1.000,  1.000], mean action: 0.475 [0.000, 1.000],  loss: 2.880581, mae: 11.189730, mean_q: 21.914052, mean_eps: 0.200000\n",
            " 5434/6000: episode: 206, duration: 0.651s, episode steps:  50, steps per second:  77, episode reward: 50.000, mean reward:  1.000 [ 1.000,  1.000], mean action: 0.460 [0.000, 1.000],  loss: 4.102165, mae: 11.264711, mean_q: 21.895192, mean_eps: 0.200000\n",
            " 5530/6000: episode: 207, duration: 1.279s, episode steps:  96, steps per second:  75, episode reward: 96.000, mean reward:  1.000 [ 1.000,  1.000], mean action: 0.490 [0.000, 1.000],  loss: 3.934198, mae: 11.487267, mean_q: 22.371871, mean_eps: 0.200000\n",
            " 5631/6000: episode: 208, duration: 1.321s, episode steps: 101, steps per second:  76, episode reward: 101.000, mean reward:  1.000 [ 1.000,  1.000], mean action: 0.525 [0.000, 1.000],  loss: 3.874461, mae: 11.585683, mean_q: 22.574237, mean_eps: 0.200000\n",
            " 5716/6000: episode: 209, duration: 1.069s, episode steps:  85, steps per second:  80, episode reward: 85.000, mean reward:  1.000 [ 1.000,  1.000], mean action: 0.529 [0.000, 1.000],  loss: 3.968236, mae: 11.677668, mean_q: 22.746749, mean_eps: 0.200000\n",
            " 5822/6000: episode: 210, duration: 1.338s, episode steps: 106, steps per second:  79, episode reward: 106.000, mean reward:  1.000 [ 1.000,  1.000], mean action: 0.528 [0.000, 1.000],  loss: 3.941522, mae: 11.826872, mean_q: 23.063805, mean_eps: 0.200000\n",
            " 5880/6000: episode: 211, duration: 0.724s, episode steps:  58, steps per second:  80, episode reward: 58.000, mean reward:  1.000 [ 1.000,  1.000], mean action: 0.483 [0.000, 1.000],  loss: 3.569974, mae: 12.060047, mean_q: 23.545627, mean_eps: 0.200000\n",
            " 5954/6000: episode: 212, duration: 0.931s, episode steps:  74, steps per second:  79, episode reward: 74.000, mean reward:  1.000 [ 1.000,  1.000], mean action: 0.486 [0.000, 1.000],  loss: 3.511974, mae: 12.057698, mean_q: 23.624106, mean_eps: 0.200000\n",
            "done, took 85.171 seconds\n"
          ]
        },
        {
          "output_type": "display_data",
          "data": {
            "text/plain": [
              "<Figure size 432x288 with 1 Axes>"
            ],
            "image/png": "[encoded data removed]"
          },
          "metadata": {
            "needs_background": "light"
          }
        },
        {
          "output_type": "stream",
          "name": "stdout",
          "text": [
            "Testing for 20 episodes ...\n",
            "Episode 1: reward: 200.000, steps: 200\n",
            "Episode 2: reward: 58.000, steps: 58\n",
            "Episode 3: reward: 77.000, steps: 77\n",
            "Episode 4: reward: 73.000, steps: 73\n",
            "Episode 5: reward: 143.000, steps: 143\n",
            "Episode 6: reward: 91.000, steps: 91\n",
            "Episode 7: reward: 96.000, steps: 96\n",
            "Episode 8: reward: 200.000, steps: 200\n",
            "Episode 9: reward: 155.000, steps: 155\n",
            "Episode 10: reward: 95.000, steps: 95\n",
            "Episode 11: reward: 71.000, steps: 71\n",
            "Episode 12: reward: 200.000, steps: 200\n",
            "Episode 13: reward: 103.000, steps: 103\n",
            "Episode 14: reward: 200.000, steps: 200\n",
            "Episode 15: reward: 91.000, steps: 91\n",
            "Episode 16: reward: 114.000, steps: 114\n",
            "Episode 17: reward: 52.000, steps: 52\n",
            "Episode 18: reward: 72.000, steps: 72\n",
            "Episode 19: reward: 161.000, steps: 161\n",
            "Episode 20: reward: 151.000, steps: 151\n"
          ]
        },
        {
          "output_type": "execute_result",
          "data": {
            "text/plain": [
              "<keras.callbacks.History at 0x7fb17210e810>"
            ]
          },
          "metadata": {},
          "execution_count": 84
        }
      ]
    }
  ]
}