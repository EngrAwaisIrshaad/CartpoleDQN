{
  "nbformat": 4,
  "nbformat_minor": 0,
  "metadata": {
    "colab": {
      "name": "CartPoleDQN.ipynb",
      "provenance": [],
      "collapsed_sections": [],
      "include_colab_link": true
    },
    "kernelspec": {
      "name": "python3",
      "display_name": "Python 3"
    }
  },
  "cells": [
    {
      "cell_type": "markdown",
      "metadata": {
        "id": "view-in-github",
        "colab_type": "text"
      },
      "source": [
        "<a href=\"https://colab.research.google.com/github/Megacity1/CartpoleDQN/blob/main/Week%203%20Deep%20RL%202/CartPoleDQN.ipynb\" target=\"_parent\"><img src=\"https://colab.research.google.com/assets/colab-badge.svg\" alt=\"Open In Colab\"/></a>"
      ]
    },
    {
      "cell_type": "markdown",
      "metadata": {
        "id": "VKK5DA390wRe"
      },
      "source": [
        "# Deep Q Network (DQN) for CartPole Using Boltzmann Q Policy\n",
        "This exercise implements a DQN for CartPole using a Boltzmann Q policy for selecting the actions"
      ]
    },
    {
      "cell_type": "code",
      "metadata": {
        "id": "LGsC7cJ5jNcX",
        "colab": {
          "base_uri": "https://localhost:8080/"
        },
        "outputId": "cda73cbf-3020-40f4-e45e-7b87053448f1"
      },
      "source": [
        "# install keras rl2 (we need to install keras-rl2 so it works with the tensorflow 2 version that comes pre-installed with colab)\n",
        "!pip install keras-rl2"
      ],
      "execution_count": 57,
      "outputs": [
        {
          "output_type": "stream",
          "name": "stdout",
          "text": [
            "Requirement already satisfied: keras-rl2 in /usr/local/lib/python3.7/dist-packages (1.0.5)\n",
            "Requirement already satisfied: tensorflow in /usr/local/lib/python3.7/dist-packages (from keras-rl2) (2.8.0)\n",
            "Requirement already satisfied: keras-preprocessing>=1.1.1 in /usr/local/lib/python3.7/dist-packages (from tensorflow->keras-rl2) (1.1.2)\n",
            "Requirement already satisfied: protobuf>=3.9.2 in /usr/local/lib/python3.7/dist-packages (from tensorflow->keras-rl2) (3.17.3)\n",
            "Requirement already satisfied: tensorflow-io-gcs-filesystem>=0.23.1 in /usr/local/lib/python3.7/dist-packages (from tensorflow->keras-rl2) (0.24.0)\n",
            "Requirement already satisfied: libclang>=9.0.1 in /usr/local/lib/python3.7/dist-packages (from tensorflow->keras-rl2) (13.0.0)\n",
            "Requirement already satisfied: h5py>=2.9.0 in /usr/local/lib/python3.7/dist-packages (from tensorflow->keras-rl2) (3.1.0)\n",
            "Requirement already satisfied: opt-einsum>=2.3.2 in /usr/local/lib/python3.7/dist-packages (from tensorflow->keras-rl2) (3.3.0)\n",
            "Requirement already satisfied: gast>=0.2.1 in /usr/local/lib/python3.7/dist-packages (from tensorflow->keras-rl2) (0.5.3)\n",
            "Requirement already satisfied: grpcio<2.0,>=1.24.3 in /usr/local/lib/python3.7/dist-packages (from tensorflow->keras-rl2) (1.44.0)\n",
            "Requirement already satisfied: tensorboard<2.9,>=2.8 in /usr/local/lib/python3.7/dist-packages (from tensorflow->keras-rl2) (2.8.0)\n",
            "Requirement already satisfied: wrapt>=1.11.0 in /usr/local/lib/python3.7/dist-packages (from tensorflow->keras-rl2) (1.14.0)\n",
            "Requirement already satisfied: absl-py>=0.4.0 in /usr/local/lib/python3.7/dist-packages (from tensorflow->keras-rl2) (1.0.0)\n",
            "Requirement already satisfied: flatbuffers>=1.12 in /usr/local/lib/python3.7/dist-packages (from tensorflow->keras-rl2) (2.0)\n",
            "Requirement already satisfied: termcolor>=1.1.0 in /usr/local/lib/python3.7/dist-packages (from tensorflow->keras-rl2) (1.1.0)\n",
            "Requirement already satisfied: keras<2.9,>=2.8.0rc0 in /usr/local/lib/python3.7/dist-packages (from tensorflow->keras-rl2) (2.8.0)\n",
            "Requirement already satisfied: six>=1.12.0 in /usr/local/lib/python3.7/dist-packages (from tensorflow->keras-rl2) (1.15.0)\n",
            "Requirement already satisfied: tf-estimator-nightly==2.8.0.dev2021122109 in /usr/local/lib/python3.7/dist-packages (from tensorflow->keras-rl2) (2.8.0.dev2021122109)\n",
            "Requirement already satisfied: numpy>=1.20 in /usr/local/lib/python3.7/dist-packages (from tensorflow->keras-rl2) (1.21.5)\n",
            "Requirement already satisfied: astunparse>=1.6.0 in /usr/local/lib/python3.7/dist-packages (from tensorflow->keras-rl2) (1.6.3)\n",
            "Requirement already satisfied: typing-extensions>=3.6.6 in /usr/local/lib/python3.7/dist-packages (from tensorflow->keras-rl2) (3.10.0.2)\n",
            "Requirement already satisfied: setuptools in /usr/local/lib/python3.7/dist-packages (from tensorflow->keras-rl2) (57.4.0)\n",
            "Requirement already satisfied: google-pasta>=0.1.1 in /usr/local/lib/python3.7/dist-packages (from tensorflow->keras-rl2) (0.2.0)\n",
            "Requirement already satisfied: wheel<1.0,>=0.23.0 in /usr/local/lib/python3.7/dist-packages (from astunparse>=1.6.0->tensorflow->keras-rl2) (0.37.1)\n",
            "Requirement already satisfied: cached-property in /usr/local/lib/python3.7/dist-packages (from h5py>=2.9.0->tensorflow->keras-rl2) (1.5.2)\n",
            "Requirement already satisfied: google-auth-oauthlib<0.5,>=0.4.1 in /usr/local/lib/python3.7/dist-packages (from tensorboard<2.9,>=2.8->tensorflow->keras-rl2) (0.4.6)\n",
            "Requirement already satisfied: requests<3,>=2.21.0 in /usr/local/lib/python3.7/dist-packages (from tensorboard<2.9,>=2.8->tensorflow->keras-rl2) (2.23.0)\n",
            "Requirement already satisfied: werkzeug>=0.11.15 in /usr/local/lib/python3.7/dist-packages (from tensorboard<2.9,>=2.8->tensorflow->keras-rl2) (1.0.1)\n",
            "Requirement already satisfied: markdown>=2.6.8 in /usr/local/lib/python3.7/dist-packages (from tensorboard<2.9,>=2.8->tensorflow->keras-rl2) (3.3.6)\n",
            "Requirement already satisfied: google-auth<3,>=1.6.3 in /usr/local/lib/python3.7/dist-packages (from tensorboard<2.9,>=2.8->tensorflow->keras-rl2) (1.35.0)\n",
            "Requirement already satisfied: tensorboard-data-server<0.7.0,>=0.6.0 in /usr/local/lib/python3.7/dist-packages (from tensorboard<2.9,>=2.8->tensorflow->keras-rl2) (0.6.1)\n",
            "Requirement already satisfied: tensorboard-plugin-wit>=1.6.0 in /usr/local/lib/python3.7/dist-packages (from tensorboard<2.9,>=2.8->tensorflow->keras-rl2) (1.8.1)\n",
            "Requirement already satisfied: pyasn1-modules>=0.2.1 in /usr/local/lib/python3.7/dist-packages (from google-auth<3,>=1.6.3->tensorboard<2.9,>=2.8->tensorflow->keras-rl2) (0.2.8)\n",
            "Requirement already satisfied: cachetools<5.0,>=2.0.0 in /usr/local/lib/python3.7/dist-packages (from google-auth<3,>=1.6.3->tensorboard<2.9,>=2.8->tensorflow->keras-rl2) (4.2.4)\n",
            "Requirement already satisfied: rsa<5,>=3.1.4 in /usr/local/lib/python3.7/dist-packages (from google-auth<3,>=1.6.3->tensorboard<2.9,>=2.8->tensorflow->keras-rl2) (4.8)\n",
            "Requirement already satisfied: requests-oauthlib>=0.7.0 in /usr/local/lib/python3.7/dist-packages (from google-auth-oauthlib<0.5,>=0.4.1->tensorboard<2.9,>=2.8->tensorflow->keras-rl2) (1.3.1)\n",
            "Requirement already satisfied: importlib-metadata>=4.4 in /usr/local/lib/python3.7/dist-packages (from markdown>=2.6.8->tensorboard<2.9,>=2.8->tensorflow->keras-rl2) (4.11.3)\n",
            "Requirement already satisfied: zipp>=0.5 in /usr/local/lib/python3.7/dist-packages (from importlib-metadata>=4.4->markdown>=2.6.8->tensorboard<2.9,>=2.8->tensorflow->keras-rl2) (3.7.0)\n",
            "Requirement already satisfied: pyasn1<0.5.0,>=0.4.6 in /usr/local/lib/python3.7/dist-packages (from pyasn1-modules>=0.2.1->google-auth<3,>=1.6.3->tensorboard<2.9,>=2.8->tensorflow->keras-rl2) (0.4.8)\n",
            "Requirement already satisfied: chardet<4,>=3.0.2 in /usr/local/lib/python3.7/dist-packages (from requests<3,>=2.21.0->tensorboard<2.9,>=2.8->tensorflow->keras-rl2) (3.0.4)\n",
            "Requirement already satisfied: urllib3!=1.25.0,!=1.25.1,<1.26,>=1.21.1 in /usr/local/lib/python3.7/dist-packages (from requests<3,>=2.21.0->tensorboard<2.9,>=2.8->tensorflow->keras-rl2) (1.24.3)\n",
            "Requirement already satisfied: idna<3,>=2.5 in /usr/local/lib/python3.7/dist-packages (from requests<3,>=2.21.0->tensorboard<2.9,>=2.8->tensorflow->keras-rl2) (2.10)\n",
            "Requirement already satisfied: certifi>=2017.4.17 in /usr/local/lib/python3.7/dist-packages (from requests<3,>=2.21.0->tensorboard<2.9,>=2.8->tensorflow->keras-rl2) (2021.10.8)\n",
            "Requirement already satisfied: oauthlib>=3.0.0 in /usr/local/lib/python3.7/dist-packages (from requests-oauthlib>=0.7.0->google-auth-oauthlib<0.5,>=0.4.1->tensorboard<2.9,>=2.8->tensorflow->keras-rl2) (3.2.0)\n"
          ]
        }
      ]
    },
    {
      "cell_type": "code",
      "metadata": {
        "id": "XMIHLgQ3Z-lF",
        "colab": {
          "base_uri": "https://localhost:8080/"
        },
        "outputId": "3d5a8608-456f-4127-ce8a-f551e5f4e4f3"
      },
      "source": [
        "!pip install gym"
      ],
      "execution_count": 58,
      "outputs": [
        {
          "output_type": "stream",
          "name": "stdout",
          "text": [
            "Requirement already satisfied: gym in /usr/local/lib/python3.7/dist-packages (0.17.3)\n",
            "Requirement already satisfied: numpy>=1.10.4 in /usr/local/lib/python3.7/dist-packages (from gym) (1.21.5)\n",
            "Requirement already satisfied: scipy in /usr/local/lib/python3.7/dist-packages (from gym) (1.4.1)\n",
            "Requirement already satisfied: pyglet<=1.5.0,>=1.4.0 in /usr/local/lib/python3.7/dist-packages (from gym) (1.5.0)\n",
            "Requirement already satisfied: cloudpickle<1.7.0,>=1.2.0 in /usr/local/lib/python3.7/dist-packages (from gym) (1.3.0)\n",
            "Requirement already satisfied: future in /usr/local/lib/python3.7/dist-packages (from pyglet<=1.5.0,>=1.4.0->gym) (0.16.0)\n"
          ]
        }
      ]
    },
    {
      "cell_type": "code",
      "metadata": {
        "id": "M0AMLzq08ap0",
        "colab": {
          "base_uri": "https://localhost:8080/"
        },
        "outputId": "77b380e1-6c3d-4bce-8233-a8ac01deaf26"
      },
      "source": [
        "# load the gym module\n",
        "import gym\n",
        "import matplotlib.pyplot as plt\n",
        "# import the usual Keras modules for creating deep neural networks\n",
        "from keras import Sequential\n",
        "from keras.layers import Input, Flatten, Dense\n",
        "!pip install Adam\n",
        "#from keras.optimizers import Adam\n",
        "from tensorflow.keras.optimizers import Adam\n",
        "ENV_NAME = 'CartPole-v0'\n",
        "env = gym.make(ENV_NAME)"
      ],
      "execution_count": 62,
      "outputs": [
        {
          "output_type": "stream",
          "name": "stdout",
          "text": [
            "Requirement already satisfied: Adam in /usr/local/lib/python3.7/dist-packages (0.0.0.dev0)\n"
          ]
        }
      ]
    },
    {
      "cell_type": "markdown",
      "metadata": {
        "id": "ll6bNdUm54WS"
      },
      "source": [
        "Implementation of DQN for CartPole, applying policy BoltzmannQPolicy"
      ]
    },
    {
      "cell_type": "markdown",
      "metadata": {
        "id": "RSCrPKNy40PC"
      },
      "source": [
        "##Implement DQN with BoltzmannGumbelQPolicy"
      ]
    },
    {
      "cell_type": "code",
      "metadata": {
        "id": "efM9jkXr5A3c",
        "colab": {
          "base_uri": "https://localhost:8080/",
          "height": 1000
        },
        "outputId": "1c48a840-9083-4921-8eb5-49034071207a"
      },
      "source": [
        "import rl\n",
        "from rl.memory import SequentialMemory  # import the exerience replay buffer module\n",
        "from rl.policy import BoltzmannGumbelQPolicy\n",
        "from rl.policy import LinearAnnealedPolicy\n",
        "from rl.policy import EpsGreedyQPolicy\n",
        "from rl.agents.dqn import DQNAgent      # import the DQN agent\n",
        "\n",
        "# setup experience replay buffer\n",
        "memory = SequentialMemory(limit=10000, window_length=1)\n",
        "\n",
        "policy = LinearAnnealedPolicy(EpsGreedyQPolicy(), \n",
        "                               attr='eps',            \n",
        "                               value_max=1.,\n",
        "                               value_min=.1, \n",
        "                               value_test=.05,\n",
        "                               nb_steps=200)\n",
        "# Q-Network\n",
        "model = Sequential()\n",
        "model.add(Input(shape=(1,env.observation_space.shape[0])))  # The input is 1 observation vector, and the number of observations in that vector \n",
        "model.add(Flatten())\n",
        "model.add(Dense(16, activation='relu'))\n",
        "# add extra layers here\n",
        "model.add(Dense(env.action_space.n, activation='linear'))   # the output is the number of actions in the action space\n",
        "print(model.summary())\n",
        "\n",
        "# define the agent\n",
        "dqn = DQNAgent(model=model, \n",
        "               nb_actions=env.action_space.n,\n",
        "               memory=memory,\n",
        "               nb_steps_warmup=40,\n",
        "               target_model_update=1e-3, \n",
        "               policy=policy) \n",
        "\n",
        "dqn.compile(Adam(lr=1e-3), metrics=['mae'])\n",
        "\n",
        "history = dqn.fit(env, nb_steps=2000, visualize=False, verbose=2)\n",
        "\n",
        "# summarize the history for number  of episode steps\n",
        "plt.plot(history.history['nb_episode_steps'])\n",
        "plt.ylabel('nb_episode_steps')\n",
        "plt.xlabel('episodes')\n",
        "plt.show()\n",
        "\n",
        "dqn.test(env, nb_episodes=20, visualize=False)"
      ],
      "execution_count": 72,
      "outputs": [
        {
          "output_type": "stream",
          "name": "stdout",
          "text": [
            "Model: \"sequential_23\"\n",
            "_________________________________________________________________\n",
            " Layer (type)                Output Shape              Param #   \n",
            "=================================================================\n",
            " flatten_21 (Flatten)        (None, 4)                 0         \n",
            "                                                                 \n",
            " dense_42 (Dense)            (None, 16)                80        \n",
            "                                                                 \n",
            " dense_43 (Dense)            (None, 2)                 34        \n",
            "                                                                 \n",
            "=================================================================\n",
            "Total params: 114\n",
            "Trainable params: 114\n",
            "Non-trainable params: 0\n",
            "_________________________________________________________________\n",
            "None\n"
          ]
        },
        {
          "output_type": "stream",
          "name": "stderr",
          "text": [
            "/usr/local/lib/python3.7/dist-packages/keras/optimizer_v2/adam.py:105: UserWarning: The `lr` argument is deprecated, use `learning_rate` instead.\n",
            "  super(Adam, self).__init__(name, **kwargs)\n"
          ]
        },
        {
          "output_type": "stream",
          "name": "stdout",
          "text": [
            "Training for 2000 steps ...\n"
          ]
        },
        {
          "output_type": "stream",
          "name": "stderr",
          "text": [
            "/usr/local/lib/python3.7/dist-packages/keras/engine/training_v1.py:2079: UserWarning: `Model.state_updates` will be removed in a future version. This property should not be used in TensorFlow 2.0, as `updates` are applied automatically.\n",
            "  updates=self.state_updates,\n"
          ]
        },
        {
          "output_type": "stream",
          "name": "stdout",
          "text": [
            "   29/2000: episode: 1, duration: 1.576s, episode steps:  29, steps per second:  18, episode reward: 29.000, mean reward:  1.000 [ 1.000,  1.000], mean action: 0.379 [0.000, 1.000],  loss: --, mae: --, mean_q: --, mean_eps: --\n"
          ]
        },
        {
          "output_type": "stream",
          "name": "stderr",
          "text": [
            "/usr/local/lib/python3.7/dist-packages/keras/engine/training_v1.py:2079: UserWarning: `Model.state_updates` will be removed in a future version. This property should not be used in TensorFlow 2.0, as `updates` are applied automatically.\n",
            "  updates=self.state_updates,\n"
          ]
        },
        {
          "output_type": "stream",
          "name": "stdout",
          "text": [
            "   41/2000: episode: 2, duration: 5.278s, episode steps:  12, steps per second:   2, episode reward: 12.000, mean reward:  1.000 [ 1.000,  1.000], mean action: 0.750 [0.000, 1.000],  loss: --, mae: --, mean_q: --, mean_eps: --\n",
            "   80/2000: episode: 3, duration: 0.472s, episode steps:  39, steps per second:  83, episode reward: 39.000, mean reward:  1.000 [ 1.000,  1.000], mean action: 0.564 [0.000, 1.000],  loss: 0.445309, mae: 0.592736, mean_q: 0.268992, mean_eps: 0.730000\n",
            "   89/2000: episode: 4, duration: 0.129s, episode steps:   9, steps per second:  70, episode reward:  9.000, mean reward:  1.000 [ 1.000,  1.000], mean action: 0.111 [0.000, 1.000],  loss: 0.317684, mae: 0.603765, mean_q: 0.438561, mean_eps: 0.622000\n",
            "  101/2000: episode: 5, duration: 0.167s, episode steps:  12, steps per second:  72, episode reward: 12.000, mean reward:  1.000 [ 1.000,  1.000], mean action: 0.250 [0.000, 1.000],  loss: 0.277895, mae: 0.608087, mean_q: 0.514322, mean_eps: 0.574750\n",
            "  112/2000: episode: 6, duration: 0.145s, episode steps:  11, steps per second:  76, episode reward: 11.000, mean reward:  1.000 [ 1.000,  1.000], mean action: 0.818 [0.000, 1.000],  loss: 0.238455, mae: 0.603565, mean_q: 0.574401, mean_eps: 0.523000\n",
            "  128/2000: episode: 7, duration: 0.243s, episode steps:  16, steps per second:  66, episode reward: 16.000, mean reward:  1.000 [ 1.000,  1.000], mean action: 0.312 [0.000, 1.000],  loss: 0.186194, mae: 0.628520, mean_q: 0.736387, mean_eps: 0.462250\n",
            "  138/2000: episode: 8, duration: 0.142s, episode steps:  10, steps per second:  70, episode reward: 10.000, mean reward:  1.000 [ 1.000,  1.000], mean action: 0.800 [0.000, 1.000],  loss: 0.150567, mae: 0.627189, mean_q: 0.812843, mean_eps: 0.403750\n",
            "  148/2000: episode: 9, duration: 0.155s, episode steps:  10, steps per second:  65, episode reward: 10.000, mean reward:  1.000 [ 1.000,  1.000], mean action: 0.200 [0.000, 1.000],  loss: 0.131795, mae: 0.656859, mean_q: 0.931397, mean_eps: 0.358750\n",
            "  158/2000: episode: 10, duration: 0.142s, episode steps:  10, steps per second:  70, episode reward: 10.000, mean reward:  1.000 [ 1.000,  1.000], mean action: 0.100 [0.000, 1.000],  loss: 0.112926, mae: 0.645756, mean_q: 0.962340, mean_eps: 0.313750\n",
            "  170/2000: episode: 11, duration: 0.205s, episode steps:  12, steps per second:  58, episode reward: 12.000, mean reward:  1.000 [ 1.000,  1.000], mean action: 0.083 [0.000, 1.000],  loss: 0.099134, mae: 0.649455, mean_q: 0.990881, mean_eps: 0.264250\n",
            "  183/2000: episode: 12, duration: 0.173s, episode steps:  13, steps per second:  75, episode reward: 13.000, mean reward:  1.000 [ 1.000,  1.000], mean action: 0.154 [0.000, 1.000],  loss: 0.077233, mae: 0.656206, mean_q: 1.077384, mean_eps: 0.208000\n",
            "  194/2000: episode: 13, duration: 0.156s, episode steps:  11, steps per second:  70, episode reward: 11.000, mean reward:  1.000 [ 1.000,  1.000], mean action: 0.091 [0.000, 1.000],  loss: 0.085068, mae: 0.674341, mean_q: 1.075749, mean_eps: 0.154000\n",
            "  204/2000: episode: 14, duration: 0.135s, episode steps:  10, steps per second:  74, episode reward: 10.000, mean reward:  1.000 [ 1.000,  1.000], mean action: 0.100 [0.000, 1.000],  loss: 0.065778, mae: 0.658345, mean_q: 1.062187, mean_eps: 0.109450\n",
            "  217/2000: episode: 15, duration: 0.161s, episode steps:  13, steps per second:  81, episode reward: 13.000, mean reward:  1.000 [ 1.000,  1.000], mean action: 0.077 [0.000, 1.000],  loss: 0.057422, mae: 0.664081, mean_q: 1.081744, mean_eps: 0.100000\n",
            "  230/2000: episode: 16, duration: 0.163s, episode steps:  13, steps per second:  80, episode reward: 13.000, mean reward:  1.000 [ 1.000,  1.000], mean action: 0.154 [0.000, 1.000],  loss: 0.054249, mae: 0.681249, mean_q: 1.135386, mean_eps: 0.100000\n",
            "  240/2000: episode: 17, duration: 0.136s, episode steps:  10, steps per second:  73, episode reward: 10.000, mean reward:  1.000 [ 1.000,  1.000], mean action: 0.000 [0.000, 0.000],  loss: 0.050117, mae: 0.692150, mean_q: 1.172611, mean_eps: 0.100000\n",
            "  251/2000: episode: 18, duration: 0.171s, episode steps:  11, steps per second:  64, episode reward: 11.000, mean reward:  1.000 [ 1.000,  1.000], mean action: 0.364 [0.000, 1.000],  loss: 0.047894, mae: 0.701151, mean_q: 1.189421, mean_eps: 0.100000\n",
            "  273/2000: episode: 19, duration: 0.312s, episode steps:  22, steps per second:  71, episode reward: 22.000, mean reward:  1.000 [ 1.000,  1.000], mean action: 0.500 [0.000, 1.000],  loss: 0.040010, mae: 0.675485, mean_q: 1.147492, mean_eps: 0.100000\n",
            "  298/2000: episode: 20, duration: 0.359s, episode steps:  25, steps per second:  70, episode reward: 25.000, mean reward:  1.000 [ 1.000,  1.000], mean action: 0.680 [0.000, 1.000],  loss: 0.035361, mae: 0.691505, mean_q: 1.204865, mean_eps: 0.100000\n",
            "  322/2000: episode: 21, duration: 0.326s, episode steps:  24, steps per second:  74, episode reward: 24.000, mean reward:  1.000 [ 1.000,  1.000], mean action: 0.750 [0.000, 1.000],  loss: 0.029631, mae: 0.703495, mean_q: 1.251708, mean_eps: 0.100000\n",
            "  347/2000: episode: 22, duration: 0.399s, episode steps:  25, steps per second:  63, episode reward: 25.000, mean reward:  1.000 [ 1.000,  1.000], mean action: 0.800 [0.000, 1.000],  loss: 0.028928, mae: 0.701692, mean_q: 1.300472, mean_eps: 0.100000\n",
            "  357/2000: episode: 23, duration: 0.159s, episode steps:  10, steps per second:  63, episode reward: 10.000, mean reward:  1.000 [ 1.000,  1.000], mean action: 0.400 [0.000, 1.000],  loss: 0.043485, mae: 0.752264, mean_q: 1.402132, mean_eps: 0.100000\n",
            "  379/2000: episode: 24, duration: 0.304s, episode steps:  22, steps per second:  72, episode reward: 22.000, mean reward:  1.000 [ 1.000,  1.000], mean action: 0.773 [0.000, 1.000],  loss: 0.030190, mae: 0.723070, mean_q: 1.337891, mean_eps: 0.100000\n",
            "  388/2000: episode: 25, duration: 0.132s, episode steps:   9, steps per second:  68, episode reward:  9.000, mean reward:  1.000 [ 1.000,  1.000], mean action: 1.000 [1.000, 1.000],  loss: 0.040671, mae: 0.755909, mean_q: 1.417405, mean_eps: 0.100000\n",
            "  398/2000: episode: 26, duration: 0.116s, episode steps:  10, steps per second:  86, episode reward: 10.000, mean reward:  1.000 [ 1.000,  1.000], mean action: 0.900 [0.000, 1.000],  loss: 0.031912, mae: 0.756903, mean_q: 1.433354, mean_eps: 0.100000\n",
            "  407/2000: episode: 27, duration: 0.118s, episode steps:   9, steps per second:  76, episode reward:  9.000, mean reward:  1.000 [ 1.000,  1.000], mean action: 0.889 [0.000, 1.000],  loss: 0.042810, mae: 0.752736, mean_q: 1.415886, mean_eps: 0.100000\n",
            "  415/2000: episode: 28, duration: 0.102s, episode steps:   8, steps per second:  78, episode reward:  8.000, mean reward:  1.000 [ 1.000,  1.000], mean action: 1.000 [1.000, 1.000],  loss: 0.035663, mae: 0.769070, mean_q: 1.418852, mean_eps: 0.100000\n",
            "  425/2000: episode: 29, duration: 0.119s, episode steps:  10, steps per second:  84, episode reward: 10.000, mean reward:  1.000 [ 1.000,  1.000], mean action: 1.000 [1.000, 1.000],  loss: 0.042334, mae: 0.784556, mean_q: 1.445395, mean_eps: 0.100000\n",
            "  436/2000: episode: 30, duration: 0.123s, episode steps:  11, steps per second:  90, episode reward: 11.000, mean reward:  1.000 [ 1.000,  1.000], mean action: 0.909 [0.000, 1.000],  loss: 0.035514, mae: 0.763104, mean_q: 1.447449, mean_eps: 0.100000\n",
            "  445/2000: episode: 31, duration: 0.100s, episode steps:   9, steps per second:  90, episode reward:  9.000, mean reward:  1.000 [ 1.000,  1.000], mean action: 0.889 [0.000, 1.000],  loss: 0.030291, mae: 0.774282, mean_q: 1.477879, mean_eps: 0.100000\n",
            "  455/2000: episode: 32, duration: 0.112s, episode steps:  10, steps per second:  89, episode reward: 10.000, mean reward:  1.000 [ 1.000,  1.000], mean action: 0.400 [0.000, 1.000],  loss: 0.032338, mae: 0.768164, mean_q: 1.494913, mean_eps: 0.100000\n",
            "  464/2000: episode: 33, duration: 0.100s, episode steps:   9, steps per second:  90, episode reward:  9.000, mean reward:  1.000 [ 1.000,  1.000], mean action: 1.000 [1.000, 1.000],  loss: 0.031495, mae: 0.772713, mean_q: 1.501421, mean_eps: 0.100000\n",
            "  478/2000: episode: 34, duration: 0.178s, episode steps:  14, steps per second:  79, episode reward: 14.000, mean reward:  1.000 [ 1.000,  1.000], mean action: 0.857 [0.000, 1.000],  loss: 0.056207, mae: 0.805946, mean_q: 1.544161, mean_eps: 0.100000\n",
            "  489/2000: episode: 35, duration: 0.153s, episode steps:  11, steps per second:  72, episode reward: 11.000, mean reward:  1.000 [ 1.000,  1.000], mean action: 0.909 [0.000, 1.000],  loss: 0.042577, mae: 0.795139, mean_q: 1.496472, mean_eps: 0.100000\n",
            "  497/2000: episode: 36, duration: 0.115s, episode steps:   8, steps per second:  70, episode reward:  8.000, mean reward:  1.000 [ 1.000,  1.000], mean action: 1.000 [1.000, 1.000],  loss: 0.047169, mae: 0.792586, mean_q: 1.470924, mean_eps: 0.100000\n",
            "  508/2000: episode: 37, duration: 0.143s, episode steps:  11, steps per second:  77, episode reward: 11.000, mean reward:  1.000 [ 1.000,  1.000], mean action: 1.000 [1.000, 1.000],  loss: 0.050842, mae: 0.817154, mean_q: 1.535191, mean_eps: 0.100000\n",
            "  517/2000: episode: 38, duration: 0.127s, episode steps:   9, steps per second:  71, episode reward:  9.000, mean reward:  1.000 [ 1.000,  1.000], mean action: 1.000 [1.000, 1.000],  loss: 0.040882, mae: 0.825617, mean_q: 1.563157, mean_eps: 0.100000\n",
            "  526/2000: episode: 39, duration: 0.116s, episode steps:   9, steps per second:  78, episode reward:  9.000, mean reward:  1.000 [ 1.000,  1.000], mean action: 1.000 [1.000, 1.000],  loss: 0.035867, mae: 0.818946, mean_q: 1.608101, mean_eps: 0.100000\n",
            "  536/2000: episode: 40, duration: 0.161s, episode steps:  10, steps per second:  62, episode reward: 10.000, mean reward:  1.000 [ 1.000,  1.000], mean action: 0.900 [0.000, 1.000],  loss: 0.038072, mae: 0.813892, mean_q: 1.616063, mean_eps: 0.100000\n",
            "  545/2000: episode: 41, duration: 0.117s, episode steps:   9, steps per second:  77, episode reward:  9.000, mean reward:  1.000 [ 1.000,  1.000], mean action: 1.000 [1.000, 1.000],  loss: 0.040301, mae: 0.838427, mean_q: 1.690737, mean_eps: 0.100000\n",
            "  557/2000: episode: 42, duration: 0.139s, episode steps:  12, steps per second:  86, episode reward: 12.000, mean reward:  1.000 [ 1.000,  1.000], mean action: 0.917 [0.000, 1.000],  loss: 0.054227, mae: 0.854927, mean_q: 1.659580, mean_eps: 0.100000\n",
            "  569/2000: episode: 43, duration: 0.133s, episode steps:  12, steps per second:  90, episode reward: 12.000, mean reward:  1.000 [ 1.000,  1.000], mean action: 0.833 [0.000, 1.000],  loss: 0.048678, mae: 0.836403, mean_q: 1.608216, mean_eps: 0.100000\n",
            "  579/2000: episode: 44, duration: 0.108s, episode steps:  10, steps per second:  92, episode reward: 10.000, mean reward:  1.000 [ 1.000,  1.000], mean action: 1.000 [1.000, 1.000],  loss: 0.047249, mae: 0.839553, mean_q: 1.621091, mean_eps: 0.100000\n",
            "  590/2000: episode: 45, duration: 0.112s, episode steps:  11, steps per second:  98, episode reward: 11.000, mean reward:  1.000 [ 1.000,  1.000], mean action: 0.818 [0.000, 1.000],  loss: 0.067641, mae: 0.873317, mean_q: 1.686134, mean_eps: 0.100000\n",
            "  600/2000: episode: 46, duration: 0.125s, episode steps:  10, steps per second:  80, episode reward: 10.000, mean reward:  1.000 [ 1.000,  1.000], mean action: 1.000 [1.000, 1.000],  loss: 0.051703, mae: 0.857786, mean_q: 1.651017, mean_eps: 0.100000\n",
            "  608/2000: episode: 47, duration: 0.083s, episode steps:   8, steps per second:  96, episode reward:  8.000, mean reward:  1.000 [ 1.000,  1.000], mean action: 1.000 [1.000, 1.000],  loss: 0.058036, mae: 0.867863, mean_q: 1.664487, mean_eps: 0.100000\n",
            "  618/2000: episode: 48, duration: 0.111s, episode steps:  10, steps per second:  90, episode reward: 10.000, mean reward:  1.000 [ 1.000,  1.000], mean action: 1.000 [1.000, 1.000],  loss: 0.060573, mae: 0.871889, mean_q: 1.637187, mean_eps: 0.100000\n",
            "  631/2000: episode: 49, duration: 0.150s, episode steps:  13, steps per second:  87, episode reward: 13.000, mean reward:  1.000 [ 1.000,  1.000], mean action: 0.538 [0.000, 1.000],  loss: 0.042403, mae: 0.869009, mean_q: 1.652896, mean_eps: 0.100000\n",
            "  641/2000: episode: 50, duration: 0.105s, episode steps:  10, steps per second:  95, episode reward: 10.000, mean reward:  1.000 [ 1.000,  1.000], mean action: 0.900 [0.000, 1.000],  loss: 0.064912, mae: 0.890740, mean_q: 1.679901, mean_eps: 0.100000\n",
            "  650/2000: episode: 51, duration: 0.101s, episode steps:   9, steps per second:  89, episode reward:  9.000, mean reward:  1.000 [ 1.000,  1.000], mean action: 1.000 [1.000, 1.000],  loss: 0.061522, mae: 0.890829, mean_q: 1.726201, mean_eps: 0.100000\n",
            "  659/2000: episode: 52, duration: 0.110s, episode steps:   9, steps per second:  82, episode reward:  9.000, mean reward:  1.000 [ 1.000,  1.000], mean action: 0.889 [0.000, 1.000],  loss: 0.059874, mae: 0.900125, mean_q: 1.748695, mean_eps: 0.100000\n",
            "  669/2000: episode: 53, duration: 0.120s, episode steps:  10, steps per second:  83, episode reward: 10.000, mean reward:  1.000 [ 1.000,  1.000], mean action: 1.000 [1.000, 1.000],  loss: 0.055508, mae: 0.900167, mean_q: 1.753999, mean_eps: 0.100000\n",
            "  680/2000: episode: 54, duration: 0.118s, episode steps:  11, steps per second:  93, episode reward: 11.000, mean reward:  1.000 [ 1.000,  1.000], mean action: 0.909 [0.000, 1.000],  loss: 0.043350, mae: 0.888124, mean_q: 1.754475, mean_eps: 0.100000\n",
            "  693/2000: episode: 55, duration: 0.150s, episode steps:  13, steps per second:  87, episode reward: 13.000, mean reward:  1.000 [ 1.000,  1.000], mean action: 0.846 [0.000, 1.000],  loss: 0.058339, mae: 0.902256, mean_q: 1.791331, mean_eps: 0.100000\n",
            "  701/2000: episode: 56, duration: 0.086s, episode steps:   8, steps per second:  93, episode reward:  8.000, mean reward:  1.000 [ 1.000,  1.000], mean action: 1.000 [1.000, 1.000],  loss: 0.043159, mae: 0.876637, mean_q: 1.738821, mean_eps: 0.100000\n",
            "  710/2000: episode: 57, duration: 0.098s, episode steps:   9, steps per second:  92, episode reward:  9.000, mean reward:  1.000 [ 1.000,  1.000], mean action: 1.000 [1.000, 1.000],  loss: 0.055955, mae: 0.885579, mean_q: 1.720685, mean_eps: 0.100000\n",
            "  719/2000: episode: 58, duration: 0.102s, episode steps:   9, steps per second:  88, episode reward:  9.000, mean reward:  1.000 [ 1.000,  1.000], mean action: 0.778 [0.000, 1.000],  loss: 0.056932, mae: 0.905445, mean_q: 1.742176, mean_eps: 0.100000\n",
            "  729/2000: episode: 59, duration: 0.114s, episode steps:  10, steps per second:  88, episode reward: 10.000, mean reward:  1.000 [ 1.000,  1.000], mean action: 1.000 [1.000, 1.000],  loss: 0.062890, mae: 0.932955, mean_q: 1.795570, mean_eps: 0.100000\n",
            "  741/2000: episode: 60, duration: 0.128s, episode steps:  12, steps per second:  93, episode reward: 12.000, mean reward:  1.000 [ 1.000,  1.000], mean action: 0.750 [0.000, 1.000],  loss: 0.053670, mae: 0.919774, mean_q: 1.796568, mean_eps: 0.100000\n",
            "  751/2000: episode: 61, duration: 0.125s, episode steps:  10, steps per second:  80, episode reward: 10.000, mean reward:  1.000 [ 1.000,  1.000], mean action: 0.900 [0.000, 1.000],  loss: 0.062440, mae: 0.937358, mean_q: 1.816137, mean_eps: 0.100000\n",
            "  759/2000: episode: 62, duration: 0.092s, episode steps:   8, steps per second:  87, episode reward:  8.000, mean reward:  1.000 [ 1.000,  1.000], mean action: 1.000 [1.000, 1.000],  loss: 0.042829, mae: 0.911145, mean_q: 1.810481, mean_eps: 0.100000\n",
            "  769/2000: episode: 63, duration: 0.109s, episode steps:  10, steps per second:  91, episode reward: 10.000, mean reward:  1.000 [ 1.000,  1.000], mean action: 1.000 [1.000, 1.000],  loss: 0.080895, mae: 0.945729, mean_q: 1.834352, mean_eps: 0.100000\n",
            "  779/2000: episode: 64, duration: 0.116s, episode steps:  10, steps per second:  86, episode reward: 10.000, mean reward:  1.000 [ 1.000,  1.000], mean action: 1.000 [1.000, 1.000],  loss: 0.054606, mae: 0.933147, mean_q: 1.786940, mean_eps: 0.100000\n",
            "  790/2000: episode: 65, duration: 0.108s, episode steps:  11, steps per second: 102, episode reward: 11.000, mean reward:  1.000 [ 1.000,  1.000], mean action: 0.909 [0.000, 1.000],  loss: 0.065881, mae: 0.947669, mean_q: 1.819477, mean_eps: 0.100000\n",
            "  801/2000: episode: 66, duration: 0.119s, episode steps:  11, steps per second:  92, episode reward: 11.000, mean reward:  1.000 [ 1.000,  1.000], mean action: 0.818 [0.000, 1.000],  loss: 0.054297, mae: 0.940580, mean_q: 1.833186, mean_eps: 0.100000\n",
            "  809/2000: episode: 67, duration: 0.080s, episode steps:   8, steps per second: 100, episode reward:  8.000, mean reward:  1.000 [ 1.000,  1.000], mean action: 1.000 [1.000, 1.000],  loss: 0.050754, mae: 0.939596, mean_q: 1.890376, mean_eps: 0.100000\n",
            "  818/2000: episode: 68, duration: 0.110s, episode steps:   9, steps per second:  82, episode reward:  9.000, mean reward:  1.000 [ 1.000,  1.000], mean action: 1.000 [1.000, 1.000],  loss: 0.050522, mae: 0.947452, mean_q: 1.906046, mean_eps: 0.100000\n",
            "  827/2000: episode: 69, duration: 0.110s, episode steps:   9, steps per second:  82, episode reward:  9.000, mean reward:  1.000 [ 1.000,  1.000], mean action: 1.000 [1.000, 1.000],  loss: 0.085252, mae: 1.000722, mean_q: 1.895393, mean_eps: 0.100000\n",
            "  836/2000: episode: 70, duration: 0.093s, episode steps:   9, steps per second:  97, episode reward:  9.000, mean reward:  1.000 [ 1.000,  1.000], mean action: 1.000 [1.000, 1.000],  loss: 0.076877, mae: 0.979321, mean_q: 1.850421, mean_eps: 0.100000\n",
            "  848/2000: episode: 71, duration: 0.135s, episode steps:  12, steps per second:  89, episode reward: 12.000, mean reward:  1.000 [ 1.000,  1.000], mean action: 0.833 [0.000, 1.000],  loss: 0.067302, mae: 0.966670, mean_q: 1.883579, mean_eps: 0.100000\n",
            "  856/2000: episode: 72, duration: 0.084s, episode steps:   8, steps per second:  95, episode reward:  8.000, mean reward:  1.000 [ 1.000,  1.000], mean action: 1.000 [1.000, 1.000],  loss: 0.066884, mae: 0.965947, mean_q: 1.869873, mean_eps: 0.100000\n",
            "  864/2000: episode: 73, duration: 0.087s, episode steps:   8, steps per second:  92, episode reward:  8.000, mean reward:  1.000 [ 1.000,  1.000], mean action: 1.000 [1.000, 1.000],  loss: 0.061921, mae: 0.971696, mean_q: 1.884733, mean_eps: 0.100000\n",
            "  872/2000: episode: 74, duration: 0.085s, episode steps:   8, steps per second:  95, episode reward:  8.000, mean reward:  1.000 [ 1.000,  1.000], mean action: 1.000 [1.000, 1.000],  loss: 0.055170, mae: 0.955753, mean_q: 1.884444, mean_eps: 0.100000\n",
            "  881/2000: episode: 75, duration: 0.090s, episode steps:   9, steps per second: 100, episode reward:  9.000, mean reward:  1.000 [ 1.000,  1.000], mean action: 1.000 [1.000, 1.000],  loss: 0.045310, mae: 0.947432, mean_q: 1.918347, mean_eps: 0.100000\n",
            "  891/2000: episode: 76, duration: 0.106s, episode steps:  10, steps per second:  94, episode reward: 10.000, mean reward:  1.000 [ 1.000,  1.000], mean action: 0.900 [0.000, 1.000],  loss: 0.072016, mae: 0.975524, mean_q: 1.944264, mean_eps: 0.100000\n",
            "  903/2000: episode: 77, duration: 0.126s, episode steps:  12, steps per second:  95, episode reward: 12.000, mean reward:  1.000 [ 1.000,  1.000], mean action: 0.917 [0.000, 1.000],  loss: 0.056152, mae: 0.961535, mean_q: 1.950328, mean_eps: 0.100000\n",
            "  914/2000: episode: 78, duration: 0.107s, episode steps:  11, steps per second: 103, episode reward: 11.000, mean reward:  1.000 [ 1.000,  1.000], mean action: 0.909 [0.000, 1.000],  loss: 0.073946, mae: 0.975053, mean_q: 1.956895, mean_eps: 0.100000\n",
            "  923/2000: episode: 79, duration: 0.113s, episode steps:   9, steps per second:  80, episode reward:  9.000, mean reward:  1.000 [ 1.000,  1.000], mean action: 1.000 [1.000, 1.000],  loss: 0.048649, mae: 0.956374, mean_q: 1.922430, mean_eps: 0.100000\n",
            "  933/2000: episode: 80, duration: 0.136s, episode steps:  10, steps per second:  73, episode reward: 10.000, mean reward:  1.000 [ 1.000,  1.000], mean action: 0.800 [0.000, 1.000],  loss: 0.072892, mae: 0.991472, mean_q: 1.967138, mean_eps: 0.100000\n",
            "  942/2000: episode: 81, duration: 0.126s, episode steps:   9, steps per second:  72, episode reward:  9.000, mean reward:  1.000 [ 1.000,  1.000], mean action: 1.000 [1.000, 1.000],  loss: 0.059738, mae: 0.980436, mean_q: 1.938383, mean_eps: 0.100000\n",
            "  951/2000: episode: 82, duration: 0.160s, episode steps:   9, steps per second:  56, episode reward:  9.000, mean reward:  1.000 [ 1.000,  1.000], mean action: 0.889 [0.000, 1.000],  loss: 0.056148, mae: 0.990164, mean_q: 1.936223, mean_eps: 0.100000\n",
            "  961/2000: episode: 83, duration: 0.270s, episode steps:  10, steps per second:  37, episode reward: 10.000, mean reward:  1.000 [ 1.000,  1.000], mean action: 1.000 [1.000, 1.000],  loss: 0.068752, mae: 1.014810, mean_q: 1.977365, mean_eps: 0.100000\n",
            "  970/2000: episode: 84, duration: 0.115s, episode steps:   9, steps per second:  78, episode reward:  9.000, mean reward:  1.000 [ 1.000,  1.000], mean action: 1.000 [1.000, 1.000],  loss: 0.057675, mae: 1.000371, mean_q: 1.995564, mean_eps: 0.100000\n",
            "  985/2000: episode: 85, duration: 0.179s, episode steps:  15, steps per second:  84, episode reward: 15.000, mean reward:  1.000 [ 1.000,  1.000], mean action: 0.800 [0.000, 1.000],  loss: 0.053875, mae: 0.983346, mean_q: 2.029036, mean_eps: 0.100000\n",
            "  994/2000: episode: 86, duration: 0.100s, episode steps:   9, steps per second:  90, episode reward:  9.000, mean reward:  1.000 [ 1.000,  1.000], mean action: 1.000 [1.000, 1.000],  loss: 0.069359, mae: 1.000909, mean_q: 2.038141, mean_eps: 0.100000\n",
            " 1004/2000: episode: 87, duration: 0.118s, episode steps:  10, steps per second:  85, episode reward: 10.000, mean reward:  1.000 [ 1.000,  1.000], mean action: 1.000 [1.000, 1.000],  loss: 0.065179, mae: 0.981029, mean_q: 1.990339, mean_eps: 0.100000\n",
            " 1013/2000: episode: 88, duration: 0.098s, episode steps:   9, steps per second:  92, episode reward:  9.000, mean reward:  1.000 [ 1.000,  1.000], mean action: 1.000 [1.000, 1.000],  loss: 0.072285, mae: 1.006239, mean_q: 2.053841, mean_eps: 0.100000\n",
            " 1023/2000: episode: 89, duration: 0.132s, episode steps:  10, steps per second:  75, episode reward: 10.000, mean reward:  1.000 [ 1.000,  1.000], mean action: 1.000 [1.000, 1.000],  loss: 0.061110, mae: 1.006285, mean_q: 2.071718, mean_eps: 0.100000\n",
            " 1034/2000: episode: 90, duration: 0.109s, episode steps:  11, steps per second: 101, episode reward: 11.000, mean reward:  1.000 [ 1.000,  1.000], mean action: 1.000 [1.000, 1.000],  loss: 0.072972, mae: 1.016649, mean_q: 2.033521, mean_eps: 0.100000\n",
            " 1044/2000: episode: 91, duration: 0.112s, episode steps:  10, steps per second:  90, episode reward: 10.000, mean reward:  1.000 [ 1.000,  1.000], mean action: 0.900 [0.000, 1.000],  loss: 0.088391, mae: 1.050453, mean_q: 2.036088, mean_eps: 0.100000\n",
            " 1053/2000: episode: 92, duration: 0.096s, episode steps:   9, steps per second:  94, episode reward:  9.000, mean reward:  1.000 [ 1.000,  1.000], mean action: 0.889 [0.000, 1.000],  loss: 0.065185, mae: 1.033121, mean_q: 2.059102, mean_eps: 0.100000\n",
            " 1063/2000: episode: 93, duration: 0.112s, episode steps:  10, steps per second:  89, episode reward: 10.000, mean reward:  1.000 [ 1.000,  1.000], mean action: 0.900 [0.000, 1.000],  loss: 0.061518, mae: 1.027851, mean_q: 2.071561, mean_eps: 0.100000\n",
            " 1072/2000: episode: 94, duration: 0.097s, episode steps:   9, steps per second:  92, episode reward:  9.000, mean reward:  1.000 [ 1.000,  1.000], mean action: 0.778 [0.000, 1.000],  loss: 0.062455, mae: 1.026286, mean_q: 2.075280, mean_eps: 0.100000\n",
            " 1081/2000: episode: 95, duration: 0.092s, episode steps:   9, steps per second:  98, episode reward:  9.000, mean reward:  1.000 [ 1.000,  1.000], mean action: 1.000 [1.000, 1.000],  loss: 0.065786, mae: 1.032938, mean_q: 2.076695, mean_eps: 0.100000\n",
            " 1090/2000: episode: 96, duration: 0.107s, episode steps:   9, steps per second:  84, episode reward:  9.000, mean reward:  1.000 [ 1.000,  1.000], mean action: 1.000 [1.000, 1.000],  loss: 0.068306, mae: 1.027714, mean_q: 2.109647, mean_eps: 0.100000\n",
            " 1099/2000: episode: 97, duration: 0.094s, episode steps:   9, steps per second:  96, episode reward:  9.000, mean reward:  1.000 [ 1.000,  1.000], mean action: 1.000 [1.000, 1.000],  loss: 0.066795, mae: 1.023226, mean_q: 2.080198, mean_eps: 0.100000\n",
            " 1109/2000: episode: 98, duration: 0.121s, episode steps:  10, steps per second:  83, episode reward: 10.000, mean reward:  1.000 [ 1.000,  1.000], mean action: 1.000 [1.000, 1.000],  loss: 0.079195, mae: 1.056291, mean_q: 2.096896, mean_eps: 0.100000\n",
            " 1118/2000: episode: 99, duration: 0.092s, episode steps:   9, steps per second:  98, episode reward:  9.000, mean reward:  1.000 [ 1.000,  1.000], mean action: 1.000 [1.000, 1.000],  loss: 0.057522, mae: 1.044311, mean_q: 2.108727, mean_eps: 0.100000\n",
            " 1127/2000: episode: 100, duration: 0.095s, episode steps:   9, steps per second:  95, episode reward:  9.000, mean reward:  1.000 [ 1.000,  1.000], mean action: 0.889 [0.000, 1.000],  loss: 0.080887, mae: 1.077038, mean_q: 2.154035, mean_eps: 0.100000\n",
            " 1139/2000: episode: 101, duration: 0.132s, episode steps:  12, steps per second:  91, episode reward: 12.000, mean reward:  1.000 [ 1.000,  1.000], mean action: 0.917 [0.000, 1.000],  loss: 0.085048, mae: 1.063877, mean_q: 2.090595, mean_eps: 0.100000\n",
            " 1149/2000: episode: 102, duration: 0.113s, episode steps:  10, steps per second:  89, episode reward: 10.000, mean reward:  1.000 [ 1.000,  1.000], mean action: 1.000 [1.000, 1.000],  loss: 0.077786, mae: 1.062464, mean_q: 2.097445, mean_eps: 0.100000\n",
            " 1159/2000: episode: 103, duration: 0.107s, episode steps:  10, steps per second:  93, episode reward: 10.000, mean reward:  1.000 [ 1.000,  1.000], mean action: 1.000 [1.000, 1.000],  loss: 0.075281, mae: 1.077281, mean_q: 2.153184, mean_eps: 0.100000\n",
            " 1169/2000: episode: 104, duration: 0.144s, episode steps:  10, steps per second:  70, episode reward: 10.000, mean reward:  1.000 [ 1.000,  1.000], mean action: 0.900 [0.000, 1.000],  loss: 0.074182, mae: 1.076417, mean_q: 2.184880, mean_eps: 0.100000\n",
            " 1179/2000: episode: 105, duration: 0.157s, episode steps:  10, steps per second:  64, episode reward: 10.000, mean reward:  1.000 [ 1.000,  1.000], mean action: 1.000 [1.000, 1.000],  loss: 0.062297, mae: 1.053405, mean_q: 2.132165, mean_eps: 0.100000\n",
            " 1188/2000: episode: 106, duration: 0.115s, episode steps:   9, steps per second:  78, episode reward:  9.000, mean reward:  1.000 [ 1.000,  1.000], mean action: 1.000 [1.000, 1.000],  loss: 0.071948, mae: 1.064891, mean_q: 2.146926, mean_eps: 0.100000\n",
            " 1198/2000: episode: 107, duration: 0.134s, episode steps:  10, steps per second:  74, episode reward: 10.000, mean reward:  1.000 [ 1.000,  1.000], mean action: 0.800 [0.000, 1.000],  loss: 0.071355, mae: 1.076987, mean_q: 2.156087, mean_eps: 0.100000\n",
            " 1209/2000: episode: 108, duration: 0.156s, episode steps:  11, steps per second:  71, episode reward: 11.000, mean reward:  1.000 [ 1.000,  1.000], mean action: 0.818 [0.000, 1.000],  loss: 0.073175, mae: 1.102614, mean_q: 2.193606, mean_eps: 0.100000\n",
            " 1218/2000: episode: 109, duration: 0.124s, episode steps:   9, steps per second:  73, episode reward:  9.000, mean reward:  1.000 [ 1.000,  1.000], mean action: 0.889 [0.000, 1.000],  loss: 0.073225, mae: 1.103821, mean_q: 2.180230, mean_eps: 0.100000\n",
            " 1227/2000: episode: 110, duration: 0.125s, episode steps:   9, steps per second:  72, episode reward:  9.000, mean reward:  1.000 [ 1.000,  1.000], mean action: 0.889 [0.000, 1.000],  loss: 0.075156, mae: 1.104439, mean_q: 2.142586, mean_eps: 0.100000\n",
            " 1238/2000: episode: 111, duration: 0.135s, episode steps:  11, steps per second:  81, episode reward: 11.000, mean reward:  1.000 [ 1.000,  1.000], mean action: 0.636 [0.000, 1.000],  loss: 0.072773, mae: 1.132774, mean_q: 2.225231, mean_eps: 0.100000\n",
            " 1248/2000: episode: 112, duration: 0.110s, episode steps:  10, steps per second:  91, episode reward: 10.000, mean reward:  1.000 [ 1.000,  1.000], mean action: 1.000 [1.000, 1.000],  loss: 0.064601, mae: 1.119233, mean_q: 2.274021, mean_eps: 0.100000\n",
            " 1256/2000: episode: 113, duration: 0.100s, episode steps:   8, steps per second:  80, episode reward:  8.000, mean reward:  1.000 [ 1.000,  1.000], mean action: 1.000 [1.000, 1.000],  loss: 0.072618, mae: 1.125544, mean_q: 2.247237, mean_eps: 0.100000\n",
            " 1266/2000: episode: 114, duration: 0.102s, episode steps:  10, steps per second:  98, episode reward: 10.000, mean reward:  1.000 [ 1.000,  1.000], mean action: 1.000 [1.000, 1.000],  loss: 0.069763, mae: 1.117605, mean_q: 2.220356, mean_eps: 0.100000\n",
            " 1276/2000: episode: 115, duration: 0.116s, episode steps:  10, steps per second:  86, episode reward: 10.000, mean reward:  1.000 [ 1.000,  1.000], mean action: 0.800 [0.000, 1.000],  loss: 0.099971, mae: 1.149781, mean_q: 2.239396, mean_eps: 0.100000\n",
            " 1287/2000: episode: 116, duration: 0.116s, episode steps:  11, steps per second:  95, episode reward: 11.000, mean reward:  1.000 [ 1.000,  1.000], mean action: 0.727 [0.000, 1.000],  loss: 0.063734, mae: 1.113125, mean_q: 2.214152, mean_eps: 0.100000\n",
            " 1296/2000: episode: 117, duration: 0.097s, episode steps:   9, steps per second:  93, episode reward:  9.000, mean reward:  1.000 [ 1.000,  1.000], mean action: 1.000 [1.000, 1.000],  loss: 0.070892, mae: 1.125097, mean_q: 2.296027, mean_eps: 0.100000\n",
            " 1307/2000: episode: 118, duration: 0.108s, episode steps:  11, steps per second: 102, episode reward: 11.000, mean reward:  1.000 [ 1.000,  1.000], mean action: 0.909 [0.000, 1.000],  loss: 0.060391, mae: 1.110476, mean_q: 2.287811, mean_eps: 0.100000\n",
            " 1317/2000: episode: 119, duration: 0.107s, episode steps:  10, steps per second:  93, episode reward: 10.000, mean reward:  1.000 [ 1.000,  1.000], mean action: 0.800 [0.000, 1.000],  loss: 0.069672, mae: 1.122238, mean_q: 2.281513, mean_eps: 0.100000\n",
            " 1327/2000: episode: 120, duration: 0.112s, episode steps:  10, steps per second:  89, episode reward: 10.000, mean reward:  1.000 [ 1.000,  1.000], mean action: 0.900 [0.000, 1.000],  loss: 0.062994, mae: 1.118094, mean_q: 2.286678, mean_eps: 0.100000\n",
            " 1337/2000: episode: 121, duration: 0.109s, episode steps:  10, steps per second:  92, episode reward: 10.000, mean reward:  1.000 [ 1.000,  1.000], mean action: 0.700 [0.000, 1.000],  loss: 0.062730, mae: 1.130763, mean_q: 2.281428, mean_eps: 0.100000\n",
            " 1346/2000: episode: 122, duration: 0.104s, episode steps:   9, steps per second:  86, episode reward:  9.000, mean reward:  1.000 [ 1.000,  1.000], mean action: 1.000 [1.000, 1.000],  loss: 0.077745, mae: 1.144884, mean_q: 2.293995, mean_eps: 0.100000\n",
            " 1357/2000: episode: 123, duration: 0.125s, episode steps:  11, steps per second:  88, episode reward: 11.000, mean reward:  1.000 [ 1.000,  1.000], mean action: 0.909 [0.000, 1.000],  loss: 0.070568, mae: 1.117821, mean_q: 2.314828, mean_eps: 0.100000\n",
            " 1368/2000: episode: 124, duration: 0.121s, episode steps:  11, steps per second:  91, episode reward: 11.000, mean reward:  1.000 [ 1.000,  1.000], mean action: 1.000 [1.000, 1.000],  loss: 0.083755, mae: 1.114992, mean_q: 2.279300, mean_eps: 0.100000\n",
            " 1378/2000: episode: 125, duration: 0.121s, episode steps:  10, steps per second:  82, episode reward: 10.000, mean reward:  1.000 [ 1.000,  1.000], mean action: 1.000 [1.000, 1.000],  loss: 0.079399, mae: 1.119170, mean_q: 2.309294, mean_eps: 0.100000\n",
            " 1387/2000: episode: 126, duration: 0.100s, episode steps:   9, steps per second:  90, episode reward:  9.000, mean reward:  1.000 [ 1.000,  1.000], mean action: 1.000 [1.000, 1.000],  loss: 0.060131, mae: 1.116436, mean_q: 2.320564, mean_eps: 0.100000\n",
            " 1397/2000: episode: 127, duration: 0.111s, episode steps:  10, steps per second:  90, episode reward: 10.000, mean reward:  1.000 [ 1.000,  1.000], mean action: 1.000 [1.000, 1.000],  loss: 0.055726, mae: 1.142198, mean_q: 2.374446, mean_eps: 0.100000\n",
            " 1406/2000: episode: 128, duration: 0.094s, episode steps:   9, steps per second:  95, episode reward:  9.000, mean reward:  1.000 [ 1.000,  1.000], mean action: 1.000 [1.000, 1.000],  loss: 0.080401, mae: 1.190355, mean_q: 2.359465, mean_eps: 0.100000\n",
            " 1416/2000: episode: 129, duration: 0.101s, episode steps:  10, steps per second:  99, episode reward: 10.000, mean reward:  1.000 [ 1.000,  1.000], mean action: 0.900 [0.000, 1.000],  loss: 0.072460, mae: 1.191705, mean_q: 2.332379, mean_eps: 0.100000\n",
            " 1427/2000: episode: 130, duration: 0.128s, episode steps:  11, steps per second:  86, episode reward: 11.000, mean reward:  1.000 [ 1.000,  1.000], mean action: 0.818 [0.000, 1.000],  loss: 0.078928, mae: 1.219813, mean_q: 2.383879, mean_eps: 0.100000\n",
            " 1439/2000: episode: 131, duration: 0.136s, episode steps:  12, steps per second:  88, episode reward: 12.000, mean reward:  1.000 [ 1.000,  1.000], mean action: 0.833 [0.000, 1.000],  loss: 0.085229, mae: 1.199427, mean_q: 2.378426, mean_eps: 0.100000\n",
            " 1449/2000: episode: 132, duration: 0.115s, episode steps:  10, steps per second:  87, episode reward: 10.000, mean reward:  1.000 [ 1.000,  1.000], mean action: 1.000 [1.000, 1.000],  loss: 0.073519, mae: 1.163682, mean_q: 2.347500, mean_eps: 0.100000\n",
            " 1460/2000: episode: 133, duration: 0.117s, episode steps:  11, steps per second:  94, episode reward: 11.000, mean reward:  1.000 [ 1.000,  1.000], mean action: 0.909 [0.000, 1.000],  loss: 0.081649, mae: 1.176436, mean_q: 2.368178, mean_eps: 0.100000\n",
            " 1469/2000: episode: 134, duration: 0.128s, episode steps:   9, steps per second:  70, episode reward:  9.000, mean reward:  1.000 [ 1.000,  1.000], mean action: 1.000 [1.000, 1.000],  loss: 0.056357, mae: 1.169254, mean_q: 2.388495, mean_eps: 0.100000\n",
            " 1478/2000: episode: 135, duration: 0.101s, episode steps:   9, steps per second:  89, episode reward:  9.000, mean reward:  1.000 [ 1.000,  1.000], mean action: 0.889 [0.000, 1.000],  loss: 0.066989, mae: 1.202736, mean_q: 2.468188, mean_eps: 0.100000\n",
            " 1488/2000: episode: 136, duration: 0.113s, episode steps:  10, steps per second:  89, episode reward: 10.000, mean reward:  1.000 [ 1.000,  1.000], mean action: 1.000 [1.000, 1.000],  loss: 0.079738, mae: 1.204797, mean_q: 2.385424, mean_eps: 0.100000\n",
            " 1496/2000: episode: 137, duration: 0.099s, episode steps:   8, steps per second:  81, episode reward:  8.000, mean reward:  1.000 [ 1.000,  1.000], mean action: 1.000 [1.000, 1.000],  loss: 0.098471, mae: 1.197552, mean_q: 2.340740, mean_eps: 0.100000\n",
            " 1506/2000: episode: 138, duration: 0.132s, episode steps:  10, steps per second:  76, episode reward: 10.000, mean reward:  1.000 [ 1.000,  1.000], mean action: 1.000 [1.000, 1.000],  loss: 0.074100, mae: 1.164452, mean_q: 2.368233, mean_eps: 0.100000\n",
            " 1514/2000: episode: 139, duration: 0.104s, episode steps:   8, steps per second:  77, episode reward:  8.000, mean reward:  1.000 [ 1.000,  1.000], mean action: 1.000 [1.000, 1.000],  loss: 0.074791, mae: 1.171125, mean_q: 2.469924, mean_eps: 0.100000\n",
            " 1523/2000: episode: 140, duration: 0.138s, episode steps:   9, steps per second:  65, episode reward:  9.000, mean reward:  1.000 [ 1.000,  1.000], mean action: 1.000 [1.000, 1.000],  loss: 0.072761, mae: 1.184392, mean_q: 2.470124, mean_eps: 0.100000\n",
            " 1533/2000: episode: 141, duration: 0.123s, episode steps:  10, steps per second:  81, episode reward: 10.000, mean reward:  1.000 [ 1.000,  1.000], mean action: 1.000 [1.000, 1.000],  loss: 0.070292, mae: 1.171688, mean_q: 2.440946, mean_eps: 0.100000\n",
            " 1545/2000: episode: 142, duration: 0.158s, episode steps:  12, steps per second:  76, episode reward: 12.000, mean reward:  1.000 [ 1.000,  1.000], mean action: 0.917 [0.000, 1.000],  loss: 0.073080, mae: 1.183256, mean_q: 2.462214, mean_eps: 0.100000\n",
            " 1556/2000: episode: 143, duration: 0.143s, episode steps:  11, steps per second:  77, episode reward: 11.000, mean reward:  1.000 [ 1.000,  1.000], mean action: 0.909 [0.000, 1.000],  loss: 0.067119, mae: 1.181012, mean_q: 2.424775, mean_eps: 0.100000\n",
            " 1567/2000: episode: 144, duration: 0.141s, episode steps:  11, steps per second:  78, episode reward: 11.000, mean reward:  1.000 [ 1.000,  1.000], mean action: 0.909 [0.000, 1.000],  loss: 0.072216, mae: 1.203358, mean_q: 2.470364, mean_eps: 0.100000\n",
            " 1577/2000: episode: 145, duration: 0.134s, episode steps:  10, steps per second:  74, episode reward: 10.000, mean reward:  1.000 [ 1.000,  1.000], mean action: 0.900 [0.000, 1.000],  loss: 0.054001, mae: 1.215782, mean_q: 2.536050, mean_eps: 0.100000\n",
            " 1586/2000: episode: 146, duration: 0.112s, episode steps:   9, steps per second:  80, episode reward:  9.000, mean reward:  1.000 [ 1.000,  1.000], mean action: 0.889 [0.000, 1.000],  loss: 0.057187, mae: 1.232731, mean_q: 2.505718, mean_eps: 0.100000\n",
            " 1595/2000: episode: 147, duration: 0.101s, episode steps:   9, steps per second:  89, episode reward:  9.000, mean reward:  1.000 [ 1.000,  1.000], mean action: 0.889 [0.000, 1.000],  loss: 0.083194, mae: 1.254532, mean_q: 2.450704, mean_eps: 0.100000\n",
            " 1607/2000: episode: 148, duration: 0.153s, episode steps:  12, steps per second:  78, episode reward: 12.000, mean reward:  1.000 [ 1.000,  1.000], mean action: 0.750 [0.000, 1.000],  loss: 0.070335, mae: 1.252696, mean_q: 2.523101, mean_eps: 0.100000\n",
            " 1617/2000: episode: 149, duration: 0.109s, episode steps:  10, steps per second:  92, episode reward: 10.000, mean reward:  1.000 [ 1.000,  1.000], mean action: 1.000 [1.000, 1.000],  loss: 0.063492, mae: 1.220876, mean_q: 2.478221, mean_eps: 0.100000\n",
            " 1629/2000: episode: 150, duration: 0.138s, episode steps:  12, steps per second:  87, episode reward: 12.000, mean reward:  1.000 [ 1.000,  1.000], mean action: 0.750 [0.000, 1.000],  loss: 0.078008, mae: 1.220669, mean_q: 2.434797, mean_eps: 0.100000\n",
            " 1640/2000: episode: 151, duration: 0.122s, episode steps:  11, steps per second:  90, episode reward: 11.000, mean reward:  1.000 [ 1.000,  1.000], mean action: 0.909 [0.000, 1.000],  loss: 0.081502, mae: 1.210084, mean_q: 2.469648, mean_eps: 0.100000\n",
            " 1652/2000: episode: 152, duration: 0.138s, episode steps:  12, steps per second:  87, episode reward: 12.000, mean reward:  1.000 [ 1.000,  1.000], mean action: 0.917 [0.000, 1.000],  loss: 0.072796, mae: 1.202318, mean_q: 2.562021, mean_eps: 0.100000\n",
            " 1661/2000: episode: 153, duration: 0.102s, episode steps:   9, steps per second:  89, episode reward:  9.000, mean reward:  1.000 [ 1.000,  1.000], mean action: 1.000 [1.000, 1.000],  loss: 0.079929, mae: 1.210058, mean_q: 2.544601, mean_eps: 0.100000\n",
            " 1670/2000: episode: 154, duration: 0.098s, episode steps:   9, steps per second:  92, episode reward:  9.000, mean reward:  1.000 [ 1.000,  1.000], mean action: 0.889 [0.000, 1.000],  loss: 0.077423, mae: 1.219065, mean_q: 2.533327, mean_eps: 0.100000\n",
            " 1680/2000: episode: 155, duration: 0.125s, episode steps:  10, steps per second:  80, episode reward: 10.000, mean reward:  1.000 [ 1.000,  1.000], mean action: 1.000 [1.000, 1.000],  loss: 0.069638, mae: 1.221479, mean_q: 2.571885, mean_eps: 0.100000\n",
            " 1690/2000: episode: 156, duration: 0.130s, episode steps:  10, steps per second:  77, episode reward: 10.000, mean reward:  1.000 [ 1.000,  1.000], mean action: 0.900 [0.000, 1.000],  loss: 0.073059, mae: 1.222700, mean_q: 2.548242, mean_eps: 0.100000\n",
            " 1699/2000: episode: 157, duration: 0.096s, episode steps:   9, steps per second:  94, episode reward:  9.000, mean reward:  1.000 [ 1.000,  1.000], mean action: 1.000 [1.000, 1.000],  loss: 0.067588, mae: 1.239883, mean_q: 2.575134, mean_eps: 0.100000\n",
            " 1709/2000: episode: 158, duration: 0.110s, episode steps:  10, steps per second:  91, episode reward: 10.000, mean reward:  1.000 [ 1.000,  1.000], mean action: 0.900 [0.000, 1.000],  loss: 0.078575, mae: 1.244549, mean_q: 2.536145, mean_eps: 0.100000\n",
            " 1719/2000: episode: 159, duration: 0.109s, episode steps:  10, steps per second:  92, episode reward: 10.000, mean reward:  1.000 [ 1.000,  1.000], mean action: 1.000 [1.000, 1.000],  loss: 0.073085, mae: 1.241046, mean_q: 2.543751, mean_eps: 0.100000\n",
            " 1729/2000: episode: 160, duration: 0.110s, episode steps:  10, steps per second:  91, episode reward: 10.000, mean reward:  1.000 [ 1.000,  1.000], mean action: 0.800 [0.000, 1.000],  loss: 0.074658, mae: 1.240274, mean_q: 2.592864, mean_eps: 0.100000\n",
            " 1739/2000: episode: 161, duration: 0.111s, episode steps:  10, steps per second:  90, episode reward: 10.000, mean reward:  1.000 [ 1.000,  1.000], mean action: 0.900 [0.000, 1.000],  loss: 0.066782, mae: 1.238643, mean_q: 2.586403, mean_eps: 0.100000\n",
            " 1749/2000: episode: 162, duration: 0.125s, episode steps:  10, steps per second:  80, episode reward: 10.000, mean reward:  1.000 [ 1.000,  1.000], mean action: 0.900 [0.000, 1.000],  loss: 0.062890, mae: 1.248923, mean_q: 2.601792, mean_eps: 0.100000\n",
            " 1760/2000: episode: 163, duration: 0.132s, episode steps:  11, steps per second:  84, episode reward: 11.000, mean reward:  1.000 [ 1.000,  1.000], mean action: 0.818 [0.000, 1.000],  loss: 0.094731, mae: 1.283918, mean_q: 2.560599, mean_eps: 0.100000\n",
            " 1771/2000: episode: 164, duration: 0.122s, episode steps:  11, steps per second:  90, episode reward: 11.000, mean reward:  1.000 [ 1.000,  1.000], mean action: 0.818 [0.000, 1.000],  loss: 0.079410, mae: 1.282449, mean_q: 2.586584, mean_eps: 0.100000\n",
            " 1781/2000: episode: 165, duration: 0.125s, episode steps:  10, steps per second:  80, episode reward: 10.000, mean reward:  1.000 [ 1.000,  1.000], mean action: 1.000 [1.000, 1.000],  loss: 0.077781, mae: 1.277302, mean_q: 2.634282, mean_eps: 0.100000\n",
            " 1790/2000: episode: 166, duration: 0.116s, episode steps:   9, steps per second:  77, episode reward:  9.000, mean reward:  1.000 [ 1.000,  1.000], mean action: 0.889 [0.000, 1.000],  loss: 0.090916, mae: 1.268158, mean_q: 2.528234, mean_eps: 0.100000\n",
            " 1798/2000: episode: 167, duration: 0.100s, episode steps:   8, steps per second:  80, episode reward:  8.000, mean reward:  1.000 [ 1.000,  1.000], mean action: 1.000 [1.000, 1.000],  loss: 0.069808, mae: 1.263274, mean_q: 2.615279, mean_eps: 0.100000\n",
            " 1808/2000: episode: 168, duration: 0.120s, episode steps:  10, steps per second:  83, episode reward: 10.000, mean reward:  1.000 [ 1.000,  1.000], mean action: 1.000 [1.000, 1.000],  loss: 0.066494, mae: 1.289319, mean_q: 2.637583, mean_eps: 0.100000\n",
            " 1821/2000: episode: 169, duration: 0.134s, episode steps:  13, steps per second:  97, episode reward: 13.000, mean reward:  1.000 [ 1.000,  1.000], mean action: 0.769 [0.000, 1.000],  loss: 0.074929, mae: 1.326996, mean_q: 2.664152, mean_eps: 0.100000\n",
            " 1830/2000: episode: 170, duration: 0.103s, episode steps:   9, steps per second:  87, episode reward:  9.000, mean reward:  1.000 [ 1.000,  1.000], mean action: 0.778 [0.000, 1.000],  loss: 0.072117, mae: 1.329842, mean_q: 2.646011, mean_eps: 0.100000\n",
            " 1840/2000: episode: 171, duration: 0.114s, episode steps:  10, steps per second:  88, episode reward: 10.000, mean reward:  1.000 [ 1.000,  1.000], mean action: 0.900 [0.000, 1.000],  loss: 0.057904, mae: 1.313362, mean_q: 2.645648, mean_eps: 0.100000\n",
            " 1850/2000: episode: 172, duration: 0.105s, episode steps:  10, steps per second:  95, episode reward: 10.000, mean reward:  1.000 [ 1.000,  1.000], mean action: 0.800 [0.000, 1.000],  loss: 0.061503, mae: 1.315294, mean_q: 2.718679, mean_eps: 0.100000\n",
            " 1860/2000: episode: 173, duration: 0.110s, episode steps:  10, steps per second:  91, episode reward: 10.000, mean reward:  1.000 [ 1.000,  1.000], mean action: 1.000 [1.000, 1.000],  loss: 0.073967, mae: 1.304298, mean_q: 2.679675, mean_eps: 0.100000\n",
            " 1870/2000: episode: 174, duration: 0.118s, episode steps:  10, steps per second:  85, episode reward: 10.000, mean reward:  1.000 [ 1.000,  1.000], mean action: 0.800 [0.000, 1.000],  loss: 0.064351, mae: 1.294922, mean_q: 2.690798, mean_eps: 0.100000\n",
            " 1879/2000: episode: 175, duration: 0.102s, episode steps:   9, steps per second:  88, episode reward:  9.000, mean reward:  1.000 [ 1.000,  1.000], mean action: 0.889 [0.000, 1.000],  loss: 0.084622, mae: 1.300458, mean_q: 2.666587, mean_eps: 0.100000\n",
            " 1888/2000: episode: 176, duration: 0.099s, episode steps:   9, steps per second:  91, episode reward:  9.000, mean reward:  1.000 [ 1.000,  1.000], mean action: 0.889 [0.000, 1.000],  loss: 0.060977, mae: 1.295121, mean_q: 2.687773, mean_eps: 0.100000\n",
            " 1898/2000: episode: 177, duration: 0.110s, episode steps:  10, steps per second:  91, episode reward: 10.000, mean reward:  1.000 [ 1.000,  1.000], mean action: 1.000 [1.000, 1.000],  loss: 0.071424, mae: 1.336748, mean_q: 2.748167, mean_eps: 0.100000\n",
            " 1910/2000: episode: 178, duration: 0.134s, episode steps:  12, steps per second:  90, episode reward: 12.000, mean reward:  1.000 [ 1.000,  1.000], mean action: 0.917 [0.000, 1.000],  loss: 0.080388, mae: 1.327986, mean_q: 2.708852, mean_eps: 0.100000\n",
            " 1920/2000: episode: 179, duration: 0.106s, episode steps:  10, steps per second:  94, episode reward: 10.000, mean reward:  1.000 [ 1.000,  1.000], mean action: 0.800 [0.000, 1.000],  loss: 0.082247, mae: 1.312371, mean_q: 2.645403, mean_eps: 0.100000\n",
            " 1928/2000: episode: 180, duration: 0.081s, episode steps:   8, steps per second:  98, episode reward:  8.000, mean reward:  1.000 [ 1.000,  1.000], mean action: 1.000 [1.000, 1.000],  loss: 0.092805, mae: 1.317967, mean_q: 2.706488, mean_eps: 0.100000\n",
            " 1940/2000: episode: 181, duration: 0.148s, episode steps:  12, steps per second:  81, episode reward: 12.000, mean reward:  1.000 [ 1.000,  1.000], mean action: 0.917 [0.000, 1.000],  loss: 0.076141, mae: 1.310937, mean_q: 2.765453, mean_eps: 0.100000\n",
            " 1949/2000: episode: 182, duration: 0.149s, episode steps:   9, steps per second:  61, episode reward:  9.000, mean reward:  1.000 [ 1.000,  1.000], mean action: 1.000 [1.000, 1.000],  loss: 0.068259, mae: 1.296052, mean_q: 2.710653, mean_eps: 0.100000\n",
            " 1959/2000: episode: 183, duration: 0.133s, episode steps:  10, steps per second:  75, episode reward: 10.000, mean reward:  1.000 [ 1.000,  1.000], mean action: 0.900 [0.000, 1.000],  loss: 0.070425, mae: 1.314251, mean_q: 2.734577, mean_eps: 0.100000\n",
            " 1968/2000: episode: 184, duration: 0.116s, episode steps:   9, steps per second:  78, episode reward:  9.000, mean reward:  1.000 [ 1.000,  1.000], mean action: 0.889 [0.000, 1.000],  loss: 0.077352, mae: 1.323276, mean_q: 2.719262, mean_eps: 0.100000\n",
            " 1977/2000: episode: 185, duration: 0.130s, episode steps:   9, steps per second:  69, episode reward:  9.000, mean reward:  1.000 [ 1.000,  1.000], mean action: 1.000 [1.000, 1.000],  loss: 0.062370, mae: 1.321855, mean_q: 2.783092, mean_eps: 0.100000\n",
            " 1987/2000: episode: 186, duration: 0.127s, episode steps:  10, steps per second:  79, episode reward: 10.000, mean reward:  1.000 [ 1.000,  1.000], mean action: 0.900 [0.000, 1.000],  loss: 0.094925, mae: 1.313790, mean_q: 2.732464, mean_eps: 0.100000\n",
            " 1997/2000: episode: 187, duration: 0.135s, episode steps:  10, steps per second:  74, episode reward: 10.000, mean reward:  1.000 [ 1.000,  1.000], mean action: 0.900 [0.000, 1.000],  loss: 0.063593, mae: 1.285848, mean_q: 2.761364, mean_eps: 0.100000\n",
            "done, took 31.090 seconds\n"
          ]
        },
        {
          "output_type": "display_data",
          "data": {
            "text/plain": [
              "<Figure size 432x288 with 1 Axes>"
            ],
            "image/png": "[encoded data removed]"
          },
          "metadata": {
            "needs_background": "light"
          }
        },
        {
          "output_type": "stream",
          "name": "stdout",
          "text": [
            "Testing for 20 episodes ...\n",
            "Episode 1: reward: 10.000, steps: 10\n",
            "Episode 2: reward: 9.000, steps: 9\n",
            "Episode 3: reward: 10.000, steps: 10\n",
            "Episode 4: reward: 10.000, steps: 10\n",
            "Episode 5: reward: 9.000, steps: 9\n",
            "Episode 6: reward: 8.000, steps: 8\n",
            "Episode 7: reward: 9.000, steps: 9\n",
            "Episode 8: reward: 9.000, steps: 9\n",
            "Episode 9: reward: 10.000, steps: 10\n",
            "Episode 10: reward: 10.000, steps: 10\n",
            "Episode 11: reward: 10.000, steps: 10\n",
            "Episode 12: reward: 10.000, steps: 10\n",
            "Episode 13: reward: 10.000, steps: 10\n",
            "Episode 14: reward: 10.000, steps: 10\n",
            "Episode 15: reward: 9.000, steps: 9\n",
            "Episode 16: reward: 11.000, steps: 11\n",
            "Episode 17: reward: 9.000, steps: 9\n",
            "Episode 18: reward: 8.000, steps: 8\n",
            "Episode 19: reward: 10.000, steps: 10\n",
            "Episode 20: reward: 9.000, steps: 9\n"
          ]
        },
        {
          "output_type": "execute_result",
          "data": {
            "text/plain": [
              "<keras.callbacks.History at 0x7fb1732e7110>"
            ]
          },
          "metadata": {},
          "execution_count": 72
        }
      ]
    }
  ]
}