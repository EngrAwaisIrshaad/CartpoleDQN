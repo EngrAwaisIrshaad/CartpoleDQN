{
  "nbformat": 4,
  "nbformat_minor": 0,
  "metadata": {
    "colab": {
      "name": "CartPoleDQN.ipynb",
      "provenance": [],
      "collapsed_sections": [],
      "include_colab_link": true
    },
    "kernelspec": {
      "name": "python3",
      "display_name": "Python 3"
    }
  },
  "cells": [
    {
      "cell_type": "markdown",
      "metadata": {
        "id": "view-in-github",
        "colab_type": "text"
      },
      "source": [
        "<a href=\"https://colab.research.google.com/github/Megacity1/CartpoleDQN/blob/main/Week%203%20Deep%20RL%202/CartPoleDQN.ipynb\" target=\"_parent\"><img src=\"https://colab.research.google.com/assets/colab-badge.svg\" alt=\"Open In Colab\"/></a>"
      ]
    },
    {
      "cell_type": "markdown",
      "metadata": {
        "id": "VKK5DA390wRe"
      },
      "source": [
        "# Deep Q Network (DQN) for CartPole Using Boltzmann Q Policy\n",
        "This exercise implements a DQN for CartPole using a Boltzmann Q policy for selecting the actions"
      ]
    },
    {
      "cell_type": "code",
      "metadata": {
        "id": "LGsC7cJ5jNcX",
        "colab": {
          "base_uri": "https://localhost:8080/"
        },
        "outputId": "cda73cbf-3020-40f4-e45e-7b87053448f1"
      },
      "source": [
        "# install keras rl2 (we need to install keras-rl2 so it works with the tensorflow 2 version that comes pre-installed with colab)\n",
        "!pip install keras-rl2"
      ],
      "execution_count": 57,
      "outputs": [
        {
          "output_type": "stream",
          "name": "stdout",
          "text": [
            "Requirement already satisfied: keras-rl2 in /usr/local/lib/python3.7/dist-packages (1.0.5)\n",
            "Requirement already satisfied: tensorflow in /usr/local/lib/python3.7/dist-packages (from keras-rl2) (2.8.0)\n",
            "Requirement already satisfied: keras-preprocessing>=1.1.1 in /usr/local/lib/python3.7/dist-packages (from tensorflow->keras-rl2) (1.1.2)\n",
            "Requirement already satisfied: protobuf>=3.9.2 in /usr/local/lib/python3.7/dist-packages (from tensorflow->keras-rl2) (3.17.3)\n",
            "Requirement already satisfied: tensorflow-io-gcs-filesystem>=0.23.1 in /usr/local/lib/python3.7/dist-packages (from tensorflow->keras-rl2) (0.24.0)\n",
            "Requirement already satisfied: libclang>=9.0.1 in /usr/local/lib/python3.7/dist-packages (from tensorflow->keras-rl2) (13.0.0)\n",
            "Requirement already satisfied: h5py>=2.9.0 in /usr/local/lib/python3.7/dist-packages (from tensorflow->keras-rl2) (3.1.0)\n",
            "Requirement already satisfied: opt-einsum>=2.3.2 in /usr/local/lib/python3.7/dist-packages (from tensorflow->keras-rl2) (3.3.0)\n",
            "Requirement already satisfied: gast>=0.2.1 in /usr/local/lib/python3.7/dist-packages (from tensorflow->keras-rl2) (0.5.3)\n",
            "Requirement already satisfied: grpcio<2.0,>=1.24.3 in /usr/local/lib/python3.7/dist-packages (from tensorflow->keras-rl2) (1.44.0)\n",
            "Requirement already satisfied: tensorboard<2.9,>=2.8 in /usr/local/lib/python3.7/dist-packages (from tensorflow->keras-rl2) (2.8.0)\n",
            "Requirement already satisfied: wrapt>=1.11.0 in /usr/local/lib/python3.7/dist-packages (from tensorflow->keras-rl2) (1.14.0)\n",
            "Requirement already satisfied: absl-py>=0.4.0 in /usr/local/lib/python3.7/dist-packages (from tensorflow->keras-rl2) (1.0.0)\n",
            "Requirement already satisfied: flatbuffers>=1.12 in /usr/local/lib/python3.7/dist-packages (from tensorflow->keras-rl2) (2.0)\n",
            "Requirement already satisfied: termcolor>=1.1.0 in /usr/local/lib/python3.7/dist-packages (from tensorflow->keras-rl2) (1.1.0)\n",
            "Requirement already satisfied: keras<2.9,>=2.8.0rc0 in /usr/local/lib/python3.7/dist-packages (from tensorflow->keras-rl2) (2.8.0)\n",
            "Requirement already satisfied: six>=1.12.0 in /usr/local/lib/python3.7/dist-packages (from tensorflow->keras-rl2) (1.15.0)\n",
            "Requirement already satisfied: tf-estimator-nightly==2.8.0.dev2021122109 in /usr/local/lib/python3.7/dist-packages (from tensorflow->keras-rl2) (2.8.0.dev2021122109)\n",
            "Requirement already satisfied: numpy>=1.20 in /usr/local/lib/python3.7/dist-packages (from tensorflow->keras-rl2) (1.21.5)\n",
            "Requirement already satisfied: astunparse>=1.6.0 in /usr/local/lib/python3.7/dist-packages (from tensorflow->keras-rl2) (1.6.3)\n",
            "Requirement already satisfied: typing-extensions>=3.6.6 in /usr/local/lib/python3.7/dist-packages (from tensorflow->keras-rl2) (3.10.0.2)\n",
            "Requirement already satisfied: setuptools in /usr/local/lib/python3.7/dist-packages (from tensorflow->keras-rl2) (57.4.0)\n",
            "Requirement already satisfied: google-pasta>=0.1.1 in /usr/local/lib/python3.7/dist-packages (from tensorflow->keras-rl2) (0.2.0)\n",
            "Requirement already satisfied: wheel<1.0,>=0.23.0 in /usr/local/lib/python3.7/dist-packages (from astunparse>=1.6.0->tensorflow->keras-rl2) (0.37.1)\n",
            "Requirement already satisfied: cached-property in /usr/local/lib/python3.7/dist-packages (from h5py>=2.9.0->tensorflow->keras-rl2) (1.5.2)\n",
            "Requirement already satisfied: google-auth-oauthlib<0.5,>=0.4.1 in /usr/local/lib/python3.7/dist-packages (from tensorboard<2.9,>=2.8->tensorflow->keras-rl2) (0.4.6)\n",
            "Requirement already satisfied: requests<3,>=2.21.0 in /usr/local/lib/python3.7/dist-packages (from tensorboard<2.9,>=2.8->tensorflow->keras-rl2) (2.23.0)\n",
            "Requirement already satisfied: werkzeug>=0.11.15 in /usr/local/lib/python3.7/dist-packages (from tensorboard<2.9,>=2.8->tensorflow->keras-rl2) (1.0.1)\n",
            "Requirement already satisfied: markdown>=2.6.8 in /usr/local/lib/python3.7/dist-packages (from tensorboard<2.9,>=2.8->tensorflow->keras-rl2) (3.3.6)\n",
            "Requirement already satisfied: google-auth<3,>=1.6.3 in /usr/local/lib/python3.7/dist-packages (from tensorboard<2.9,>=2.8->tensorflow->keras-rl2) (1.35.0)\n",
            "Requirement already satisfied: tensorboard-data-server<0.7.0,>=0.6.0 in /usr/local/lib/python3.7/dist-packages (from tensorboard<2.9,>=2.8->tensorflow->keras-rl2) (0.6.1)\n",
            "Requirement already satisfied: tensorboard-plugin-wit>=1.6.0 in /usr/local/lib/python3.7/dist-packages (from tensorboard<2.9,>=2.8->tensorflow->keras-rl2) (1.8.1)\n",
            "Requirement already satisfied: pyasn1-modules>=0.2.1 in /usr/local/lib/python3.7/dist-packages (from google-auth<3,>=1.6.3->tensorboard<2.9,>=2.8->tensorflow->keras-rl2) (0.2.8)\n",
            "Requirement already satisfied: cachetools<5.0,>=2.0.0 in /usr/local/lib/python3.7/dist-packages (from google-auth<3,>=1.6.3->tensorboard<2.9,>=2.8->tensorflow->keras-rl2) (4.2.4)\n",
            "Requirement already satisfied: rsa<5,>=3.1.4 in /usr/local/lib/python3.7/dist-packages (from google-auth<3,>=1.6.3->tensorboard<2.9,>=2.8->tensorflow->keras-rl2) (4.8)\n",
            "Requirement already satisfied: requests-oauthlib>=0.7.0 in /usr/local/lib/python3.7/dist-packages (from google-auth-oauthlib<0.5,>=0.4.1->tensorboard<2.9,>=2.8->tensorflow->keras-rl2) (1.3.1)\n",
            "Requirement already satisfied: importlib-metadata>=4.4 in /usr/local/lib/python3.7/dist-packages (from markdown>=2.6.8->tensorboard<2.9,>=2.8->tensorflow->keras-rl2) (4.11.3)\n",
            "Requirement already satisfied: zipp>=0.5 in /usr/local/lib/python3.7/dist-packages (from importlib-metadata>=4.4->markdown>=2.6.8->tensorboard<2.9,>=2.8->tensorflow->keras-rl2) (3.7.0)\n",
            "Requirement already satisfied: pyasn1<0.5.0,>=0.4.6 in /usr/local/lib/python3.7/dist-packages (from pyasn1-modules>=0.2.1->google-auth<3,>=1.6.3->tensorboard<2.9,>=2.8->tensorflow->keras-rl2) (0.4.8)\n",
            "Requirement already satisfied: chardet<4,>=3.0.2 in /usr/local/lib/python3.7/dist-packages (from requests<3,>=2.21.0->tensorboard<2.9,>=2.8->tensorflow->keras-rl2) (3.0.4)\n",
            "Requirement already satisfied: urllib3!=1.25.0,!=1.25.1,<1.26,>=1.21.1 in /usr/local/lib/python3.7/dist-packages (from requests<3,>=2.21.0->tensorboard<2.9,>=2.8->tensorflow->keras-rl2) (1.24.3)\n",
            "Requirement already satisfied: idna<3,>=2.5 in /usr/local/lib/python3.7/dist-packages (from requests<3,>=2.21.0->tensorboard<2.9,>=2.8->tensorflow->keras-rl2) (2.10)\n",
            "Requirement already satisfied: certifi>=2017.4.17 in /usr/local/lib/python3.7/dist-packages (from requests<3,>=2.21.0->tensorboard<2.9,>=2.8->tensorflow->keras-rl2) (2021.10.8)\n",
            "Requirement already satisfied: oauthlib>=3.0.0 in /usr/local/lib/python3.7/dist-packages (from requests-oauthlib>=0.7.0->google-auth-oauthlib<0.5,>=0.4.1->tensorboard<2.9,>=2.8->tensorflow->keras-rl2) (3.2.0)\n"
          ]
        }
      ]
    },
    {
      "cell_type": "code",
      "metadata": {
        "id": "XMIHLgQ3Z-lF",
        "colab": {
          "base_uri": "https://localhost:8080/"
        },
        "outputId": "3d5a8608-456f-4127-ce8a-f551e5f4e4f3"
      },
      "source": [
        "!pip install gym"
      ],
      "execution_count": 58,
      "outputs": [
        {
          "output_type": "stream",
          "name": "stdout",
          "text": [
            "Requirement already satisfied: gym in /usr/local/lib/python3.7/dist-packages (0.17.3)\n",
            "Requirement already satisfied: numpy>=1.10.4 in /usr/local/lib/python3.7/dist-packages (from gym) (1.21.5)\n",
            "Requirement already satisfied: scipy in /usr/local/lib/python3.7/dist-packages (from gym) (1.4.1)\n",
            "Requirement already satisfied: pyglet<=1.5.0,>=1.4.0 in /usr/local/lib/python3.7/dist-packages (from gym) (1.5.0)\n",
            "Requirement already satisfied: cloudpickle<1.7.0,>=1.2.0 in /usr/local/lib/python3.7/dist-packages (from gym) (1.3.0)\n",
            "Requirement already satisfied: future in /usr/local/lib/python3.7/dist-packages (from pyglet<=1.5.0,>=1.4.0->gym) (0.16.0)\n"
          ]
        }
      ]
    },
    {
      "cell_type": "code",
      "metadata": {
        "id": "M0AMLzq08ap0",
        "colab": {
          "base_uri": "https://localhost:8080/"
        },
        "outputId": "77b380e1-6c3d-4bce-8233-a8ac01deaf26"
      },
      "source": [
        "# load the gym module\n",
        "import gym\n",
        "import matplotlib.pyplot as plt\n",
        "# import the usual Keras modules for creating deep neural networks\n",
        "from keras import Sequential\n",
        "from keras.layers import Input, Flatten, Dense\n",
        "!pip install Adam\n",
        "#from keras.optimizers import Adam\n",
        "from tensorflow.keras.optimizers import Adam\n",
        "ENV_NAME = 'CartPole-v0'\n",
        "env = gym.make(ENV_NAME)"
      ],
      "execution_count": 62,
      "outputs": [
        {
          "output_type": "stream",
          "name": "stdout",
          "text": [
            "Requirement already satisfied: Adam in /usr/local/lib/python3.7/dist-packages (0.0.0.dev0)\n"
          ]
        }
      ]
    },
    {
      "cell_type": "markdown",
      "metadata": {
        "id": "ll6bNdUm54WS"
      },
      "source": [
        "Implementation of DQN for CartPole, applying policy BoltzmannQPolicy"
      ]
    },
    {
      "cell_type": "markdown",
      "metadata": {
        "id": "RSCrPKNy40PC"
      },
      "source": [
        "##Implement DQN with BoltzmannGumbelQPolicy"
      ]
    },
    {
      "cell_type": "code",
      "metadata": {
        "id": "efM9jkXr5A3c",
        "colab": {
          "base_uri": "https://localhost:8080/",
          "height": 1000
        },
        "outputId": "3024c135-7898-4147-8745-0e7a0ad5828f"
      },
      "source": [
        "import rl\n",
        "from rl.memory import SequentialMemory  # import the exerience replay buffer module\n",
        "from rl.policy import BoltzmannGumbelQPolicy\n",
        "from rl.policy import LinearAnnealedPolicy\n",
        "from rl.policy import EpsGreedyQPolicy\n",
        "from rl.agents.dqn import DQNAgent      # import the DQN agent\n",
        "\n",
        "# setup experience replay buffer\n",
        "memory = SequentialMemory(limit=10000, window_length=1)\n",
        "\n",
        "policy = LinearAnnealedPolicy(EpsGreedyQPolicy(), \n",
        "                               attr='eps',            \n",
        "                               value_max=5.,\n",
        "                               value_min=.5, \n",
        "                               value_test=.05,\n",
        "                               nb_steps=20)\n",
        "# Q-Network\n",
        "model = Sequential()\n",
        "model.add(Input(shape=(1,env.observation_space.shape[0])))  # The input is 1 observation vector, and the number of observations in that vector \n",
        "model.add(Flatten())\n",
        "model.add(Dense(16, activation='relu'))\n",
        "# add extra layers here\n",
        "model.add(Dense(env.action_space.n, activation='linear'))   # the output is the number of actions in the action space\n",
        "\n",
        "print(model.summary())\n",
        "\n",
        "# define the agent\n",
        "dqn = DQNAgent(model=model, \n",
        "               nb_actions=env.action_space.n,\n",
        "               memory=memory,\n",
        "               nb_steps_warmup=20,\n",
        "               target_model_update=1e-2, \n",
        "               policy=policy) \n",
        "\n",
        "dqn.compile(Adam(lr=1e-3), metrics=['mae'])\n",
        "\n",
        "history = dqn.fit(env, nb_steps=8000, visualize=False, verbose=2)\n",
        "\n",
        "# summarize the history for number  of episode steps\n",
        "plt.plot(history.history['nb_episode_steps'])\n",
        "plt.ylabel('nb_episode_steps')\n",
        "plt.xlabel('episodes')\n",
        "plt.show()\n",
        "\n",
        "dqn.test(env, nb_episodes=20, visualize=False)"
      ],
      "execution_count": 102,
      "outputs": [
        {
          "output_type": "stream",
          "name": "stdout",
          "text": [
            "Model: \"sequential_53\"\n",
            "_________________________________________________________________\n",
            " Layer (type)                Output Shape              Param #   \n",
            "=================================================================\n",
            " flatten_51 (Flatten)        (None, 4)                 0         \n",
            "                                                                 \n",
            " dense_103 (Dense)           (None, 16)                80        \n",
            "                                                                 \n",
            " dense_104 (Dense)           (None, 2)                 34        \n",
            "                                                                 \n",
            "=================================================================\n",
            "Total params: 114\n",
            "Trainable params: 114\n",
            "Non-trainable params: 0\n",
            "_________________________________________________________________\n",
            "None\n"
          ]
        },
        {
          "output_type": "stream",
          "name": "stderr",
          "text": [
            "/usr/local/lib/python3.7/dist-packages/keras/optimizer_v2/adam.py:105: UserWarning: The `lr` argument is deprecated, use `learning_rate` instead.\n",
            "  super(Adam, self).__init__(name, **kwargs)\n"
          ]
        },
        {
          "output_type": "stream",
          "name": "stdout",
          "text": [
            "Training for 8000 steps ...\n"
          ]
        },
        {
          "output_type": "stream",
          "name": "stderr",
          "text": [
            "/usr/local/lib/python3.7/dist-packages/keras/engine/training_v1.py:2079: UserWarning: `Model.state_updates` will be removed in a future version. This property should not be used in TensorFlow 2.0, as `updates` are applied automatically.\n",
            "  updates=self.state_updates,\n",
            "/usr/local/lib/python3.7/dist-packages/rl/memory.py:37: UserWarning: Not enough entries to sample without replacement. Consider increasing your warm-up phase to avoid oversampling!\n",
            "  warnings.warn('Not enough entries to sample without replacement. Consider increasing your warm-up phase to avoid oversampling!')\n"
          ]
        },
        {
          "output_type": "stream",
          "name": "stdout",
          "text": [
            "   21/8000: episode: 1, duration: 15.117s, episode steps:  21, steps per second:   1, episode reward: 21.000, mean reward:  1.000 [ 1.000,  1.000], mean action: 0.571 [0.000, 1.000],  loss: --, mae: --, mean_q: --, mean_eps: --\n"
          ]
        },
        {
          "output_type": "stream",
          "name": "stderr",
          "text": [
            "/usr/local/lib/python3.7/dist-packages/rl/memory.py:37: UserWarning: Not enough entries to sample without replacement. Consider increasing your warm-up phase to avoid oversampling!\n",
            "  warnings.warn('Not enough entries to sample without replacement. Consider increasing your warm-up phase to avoid oversampling!')\n"
          ]
        },
        {
          "output_type": "stream",
          "name": "stdout",
          "text": [
            "   34/8000: episode: 2, duration: 0.423s, episode steps:  13, steps per second:  31, episode reward: 13.000, mean reward:  1.000 [ 1.000,  1.000], mean action: 0.308 [0.000, 1.000],  loss: 0.645355, mae: 0.651954, mean_q: 0.316936, mean_eps: 0.500000\n",
            "   43/8000: episode: 3, duration: 0.205s, episode steps:   9, steps per second:  44, episode reward:  9.000, mean reward:  1.000 [ 1.000,  1.000], mean action: 0.000 [0.000, 0.000],  loss: 0.599904, mae: 0.656075, mean_q: 0.351273, mean_eps: 0.500000\n",
            "   58/8000: episode: 4, duration: 0.296s, episode steps:  15, steps per second:  51, episode reward: 15.000, mean reward:  1.000 [ 1.000,  1.000], mean action: 0.200 [0.000, 1.000],  loss: 0.507050, mae: 0.619159, mean_q: 0.422958, mean_eps: 0.500000\n",
            "   70/8000: episode: 5, duration: 0.254s, episode steps:  12, steps per second:  47, episode reward: 12.000, mean reward:  1.000 [ 1.000,  1.000], mean action: 0.167 [0.000, 1.000],  loss: 0.452489, mae: 0.582281, mean_q: 0.495403, mean_eps: 0.500000\n",
            "   84/8000: episode: 6, duration: 0.289s, episode steps:  14, steps per second:  48, episode reward: 14.000, mean reward:  1.000 [ 1.000,  1.000], mean action: 0.214 [0.000, 1.000],  loss: 0.417402, mae: 0.565390, mean_q: 0.583919, mean_eps: 0.500000\n",
            "   93/8000: episode: 7, duration: 0.185s, episode steps:   9, steps per second:  49, episode reward:  9.000, mean reward:  1.000 [ 1.000,  1.000], mean action: 0.111 [0.000, 1.000],  loss: 0.402502, mae: 0.568615, mean_q: 0.680846, mean_eps: 0.500000\n",
            "  114/8000: episode: 8, duration: 0.439s, episode steps:  21, steps per second:  48, episode reward: 21.000, mean reward:  1.000 [ 1.000,  1.000], mean action: 0.381 [0.000, 1.000],  loss: 0.373810, mae: 0.555731, mean_q: 0.723232, mean_eps: 0.500000\n",
            "  125/8000: episode: 9, duration: 0.256s, episode steps:  11, steps per second:  43, episode reward: 11.000, mean reward:  1.000 [ 1.000,  1.000], mean action: 0.182 [0.000, 1.000],  loss: 0.365909, mae: 0.599402, mean_q: 0.809608, mean_eps: 0.500000\n",
            "  139/8000: episode: 10, duration: 0.302s, episode steps:  14, steps per second:  46, episode reward: 14.000, mean reward:  1.000 [ 1.000,  1.000], mean action: 0.214 [0.000, 1.000],  loss: 0.362893, mae: 0.639621, mean_q: 0.881010, mean_eps: 0.500000\n",
            "  149/8000: episode: 11, duration: 0.224s, episode steps:  10, steps per second:  45, episode reward: 10.000, mean reward:  1.000 [ 1.000,  1.000], mean action: 0.100 [0.000, 1.000],  loss: 0.332611, mae: 0.645994, mean_q: 0.936550, mean_eps: 0.500000\n",
            "  159/8000: episode: 12, duration: 0.198s, episode steps:  10, steps per second:  51, episode reward: 10.000, mean reward:  1.000 [ 1.000,  1.000], mean action: 0.100 [0.000, 1.000],  loss: 0.324900, mae: 0.667592, mean_q: 1.035743, mean_eps: 0.500000\n",
            "  169/8000: episode: 13, duration: 0.173s, episode steps:  10, steps per second:  58, episode reward: 10.000, mean reward:  1.000 [ 1.000,  1.000], mean action: 0.000 [0.000, 0.000],  loss: 0.320597, mae: 0.697979, mean_q: 1.152494, mean_eps: 0.500000\n",
            "  185/8000: episode: 14, duration: 0.311s, episode steps:  16, steps per second:  51, episode reward: 16.000, mean reward:  1.000 [ 1.000,  1.000], mean action: 0.375 [0.000, 1.000],  loss: 0.296266, mae: 0.719271, mean_q: 1.261964, mean_eps: 0.500000\n",
            "  198/8000: episode: 15, duration: 0.274s, episode steps:  13, steps per second:  47, episode reward: 13.000, mean reward:  1.000 [ 1.000,  1.000], mean action: 0.308 [0.000, 1.000],  loss: 0.312305, mae: 0.768688, mean_q: 1.341459, mean_eps: 0.500000\n",
            "  216/8000: episode: 16, duration: 0.432s, episode steps:  18, steps per second:  42, episode reward: 18.000, mean reward:  1.000 [ 1.000,  1.000], mean action: 0.278 [0.000, 1.000],  loss: 0.293985, mae: 0.816597, mean_q: 1.405762, mean_eps: 0.500000\n",
            "  230/8000: episode: 17, duration: 0.296s, episode steps:  14, steps per second:  47, episode reward: 14.000, mean reward:  1.000 [ 1.000,  1.000], mean action: 0.429 [0.000, 1.000],  loss: 0.298119, mae: 0.859801, mean_q: 1.492931, mean_eps: 0.500000\n",
            "  241/8000: episode: 18, duration: 0.223s, episode steps:  11, steps per second:  49, episode reward: 11.000, mean reward:  1.000 [ 1.000,  1.000], mean action: 0.091 [0.000, 1.000],  loss: 0.275810, mae: 0.870409, mean_q: 1.569649, mean_eps: 0.500000\n",
            "  250/8000: episode: 19, duration: 0.186s, episode steps:   9, steps per second:  48, episode reward:  9.000, mean reward:  1.000 [ 1.000,  1.000], mean action: 0.000 [0.000, 0.000],  loss: 0.275162, mae: 0.909307, mean_q: 1.661881, mean_eps: 0.500000\n",
            "  262/8000: episode: 20, duration: 0.251s, episode steps:  12, steps per second:  48, episode reward: 12.000, mean reward:  1.000 [ 1.000,  1.000], mean action: 0.250 [0.000, 1.000],  loss: 0.284921, mae: 0.965237, mean_q: 1.831321, mean_eps: 0.500000\n",
            "  280/8000: episode: 21, duration: 0.339s, episode steps:  18, steps per second:  53, episode reward: 18.000, mean reward:  1.000 [ 1.000,  1.000], mean action: 0.333 [0.000, 1.000],  loss: 0.356710, mae: 1.043613, mean_q: 1.895064, mean_eps: 0.500000\n",
            "  293/8000: episode: 22, duration: 0.305s, episode steps:  13, steps per second:  43, episode reward: 13.000, mean reward:  1.000 [ 1.000,  1.000], mean action: 0.231 [0.000, 1.000],  loss: 0.342914, mae: 1.120152, mean_q: 1.901436, mean_eps: 0.500000\n",
            "  303/8000: episode: 23, duration: 0.234s, episode steps:  10, steps per second:  43, episode reward: 10.000, mean reward:  1.000 [ 1.000,  1.000], mean action: 0.200 [0.000, 1.000],  loss: 0.344435, mae: 1.127380, mean_q: 1.908512, mean_eps: 0.500000\n",
            "  314/8000: episode: 24, duration: 0.228s, episode steps:  11, steps per second:  48, episode reward: 11.000, mean reward:  1.000 [ 1.000,  1.000], mean action: 0.091 [0.000, 1.000],  loss: 0.309591, mae: 1.160205, mean_q: 1.995691, mean_eps: 0.500000\n",
            "  323/8000: episode: 25, duration: 0.178s, episode steps:   9, steps per second:  50, episode reward:  9.000, mean reward:  1.000 [ 1.000,  1.000], mean action: 0.111 [0.000, 1.000],  loss: 0.366999, mae: 1.256275, mean_q: 2.188298, mean_eps: 0.500000\n",
            "  339/8000: episode: 26, duration: 0.300s, episode steps:  16, steps per second:  53, episode reward: 16.000, mean reward:  1.000 [ 1.000,  1.000], mean action: 0.375 [0.000, 1.000],  loss: 0.349182, mae: 1.274245, mean_q: 2.232293, mean_eps: 0.500000\n",
            "  350/8000: episode: 27, duration: 0.230s, episode steps:  11, steps per second:  48, episode reward: 11.000, mean reward:  1.000 [ 1.000,  1.000], mean action: 0.364 [0.000, 1.000],  loss: 0.355814, mae: 1.312919, mean_q: 2.321932, mean_eps: 0.500000\n",
            "  364/8000: episode: 28, duration: 0.245s, episode steps:  14, steps per second:  57, episode reward: 14.000, mean reward:  1.000 [ 1.000,  1.000], mean action: 0.429 [0.000, 1.000],  loss: 0.315620, mae: 1.340198, mean_q: 2.392061, mean_eps: 0.500000\n",
            "  379/8000: episode: 29, duration: 0.268s, episode steps:  15, steps per second:  56, episode reward: 15.000, mean reward:  1.000 [ 1.000,  1.000], mean action: 0.333 [0.000, 1.000],  loss: 0.351307, mae: 1.364589, mean_q: 2.513544, mean_eps: 0.500000\n",
            "  391/8000: episode: 30, duration: 0.233s, episode steps:  12, steps per second:  51, episode reward: 12.000, mean reward:  1.000 [ 1.000,  1.000], mean action: 0.167 [0.000, 1.000],  loss: 0.380452, mae: 1.436586, mean_q: 2.620457, mean_eps: 0.500000\n",
            "  403/8000: episode: 31, duration: 0.280s, episode steps:  12, steps per second:  43, episode reward: 12.000, mean reward:  1.000 [ 1.000,  1.000], mean action: 0.250 [0.000, 1.000],  loss: 0.311898, mae: 1.426824, mean_q: 2.682762, mean_eps: 0.500000\n",
            "  414/8000: episode: 32, duration: 0.265s, episode steps:  11, steps per second:  41, episode reward: 11.000, mean reward:  1.000 [ 1.000,  1.000], mean action: 0.273 [0.000, 1.000],  loss: 0.334207, mae: 1.484467, mean_q: 2.811188, mean_eps: 0.500000\n",
            "  439/8000: episode: 33, duration: 0.523s, episode steps:  25, steps per second:  48, episode reward: 25.000, mean reward:  1.000 [ 1.000,  1.000], mean action: 0.360 [0.000, 1.000],  loss: 0.389822, mae: 1.572197, mean_q: 2.909999, mean_eps: 0.500000\n",
            "  449/8000: episode: 34, duration: 0.234s, episode steps:  10, steps per second:  43, episode reward: 10.000, mean reward:  1.000 [ 1.000,  1.000], mean action: 0.200 [0.000, 1.000],  loss: 0.428514, mae: 1.613668, mean_q: 3.002056, mean_eps: 0.500000\n",
            "  463/8000: episode: 35, duration: 0.331s, episode steps:  14, steps per second:  42, episode reward: 14.000, mean reward:  1.000 [ 1.000,  1.000], mean action: 0.357 [0.000, 1.000],  loss: 0.410821, mae: 1.648494, mean_q: 3.061202, mean_eps: 0.500000\n",
            "  475/8000: episode: 36, duration: 0.237s, episode steps:  12, steps per second:  51, episode reward: 12.000, mean reward:  1.000 [ 1.000,  1.000], mean action: 0.333 [0.000, 1.000],  loss: 0.398551, mae: 1.720508, mean_q: 3.149125, mean_eps: 0.500000\n",
            "  488/8000: episode: 37, duration: 0.300s, episode steps:  13, steps per second:  43, episode reward: 13.000, mean reward:  1.000 [ 1.000,  1.000], mean action: 0.308 [0.000, 1.000],  loss: 0.520045, mae: 1.800896, mean_q: 3.335868, mean_eps: 0.500000\n",
            "  499/8000: episode: 38, duration: 0.257s, episode steps:  11, steps per second:  43, episode reward: 11.000, mean reward:  1.000 [ 1.000,  1.000], mean action: 0.364 [0.000, 1.000],  loss: 0.422361, mae: 1.760230, mean_q: 3.293676, mean_eps: 0.500000\n",
            "  508/8000: episode: 39, duration: 0.228s, episode steps:   9, steps per second:  39, episode reward:  9.000, mean reward:  1.000 [ 1.000,  1.000], mean action: 0.111 [0.000, 1.000],  loss: 0.366114, mae: 1.782207, mean_q: 3.408918, mean_eps: 0.500000\n",
            "  523/8000: episode: 40, duration: 0.410s, episode steps:  15, steps per second:  37, episode reward: 15.000, mean reward:  1.000 [ 1.000,  1.000], mean action: 0.333 [0.000, 1.000],  loss: 0.380001, mae: 1.820465, mean_q: 3.517312, mean_eps: 0.500000\n",
            "  538/8000: episode: 41, duration: 0.358s, episode steps:  15, steps per second:  42, episode reward: 15.000, mean reward:  1.000 [ 1.000,  1.000], mean action: 0.267 [0.000, 1.000],  loss: 0.417070, mae: 1.861422, mean_q: 3.707311, mean_eps: 0.500000\n",
            "  552/8000: episode: 42, duration: 0.265s, episode steps:  14, steps per second:  53, episode reward: 14.000, mean reward:  1.000 [ 1.000,  1.000], mean action: 0.357 [0.000, 1.000],  loss: 0.476246, mae: 1.972236, mean_q: 3.734501, mean_eps: 0.500000\n",
            "  566/8000: episode: 43, duration: 0.271s, episode steps:  14, steps per second:  52, episode reward: 14.000, mean reward:  1.000 [ 1.000,  1.000], mean action: 0.286 [0.000, 1.000],  loss: 0.451934, mae: 1.981268, mean_q: 3.833288, mean_eps: 0.500000\n",
            "  577/8000: episode: 44, duration: 0.245s, episode steps:  11, steps per second:  45, episode reward: 11.000, mean reward:  1.000 [ 1.000,  1.000], mean action: 0.182 [0.000, 1.000],  loss: 0.567202, mae: 2.079418, mean_q: 3.970520, mean_eps: 0.500000\n",
            "  592/8000: episode: 45, duration: 0.274s, episode steps:  15, steps per second:  55, episode reward: 15.000, mean reward:  1.000 [ 1.000,  1.000], mean action: 0.467 [0.000, 1.000],  loss: 0.486974, mae: 2.083877, mean_q: 4.063550, mean_eps: 0.500000\n",
            "  602/8000: episode: 46, duration: 0.173s, episode steps:  10, steps per second:  58, episode reward: 10.000, mean reward:  1.000 [ 1.000,  1.000], mean action: 0.200 [0.000, 1.000],  loss: 0.572314, mae: 2.139280, mean_q: 4.152272, mean_eps: 0.500000\n",
            "  611/8000: episode: 47, duration: 0.166s, episode steps:   9, steps per second:  54, episode reward:  9.000, mean reward:  1.000 [ 1.000,  1.000], mean action: 0.000 [0.000, 0.000],  loss: 0.383911, mae: 2.100388, mean_q: 4.187374, mean_eps: 0.500000\n",
            "  623/8000: episode: 48, duration: 0.250s, episode steps:  12, steps per second:  48, episode reward: 12.000, mean reward:  1.000 [ 1.000,  1.000], mean action: 0.250 [0.000, 1.000],  loss: 0.593291, mae: 2.233258, mean_q: 4.292826, mean_eps: 0.500000\n",
            "  634/8000: episode: 49, duration: 0.190s, episode steps:  11, steps per second:  58, episode reward: 11.000, mean reward:  1.000 [ 1.000,  1.000], mean action: 0.273 [0.000, 1.000],  loss: 0.503988, mae: 2.217627, mean_q: 4.305689, mean_eps: 0.500000\n",
            "  648/8000: episode: 50, duration: 0.306s, episode steps:  14, steps per second:  46, episode reward: 14.000, mean reward:  1.000 [ 1.000,  1.000], mean action: 0.286 [0.000, 1.000],  loss: 0.612780, mae: 2.306986, mean_q: 4.338123, mean_eps: 0.500000\n",
            "  662/8000: episode: 51, duration: 0.250s, episode steps:  14, steps per second:  56, episode reward: 14.000, mean reward:  1.000 [ 1.000,  1.000], mean action: 0.357 [0.000, 1.000],  loss: 0.556109, mae: 2.328900, mean_q: 4.441559, mean_eps: 0.500000\n",
            "  671/8000: episode: 52, duration: 0.165s, episode steps:   9, steps per second:  54, episode reward:  9.000, mean reward:  1.000 [ 1.000,  1.000], mean action: 0.000 [0.000, 0.000],  loss: 0.606748, mae: 2.405105, mean_q: 4.545536, mean_eps: 0.500000\n",
            "  681/8000: episode: 53, duration: 0.177s, episode steps:  10, steps per second:  56, episode reward: 10.000, mean reward:  1.000 [ 1.000,  1.000], mean action: 0.200 [0.000, 1.000],  loss: 0.523715, mae: 2.407629, mean_q: 4.598449, mean_eps: 0.500000\n",
            "  690/8000: episode: 54, duration: 0.161s, episode steps:   9, steps per second:  56, episode reward:  9.000, mean reward:  1.000 [ 1.000,  1.000], mean action: 0.222 [0.000, 1.000],  loss: 0.549297, mae: 2.417179, mean_q: 4.632345, mean_eps: 0.500000\n",
            "  707/8000: episode: 55, duration: 0.296s, episode steps:  17, steps per second:  57, episode reward: 17.000, mean reward:  1.000 [ 1.000,  1.000], mean action: 0.294 [0.000, 1.000],  loss: 0.660748, mae: 2.499633, mean_q: 4.666302, mean_eps: 0.500000\n",
            "  719/8000: episode: 56, duration: 0.236s, episode steps:  12, steps per second:  51, episode reward: 12.000, mean reward:  1.000 [ 1.000,  1.000], mean action: 0.250 [0.000, 1.000],  loss: 0.527301, mae: 2.504403, mean_q: 4.773488, mean_eps: 0.500000\n",
            "  732/8000: episode: 57, duration: 0.246s, episode steps:  13, steps per second:  53, episode reward: 13.000, mean reward:  1.000 [ 1.000,  1.000], mean action: 0.385 [0.000, 1.000],  loss: 0.548414, mae: 2.561661, mean_q: 4.895375, mean_eps: 0.500000\n",
            "  749/8000: episode: 58, duration: 0.326s, episode steps:  17, steps per second:  52, episode reward: 17.000, mean reward:  1.000 [ 1.000,  1.000], mean action: 0.294 [0.000, 1.000],  loss: 0.463268, mae: 2.574157, mean_q: 5.094946, mean_eps: 0.500000\n",
            "  774/8000: episode: 59, duration: 0.490s, episode steps:  25, steps per second:  51, episode reward: 25.000, mean reward:  1.000 [ 1.000,  1.000], mean action: 0.400 [0.000, 1.000],  loss: 0.577243, mae: 2.680629, mean_q: 5.186049, mean_eps: 0.500000\n",
            "  784/8000: episode: 60, duration: 0.195s, episode steps:  10, steps per second:  51, episode reward: 10.000, mean reward:  1.000 [ 1.000,  1.000], mean action: 0.200 [0.000, 1.000],  loss: 0.456271, mae: 2.717114, mean_q: 5.265428, mean_eps: 0.500000\n",
            "  800/8000: episode: 61, duration: 0.296s, episode steps:  16, steps per second:  54, episode reward: 16.000, mean reward:  1.000 [ 1.000,  1.000], mean action: 0.375 [0.000, 1.000],  loss: 0.623619, mae: 2.810737, mean_q: 5.351788, mean_eps: 0.500000\n",
            "  815/8000: episode: 62, duration: 0.259s, episode steps:  15, steps per second:  58, episode reward: 15.000, mean reward:  1.000 [ 1.000,  1.000], mean action: 0.400 [0.000, 1.000],  loss: 0.590839, mae: 2.857198, mean_q: 5.359912, mean_eps: 0.500000\n",
            "  828/8000: episode: 63, duration: 0.250s, episode steps:  13, steps per second:  52, episode reward: 13.000, mean reward:  1.000 [ 1.000,  1.000], mean action: 0.385 [0.000, 1.000],  loss: 0.677692, mae: 2.903323, mean_q: 5.430944, mean_eps: 0.500000\n",
            "  839/8000: episode: 64, duration: 0.192s, episode steps:  11, steps per second:  57, episode reward: 11.000, mean reward:  1.000 [ 1.000,  1.000], mean action: 0.273 [0.000, 1.000],  loss: 0.512216, mae: 2.902347, mean_q: 5.506547, mean_eps: 0.500000\n",
            "  854/8000: episode: 65, duration: 0.264s, episode steps:  15, steps per second:  57, episode reward: 15.000, mean reward:  1.000 [ 1.000,  1.000], mean action: 0.400 [0.000, 1.000],  loss: 0.643861, mae: 2.980644, mean_q: 5.611653, mean_eps: 0.500000\n",
            "  868/8000: episode: 66, duration: 0.275s, episode steps:  14, steps per second:  51, episode reward: 14.000, mean reward:  1.000 [ 1.000,  1.000], mean action: 0.357 [0.000, 1.000],  loss: 0.560350, mae: 3.005718, mean_q: 5.633292, mean_eps: 0.500000\n",
            "  883/8000: episode: 67, duration: 0.283s, episode steps:  15, steps per second:  53, episode reward: 15.000, mean reward:  1.000 [ 1.000,  1.000], mean action: 0.400 [0.000, 1.000],  loss: 0.565329, mae: 3.019593, mean_q: 5.688731, mean_eps: 0.500000\n",
            "  902/8000: episode: 68, duration: 0.386s, episode steps:  19, steps per second:  49, episode reward: 19.000, mean reward:  1.000 [ 1.000,  1.000], mean action: 0.526 [0.000, 1.000],  loss: 0.547098, mae: 3.091000, mean_q: 5.771505, mean_eps: 0.500000\n",
            "  936/8000: episode: 69, duration: 0.614s, episode steps:  34, steps per second:  55, episode reward: 34.000, mean reward:  1.000 [ 1.000,  1.000], mean action: 0.559 [0.000, 1.000],  loss: 0.585707, mae: 3.161349, mean_q: 5.899306, mean_eps: 0.500000\n",
            "  987/8000: episode: 70, duration: 1.236s, episode steps:  51, steps per second:  41, episode reward: 51.000, mean reward:  1.000 [ 1.000,  1.000], mean action: 0.510 [0.000, 1.000],  loss: 0.591247, mae: 3.252629, mean_q: 6.059987, mean_eps: 0.500000\n",
            "  998/8000: episode: 71, duration: 0.220s, episode steps:  11, steps per second:  50, episode reward: 11.000, mean reward:  1.000 [ 1.000,  1.000], mean action: 0.273 [0.000, 1.000],  loss: 0.592677, mae: 3.318357, mean_q: 6.267890, mean_eps: 0.500000\n",
            " 1013/8000: episode: 72, duration: 0.282s, episode steps:  15, steps per second:  53, episode reward: 15.000, mean reward:  1.000 [ 1.000,  1.000], mean action: 0.333 [0.000, 1.000],  loss: 0.497781, mae: 3.354656, mean_q: 6.351439, mean_eps: 0.500000\n",
            " 1031/8000: episode: 73, duration: 0.362s, episode steps:  18, steps per second:  50, episode reward: 18.000, mean reward:  1.000 [ 1.000,  1.000], mean action: 0.389 [0.000, 1.000],  loss: 0.698390, mae: 3.425583, mean_q: 6.332954, mean_eps: 0.500000\n",
            " 1045/8000: episode: 74, duration: 0.337s, episode steps:  14, steps per second:  42, episode reward: 14.000, mean reward:  1.000 [ 1.000,  1.000], mean action: 0.429 [0.000, 1.000],  loss: 0.456233, mae: 3.405644, mean_q: 6.379872, mean_eps: 0.500000\n",
            " 1082/8000: episode: 75, duration: 0.664s, episode steps:  37, steps per second:  56, episode reward: 37.000, mean reward:  1.000 [ 1.000,  1.000], mean action: 0.568 [0.000, 1.000],  loss: 0.514253, mae: 3.514456, mean_q: 6.580441, mean_eps: 0.500000\n",
            " 1110/8000: episode: 76, duration: 0.518s, episode steps:  28, steps per second:  54, episode reward: 28.000, mean reward:  1.000 [ 1.000,  1.000], mean action: 0.536 [0.000, 1.000],  loss: 0.610172, mae: 3.628049, mean_q: 6.821069, mean_eps: 0.500000\n",
            " 1124/8000: episode: 77, duration: 0.270s, episode steps:  14, steps per second:  52, episode reward: 14.000, mean reward:  1.000 [ 1.000,  1.000], mean action: 0.857 [0.000, 1.000],  loss: 0.752098, mae: 3.708340, mean_q: 6.841429, mean_eps: 0.500000\n",
            " 1153/8000: episode: 78, duration: 0.528s, episode steps:  29, steps per second:  55, episode reward: 29.000, mean reward:  1.000 [ 1.000,  1.000], mean action: 0.379 [0.000, 1.000],  loss: 0.588577, mae: 3.738957, mean_q: 6.963629, mean_eps: 0.500000\n",
            " 1163/8000: episode: 79, duration: 0.178s, episode steps:  10, steps per second:  56, episode reward: 10.000, mean reward:  1.000 [ 1.000,  1.000], mean action: 0.900 [0.000, 1.000],  loss: 0.631079, mae: 3.827155, mean_q: 7.216892, mean_eps: 0.500000\n",
            " 1174/8000: episode: 80, duration: 0.212s, episode steps:  11, steps per second:  52, episode reward: 11.000, mean reward:  1.000 [ 1.000,  1.000], mean action: 0.818 [0.000, 1.000],  loss: 0.730082, mae: 3.830713, mean_q: 7.223451, mean_eps: 0.500000\n",
            " 1208/8000: episode: 81, duration: 0.585s, episode steps:  34, steps per second:  58, episode reward: 34.000, mean reward:  1.000 [ 1.000,  1.000], mean action: 0.676 [0.000, 1.000],  loss: 0.628346, mae: 3.896793, mean_q: 7.378837, mean_eps: 0.500000\n",
            " 1219/8000: episode: 82, duration: 0.242s, episode steps:  11, steps per second:  46, episode reward: 11.000, mean reward:  1.000 [ 1.000,  1.000], mean action: 0.727 [0.000, 1.000],  loss: 0.722552, mae: 4.009504, mean_q: 7.693488, mean_eps: 0.500000\n",
            " 1237/8000: episode: 83, duration: 0.354s, episode steps:  18, steps per second:  51, episode reward: 18.000, mean reward:  1.000 [ 1.000,  1.000], mean action: 0.722 [0.000, 1.000],  loss: 0.897572, mae: 4.137316, mean_q: 7.841705, mean_eps: 0.500000\n",
            " 1249/8000: episode: 84, duration: 0.263s, episode steps:  12, steps per second:  46, episode reward: 12.000, mean reward:  1.000 [ 1.000,  1.000], mean action: 0.833 [0.000, 1.000],  loss: 1.242882, mae: 4.234142, mean_q: 7.902425, mean_eps: 0.500000\n",
            " 1257/8000: episode: 85, duration: 0.150s, episode steps:   8, steps per second:  53, episode reward:  8.000, mean reward:  1.000 [ 1.000,  1.000], mean action: 1.000 [1.000, 1.000],  loss: 0.895022, mae: 4.321888, mean_q: 8.143932, mean_eps: 0.500000\n",
            " 1268/8000: episode: 86, duration: 0.194s, episode steps:  11, steps per second:  57, episode reward: 11.000, mean reward:  1.000 [ 1.000,  1.000], mean action: 0.818 [0.000, 1.000],  loss: 1.168960, mae: 4.322625, mean_q: 8.099456, mean_eps: 0.500000\n",
            " 1278/8000: episode: 87, duration: 0.198s, episode steps:  10, steps per second:  50, episode reward: 10.000, mean reward:  1.000 [ 1.000,  1.000], mean action: 0.800 [0.000, 1.000],  loss: 1.290814, mae: 4.283089, mean_q: 8.061952, mean_eps: 0.500000\n",
            " 1291/8000: episode: 88, duration: 0.263s, episode steps:  13, steps per second:  49, episode reward: 13.000, mean reward:  1.000 [ 1.000,  1.000], mean action: 0.769 [0.000, 1.000],  loss: 2.099434, mae: 4.434338, mean_q: 8.192640, mean_eps: 0.500000\n",
            " 1303/8000: episode: 89, duration: 0.229s, episode steps:  12, steps per second:  52, episode reward: 12.000, mean reward:  1.000 [ 1.000,  1.000], mean action: 0.833 [0.000, 1.000],  loss: 1.449760, mae: 4.413485, mean_q: 8.178473, mean_eps: 0.500000\n",
            " 1319/8000: episode: 90, duration: 0.306s, episode steps:  16, steps per second:  52, episode reward: 16.000, mean reward:  1.000 [ 1.000,  1.000], mean action: 0.625 [0.000, 1.000],  loss: 1.346436, mae: 4.467176, mean_q: 8.244961, mean_eps: 0.500000\n",
            " 1338/8000: episode: 91, duration: 0.377s, episode steps:  19, steps per second:  50, episode reward: 19.000, mean reward:  1.000 [ 1.000,  1.000], mean action: 0.632 [0.000, 1.000],  loss: 1.213827, mae: 4.511657, mean_q: 8.446326, mean_eps: 0.500000\n",
            " 1361/8000: episode: 92, duration: 0.423s, episode steps:  23, steps per second:  54, episode reward: 23.000, mean reward:  1.000 [ 1.000,  1.000], mean action: 0.783 [0.000, 1.000],  loss: 2.092091, mae: 4.693558, mean_q: 8.735645, mean_eps: 0.500000\n",
            " 1375/8000: episode: 93, duration: 0.243s, episode steps:  14, steps per second:  58, episode reward: 14.000, mean reward:  1.000 [ 1.000,  1.000], mean action: 0.714 [0.000, 1.000],  loss: 2.083749, mae: 4.770406, mean_q: 8.802650, mean_eps: 0.500000\n",
            " 1389/8000: episode: 94, duration: 0.263s, episode steps:  14, steps per second:  53, episode reward: 14.000, mean reward:  1.000 [ 1.000,  1.000], mean action: 0.714 [0.000, 1.000],  loss: 1.614502, mae: 4.685154, mean_q: 8.648595, mean_eps: 0.500000\n",
            " 1406/8000: episode: 95, duration: 0.328s, episode steps:  17, steps per second:  52, episode reward: 17.000, mean reward:  1.000 [ 1.000,  1.000], mean action: 0.706 [0.000, 1.000],  loss: 1.166543, mae: 4.699010, mean_q: 8.799285, mean_eps: 0.500000\n",
            " 1416/8000: episode: 96, duration: 0.196s, episode steps:  10, steps per second:  51, episode reward: 10.000, mean reward:  1.000 [ 1.000,  1.000], mean action: 0.800 [0.000, 1.000],  loss: 2.547765, mae: 4.909686, mean_q: 8.916183, mean_eps: 0.500000\n",
            " 1426/8000: episode: 97, duration: 0.258s, episode steps:  10, steps per second:  39, episode reward: 10.000, mean reward:  1.000 [ 1.000,  1.000], mean action: 0.600 [0.000, 1.000],  loss: 1.345449, mae: 4.825491, mean_q: 8.937858, mean_eps: 0.500000\n",
            " 1437/8000: episode: 98, duration: 0.227s, episode steps:  11, steps per second:  48, episode reward: 11.000, mean reward:  1.000 [ 1.000,  1.000], mean action: 0.545 [0.000, 1.000],  loss: 2.201235, mae: 4.932331, mean_q: 9.025094, mean_eps: 0.500000\n",
            " 1450/8000: episode: 99, duration: 0.267s, episode steps:  13, steps per second:  49, episode reward: 13.000, mean reward:  1.000 [ 1.000,  1.000], mean action: 0.615 [0.000, 1.000],  loss: 1.049872, mae: 4.860484, mean_q: 9.026803, mean_eps: 0.500000\n",
            " 1480/8000: episode: 100, duration: 0.531s, episode steps:  30, steps per second:  57, episode reward: 30.000, mean reward:  1.000 [ 1.000,  1.000], mean action: 0.567 [0.000, 1.000],  loss: 2.193601, mae: 5.044793, mean_q: 9.231860, mean_eps: 0.500000\n",
            " 1493/8000: episode: 101, duration: 0.249s, episode steps:  13, steps per second:  52, episode reward: 13.000, mean reward:  1.000 [ 1.000,  1.000], mean action: 0.538 [0.000, 1.000],  loss: 1.567932, mae: 4.924818, mean_q: 9.143800, mean_eps: 0.500000\n",
            " 1505/8000: episode: 102, duration: 0.246s, episode steps:  12, steps per second:  49, episode reward: 12.000, mean reward:  1.000 [ 1.000,  1.000], mean action: 0.750 [0.000, 1.000],  loss: 2.629305, mae: 5.118261, mean_q: 9.374072, mean_eps: 0.500000\n",
            " 1564/8000: episode: 103, duration: 1.081s, episode steps:  59, steps per second:  55, episode reward: 59.000, mean reward:  1.000 [ 1.000,  1.000], mean action: 0.508 [0.000, 1.000],  loss: 2.023718, mae: 5.144650, mean_q: 9.437682, mean_eps: 0.500000\n",
            " 1575/8000: episode: 104, duration: 0.218s, episode steps:  11, steps per second:  51, episode reward: 11.000, mean reward:  1.000 [ 1.000,  1.000], mean action: 0.818 [0.000, 1.000],  loss: 2.533764, mae: 5.296897, mean_q: 9.773261, mean_eps: 0.500000\n",
            " 1587/8000: episode: 105, duration: 0.259s, episode steps:  12, steps per second:  46, episode reward: 12.000, mean reward:  1.000 [ 1.000,  1.000], mean action: 0.833 [0.000, 1.000],  loss: 2.405703, mae: 5.349916, mean_q: 9.795928, mean_eps: 0.500000\n",
            " 1596/8000: episode: 106, duration: 0.181s, episode steps:   9, steps per second:  50, episode reward:  9.000, mean reward:  1.000 [ 1.000,  1.000], mean action: 1.000 [1.000, 1.000],  loss: 1.719630, mae: 5.340050, mean_q: 9.902015, mean_eps: 0.500000\n",
            " 1611/8000: episode: 107, duration: 0.310s, episode steps:  15, steps per second:  48, episode reward: 15.000, mean reward:  1.000 [ 1.000,  1.000], mean action: 0.800 [0.000, 1.000],  loss: 2.757761, mae: 5.391841, mean_q: 9.914919, mean_eps: 0.500000\n",
            " 1621/8000: episode: 108, duration: 0.181s, episode steps:  10, steps per second:  55, episode reward: 10.000, mean reward:  1.000 [ 1.000,  1.000], mean action: 1.000 [1.000, 1.000],  loss: 2.015618, mae: 5.360217, mean_q: 10.021061, mean_eps: 0.500000\n",
            " 1633/8000: episode: 109, duration: 0.253s, episode steps:  12, steps per second:  47, episode reward: 12.000, mean reward:  1.000 [ 1.000,  1.000], mean action: 0.750 [0.000, 1.000],  loss: 3.100901, mae: 5.530356, mean_q: 10.148443, mean_eps: 0.500000\n",
            " 1648/8000: episode: 110, duration: 0.315s, episode steps:  15, steps per second:  48, episode reward: 15.000, mean reward:  1.000 [ 1.000,  1.000], mean action: 0.733 [0.000, 1.000],  loss: 1.804890, mae: 5.429753, mean_q: 10.107153, mean_eps: 0.500000\n",
            " 1663/8000: episode: 111, duration: 0.306s, episode steps:  15, steps per second:  49, episode reward: 15.000, mean reward:  1.000 [ 1.000,  1.000], mean action: 0.733 [0.000, 1.000],  loss: 3.236921, mae: 5.607054, mean_q: 10.236076, mean_eps: 0.500000\n",
            " 1673/8000: episode: 112, duration: 0.192s, episode steps:  10, steps per second:  52, episode reward: 10.000, mean reward:  1.000 [ 1.000,  1.000], mean action: 0.800 [0.000, 1.000],  loss: 2.393451, mae: 5.538827, mean_q: 10.150035, mean_eps: 0.500000\n",
            " 1686/8000: episode: 113, duration: 0.275s, episode steps:  13, steps per second:  47, episode reward: 13.000, mean reward:  1.000 [ 1.000,  1.000], mean action: 0.615 [0.000, 1.000],  loss: 1.859411, mae: 5.405589, mean_q: 9.966337, mean_eps: 0.500000\n",
            " 1695/8000: episode: 114, duration: 0.203s, episode steps:   9, steps per second:  44, episode reward:  9.000, mean reward:  1.000 [ 1.000,  1.000], mean action: 0.889 [0.000, 1.000],  loss: 2.891891, mae: 5.689003, mean_q: 10.366566, mean_eps: 0.500000\n",
            " 1720/8000: episode: 115, duration: 0.492s, episode steps:  25, steps per second:  51, episode reward: 25.000, mean reward:  1.000 [ 1.000,  1.000], mean action: 0.640 [0.000, 1.000],  loss: 2.431307, mae: 5.626189, mean_q: 10.337093, mean_eps: 0.500000\n",
            " 1730/8000: episode: 116, duration: 0.195s, episode steps:  10, steps per second:  51, episode reward: 10.000, mean reward:  1.000 [ 1.000,  1.000], mean action: 0.700 [0.000, 1.000],  loss: 1.839719, mae: 5.617328, mean_q: 10.475714, mean_eps: 0.500000\n",
            " 1746/8000: episode: 117, duration: 0.311s, episode steps:  16, steps per second:  51, episode reward: 16.000, mean reward:  1.000 [ 1.000,  1.000], mean action: 0.562 [0.000, 1.000],  loss: 3.337528, mae: 5.774731, mean_q: 10.461833, mean_eps: 0.500000\n",
            " 1757/8000: episode: 118, duration: 0.216s, episode steps:  11, steps per second:  51, episode reward: 11.000, mean reward:  1.000 [ 1.000,  1.000], mean action: 0.636 [0.000, 1.000],  loss: 2.002308, mae: 5.662697, mean_q: 10.402326, mean_eps: 0.500000\n",
            " 1768/8000: episode: 119, duration: 0.194s, episode steps:  11, steps per second:  57, episode reward: 11.000, mean reward:  1.000 [ 1.000,  1.000], mean action: 0.727 [0.000, 1.000],  loss: 1.504474, mae: 5.563711, mean_q: 10.445997, mean_eps: 0.500000\n",
            " 1778/8000: episode: 120, duration: 0.187s, episode steps:  10, steps per second:  54, episode reward: 10.000, mean reward:  1.000 [ 1.000,  1.000], mean action: 1.000 [1.000, 1.000],  loss: 1.705430, mae: 5.651745, mean_q: 10.668316, mean_eps: 0.500000\n",
            " 1788/8000: episode: 121, duration: 0.193s, episode steps:  10, steps per second:  52, episode reward: 10.000, mean reward:  1.000 [ 1.000,  1.000], mean action: 0.800 [0.000, 1.000],  loss: 1.599359, mae: 5.652198, mean_q: 10.672148, mean_eps: 0.500000\n",
            " 1807/8000: episode: 122, duration: 0.364s, episode steps:  19, steps per second:  52, episode reward: 19.000, mean reward:  1.000 [ 1.000,  1.000], mean action: 0.684 [0.000, 1.000],  loss: 1.827200, mae: 5.757825, mean_q: 10.821646, mean_eps: 0.500000\n",
            " 1819/8000: episode: 123, duration: 0.232s, episode steps:  12, steps per second:  52, episode reward: 12.000, mean reward:  1.000 [ 1.000,  1.000], mean action: 0.750 [0.000, 1.000],  loss: 2.403861, mae: 5.836484, mean_q: 10.884432, mean_eps: 0.500000\n",
            " 1851/8000: episode: 124, duration: 0.625s, episode steps:  32, steps per second:  51, episode reward: 32.000, mean reward:  1.000 [ 1.000,  1.000], mean action: 0.531 [0.000, 1.000],  loss: 2.771894, mae: 5.965994, mean_q: 10.907444, mean_eps: 0.500000\n",
            " 1906/8000: episode: 125, duration: 1.393s, episode steps:  55, steps per second:  39, episode reward: 55.000, mean reward:  1.000 [ 1.000,  1.000], mean action: 0.509 [0.000, 1.000],  loss: 2.216126, mae: 5.938781, mean_q: 10.955334, mean_eps: 0.500000\n",
            " 1919/8000: episode: 126, duration: 0.332s, episode steps:  13, steps per second:  39, episode reward: 13.000, mean reward:  1.000 [ 1.000,  1.000], mean action: 0.615 [0.000, 1.000],  loss: 2.530871, mae: 5.972928, mean_q: 11.051139, mean_eps: 0.500000\n",
            " 1973/8000: episode: 127, duration: 1.066s, episode steps:  54, steps per second:  51, episode reward: 54.000, mean reward:  1.000 [ 1.000,  1.000], mean action: 0.519 [0.000, 1.000],  loss: 2.254175, mae: 6.008235, mean_q: 11.145059, mean_eps: 0.500000\n",
            " 1989/8000: episode: 128, duration: 0.319s, episode steps:  16, steps per second:  50, episode reward: 16.000, mean reward:  1.000 [ 1.000,  1.000], mean action: 0.500 [0.000, 1.000],  loss: 2.498607, mae: 6.050834, mean_q: 11.192729, mean_eps: 0.500000\n",
            " 2002/8000: episode: 129, duration: 0.302s, episode steps:  13, steps per second:  43, episode reward: 13.000, mean reward:  1.000 [ 1.000,  1.000], mean action: 0.692 [0.000, 1.000],  loss: 3.171983, mae: 6.133644, mean_q: 11.259084, mean_eps: 0.500000\n",
            " 2014/8000: episode: 130, duration: 0.279s, episode steps:  12, steps per second:  43, episode reward: 12.000, mean reward:  1.000 [ 1.000,  1.000], mean action: 0.750 [0.000, 1.000],  loss: 2.336192, mae: 6.041338, mean_q: 11.175090, mean_eps: 0.500000\n",
            " 2025/8000: episode: 131, duration: 0.279s, episode steps:  11, steps per second:  39, episode reward: 11.000, mean reward:  1.000 [ 1.000,  1.000], mean action: 0.818 [0.000, 1.000],  loss: 2.334849, mae: 6.074810, mean_q: 11.340137, mean_eps: 0.500000\n",
            " 2035/8000: episode: 132, duration: 0.600s, episode steps:  10, steps per second:  17, episode reward: 10.000, mean reward:  1.000 [ 1.000,  1.000], mean action: 0.800 [0.000, 1.000],  loss: 3.389541, mae: 6.276497, mean_q: 11.578307, mean_eps: 0.500000\n",
            " 2057/8000: episode: 133, duration: 0.483s, episode steps:  22, steps per second:  46, episode reward: 22.000, mean reward:  1.000 [ 1.000,  1.000], mean action: 0.636 [0.000, 1.000],  loss: 2.741336, mae: 6.166294, mean_q: 11.263341, mean_eps: 0.500000\n",
            " 2071/8000: episode: 134, duration: 0.637s, episode steps:  14, steps per second:  22, episode reward: 14.000, mean reward:  1.000 [ 1.000,  1.000], mean action: 0.714 [0.000, 1.000],  loss: 2.592750, mae: 6.198086, mean_q: 11.404295, mean_eps: 0.500000\n",
            " 2079/8000: episode: 135, duration: 0.146s, episode steps:   8, steps per second:  55, episode reward:  8.000, mean reward:  1.000 [ 1.000,  1.000], mean action: 0.875 [0.000, 1.000],  loss: 2.419490, mae: 6.196326, mean_q: 11.376320, mean_eps: 0.500000\n",
            " 2097/8000: episode: 136, duration: 0.362s, episode steps:  18, steps per second:  50, episode reward: 18.000, mean reward:  1.000 [ 1.000,  1.000], mean action: 0.722 [0.000, 1.000],  loss: 2.964948, mae: 6.222287, mean_q: 11.381263, mean_eps: 0.500000\n",
            " 2108/8000: episode: 137, duration: 0.224s, episode steps:  11, steps per second:  49, episode reward: 11.000, mean reward:  1.000 [ 1.000,  1.000], mean action: 0.909 [0.000, 1.000],  loss: 2.130676, mae: 6.144054, mean_q: 11.452384, mean_eps: 0.500000\n",
            " 2148/8000: episode: 138, duration: 0.727s, episode steps:  40, steps per second:  55, episode reward: 40.000, mean reward:  1.000 [ 1.000,  1.000], mean action: 0.650 [0.000, 1.000],  loss: 2.256262, mae: 6.249858, mean_q: 11.729984, mean_eps: 0.500000\n",
            " 2159/8000: episode: 139, duration: 0.209s, episode steps:  11, steps per second:  53, episode reward: 11.000, mean reward:  1.000 [ 1.000,  1.000], mean action: 0.727 [0.000, 1.000],  loss: 2.560772, mae: 6.257345, mean_q: 11.490892, mean_eps: 0.500000\n",
            " 2168/8000: episode: 140, duration: 0.150s, episode steps:   9, steps per second:  60, episode reward:  9.000, mean reward:  1.000 [ 1.000,  1.000], mean action: 0.889 [0.000, 1.000],  loss: 2.230113, mae: 6.306692, mean_q: 11.652991, mean_eps: 0.500000\n",
            " 2254/8000: episode: 141, duration: 1.384s, episode steps:  86, steps per second:  62, episode reward: 86.000, mean reward:  1.000 [ 1.000,  1.000], mean action: 0.512 [0.000, 1.000],  loss: 2.282826, mae: 6.344221, mean_q: 11.800267, mean_eps: 0.500000\n",
            " 2290/8000: episode: 142, duration: 0.619s, episode steps:  36, steps per second:  58, episode reward: 36.000, mean reward:  1.000 [ 1.000,  1.000], mean action: 0.556 [0.000, 1.000],  loss: 2.470459, mae: 6.412862, mean_q: 11.843013, mean_eps: 0.500000\n",
            " 2339/8000: episode: 143, duration: 0.934s, episode steps:  49, steps per second:  52, episode reward: 49.000, mean reward:  1.000 [ 1.000,  1.000], mean action: 0.490 [0.000, 1.000],  loss: 2.267209, mae: 6.414338, mean_q: 11.975953, mean_eps: 0.500000\n",
            " 2431/8000: episode: 144, duration: 1.560s, episode steps:  92, steps per second:  59, episode reward: 92.000, mean reward:  1.000 [ 1.000,  1.000], mean action: 0.500 [0.000, 1.000],  loss: 2.454403, mae: 6.588967, mean_q: 12.297820, mean_eps: 0.500000\n",
            " 2453/8000: episode: 145, duration: 0.398s, episode steps:  22, steps per second:  55, episode reward: 22.000, mean reward:  1.000 [ 1.000,  1.000], mean action: 0.545 [0.000, 1.000],  loss: 1.619459, mae: 6.580971, mean_q: 12.444216, mean_eps: 0.500000\n",
            " 2502/8000: episode: 146, duration: 0.801s, episode steps:  49, steps per second:  61, episode reward: 49.000, mean reward:  1.000 [ 1.000,  1.000], mean action: 0.510 [0.000, 1.000],  loss: 2.050305, mae: 6.712902, mean_q: 12.716529, mean_eps: 0.500000\n",
            " 2515/8000: episode: 147, duration: 0.244s, episode steps:  13, steps per second:  53, episode reward: 13.000, mean reward:  1.000 [ 1.000,  1.000], mean action: 0.308 [0.000, 1.000],  loss: 2.064038, mae: 6.762989, mean_q: 12.748837, mean_eps: 0.500000\n",
            " 2535/8000: episode: 148, duration: 0.343s, episode steps:  20, steps per second:  58, episode reward: 20.000, mean reward:  1.000 [ 1.000,  1.000], mean action: 0.450 [0.000, 1.000],  loss: 2.665664, mae: 6.839497, mean_q: 12.776787, mean_eps: 0.500000\n",
            " 2616/8000: episode: 149, duration: 1.386s, episode steps:  81, steps per second:  58, episode reward: 81.000, mean reward:  1.000 [ 1.000,  1.000], mean action: 0.481 [0.000, 1.000],  loss: 2.143204, mae: 6.897046, mean_q: 12.992497, mean_eps: 0.500000\n",
            " 2692/8000: episode: 150, duration: 1.224s, episode steps:  76, steps per second:  62, episode reward: 76.000, mean reward:  1.000 [ 1.000,  1.000], mean action: 0.526 [0.000, 1.000],  loss: 2.295795, mae: 6.991527, mean_q: 13.187875, mean_eps: 0.500000\n",
            " 2708/8000: episode: 151, duration: 0.266s, episode steps:  16, steps per second:  60, episode reward: 16.000, mean reward:  1.000 [ 1.000,  1.000], mean action: 0.438 [0.000, 1.000],  loss: 2.962934, mae: 7.187081, mean_q: 13.442891, mean_eps: 0.500000\n",
            " 2791/8000: episode: 152, duration: 1.856s, episode steps:  83, steps per second:  45, episode reward: 83.000, mean reward:  1.000 [ 1.000,  1.000], mean action: 0.518 [0.000, 1.000],  loss: 2.550898, mae: 7.119506, mean_q: 13.359094, mean_eps: 0.500000\n",
            " 2805/8000: episode: 153, duration: 0.310s, episode steps:  14, steps per second:  45, episode reward: 14.000, mean reward:  1.000 [ 1.000,  1.000], mean action: 0.429 [0.000, 1.000],  loss: 2.676385, mae: 7.202717, mean_q: 13.451512, mean_eps: 0.500000\n",
            " 2818/8000: episode: 154, duration: 0.264s, episode steps:  13, steps per second:  49, episode reward: 13.000, mean reward:  1.000 [ 1.000,  1.000], mean action: 0.385 [0.000, 1.000],  loss: 2.758317, mae: 7.232821, mean_q: 13.615178, mean_eps: 0.500000\n",
            " 2866/8000: episode: 155, duration: 0.856s, episode steps:  48, steps per second:  56, episode reward: 48.000, mean reward:  1.000 [ 1.000,  1.000], mean action: 0.479 [0.000, 1.000],  loss: 1.932015, mae: 7.265278, mean_q: 13.862665, mean_eps: 0.500000\n",
            " 2915/8000: episode: 156, duration: 0.848s, episode steps:  49, steps per second:  58, episode reward: 49.000, mean reward:  1.000 [ 1.000,  1.000], mean action: 0.551 [0.000, 1.000],  loss: 2.379076, mae: 7.481348, mean_q: 14.258378, mean_eps: 0.500000\n",
            " 2986/8000: episode: 157, duration: 1.249s, episode steps:  71, steps per second:  57, episode reward: 71.000, mean reward:  1.000 [ 1.000,  1.000], mean action: 0.465 [0.000, 1.000],  loss: 1.848719, mae: 7.516559, mean_q: 14.383828, mean_eps: 0.500000\n",
            " 3008/8000: episode: 158, duration: 0.403s, episode steps:  22, steps per second:  55, episode reward: 22.000, mean reward:  1.000 [ 1.000,  1.000], mean action: 0.500 [0.000, 1.000],  loss: 2.854855, mae: 7.788397, mean_q: 14.847713, mean_eps: 0.500000\n",
            " 3050/8000: episode: 159, duration: 0.921s, episode steps:  42, steps per second:  46, episode reward: 42.000, mean reward:  1.000 [ 1.000,  1.000], mean action: 0.500 [0.000, 1.000],  loss: 2.539047, mae: 7.716452, mean_q: 14.641121, mean_eps: 0.500000\n",
            " 3068/8000: episode: 160, duration: 0.481s, episode steps:  18, steps per second:  37, episode reward: 18.000, mean reward:  1.000 [ 1.000,  1.000], mean action: 0.333 [0.000, 1.000],  loss: 2.475349, mae: 7.847140, mean_q: 14.933043, mean_eps: 0.500000\n",
            " 3105/8000: episode: 161, duration: 1.028s, episode steps:  37, steps per second:  36, episode reward: 37.000, mean reward:  1.000 [ 1.000,  1.000], mean action: 0.514 [0.000, 1.000],  loss: 2.213707, mae: 7.870382, mean_q: 15.036103, mean_eps: 0.500000\n",
            " 3140/8000: episode: 162, duration: 0.648s, episode steps:  35, steps per second:  54, episode reward: 35.000, mean reward:  1.000 [ 1.000,  1.000], mean action: 0.543 [0.000, 1.000],  loss: 2.586331, mae: 7.945403, mean_q: 15.139305, mean_eps: 0.500000\n",
            " 3178/8000: episode: 163, duration: 0.677s, episode steps:  38, steps per second:  56, episode reward: 38.000, mean reward:  1.000 [ 1.000,  1.000], mean action: 0.553 [0.000, 1.000],  loss: 3.227851, mae: 8.034010, mean_q: 15.233190, mean_eps: 0.500000\n",
            " 3284/8000: episode: 164, duration: 1.817s, episode steps: 106, steps per second:  58, episode reward: 106.000, mean reward:  1.000 [ 1.000,  1.000], mean action: 0.491 [0.000, 1.000],  loss: 2.846841, mae: 8.160179, mean_q: 15.537349, mean_eps: 0.500000\n",
            " 3335/8000: episode: 165, duration: 0.890s, episode steps:  51, steps per second:  57, episode reward: 51.000, mean reward:  1.000 [ 1.000,  1.000], mean action: 0.510 [0.000, 1.000],  loss: 2.516090, mae: 8.312170, mean_q: 15.951919, mean_eps: 0.500000\n",
            " 3370/8000: episode: 166, duration: 0.631s, episode steps:  35, steps per second:  55, episode reward: 35.000, mean reward:  1.000 [ 1.000,  1.000], mean action: 0.486 [0.000, 1.000],  loss: 2.943486, mae: 8.386067, mean_q: 16.026145, mean_eps: 0.500000\n",
            " 3379/8000: episode: 167, duration: 0.185s, episode steps:   9, steps per second:  49, episode reward:  9.000, mean reward:  1.000 [ 1.000,  1.000], mean action: 0.222 [0.000, 1.000],  loss: 1.774533, mae: 8.465723, mean_q: 16.329071, mean_eps: 0.500000\n",
            " 3453/8000: episode: 168, duration: 1.705s, episode steps:  74, steps per second:  43, episode reward: 74.000, mean reward:  1.000 [ 1.000,  1.000], mean action: 0.486 [0.000, 1.000],  loss: 2.831092, mae: 8.577850, mean_q: 16.406457, mean_eps: 0.500000\n",
            " 3470/8000: episode: 169, duration: 0.360s, episode steps:  17, steps per second:  47, episode reward: 17.000, mean reward:  1.000 [ 1.000,  1.000], mean action: 0.471 [0.000, 1.000],  loss: 3.189466, mae: 8.647379, mean_q: 16.547716, mean_eps: 0.500000\n",
            " 3508/8000: episode: 170, duration: 0.679s, episode steps:  38, steps per second:  56, episode reward: 38.000, mean reward:  1.000 [ 1.000,  1.000], mean action: 0.553 [0.000, 1.000],  loss: 2.968689, mae: 8.753464, mean_q: 16.766499, mean_eps: 0.500000\n",
            " 3550/8000: episode: 171, duration: 0.746s, episode steps:  42, steps per second:  56, episode reward: 42.000, mean reward:  1.000 [ 1.000,  1.000], mean action: 0.595 [0.000, 1.000],  loss: 2.353971, mae: 8.726760, mean_q: 16.814228, mean_eps: 0.500000\n",
            " 3625/8000: episode: 172, duration: 1.347s, episode steps:  75, steps per second:  56, episode reward: 75.000, mean reward:  1.000 [ 1.000,  1.000], mean action: 0.467 [0.000, 1.000],  loss: 3.000393, mae: 8.900185, mean_q: 17.094059, mean_eps: 0.500000\n",
            " 3666/8000: episode: 173, duration: 0.705s, episode steps:  41, steps per second:  58, episode reward: 41.000, mean reward:  1.000 [ 1.000,  1.000], mean action: 0.512 [0.000, 1.000],  loss: 2.402947, mae: 9.069720, mean_q: 17.517252, mean_eps: 0.500000\n",
            " 3728/8000: episode: 174, duration: 1.394s, episode steps:  62, steps per second:  44, episode reward: 62.000, mean reward:  1.000 [ 1.000,  1.000], mean action: 0.500 [0.000, 1.000],  loss: 3.323032, mae: 9.207013, mean_q: 17.669018, mean_eps: 0.500000\n",
            " 3797/8000: episode: 175, duration: 1.144s, episode steps:  69, steps per second:  60, episode reward: 69.000, mean reward:  1.000 [ 1.000,  1.000], mean action: 0.464 [0.000, 1.000],  loss: 3.160524, mae: 9.271859, mean_q: 17.797994, mean_eps: 0.500000\n",
            " 3841/8000: episode: 176, duration: 0.779s, episode steps:  44, steps per second:  57, episode reward: 44.000, mean reward:  1.000 [ 1.000,  1.000], mean action: 0.523 [0.000, 1.000],  loss: 2.996947, mae: 9.444197, mean_q: 18.267644, mean_eps: 0.500000\n",
            " 3881/8000: episode: 177, duration: 0.641s, episode steps:  40, steps per second:  62, episode reward: 40.000, mean reward:  1.000 [ 1.000,  1.000], mean action: 0.525 [0.000, 1.000],  loss: 3.521350, mae: 9.494860, mean_q: 18.266607, mean_eps: 0.500000\n",
            " 3929/8000: episode: 178, duration: 0.750s, episode steps:  48, steps per second:  64, episode reward: 48.000, mean reward:  1.000 [ 1.000,  1.000], mean action: 0.542 [0.000, 1.000],  loss: 3.484203, mae: 9.536502, mean_q: 18.322504, mean_eps: 0.500000\n",
            " 3974/8000: episode: 179, duration: 0.732s, episode steps:  45, steps per second:  61, episode reward: 45.000, mean reward:  1.000 [ 1.000,  1.000], mean action: 0.556 [0.000, 1.000],  loss: 3.947191, mae: 9.653311, mean_q: 18.521263, mean_eps: 0.500000\n",
            " 4032/8000: episode: 180, duration: 0.953s, episode steps:  58, steps per second:  61, episode reward: 58.000, mean reward:  1.000 [ 1.000,  1.000], mean action: 0.517 [0.000, 1.000],  loss: 3.237431, mae: 9.729515, mean_q: 18.800460, mean_eps: 0.500000\n",
            " 4133/8000: episode: 181, duration: 1.541s, episode steps: 101, steps per second:  66, episode reward: 101.000, mean reward:  1.000 [ 1.000,  1.000], mean action: 0.475 [0.000, 1.000],  loss: 3.149592, mae: 9.926908, mean_q: 19.234501, mean_eps: 0.500000\n",
            " 4165/8000: episode: 182, duration: 0.474s, episode steps:  32, steps per second:  67, episode reward: 32.000, mean reward:  1.000 [ 1.000,  1.000], mean action: 0.469 [0.000, 1.000],  loss: 2.989781, mae: 10.126987, mean_q: 19.731949, mean_eps: 0.500000\n",
            " 4183/8000: episode: 183, duration: 0.313s, episode steps:  18, steps per second:  57, episode reward: 18.000, mean reward:  1.000 [ 1.000,  1.000], mean action: 0.556 [0.000, 1.000],  loss: 3.636245, mae: 10.113609, mean_q: 19.502762, mean_eps: 0.500000\n",
            " 4289/8000: episode: 184, duration: 1.630s, episode steps: 106, steps per second:  65, episode reward: 106.000, mean reward:  1.000 [ 1.000,  1.000], mean action: 0.528 [0.000, 1.000],  loss: 4.131774, mae: 10.276400, mean_q: 19.795564, mean_eps: 0.500000\n",
            " 4337/8000: episode: 185, duration: 0.780s, episode steps:  48, steps per second:  62, episode reward: 48.000, mean reward:  1.000 [ 1.000,  1.000], mean action: 0.521 [0.000, 1.000],  loss: 4.193874, mae: 10.398372, mean_q: 20.038927, mean_eps: 0.500000\n",
            " 4375/8000: episode: 186, duration: 0.603s, episode steps:  38, steps per second:  63, episode reward: 38.000, mean reward:  1.000 [ 1.000,  1.000], mean action: 0.500 [0.000, 1.000],  loss: 4.374466, mae: 10.525215, mean_q: 20.257377, mean_eps: 0.500000\n",
            " 4431/8000: episode: 187, duration: 0.913s, episode steps:  56, steps per second:  61, episode reward: 56.000, mean reward:  1.000 [ 1.000,  1.000], mean action: 0.429 [0.000, 1.000],  loss: 3.873654, mae: 10.524020, mean_q: 20.345255, mean_eps: 0.500000\n",
            " 4468/8000: episode: 188, duration: 0.631s, episode steps:  37, steps per second:  59, episode reward: 37.000, mean reward:  1.000 [ 1.000,  1.000], mean action: 0.541 [0.000, 1.000],  loss: 2.430002, mae: 10.566857, mean_q: 20.727675, mean_eps: 0.500000\n",
            " 4496/8000: episode: 189, duration: 0.469s, episode steps:  28, steps per second:  60, episode reward: 28.000, mean reward:  1.000 [ 1.000,  1.000], mean action: 0.464 [0.000, 1.000],  loss: 3.215976, mae: 10.745000, mean_q: 20.938338, mean_eps: 0.500000\n",
            " 4524/8000: episode: 190, duration: 0.444s, episode steps:  28, steps per second:  63, episode reward: 28.000, mean reward:  1.000 [ 1.000,  1.000], mean action: 0.464 [0.000, 1.000],  loss: 4.220834, mae: 10.864915, mean_q: 21.125039, mean_eps: 0.500000\n",
            " 4573/8000: episode: 191, duration: 0.796s, episode steps:  49, steps per second:  62, episode reward: 49.000, mean reward:  1.000 [ 1.000,  1.000], mean action: 0.510 [0.000, 1.000],  loss: 3.909007, mae: 10.909900, mean_q: 21.086898, mean_eps: 0.500000\n",
            " 4614/8000: episode: 192, duration: 0.626s, episode steps:  41, steps per second:  65, episode reward: 41.000, mean reward:  1.000 [ 1.000,  1.000], mean action: 0.537 [0.000, 1.000],  loss: 4.123347, mae: 10.921096, mean_q: 21.145709, mean_eps: 0.500000\n",
            " 4650/8000: episode: 193, duration: 0.556s, episode steps:  36, steps per second:  65, episode reward: 36.000, mean reward:  1.000 [ 1.000,  1.000], mean action: 0.528 [0.000, 1.000],  loss: 4.426659, mae: 11.016720, mean_q: 21.344978, mean_eps: 0.500000\n",
            " 4690/8000: episode: 194, duration: 0.635s, episode steps:  40, steps per second:  63, episode reward: 40.000, mean reward:  1.000 [ 1.000,  1.000], mean action: 0.525 [0.000, 1.000],  loss: 4.922632, mae: 11.125199, mean_q: 21.524975, mean_eps: 0.500000\n",
            " 4754/8000: episode: 195, duration: 0.984s, episode steps:  64, steps per second:  65, episode reward: 64.000, mean reward:  1.000 [ 1.000,  1.000], mean action: 0.547 [0.000, 1.000],  loss: 4.556166, mae: 11.228869, mean_q: 21.711335, mean_eps: 0.500000\n",
            " 4769/8000: episode: 196, duration: 0.289s, episode steps:  15, steps per second:  52, episode reward: 15.000, mean reward:  1.000 [ 1.000,  1.000], mean action: 0.533 [0.000, 1.000],  loss: 5.623861, mae: 11.399940, mean_q: 22.003578, mean_eps: 0.500000\n",
            " 4819/8000: episode: 197, duration: 0.805s, episode steps:  50, steps per second:  62, episode reward: 50.000, mean reward:  1.000 [ 1.000,  1.000], mean action: 0.520 [0.000, 1.000],  loss: 4.720941, mae: 11.346496, mean_q: 21.930615, mean_eps: 0.500000\n",
            " 4885/8000: episode: 198, duration: 1.014s, episode steps:  66, steps per second:  65, episode reward: 66.000, mean reward:  1.000 [ 1.000,  1.000], mean action: 0.455 [0.000, 1.000],  loss: 4.072561, mae: 11.496221, mean_q: 22.368863, mean_eps: 0.500000\n",
            " 4946/8000: episode: 199, duration: 1.014s, episode steps:  61, steps per second:  60, episode reward: 61.000, mean reward:  1.000 [ 1.000,  1.000], mean action: 0.541 [0.000, 1.000],  loss: 4.850222, mae: 11.558406, mean_q: 22.432836, mean_eps: 0.500000\n",
            " 4989/8000: episode: 200, duration: 0.674s, episode steps:  43, steps per second:  64, episode reward: 43.000, mean reward:  1.000 [ 1.000,  1.000], mean action: 0.512 [0.000, 1.000],  loss: 4.604344, mae: 11.700411, mean_q: 22.754337, mean_eps: 0.500000\n",
            " 5048/8000: episode: 201, duration: 0.929s, episode steps:  59, steps per second:  64, episode reward: 59.000, mean reward:  1.000 [ 1.000,  1.000], mean action: 0.525 [0.000, 1.000],  loss: 4.645642, mae: 11.779737, mean_q: 22.967670, mean_eps: 0.500000\n",
            " 5091/8000: episode: 202, duration: 0.720s, episode steps:  43, steps per second:  60, episode reward: 43.000, mean reward:  1.000 [ 1.000,  1.000], mean action: 0.535 [0.000, 1.000],  loss: 4.648335, mae: 11.852052, mean_q: 23.026029, mean_eps: 0.500000\n",
            " 5128/8000: episode: 203, duration: 0.567s, episode steps:  37, steps per second:  65, episode reward: 37.000, mean reward:  1.000 [ 1.000,  1.000], mean action: 0.486 [0.000, 1.000],  loss: 5.262654, mae: 11.972268, mean_q: 23.235545, mean_eps: 0.500000\n",
            " 5211/8000: episode: 204, duration: 1.371s, episode steps:  83, steps per second:  61, episode reward: 83.000, mean reward:  1.000 [ 1.000,  1.000], mean action: 0.530 [0.000, 1.000],  loss: 4.938809, mae: 12.041335, mean_q: 23.352013, mean_eps: 0.500000\n",
            " 5285/8000: episode: 205, duration: 1.217s, episode steps:  74, steps per second:  61, episode reward: 74.000, mean reward:  1.000 [ 1.000,  1.000], mean action: 0.527 [0.000, 1.000],  loss: 4.673742, mae: 12.138170, mean_q: 23.594626, mean_eps: 0.500000\n",
            " 5381/8000: episode: 206, duration: 1.555s, episode steps:  96, steps per second:  62, episode reward: 96.000, mean reward:  1.000 [ 1.000,  1.000], mean action: 0.521 [0.000, 1.000],  loss: 5.933247, mae: 12.294438, mean_q: 23.808794, mean_eps: 0.500000\n",
            " 5475/8000: episode: 207, duration: 1.545s, episode steps:  94, steps per second:  61, episode reward: 94.000, mean reward:  1.000 [ 1.000,  1.000], mean action: 0.521 [0.000, 1.000],  loss: 4.934672, mae: 12.415005, mean_q: 24.128205, mean_eps: 0.500000\n",
            " 5549/8000: episode: 208, duration: 1.224s, episode steps:  74, steps per second:  60, episode reward: 74.000, mean reward:  1.000 [ 1.000,  1.000], mean action: 0.486 [0.000, 1.000],  loss: 4.105166, mae: 12.523665, mean_q: 24.411453, mean_eps: 0.500000\n",
            " 5669/8000: episode: 209, duration: 1.917s, episode steps: 120, steps per second:  63, episode reward: 120.000, mean reward:  1.000 [ 1.000,  1.000], mean action: 0.475 [0.000, 1.000],  loss: 5.411604, mae: 12.739161, mean_q: 24.752833, mean_eps: 0.500000\n",
            " 5770/8000: episode: 210, duration: 1.633s, episode steps: 101, steps per second:  62, episode reward: 101.000, mean reward:  1.000 [ 1.000,  1.000], mean action: 0.495 [0.000, 1.000],  loss: 5.358608, mae: 12.955262, mean_q: 25.165320, mean_eps: 0.500000\n",
            " 5802/8000: episode: 211, duration: 0.509s, episode steps:  32, steps per second:  63, episode reward: 32.000, mean reward:  1.000 [ 1.000,  1.000], mean action: 0.562 [0.000, 1.000],  loss: 7.473105, mae: 13.070880, mean_q: 25.216224, mean_eps: 0.500000\n",
            " 5873/8000: episode: 212, duration: 1.093s, episode steps:  71, steps per second:  65, episode reward: 71.000, mean reward:  1.000 [ 1.000,  1.000], mean action: 0.507 [0.000, 1.000],  loss: 5.270332, mae: 13.029395, mean_q: 25.301723, mean_eps: 0.500000\n",
            " 5939/8000: episode: 213, duration: 1.017s, episode steps:  66, steps per second:  65, episode reward: 66.000, mean reward:  1.000 [ 1.000,  1.000], mean action: 0.455 [0.000, 1.000],  loss: 5.742024, mae: 13.169599, mean_q: 25.584518, mean_eps: 0.500000\n",
            " 6040/8000: episode: 214, duration: 1.513s, episode steps: 101, steps per second:  67, episode reward: 101.000, mean reward:  1.000 [ 1.000,  1.000], mean action: 0.475 [0.000, 1.000],  loss: 5.041111, mae: 13.235241, mean_q: 25.705838, mean_eps: 0.500000\n",
            " 6122/8000: episode: 215, duration: 1.236s, episode steps:  82, steps per second:  66, episode reward: 82.000, mean reward:  1.000 [ 1.000,  1.000], mean action: 0.524 [0.000, 1.000],  loss: 6.163272, mae: 13.367119, mean_q: 25.949495, mean_eps: 0.500000\n",
            " 6212/8000: episode: 216, duration: 1.379s, episode steps:  90, steps per second:  65, episode reward: 90.000, mean reward:  1.000 [ 1.000,  1.000], mean action: 0.489 [0.000, 1.000],  loss: 5.208299, mae: 13.542579, mean_q: 26.404982, mean_eps: 0.500000\n",
            " 6275/8000: episode: 217, duration: 0.983s, episode steps:  63, steps per second:  64, episode reward: 63.000, mean reward:  1.000 [ 1.000,  1.000], mean action: 0.476 [0.000, 1.000],  loss: 4.633209, mae: 13.571980, mean_q: 26.624715, mean_eps: 0.500000\n",
            " 6424/8000: episode: 218, duration: 2.432s, episode steps: 149, steps per second:  61, episode reward: 149.000, mean reward:  1.000 [ 1.000,  1.000], mean action: 0.490 [0.000, 1.000],  loss: 5.965285, mae: 13.818571, mean_q: 26.988531, mean_eps: 0.500000\n",
            " 6466/8000: episode: 219, duration: 0.691s, episode steps:  42, steps per second:  61, episode reward: 42.000, mean reward:  1.000 [ 1.000,  1.000], mean action: 0.476 [0.000, 1.000],  loss: 5.265083, mae: 13.834478, mean_q: 27.125581, mean_eps: 0.500000\n",
            " 6508/8000: episode: 220, duration: 0.708s, episode steps:  42, steps per second:  59, episode reward: 42.000, mean reward:  1.000 [ 1.000,  1.000], mean action: 0.524 [0.000, 1.000],  loss: 5.237142, mae: 13.954542, mean_q: 27.404456, mean_eps: 0.500000\n",
            " 6542/8000: episode: 221, duration: 0.570s, episode steps:  34, steps per second:  60, episode reward: 34.000, mean reward:  1.000 [ 1.000,  1.000], mean action: 0.529 [0.000, 1.000],  loss: 6.629131, mae: 14.195505, mean_q: 27.766616, mean_eps: 0.500000\n",
            " 6597/8000: episode: 222, duration: 0.880s, episode steps:  55, steps per second:  63, episode reward: 55.000, mean reward:  1.000 [ 1.000,  1.000], mean action: 0.564 [0.000, 1.000],  loss: 7.132666, mae: 14.149615, mean_q: 27.441308, mean_eps: 0.500000\n",
            " 6707/8000: episode: 223, duration: 1.706s, episode steps: 110, steps per second:  64, episode reward: 110.000, mean reward:  1.000 [ 1.000,  1.000], mean action: 0.527 [0.000, 1.000],  loss: 5.730569, mae: 14.221326, mean_q: 27.785234, mean_eps: 0.500000\n",
            " 6788/8000: episode: 224, duration: 1.234s, episode steps:  81, steps per second:  66, episode reward: 81.000, mean reward:  1.000 [ 1.000,  1.000], mean action: 0.519 [0.000, 1.000],  loss: 4.968822, mae: 14.331350, mean_q: 28.132871, mean_eps: 0.500000\n",
            " 6845/8000: episode: 225, duration: 0.924s, episode steps:  57, steps per second:  62, episode reward: 57.000, mean reward:  1.000 [ 1.000,  1.000], mean action: 0.544 [0.000, 1.000],  loss: 5.954170, mae: 14.558097, mean_q: 28.497148, mean_eps: 0.500000\n",
            " 6919/8000: episode: 226, duration: 1.148s, episode steps:  74, steps per second:  64, episode reward: 74.000, mean reward:  1.000 [ 1.000,  1.000], mean action: 0.541 [0.000, 1.000],  loss: 5.756351, mae: 14.705457, mean_q: 28.880329, mean_eps: 0.500000\n",
            " 6966/8000: episode: 227, duration: 0.738s, episode steps:  47, steps per second:  64, episode reward: 47.000, mean reward:  1.000 [ 1.000,  1.000], mean action: 0.489 [0.000, 1.000],  loss: 5.528163, mae: 14.707975, mean_q: 28.841486, mean_eps: 0.500000\n",
            " 7019/8000: episode: 228, duration: 0.902s, episode steps:  53, steps per second:  59, episode reward: 53.000, mean reward:  1.000 [ 1.000,  1.000], mean action: 0.509 [0.000, 1.000],  loss: 5.779489, mae: 14.717951, mean_q: 28.922140, mean_eps: 0.500000\n",
            " 7084/8000: episode: 229, duration: 1.048s, episode steps:  65, steps per second:  62, episode reward: 65.000, mean reward:  1.000 [ 1.000,  1.000], mean action: 0.523 [0.000, 1.000],  loss: 5.810475, mae: 14.914004, mean_q: 29.341846, mean_eps: 0.500000\n",
            " 7173/8000: episode: 230, duration: 1.378s, episode steps:  89, steps per second:  65, episode reward: 89.000, mean reward:  1.000 [ 1.000,  1.000], mean action: 0.517 [0.000, 1.000],  loss: 6.003603, mae: 15.090287, mean_q: 29.663111, mean_eps: 0.500000\n",
            " 7237/8000: episode: 231, duration: 1.017s, episode steps:  64, steps per second:  63, episode reward: 64.000, mean reward:  1.000 [ 1.000,  1.000], mean action: 0.547 [0.000, 1.000],  loss: 6.708437, mae: 15.162433, mean_q: 29.763736, mean_eps: 0.500000\n",
            " 7305/8000: episode: 232, duration: 1.086s, episode steps:  68, steps per second:  63, episode reward: 68.000, mean reward:  1.000 [ 1.000,  1.000], mean action: 0.456 [0.000, 1.000],  loss: 7.703642, mae: 15.262323, mean_q: 29.814801, mean_eps: 0.500000\n",
            " 7322/8000: episode: 233, duration: 0.305s, episode steps:  17, steps per second:  56, episode reward: 17.000, mean reward:  1.000 [ 1.000,  1.000], mean action: 0.529 [0.000, 1.000],  loss: 6.642480, mae: 15.296524, mean_q: 29.929310, mean_eps: 0.500000\n",
            " 7384/8000: episode: 234, duration: 0.983s, episode steps:  62, steps per second:  63, episode reward: 62.000, mean reward:  1.000 [ 1.000,  1.000], mean action: 0.516 [0.000, 1.000],  loss: 5.420017, mae: 15.336951, mean_q: 30.094432, mean_eps: 0.500000\n",
            " 7439/8000: episode: 235, duration: 0.873s, episode steps:  55, steps per second:  63, episode reward: 55.000, mean reward:  1.000 [ 1.000,  1.000], mean action: 0.545 [0.000, 1.000],  loss: 5.705228, mae: 15.389335, mean_q: 30.307713, mean_eps: 0.500000\n",
            " 7523/8000: episode: 236, duration: 1.325s, episode steps:  84, steps per second:  63, episode reward: 84.000, mean reward:  1.000 [ 1.000,  1.000], mean action: 0.548 [0.000, 1.000],  loss: 5.636863, mae: 15.456381, mean_q: 30.452638, mean_eps: 0.500000\n",
            " 7677/8000: episode: 237, duration: 2.575s, episode steps: 154, steps per second:  60, episode reward: 154.000, mean reward:  1.000 [ 1.000,  1.000], mean action: 0.494 [0.000, 1.000],  loss: 7.270073, mae: 15.736927, mean_q: 30.888521, mean_eps: 0.500000\n",
            " 7833/8000: episode: 238, duration: 2.557s, episode steps: 156, steps per second:  61, episode reward: 156.000, mean reward:  1.000 [ 1.000,  1.000], mean action: 0.494 [0.000, 1.000],  loss: 5.404850, mae: 16.000637, mean_q: 31.634722, mean_eps: 0.500000\n",
            " 7903/8000: episode: 239, duration: 1.060s, episode steps:  70, steps per second:  66, episode reward: 70.000, mean reward:  1.000 [ 1.000,  1.000], mean action: 0.543 [0.000, 1.000],  loss: 8.084210, mae: 16.261160, mean_q: 31.838217, mean_eps: 0.500000\n",
            "done, took 156.998 seconds\n"
          ]
        },
        {
          "output_type": "display_data",
          "data": {
            "text/plain": [
              "<Figure size 432x288 with 1 Axes>"
            ],
            "image/png": "[encoded data removed]"
          },
          "metadata": {
            "needs_background": "light"
          }
        },
        {
          "output_type": "stream",
          "name": "stdout",
          "text": [
            "Testing for 20 episodes ...\n",
            "Episode 1: reward: 200.000, steps: 200\n",
            "Episode 2: reward: 200.000, steps: 200\n",
            "Episode 3: reward: 200.000, steps: 200\n",
            "Episode 4: reward: 132.000, steps: 132\n",
            "Episode 5: reward: 200.000, steps: 200\n",
            "Episode 6: reward: 127.000, steps: 127\n",
            "Episode 7: reward: 155.000, steps: 155\n",
            "Episode 8: reward: 200.000, steps: 200\n",
            "Episode 9: reward: 200.000, steps: 200\n",
            "Episode 10: reward: 200.000, steps: 200\n",
            "Episode 11: reward: 200.000, steps: 200\n",
            "Episode 12: reward: 200.000, steps: 200\n",
            "Episode 13: reward: 200.000, steps: 200\n",
            "Episode 14: reward: 200.000, steps: 200\n",
            "Episode 15: reward: 200.000, steps: 200\n",
            "Episode 16: reward: 200.000, steps: 200\n",
            "Episode 17: reward: 200.000, steps: 200\n",
            "Episode 18: reward: 200.000, steps: 200\n",
            "Episode 19: reward: 200.000, steps: 200\n",
            "Episode 20: reward: 200.000, steps: 200\n"
          ]
        },
        {
          "output_type": "execute_result",
          "data": {
            "text/plain": [
              "<keras.callbacks.History at 0x7fb16f7d8c10>"
            ]
          },
          "metadata": {},
          "execution_count": 102
        }
      ]
    }
  ]
}