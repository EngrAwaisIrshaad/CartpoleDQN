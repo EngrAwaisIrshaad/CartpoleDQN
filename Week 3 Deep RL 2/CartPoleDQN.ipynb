{
  "nbformat": 4,
  "nbformat_minor": 0,
  "metadata": {
    "colab": {
      "name": "CartPoleDQN.ipynb",
      "provenance": [],
      "collapsed_sections": [],
      "include_colab_link": true
    },
    "kernelspec": {
      "name": "python3",
      "display_name": "Python 3"
    }
  },
  "cells": [
    {
      "cell_type": "markdown",
      "metadata": {
        "id": "view-in-github",
        "colab_type": "text"
      },
      "source": [
        "<a href=\"https://colab.research.google.com/github/Megacity1/CartpoleDQN/blob/main/Week%203%20Deep%20RL%202/CartPoleDQN.ipynb\" target=\"_parent\"><img src=\"https://colab.research.google.com/assets/colab-badge.svg\" alt=\"Open In Colab\"/></a>"
      ]
    },
    {
      "cell_type": "markdown",
      "metadata": {
        "id": "VKK5DA390wRe"
      },
      "source": [
        "# Deep Q Network (DQN) for CartPole Using Boltzmann Q Policy\n",
        "This exercise implements a DQN for CartPole using a Boltzmann Q policy for selecting the actions"
      ]
    },
    {
      "cell_type": "code",
      "metadata": {
        "id": "LGsC7cJ5jNcX",
        "colab": {
          "base_uri": "https://localhost:8080/"
        },
        "outputId": "cda73cbf-3020-40f4-e45e-7b87053448f1"
      },
      "source": [
        "# install keras rl2 (we need to install keras-rl2 so it works with the tensorflow 2 version that comes pre-installed with colab)\n",
        "!pip install keras-rl2"
      ],
      "execution_count": 57,
      "outputs": [
        {
          "output_type": "stream",
          "name": "stdout",
          "text": [
            "Requirement already satisfied: keras-rl2 in /usr/local/lib/python3.7/dist-packages (1.0.5)\n",
            "Requirement already satisfied: tensorflow in /usr/local/lib/python3.7/dist-packages (from keras-rl2) (2.8.0)\n",
            "Requirement already satisfied: keras-preprocessing>=1.1.1 in /usr/local/lib/python3.7/dist-packages (from tensorflow->keras-rl2) (1.1.2)\n",
            "Requirement already satisfied: protobuf>=3.9.2 in /usr/local/lib/python3.7/dist-packages (from tensorflow->keras-rl2) (3.17.3)\n",
            "Requirement already satisfied: tensorflow-io-gcs-filesystem>=0.23.1 in /usr/local/lib/python3.7/dist-packages (from tensorflow->keras-rl2) (0.24.0)\n",
            "Requirement already satisfied: libclang>=9.0.1 in /usr/local/lib/python3.7/dist-packages (from tensorflow->keras-rl2) (13.0.0)\n",
            "Requirement already satisfied: h5py>=2.9.0 in /usr/local/lib/python3.7/dist-packages (from tensorflow->keras-rl2) (3.1.0)\n",
            "Requirement already satisfied: opt-einsum>=2.3.2 in /usr/local/lib/python3.7/dist-packages (from tensorflow->keras-rl2) (3.3.0)\n",
            "Requirement already satisfied: gast>=0.2.1 in /usr/local/lib/python3.7/dist-packages (from tensorflow->keras-rl2) (0.5.3)\n",
            "Requirement already satisfied: grpcio<2.0,>=1.24.3 in /usr/local/lib/python3.7/dist-packages (from tensorflow->keras-rl2) (1.44.0)\n",
            "Requirement already satisfied: tensorboard<2.9,>=2.8 in /usr/local/lib/python3.7/dist-packages (from tensorflow->keras-rl2) (2.8.0)\n",
            "Requirement already satisfied: wrapt>=1.11.0 in /usr/local/lib/python3.7/dist-packages (from tensorflow->keras-rl2) (1.14.0)\n",
            "Requirement already satisfied: absl-py>=0.4.0 in /usr/local/lib/python3.7/dist-packages (from tensorflow->keras-rl2) (1.0.0)\n",
            "Requirement already satisfied: flatbuffers>=1.12 in /usr/local/lib/python3.7/dist-packages (from tensorflow->keras-rl2) (2.0)\n",
            "Requirement already satisfied: termcolor>=1.1.0 in /usr/local/lib/python3.7/dist-packages (from tensorflow->keras-rl2) (1.1.0)\n",
            "Requirement already satisfied: keras<2.9,>=2.8.0rc0 in /usr/local/lib/python3.7/dist-packages (from tensorflow->keras-rl2) (2.8.0)\n",
            "Requirement already satisfied: six>=1.12.0 in /usr/local/lib/python3.7/dist-packages (from tensorflow->keras-rl2) (1.15.0)\n",
            "Requirement already satisfied: tf-estimator-nightly==2.8.0.dev2021122109 in /usr/local/lib/python3.7/dist-packages (from tensorflow->keras-rl2) (2.8.0.dev2021122109)\n",
            "Requirement already satisfied: numpy>=1.20 in /usr/local/lib/python3.7/dist-packages (from tensorflow->keras-rl2) (1.21.5)\n",
            "Requirement already satisfied: astunparse>=1.6.0 in /usr/local/lib/python3.7/dist-packages (from tensorflow->keras-rl2) (1.6.3)\n",
            "Requirement already satisfied: typing-extensions>=3.6.6 in /usr/local/lib/python3.7/dist-packages (from tensorflow->keras-rl2) (3.10.0.2)\n",
            "Requirement already satisfied: setuptools in /usr/local/lib/python3.7/dist-packages (from tensorflow->keras-rl2) (57.4.0)\n",
            "Requirement already satisfied: google-pasta>=0.1.1 in /usr/local/lib/python3.7/dist-packages (from tensorflow->keras-rl2) (0.2.0)\n",
            "Requirement already satisfied: wheel<1.0,>=0.23.0 in /usr/local/lib/python3.7/dist-packages (from astunparse>=1.6.0->tensorflow->keras-rl2) (0.37.1)\n",
            "Requirement already satisfied: cached-property in /usr/local/lib/python3.7/dist-packages (from h5py>=2.9.0->tensorflow->keras-rl2) (1.5.2)\n",
            "Requirement already satisfied: google-auth-oauthlib<0.5,>=0.4.1 in /usr/local/lib/python3.7/dist-packages (from tensorboard<2.9,>=2.8->tensorflow->keras-rl2) (0.4.6)\n",
            "Requirement already satisfied: requests<3,>=2.21.0 in /usr/local/lib/python3.7/dist-packages (from tensorboard<2.9,>=2.8->tensorflow->keras-rl2) (2.23.0)\n",
            "Requirement already satisfied: werkzeug>=0.11.15 in /usr/local/lib/python3.7/dist-packages (from tensorboard<2.9,>=2.8->tensorflow->keras-rl2) (1.0.1)\n",
            "Requirement already satisfied: markdown>=2.6.8 in /usr/local/lib/python3.7/dist-packages (from tensorboard<2.9,>=2.8->tensorflow->keras-rl2) (3.3.6)\n",
            "Requirement already satisfied: google-auth<3,>=1.6.3 in /usr/local/lib/python3.7/dist-packages (from tensorboard<2.9,>=2.8->tensorflow->keras-rl2) (1.35.0)\n",
            "Requirement already satisfied: tensorboard-data-server<0.7.0,>=0.6.0 in /usr/local/lib/python3.7/dist-packages (from tensorboard<2.9,>=2.8->tensorflow->keras-rl2) (0.6.1)\n",
            "Requirement already satisfied: tensorboard-plugin-wit>=1.6.0 in /usr/local/lib/python3.7/dist-packages (from tensorboard<2.9,>=2.8->tensorflow->keras-rl2) (1.8.1)\n",
            "Requirement already satisfied: pyasn1-modules>=0.2.1 in /usr/local/lib/python3.7/dist-packages (from google-auth<3,>=1.6.3->tensorboard<2.9,>=2.8->tensorflow->keras-rl2) (0.2.8)\n",
            "Requirement already satisfied: cachetools<5.0,>=2.0.0 in /usr/local/lib/python3.7/dist-packages (from google-auth<3,>=1.6.3->tensorboard<2.9,>=2.8->tensorflow->keras-rl2) (4.2.4)\n",
            "Requirement already satisfied: rsa<5,>=3.1.4 in /usr/local/lib/python3.7/dist-packages (from google-auth<3,>=1.6.3->tensorboard<2.9,>=2.8->tensorflow->keras-rl2) (4.8)\n",
            "Requirement already satisfied: requests-oauthlib>=0.7.0 in /usr/local/lib/python3.7/dist-packages (from google-auth-oauthlib<0.5,>=0.4.1->tensorboard<2.9,>=2.8->tensorflow->keras-rl2) (1.3.1)\n",
            "Requirement already satisfied: importlib-metadata>=4.4 in /usr/local/lib/python3.7/dist-packages (from markdown>=2.6.8->tensorboard<2.9,>=2.8->tensorflow->keras-rl2) (4.11.3)\n",
            "Requirement already satisfied: zipp>=0.5 in /usr/local/lib/python3.7/dist-packages (from importlib-metadata>=4.4->markdown>=2.6.8->tensorboard<2.9,>=2.8->tensorflow->keras-rl2) (3.7.0)\n",
            "Requirement already satisfied: pyasn1<0.5.0,>=0.4.6 in /usr/local/lib/python3.7/dist-packages (from pyasn1-modules>=0.2.1->google-auth<3,>=1.6.3->tensorboard<2.9,>=2.8->tensorflow->keras-rl2) (0.4.8)\n",
            "Requirement already satisfied: chardet<4,>=3.0.2 in /usr/local/lib/python3.7/dist-packages (from requests<3,>=2.21.0->tensorboard<2.9,>=2.8->tensorflow->keras-rl2) (3.0.4)\n",
            "Requirement already satisfied: urllib3!=1.25.0,!=1.25.1,<1.26,>=1.21.1 in /usr/local/lib/python3.7/dist-packages (from requests<3,>=2.21.0->tensorboard<2.9,>=2.8->tensorflow->keras-rl2) (1.24.3)\n",
            "Requirement already satisfied: idna<3,>=2.5 in /usr/local/lib/python3.7/dist-packages (from requests<3,>=2.21.0->tensorboard<2.9,>=2.8->tensorflow->keras-rl2) (2.10)\n",
            "Requirement already satisfied: certifi>=2017.4.17 in /usr/local/lib/python3.7/dist-packages (from requests<3,>=2.21.0->tensorboard<2.9,>=2.8->tensorflow->keras-rl2) (2021.10.8)\n",
            "Requirement already satisfied: oauthlib>=3.0.0 in /usr/local/lib/python3.7/dist-packages (from requests-oauthlib>=0.7.0->google-auth-oauthlib<0.5,>=0.4.1->tensorboard<2.9,>=2.8->tensorflow->keras-rl2) (3.2.0)\n"
          ]
        }
      ]
    },
    {
      "cell_type": "code",
      "metadata": {
        "id": "XMIHLgQ3Z-lF",
        "colab": {
          "base_uri": "https://localhost:8080/"
        },
        "outputId": "3d5a8608-456f-4127-ce8a-f551e5f4e4f3"
      },
      "source": [
        "!pip install gym"
      ],
      "execution_count": 58,
      "outputs": [
        {
          "output_type": "stream",
          "name": "stdout",
          "text": [
            "Requirement already satisfied: gym in /usr/local/lib/python3.7/dist-packages (0.17.3)\n",
            "Requirement already satisfied: numpy>=1.10.4 in /usr/local/lib/python3.7/dist-packages (from gym) (1.21.5)\n",
            "Requirement already satisfied: scipy in /usr/local/lib/python3.7/dist-packages (from gym) (1.4.1)\n",
            "Requirement already satisfied: pyglet<=1.5.0,>=1.4.0 in /usr/local/lib/python3.7/dist-packages (from gym) (1.5.0)\n",
            "Requirement already satisfied: cloudpickle<1.7.0,>=1.2.0 in /usr/local/lib/python3.7/dist-packages (from gym) (1.3.0)\n",
            "Requirement already satisfied: future in /usr/local/lib/python3.7/dist-packages (from pyglet<=1.5.0,>=1.4.0->gym) (0.16.0)\n"
          ]
        }
      ]
    },
    {
      "cell_type": "code",
      "metadata": {
        "id": "M0AMLzq08ap0",
        "colab": {
          "base_uri": "https://localhost:8080/"
        },
        "outputId": "77b380e1-6c3d-4bce-8233-a8ac01deaf26"
      },
      "source": [
        "# load the gym module\n",
        "import gym\n",
        "import matplotlib.pyplot as plt\n",
        "# import the usual Keras modules for creating deep neural networks\n",
        "from keras import Sequential\n",
        "from keras.layers import Input, Flatten, Dense\n",
        "!pip install Adam\n",
        "#from keras.optimizers import Adam\n",
        "from tensorflow.keras.optimizers import Adam\n",
        "ENV_NAME = 'CartPole-v0'\n",
        "env = gym.make(ENV_NAME)"
      ],
      "execution_count": 62,
      "outputs": [
        {
          "output_type": "stream",
          "name": "stdout",
          "text": [
            "Requirement already satisfied: Adam in /usr/local/lib/python3.7/dist-packages (0.0.0.dev0)\n"
          ]
        }
      ]
    },
    {
      "cell_type": "markdown",
      "metadata": {
        "id": "ll6bNdUm54WS"
      },
      "source": [
        "Implementation of DQN for CartPole, applying policy BoltzmannQPolicy"
      ]
    },
    {
      "cell_type": "markdown",
      "metadata": {
        "id": "RSCrPKNy40PC"
      },
      "source": [
        "##Implement DQN with BoltzmannGumbelQPolicy"
      ]
    },
    {
      "cell_type": "code",
      "metadata": {
        "id": "efM9jkXr5A3c",
        "colab": {
          "base_uri": "https://localhost:8080/",
          "height": 1000
        },
        "outputId": "8ca6b696-e8fb-4631-9e1d-18f1a095c2a7"
      },
      "source": [
        "import rl\n",
        "from rl.memory import SequentialMemory  # import the exerience replay buffer module\n",
        "from rl.policy import BoltzmannGumbelQPolicy\n",
        "from rl.policy import LinearAnnealedPolicy\n",
        "from rl.policy import EpsGreedyQPolicy\n",
        "from rl.agents.dqn import DQNAgent      # import the DQN agent\n",
        "\n",
        "# setup experience replay buffer\n",
        "memory = SequentialMemory(limit=10000, window_length=1)\n",
        "\n",
        "policy = LinearAnnealedPolicy(EpsGreedyQPolicy(), \n",
        "                               attr='eps',            \n",
        "                               value_max=2.,\n",
        "                               value_min=.2, \n",
        "                               value_test=.05,\n",
        "                               nb_steps=20)\n",
        "# Q-Network\n",
        "model = Sequential()\n",
        "model.add(Input(shape=(1,env.observation_space.shape[0])))  # The input is 1 observation vector, and the number of observations in that vector \n",
        "model.add(Flatten())\n",
        "model.add(Dense(16, activation='relu'))\n",
        "# add extra layers here\n",
        "model.add(Dense(env.action_space.n, activation='linear'))   # the output is the number of actions in the action space\n",
        "\n",
        "print(model.summary())\n",
        "\n",
        "# define the agent\n",
        "dqn = DQNAgent(model=model, \n",
        "               nb_actions=env.action_space.n,\n",
        "               memory=memory,\n",
        "               nb_steps_warmup=15,\n",
        "               target_model_update=1e-2, \n",
        "               policy=policy) \n",
        "\n",
        "dqn.compile(Adam(lr=1e-3), metrics=['mae'])\n",
        "\n",
        "history = dqn.fit(env, nb_steps=4000, visualize=False, verbose=2)\n",
        "\n",
        "# summarize the history for number  of episode steps\n",
        "plt.plot(history.history['nb_episode_steps'])\n",
        "plt.ylabel('nb_episode_steps')\n",
        "plt.xlabel('episodes')\n",
        "plt.show()\n",
        "\n",
        "dqn.test(env, nb_episodes=20, visualize=False)"
      ],
      "execution_count": 83,
      "outputs": [
        {
          "output_type": "stream",
          "name": "stdout",
          "text": [
            "Model: \"sequential_34\"\n",
            "_________________________________________________________________\n",
            " Layer (type)                Output Shape              Param #   \n",
            "=================================================================\n",
            " flatten_32 (Flatten)        (None, 4)                 0         \n",
            "                                                                 \n",
            " dense_65 (Dense)            (None, 16)                80        \n",
            "                                                                 \n",
            " dense_66 (Dense)            (None, 2)                 34        \n",
            "                                                                 \n",
            "=================================================================\n",
            "Total params: 114\n",
            "Trainable params: 114\n",
            "Non-trainable params: 0\n",
            "_________________________________________________________________\n",
            "None\n"
          ]
        },
        {
          "output_type": "stream",
          "name": "stderr",
          "text": [
            "/usr/local/lib/python3.7/dist-packages/keras/optimizer_v2/adam.py:105: UserWarning: The `lr` argument is deprecated, use `learning_rate` instead.\n",
            "  super(Adam, self).__init__(name, **kwargs)\n"
          ]
        },
        {
          "output_type": "stream",
          "name": "stdout",
          "text": [
            "Training for 4000 steps ...\n"
          ]
        },
        {
          "output_type": "stream",
          "name": "stderr",
          "text": [
            "/usr/local/lib/python3.7/dist-packages/keras/engine/training_v1.py:2079: UserWarning: `Model.state_updates` will be removed in a future version. This property should not be used in TensorFlow 2.0, as `updates` are applied automatically.\n",
            "  updates=self.state_updates,\n"
          ]
        },
        {
          "output_type": "stream",
          "name": "stdout",
          "text": [
            "   11/4000: episode: 1, duration: 2.420s, episode steps:  11, steps per second:   5, episode reward: 11.000, mean reward:  1.000 [ 1.000,  1.000], mean action: 0.273 [0.000, 1.000],  loss: --, mae: --, mean_q: --, mean_eps: --\n"
          ]
        },
        {
          "output_type": "stream",
          "name": "stderr",
          "text": [
            "/usr/local/lib/python3.7/dist-packages/rl/memory.py:37: UserWarning: Not enough entries to sample without replacement. Consider increasing your warm-up phase to avoid oversampling!\n",
            "  warnings.warn('Not enough entries to sample without replacement. Consider increasing your warm-up phase to avoid oversampling!')\n",
            "/usr/local/lib/python3.7/dist-packages/keras/engine/training_v1.py:2079: UserWarning: `Model.state_updates` will be removed in a future version. This property should not be used in TensorFlow 2.0, as `updates` are applied automatically.\n",
            "  updates=self.state_updates,\n"
          ]
        },
        {
          "output_type": "stream",
          "name": "stdout",
          "text": [
            "   67/4000: episode: 2, duration: 9.034s, episode steps:  56, steps per second:   6, episode reward: 56.000, mean reward:  1.000 [ 1.000,  1.000], mean action: 0.482 [0.000, 1.000],  loss: 0.741963, mae: 0.648453, mean_q: 0.192963, mean_eps: 0.217647\n",
            "  139/4000: episode: 3, duration: 1.106s, episode steps:  72, steps per second:  65, episode reward: 72.000, mean reward:  1.000 [ 1.000,  1.000], mean action: 0.472 [0.000, 1.000],  loss: 0.450493, mae: 0.537441, mean_q: 0.261176, mean_eps: 0.200000\n",
            "  226/4000: episode: 4, duration: 1.075s, episode steps:  87, steps per second:  81, episode reward: 87.000, mean reward:  1.000 [ 1.000,  1.000], mean action: 0.494 [0.000, 1.000],  loss: 0.281989, mae: 0.582602, mean_q: 0.601319, mean_eps: 0.200000\n",
            "  245/4000: episode: 5, duration: 0.311s, episode steps:  19, steps per second:  61, episode reward: 19.000, mean reward:  1.000 [ 1.000,  1.000], mean action: 0.526 [0.000, 1.000],  loss: 0.181491, mae: 0.670228, mean_q: 0.975432, mean_eps: 0.200000\n",
            "  266/4000: episode: 6, duration: 0.406s, episode steps:  21, steps per second:  52, episode reward: 21.000, mean reward:  1.000 [ 1.000,  1.000], mean action: 0.524 [0.000, 1.000],  loss: 0.179649, mae: 0.742052, mean_q: 1.160679, mean_eps: 0.200000\n",
            "  287/4000: episode: 7, duration: 0.426s, episode steps:  21, steps per second:  49, episode reward: 21.000, mean reward:  1.000 [ 1.000,  1.000], mean action: 0.524 [0.000, 1.000],  loss: 0.127375, mae: 0.795606, mean_q: 1.368646, mean_eps: 0.200000\n",
            "  306/4000: episode: 8, duration: 0.369s, episode steps:  19, steps per second:  52, episode reward: 19.000, mean reward:  1.000 [ 1.000,  1.000], mean action: 0.579 [0.000, 1.000],  loss: 0.138227, mae: 0.883231, mean_q: 1.580609, mean_eps: 0.200000\n",
            "  318/4000: episode: 9, duration: 0.233s, episode steps:  12, steps per second:  52, episode reward: 12.000, mean reward:  1.000 [ 1.000,  1.000], mean action: 0.667 [0.000, 1.000],  loss: 0.091979, mae: 0.936164, mean_q: 1.757929, mean_eps: 0.200000\n",
            "  332/4000: episode: 10, duration: 0.229s, episode steps:  14, steps per second:  61, episode reward: 14.000, mean reward:  1.000 [ 1.000,  1.000], mean action: 0.643 [0.000, 1.000],  loss: 0.123067, mae: 1.012389, mean_q: 1.892616, mean_eps: 0.200000\n",
            "  346/4000: episode: 11, duration: 0.218s, episode steps:  14, steps per second:  64, episode reward: 14.000, mean reward:  1.000 [ 1.000,  1.000], mean action: 0.643 [0.000, 1.000],  loss: 0.126356, mae: 1.094815, mean_q: 2.061443, mean_eps: 0.200000\n",
            "  357/4000: episode: 12, duration: 0.136s, episode steps:  11, steps per second:  81, episode reward: 11.000, mean reward:  1.000 [ 1.000,  1.000], mean action: 0.727 [0.000, 1.000],  loss: 0.170502, mae: 1.156648, mean_q: 2.147490, mean_eps: 0.200000\n",
            "  370/4000: episode: 13, duration: 0.191s, episode steps:  13, steps per second:  68, episode reward: 13.000, mean reward:  1.000 [ 1.000,  1.000], mean action: 0.615 [0.000, 1.000],  loss: 0.154467, mae: 1.190188, mean_q: 2.238905, mean_eps: 0.200000\n",
            "  384/4000: episode: 14, duration: 0.180s, episode steps:  14, steps per second:  78, episode reward: 14.000, mean reward:  1.000 [ 1.000,  1.000], mean action: 0.714 [0.000, 1.000],  loss: 0.146257, mae: 1.252841, mean_q: 2.390468, mean_eps: 0.200000\n",
            "  403/4000: episode: 15, duration: 0.234s, episode steps:  19, steps per second:  81, episode reward: 19.000, mean reward:  1.000 [ 1.000,  1.000], mean action: 0.684 [0.000, 1.000],  loss: 0.196132, mae: 1.353423, mean_q: 2.598965, mean_eps: 0.200000\n",
            "  417/4000: episode: 16, duration: 0.167s, episode steps:  14, steps per second:  84, episode reward: 14.000, mean reward:  1.000 [ 1.000,  1.000], mean action: 0.714 [0.000, 1.000],  loss: 0.227989, mae: 1.436896, mean_q: 2.744330, mean_eps: 0.200000\n",
            "  428/4000: episode: 17, duration: 0.155s, episode steps:  11, steps per second:  71, episode reward: 11.000, mean reward:  1.000 [ 1.000,  1.000], mean action: 0.818 [0.000, 1.000],  loss: 0.184513, mae: 1.505416, mean_q: 2.874693, mean_eps: 0.200000\n",
            "  438/4000: episode: 18, duration: 0.158s, episode steps:  10, steps per second:  63, episode reward: 10.000, mean reward:  1.000 [ 1.000,  1.000], mean action: 0.700 [0.000, 1.000],  loss: 0.246915, mae: 1.504816, mean_q: 2.882364, mean_eps: 0.200000\n",
            "  450/4000: episode: 19, duration: 0.159s, episode steps:  12, steps per second:  76, episode reward: 12.000, mean reward:  1.000 [ 1.000,  1.000], mean action: 0.667 [0.000, 1.000],  loss: 0.271715, mae: 1.596744, mean_q: 2.986014, mean_eps: 0.200000\n",
            "  461/4000: episode: 20, duration: 0.139s, episode steps:  11, steps per second:  79, episode reward: 11.000, mean reward:  1.000 [ 1.000,  1.000], mean action: 0.727 [0.000, 1.000],  loss: 0.227953, mae: 1.654750, mean_q: 3.145100, mean_eps: 0.200000\n",
            "  472/4000: episode: 21, duration: 0.148s, episode steps:  11, steps per second:  74, episode reward: 11.000, mean reward:  1.000 [ 1.000,  1.000], mean action: 0.727 [0.000, 1.000],  loss: 0.264425, mae: 1.696873, mean_q: 3.237761, mean_eps: 0.200000\n",
            "  484/4000: episode: 22, duration: 0.154s, episode steps:  12, steps per second:  78, episode reward: 12.000, mean reward:  1.000 [ 1.000,  1.000], mean action: 0.667 [0.000, 1.000],  loss: 0.292572, mae: 1.773571, mean_q: 3.381709, mean_eps: 0.200000\n",
            "  499/4000: episode: 23, duration: 0.192s, episode steps:  15, steps per second:  78, episode reward: 15.000, mean reward:  1.000 [ 1.000,  1.000], mean action: 0.667 [0.000, 1.000],  loss: 0.396098, mae: 1.858889, mean_q: 3.488917, mean_eps: 0.200000\n",
            "  510/4000: episode: 24, duration: 0.133s, episode steps:  11, steps per second:  83, episode reward: 11.000, mean reward:  1.000 [ 1.000,  1.000], mean action: 0.727 [0.000, 1.000],  loss: 0.355416, mae: 1.853107, mean_q: 3.558305, mean_eps: 0.200000\n",
            "  522/4000: episode: 25, duration: 0.167s, episode steps:  12, steps per second:  72, episode reward: 12.000, mean reward:  1.000 [ 1.000,  1.000], mean action: 0.667 [0.000, 1.000],  loss: 0.436345, mae: 1.993380, mean_q: 3.727263, mean_eps: 0.200000\n",
            "  532/4000: episode: 26, duration: 0.144s, episode steps:  10, steps per second:  70, episode reward: 10.000, mean reward:  1.000 [ 1.000,  1.000], mean action: 0.700 [0.000, 1.000],  loss: 0.277228, mae: 1.920912, mean_q: 3.734506, mean_eps: 0.200000\n",
            "  544/4000: episode: 27, duration: 0.156s, episode steps:  12, steps per second:  77, episode reward: 12.000, mean reward:  1.000 [ 1.000,  1.000], mean action: 0.750 [0.000, 1.000],  loss: 0.409333, mae: 2.034245, mean_q: 3.896662, mean_eps: 0.200000\n",
            "  555/4000: episode: 28, duration: 0.133s, episode steps:  11, steps per second:  83, episode reward: 11.000, mean reward:  1.000 [ 1.000,  1.000], mean action: 0.818 [0.000, 1.000],  loss: 0.447150, mae: 2.139687, mean_q: 4.059150, mean_eps: 0.200000\n",
            "  565/4000: episode: 29, duration: 0.133s, episode steps:  10, steps per second:  75, episode reward: 10.000, mean reward:  1.000 [ 1.000,  1.000], mean action: 0.800 [0.000, 1.000],  loss: 0.530921, mae: 2.168660, mean_q: 4.119710, mean_eps: 0.200000\n",
            "  578/4000: episode: 30, duration: 0.166s, episode steps:  13, steps per second:  78, episode reward: 13.000, mean reward:  1.000 [ 1.000,  1.000], mean action: 0.769 [0.000, 1.000],  loss: 0.521317, mae: 2.230153, mean_q: 4.208477, mean_eps: 0.200000\n",
            "  587/4000: episode: 31, duration: 0.122s, episode steps:   9, steps per second:  74, episode reward:  9.000, mean reward:  1.000 [ 1.000,  1.000], mean action: 0.889 [0.000, 1.000],  loss: 0.472803, mae: 2.230632, mean_q: 4.291575, mean_eps: 0.200000\n",
            "  602/4000: episode: 32, duration: 0.213s, episode steps:  15, steps per second:  70, episode reward: 15.000, mean reward:  1.000 [ 1.000,  1.000], mean action: 0.733 [0.000, 1.000],  loss: 0.429194, mae: 2.288958, mean_q: 4.417422, mean_eps: 0.200000\n",
            "  612/4000: episode: 33, duration: 0.123s, episode steps:  10, steps per second:  81, episode reward: 10.000, mean reward:  1.000 [ 1.000,  1.000], mean action: 0.800 [0.000, 1.000],  loss: 0.479988, mae: 2.351573, mean_q: 4.553681, mean_eps: 0.200000\n",
            "  621/4000: episode: 34, duration: 0.115s, episode steps:   9, steps per second:  79, episode reward:  9.000, mean reward:  1.000 [ 1.000,  1.000], mean action: 0.778 [0.000, 1.000],  loss: 0.496666, mae: 2.375463, mean_q: 4.580411, mean_eps: 0.200000\n",
            "  631/4000: episode: 35, duration: 0.139s, episode steps:  10, steps per second:  72, episode reward: 10.000, mean reward:  1.000 [ 1.000,  1.000], mean action: 0.600 [0.000, 1.000],  loss: 0.648577, mae: 2.499503, mean_q: 4.624815, mean_eps: 0.200000\n",
            "  648/4000: episode: 36, duration: 0.247s, episode steps:  17, steps per second:  69, episode reward: 17.000, mean reward:  1.000 [ 1.000,  1.000], mean action: 0.588 [0.000, 1.000],  loss: 0.533122, mae: 2.489858, mean_q: 4.629807, mean_eps: 0.200000\n",
            "  662/4000: episode: 37, duration: 0.271s, episode steps:  14, steps per second:  52, episode reward: 14.000, mean reward:  1.000 [ 1.000,  1.000], mean action: 0.643 [0.000, 1.000],  loss: 0.524413, mae: 2.554519, mean_q: 4.817976, mean_eps: 0.200000\n",
            "  673/4000: episode: 38, duration: 0.208s, episode steps:  11, steps per second:  53, episode reward: 11.000, mean reward:  1.000 [ 1.000,  1.000], mean action: 0.636 [0.000, 1.000],  loss: 0.307465, mae: 2.531956, mean_q: 5.008606, mean_eps: 0.200000\n",
            "  686/4000: episode: 39, duration: 0.248s, episode steps:  13, steps per second:  53, episode reward: 13.000, mean reward:  1.000 [ 1.000,  1.000], mean action: 0.615 [0.000, 1.000],  loss: 0.554113, mae: 2.637604, mean_q: 5.121820, mean_eps: 0.200000\n",
            "  695/4000: episode: 40, duration: 0.160s, episode steps:   9, steps per second:  56, episode reward:  9.000, mean reward:  1.000 [ 1.000,  1.000], mean action: 0.778 [0.000, 1.000],  loss: 0.574373, mae: 2.686839, mean_q: 5.089788, mean_eps: 0.200000\n",
            "  707/4000: episode: 41, duration: 0.167s, episode steps:  12, steps per second:  72, episode reward: 12.000, mean reward:  1.000 [ 1.000,  1.000], mean action: 0.583 [0.000, 1.000],  loss: 0.587271, mae: 2.725255, mean_q: 5.124179, mean_eps: 0.200000\n",
            "  720/4000: episode: 42, duration: 0.162s, episode steps:  13, steps per second:  80, episode reward: 13.000, mean reward:  1.000 [ 1.000,  1.000], mean action: 0.615 [0.000, 1.000],  loss: 0.626837, mae: 2.790703, mean_q: 5.290018, mean_eps: 0.200000\n",
            "  731/4000: episode: 43, duration: 0.163s, episode steps:  11, steps per second:  68, episode reward: 11.000, mean reward:  1.000 [ 1.000,  1.000], mean action: 0.636 [0.000, 1.000],  loss: 0.453036, mae: 2.767147, mean_q: 5.381156, mean_eps: 0.200000\n",
            "  743/4000: episode: 44, duration: 0.155s, episode steps:  12, steps per second:  77, episode reward: 12.000, mean reward:  1.000 [ 1.000,  1.000], mean action: 0.583 [0.000, 1.000],  loss: 0.569120, mae: 2.870796, mean_q: 5.466582, mean_eps: 0.200000\n",
            "  753/4000: episode: 45, duration: 0.137s, episode steps:  10, steps per second:  73, episode reward: 10.000, mean reward:  1.000 [ 1.000,  1.000], mean action: 0.800 [0.000, 1.000],  loss: 0.664491, mae: 2.901510, mean_q: 5.551339, mean_eps: 0.200000\n",
            "  767/4000: episode: 46, duration: 0.169s, episode steps:  14, steps per second:  83, episode reward: 14.000, mean reward:  1.000 [ 1.000,  1.000], mean action: 0.571 [0.000, 1.000],  loss: 0.637537, mae: 2.941554, mean_q: 5.601578, mean_eps: 0.200000\n",
            "  778/4000: episode: 47, duration: 0.138s, episode steps:  11, steps per second:  80, episode reward: 11.000, mean reward:  1.000 [ 1.000,  1.000], mean action: 0.636 [0.000, 1.000],  loss: 0.678211, mae: 2.986081, mean_q: 5.661232, mean_eps: 0.200000\n",
            "  788/4000: episode: 48, duration: 0.125s, episode steps:  10, steps per second:  80, episode reward: 10.000, mean reward:  1.000 [ 1.000,  1.000], mean action: 0.600 [0.000, 1.000],  loss: 0.800458, mae: 3.049571, mean_q: 5.712446, mean_eps: 0.200000\n",
            "  804/4000: episode: 49, duration: 0.205s, episode steps:  16, steps per second:  78, episode reward: 16.000, mean reward:  1.000 [ 1.000,  1.000], mean action: 0.562 [0.000, 1.000],  loss: 0.531416, mae: 3.050188, mean_q: 5.777410, mean_eps: 0.200000\n",
            "  816/4000: episode: 50, duration: 0.148s, episode steps:  12, steps per second:  81, episode reward: 12.000, mean reward:  1.000 [ 1.000,  1.000], mean action: 0.583 [0.000, 1.000],  loss: 0.839843, mae: 3.137877, mean_q: 5.932310, mean_eps: 0.200000\n",
            "  828/4000: episode: 51, duration: 0.148s, episode steps:  12, steps per second:  81, episode reward: 12.000, mean reward:  1.000 [ 1.000,  1.000], mean action: 0.583 [0.000, 1.000],  loss: 0.593525, mae: 3.141919, mean_q: 5.979501, mean_eps: 0.200000\n",
            "  838/4000: episode: 52, duration: 0.126s, episode steps:  10, steps per second:  79, episode reward: 10.000, mean reward:  1.000 [ 1.000,  1.000], mean action: 0.600 [0.000, 1.000],  loss: 0.660034, mae: 3.179736, mean_q: 6.089326, mean_eps: 0.200000\n",
            "  851/4000: episode: 53, duration: 0.164s, episode steps:  13, steps per second:  79, episode reward: 13.000, mean reward:  1.000 [ 1.000,  1.000], mean action: 0.538 [0.000, 1.000],  loss: 0.812631, mae: 3.267034, mean_q: 6.131263, mean_eps: 0.200000\n",
            "  866/4000: episode: 54, duration: 0.187s, episode steps:  15, steps per second:  80, episode reward: 15.000, mean reward:  1.000 [ 1.000,  1.000], mean action: 0.533 [0.000, 1.000],  loss: 0.731450, mae: 3.286558, mean_q: 6.181973, mean_eps: 0.200000\n",
            "  878/4000: episode: 55, duration: 0.166s, episode steps:  12, steps per second:  72, episode reward: 12.000, mean reward:  1.000 [ 1.000,  1.000], mean action: 0.583 [0.000, 1.000],  loss: 0.807040, mae: 3.340202, mean_q: 6.302632, mean_eps: 0.200000\n",
            "  893/4000: episode: 56, duration: 0.193s, episode steps:  15, steps per second:  78, episode reward: 15.000, mean reward:  1.000 [ 1.000,  1.000], mean action: 0.600 [0.000, 1.000],  loss: 0.814310, mae: 3.395288, mean_q: 6.330044, mean_eps: 0.200000\n",
            "  911/4000: episode: 57, duration: 0.219s, episode steps:  18, steps per second:  82, episode reward: 18.000, mean reward:  1.000 [ 1.000,  1.000], mean action: 0.500 [0.000, 1.000],  loss: 0.816992, mae: 3.444308, mean_q: 6.475742, mean_eps: 0.200000\n",
            "  925/4000: episode: 58, duration: 0.175s, episode steps:  14, steps per second:  80, episode reward: 14.000, mean reward:  1.000 [ 1.000,  1.000], mean action: 0.500 [0.000, 1.000],  loss: 0.756898, mae: 3.452223, mean_q: 6.522734, mean_eps: 0.200000\n",
            "  936/4000: episode: 59, duration: 0.135s, episode steps:  11, steps per second:  82, episode reward: 11.000, mean reward:  1.000 [ 1.000,  1.000], mean action: 0.636 [0.000, 1.000],  loss: 0.898702, mae: 3.516043, mean_q: 6.613023, mean_eps: 0.200000\n",
            "  951/4000: episode: 60, duration: 0.180s, episode steps:  15, steps per second:  83, episode reward: 15.000, mean reward:  1.000 [ 1.000,  1.000], mean action: 0.600 [0.000, 1.000],  loss: 0.868753, mae: 3.550988, mean_q: 6.692615, mean_eps: 0.200000\n",
            "  963/4000: episode: 61, duration: 0.167s, episode steps:  12, steps per second:  72, episode reward: 12.000, mean reward:  1.000 [ 1.000,  1.000], mean action: 0.500 [0.000, 1.000],  loss: 0.825154, mae: 3.574877, mean_q: 6.799048, mean_eps: 0.200000\n",
            "  976/4000: episode: 62, duration: 0.164s, episode steps:  13, steps per second:  79, episode reward: 13.000, mean reward:  1.000 [ 1.000,  1.000], mean action: 0.538 [0.000, 1.000],  loss: 1.082381, mae: 3.633332, mean_q: 6.700447, mean_eps: 0.200000\n",
            "  987/4000: episode: 63, duration: 0.137s, episode steps:  11, steps per second:  81, episode reward: 11.000, mean reward:  1.000 [ 1.000,  1.000], mean action: 0.636 [0.000, 1.000],  loss: 0.805398, mae: 3.611793, mean_q: 6.726537, mean_eps: 0.200000\n",
            "  997/4000: episode: 64, duration: 0.128s, episode steps:  10, steps per second:  78, episode reward: 10.000, mean reward:  1.000 [ 1.000,  1.000], mean action: 0.700 [0.000, 1.000],  loss: 0.547786, mae: 3.604005, mean_q: 6.911143, mean_eps: 0.200000\n",
            " 1009/4000: episode: 65, duration: 0.149s, episode steps:  12, steps per second:  81, episode reward: 12.000, mean reward:  1.000 [ 1.000,  1.000], mean action: 0.750 [0.000, 1.000],  loss: 0.931849, mae: 3.693208, mean_q: 7.082979, mean_eps: 0.200000\n",
            " 1019/4000: episode: 66, duration: 0.123s, episode steps:  10, steps per second:  81, episode reward: 10.000, mean reward:  1.000 [ 1.000,  1.000], mean action: 0.600 [0.000, 1.000],  loss: 1.243285, mae: 3.763591, mean_q: 6.987269, mean_eps: 0.200000\n",
            " 1035/4000: episode: 67, duration: 0.305s, episode steps:  16, steps per second:  52, episode reward: 16.000, mean reward:  1.000 [ 1.000,  1.000], mean action: 0.500 [0.000, 1.000],  loss: 0.953542, mae: 3.740253, mean_q: 6.926753, mean_eps: 0.200000\n",
            " 1049/4000: episode: 68, duration: 0.278s, episode steps:  14, steps per second:  50, episode reward: 14.000, mean reward:  1.000 [ 1.000,  1.000], mean action: 0.643 [0.000, 1.000],  loss: 0.720366, mae: 3.769549, mean_q: 7.134114, mean_eps: 0.200000\n",
            " 1064/4000: episode: 69, duration: 0.264s, episode steps:  15, steps per second:  57, episode reward: 15.000, mean reward:  1.000 [ 1.000,  1.000], mean action: 0.533 [0.000, 1.000],  loss: 1.191629, mae: 3.856004, mean_q: 7.223192, mean_eps: 0.200000\n",
            " 1074/4000: episode: 70, duration: 0.172s, episode steps:  10, steps per second:  58, episode reward: 10.000, mean reward:  1.000 [ 1.000,  1.000], mean action: 0.600 [0.000, 1.000],  loss: 0.958083, mae: 3.873131, mean_q: 7.295880, mean_eps: 0.200000\n",
            " 1089/4000: episode: 71, duration: 0.187s, episode steps:  15, steps per second:  80, episode reward: 15.000, mean reward:  1.000 [ 1.000,  1.000], mean action: 0.533 [0.000, 1.000],  loss: 0.917668, mae: 3.873311, mean_q: 7.234556, mean_eps: 0.200000\n",
            " 1099/4000: episode: 72, duration: 0.133s, episode steps:  10, steps per second:  75, episode reward: 10.000, mean reward:  1.000 [ 1.000,  1.000], mean action: 0.800 [0.000, 1.000],  loss: 0.860356, mae: 3.887572, mean_q: 7.360481, mean_eps: 0.200000\n",
            " 1110/4000: episode: 73, duration: 0.140s, episode steps:  11, steps per second:  78, episode reward: 11.000, mean reward:  1.000 [ 1.000,  1.000], mean action: 0.727 [0.000, 1.000],  loss: 1.018513, mae: 3.937468, mean_q: 7.433958, mean_eps: 0.200000\n",
            " 1119/4000: episode: 74, duration: 0.119s, episode steps:   9, steps per second:  76, episode reward:  9.000, mean reward:  1.000 [ 1.000,  1.000], mean action: 0.778 [0.000, 1.000],  loss: 1.027411, mae: 3.934831, mean_q: 7.395590, mean_eps: 0.200000\n",
            " 1128/4000: episode: 75, duration: 0.112s, episode steps:   9, steps per second:  80, episode reward:  9.000, mean reward:  1.000 [ 1.000,  1.000], mean action: 0.667 [0.000, 1.000],  loss: 1.004420, mae: 3.964724, mean_q: 7.346289, mean_eps: 0.200000\n",
            " 1144/4000: episode: 76, duration: 0.187s, episode steps:  16, steps per second:  85, episode reward: 16.000, mean reward:  1.000 [ 1.000,  1.000], mean action: 0.500 [0.000, 1.000],  loss: 1.073429, mae: 4.002884, mean_q: 7.433152, mean_eps: 0.200000\n",
            " 1155/4000: episode: 77, duration: 0.134s, episode steps:  11, steps per second:  82, episode reward: 11.000, mean reward:  1.000 [ 1.000,  1.000], mean action: 0.636 [0.000, 1.000],  loss: 0.994246, mae: 4.024349, mean_q: 7.466601, mean_eps: 0.200000\n",
            " 1166/4000: episode: 78, duration: 0.137s, episode steps:  11, steps per second:  81, episode reward: 11.000, mean reward:  1.000 [ 1.000,  1.000], mean action: 0.545 [0.000, 1.000],  loss: 0.893014, mae: 4.038007, mean_q: 7.665987, mean_eps: 0.200000\n",
            " 1186/4000: episode: 79, duration: 0.259s, episode steps:  20, steps per second:  77, episode reward: 20.000, mean reward:  1.000 [ 1.000,  1.000], mean action: 0.450 [0.000, 1.000],  loss: 0.826361, mae: 4.076162, mean_q: 7.721102, mean_eps: 0.200000\n",
            " 1204/4000: episode: 80, duration: 0.216s, episode steps:  18, steps per second:  83, episode reward: 18.000, mean reward:  1.000 [ 1.000,  1.000], mean action: 0.444 [0.000, 1.000],  loss: 0.930180, mae: 4.149589, mean_q: 7.830666, mean_eps: 0.200000\n",
            " 1245/4000: episode: 81, duration: 0.466s, episode steps:  41, steps per second:  88, episode reward: 41.000, mean reward:  1.000 [ 1.000,  1.000], mean action: 0.439 [0.000, 1.000],  loss: 1.057190, mae: 4.177205, mean_q: 7.822236, mean_eps: 0.200000\n",
            " 1285/4000: episode: 82, duration: 0.471s, episode steps:  40, steps per second:  85, episode reward: 40.000, mean reward:  1.000 [ 1.000,  1.000], mean action: 0.450 [0.000, 1.000],  loss: 1.024532, mae: 4.255798, mean_q: 7.939185, mean_eps: 0.200000\n",
            " 1330/4000: episode: 83, duration: 0.502s, episode steps:  45, steps per second:  90, episode reward: 45.000, mean reward:  1.000 [ 1.000,  1.000], mean action: 0.444 [0.000, 1.000],  loss: 1.089136, mae: 4.378736, mean_q: 8.219746, mean_eps: 0.200000\n",
            " 1374/4000: episode: 84, duration: 0.513s, episode steps:  44, steps per second:  86, episode reward: 44.000, mean reward:  1.000 [ 1.000,  1.000], mean action: 0.455 [0.000, 1.000],  loss: 0.974866, mae: 4.459001, mean_q: 8.396463, mean_eps: 0.200000\n",
            " 1462/4000: episode: 85, duration: 1.177s, episode steps:  88, steps per second:  75, episode reward: 88.000, mean reward:  1.000 [ 1.000,  1.000], mean action: 0.477 [0.000, 1.000],  loss: 0.957016, mae: 4.651547, mean_q: 8.810921, mean_eps: 0.200000\n",
            " 1525/4000: episode: 86, duration: 0.830s, episode steps:  63, steps per second:  76, episode reward: 63.000, mean reward:  1.000 [ 1.000,  1.000], mean action: 0.460 [0.000, 1.000],  loss: 0.978277, mae: 4.874146, mean_q: 9.267158, mean_eps: 0.200000\n",
            " 1573/4000: episode: 87, duration: 0.528s, episode steps:  48, steps per second:  91, episode reward: 48.000, mean reward:  1.000 [ 1.000,  1.000], mean action: 0.375 [0.000, 1.000],  loss: 1.316138, mae: 4.978252, mean_q: 9.362584, mean_eps: 0.200000\n",
            " 1583/4000: episode: 88, duration: 0.129s, episode steps:  10, steps per second:  78, episode reward: 10.000, mean reward:  1.000 [ 1.000,  1.000], mean action: 0.000 [0.000, 0.000],  loss: 1.242469, mae: 5.024834, mean_q: 9.494415, mean_eps: 0.200000\n",
            " 1592/4000: episode: 89, duration: 0.127s, episode steps:   9, steps per second:  71, episode reward:  9.000, mean reward:  1.000 [ 1.000,  1.000], mean action: 0.000 [0.000, 0.000],  loss: 0.838938, mae: 5.045433, mean_q: 9.546725, mean_eps: 0.200000\n",
            " 1601/4000: episode: 90, duration: 0.129s, episode steps:   9, steps per second:  70, episode reward:  9.000, mean reward:  1.000 [ 1.000,  1.000], mean action: 0.000 [0.000, 0.000],  loss: 1.393697, mae: 5.079211, mean_q: 9.608910, mean_eps: 0.200000\n",
            " 1609/4000: episode: 91, duration: 0.101s, episode steps:   8, steps per second:  79, episode reward:  8.000, mean reward:  1.000 [ 1.000,  1.000], mean action: 0.000 [0.000, 0.000],  loss: 1.640583, mae: 5.163016, mean_q: 9.705608, mean_eps: 0.200000\n",
            " 1621/4000: episode: 92, duration: 0.140s, episode steps:  12, steps per second:  85, episode reward: 12.000, mean reward:  1.000 [ 1.000,  1.000], mean action: 0.250 [0.000, 1.000],  loss: 1.753652, mae: 5.213650, mean_q: 9.749531, mean_eps: 0.200000\n",
            " 1692/4000: episode: 93, duration: 0.868s, episode steps:  71, steps per second:  82, episode reward: 71.000, mean reward:  1.000 [ 1.000,  1.000], mean action: 0.479 [0.000, 1.000],  loss: 1.672938, mae: 5.276434, mean_q: 9.889795, mean_eps: 0.200000\n",
            " 1764/4000: episode: 94, duration: 0.996s, episode steps:  72, steps per second:  72, episode reward: 72.000, mean reward:  1.000 [ 1.000,  1.000], mean action: 0.472 [0.000, 1.000],  loss: 1.926065, mae: 5.483165, mean_q: 10.311221, mean_eps: 0.200000\n",
            " 1812/4000: episode: 95, duration: 0.783s, episode steps:  48, steps per second:  61, episode reward: 48.000, mean reward:  1.000 [ 1.000,  1.000], mean action: 0.479 [0.000, 1.000],  loss: 1.614543, mae: 5.601800, mean_q: 10.515437, mean_eps: 0.200000\n",
            " 1875/4000: episode: 96, duration: 1.083s, episode steps:  63, steps per second:  58, episode reward: 63.000, mean reward:  1.000 [ 1.000,  1.000], mean action: 0.460 [0.000, 1.000],  loss: 1.481256, mae: 5.646595, mean_q: 10.637189, mean_eps: 0.200000\n",
            " 1911/4000: episode: 97, duration: 0.551s, episode steps:  36, steps per second:  65, episode reward: 36.000, mean reward:  1.000 [ 1.000,  1.000], mean action: 0.500 [0.000, 1.000],  loss: 1.491154, mae: 5.795932, mean_q: 11.064648, mean_eps: 0.200000\n",
            " 1929/4000: episode: 98, duration: 0.305s, episode steps:  18, steps per second:  59, episode reward: 18.000, mean reward:  1.000 [ 1.000,  1.000], mean action: 0.556 [0.000, 1.000],  loss: 2.289651, mae: 5.943140, mean_q: 11.230926, mean_eps: 0.200000\n",
            " 2032/4000: episode: 99, duration: 1.611s, episode steps: 103, steps per second:  64, episode reward: 103.000, mean reward:  1.000 [ 1.000,  1.000], mean action: 0.505 [0.000, 1.000],  loss: 1.717222, mae: 5.989273, mean_q: 11.356396, mean_eps: 0.200000\n",
            " 2049/4000: episode: 100, duration: 0.311s, episode steps:  17, steps per second:  55, episode reward: 17.000, mean reward:  1.000 [ 1.000,  1.000], mean action: 0.471 [0.000, 1.000],  loss: 2.433258, mae: 6.183032, mean_q: 11.648243, mean_eps: 0.200000\n",
            " 2060/4000: episode: 101, duration: 0.148s, episode steps:  11, steps per second:  74, episode reward: 11.000, mean reward:  1.000 [ 1.000,  1.000], mean action: 0.455 [0.000, 1.000],  loss: 2.214426, mae: 6.209593, mean_q: 11.675186, mean_eps: 0.200000\n",
            " 2077/4000: episode: 102, duration: 0.221s, episode steps:  17, steps per second:  77, episode reward: 17.000, mean reward:  1.000 [ 1.000,  1.000], mean action: 0.353 [0.000, 1.000],  loss: 1.620174, mae: 6.131900, mean_q: 11.621563, mean_eps: 0.200000\n",
            " 2088/4000: episode: 103, duration: 0.137s, episode steps:  11, steps per second:  80, episode reward: 11.000, mean reward:  1.000 [ 1.000,  1.000], mean action: 0.364 [0.000, 1.000],  loss: 1.074331, mae: 6.217842, mean_q: 11.959723, mean_eps: 0.200000\n",
            " 2098/4000: episode: 104, duration: 0.124s, episode steps:  10, steps per second:  81, episode reward: 10.000, mean reward:  1.000 [ 1.000,  1.000], mean action: 0.300 [0.000, 1.000],  loss: 2.651915, mae: 6.339136, mean_q: 11.967662, mean_eps: 0.200000\n",
            " 2108/4000: episode: 105, duration: 0.128s, episode steps:  10, steps per second:  78, episode reward: 10.000, mean reward:  1.000 [ 1.000,  1.000], mean action: 0.100 [0.000, 1.000],  loss: 1.650934, mae: 6.313345, mean_q: 12.037855, mean_eps: 0.200000\n",
            " 2117/4000: episode: 106, duration: 0.124s, episode steps:   9, steps per second:  72, episode reward:  9.000, mean reward:  1.000 [ 1.000,  1.000], mean action: 0.000 [0.000, 0.000],  loss: 2.229047, mae: 6.266228, mean_q: 11.907428, mean_eps: 0.200000\n",
            " 2128/4000: episode: 107, duration: 0.136s, episode steps:  11, steps per second:  81, episode reward: 11.000, mean reward:  1.000 [ 1.000,  1.000], mean action: 0.091 [0.000, 1.000],  loss: 1.373607, mae: 6.389257, mean_q: 12.287261, mean_eps: 0.200000\n",
            " 2137/4000: episode: 108, duration: 0.125s, episode steps:   9, steps per second:  72, episode reward:  9.000, mean reward:  1.000 [ 1.000,  1.000], mean action: 0.000 [0.000, 0.000],  loss: 2.824076, mae: 6.495946, mean_q: 12.350765, mean_eps: 0.200000\n",
            " 2147/4000: episode: 109, duration: 0.132s, episode steps:  10, steps per second:  76, episode reward: 10.000, mean reward:  1.000 [ 1.000,  1.000], mean action: 0.000 [0.000, 0.000],  loss: 2.082931, mae: 6.496429, mean_q: 12.447012, mean_eps: 0.200000\n",
            " 2157/4000: episode: 110, duration: 0.147s, episode steps:  10, steps per second:  68, episode reward: 10.000, mean reward:  1.000 [ 1.000,  1.000], mean action: 0.100 [0.000, 1.000],  loss: 2.316389, mae: 6.524534, mean_q: 12.494251, mean_eps: 0.200000\n",
            " 2167/4000: episode: 111, duration: 0.122s, episode steps:  10, steps per second:  82, episode reward: 10.000, mean reward:  1.000 [ 1.000,  1.000], mean action: 0.100 [0.000, 1.000],  loss: 1.816291, mae: 6.512469, mean_q: 12.476607, mean_eps: 0.200000\n",
            " 2182/4000: episode: 112, duration: 0.198s, episode steps:  15, steps per second:  76, episode reward: 15.000, mean reward:  1.000 [ 1.000,  1.000], mean action: 0.333 [0.000, 1.000],  loss: 1.557535, mae: 6.497370, mean_q: 12.551559, mean_eps: 0.200000\n",
            " 2192/4000: episode: 113, duration: 0.130s, episode steps:  10, steps per second:  77, episode reward: 10.000, mean reward:  1.000 [ 1.000,  1.000], mean action: 0.000 [0.000, 0.000],  loss: 3.083863, mae: 6.647937, mean_q: 12.640267, mean_eps: 0.200000\n",
            " 2202/4000: episode: 114, duration: 0.136s, episode steps:  10, steps per second:  73, episode reward: 10.000, mean reward:  1.000 [ 1.000,  1.000], mean action: 0.000 [0.000, 0.000],  loss: 2.582380, mae: 6.538793, mean_q: 12.533633, mean_eps: 0.200000\n",
            " 2212/4000: episode: 115, duration: 0.164s, episode steps:  10, steps per second:  61, episode reward: 10.000, mean reward:  1.000 [ 1.000,  1.000], mean action: 0.100 [0.000, 1.000],  loss: 1.969229, mae: 6.575652, mean_q: 12.605759, mean_eps: 0.200000\n",
            " 2224/4000: episode: 116, duration: 0.232s, episode steps:  12, steps per second:  52, episode reward: 12.000, mean reward:  1.000 [ 1.000,  1.000], mean action: 0.167 [0.000, 1.000],  loss: 2.813675, mae: 6.690877, mean_q: 12.652809, mean_eps: 0.200000\n",
            " 2239/4000: episode: 117, duration: 0.299s, episode steps:  15, steps per second:  50, episode reward: 15.000, mean reward:  1.000 [ 1.000,  1.000], mean action: 0.200 [0.000, 1.000],  loss: 2.595500, mae: 6.727358, mean_q: 12.700787, mean_eps: 0.200000\n",
            " 2251/4000: episode: 118, duration: 0.272s, episode steps:  12, steps per second:  44, episode reward: 12.000, mean reward:  1.000 [ 1.000,  1.000], mean action: 0.333 [0.000, 1.000],  loss: 2.738440, mae: 6.702482, mean_q: 12.613528, mean_eps: 0.200000\n",
            " 2261/4000: episode: 119, duration: 0.191s, episode steps:  10, steps per second:  52, episode reward: 10.000, mean reward:  1.000 [ 1.000,  1.000], mean action: 0.300 [0.000, 1.000],  loss: 1.876741, mae: 6.755186, mean_q: 12.904142, mean_eps: 0.200000\n",
            " 2273/4000: episode: 120, duration: 0.278s, episode steps:  12, steps per second:  43, episode reward: 12.000, mean reward:  1.000 [ 1.000,  1.000], mean action: 0.333 [0.000, 1.000],  loss: 3.660375, mae: 6.923186, mean_q: 12.959937, mean_eps: 0.200000\n",
            " 2286/4000: episode: 121, duration: 0.253s, episode steps:  13, steps per second:  51, episode reward: 13.000, mean reward:  1.000 [ 1.000,  1.000], mean action: 0.308 [0.000, 1.000],  loss: 1.978552, mae: 6.728534, mean_q: 12.751948, mean_eps: 0.200000\n",
            " 2298/4000: episode: 122, duration: 0.242s, episode steps:  12, steps per second:  50, episode reward: 12.000, mean reward:  1.000 [ 1.000,  1.000], mean action: 0.250 [0.000, 1.000],  loss: 2.211620, mae: 6.715737, mean_q: 12.697615, mean_eps: 0.200000\n",
            " 2310/4000: episode: 123, duration: 0.210s, episode steps:  12, steps per second:  57, episode reward: 12.000, mean reward:  1.000 [ 1.000,  1.000], mean action: 0.250 [0.000, 1.000],  loss: 2.805065, mae: 6.809861, mean_q: 12.821433, mean_eps: 0.200000\n",
            " 2341/4000: episode: 124, duration: 0.629s, episode steps:  31, steps per second:  49, episode reward: 31.000, mean reward:  1.000 [ 1.000,  1.000], mean action: 0.516 [0.000, 1.000],  loss: 3.250987, mae: 6.887023, mean_q: 12.901869, mean_eps: 0.200000\n",
            " 2432/4000: episode: 125, duration: 1.588s, episode steps:  91, steps per second:  57, episode reward: 91.000, mean reward:  1.000 [ 1.000,  1.000], mean action: 0.484 [0.000, 1.000],  loss: 3.017028, mae: 7.036411, mean_q: 13.208156, mean_eps: 0.200000\n",
            " 2478/4000: episode: 126, duration: 0.638s, episode steps:  46, steps per second:  72, episode reward: 46.000, mean reward:  1.000 [ 1.000,  1.000], mean action: 0.522 [0.000, 1.000],  loss: 2.912209, mae: 7.166229, mean_q: 13.526543, mean_eps: 0.200000\n",
            " 2496/4000: episode: 127, duration: 0.241s, episode steps:  18, steps per second:  75, episode reward: 18.000, mean reward:  1.000 [ 1.000,  1.000], mean action: 0.444 [0.000, 1.000],  loss: 2.723627, mae: 7.189589, mean_q: 13.638232, mean_eps: 0.200000\n",
            " 2512/4000: episode: 128, duration: 0.202s, episode steps:  16, steps per second:  79, episode reward: 16.000, mean reward:  1.000 [ 1.000,  1.000], mean action: 0.500 [0.000, 1.000],  loss: 2.013519, mae: 7.256360, mean_q: 13.907391, mean_eps: 0.200000\n",
            " 2531/4000: episode: 129, duration: 0.242s, episode steps:  19, steps per second:  79, episode reward: 19.000, mean reward:  1.000 [ 1.000,  1.000], mean action: 0.526 [0.000, 1.000],  loss: 3.149796, mae: 7.351965, mean_q: 14.010011, mean_eps: 0.200000\n",
            " 2555/4000: episode: 130, duration: 0.307s, episode steps:  24, steps per second:  78, episode reward: 24.000, mean reward:  1.000 [ 1.000,  1.000], mean action: 0.458 [0.000, 1.000],  loss: 3.265392, mae: 7.345631, mean_q: 13.816494, mean_eps: 0.200000\n",
            " 2585/4000: episode: 131, duration: 0.461s, episode steps:  30, steps per second:  65, episode reward: 30.000, mean reward:  1.000 [ 1.000,  1.000], mean action: 0.500 [0.000, 1.000],  loss: 2.606878, mae: 7.383256, mean_q: 14.093099, mean_eps: 0.200000\n",
            " 2613/4000: episode: 132, duration: 0.511s, episode steps:  28, steps per second:  55, episode reward: 28.000, mean reward:  1.000 [ 1.000,  1.000], mean action: 0.536 [0.000, 1.000],  loss: 3.124023, mae: 7.543894, mean_q: 14.304311, mean_eps: 0.200000\n",
            " 2641/4000: episode: 133, duration: 0.413s, episode steps:  28, steps per second:  68, episode reward: 28.000, mean reward:  1.000 [ 1.000,  1.000], mean action: 0.500 [0.000, 1.000],  loss: 4.243081, mae: 7.608635, mean_q: 14.272599, mean_eps: 0.200000\n",
            " 2657/4000: episode: 134, duration: 0.200s, episode steps:  16, steps per second:  80, episode reward: 16.000, mean reward:  1.000 [ 1.000,  1.000], mean action: 0.500 [0.000, 1.000],  loss: 2.875282, mae: 7.549150, mean_q: 14.236325, mean_eps: 0.200000\n",
            " 2682/4000: episode: 135, duration: 0.298s, episode steps:  25, steps per second:  84, episode reward: 25.000, mean reward:  1.000 [ 1.000,  1.000], mean action: 0.520 [0.000, 1.000],  loss: 2.904908, mae: 7.575146, mean_q: 14.410006, mean_eps: 0.200000\n",
            " 2708/4000: episode: 136, duration: 0.305s, episode steps:  26, steps per second:  85, episode reward: 26.000, mean reward:  1.000 [ 1.000,  1.000], mean action: 0.500 [0.000, 1.000],  loss: 2.954815, mae: 7.663798, mean_q: 14.602783, mean_eps: 0.200000\n",
            " 2758/4000: episode: 137, duration: 0.792s, episode steps:  50, steps per second:  63, episode reward: 50.000, mean reward:  1.000 [ 1.000,  1.000], mean action: 0.500 [0.000, 1.000],  loss: 3.093562, mae: 7.762069, mean_q: 14.784619, mean_eps: 0.200000\n",
            " 2792/4000: episode: 138, duration: 0.483s, episode steps:  34, steps per second:  70, episode reward: 34.000, mean reward:  1.000 [ 1.000,  1.000], mean action: 0.529 [0.000, 1.000],  loss: 3.805085, mae: 7.861962, mean_q: 14.791357, mean_eps: 0.200000\n",
            " 2822/4000: episode: 139, duration: 0.357s, episode steps:  30, steps per second:  84, episode reward: 30.000, mean reward:  1.000 [ 1.000,  1.000], mean action: 0.533 [0.000, 1.000],  loss: 4.508564, mae: 7.953742, mean_q: 14.923044, mean_eps: 0.200000\n",
            " 2876/4000: episode: 140, duration: 0.649s, episode steps:  54, steps per second:  83, episode reward: 54.000, mean reward:  1.000 [ 1.000,  1.000], mean action: 0.519 [0.000, 1.000],  loss: 3.003750, mae: 7.918567, mean_q: 15.010688, mean_eps: 0.200000\n",
            " 2939/4000: episode: 141, duration: 0.703s, episode steps:  63, steps per second:  90, episode reward: 63.000, mean reward:  1.000 [ 1.000,  1.000], mean action: 0.508 [0.000, 1.000],  loss: 3.211965, mae: 8.061375, mean_q: 15.373227, mean_eps: 0.200000\n",
            " 3004/4000: episode: 142, duration: 0.748s, episode steps:  65, steps per second:  87, episode reward: 65.000, mean reward:  1.000 [ 1.000,  1.000], mean action: 0.477 [0.000, 1.000],  loss: 3.301003, mae: 8.133618, mean_q: 15.489180, mean_eps: 0.200000\n",
            " 3058/4000: episode: 143, duration: 0.708s, episode steps:  54, steps per second:  76, episode reward: 54.000, mean reward:  1.000 [ 1.000,  1.000], mean action: 0.481 [0.000, 1.000],  loss: 2.914707, mae: 8.278072, mean_q: 15.864761, mean_eps: 0.200000\n",
            " 3094/4000: episode: 144, duration: 0.601s, episode steps:  36, steps per second:  60, episode reward: 36.000, mean reward:  1.000 [ 1.000,  1.000], mean action: 0.500 [0.000, 1.000],  loss: 3.715671, mae: 8.442302, mean_q: 16.032582, mean_eps: 0.200000\n",
            " 3151/4000: episode: 145, duration: 0.960s, episode steps:  57, steps per second:  59, episode reward: 57.000, mean reward:  1.000 [ 1.000,  1.000], mean action: 0.474 [0.000, 1.000],  loss: 3.382454, mae: 8.402593, mean_q: 16.021139, mean_eps: 0.200000\n",
            " 3213/4000: episode: 146, duration: 1.075s, episode steps:  62, steps per second:  58, episode reward: 62.000, mean reward:  1.000 [ 1.000,  1.000], mean action: 0.516 [0.000, 1.000],  loss: 3.315678, mae: 8.519363, mean_q: 16.228270, mean_eps: 0.200000\n",
            " 3295/4000: episode: 147, duration: 1.266s, episode steps:  82, steps per second:  65, episode reward: 82.000, mean reward:  1.000 [ 1.000,  1.000], mean action: 0.512 [0.000, 1.000],  loss: 3.781177, mae: 8.700977, mean_q: 16.589295, mean_eps: 0.200000\n",
            " 3336/4000: episode: 148, duration: 0.689s, episode steps:  41, steps per second:  59, episode reward: 41.000, mean reward:  1.000 [ 1.000,  1.000], mean action: 0.512 [0.000, 1.000],  loss: 4.663327, mae: 8.818832, mean_q: 16.716276, mean_eps: 0.200000\n",
            " 3461/4000: episode: 149, duration: 1.546s, episode steps: 125, steps per second:  81, episode reward: 125.000, mean reward:  1.000 [ 1.000,  1.000], mean action: 0.488 [0.000, 1.000],  loss: 4.032931, mae: 8.930553, mean_q: 17.027956, mean_eps: 0.200000\n",
            " 3530/4000: episode: 150, duration: 1.153s, episode steps:  69, steps per second:  60, episode reward: 69.000, mean reward:  1.000 [ 1.000,  1.000], mean action: 0.507 [0.000, 1.000],  loss: 4.198194, mae: 9.059351, mean_q: 17.281291, mean_eps: 0.200000\n",
            " 3564/4000: episode: 151, duration: 0.555s, episode steps:  34, steps per second:  61, episode reward: 34.000, mean reward:  1.000 [ 1.000,  1.000], mean action: 0.529 [0.000, 1.000],  loss: 3.546093, mae: 9.309121, mean_q: 17.886177, mean_eps: 0.200000\n",
            " 3688/4000: episode: 152, duration: 1.983s, episode steps: 124, steps per second:  63, episode reward: 124.000, mean reward:  1.000 [ 1.000,  1.000], mean action: 0.508 [0.000, 1.000],  loss: 3.760580, mae: 9.328469, mean_q: 17.915250, mean_eps: 0.200000\n",
            " 3735/4000: episode: 153, duration: 0.613s, episode steps:  47, steps per second:  77, episode reward: 47.000, mean reward:  1.000 [ 1.000,  1.000], mean action: 0.532 [0.000, 1.000],  loss: 4.122140, mae: 9.509149, mean_q: 18.235370, mean_eps: 0.200000\n",
            " 3786/4000: episode: 154, duration: 0.600s, episode steps:  51, steps per second:  85, episode reward: 51.000, mean reward:  1.000 [ 1.000,  1.000], mean action: 0.471 [0.000, 1.000],  loss: 4.046333, mae: 9.639169, mean_q: 18.549448, mean_eps: 0.200000\n",
            " 3836/4000: episode: 155, duration: 0.592s, episode steps:  50, steps per second:  84, episode reward: 50.000, mean reward:  1.000 [ 1.000,  1.000], mean action: 0.520 [0.000, 1.000],  loss: 2.911673, mae: 9.635999, mean_q: 18.686106, mean_eps: 0.200000\n",
            " 3882/4000: episode: 156, duration: 0.522s, episode steps:  46, steps per second:  88, episode reward: 46.000, mean reward:  1.000 [ 1.000,  1.000], mean action: 0.522 [0.000, 1.000],  loss: 4.403825, mae: 9.805198, mean_q: 18.884300, mean_eps: 0.200000\n",
            " 3964/4000: episode: 157, duration: 0.971s, episode steps:  82, steps per second:  84, episode reward: 82.000, mean reward:  1.000 [ 1.000,  1.000], mean action: 0.512 [0.000, 1.000],  loss: 4.455135, mae: 9.960112, mean_q: 19.217477, mean_eps: 0.200000\n",
            "done, took 67.587 seconds\n"
          ]
        },
        {
          "output_type": "display_data",
          "data": {
            "text/plain": [
              "<Figure size 432x288 with 1 Axes>"
            ],
            "image/png": "[encoded data removed]"
          },
          "metadata": {
            "needs_background": "light"
          }
        },
        {
          "output_type": "stream",
          "name": "stdout",
          "text": [
            "Testing for 20 episodes ...\n",
            "Episode 1: reward: 50.000, steps: 50\n",
            "Episode 2: reward: 39.000, steps: 39\n",
            "Episode 3: reward: 61.000, steps: 61\n",
            "Episode 4: reward: 78.000, steps: 78\n",
            "Episode 5: reward: 47.000, steps: 47\n",
            "Episode 6: reward: 49.000, steps: 49\n",
            "Episode 7: reward: 73.000, steps: 73\n",
            "Episode 8: reward: 38.000, steps: 38\n",
            "Episode 9: reward: 82.000, steps: 82\n",
            "Episode 10: reward: 56.000, steps: 56\n",
            "Episode 11: reward: 55.000, steps: 55\n",
            "Episode 12: reward: 37.000, steps: 37\n",
            "Episode 13: reward: 57.000, steps: 57\n",
            "Episode 14: reward: 80.000, steps: 80\n",
            "Episode 15: reward: 200.000, steps: 200\n",
            "Episode 16: reward: 52.000, steps: 52\n",
            "Episode 17: reward: 38.000, steps: 38\n",
            "Episode 18: reward: 58.000, steps: 58\n",
            "Episode 19: reward: 39.000, steps: 39\n",
            "Episode 20: reward: 119.000, steps: 119\n"
          ]
        },
        {
          "output_type": "execute_result",
          "data": {
            "text/plain": [
              "<keras.callbacks.History at 0x7fb1723a3e10>"
            ]
          },
          "metadata": {},
          "execution_count": 83
        }
      ]
    }
  ]
}