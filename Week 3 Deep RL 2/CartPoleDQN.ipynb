{
  "nbformat": 4,
  "nbformat_minor": 0,
  "metadata": {
    "colab": {
      "name": "CartPoleDQN.ipynb",
      "provenance": [],
      "collapsed_sections": [],
      "include_colab_link": true
    },
    "kernelspec": {
      "name": "python3",
      "display_name": "Python 3"
    }
  },
  "cells": [
    {
      "cell_type": "markdown",
      "metadata": {
        "id": "view-in-github",
        "colab_type": "text"
      },
      "source": [
        "<a href=\"https://colab.research.google.com/github/Megacity1/CartpoleDQN/blob/main/Week%203%20Deep%20RL%202/CartPoleDQN.ipynb\" target=\"_parent\"><img src=\"https://colab.research.google.com/assets/colab-badge.svg\" alt=\"Open In Colab\"/></a>"
      ]
    },
    {
      "cell_type": "markdown",
      "metadata": {
        "id": "VKK5DA390wRe"
      },
      "source": [
        "# Deep Q Network (DQN) for CartPole Using Boltzmann Q Policy\n",
        "This exercise implements a DQN for CartPole using a Boltzmann Q policy for selecting the actions"
      ]
    },
    {
      "cell_type": "code",
      "metadata": {
        "id": "LGsC7cJ5jNcX",
        "colab": {
          "base_uri": "https://localhost:8080/"
        },
        "outputId": "cda73cbf-3020-40f4-e45e-7b87053448f1"
      },
      "source": [
        "# install keras rl2 (we need to install keras-rl2 so it works with the tensorflow 2 version that comes pre-installed with colab)\n",
        "!pip install keras-rl2"
      ],
      "execution_count": 57,
      "outputs": [
        {
          "output_type": "stream",
          "name": "stdout",
          "text": [
            "Requirement already satisfied: keras-rl2 in /usr/local/lib/python3.7/dist-packages (1.0.5)\n",
            "Requirement already satisfied: tensorflow in /usr/local/lib/python3.7/dist-packages (from keras-rl2) (2.8.0)\n",
            "Requirement already satisfied: keras-preprocessing>=1.1.1 in /usr/local/lib/python3.7/dist-packages (from tensorflow->keras-rl2) (1.1.2)\n",
            "Requirement already satisfied: protobuf>=3.9.2 in /usr/local/lib/python3.7/dist-packages (from tensorflow->keras-rl2) (3.17.3)\n",
            "Requirement already satisfied: tensorflow-io-gcs-filesystem>=0.23.1 in /usr/local/lib/python3.7/dist-packages (from tensorflow->keras-rl2) (0.24.0)\n",
            "Requirement already satisfied: libclang>=9.0.1 in /usr/local/lib/python3.7/dist-packages (from tensorflow->keras-rl2) (13.0.0)\n",
            "Requirement already satisfied: h5py>=2.9.0 in /usr/local/lib/python3.7/dist-packages (from tensorflow->keras-rl2) (3.1.0)\n",
            "Requirement already satisfied: opt-einsum>=2.3.2 in /usr/local/lib/python3.7/dist-packages (from tensorflow->keras-rl2) (3.3.0)\n",
            "Requirement already satisfied: gast>=0.2.1 in /usr/local/lib/python3.7/dist-packages (from tensorflow->keras-rl2) (0.5.3)\n",
            "Requirement already satisfied: grpcio<2.0,>=1.24.3 in /usr/local/lib/python3.7/dist-packages (from tensorflow->keras-rl2) (1.44.0)\n",
            "Requirement already satisfied: tensorboard<2.9,>=2.8 in /usr/local/lib/python3.7/dist-packages (from tensorflow->keras-rl2) (2.8.0)\n",
            "Requirement already satisfied: wrapt>=1.11.0 in /usr/local/lib/python3.7/dist-packages (from tensorflow->keras-rl2) (1.14.0)\n",
            "Requirement already satisfied: absl-py>=0.4.0 in /usr/local/lib/python3.7/dist-packages (from tensorflow->keras-rl2) (1.0.0)\n",
            "Requirement already satisfied: flatbuffers>=1.12 in /usr/local/lib/python3.7/dist-packages (from tensorflow->keras-rl2) (2.0)\n",
            "Requirement already satisfied: termcolor>=1.1.0 in /usr/local/lib/python3.7/dist-packages (from tensorflow->keras-rl2) (1.1.0)\n",
            "Requirement already satisfied: keras<2.9,>=2.8.0rc0 in /usr/local/lib/python3.7/dist-packages (from tensorflow->keras-rl2) (2.8.0)\n",
            "Requirement already satisfied: six>=1.12.0 in /usr/local/lib/python3.7/dist-packages (from tensorflow->keras-rl2) (1.15.0)\n",
            "Requirement already satisfied: tf-estimator-nightly==2.8.0.dev2021122109 in /usr/local/lib/python3.7/dist-packages (from tensorflow->keras-rl2) (2.8.0.dev2021122109)\n",
            "Requirement already satisfied: numpy>=1.20 in /usr/local/lib/python3.7/dist-packages (from tensorflow->keras-rl2) (1.21.5)\n",
            "Requirement already satisfied: astunparse>=1.6.0 in /usr/local/lib/python3.7/dist-packages (from tensorflow->keras-rl2) (1.6.3)\n",
            "Requirement already satisfied: typing-extensions>=3.6.6 in /usr/local/lib/python3.7/dist-packages (from tensorflow->keras-rl2) (3.10.0.2)\n",
            "Requirement already satisfied: setuptools in /usr/local/lib/python3.7/dist-packages (from tensorflow->keras-rl2) (57.4.0)\n",
            "Requirement already satisfied: google-pasta>=0.1.1 in /usr/local/lib/python3.7/dist-packages (from tensorflow->keras-rl2) (0.2.0)\n",
            "Requirement already satisfied: wheel<1.0,>=0.23.0 in /usr/local/lib/python3.7/dist-packages (from astunparse>=1.6.0->tensorflow->keras-rl2) (0.37.1)\n",
            "Requirement already satisfied: cached-property in /usr/local/lib/python3.7/dist-packages (from h5py>=2.9.0->tensorflow->keras-rl2) (1.5.2)\n",
            "Requirement already satisfied: google-auth-oauthlib<0.5,>=0.4.1 in /usr/local/lib/python3.7/dist-packages (from tensorboard<2.9,>=2.8->tensorflow->keras-rl2) (0.4.6)\n",
            "Requirement already satisfied: requests<3,>=2.21.0 in /usr/local/lib/python3.7/dist-packages (from tensorboard<2.9,>=2.8->tensorflow->keras-rl2) (2.23.0)\n",
            "Requirement already satisfied: werkzeug>=0.11.15 in /usr/local/lib/python3.7/dist-packages (from tensorboard<2.9,>=2.8->tensorflow->keras-rl2) (1.0.1)\n",
            "Requirement already satisfied: markdown>=2.6.8 in /usr/local/lib/python3.7/dist-packages (from tensorboard<2.9,>=2.8->tensorflow->keras-rl2) (3.3.6)\n",
            "Requirement already satisfied: google-auth<3,>=1.6.3 in /usr/local/lib/python3.7/dist-packages (from tensorboard<2.9,>=2.8->tensorflow->keras-rl2) (1.35.0)\n",
            "Requirement already satisfied: tensorboard-data-server<0.7.0,>=0.6.0 in /usr/local/lib/python3.7/dist-packages (from tensorboard<2.9,>=2.8->tensorflow->keras-rl2) (0.6.1)\n",
            "Requirement already satisfied: tensorboard-plugin-wit>=1.6.0 in /usr/local/lib/python3.7/dist-packages (from tensorboard<2.9,>=2.8->tensorflow->keras-rl2) (1.8.1)\n",
            "Requirement already satisfied: pyasn1-modules>=0.2.1 in /usr/local/lib/python3.7/dist-packages (from google-auth<3,>=1.6.3->tensorboard<2.9,>=2.8->tensorflow->keras-rl2) (0.2.8)\n",
            "Requirement already satisfied: cachetools<5.0,>=2.0.0 in /usr/local/lib/python3.7/dist-packages (from google-auth<3,>=1.6.3->tensorboard<2.9,>=2.8->tensorflow->keras-rl2) (4.2.4)\n",
            "Requirement already satisfied: rsa<5,>=3.1.4 in /usr/local/lib/python3.7/dist-packages (from google-auth<3,>=1.6.3->tensorboard<2.9,>=2.8->tensorflow->keras-rl2) (4.8)\n",
            "Requirement already satisfied: requests-oauthlib>=0.7.0 in /usr/local/lib/python3.7/dist-packages (from google-auth-oauthlib<0.5,>=0.4.1->tensorboard<2.9,>=2.8->tensorflow->keras-rl2) (1.3.1)\n",
            "Requirement already satisfied: importlib-metadata>=4.4 in /usr/local/lib/python3.7/dist-packages (from markdown>=2.6.8->tensorboard<2.9,>=2.8->tensorflow->keras-rl2) (4.11.3)\n",
            "Requirement already satisfied: zipp>=0.5 in /usr/local/lib/python3.7/dist-packages (from importlib-metadata>=4.4->markdown>=2.6.8->tensorboard<2.9,>=2.8->tensorflow->keras-rl2) (3.7.0)\n",
            "Requirement already satisfied: pyasn1<0.5.0,>=0.4.6 in /usr/local/lib/python3.7/dist-packages (from pyasn1-modules>=0.2.1->google-auth<3,>=1.6.3->tensorboard<2.9,>=2.8->tensorflow->keras-rl2) (0.4.8)\n",
            "Requirement already satisfied: chardet<4,>=3.0.2 in /usr/local/lib/python3.7/dist-packages (from requests<3,>=2.21.0->tensorboard<2.9,>=2.8->tensorflow->keras-rl2) (3.0.4)\n",
            "Requirement already satisfied: urllib3!=1.25.0,!=1.25.1,<1.26,>=1.21.1 in /usr/local/lib/python3.7/dist-packages (from requests<3,>=2.21.0->tensorboard<2.9,>=2.8->tensorflow->keras-rl2) (1.24.3)\n",
            "Requirement already satisfied: idna<3,>=2.5 in /usr/local/lib/python3.7/dist-packages (from requests<3,>=2.21.0->tensorboard<2.9,>=2.8->tensorflow->keras-rl2) (2.10)\n",
            "Requirement already satisfied: certifi>=2017.4.17 in /usr/local/lib/python3.7/dist-packages (from requests<3,>=2.21.0->tensorboard<2.9,>=2.8->tensorflow->keras-rl2) (2021.10.8)\n",
            "Requirement already satisfied: oauthlib>=3.0.0 in /usr/local/lib/python3.7/dist-packages (from requests-oauthlib>=0.7.0->google-auth-oauthlib<0.5,>=0.4.1->tensorboard<2.9,>=2.8->tensorflow->keras-rl2) (3.2.0)\n"
          ]
        }
      ]
    },
    {
      "cell_type": "code",
      "metadata": {
        "id": "XMIHLgQ3Z-lF",
        "colab": {
          "base_uri": "https://localhost:8080/"
        },
        "outputId": "3d5a8608-456f-4127-ce8a-f551e5f4e4f3"
      },
      "source": [
        "!pip install gym"
      ],
      "execution_count": 58,
      "outputs": [
        {
          "output_type": "stream",
          "name": "stdout",
          "text": [
            "Requirement already satisfied: gym in /usr/local/lib/python3.7/dist-packages (0.17.3)\n",
            "Requirement already satisfied: numpy>=1.10.4 in /usr/local/lib/python3.7/dist-packages (from gym) (1.21.5)\n",
            "Requirement already satisfied: scipy in /usr/local/lib/python3.7/dist-packages (from gym) (1.4.1)\n",
            "Requirement already satisfied: pyglet<=1.5.0,>=1.4.0 in /usr/local/lib/python3.7/dist-packages (from gym) (1.5.0)\n",
            "Requirement already satisfied: cloudpickle<1.7.0,>=1.2.0 in /usr/local/lib/python3.7/dist-packages (from gym) (1.3.0)\n",
            "Requirement already satisfied: future in /usr/local/lib/python3.7/dist-packages (from pyglet<=1.5.0,>=1.4.0->gym) (0.16.0)\n"
          ]
        }
      ]
    },
    {
      "cell_type": "code",
      "metadata": {
        "id": "M0AMLzq08ap0",
        "colab": {
          "base_uri": "https://localhost:8080/"
        },
        "outputId": "77b380e1-6c3d-4bce-8233-a8ac01deaf26"
      },
      "source": [
        "# load the gym module\n",
        "import gym\n",
        "import matplotlib.pyplot as plt\n",
        "# import the usual Keras modules for creating deep neural networks\n",
        "from keras import Sequential\n",
        "from keras.layers import Input, Flatten, Dense\n",
        "!pip install Adam\n",
        "#from keras.optimizers import Adam\n",
        "from tensorflow.keras.optimizers import Adam\n",
        "ENV_NAME = 'CartPole-v0'\n",
        "env = gym.make(ENV_NAME)"
      ],
      "execution_count": 62,
      "outputs": [
        {
          "output_type": "stream",
          "name": "stdout",
          "text": [
            "Requirement already satisfied: Adam in /usr/local/lib/python3.7/dist-packages (0.0.0.dev0)\n"
          ]
        }
      ]
    },
    {
      "cell_type": "markdown",
      "metadata": {
        "id": "ll6bNdUm54WS"
      },
      "source": [
        "Implementation of DQN for CartPole, applying policy BoltzmannQPolicy"
      ]
    },
    {
      "cell_type": "markdown",
      "metadata": {
        "id": "RSCrPKNy40PC"
      },
      "source": [
        "##Implement DQN with BoltzmannGumbelQPolicy"
      ]
    },
    {
      "cell_type": "code",
      "metadata": {
        "id": "efM9jkXr5A3c",
        "colab": {
          "base_uri": "https://localhost:8080/",
          "height": 1000
        },
        "outputId": "c18111bd-aa64-4439-c5c4-048d83225ff2"
      },
      "source": [
        "import rl\n",
        "from rl.memory import SequentialMemory  # import the exerience replay buffer module\n",
        "from rl.policy import BoltzmannGumbelQPolicy\n",
        "from rl.policy import LinearAnnealedPolicy\n",
        "from rl.policy import EpsGreedyQPolicy\n",
        "from rl.agents.dqn import DQNAgent      # import the DQN agent\n",
        "\n",
        "# setup experience replay buffer\n",
        "memory = SequentialMemory(limit=10000, window_length=1)\n",
        "\n",
        "policy = LinearAnnealedPolicy(EpsGreedyQPolicy(), \n",
        "                               attr='eps',            \n",
        "                               value_max=5.,\n",
        "                               value_min=.10, \n",
        "                               value_test=.05,\n",
        "                               nb_steps=20)\n",
        "# Q-Network\n",
        "model = Sequential()\n",
        "model.add(Input(shape=(1,env.observation_space.shape[0])))  # The input is 1 observation vector, and the number of observations in that vector \n",
        "model.add(Flatten())\n",
        "model.add(Dense(16, activation='relu'))\n",
        "# add extra layers here\n",
        "model.add(Dense(env.action_space.n, activation='linear'))   # the output is the number of actions in the action space\n",
        "\n",
        "print(model.summary())\n",
        "\n",
        "# define the agent\n",
        "dqn = DQNAgent(model=model, \n",
        "               nb_actions=env.action_space.n,\n",
        "               memory=memory,\n",
        "               nb_steps_warmup=20,\n",
        "               target_model_update=1e-2, \n",
        "               policy=policy) \n",
        "\n",
        "dqn.compile(Adam(lr=1e-3), metrics=['mae'])\n",
        "\n",
        "history = dqn.fit(env, nb_steps=8000, visualize=False, verbose=2)\n",
        "\n",
        "# summarize the history for number  of episode steps\n",
        "plt.plot(history.history['nb_episode_steps'])\n",
        "plt.ylabel('nb_episode_steps')\n",
        "plt.xlabel('episodes')\n",
        "plt.show()\n",
        "\n",
        "dqn.test(env, nb_episodes=20, visualize=False)"
      ],
      "execution_count": 94,
      "outputs": [
        {
          "output_type": "stream",
          "name": "stdout",
          "text": [
            "Model: \"sequential_45\"\n",
            "_________________________________________________________________\n",
            " Layer (type)                Output Shape              Param #   \n",
            "=================================================================\n",
            " flatten_43 (Flatten)        (None, 4)                 0         \n",
            "                                                                 \n",
            " dense_87 (Dense)            (None, 16)                80        \n",
            "                                                                 \n",
            " dense_88 (Dense)            (None, 2)                 34        \n",
            "                                                                 \n",
            "=================================================================\n",
            "Total params: 114\n",
            "Trainable params: 114\n",
            "Non-trainable params: 0\n",
            "_________________________________________________________________\n",
            "None\n"
          ]
        },
        {
          "output_type": "stream",
          "name": "stderr",
          "text": [
            "/usr/local/lib/python3.7/dist-packages/keras/optimizer_v2/adam.py:105: UserWarning: The `lr` argument is deprecated, use `learning_rate` instead.\n",
            "  super(Adam, self).__init__(name, **kwargs)\n"
          ]
        },
        {
          "output_type": "stream",
          "name": "stdout",
          "text": [
            "Training for 8000 steps ...\n"
          ]
        },
        {
          "output_type": "stream",
          "name": "stderr",
          "text": [
            "/usr/local/lib/python3.7/dist-packages/keras/engine/training_v1.py:2079: UserWarning: `Model.state_updates` will be removed in a future version. This property should not be used in TensorFlow 2.0, as `updates` are applied automatically.\n",
            "  updates=self.state_updates,\n"
          ]
        },
        {
          "output_type": "stream",
          "name": "stdout",
          "text": [
            "   19/8000: episode: 1, duration: 3.264s, episode steps:  19, steps per second:   6, episode reward: 19.000, mean reward:  1.000 [ 1.000,  1.000], mean action: 0.421 [0.000, 1.000],  loss: --, mae: --, mean_q: --, mean_eps: --\n"
          ]
        },
        {
          "output_type": "stream",
          "name": "stderr",
          "text": [
            "/usr/local/lib/python3.7/dist-packages/rl/memory.py:37: UserWarning: Not enough entries to sample without replacement. Consider increasing your warm-up phase to avoid oversampling!\n",
            "  warnings.warn('Not enough entries to sample without replacement. Consider increasing your warm-up phase to avoid oversampling!')\n",
            "/usr/local/lib/python3.7/dist-packages/keras/engine/training_v1.py:2079: UserWarning: `Model.state_updates` will be removed in a future version. This property should not be used in TensorFlow 2.0, as `updates` are applied automatically.\n",
            "  updates=self.state_updates,\n"
          ]
        },
        {
          "output_type": "stream",
          "name": "stdout",
          "text": [
            "   28/8000: episode: 2, duration: 8.994s, episode steps:   9, steps per second:   1, episode reward:  9.000, mean reward:  1.000 [ 1.000,  1.000], mean action: 0.222 [0.000, 1.000],  loss: 0.524706, mae: 0.540137, mean_q: 0.011674, mean_eps: 0.100000\n"
          ]
        },
        {
          "output_type": "stream",
          "name": "stderr",
          "text": [
            "/usr/local/lib/python3.7/dist-packages/rl/memory.py:37: UserWarning: Not enough entries to sample without replacement. Consider increasing your warm-up phase to avoid oversampling!\n",
            "  warnings.warn('Not enough entries to sample without replacement. Consider increasing your warm-up phase to avoid oversampling!')\n"
          ]
        },
        {
          "output_type": "stream",
          "name": "stdout",
          "text": [
            "   54/8000: episode: 3, duration: 0.436s, episode steps:  26, steps per second:  60, episode reward: 26.000, mean reward:  1.000 [ 1.000,  1.000], mean action: 0.308 [0.000, 1.000],  loss: 0.424747, mae: 0.503564, mean_q: 0.121969, mean_eps: 0.100000\n",
            "   91/8000: episode: 4, duration: 0.665s, episode steps:  37, steps per second:  56, episode reward: 37.000, mean reward:  1.000 [ 1.000,  1.000], mean action: 0.459 [0.000, 1.000],  loss: 0.306326, mae: 0.508106, mean_q: 0.314359, mean_eps: 0.100000\n",
            "  173/8000: episode: 5, duration: 1.406s, episode steps:  82, steps per second:  58, episode reward: 82.000, mean reward:  1.000 [ 1.000,  1.000], mean action: 0.476 [0.000, 1.000],  loss: 0.220062, mae: 0.567308, mean_q: 0.596579, mean_eps: 0.100000\n",
            "  233/8000: episode: 6, duration: 1.143s, episode steps:  60, steps per second:  52, episode reward: 60.000, mean reward:  1.000 [ 1.000,  1.000], mean action: 0.483 [0.000, 1.000],  loss: 0.149047, mae: 0.693354, mean_q: 1.010806, mean_eps: 0.100000\n",
            "  264/8000: episode: 7, duration: 0.614s, episode steps:  31, steps per second:  50, episode reward: 31.000, mean reward:  1.000 [ 1.000,  1.000], mean action: 0.484 [0.000, 1.000],  loss: 0.124581, mae: 0.800702, mean_q: 1.281349, mean_eps: 0.100000\n",
            "  289/8000: episode: 8, duration: 0.549s, episode steps:  25, steps per second:  46, episode reward: 25.000, mean reward:  1.000 [ 1.000,  1.000], mean action: 0.440 [0.000, 1.000],  loss: 0.110524, mae: 0.874857, mean_q: 1.474797, mean_eps: 0.100000\n",
            "  330/8000: episode: 9, duration: 0.700s, episode steps:  41, steps per second:  59, episode reward: 41.000, mean reward:  1.000 [ 1.000,  1.000], mean action: 0.439 [0.000, 1.000],  loss: 0.090160, mae: 0.963456, mean_q: 1.706603, mean_eps: 0.100000\n",
            "  356/8000: episode: 10, duration: 0.498s, episode steps:  26, steps per second:  52, episode reward: 26.000, mean reward:  1.000 [ 1.000,  1.000], mean action: 0.423 [0.000, 1.000],  loss: 0.123524, mae: 1.094528, mean_q: 1.960294, mean_eps: 0.100000\n",
            "  381/8000: episode: 11, duration: 0.411s, episode steps:  25, steps per second:  61, episode reward: 25.000, mean reward:  1.000 [ 1.000,  1.000], mean action: 0.360 [0.000, 1.000],  loss: 0.099533, mae: 1.169488, mean_q: 2.134762, mean_eps: 0.100000\n",
            "  445/8000: episode: 12, duration: 0.905s, episode steps:  64, steps per second:  71, episode reward: 64.000, mean reward:  1.000 [ 1.000,  1.000], mean action: 0.438 [0.000, 1.000],  loss: 0.106329, mae: 1.333376, mean_q: 2.487887, mean_eps: 0.100000\n",
            "  467/8000: episode: 13, duration: 0.310s, episode steps:  22, steps per second:  71, episode reward: 22.000, mean reward:  1.000 [ 1.000,  1.000], mean action: 0.409 [0.000, 1.000],  loss: 0.126048, mae: 1.486736, mean_q: 2.800783, mean_eps: 0.100000\n",
            "  505/8000: episode: 14, duration: 0.546s, episode steps:  38, steps per second:  70, episode reward: 38.000, mean reward:  1.000 [ 1.000,  1.000], mean action: 0.395 [0.000, 1.000],  loss: 0.132135, mae: 1.606098, mean_q: 3.041554, mean_eps: 0.100000\n",
            "  542/8000: episode: 15, duration: 0.527s, episode steps:  37, steps per second:  70, episode reward: 37.000, mean reward:  1.000 [ 1.000,  1.000], mean action: 0.486 [0.000, 1.000],  loss: 0.151550, mae: 1.754481, mean_q: 3.309405, mean_eps: 0.100000\n",
            "  563/8000: episode: 16, duration: 0.313s, episode steps:  21, steps per second:  67, episode reward: 21.000, mean reward:  1.000 [ 1.000,  1.000], mean action: 0.429 [0.000, 1.000],  loss: 0.146385, mae: 1.846802, mean_q: 3.530806, mean_eps: 0.100000\n",
            "  600/8000: episode: 17, duration: 0.584s, episode steps:  37, steps per second:  63, episode reward: 37.000, mean reward:  1.000 [ 1.000,  1.000], mean action: 0.486 [0.000, 1.000],  loss: 0.148538, mae: 1.958101, mean_q: 3.749878, mean_eps: 0.100000\n",
            "  669/8000: episode: 18, duration: 1.415s, episode steps:  69, steps per second:  49, episode reward: 69.000, mean reward:  1.000 [ 1.000,  1.000], mean action: 0.493 [0.000, 1.000],  loss: 0.142501, mae: 2.154166, mean_q: 4.154500, mean_eps: 0.100000\n",
            "  712/8000: episode: 19, duration: 0.959s, episode steps:  43, steps per second:  45, episode reward: 43.000, mean reward:  1.000 [ 1.000,  1.000], mean action: 0.512 [0.000, 1.000],  loss: 0.184808, mae: 2.379652, mean_q: 4.564467, mean_eps: 0.100000\n",
            "  767/8000: episode: 20, duration: 0.982s, episode steps:  55, steps per second:  56, episode reward: 55.000, mean reward:  1.000 [ 1.000,  1.000], mean action: 0.473 [0.000, 1.000],  loss: 0.180302, mae: 2.561878, mean_q: 4.961955, mean_eps: 0.100000\n",
            "  809/8000: episode: 21, duration: 0.731s, episode steps:  42, steps per second:  57, episode reward: 42.000, mean reward:  1.000 [ 1.000,  1.000], mean action: 0.524 [0.000, 1.000],  loss: 0.168984, mae: 2.753744, mean_q: 5.390101, mean_eps: 0.100000\n",
            "  847/8000: episode: 22, duration: 0.576s, episode steps:  38, steps per second:  66, episode reward: 38.000, mean reward:  1.000 [ 1.000,  1.000], mean action: 0.526 [0.000, 1.000],  loss: 0.248508, mae: 2.904933, mean_q: 5.623265, mean_eps: 0.100000\n",
            "  922/8000: episode: 23, duration: 1.393s, episode steps:  75, steps per second:  54, episode reward: 75.000, mean reward:  1.000 [ 1.000,  1.000], mean action: 0.533 [0.000, 1.000],  loss: 0.239403, mae: 3.113479, mean_q: 6.065963, mean_eps: 0.100000\n",
            "  972/8000: episode: 24, duration: 0.911s, episode steps:  50, steps per second:  55, episode reward: 50.000, mean reward:  1.000 [ 1.000,  1.000], mean action: 0.520 [0.000, 1.000],  loss: 0.246381, mae: 3.332330, mean_q: 6.522060, mean_eps: 0.100000\n",
            " 1000/8000: episode: 25, duration: 0.411s, episode steps:  28, steps per second:  68, episode reward: 28.000, mean reward:  1.000 [ 1.000,  1.000], mean action: 0.571 [0.000, 1.000],  loss: 0.219995, mae: 3.485254, mean_q: 6.874854, mean_eps: 0.100000\n",
            " 1013/8000: episode: 26, duration: 0.186s, episode steps:  13, steps per second:  70, episode reward: 13.000, mean reward:  1.000 [ 1.000,  1.000], mean action: 0.538 [0.000, 1.000],  loss: 0.158121, mae: 3.582165, mean_q: 7.126917, mean_eps: 0.100000\n",
            " 1028/8000: episode: 27, duration: 0.250s, episode steps:  15, steps per second:  60, episode reward: 15.000, mean reward:  1.000 [ 1.000,  1.000], mean action: 0.600 [0.000, 1.000],  loss: 0.242791, mae: 3.640309, mean_q: 7.193135, mean_eps: 0.100000\n",
            " 1038/8000: episode: 28, duration: 0.217s, episode steps:  10, steps per second:  46, episode reward: 10.000, mean reward:  1.000 [ 1.000,  1.000], mean action: 0.700 [0.000, 1.000],  loss: 0.400608, mae: 3.730382, mean_q: 7.301094, mean_eps: 0.100000\n",
            " 1053/8000: episode: 29, duration: 0.311s, episode steps:  15, steps per second:  48, episode reward: 15.000, mean reward:  1.000 [ 1.000,  1.000], mean action: 0.667 [0.000, 1.000],  loss: 0.562579, mae: 3.784424, mean_q: 7.377556, mean_eps: 0.100000\n",
            " 1067/8000: episode: 30, duration: 0.255s, episode steps:  14, steps per second:  55, episode reward: 14.000, mean reward:  1.000 [ 1.000,  1.000], mean action: 0.643 [0.000, 1.000],  loss: 0.388140, mae: 3.852654, mean_q: 7.556523, mean_eps: 0.100000\n",
            " 1077/8000: episode: 31, duration: 0.197s, episode steps:  10, steps per second:  51, episode reward: 10.000, mean reward:  1.000 [ 1.000,  1.000], mean action: 0.600 [0.000, 1.000],  loss: 0.444981, mae: 3.906704, mean_q: 7.691325, mean_eps: 0.100000\n",
            " 1090/8000: episode: 32, duration: 0.216s, episode steps:  13, steps per second:  60, episode reward: 13.000, mean reward:  1.000 [ 1.000,  1.000], mean action: 0.615 [0.000, 1.000],  loss: 0.626542, mae: 3.958379, mean_q: 7.660735, mean_eps: 0.100000\n",
            " 1122/8000: episode: 33, duration: 0.462s, episode steps:  32, steps per second:  69, episode reward: 32.000, mean reward:  1.000 [ 1.000,  1.000], mean action: 0.531 [0.000, 1.000],  loss: 0.873445, mae: 4.079582, mean_q: 7.747256, mean_eps: 0.100000\n",
            " 1149/8000: episode: 34, duration: 0.449s, episode steps:  27, steps per second:  60, episode reward: 27.000, mean reward:  1.000 [ 1.000,  1.000], mean action: 0.556 [0.000, 1.000],  loss: 0.766497, mae: 4.156694, mean_q: 7.954491, mean_eps: 0.100000\n",
            " 1169/8000: episode: 35, duration: 0.515s, episode steps:  20, steps per second:  39, episode reward: 20.000, mean reward:  1.000 [ 1.000,  1.000], mean action: 0.550 [0.000, 1.000],  loss: 0.614850, mae: 4.214898, mean_q: 8.190656, mean_eps: 0.100000\n",
            " 1194/8000: episode: 36, duration: 0.534s, episode steps:  25, steps per second:  47, episode reward: 25.000, mean reward:  1.000 [ 1.000,  1.000], mean action: 0.520 [0.000, 1.000],  loss: 0.600065, mae: 4.294534, mean_q: 8.369883, mean_eps: 0.100000\n",
            " 1218/8000: episode: 37, duration: 0.345s, episode steps:  24, steps per second:  70, episode reward: 24.000, mean reward:  1.000 [ 1.000,  1.000], mean action: 0.500 [0.000, 1.000],  loss: 0.805350, mae: 4.434208, mean_q: 8.577725, mean_eps: 0.100000\n",
            " 1239/8000: episode: 38, duration: 0.304s, episode steps:  21, steps per second:  69, episode reward: 21.000, mean reward:  1.000 [ 1.000,  1.000], mean action: 0.524 [0.000, 1.000],  loss: 0.711534, mae: 4.514940, mean_q: 8.684896, mean_eps: 0.100000\n",
            " 1258/8000: episode: 39, duration: 0.310s, episode steps:  19, steps per second:  61, episode reward: 19.000, mean reward:  1.000 [ 1.000,  1.000], mean action: 0.526 [0.000, 1.000],  loss: 0.907007, mae: 4.587096, mean_q: 8.911264, mean_eps: 0.100000\n",
            " 1291/8000: episode: 40, duration: 0.709s, episode steps:  33, steps per second:  47, episode reward: 33.000, mean reward:  1.000 [ 1.000,  1.000], mean action: 0.485 [0.000, 1.000],  loss: 0.803643, mae: 4.673114, mean_q: 9.025262, mean_eps: 0.100000\n",
            " 1321/8000: episode: 41, duration: 0.542s, episode steps:  30, steps per second:  55, episode reward: 30.000, mean reward:  1.000 [ 1.000,  1.000], mean action: 0.500 [0.000, 1.000],  loss: 0.764723, mae: 4.768435, mean_q: 9.206950, mean_eps: 0.100000\n",
            " 1344/8000: episode: 42, duration: 0.351s, episode steps:  23, steps per second:  65, episode reward: 23.000, mean reward:  1.000 [ 1.000,  1.000], mean action: 0.522 [0.000, 1.000],  loss: 0.933931, mae: 4.883842, mean_q: 9.444871, mean_eps: 0.100000\n",
            " 1385/8000: episode: 43, duration: 0.632s, episode steps:  41, steps per second:  65, episode reward: 41.000, mean reward:  1.000 [ 1.000,  1.000], mean action: 0.537 [0.000, 1.000],  loss: 0.879636, mae: 4.984996, mean_q: 9.665339, mean_eps: 0.100000\n",
            " 1402/8000: episode: 44, duration: 0.264s, episode steps:  17, steps per second:  64, episode reward: 17.000, mean reward:  1.000 [ 1.000,  1.000], mean action: 0.588 [0.000, 1.000],  loss: 1.432050, mae: 5.136274, mean_q: 9.798856, mean_eps: 0.100000\n",
            " 1418/8000: episode: 45, duration: 0.234s, episode steps:  16, steps per second:  68, episode reward: 16.000, mean reward:  1.000 [ 1.000,  1.000], mean action: 0.625 [0.000, 1.000],  loss: 0.878613, mae: 5.110284, mean_q: 9.879433, mean_eps: 0.100000\n",
            " 1431/8000: episode: 46, duration: 0.211s, episode steps:  13, steps per second:  62, episode reward: 13.000, mean reward:  1.000 [ 1.000,  1.000], mean action: 0.615 [0.000, 1.000],  loss: 1.194577, mae: 5.216385, mean_q: 10.056012, mean_eps: 0.100000\n",
            " 1448/8000: episode: 47, duration: 0.282s, episode steps:  17, steps per second:  60, episode reward: 17.000, mean reward:  1.000 [ 1.000,  1.000], mean action: 0.529 [0.000, 1.000],  loss: 1.502193, mae: 5.290425, mean_q: 10.052621, mean_eps: 0.100000\n",
            " 1469/8000: episode: 48, duration: 0.325s, episode steps:  21, steps per second:  65, episode reward: 21.000, mean reward:  1.000 [ 1.000,  1.000], mean action: 0.571 [0.000, 1.000],  loss: 1.620875, mae: 5.328230, mean_q: 10.112063, mean_eps: 0.100000\n",
            " 1522/8000: episode: 49, duration: 1.000s, episode steps:  53, steps per second:  53, episode reward: 53.000, mean reward:  1.000 [ 1.000,  1.000], mean action: 0.509 [0.000, 1.000],  loss: 0.945669, mae: 5.375254, mean_q: 10.451795, mean_eps: 0.100000\n",
            " 1592/8000: episode: 50, duration: 1.254s, episode steps:  70, steps per second:  56, episode reward: 70.000, mean reward:  1.000 [ 1.000,  1.000], mean action: 0.557 [0.000, 1.000],  loss: 1.220418, mae: 5.597126, mean_q: 10.814997, mean_eps: 0.100000\n",
            " 1660/8000: episode: 51, duration: 1.389s, episode steps:  68, steps per second:  49, episode reward: 68.000, mean reward:  1.000 [ 1.000,  1.000], mean action: 0.529 [0.000, 1.000],  loss: 1.125727, mae: 5.786907, mean_q: 11.227366, mean_eps: 0.100000\n",
            " 1711/8000: episode: 52, duration: 1.060s, episode steps:  51, steps per second:  48, episode reward: 51.000, mean reward:  1.000 [ 1.000,  1.000], mean action: 0.549 [0.000, 1.000],  loss: 1.048981, mae: 5.942208, mean_q: 11.571077, mean_eps: 0.100000\n",
            " 1770/8000: episode: 53, duration: 1.095s, episode steps:  59, steps per second:  54, episode reward: 59.000, mean reward:  1.000 [ 1.000,  1.000], mean action: 0.559 [0.000, 1.000],  loss: 1.473902, mae: 6.135297, mean_q: 11.851129, mean_eps: 0.100000\n",
            " 1838/8000: episode: 54, duration: 1.026s, episode steps:  68, steps per second:  66, episode reward: 68.000, mean reward:  1.000 [ 1.000,  1.000], mean action: 0.471 [0.000, 1.000],  loss: 1.677317, mae: 6.293076, mean_q: 12.105553, mean_eps: 0.100000\n",
            " 1912/8000: episode: 55, duration: 1.125s, episode steps:  74, steps per second:  66, episode reward: 74.000, mean reward:  1.000 [ 1.000,  1.000], mean action: 0.541 [0.000, 1.000],  loss: 1.626822, mae: 6.495965, mean_q: 12.590429, mean_eps: 0.100000\n",
            " 1942/8000: episode: 56, duration: 0.456s, episode steps:  30, steps per second:  66, episode reward: 30.000, mean reward:  1.000 [ 1.000,  1.000], mean action: 0.533 [0.000, 1.000],  loss: 1.213697, mae: 6.596680, mean_q: 12.886324, mean_eps: 0.100000\n",
            " 1992/8000: episode: 57, duration: 0.800s, episode steps:  50, steps per second:  62, episode reward: 50.000, mean reward:  1.000 [ 1.000,  1.000], mean action: 0.540 [0.000, 1.000],  loss: 1.786340, mae: 6.730386, mean_q: 13.036598, mean_eps: 0.100000\n",
            " 2047/8000: episode: 58, duration: 0.938s, episode steps:  55, steps per second:  59, episode reward: 55.000, mean reward:  1.000 [ 1.000,  1.000], mean action: 0.527 [0.000, 1.000],  loss: 1.732545, mae: 6.875081, mean_q: 13.347683, mean_eps: 0.100000\n",
            " 2113/8000: episode: 59, duration: 1.218s, episode steps:  66, steps per second:  54, episode reward: 66.000, mean reward:  1.000 [ 1.000,  1.000], mean action: 0.530 [0.000, 1.000],  loss: 1.525199, mae: 7.040447, mean_q: 13.805329, mean_eps: 0.100000\n",
            " 2174/8000: episode: 60, duration: 1.001s, episode steps:  61, steps per second:  61, episode reward: 61.000, mean reward:  1.000 [ 1.000,  1.000], mean action: 0.541 [0.000, 1.000],  loss: 1.569349, mae: 7.222356, mean_q: 14.162124, mean_eps: 0.100000\n",
            " 2213/8000: episode: 61, duration: 0.789s, episode steps:  39, steps per second:  49, episode reward: 39.000, mean reward:  1.000 [ 1.000,  1.000], mean action: 0.487 [0.000, 1.000],  loss: 1.719467, mae: 7.356610, mean_q: 14.425870, mean_eps: 0.100000\n",
            " 2269/8000: episode: 62, duration: 1.435s, episode steps:  56, steps per second:  39, episode reward: 56.000, mean reward:  1.000 [ 1.000,  1.000], mean action: 0.536 [0.000, 1.000],  loss: 1.842782, mae: 7.463594, mean_q: 14.602456, mean_eps: 0.100000\n",
            " 2310/8000: episode: 63, duration: 0.944s, episode steps:  41, steps per second:  43, episode reward: 41.000, mean reward:  1.000 [ 1.000,  1.000], mean action: 0.537 [0.000, 1.000],  loss: 1.421699, mae: 7.594543, mean_q: 14.946790, mean_eps: 0.100000\n",
            " 2385/8000: episode: 64, duration: 1.798s, episode steps:  75, steps per second:  42, episode reward: 75.000, mean reward:  1.000 [ 1.000,  1.000], mean action: 0.520 [0.000, 1.000],  loss: 2.066970, mae: 7.782010, mean_q: 15.222962, mean_eps: 0.100000\n",
            " 2416/8000: episode: 65, duration: 0.709s, episode steps:  31, steps per second:  44, episode reward: 31.000, mean reward:  1.000 [ 1.000,  1.000], mean action: 0.548 [0.000, 1.000],  loss: 1.935125, mae: 7.932127, mean_q: 15.519814, mean_eps: 0.100000\n",
            " 2484/8000: episode: 66, duration: 1.658s, episode steps:  68, steps per second:  41, episode reward: 68.000, mean reward:  1.000 [ 1.000,  1.000], mean action: 0.529 [0.000, 1.000],  loss: 2.476517, mae: 8.081258, mean_q: 15.692053, mean_eps: 0.100000\n",
            " 2549/8000: episode: 67, duration: 1.123s, episode steps:  65, steps per second:  58, episode reward: 65.000, mean reward:  1.000 [ 1.000,  1.000], mean action: 0.554 [0.000, 1.000],  loss: 1.878823, mae: 8.213520, mean_q: 16.114344, mean_eps: 0.100000\n",
            " 2619/8000: episode: 68, duration: 1.102s, episode steps:  70, steps per second:  64, episode reward: 70.000, mean reward:  1.000 [ 1.000,  1.000], mean action: 0.457 [0.000, 1.000],  loss: 1.759914, mae: 8.385977, mean_q: 16.553084, mean_eps: 0.100000\n",
            " 2678/8000: episode: 69, duration: 0.859s, episode steps:  59, steps per second:  69, episode reward: 59.000, mean reward:  1.000 [ 1.000,  1.000], mean action: 0.458 [0.000, 1.000],  loss: 2.513534, mae: 8.573362, mean_q: 16.764866, mean_eps: 0.100000\n",
            " 2744/8000: episode: 70, duration: 0.989s, episode steps:  66, steps per second:  67, episode reward: 66.000, mean reward:  1.000 [ 1.000,  1.000], mean action: 0.515 [0.000, 1.000],  loss: 2.098074, mae: 8.734727, mean_q: 17.184999, mean_eps: 0.100000\n",
            " 2812/8000: episode: 71, duration: 1.519s, episode steps:  68, steps per second:  45, episode reward: 68.000, mean reward:  1.000 [ 1.000,  1.000], mean action: 0.529 [0.000, 1.000],  loss: 1.777728, mae: 8.892977, mean_q: 17.557657, mean_eps: 0.100000\n",
            " 2850/8000: episode: 72, duration: 0.928s, episode steps:  38, steps per second:  41, episode reward: 38.000, mean reward:  1.000 [ 1.000,  1.000], mean action: 0.553 [0.000, 1.000],  loss: 2.952167, mae: 9.092498, mean_q: 17.754431, mean_eps: 0.100000\n",
            " 2901/8000: episode: 73, duration: 1.084s, episode steps:  51, steps per second:  47, episode reward: 51.000, mean reward:  1.000 [ 1.000,  1.000], mean action: 0.549 [0.000, 1.000],  loss: 2.378598, mae: 9.167298, mean_q: 18.029493, mean_eps: 0.100000\n",
            " 2955/8000: episode: 74, duration: 1.046s, episode steps:  54, steps per second:  52, episode reward: 54.000, mean reward:  1.000 [ 1.000,  1.000], mean action: 0.537 [0.000, 1.000],  loss: 3.081175, mae: 9.340893, mean_q: 18.237344, mean_eps: 0.100000\n",
            " 3004/8000: episode: 75, duration: 0.699s, episode steps:  49, steps per second:  70, episode reward: 49.000, mean reward:  1.000 [ 1.000,  1.000], mean action: 0.531 [0.000, 1.000],  loss: 2.300947, mae: 9.437764, mean_q: 18.575767, mean_eps: 0.100000\n",
            " 3127/8000: episode: 76, duration: 2.234s, episode steps: 123, steps per second:  55, episode reward: 123.000, mean reward:  1.000 [ 1.000,  1.000], mean action: 0.463 [0.000, 1.000],  loss: 2.275024, mae: 9.654492, mean_q: 19.044026, mean_eps: 0.100000\n",
            " 3238/8000: episode: 77, duration: 2.475s, episode steps: 111, steps per second:  45, episode reward: 111.000, mean reward:  1.000 [ 1.000,  1.000], mean action: 0.568 [0.000, 1.000],  loss: 2.965719, mae: 9.993225, mean_q: 19.608764, mean_eps: 0.100000\n",
            " 3359/8000: episode: 78, duration: 2.526s, episode steps: 121, steps per second:  48, episode reward: 121.000, mean reward:  1.000 [ 1.000,  1.000], mean action: 0.554 [0.000, 1.000],  loss: 2.994618, mae: 10.132931, mean_q: 19.937635, mean_eps: 0.100000\n",
            " 3470/8000: episode: 79, duration: 2.598s, episode steps: 111, steps per second:  43, episode reward: 111.000, mean reward:  1.000 [ 1.000,  1.000], mean action: 0.559 [0.000, 1.000],  loss: 3.054525, mae: 10.223990, mean_q: 20.152316, mean_eps: 0.100000\n",
            " 3550/8000: episode: 80, duration: 1.416s, episode steps:  80, steps per second:  56, episode reward: 80.000, mean reward:  1.000 [ 1.000,  1.000], mean action: 0.525 [0.000, 1.000],  loss: 2.439163, mae: 10.259728, mean_q: 20.301841, mean_eps: 0.100000\n",
            " 3622/8000: episode: 81, duration: 1.675s, episode steps:  72, steps per second:  43, episode reward: 72.000, mean reward:  1.000 [ 1.000,  1.000], mean action: 0.528 [0.000, 1.000],  loss: 2.238278, mae: 10.543878, mean_q: 20.906835, mean_eps: 0.100000\n",
            " 3677/8000: episode: 82, duration: 1.446s, episode steps:  55, steps per second:  38, episode reward: 55.000, mean reward:  1.000 [ 1.000,  1.000], mean action: 0.545 [0.000, 1.000],  loss: 3.253317, mae: 10.776298, mean_q: 21.308679, mean_eps: 0.100000\n",
            " 3808/8000: episode: 83, duration: 2.744s, episode steps: 131, steps per second:  48, episode reward: 131.000, mean reward:  1.000 [ 1.000,  1.000], mean action: 0.443 [0.000, 1.000],  loss: 3.088846, mae: 11.000796, mean_q: 21.753601, mean_eps: 0.100000\n",
            " 3867/8000: episode: 84, duration: 1.196s, episode steps:  59, steps per second:  49, episode reward: 59.000, mean reward:  1.000 [ 1.000,  1.000], mean action: 0.559 [0.000, 1.000],  loss: 3.725546, mae: 11.420370, mean_q: 22.584314, mean_eps: 0.100000\n",
            " 3977/8000: episode: 85, duration: 1.728s, episode steps: 110, steps per second:  64, episode reward: 110.000, mean reward:  1.000 [ 1.000,  1.000], mean action: 0.564 [0.000, 1.000],  loss: 3.987449, mae: 11.518918, mean_q: 22.667950, mean_eps: 0.100000\n",
            " 4018/8000: episode: 86, duration: 0.658s, episode steps:  41, steps per second:  62, episode reward: 41.000, mean reward:  1.000 [ 1.000,  1.000], mean action: 0.561 [0.000, 1.000],  loss: 3.194656, mae: 11.579116, mean_q: 22.864818, mean_eps: 0.100000\n",
            " 4086/8000: episode: 87, duration: 1.456s, episode steps:  68, steps per second:  47, episode reward: 68.000, mean reward:  1.000 [ 1.000,  1.000], mean action: 0.529 [0.000, 1.000],  loss: 2.578988, mae: 11.621083, mean_q: 23.016123, mean_eps: 0.100000\n",
            " 4199/8000: episode: 88, duration: 2.279s, episode steps: 113, steps per second:  50, episode reward: 113.000, mean reward:  1.000 [ 1.000,  1.000], mean action: 0.558 [0.000, 1.000],  loss: 4.476217, mae: 11.910821, mean_q: 23.412743, mean_eps: 0.100000\n",
            " 4369/8000: episode: 89, duration: 3.187s, episode steps: 170, steps per second:  53, episode reward: 170.000, mean reward:  1.000 [ 1.000,  1.000], mean action: 0.476 [0.000, 1.000],  loss: 4.602248, mae: 12.045211, mean_q: 23.675034, mean_eps: 0.100000\n",
            " 4440/8000: episode: 90, duration: 1.367s, episode steps:  71, steps per second:  52, episode reward: 71.000, mean reward:  1.000 [ 1.000,  1.000], mean action: 0.465 [0.000, 1.000],  loss: 3.285871, mae: 12.321090, mean_q: 24.405596, mean_eps: 0.100000\n",
            " 4562/8000: episode: 91, duration: 2.123s, episode steps: 122, steps per second:  57, episode reward: 122.000, mean reward:  1.000 [ 1.000,  1.000], mean action: 0.549 [0.000, 1.000],  loss: 4.646311, mae: 12.487803, mean_q: 24.584718, mean_eps: 0.100000\n",
            " 4762/8000: episode: 92, duration: 4.048s, episode steps: 200, steps per second:  49, episode reward: 200.000, mean reward:  1.000 [ 1.000,  1.000], mean action: 0.515 [0.000, 1.000],  loss: 4.742721, mae: 12.666734, mean_q: 25.017113, mean_eps: 0.100000\n",
            " 4885/8000: episode: 93, duration: 2.079s, episode steps: 123, steps per second:  59, episode reward: 123.000, mean reward:  1.000 [ 1.000,  1.000], mean action: 0.463 [0.000, 1.000],  loss: 3.946900, mae: 13.011724, mean_q: 25.825620, mean_eps: 0.100000\n",
            " 5011/8000: episode: 94, duration: 2.292s, episode steps: 126, steps per second:  55, episode reward: 126.000, mean reward:  1.000 [ 1.000,  1.000], mean action: 0.532 [0.000, 1.000],  loss: 4.320570, mae: 13.276404, mean_q: 26.288985, mean_eps: 0.100000\n",
            " 5148/8000: episode: 95, duration: 1.910s, episode steps: 137, steps per second:  72, episode reward: 137.000, mean reward:  1.000 [ 1.000,  1.000], mean action: 0.533 [0.000, 1.000],  loss: 4.184520, mae: 13.433032, mean_q: 26.615249, mean_eps: 0.100000\n",
            " 5288/8000: episode: 96, duration: 2.783s, episode steps: 140, steps per second:  50, episode reward: 140.000, mean reward:  1.000 [ 1.000,  1.000], mean action: 0.529 [0.000, 1.000],  loss: 4.383952, mae: 13.513079, mean_q: 26.785884, mean_eps: 0.100000\n",
            " 5449/8000: episode: 97, duration: 3.330s, episode steps: 161, steps per second:  48, episode reward: 161.000, mean reward:  1.000 [ 1.000,  1.000], mean action: 0.528 [0.000, 1.000],  loss: 4.619278, mae: 13.721297, mean_q: 27.132010, mean_eps: 0.100000\n",
            " 5570/8000: episode: 98, duration: 1.800s, episode steps: 121, steps per second:  67, episode reward: 121.000, mean reward:  1.000 [ 1.000,  1.000], mean action: 0.537 [0.000, 1.000],  loss: 4.078060, mae: 13.953051, mean_q: 27.700203, mean_eps: 0.100000\n",
            " 5712/8000: episode: 99, duration: 2.132s, episode steps: 142, steps per second:  67, episode reward: 142.000, mean reward:  1.000 [ 1.000,  1.000], mean action: 0.535 [0.000, 1.000],  loss: 5.210052, mae: 14.002823, mean_q: 27.745718, mean_eps: 0.100000\n",
            " 5840/8000: episode: 100, duration: 2.160s, episode steps: 128, steps per second:  59, episode reward: 128.000, mean reward:  1.000 [ 1.000,  1.000], mean action: 0.539 [0.000, 1.000],  loss: 5.212309, mae: 14.168494, mean_q: 28.072790, mean_eps: 0.100000\n",
            " 5994/8000: episode: 101, duration: 2.615s, episode steps: 154, steps per second:  59, episode reward: 154.000, mean reward:  1.000 [ 1.000,  1.000], mean action: 0.526 [0.000, 1.000],  loss: 5.111608, mae: 14.318101, mean_q: 28.400548, mean_eps: 0.100000\n",
            " 6153/8000: episode: 102, duration: 2.562s, episode steps: 159, steps per second:  62, episode reward: 159.000, mean reward:  1.000 [ 1.000,  1.000], mean action: 0.522 [0.000, 1.000],  loss: 4.127218, mae: 14.511913, mean_q: 28.907809, mean_eps: 0.100000\n",
            " 6263/8000: episode: 103, duration: 1.576s, episode steps: 110, steps per second:  70, episode reward: 110.000, mean reward:  1.000 [ 1.000,  1.000], mean action: 0.455 [0.000, 1.000],  loss: 4.569267, mae: 14.791883, mean_q: 29.474398, mean_eps: 0.100000\n",
            " 6463/8000: episode: 104, duration: 3.419s, episode steps: 200, steps per second:  58, episode reward: 200.000, mean reward:  1.000 [ 1.000,  1.000], mean action: 0.515 [0.000, 1.000],  loss: 4.944453, mae: 15.133920, mean_q: 30.094181, mean_eps: 0.100000\n",
            " 6638/8000: episode: 105, duration: 2.602s, episode steps: 175, steps per second:  67, episode reward: 175.000, mean reward:  1.000 [ 1.000,  1.000], mean action: 0.520 [0.000, 1.000],  loss: 5.274141, mae: 15.291953, mean_q: 30.398299, mean_eps: 0.100000\n",
            " 6778/8000: episode: 106, duration: 1.977s, episode steps: 140, steps per second:  71, episode reward: 140.000, mean reward:  1.000 [ 1.000,  1.000], mean action: 0.529 [0.000, 1.000],  loss: 5.063623, mae: 15.567932, mean_q: 30.947670, mean_eps: 0.100000\n",
            " 6978/8000: episode: 107, duration: 2.752s, episode steps: 200, steps per second:  73, episode reward: 200.000, mean reward:  1.000 [ 1.000,  1.000], mean action: 0.515 [0.000, 1.000],  loss: 3.882870, mae: 15.759525, mean_q: 31.494128, mean_eps: 0.100000\n",
            " 7111/8000: episode: 108, duration: 1.920s, episode steps: 133, steps per second:  69, episode reward: 133.000, mean reward:  1.000 [ 1.000,  1.000], mean action: 0.534 [0.000, 1.000],  loss: 5.543297, mae: 16.014947, mean_q: 31.854369, mean_eps: 0.100000\n",
            " 7285/8000: episode: 109, duration: 2.510s, episode steps: 174, steps per second:  69, episode reward: 174.000, mean reward:  1.000 [ 1.000,  1.000], mean action: 0.517 [0.000, 1.000],  loss: 5.612476, mae: 16.278243, mean_q: 32.424284, mean_eps: 0.100000\n",
            " 7485/8000: episode: 110, duration: 2.923s, episode steps: 200, steps per second:  68, episode reward: 200.000, mean reward:  1.000 [ 1.000,  1.000], mean action: 0.515 [0.000, 1.000],  loss: 5.841666, mae: 16.527725, mean_q: 32.951759, mean_eps: 0.100000\n",
            " 7652/8000: episode: 111, duration: 2.400s, episode steps: 167, steps per second:  70, episode reward: 167.000, mean reward:  1.000 [ 1.000,  1.000], mean action: 0.521 [0.000, 1.000],  loss: 6.393217, mae: 16.803579, mean_q: 33.450225, mean_eps: 0.100000\n",
            " 7830/8000: episode: 112, duration: 2.587s, episode steps: 178, steps per second:  69, episode reward: 178.000, mean reward:  1.000 [ 1.000,  1.000], mean action: 0.522 [0.000, 1.000],  loss: 4.677434, mae: 17.005956, mean_q: 33.982452, mean_eps: 0.100000\n",
            " 7940/8000: episode: 113, duration: 1.577s, episode steps: 110, steps per second:  70, episode reward: 110.000, mean reward:  1.000 [ 1.000,  1.000], mean action: 0.455 [0.000, 1.000],  loss: 4.900972, mae: 17.139281, mean_q: 34.322534, mean_eps: 0.100000\n",
            "done, took 152.448 seconds\n"
          ]
        },
        {
          "output_type": "display_data",
          "data": {
            "text/plain": [
              "<Figure size 432x288 with 1 Axes>"
            ],
            "image/png": "[encoded data removed]"
          },
          "metadata": {
            "needs_background": "light"
          }
        },
        {
          "output_type": "stream",
          "name": "stdout",
          "text": [
            "Testing for 20 episodes ...\n",
            "Episode 1: reward: 166.000, steps: 166\n",
            "Episode 2: reward: 200.000, steps: 200\n",
            "Episode 3: reward: 166.000, steps: 166\n",
            "Episode 4: reward: 183.000, steps: 183\n",
            "Episode 5: reward: 189.000, steps: 189\n",
            "Episode 6: reward: 171.000, steps: 171\n",
            "Episode 7: reward: 172.000, steps: 172\n",
            "Episode 8: reward: 170.000, steps: 170\n",
            "Episode 9: reward: 174.000, steps: 174\n",
            "Episode 10: reward: 190.000, steps: 190\n",
            "Episode 11: reward: 200.000, steps: 200\n",
            "Episode 12: reward: 171.000, steps: 171\n",
            "Episode 13: reward: 158.000, steps: 158\n",
            "Episode 14: reward: 200.000, steps: 200\n",
            "Episode 15: reward: 178.000, steps: 178\n",
            "Episode 16: reward: 179.000, steps: 179\n",
            "Episode 17: reward: 200.000, steps: 200\n",
            "Episode 18: reward: 200.000, steps: 200\n",
            "Episode 19: reward: 184.000, steps: 184\n",
            "Episode 20: reward: 184.000, steps: 184\n"
          ]
        },
        {
          "output_type": "execute_result",
          "data": {
            "text/plain": [
              "<keras.callbacks.History at 0x7fb170954dd0>"
            ]
          },
          "metadata": {},
          "execution_count": 94
        }
      ]
    }
  ]
}