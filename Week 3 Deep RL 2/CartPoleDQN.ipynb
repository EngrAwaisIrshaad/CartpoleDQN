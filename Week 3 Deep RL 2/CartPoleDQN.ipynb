{
  "nbformat": 4,
  "nbformat_minor": 0,
  "metadata": {
    "colab": {
      "name": "CartPoleDQN.ipynb",
      "provenance": [],
      "collapsed_sections": [],
      "include_colab_link": true
    },
    "kernelspec": {
      "name": "python3",
      "display_name": "Python 3"
    }
  },
  "cells": [
    {
      "cell_type": "markdown",
      "metadata": {
        "id": "view-in-github",
        "colab_type": "text"
      },
      "source": [
        "<a href=\"https://colab.research.google.com/github/Megacity1/CartpoleDQN/blob/main/Week%203%20Deep%20RL%202/CartPoleDQN.ipynb\" target=\"_parent\"><img src=\"https://colab.research.google.com/assets/colab-badge.svg\" alt=\"Open In Colab\"/></a>"
      ]
    },
    {
      "cell_type": "markdown",
      "metadata": {
        "id": "VKK5DA390wRe"
      },
      "source": [
        "# Deep Q Network (DQN) for CartPole Using Boltzmann Q Policy\n",
        "This exercise implements a DQN for CartPole using a Boltzmann Q policy for selecting the actions"
      ]
    },
    {
      "cell_type": "code",
      "metadata": {
        "id": "LGsC7cJ5jNcX",
        "colab": {
          "base_uri": "https://localhost:8080/"
        },
        "outputId": "cda73cbf-3020-40f4-e45e-7b87053448f1"
      },
      "source": [
        "# install keras rl2 (we need to install keras-rl2 so it works with the tensorflow 2 version that comes pre-installed with colab)\n",
        "!pip install keras-rl2"
      ],
      "execution_count": 57,
      "outputs": [
        {
          "output_type": "stream",
          "name": "stdout",
          "text": [
            "Requirement already satisfied: keras-rl2 in /usr/local/lib/python3.7/dist-packages (1.0.5)\n",
            "Requirement already satisfied: tensorflow in /usr/local/lib/python3.7/dist-packages (from keras-rl2) (2.8.0)\n",
            "Requirement already satisfied: keras-preprocessing>=1.1.1 in /usr/local/lib/python3.7/dist-packages (from tensorflow->keras-rl2) (1.1.2)\n",
            "Requirement already satisfied: protobuf>=3.9.2 in /usr/local/lib/python3.7/dist-packages (from tensorflow->keras-rl2) (3.17.3)\n",
            "Requirement already satisfied: tensorflow-io-gcs-filesystem>=0.23.1 in /usr/local/lib/python3.7/dist-packages (from tensorflow->keras-rl2) (0.24.0)\n",
            "Requirement already satisfied: libclang>=9.0.1 in /usr/local/lib/python3.7/dist-packages (from tensorflow->keras-rl2) (13.0.0)\n",
            "Requirement already satisfied: h5py>=2.9.0 in /usr/local/lib/python3.7/dist-packages (from tensorflow->keras-rl2) (3.1.0)\n",
            "Requirement already satisfied: opt-einsum>=2.3.2 in /usr/local/lib/python3.7/dist-packages (from tensorflow->keras-rl2) (3.3.0)\n",
            "Requirement already satisfied: gast>=0.2.1 in /usr/local/lib/python3.7/dist-packages (from tensorflow->keras-rl2) (0.5.3)\n",
            "Requirement already satisfied: grpcio<2.0,>=1.24.3 in /usr/local/lib/python3.7/dist-packages (from tensorflow->keras-rl2) (1.44.0)\n",
            "Requirement already satisfied: tensorboard<2.9,>=2.8 in /usr/local/lib/python3.7/dist-packages (from tensorflow->keras-rl2) (2.8.0)\n",
            "Requirement already satisfied: wrapt>=1.11.0 in /usr/local/lib/python3.7/dist-packages (from tensorflow->keras-rl2) (1.14.0)\n",
            "Requirement already satisfied: absl-py>=0.4.0 in /usr/local/lib/python3.7/dist-packages (from tensorflow->keras-rl2) (1.0.0)\n",
            "Requirement already satisfied: flatbuffers>=1.12 in /usr/local/lib/python3.7/dist-packages (from tensorflow->keras-rl2) (2.0)\n",
            "Requirement already satisfied: termcolor>=1.1.0 in /usr/local/lib/python3.7/dist-packages (from tensorflow->keras-rl2) (1.1.0)\n",
            "Requirement already satisfied: keras<2.9,>=2.8.0rc0 in /usr/local/lib/python3.7/dist-packages (from tensorflow->keras-rl2) (2.8.0)\n",
            "Requirement already satisfied: six>=1.12.0 in /usr/local/lib/python3.7/dist-packages (from tensorflow->keras-rl2) (1.15.0)\n",
            "Requirement already satisfied: tf-estimator-nightly==2.8.0.dev2021122109 in /usr/local/lib/python3.7/dist-packages (from tensorflow->keras-rl2) (2.8.0.dev2021122109)\n",
            "Requirement already satisfied: numpy>=1.20 in /usr/local/lib/python3.7/dist-packages (from tensorflow->keras-rl2) (1.21.5)\n",
            "Requirement already satisfied: astunparse>=1.6.0 in /usr/local/lib/python3.7/dist-packages (from tensorflow->keras-rl2) (1.6.3)\n",
            "Requirement already satisfied: typing-extensions>=3.6.6 in /usr/local/lib/python3.7/dist-packages (from tensorflow->keras-rl2) (3.10.0.2)\n",
            "Requirement already satisfied: setuptools in /usr/local/lib/python3.7/dist-packages (from tensorflow->keras-rl2) (57.4.0)\n",
            "Requirement already satisfied: google-pasta>=0.1.1 in /usr/local/lib/python3.7/dist-packages (from tensorflow->keras-rl2) (0.2.0)\n",
            "Requirement already satisfied: wheel<1.0,>=0.23.0 in /usr/local/lib/python3.7/dist-packages (from astunparse>=1.6.0->tensorflow->keras-rl2) (0.37.1)\n",
            "Requirement already satisfied: cached-property in /usr/local/lib/python3.7/dist-packages (from h5py>=2.9.0->tensorflow->keras-rl2) (1.5.2)\n",
            "Requirement already satisfied: google-auth-oauthlib<0.5,>=0.4.1 in /usr/local/lib/python3.7/dist-packages (from tensorboard<2.9,>=2.8->tensorflow->keras-rl2) (0.4.6)\n",
            "Requirement already satisfied: requests<3,>=2.21.0 in /usr/local/lib/python3.7/dist-packages (from tensorboard<2.9,>=2.8->tensorflow->keras-rl2) (2.23.0)\n",
            "Requirement already satisfied: werkzeug>=0.11.15 in /usr/local/lib/python3.7/dist-packages (from tensorboard<2.9,>=2.8->tensorflow->keras-rl2) (1.0.1)\n",
            "Requirement already satisfied: markdown>=2.6.8 in /usr/local/lib/python3.7/dist-packages (from tensorboard<2.9,>=2.8->tensorflow->keras-rl2) (3.3.6)\n",
            "Requirement already satisfied: google-auth<3,>=1.6.3 in /usr/local/lib/python3.7/dist-packages (from tensorboard<2.9,>=2.8->tensorflow->keras-rl2) (1.35.0)\n",
            "Requirement already satisfied: tensorboard-data-server<0.7.0,>=0.6.0 in /usr/local/lib/python3.7/dist-packages (from tensorboard<2.9,>=2.8->tensorflow->keras-rl2) (0.6.1)\n",
            "Requirement already satisfied: tensorboard-plugin-wit>=1.6.0 in /usr/local/lib/python3.7/dist-packages (from tensorboard<2.9,>=2.8->tensorflow->keras-rl2) (1.8.1)\n",
            "Requirement already satisfied: pyasn1-modules>=0.2.1 in /usr/local/lib/python3.7/dist-packages (from google-auth<3,>=1.6.3->tensorboard<2.9,>=2.8->tensorflow->keras-rl2) (0.2.8)\n",
            "Requirement already satisfied: cachetools<5.0,>=2.0.0 in /usr/local/lib/python3.7/dist-packages (from google-auth<3,>=1.6.3->tensorboard<2.9,>=2.8->tensorflow->keras-rl2) (4.2.4)\n",
            "Requirement already satisfied: rsa<5,>=3.1.4 in /usr/local/lib/python3.7/dist-packages (from google-auth<3,>=1.6.3->tensorboard<2.9,>=2.8->tensorflow->keras-rl2) (4.8)\n",
            "Requirement already satisfied: requests-oauthlib>=0.7.0 in /usr/local/lib/python3.7/dist-packages (from google-auth-oauthlib<0.5,>=0.4.1->tensorboard<2.9,>=2.8->tensorflow->keras-rl2) (1.3.1)\n",
            "Requirement already satisfied: importlib-metadata>=4.4 in /usr/local/lib/python3.7/dist-packages (from markdown>=2.6.8->tensorboard<2.9,>=2.8->tensorflow->keras-rl2) (4.11.3)\n",
            "Requirement already satisfied: zipp>=0.5 in /usr/local/lib/python3.7/dist-packages (from importlib-metadata>=4.4->markdown>=2.6.8->tensorboard<2.9,>=2.8->tensorflow->keras-rl2) (3.7.0)\n",
            "Requirement already satisfied: pyasn1<0.5.0,>=0.4.6 in /usr/local/lib/python3.7/dist-packages (from pyasn1-modules>=0.2.1->google-auth<3,>=1.6.3->tensorboard<2.9,>=2.8->tensorflow->keras-rl2) (0.4.8)\n",
            "Requirement already satisfied: chardet<4,>=3.0.2 in /usr/local/lib/python3.7/dist-packages (from requests<3,>=2.21.0->tensorboard<2.9,>=2.8->tensorflow->keras-rl2) (3.0.4)\n",
            "Requirement already satisfied: urllib3!=1.25.0,!=1.25.1,<1.26,>=1.21.1 in /usr/local/lib/python3.7/dist-packages (from requests<3,>=2.21.0->tensorboard<2.9,>=2.8->tensorflow->keras-rl2) (1.24.3)\n",
            "Requirement already satisfied: idna<3,>=2.5 in /usr/local/lib/python3.7/dist-packages (from requests<3,>=2.21.0->tensorboard<2.9,>=2.8->tensorflow->keras-rl2) (2.10)\n",
            "Requirement already satisfied: certifi>=2017.4.17 in /usr/local/lib/python3.7/dist-packages (from requests<3,>=2.21.0->tensorboard<2.9,>=2.8->tensorflow->keras-rl2) (2021.10.8)\n",
            "Requirement already satisfied: oauthlib>=3.0.0 in /usr/local/lib/python3.7/dist-packages (from requests-oauthlib>=0.7.0->google-auth-oauthlib<0.5,>=0.4.1->tensorboard<2.9,>=2.8->tensorflow->keras-rl2) (3.2.0)\n"
          ]
        }
      ]
    },
    {
      "cell_type": "code",
      "metadata": {
        "id": "XMIHLgQ3Z-lF",
        "colab": {
          "base_uri": "https://localhost:8080/"
        },
        "outputId": "3d5a8608-456f-4127-ce8a-f551e5f4e4f3"
      },
      "source": [
        "!pip install gym"
      ],
      "execution_count": 58,
      "outputs": [
        {
          "output_type": "stream",
          "name": "stdout",
          "text": [
            "Requirement already satisfied: gym in /usr/local/lib/python3.7/dist-packages (0.17.3)\n",
            "Requirement already satisfied: numpy>=1.10.4 in /usr/local/lib/python3.7/dist-packages (from gym) (1.21.5)\n",
            "Requirement already satisfied: scipy in /usr/local/lib/python3.7/dist-packages (from gym) (1.4.1)\n",
            "Requirement already satisfied: pyglet<=1.5.0,>=1.4.0 in /usr/local/lib/python3.7/dist-packages (from gym) (1.5.0)\n",
            "Requirement already satisfied: cloudpickle<1.7.0,>=1.2.0 in /usr/local/lib/python3.7/dist-packages (from gym) (1.3.0)\n",
            "Requirement already satisfied: future in /usr/local/lib/python3.7/dist-packages (from pyglet<=1.5.0,>=1.4.0->gym) (0.16.0)\n"
          ]
        }
      ]
    },
    {
      "cell_type": "code",
      "metadata": {
        "id": "M0AMLzq08ap0",
        "colab": {
          "base_uri": "https://localhost:8080/"
        },
        "outputId": "77b380e1-6c3d-4bce-8233-a8ac01deaf26"
      },
      "source": [
        "# load the gym module\n",
        "import gym\n",
        "import matplotlib.pyplot as plt\n",
        "# import the usual Keras modules for creating deep neural networks\n",
        "from keras import Sequential\n",
        "from keras.layers import Input, Flatten, Dense\n",
        "!pip install Adam\n",
        "#from keras.optimizers import Adam\n",
        "from tensorflow.keras.optimizers import Adam\n",
        "ENV_NAME = 'CartPole-v0'\n",
        "env = gym.make(ENV_NAME)"
      ],
      "execution_count": 62,
      "outputs": [
        {
          "output_type": "stream",
          "name": "stdout",
          "text": [
            "Requirement already satisfied: Adam in /usr/local/lib/python3.7/dist-packages (0.0.0.dev0)\n"
          ]
        }
      ]
    },
    {
      "cell_type": "markdown",
      "metadata": {
        "id": "ll6bNdUm54WS"
      },
      "source": [
        "Implementation of DQN for CartPole, applying policy BoltzmannQPolicy"
      ]
    },
    {
      "cell_type": "markdown",
      "metadata": {
        "id": "RSCrPKNy40PC"
      },
      "source": [
        "##Implement DQN with BoltzmannGumbelQPolicy"
      ]
    },
    {
      "cell_type": "code",
      "metadata": {
        "id": "efM9jkXr5A3c",
        "colab": {
          "base_uri": "https://localhost:8080/",
          "height": 1000
        },
        "outputId": "223d846c-15e5-4b0a-8ec6-04bc7ac3ca77"
      },
      "source": [
        "import rl\n",
        "from rl.memory import SequentialMemory  # import the exerience replay buffer module\n",
        "from rl.policy import BoltzmannGumbelQPolicy\n",
        "from rl.policy import LinearAnnealedPolicy\n",
        "from rl.policy import EpsGreedyQPolicy\n",
        "from rl.agents.dqn import DQNAgent      # import the DQN agent\n",
        "\n",
        "# setup experience replay buffer\n",
        "memory = SequentialMemory(limit=10000, window_length=1)\n",
        "\n",
        "policy = LinearAnnealedPolicy(EpsGreedyQPolicy(), \n",
        "                               attr='eps',            \n",
        "                               value_max=5.,\n",
        "                               value_min=.5, \n",
        "                               value_test=.05,\n",
        "                               nb_steps=20)\n",
        "# Q-Network\n",
        "model = Sequential()\n",
        "model.add(Input(shape=(1,env.observation_space.shape[0])))  # The input is 1 observation vector, and the number of observations in that vector \n",
        "model.add(Flatten())\n",
        "model.add(Dense(32, activation='relu'))\n",
        "# add extra layers here\n",
        "model.add(Dense(env.action_space.n, activation='linear'))   # the output is the number of actions in the action space\n",
        "\n",
        "print(model.summary())\n",
        "\n",
        "# define the agent\n",
        "dqn = DQNAgent(model=model, \n",
        "               nb_actions=env.action_space.n,\n",
        "               memory=memory,\n",
        "               nb_steps_warmup=20,\n",
        "               target_model_update=1e-2, \n",
        "               policy=policy) \n",
        "\n",
        "dqn.compile(Adam(lr=1e-3), metrics=['mae'])\n",
        "\n",
        "history = dqn.fit(env, nb_steps=8000, visualize=False, verbose=2)\n",
        "\n",
        "# summarize the history for number  of episode steps\n",
        "plt.plot(history.history['nb_episode_steps'])\n",
        "plt.ylabel('nb_episode_steps')\n",
        "plt.xlabel('episodes')\n",
        "plt.show()\n",
        "\n",
        "dqn.test(env, nb_episodes=20, visualize=False)"
      ],
      "execution_count": 99,
      "outputs": [
        {
          "output_type": "stream",
          "name": "stdout",
          "text": [
            "Model: \"sequential_50\"\n",
            "_________________________________________________________________\n",
            " Layer (type)                Output Shape              Param #   \n",
            "=================================================================\n",
            " flatten_48 (Flatten)        (None, 4)                 0         \n",
            "                                                                 \n",
            " dense_97 (Dense)            (None, 32)                160       \n",
            "                                                                 \n",
            " dense_98 (Dense)            (None, 2)                 66        \n",
            "                                                                 \n",
            "=================================================================\n",
            "Total params: 226\n",
            "Trainable params: 226\n",
            "Non-trainable params: 0\n",
            "_________________________________________________________________\n",
            "None\n"
          ]
        },
        {
          "output_type": "stream",
          "name": "stderr",
          "text": [
            "/usr/local/lib/python3.7/dist-packages/keras/optimizer_v2/adam.py:105: UserWarning: The `lr` argument is deprecated, use `learning_rate` instead.\n",
            "  super(Adam, self).__init__(name, **kwargs)\n"
          ]
        },
        {
          "output_type": "stream",
          "name": "stdout",
          "text": [
            "Training for 8000 steps ...\n"
          ]
        },
        {
          "output_type": "stream",
          "name": "stderr",
          "text": [
            "/usr/local/lib/python3.7/dist-packages/keras/engine/training_v1.py:2079: UserWarning: `Model.state_updates` will be removed in a future version. This property should not be used in TensorFlow 2.0, as `updates` are applied automatically.\n",
            "  updates=self.state_updates,\n",
            "/usr/local/lib/python3.7/dist-packages/rl/memory.py:37: UserWarning: Not enough entries to sample without replacement. Consider increasing your warm-up phase to avoid oversampling!\n",
            "  warnings.warn('Not enough entries to sample without replacement. Consider increasing your warm-up phase to avoid oversampling!')\n"
          ]
        },
        {
          "output_type": "stream",
          "name": "stdout",
          "text": [
            "   36/8000: episode: 1, duration: 15.624s, episode steps:  36, steps per second:   2, episode reward: 36.000, mean reward:  1.000 [ 1.000,  1.000], mean action: 0.667 [0.000, 1.000],  loss: 0.512353, mae: 0.563789, mean_q: 0.010869, mean_eps: 0.500000\n",
            "   57/8000: episode: 2, duration: 0.557s, episode steps:  21, steps per second:  38, episode reward: 21.000, mean reward:  1.000 [ 1.000,  1.000], mean action: 0.762 [0.000, 1.000],  loss: 0.421546, mae: 0.536328, mean_q: 0.195778, mean_eps: 0.500000\n",
            "   74/8000: episode: 3, duration: 0.451s, episode steps:  17, steps per second:  38, episode reward: 17.000, mean reward:  1.000 [ 1.000,  1.000], mean action: 0.824 [0.000, 1.000],  loss: 0.300877, mae: 0.467727, mean_q: 0.435411, mean_eps: 0.500000\n",
            "   88/8000: episode: 4, duration: 0.433s, episode steps:  14, steps per second:  32, episode reward: 14.000, mean reward:  1.000 [ 1.000,  1.000], mean action: 0.643 [0.000, 1.000],  loss: 0.254742, mae: 0.439825, mean_q: 0.599421, mean_eps: 0.500000\n",
            "   98/8000: episode: 5, duration: 0.311s, episode steps:  10, steps per second:  32, episode reward: 10.000, mean reward:  1.000 [ 1.000,  1.000], mean action: 0.100 [0.000, 1.000],  loss: 0.235827, mae: 0.457246, mean_q: 0.723501, mean_eps: 0.500000\n",
            "  118/8000: episode: 6, duration: 0.533s, episode steps:  20, steps per second:  38, episode reward: 20.000, mean reward:  1.000 [ 1.000,  1.000], mean action: 0.700 [0.000, 1.000],  loss: 0.212929, mae: 0.515914, mean_q: 0.761645, mean_eps: 0.500000\n",
            "  132/8000: episode: 7, duration: 0.394s, episode steps:  14, steps per second:  36, episode reward: 14.000, mean reward:  1.000 [ 1.000,  1.000], mean action: 0.214 [0.000, 1.000],  loss: 0.188664, mae: 0.582080, mean_q: 0.923429, mean_eps: 0.500000\n",
            "  142/8000: episode: 8, duration: 0.304s, episode steps:  10, steps per second:  33, episode reward: 10.000, mean reward:  1.000 [ 1.000,  1.000], mean action: 0.000 [0.000, 0.000],  loss: 0.166801, mae: 0.618960, mean_q: 1.005973, mean_eps: 0.500000\n",
            "  158/8000: episode: 9, duration: 0.438s, episode steps:  16, steps per second:  37, episode reward: 16.000, mean reward:  1.000 [ 1.000,  1.000], mean action: 0.750 [0.000, 1.000],  loss: 0.146163, mae: 0.648153, mean_q: 1.076938, mean_eps: 0.500000\n",
            "  168/8000: episode: 10, duration: 0.235s, episode steps:  10, steps per second:  43, episode reward: 10.000, mean reward:  1.000 [ 1.000,  1.000], mean action: 0.900 [0.000, 1.000],  loss: 0.160606, mae: 0.730848, mean_q: 1.226935, mean_eps: 0.500000\n",
            "  178/8000: episode: 11, duration: 0.181s, episode steps:  10, steps per second:  55, episode reward: 10.000, mean reward:  1.000 [ 1.000,  1.000], mean action: 0.200 [0.000, 1.000],  loss: 0.132777, mae: 0.747205, mean_q: 1.277130, mean_eps: 0.500000\n",
            "  194/8000: episode: 12, duration: 0.308s, episode steps:  16, steps per second:  52, episode reward: 16.000, mean reward:  1.000 [ 1.000,  1.000], mean action: 0.750 [0.000, 1.000],  loss: 0.132408, mae: 0.808229, mean_q: 1.417137, mean_eps: 0.500000\n",
            "  205/8000: episode: 13, duration: 0.195s, episode steps:  11, steps per second:  57, episode reward: 11.000, mean reward:  1.000 [ 1.000,  1.000], mean action: 0.818 [0.000, 1.000],  loss: 0.116456, mae: 0.836994, mean_q: 1.477783, mean_eps: 0.500000\n",
            "  215/8000: episode: 14, duration: 0.170s, episode steps:  10, steps per second:  59, episode reward: 10.000, mean reward:  1.000 [ 1.000,  1.000], mean action: 0.700 [0.000, 1.000],  loss: 0.140020, mae: 0.902323, mean_q: 1.613092, mean_eps: 0.500000\n",
            "  226/8000: episode: 15, duration: 0.271s, episode steps:  11, steps per second:  41, episode reward: 11.000, mean reward:  1.000 [ 1.000,  1.000], mean action: 0.182 [0.000, 1.000],  loss: 0.143825, mae: 0.948774, mean_q: 1.723406, mean_eps: 0.500000\n",
            "  239/8000: episode: 16, duration: 0.311s, episode steps:  13, steps per second:  42, episode reward: 13.000, mean reward:  1.000 [ 1.000,  1.000], mean action: 0.154 [0.000, 1.000],  loss: 0.147032, mae: 0.980983, mean_q: 1.782398, mean_eps: 0.500000\n",
            "  255/8000: episode: 17, duration: 0.447s, episode steps:  16, steps per second:  36, episode reward: 16.000, mean reward:  1.000 [ 1.000,  1.000], mean action: 0.250 [0.000, 1.000],  loss: 0.172643, mae: 1.065245, mean_q: 1.886838, mean_eps: 0.500000\n",
            "  266/8000: episode: 18, duration: 0.224s, episode steps:  11, steps per second:  49, episode reward: 11.000, mean reward:  1.000 [ 1.000,  1.000], mean action: 0.909 [0.000, 1.000],  loss: 0.156153, mae: 1.084993, mean_q: 1.944214, mean_eps: 0.500000\n",
            "  276/8000: episode: 19, duration: 0.154s, episode steps:  10, steps per second:  65, episode reward: 10.000, mean reward:  1.000 [ 1.000,  1.000], mean action: 1.000 [1.000, 1.000],  loss: 0.126260, mae: 1.098135, mean_q: 2.099155, mean_eps: 0.500000\n",
            "  292/8000: episode: 20, duration: 0.255s, episode steps:  16, steps per second:  63, episode reward: 16.000, mean reward:  1.000 [ 1.000,  1.000], mean action: 0.750 [0.000, 1.000],  loss: 0.164970, mae: 1.153024, mean_q: 2.222950, mean_eps: 0.500000\n",
            "  304/8000: episode: 21, duration: 0.234s, episode steps:  12, steps per second:  51, episode reward: 12.000, mean reward:  1.000 [ 1.000,  1.000], mean action: 0.833 [0.000, 1.000],  loss: 0.188856, mae: 1.212607, mean_q: 2.315315, mean_eps: 0.500000\n",
            "  317/8000: episode: 22, duration: 0.232s, episode steps:  13, steps per second:  56, episode reward: 13.000, mean reward:  1.000 [ 1.000,  1.000], mean action: 0.308 [0.000, 1.000],  loss: 0.175684, mae: 1.246581, mean_q: 2.364147, mean_eps: 0.500000\n",
            "  333/8000: episode: 23, duration: 0.254s, episode steps:  16, steps per second:  63, episode reward: 16.000, mean reward:  1.000 [ 1.000,  1.000], mean action: 0.250 [0.000, 1.000],  loss: 0.182960, mae: 1.333365, mean_q: 2.524429, mean_eps: 0.500000\n",
            "  350/8000: episode: 24, duration: 0.274s, episode steps:  17, steps per second:  62, episode reward: 17.000, mean reward:  1.000 [ 1.000,  1.000], mean action: 0.765 [0.000, 1.000],  loss: 0.193130, mae: 1.393771, mean_q: 2.601846, mean_eps: 0.500000\n",
            "  361/8000: episode: 25, duration: 0.189s, episode steps:  11, steps per second:  58, episode reward: 11.000, mean reward:  1.000 [ 1.000,  1.000], mean action: 0.727 [0.000, 1.000],  loss: 0.160592, mae: 1.440914, mean_q: 2.693935, mean_eps: 0.500000\n",
            "  372/8000: episode: 26, duration: 0.187s, episode steps:  11, steps per second:  59, episode reward: 11.000, mean reward:  1.000 [ 1.000,  1.000], mean action: 0.091 [0.000, 1.000],  loss: 0.183446, mae: 1.491667, mean_q: 2.804825, mean_eps: 0.500000\n",
            "  390/8000: episode: 27, duration: 0.277s, episode steps:  18, steps per second:  65, episode reward: 18.000, mean reward:  1.000 [ 1.000,  1.000], mean action: 0.333 [0.000, 1.000],  loss: 0.156086, mae: 1.534509, mean_q: 2.909928, mean_eps: 0.500000\n",
            "  401/8000: episode: 28, duration: 0.197s, episode steps:  11, steps per second:  56, episode reward: 11.000, mean reward:  1.000 [ 1.000,  1.000], mean action: 0.364 [0.000, 1.000],  loss: 0.237439, mae: 1.646305, mean_q: 3.033258, mean_eps: 0.500000\n",
            "  413/8000: episode: 29, duration: 0.239s, episode steps:  12, steps per second:  50, episode reward: 12.000, mean reward:  1.000 [ 1.000,  1.000], mean action: 0.583 [0.000, 1.000],  loss: 0.132138, mae: 1.624440, mean_q: 3.031001, mean_eps: 0.500000\n",
            "  423/8000: episode: 30, duration: 0.221s, episode steps:  10, steps per second:  45, episode reward: 10.000, mean reward:  1.000 [ 1.000,  1.000], mean action: 0.800 [0.000, 1.000],  loss: 0.185980, mae: 1.682806, mean_q: 3.169931, mean_eps: 0.500000\n",
            "  431/8000: episode: 31, duration: 0.168s, episode steps:   8, steps per second:  48, episode reward:  8.000, mean reward:  1.000 [ 1.000,  1.000], mean action: 1.000 [1.000, 1.000],  loss: 0.183653, mae: 1.737027, mean_q: 3.260393, mean_eps: 0.500000\n",
            "  444/8000: episode: 32, duration: 0.240s, episode steps:  13, steps per second:  54, episode reward: 13.000, mean reward:  1.000 [ 1.000,  1.000], mean action: 0.615 [0.000, 1.000],  loss: 0.220882, mae: 1.790539, mean_q: 3.320312, mean_eps: 0.500000\n",
            "  457/8000: episode: 33, duration: 0.245s, episode steps:  13, steps per second:  53, episode reward: 13.000, mean reward:  1.000 [ 1.000,  1.000], mean action: 0.769 [0.000, 1.000],  loss: 0.198118, mae: 1.829518, mean_q: 3.392357, mean_eps: 0.500000\n",
            "  467/8000: episode: 34, duration: 0.195s, episode steps:  10, steps per second:  51, episode reward: 10.000, mean reward:  1.000 [ 1.000,  1.000], mean action: 0.900 [0.000, 1.000],  loss: 0.229681, mae: 1.876466, mean_q: 3.503192, mean_eps: 0.500000\n",
            "  477/8000: episode: 35, duration: 0.190s, episode steps:  10, steps per second:  53, episode reward: 10.000, mean reward:  1.000 [ 1.000,  1.000], mean action: 0.200 [0.000, 1.000],  loss: 0.227316, mae: 1.920893, mean_q: 3.593856, mean_eps: 0.500000\n",
            "  487/8000: episode: 36, duration: 0.197s, episode steps:  10, steps per second:  51, episode reward: 10.000, mean reward:  1.000 [ 1.000,  1.000], mean action: 0.600 [0.000, 1.000],  loss: 0.261256, mae: 1.953055, mean_q: 3.659882, mean_eps: 0.500000\n",
            "  500/8000: episode: 37, duration: 0.216s, episode steps:  13, steps per second:  60, episode reward: 13.000, mean reward:  1.000 [ 1.000,  1.000], mean action: 0.769 [0.000, 1.000],  loss: 0.270786, mae: 1.993860, mean_q: 3.703502, mean_eps: 0.500000\n",
            "  511/8000: episode: 38, duration: 0.178s, episode steps:  11, steps per second:  62, episode reward: 11.000, mean reward:  1.000 [ 1.000,  1.000], mean action: 0.818 [0.000, 1.000],  loss: 0.280458, mae: 2.016952, mean_q: 3.750171, mean_eps: 0.500000\n",
            "  527/8000: episode: 39, duration: 0.270s, episode steps:  16, steps per second:  59, episode reward: 16.000, mean reward:  1.000 [ 1.000,  1.000], mean action: 0.625 [0.000, 1.000],  loss: 0.288293, mae: 2.072409, mean_q: 3.842913, mean_eps: 0.500000\n",
            "  535/8000: episode: 40, duration: 0.135s, episode steps:   8, steps per second:  59, episode reward:  8.000, mean reward:  1.000 [ 1.000,  1.000], mean action: 1.000 [1.000, 1.000],  loss: 0.359186, mae: 2.143036, mean_q: 3.915558, mean_eps: 0.500000\n",
            "  543/8000: episode: 41, duration: 0.136s, episode steps:   8, steps per second:  59, episode reward:  8.000, mean reward:  1.000 [ 1.000,  1.000], mean action: 1.000 [1.000, 1.000],  loss: 0.384701, mae: 2.168748, mean_q: 3.897306, mean_eps: 0.500000\n",
            "  584/8000: episode: 42, duration: 0.943s, episode steps:  41, steps per second:  43, episode reward: 41.000, mean reward:  1.000 [ 1.000,  1.000], mean action: 0.561 [0.000, 1.000],  loss: 0.297271, mae: 2.232959, mean_q: 4.133738, mean_eps: 0.500000\n",
            "  594/8000: episode: 43, duration: 0.284s, episode steps:  10, steps per second:  35, episode reward: 10.000, mean reward:  1.000 [ 1.000,  1.000], mean action: 0.900 [0.000, 1.000],  loss: 0.389697, mae: 2.348185, mean_q: 4.318681, mean_eps: 0.500000\n",
            "  623/8000: episode: 44, duration: 0.773s, episode steps:  29, steps per second:  38, episode reward: 29.000, mean reward:  1.000 [ 1.000,  1.000], mean action: 0.310 [0.000, 1.000],  loss: 0.346747, mae: 2.372755, mean_q: 4.351078, mean_eps: 0.500000\n",
            "  633/8000: episode: 45, duration: 0.274s, episode steps:  10, steps per second:  36, episode reward: 10.000, mean reward:  1.000 [ 1.000,  1.000], mean action: 0.700 [0.000, 1.000],  loss: 0.341216, mae: 2.421687, mean_q: 4.511131, mean_eps: 0.500000\n",
            "  665/8000: episode: 46, duration: 0.836s, episode steps:  32, steps per second:  38, episode reward: 32.000, mean reward:  1.000 [ 1.000,  1.000], mean action: 0.312 [0.000, 1.000],  loss: 0.294110, mae: 2.488406, mean_q: 4.642949, mean_eps: 0.500000\n",
            "  676/8000: episode: 47, duration: 0.316s, episode steps:  11, steps per second:  35, episode reward: 11.000, mean reward:  1.000 [ 1.000,  1.000], mean action: 0.364 [0.000, 1.000],  loss: 0.326991, mae: 2.576690, mean_q: 4.866068, mean_eps: 0.500000\n",
            "  693/8000: episode: 48, duration: 0.421s, episode steps:  17, steps per second:  40, episode reward: 17.000, mean reward:  1.000 [ 1.000,  1.000], mean action: 0.529 [0.000, 1.000],  loss: 0.328452, mae: 2.584634, mean_q: 4.859442, mean_eps: 0.500000\n",
            "  717/8000: episode: 49, duration: 0.639s, episode steps:  24, steps per second:  38, episode reward: 24.000, mean reward:  1.000 [ 1.000,  1.000], mean action: 0.292 [0.000, 1.000],  loss: 0.441223, mae: 2.664613, mean_q: 4.975726, mean_eps: 0.500000\n",
            "  727/8000: episode: 50, duration: 0.304s, episode steps:  10, steps per second:  33, episode reward: 10.000, mean reward:  1.000 [ 1.000,  1.000], mean action: 0.800 [0.000, 1.000],  loss: 0.286330, mae: 2.628137, mean_q: 5.016157, mean_eps: 0.500000\n",
            "  736/8000: episode: 51, duration: 0.273s, episode steps:   9, steps per second:  33, episode reward:  9.000, mean reward:  1.000 [ 1.000,  1.000], mean action: 0.000 [0.000, 0.000],  loss: 0.327740, mae: 2.680555, mean_q: 5.163410, mean_eps: 0.500000\n",
            "  776/8000: episode: 52, duration: 1.079s, episode steps:  40, steps per second:  37, episode reward: 40.000, mean reward:  1.000 [ 1.000,  1.000], mean action: 0.350 [0.000, 1.000],  loss: 0.417762, mae: 2.827951, mean_q: 5.295335, mean_eps: 0.500000\n",
            "  830/8000: episode: 53, duration: 1.214s, episode steps:  54, steps per second:  44, episode reward: 54.000, mean reward:  1.000 [ 1.000,  1.000], mean action: 0.407 [0.000, 1.000],  loss: 0.401279, mae: 2.971324, mean_q: 5.607430, mean_eps: 0.500000\n",
            "  871/8000: episode: 54, duration: 1.075s, episode steps:  41, steps per second:  38, episode reward: 41.000, mean reward:  1.000 [ 1.000,  1.000], mean action: 0.537 [0.000, 1.000],  loss: 0.432831, mae: 3.110600, mean_q: 5.873306, mean_eps: 0.500000\n",
            "  886/8000: episode: 55, duration: 0.318s, episode steps:  15, steps per second:  47, episode reward: 15.000, mean reward:  1.000 [ 1.000,  1.000], mean action: 0.467 [0.000, 1.000],  loss: 0.389293, mae: 3.231902, mean_q: 6.157440, mean_eps: 0.500000\n",
            "  943/8000: episode: 56, duration: 1.070s, episode steps:  57, steps per second:  53, episode reward: 57.000, mean reward:  1.000 [ 1.000,  1.000], mean action: 0.509 [0.000, 1.000],  loss: 0.466283, mae: 3.330534, mean_q: 6.347732, mean_eps: 0.500000\n",
            "  981/8000: episode: 57, duration: 0.731s, episode steps:  38, steps per second:  52, episode reward: 38.000, mean reward:  1.000 [ 1.000,  1.000], mean action: 0.500 [0.000, 1.000],  loss: 0.568448, mae: 3.540009, mean_q: 6.700041, mean_eps: 0.500000\n",
            " 1017/8000: episode: 58, duration: 0.730s, episode steps:  36, steps per second:  49, episode reward: 36.000, mean reward:  1.000 [ 1.000,  1.000], mean action: 0.417 [0.000, 1.000],  loss: 0.497913, mae: 3.652622, mean_q: 6.998261, mean_eps: 0.500000\n",
            " 1041/8000: episode: 59, duration: 0.571s, episode steps:  24, steps per second:  42, episode reward: 24.000, mean reward:  1.000 [ 1.000,  1.000], mean action: 0.375 [0.000, 1.000],  loss: 0.524077, mae: 3.735991, mean_q: 7.122598, mean_eps: 0.500000\n",
            " 1086/8000: episode: 60, duration: 1.257s, episode steps:  45, steps per second:  36, episode reward: 45.000, mean reward:  1.000 [ 1.000,  1.000], mean action: 0.422 [0.000, 1.000],  loss: 0.632388, mae: 3.853071, mean_q: 7.298637, mean_eps: 0.500000\n",
            " 1226/8000: episode: 61, duration: 3.763s, episode steps: 140, steps per second:  37, episode reward: 140.000, mean reward:  1.000 [ 1.000,  1.000], mean action: 0.514 [0.000, 1.000],  loss: 0.704335, mae: 4.184320, mean_q: 7.966492, mean_eps: 0.500000\n",
            " 1243/8000: episode: 62, duration: 0.362s, episode steps:  17, steps per second:  47, episode reward: 17.000, mean reward:  1.000 [ 1.000,  1.000], mean action: 0.529 [0.000, 1.000],  loss: 0.756078, mae: 4.483693, mean_q: 8.581107, mean_eps: 0.500000\n",
            " 1366/8000: episode: 63, duration: 2.902s, episode steps: 123, steps per second:  42, episode reward: 123.000, mean reward:  1.000 [ 1.000,  1.000], mean action: 0.480 [0.000, 1.000],  loss: 0.834689, mae: 4.712287, mean_q: 9.018101, mean_eps: 0.500000\n",
            " 1447/8000: episode: 64, duration: 2.019s, episode steps:  81, steps per second:  40, episode reward: 81.000, mean reward:  1.000 [ 1.000,  1.000], mean action: 0.494 [0.000, 1.000],  loss: 0.873906, mae: 5.009883, mean_q: 9.613280, mean_eps: 0.500000\n",
            " 1513/8000: episode: 65, duration: 1.374s, episode steps:  66, steps per second:  48, episode reward: 66.000, mean reward:  1.000 [ 1.000,  1.000], mean action: 0.470 [0.000, 1.000],  loss: 1.202034, mae: 5.285281, mean_q: 10.120488, mean_eps: 0.500000\n",
            " 1608/8000: episode: 66, duration: 2.023s, episode steps:  95, steps per second:  47, episode reward: 95.000, mean reward:  1.000 [ 1.000,  1.000], mean action: 0.463 [0.000, 1.000],  loss: 1.192699, mae: 5.538127, mean_q: 10.590859, mean_eps: 0.500000\n",
            " 1671/8000: episode: 67, duration: 1.615s, episode steps:  63, steps per second:  39, episode reward: 63.000, mean reward:  1.000 [ 1.000,  1.000], mean action: 0.460 [0.000, 1.000],  loss: 1.158654, mae: 5.693579, mean_q: 10.877875, mean_eps: 0.500000\n",
            " 1756/8000: episode: 68, duration: 1.683s, episode steps:  85, steps per second:  51, episode reward: 85.000, mean reward:  1.000 [ 1.000,  1.000], mean action: 0.494 [0.000, 1.000],  loss: 1.118488, mae: 5.943502, mean_q: 11.468010, mean_eps: 0.500000\n",
            " 1806/8000: episode: 69, duration: 0.930s, episode steps:  50, steps per second:  54, episode reward: 50.000, mean reward:  1.000 [ 1.000,  1.000], mean action: 0.500 [0.000, 1.000],  loss: 1.244287, mae: 6.165824, mean_q: 11.902809, mean_eps: 0.500000\n",
            " 1853/8000: episode: 70, duration: 0.831s, episode steps:  47, steps per second:  57, episode reward: 47.000, mean reward:  1.000 [ 1.000,  1.000], mean action: 0.468 [0.000, 1.000],  loss: 1.469761, mae: 6.327975, mean_q: 12.177592, mean_eps: 0.500000\n",
            " 1901/8000: episode: 71, duration: 1.295s, episode steps:  48, steps per second:  37, episode reward: 48.000, mean reward:  1.000 [ 1.000,  1.000], mean action: 0.542 [0.000, 1.000],  loss: 1.253167, mae: 6.504590, mean_q: 12.611472, mean_eps: 0.500000\n",
            " 1997/8000: episode: 72, duration: 2.449s, episode steps:  96, steps per second:  39, episode reward: 96.000, mean reward:  1.000 [ 1.000,  1.000], mean action: 0.500 [0.000, 1.000],  loss: 1.554984, mae: 6.771868, mean_q: 13.113325, mean_eps: 0.500000\n",
            " 2088/8000: episode: 73, duration: 2.382s, episode steps:  91, steps per second:  38, episode reward: 91.000, mean reward:  1.000 [ 1.000,  1.000], mean action: 0.495 [0.000, 1.000],  loss: 1.347754, mae: 7.070073, mean_q: 13.751207, mean_eps: 0.500000\n",
            " 2121/8000: episode: 74, duration: 0.817s, episode steps:  33, steps per second:  40, episode reward: 33.000, mean reward:  1.000 [ 1.000,  1.000], mean action: 0.455 [0.000, 1.000],  loss: 1.985484, mae: 7.316046, mean_q: 14.143882, mean_eps: 0.500000\n",
            " 2159/8000: episode: 75, duration: 0.976s, episode steps:  38, steps per second:  39, episode reward: 38.000, mean reward:  1.000 [ 1.000,  1.000], mean action: 0.474 [0.000, 1.000],  loss: 1.415923, mae: 7.407167, mean_q: 14.402708, mean_eps: 0.500000\n",
            " 2206/8000: episode: 76, duration: 1.240s, episode steps:  47, steps per second:  38, episode reward: 47.000, mean reward:  1.000 [ 1.000,  1.000], mean action: 0.489 [0.000, 1.000],  loss: 1.742701, mae: 7.527796, mean_q: 14.625253, mean_eps: 0.500000\n",
            " 2251/8000: episode: 77, duration: 1.073s, episode steps:  45, steps per second:  42, episode reward: 45.000, mean reward:  1.000 [ 1.000,  1.000], mean action: 0.489 [0.000, 1.000],  loss: 1.546625, mae: 7.653412, mean_q: 14.874831, mean_eps: 0.500000\n",
            " 2270/8000: episode: 78, duration: 0.433s, episode steps:  19, steps per second:  44, episode reward: 19.000, mean reward:  1.000 [ 1.000,  1.000], mean action: 0.474 [0.000, 1.000],  loss: 2.258348, mae: 7.790592, mean_q: 15.107042, mean_eps: 0.500000\n",
            " 2322/8000: episode: 79, duration: 1.145s, episode steps:  52, steps per second:  45, episode reward: 52.000, mean reward:  1.000 [ 1.000,  1.000], mean action: 0.462 [0.000, 1.000],  loss: 1.682449, mae: 7.866866, mean_q: 15.256866, mean_eps: 0.500000\n",
            " 2396/8000: episode: 80, duration: 1.821s, episode steps:  74, steps per second:  41, episode reward: 74.000, mean reward:  1.000 [ 1.000,  1.000], mean action: 0.500 [0.000, 1.000],  loss: 2.031327, mae: 8.045594, mean_q: 15.610546, mean_eps: 0.500000\n",
            " 2424/8000: episode: 81, duration: 0.721s, episode steps:  28, steps per second:  39, episode reward: 28.000, mean reward:  1.000 [ 1.000,  1.000], mean action: 0.536 [0.000, 1.000],  loss: 2.204006, mae: 8.166327, mean_q: 15.824027, mean_eps: 0.500000\n",
            " 2496/8000: episode: 82, duration: 1.850s, episode steps:  72, steps per second:  39, episode reward: 72.000, mean reward:  1.000 [ 1.000,  1.000], mean action: 0.500 [0.000, 1.000],  loss: 1.958823, mae: 8.339671, mean_q: 16.233243, mean_eps: 0.500000\n",
            " 2529/8000: episode: 83, duration: 0.891s, episode steps:  33, steps per second:  37, episode reward: 33.000, mean reward:  1.000 [ 1.000,  1.000], mean action: 0.515 [0.000, 1.000],  loss: 2.422344, mae: 8.493283, mean_q: 16.490860, mean_eps: 0.500000\n",
            " 2602/8000: episode: 84, duration: 1.755s, episode steps:  73, steps per second:  42, episode reward: 73.000, mean reward:  1.000 [ 1.000,  1.000], mean action: 0.507 [0.000, 1.000],  loss: 2.285153, mae: 8.670747, mean_q: 16.814923, mean_eps: 0.500000\n",
            " 2634/8000: episode: 85, duration: 0.563s, episode steps:  32, steps per second:  57, episode reward: 32.000, mean reward:  1.000 [ 1.000,  1.000], mean action: 0.500 [0.000, 1.000],  loss: 2.204064, mae: 8.850451, mean_q: 17.272022, mean_eps: 0.500000\n",
            " 2657/8000: episode: 86, duration: 0.470s, episode steps:  23, steps per second:  49, episode reward: 23.000, mean reward:  1.000 [ 1.000,  1.000], mean action: 0.478 [0.000, 1.000],  loss: 1.900895, mae: 8.848343, mean_q: 17.236054, mean_eps: 0.500000\n",
            " 2697/8000: episode: 87, duration: 0.998s, episode steps:  40, steps per second:  40, episode reward: 40.000, mean reward:  1.000 [ 1.000,  1.000], mean action: 0.525 [0.000, 1.000],  loss: 2.484552, mae: 9.038514, mean_q: 17.603811, mean_eps: 0.500000\n",
            " 2739/8000: episode: 88, duration: 1.005s, episode steps:  42, steps per second:  42, episode reward: 42.000, mean reward:  1.000 [ 1.000,  1.000], mean action: 0.524 [0.000, 1.000],  loss: 2.931847, mae: 9.159727, mean_q: 17.729168, mean_eps: 0.500000\n",
            " 2787/8000: episode: 89, duration: 1.207s, episode steps:  48, steps per second:  40, episode reward: 48.000, mean reward:  1.000 [ 1.000,  1.000], mean action: 0.542 [0.000, 1.000],  loss: 3.128049, mae: 9.285803, mean_q: 18.019724, mean_eps: 0.500000\n",
            " 2914/8000: episode: 90, duration: 2.193s, episode steps: 127, steps per second:  58, episode reward: 127.000, mean reward:  1.000 [ 1.000,  1.000], mean action: 0.504 [0.000, 1.000],  loss: 2.964002, mae: 9.539032, mean_q: 18.539543, mean_eps: 0.500000\n",
            " 2934/8000: episode: 91, duration: 0.344s, episode steps:  20, steps per second:  58, episode reward: 20.000, mean reward:  1.000 [ 1.000,  1.000], mean action: 0.400 [0.000, 1.000],  loss: 3.645136, mae: 9.752436, mean_q: 18.957703, mean_eps: 0.500000\n",
            " 3065/8000: episode: 92, duration: 2.000s, episode steps: 131, steps per second:  66, episode reward: 131.000, mean reward:  1.000 [ 1.000,  1.000], mean action: 0.511 [0.000, 1.000],  loss: 2.598317, mae: 9.932781, mean_q: 19.410123, mean_eps: 0.500000\n",
            " 3127/8000: episode: 93, duration: 1.464s, episode steps:  62, steps per second:  42, episode reward: 62.000, mean reward:  1.000 [ 1.000,  1.000], mean action: 0.468 [0.000, 1.000],  loss: 2.493882, mae: 10.282332, mean_q: 20.178671, mean_eps: 0.500000\n",
            " 3163/8000: episode: 94, duration: 0.897s, episode steps:  36, steps per second:  40, episode reward: 36.000, mean reward:  1.000 [ 1.000,  1.000], mean action: 0.528 [0.000, 1.000],  loss: 3.446200, mae: 10.414180, mean_q: 20.249643, mean_eps: 0.500000\n",
            " 3218/8000: episode: 95, duration: 1.207s, episode steps:  55, steps per second:  46, episode reward: 55.000, mean reward:  1.000 [ 1.000,  1.000], mean action: 0.545 [0.000, 1.000],  loss: 3.536724, mae: 10.516730, mean_q: 20.503899, mean_eps: 0.500000\n",
            " 3299/8000: episode: 96, duration: 1.245s, episode steps:  81, steps per second:  65, episode reward: 81.000, mean reward:  1.000 [ 1.000,  1.000], mean action: 0.469 [0.000, 1.000],  loss: 3.426586, mae: 10.672594, mean_q: 20.781995, mean_eps: 0.500000\n",
            " 3416/8000: episode: 97, duration: 2.098s, episode steps: 117, steps per second:  56, episode reward: 117.000, mean reward:  1.000 [ 1.000,  1.000], mean action: 0.521 [0.000, 1.000],  loss: 3.038903, mae: 10.875659, mean_q: 21.262653, mean_eps: 0.500000\n",
            " 3473/8000: episode: 98, duration: 1.345s, episode steps:  57, steps per second:  42, episode reward: 57.000, mean reward:  1.000 [ 1.000,  1.000], mean action: 0.491 [0.000, 1.000],  loss: 3.039640, mae: 11.157672, mean_q: 21.896831, mean_eps: 0.500000\n",
            " 3673/8000: episode: 99, duration: 4.072s, episode steps: 200, steps per second:  49, episode reward: 200.000, mean reward:  1.000 [ 1.000,  1.000], mean action: 0.520 [0.000, 1.000],  loss: 3.432478, mae: 11.528364, mean_q: 22.632818, mean_eps: 0.500000\n",
            " 3724/8000: episode: 100, duration: 1.245s, episode steps:  51, steps per second:  41, episode reward: 51.000, mean reward:  1.000 [ 1.000,  1.000], mean action: 0.471 [0.000, 1.000],  loss: 3.522703, mae: 11.854524, mean_q: 23.193637, mean_eps: 0.500000\n",
            " 3848/8000: episode: 101, duration: 2.298s, episode steps: 124, steps per second:  54, episode reward: 124.000, mean reward:  1.000 [ 1.000,  1.000], mean action: 0.492 [0.000, 1.000],  loss: 4.455063, mae: 12.072341, mean_q: 23.596115, mean_eps: 0.500000\n",
            " 3869/8000: episode: 102, duration: 0.347s, episode steps:  21, steps per second:  60, episode reward: 21.000, mean reward:  1.000 [ 1.000,  1.000], mean action: 0.619 [0.000, 1.000],  loss: 4.530640, mae: 12.225633, mean_q: 23.928536, mean_eps: 0.500000\n",
            " 4018/8000: episode: 103, duration: 3.200s, episode steps: 149, steps per second:  47, episode reward: 149.000, mean reward:  1.000 [ 1.000,  1.000], mean action: 0.517 [0.000, 1.000],  loss: 3.732557, mae: 12.460261, mean_q: 24.475312, mean_eps: 0.500000\n",
            " 4065/8000: episode: 104, duration: 1.235s, episode steps:  47, steps per second:  38, episode reward: 47.000, mean reward:  1.000 [ 1.000,  1.000], mean action: 0.447 [0.000, 1.000],  loss: 3.133548, mae: 12.696470, mean_q: 25.070320, mean_eps: 0.500000\n",
            " 4154/8000: episode: 105, duration: 1.711s, episode steps:  89, steps per second:  52, episode reward: 89.000, mean reward:  1.000 [ 1.000,  1.000], mean action: 0.528 [0.000, 1.000],  loss: 4.855386, mae: 12.907426, mean_q: 25.302825, mean_eps: 0.500000\n",
            " 4208/8000: episode: 106, duration: 1.387s, episode steps:  54, steps per second:  39, episode reward: 54.000, mean reward:  1.000 [ 1.000,  1.000], mean action: 0.519 [0.000, 1.000],  loss: 4.334436, mae: 13.082152, mean_q: 25.812950, mean_eps: 0.500000\n",
            " 4267/8000: episode: 107, duration: 1.101s, episode steps:  59, steps per second:  54, episode reward: 59.000, mean reward:  1.000 [ 1.000,  1.000], mean action: 0.458 [0.000, 1.000],  loss: 4.841801, mae: 13.210473, mean_q: 25.990783, mean_eps: 0.500000\n",
            " 4312/8000: episode: 108, duration: 1.056s, episode steps:  45, steps per second:  43, episode reward: 45.000, mean reward:  1.000 [ 1.000,  1.000], mean action: 0.444 [0.000, 1.000],  loss: 4.225463, mae: 13.292452, mean_q: 26.227521, mean_eps: 0.500000\n",
            " 4384/8000: episode: 109, duration: 1.338s, episode steps:  72, steps per second:  54, episode reward: 72.000, mean reward:  1.000 [ 1.000,  1.000], mean action: 0.569 [0.000, 1.000],  loss: 5.440655, mae: 13.502710, mean_q: 26.453145, mean_eps: 0.500000\n",
            " 4483/8000: episode: 110, duration: 2.572s, episode steps:  99, steps per second:  38, episode reward: 99.000, mean reward:  1.000 [ 1.000,  1.000], mean action: 0.535 [0.000, 1.000],  loss: 4.399441, mae: 13.678882, mean_q: 26.882266, mean_eps: 0.500000\n",
            " 4551/8000: episode: 111, duration: 1.634s, episode steps:  68, steps per second:  42, episode reward: 68.000, mean reward:  1.000 [ 1.000,  1.000], mean action: 0.529 [0.000, 1.000],  loss: 2.977159, mae: 13.916970, mean_q: 27.542397, mean_eps: 0.500000\n",
            " 4607/8000: episode: 112, duration: 1.443s, episode steps:  56, steps per second:  39, episode reward: 56.000, mean reward:  1.000 [ 1.000,  1.000], mean action: 0.536 [0.000, 1.000],  loss: 3.969517, mae: 14.151212, mean_q: 27.943788, mean_eps: 0.500000\n",
            " 4640/8000: episode: 113, duration: 0.564s, episode steps:  33, steps per second:  58, episode reward: 33.000, mean reward:  1.000 [ 1.000,  1.000], mean action: 0.515 [0.000, 1.000],  loss: 3.577214, mae: 14.267169, mean_q: 28.189167, mean_eps: 0.500000\n",
            " 4759/8000: episode: 114, duration: 2.455s, episode steps: 119, steps per second:  48, episode reward: 119.000, mean reward:  1.000 [ 1.000,  1.000], mean action: 0.521 [0.000, 1.000],  loss: 4.668715, mae: 14.362227, mean_q: 28.260194, mean_eps: 0.500000\n",
            " 4777/8000: episode: 115, duration: 0.508s, episode steps:  18, steps per second:  35, episode reward: 18.000, mean reward:  1.000 [ 1.000,  1.000], mean action: 0.444 [0.000, 1.000],  loss: 8.013039, mae: 14.546935, mean_q: 28.343975, mean_eps: 0.500000\n",
            " 4802/8000: episode: 116, duration: 0.618s, episode steps:  25, steps per second:  40, episode reward: 25.000, mean reward:  1.000 [ 1.000,  1.000], mean action: 0.440 [0.000, 1.000],  loss: 5.404505, mae: 14.490617, mean_q: 28.391643, mean_eps: 0.500000\n",
            " 4863/8000: episode: 117, duration: 1.063s, episode steps:  61, steps per second:  57, episode reward: 61.000, mean reward:  1.000 [ 1.000,  1.000], mean action: 0.459 [0.000, 1.000],  loss: 4.125333, mae: 14.636310, mean_q: 28.857064, mean_eps: 0.500000\n",
            " 5003/8000: episode: 118, duration: 2.283s, episode steps: 140, steps per second:  61, episode reward: 140.000, mean reward:  1.000 [ 1.000,  1.000], mean action: 0.514 [0.000, 1.000],  loss: 4.588694, mae: 14.860330, mean_q: 29.286955, mean_eps: 0.500000\n",
            " 5023/8000: episode: 119, duration: 0.346s, episode steps:  20, steps per second:  58, episode reward: 20.000, mean reward:  1.000 [ 1.000,  1.000], mean action: 0.450 [0.000, 1.000],  loss: 4.821206, mae: 15.002500, mean_q: 29.562434, mean_eps: 0.500000\n",
            " 5112/8000: episode: 120, duration: 2.134s, episode steps:  89, steps per second:  42, episode reward: 89.000, mean reward:  1.000 [ 1.000,  1.000], mean action: 0.472 [0.000, 1.000],  loss: 4.956670, mae: 15.187059, mean_q: 29.953162, mean_eps: 0.500000\n",
            " 5217/8000: episode: 121, duration: 2.729s, episode steps: 105, steps per second:  38, episode reward: 105.000, mean reward:  1.000 [ 1.000,  1.000], mean action: 0.543 [0.000, 1.000],  loss: 4.487038, mae: 15.367592, mean_q: 30.388986, mean_eps: 0.500000\n",
            " 5297/8000: episode: 122, duration: 1.490s, episode steps:  80, steps per second:  54, episode reward: 80.000, mean reward:  1.000 [ 1.000,  1.000], mean action: 0.550 [0.000, 1.000],  loss: 5.520524, mae: 15.655515, mean_q: 30.920186, mean_eps: 0.500000\n",
            " 5406/8000: episode: 123, duration: 2.150s, episode steps: 109, steps per second:  51, episode reward: 109.000, mean reward:  1.000 [ 1.000,  1.000], mean action: 0.459 [0.000, 1.000],  loss: 4.791726, mae: 15.784236, mean_q: 31.288766, mean_eps: 0.500000\n",
            " 5437/8000: episode: 124, duration: 0.820s, episode steps:  31, steps per second:  38, episode reward: 31.000, mean reward:  1.000 [ 1.000,  1.000], mean action: 0.516 [0.000, 1.000],  loss: 5.901931, mae: 15.999071, mean_q: 31.563316, mean_eps: 0.500000\n",
            " 5509/8000: episode: 125, duration: 1.932s, episode steps:  72, steps per second:  37, episode reward: 72.000, mean reward:  1.000 [ 1.000,  1.000], mean action: 0.528 [0.000, 1.000],  loss: 6.886465, mae: 16.093286, mean_q: 31.634813, mean_eps: 0.500000\n",
            " 5651/8000: episode: 126, duration: 2.483s, episode steps: 142, steps per second:  57, episode reward: 142.000, mean reward:  1.000 [ 1.000,  1.000], mean action: 0.535 [0.000, 1.000],  loss: 5.451223, mae: 16.381130, mean_q: 32.389339, mean_eps: 0.500000\n",
            " 5670/8000: episode: 127, duration: 0.345s, episode steps:  19, steps per second:  55, episode reward: 19.000, mean reward:  1.000 [ 1.000,  1.000], mean action: 0.579 [0.000, 1.000],  loss: 4.319707, mae: 16.449811, mean_q: 32.561289, mean_eps: 0.500000\n",
            " 5793/8000: episode: 128, duration: 2.378s, episode steps: 123, steps per second:  52, episode reward: 123.000, mean reward:  1.000 [ 1.000,  1.000], mean action: 0.520 [0.000, 1.000],  loss: 7.110434, mae: 16.637396, mean_q: 32.788469, mean_eps: 0.500000\n",
            " 5970/8000: episode: 129, duration: 3.822s, episode steps: 177, steps per second:  46, episode reward: 177.000, mean reward:  1.000 [ 1.000,  1.000], mean action: 0.492 [0.000, 1.000],  loss: 4.833606, mae: 16.922485, mean_q: 33.682252, mean_eps: 0.500000\n",
            " 6154/8000: episode: 130, duration: 4.358s, episode steps: 184, steps per second:  42, episode reward: 184.000, mean reward:  1.000 [ 1.000,  1.000], mean action: 0.533 [0.000, 1.000],  loss: 6.476668, mae: 17.428089, mean_q: 34.636445, mean_eps: 0.500000\n",
            " 6354/8000: episode: 131, duration: 4.097s, episode steps: 200, steps per second:  49, episode reward: 200.000, mean reward:  1.000 [ 1.000,  1.000], mean action: 0.500 [0.000, 1.000],  loss: 6.464653, mae: 17.787303, mean_q: 35.309563, mean_eps: 0.500000\n",
            " 6400/8000: episode: 132, duration: 0.877s, episode steps:  46, steps per second:  52, episode reward: 46.000, mean reward:  1.000 [ 1.000,  1.000], mean action: 0.500 [0.000, 1.000],  loss: 5.508706, mae: 18.114841, mean_q: 36.047608, mean_eps: 0.500000\n",
            " 6472/8000: episode: 133, duration: 1.535s, episode steps:  72, steps per second:  47, episode reward: 72.000, mean reward:  1.000 [ 1.000,  1.000], mean action: 0.514 [0.000, 1.000],  loss: 7.649980, mae: 18.216357, mean_q: 36.072765, mean_eps: 0.500000\n",
            " 6550/8000: episode: 134, duration: 1.270s, episode steps:  78, steps per second:  61, episode reward: 78.000, mean reward:  1.000 [ 1.000,  1.000], mean action: 0.526 [0.000, 1.000],  loss: 6.882124, mae: 18.359887, mean_q: 36.440324, mean_eps: 0.500000\n",
            " 6578/8000: episode: 135, duration: 0.502s, episode steps:  28, steps per second:  56, episode reward: 28.000, mean reward:  1.000 [ 1.000,  1.000], mean action: 0.500 [0.000, 1.000],  loss: 6.688318, mae: 18.476365, mean_q: 36.717574, mean_eps: 0.500000\n",
            " 6704/8000: episode: 136, duration: 2.455s, episode steps: 126, steps per second:  51, episode reward: 126.000, mean reward:  1.000 [ 1.000,  1.000], mean action: 0.452 [0.000, 1.000],  loss: 6.939496, mae: 18.598428, mean_q: 36.880801, mean_eps: 0.500000\n",
            " 6752/8000: episode: 137, duration: 1.065s, episode steps:  48, steps per second:  45, episode reward: 48.000, mean reward:  1.000 [ 1.000,  1.000], mean action: 0.500 [0.000, 1.000],  loss: 6.621594, mae: 18.594604, mean_q: 37.022852, mean_eps: 0.500000\n",
            " 6847/8000: episode: 138, duration: 1.550s, episode steps:  95, steps per second:  61, episode reward: 95.000, mean reward:  1.000 [ 1.000,  1.000], mean action: 0.495 [0.000, 1.000],  loss: 7.679058, mae: 18.839737, mean_q: 37.424068, mean_eps: 0.500000\n",
            " 6882/8000: episode: 139, duration: 0.648s, episode steps:  35, steps per second:  54, episode reward: 35.000, mean reward:  1.000 [ 1.000,  1.000], mean action: 0.457 [0.000, 1.000],  loss: 6.685949, mae: 19.105222, mean_q: 38.087201, mean_eps: 0.500000\n",
            " 7059/8000: episode: 140, duration: 3.372s, episode steps: 177, steps per second:  52, episode reward: 177.000, mean reward:  1.000 [ 1.000,  1.000], mean action: 0.531 [0.000, 1.000],  loss: 7.079357, mae: 19.270112, mean_q: 38.371588, mean_eps: 0.500000\n",
            " 7149/8000: episode: 141, duration: 2.524s, episode steps:  90, steps per second:  36, episode reward: 90.000, mean reward:  1.000 [ 1.000,  1.000], mean action: 0.500 [0.000, 1.000],  loss: 5.486575, mae: 19.555589, mean_q: 39.092401, mean_eps: 0.500000\n",
            " 7349/8000: episode: 142, duration: 4.339s, episode steps: 200, steps per second:  46, episode reward: 200.000, mean reward:  1.000 [ 1.000,  1.000], mean action: 0.485 [0.000, 1.000],  loss: 7.304674, mae: 19.946264, mean_q: 39.756320, mean_eps: 0.500000\n",
            " 7434/8000: episode: 143, duration: 1.650s, episode steps:  85, steps per second:  52, episode reward: 85.000, mean reward:  1.000 [ 1.000,  1.000], mean action: 0.518 [0.000, 1.000],  loss: 7.818983, mae: 20.323243, mean_q: 40.478971, mean_eps: 0.500000\n",
            " 7592/8000: episode: 144, duration: 2.788s, episode steps: 158, steps per second:  57, episode reward: 158.000, mean reward:  1.000 [ 1.000,  1.000], mean action: 0.506 [0.000, 1.000],  loss: 7.129157, mae: 20.514579, mean_q: 40.910175, mean_eps: 0.500000\n",
            " 7686/8000: episode: 145, duration: 2.173s, episode steps:  94, steps per second:  43, episode reward: 94.000, mean reward:  1.000 [ 1.000,  1.000], mean action: 0.511 [0.000, 1.000],  loss: 7.325647, mae: 20.782069, mean_q: 41.581568, mean_eps: 0.500000\n",
            " 7848/8000: episode: 146, duration: 2.810s, episode steps: 162, steps per second:  58, episode reward: 162.000, mean reward:  1.000 [ 1.000,  1.000], mean action: 0.481 [0.000, 1.000],  loss: 7.544573, mae: 21.154889, mean_q: 42.258800, mean_eps: 0.500000\n",
            "done, took 186.574 seconds\n"
          ]
        },
        {
          "output_type": "display_data",
          "data": {
            "text/plain": [
              "<Figure size 432x288 with 1 Axes>"
            ],
            "image/png": "[encoded data removed]"
          },
          "metadata": {
            "needs_background": "light"
          }
        },
        {
          "output_type": "stream",
          "name": "stdout",
          "text": [
            "Testing for 20 episodes ...\n",
            "Episode 1: reward: 200.000, steps: 200\n",
            "Episode 2: reward: 200.000, steps: 200\n",
            "Episode 3: reward: 200.000, steps: 200\n",
            "Episode 4: reward: 200.000, steps: 200\n",
            "Episode 5: reward: 200.000, steps: 200\n",
            "Episode 6: reward: 200.000, steps: 200\n",
            "Episode 7: reward: 200.000, steps: 200\n",
            "Episode 8: reward: 200.000, steps: 200\n",
            "Episode 9: reward: 200.000, steps: 200\n",
            "Episode 10: reward: 200.000, steps: 200\n",
            "Episode 11: reward: 200.000, steps: 200\n",
            "Episode 12: reward: 200.000, steps: 200\n",
            "Episode 13: reward: 200.000, steps: 200\n",
            "Episode 14: reward: 200.000, steps: 200\n",
            "Episode 15: reward: 200.000, steps: 200\n",
            "Episode 16: reward: 200.000, steps: 200\n",
            "Episode 17: reward: 200.000, steps: 200\n",
            "Episode 18: reward: 200.000, steps: 200\n",
            "Episode 19: reward: 200.000, steps: 200\n",
            "Episode 20: reward: 200.000, steps: 200\n"
          ]
        },
        {
          "output_type": "execute_result",
          "data": {
            "text/plain": [
              "<keras.callbacks.History at 0x7fb16fb7f190>"
            ]
          },
          "metadata": {},
          "execution_count": 99
        }
      ]
    }
  ]
}