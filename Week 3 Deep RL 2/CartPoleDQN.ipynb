{
  "nbformat": 4,
  "nbformat_minor": 0,
  "metadata": {
    "colab": {
      "name": "CartPoleDQN.ipynb",
      "provenance": [],
      "collapsed_sections": [],
      "include_colab_link": true
    },
    "kernelspec": {
      "name": "python3",
      "display_name": "Python 3"
    }
  },
  "cells": [
    {
      "cell_type": "markdown",
      "metadata": {
        "id": "view-in-github",
        "colab_type": "text"
      },
      "source": [
        "<a href=\"https://colab.research.google.com/github/Megacity1/CartpoleDQN/blob/main/Week%203%20Deep%20RL%202/CartPoleDQN.ipynb\" target=\"_parent\"><img src=\"https://colab.research.google.com/assets/colab-badge.svg\" alt=\"Open In Colab\"/></a>"
      ]
    },
    {
      "cell_type": "markdown",
      "metadata": {
        "id": "VKK5DA390wRe"
      },
      "source": [
        "# Deep Q Network (DQN) for CartPole Using Boltzmann Q Policy\n",
        "This exercise implements a DQN for CartPole using a Boltzmann Q policy for selecting the actions"
      ]
    },
    {
      "cell_type": "code",
      "metadata": {
        "id": "LGsC7cJ5jNcX",
        "colab": {
          "base_uri": "https://localhost:8080/"
        },
        "outputId": "cda73cbf-3020-40f4-e45e-7b87053448f1"
      },
      "source": [
        "# install keras rl2 (we need to install keras-rl2 so it works with the tensorflow 2 version that comes pre-installed with colab)\n",
        "!pip install keras-rl2"
      ],
      "execution_count": 57,
      "outputs": [
        {
          "output_type": "stream",
          "name": "stdout",
          "text": [
            "Requirement already satisfied: keras-rl2 in /usr/local/lib/python3.7/dist-packages (1.0.5)\n",
            "Requirement already satisfied: tensorflow in /usr/local/lib/python3.7/dist-packages (from keras-rl2) (2.8.0)\n",
            "Requirement already satisfied: keras-preprocessing>=1.1.1 in /usr/local/lib/python3.7/dist-packages (from tensorflow->keras-rl2) (1.1.2)\n",
            "Requirement already satisfied: protobuf>=3.9.2 in /usr/local/lib/python3.7/dist-packages (from tensorflow->keras-rl2) (3.17.3)\n",
            "Requirement already satisfied: tensorflow-io-gcs-filesystem>=0.23.1 in /usr/local/lib/python3.7/dist-packages (from tensorflow->keras-rl2) (0.24.0)\n",
            "Requirement already satisfied: libclang>=9.0.1 in /usr/local/lib/python3.7/dist-packages (from tensorflow->keras-rl2) (13.0.0)\n",
            "Requirement already satisfied: h5py>=2.9.0 in /usr/local/lib/python3.7/dist-packages (from tensorflow->keras-rl2) (3.1.0)\n",
            "Requirement already satisfied: opt-einsum>=2.3.2 in /usr/local/lib/python3.7/dist-packages (from tensorflow->keras-rl2) (3.3.0)\n",
            "Requirement already satisfied: gast>=0.2.1 in /usr/local/lib/python3.7/dist-packages (from tensorflow->keras-rl2) (0.5.3)\n",
            "Requirement already satisfied: grpcio<2.0,>=1.24.3 in /usr/local/lib/python3.7/dist-packages (from tensorflow->keras-rl2) (1.44.0)\n",
            "Requirement already satisfied: tensorboard<2.9,>=2.8 in /usr/local/lib/python3.7/dist-packages (from tensorflow->keras-rl2) (2.8.0)\n",
            "Requirement already satisfied: wrapt>=1.11.0 in /usr/local/lib/python3.7/dist-packages (from tensorflow->keras-rl2) (1.14.0)\n",
            "Requirement already satisfied: absl-py>=0.4.0 in /usr/local/lib/python3.7/dist-packages (from tensorflow->keras-rl2) (1.0.0)\n",
            "Requirement already satisfied: flatbuffers>=1.12 in /usr/local/lib/python3.7/dist-packages (from tensorflow->keras-rl2) (2.0)\n",
            "Requirement already satisfied: termcolor>=1.1.0 in /usr/local/lib/python3.7/dist-packages (from tensorflow->keras-rl2) (1.1.0)\n",
            "Requirement already satisfied: keras<2.9,>=2.8.0rc0 in /usr/local/lib/python3.7/dist-packages (from tensorflow->keras-rl2) (2.8.0)\n",
            "Requirement already satisfied: six>=1.12.0 in /usr/local/lib/python3.7/dist-packages (from tensorflow->keras-rl2) (1.15.0)\n",
            "Requirement already satisfied: tf-estimator-nightly==2.8.0.dev2021122109 in /usr/local/lib/python3.7/dist-packages (from tensorflow->keras-rl2) (2.8.0.dev2021122109)\n",
            "Requirement already satisfied: numpy>=1.20 in /usr/local/lib/python3.7/dist-packages (from tensorflow->keras-rl2) (1.21.5)\n",
            "Requirement already satisfied: astunparse>=1.6.0 in /usr/local/lib/python3.7/dist-packages (from tensorflow->keras-rl2) (1.6.3)\n",
            "Requirement already satisfied: typing-extensions>=3.6.6 in /usr/local/lib/python3.7/dist-packages (from tensorflow->keras-rl2) (3.10.0.2)\n",
            "Requirement already satisfied: setuptools in /usr/local/lib/python3.7/dist-packages (from tensorflow->keras-rl2) (57.4.0)\n",
            "Requirement already satisfied: google-pasta>=0.1.1 in /usr/local/lib/python3.7/dist-packages (from tensorflow->keras-rl2) (0.2.0)\n",
            "Requirement already satisfied: wheel<1.0,>=0.23.0 in /usr/local/lib/python3.7/dist-packages (from astunparse>=1.6.0->tensorflow->keras-rl2) (0.37.1)\n",
            "Requirement already satisfied: cached-property in /usr/local/lib/python3.7/dist-packages (from h5py>=2.9.0->tensorflow->keras-rl2) (1.5.2)\n",
            "Requirement already satisfied: google-auth-oauthlib<0.5,>=0.4.1 in /usr/local/lib/python3.7/dist-packages (from tensorboard<2.9,>=2.8->tensorflow->keras-rl2) (0.4.6)\n",
            "Requirement already satisfied: requests<3,>=2.21.0 in /usr/local/lib/python3.7/dist-packages (from tensorboard<2.9,>=2.8->tensorflow->keras-rl2) (2.23.0)\n",
            "Requirement already satisfied: werkzeug>=0.11.15 in /usr/local/lib/python3.7/dist-packages (from tensorboard<2.9,>=2.8->tensorflow->keras-rl2) (1.0.1)\n",
            "Requirement already satisfied: markdown>=2.6.8 in /usr/local/lib/python3.7/dist-packages (from tensorboard<2.9,>=2.8->tensorflow->keras-rl2) (3.3.6)\n",
            "Requirement already satisfied: google-auth<3,>=1.6.3 in /usr/local/lib/python3.7/dist-packages (from tensorboard<2.9,>=2.8->tensorflow->keras-rl2) (1.35.0)\n",
            "Requirement already satisfied: tensorboard-data-server<0.7.0,>=0.6.0 in /usr/local/lib/python3.7/dist-packages (from tensorboard<2.9,>=2.8->tensorflow->keras-rl2) (0.6.1)\n",
            "Requirement already satisfied: tensorboard-plugin-wit>=1.6.0 in /usr/local/lib/python3.7/dist-packages (from tensorboard<2.9,>=2.8->tensorflow->keras-rl2) (1.8.1)\n",
            "Requirement already satisfied: pyasn1-modules>=0.2.1 in /usr/local/lib/python3.7/dist-packages (from google-auth<3,>=1.6.3->tensorboard<2.9,>=2.8->tensorflow->keras-rl2) (0.2.8)\n",
            "Requirement already satisfied: cachetools<5.0,>=2.0.0 in /usr/local/lib/python3.7/dist-packages (from google-auth<3,>=1.6.3->tensorboard<2.9,>=2.8->tensorflow->keras-rl2) (4.2.4)\n",
            "Requirement already satisfied: rsa<5,>=3.1.4 in /usr/local/lib/python3.7/dist-packages (from google-auth<3,>=1.6.3->tensorboard<2.9,>=2.8->tensorflow->keras-rl2) (4.8)\n",
            "Requirement already satisfied: requests-oauthlib>=0.7.0 in /usr/local/lib/python3.7/dist-packages (from google-auth-oauthlib<0.5,>=0.4.1->tensorboard<2.9,>=2.8->tensorflow->keras-rl2) (1.3.1)\n",
            "Requirement already satisfied: importlib-metadata>=4.4 in /usr/local/lib/python3.7/dist-packages (from markdown>=2.6.8->tensorboard<2.9,>=2.8->tensorflow->keras-rl2) (4.11.3)\n",
            "Requirement already satisfied: zipp>=0.5 in /usr/local/lib/python3.7/dist-packages (from importlib-metadata>=4.4->markdown>=2.6.8->tensorboard<2.9,>=2.8->tensorflow->keras-rl2) (3.7.0)\n",
            "Requirement already satisfied: pyasn1<0.5.0,>=0.4.6 in /usr/local/lib/python3.7/dist-packages (from pyasn1-modules>=0.2.1->google-auth<3,>=1.6.3->tensorboard<2.9,>=2.8->tensorflow->keras-rl2) (0.4.8)\n",
            "Requirement already satisfied: chardet<4,>=3.0.2 in /usr/local/lib/python3.7/dist-packages (from requests<3,>=2.21.0->tensorboard<2.9,>=2.8->tensorflow->keras-rl2) (3.0.4)\n",
            "Requirement already satisfied: urllib3!=1.25.0,!=1.25.1,<1.26,>=1.21.1 in /usr/local/lib/python3.7/dist-packages (from requests<3,>=2.21.0->tensorboard<2.9,>=2.8->tensorflow->keras-rl2) (1.24.3)\n",
            "Requirement already satisfied: idna<3,>=2.5 in /usr/local/lib/python3.7/dist-packages (from requests<3,>=2.21.0->tensorboard<2.9,>=2.8->tensorflow->keras-rl2) (2.10)\n",
            "Requirement already satisfied: certifi>=2017.4.17 in /usr/local/lib/python3.7/dist-packages (from requests<3,>=2.21.0->tensorboard<2.9,>=2.8->tensorflow->keras-rl2) (2021.10.8)\n",
            "Requirement already satisfied: oauthlib>=3.0.0 in /usr/local/lib/python3.7/dist-packages (from requests-oauthlib>=0.7.0->google-auth-oauthlib<0.5,>=0.4.1->tensorboard<2.9,>=2.8->tensorflow->keras-rl2) (3.2.0)\n"
          ]
        }
      ]
    },
    {
      "cell_type": "code",
      "metadata": {
        "id": "XMIHLgQ3Z-lF",
        "colab": {
          "base_uri": "https://localhost:8080/"
        },
        "outputId": "3d5a8608-456f-4127-ce8a-f551e5f4e4f3"
      },
      "source": [
        "!pip install gym"
      ],
      "execution_count": 58,
      "outputs": [
        {
          "output_type": "stream",
          "name": "stdout",
          "text": [
            "Requirement already satisfied: gym in /usr/local/lib/python3.7/dist-packages (0.17.3)\n",
            "Requirement already satisfied: numpy>=1.10.4 in /usr/local/lib/python3.7/dist-packages (from gym) (1.21.5)\n",
            "Requirement already satisfied: scipy in /usr/local/lib/python3.7/dist-packages (from gym) (1.4.1)\n",
            "Requirement already satisfied: pyglet<=1.5.0,>=1.4.0 in /usr/local/lib/python3.7/dist-packages (from gym) (1.5.0)\n",
            "Requirement already satisfied: cloudpickle<1.7.0,>=1.2.0 in /usr/local/lib/python3.7/dist-packages (from gym) (1.3.0)\n",
            "Requirement already satisfied: future in /usr/local/lib/python3.7/dist-packages (from pyglet<=1.5.0,>=1.4.0->gym) (0.16.0)\n"
          ]
        }
      ]
    },
    {
      "cell_type": "code",
      "metadata": {
        "id": "M0AMLzq08ap0",
        "colab": {
          "base_uri": "https://localhost:8080/"
        },
        "outputId": "77b380e1-6c3d-4bce-8233-a8ac01deaf26"
      },
      "source": [
        "# load the gym module\n",
        "import gym\n",
        "import matplotlib.pyplot as plt\n",
        "# import the usual Keras modules for creating deep neural networks\n",
        "from keras import Sequential\n",
        "from keras.layers import Input, Flatten, Dense\n",
        "!pip install Adam\n",
        "#from keras.optimizers import Adam\n",
        "from tensorflow.keras.optimizers import Adam\n",
        "ENV_NAME = 'CartPole-v0'\n",
        "env = gym.make(ENV_NAME)"
      ],
      "execution_count": 62,
      "outputs": [
        {
          "output_type": "stream",
          "name": "stdout",
          "text": [
            "Requirement already satisfied: Adam in /usr/local/lib/python3.7/dist-packages (0.0.0.dev0)\n"
          ]
        }
      ]
    },
    {
      "cell_type": "markdown",
      "metadata": {
        "id": "ll6bNdUm54WS"
      },
      "source": [
        "Implementation of DQN for CartPole, applying policy BoltzmannQPolicy"
      ]
    },
    {
      "cell_type": "markdown",
      "metadata": {
        "id": "RSCrPKNy40PC"
      },
      "source": [
        "##Implement DQN with BoltzmannGumbelQPolicy"
      ]
    },
    {
      "cell_type": "code",
      "metadata": {
        "id": "efM9jkXr5A3c",
        "colab": {
          "base_uri": "https://localhost:8080/",
          "height": 1000
        },
        "outputId": "21873ba7-f8ef-4f89-de6b-e71161a2a38f"
      },
      "source": [
        "import rl\n",
        "from rl.memory import SequentialMemory  # import the exerience replay buffer module\n",
        "from rl.policy import BoltzmannGumbelQPolicy\n",
        "from rl.policy import LinearAnnealedPolicy\n",
        "from rl.policy import EpsGreedyQPolicy\n",
        "from rl.agents.dqn import DQNAgent      # import the DQN agent\n",
        "\n",
        "# setup experience replay buffer\n",
        "memory = SequentialMemory(limit=10000, window_length=1)\n",
        "\n",
        "policy = LinearAnnealedPolicy(EpsGreedyQPolicy(), \n",
        "                               attr='eps',            \n",
        "                               value_max=5.,\n",
        "                               value_min=.5, \n",
        "                               value_test=.05,\n",
        "                               nb_steps=20)\n",
        "# Q-Network\n",
        "model = Sequential()\n",
        "model.add(Input(shape=(1,env.observation_space.shape[0])))  # The input is 1 observation vector, and the number of observations in that vector \n",
        "model.add(Flatten())\n",
        "model.add(Dense(32, activation='relu'))\n",
        "# add extra layers here\n",
        "model.add(Dense(env.action_space.n, activation='linear'))   # the output is the number of actions in the action space\n",
        "\n",
        "print(model.summary())\n",
        "\n",
        "# define the agent\n",
        "dqn = DQNAgent(model=model, \n",
        "               nb_actions=env.action_space.n,\n",
        "               memory=memory,\n",
        "               nb_steps_warmup=20,\n",
        "               target_model_update=1e-2, \n",
        "               policy=policy) \n",
        "\n",
        "dqn.compile(Adam(lr=1e-3), metrics=['mae'])\n",
        "\n",
        "history = dqn.fit(env, nb_steps=8000, visualize=False, verbose=2)\n",
        "\n",
        "# summarize the history for number  of episode steps\n",
        "plt.plot(history.history['nb_episode_steps'])\n",
        "plt.ylabel('nb_episode_steps')\n",
        "plt.xlabel('episodes')\n",
        "plt.show()\n",
        "\n",
        "dqn.test(env, nb_episodes=20, visualize=False)"
      ],
      "execution_count": 98,
      "outputs": [
        {
          "output_type": "stream",
          "name": "stdout",
          "text": [
            "Model: \"sequential_49\"\n",
            "_________________________________________________________________\n",
            " Layer (type)                Output Shape              Param #   \n",
            "=================================================================\n",
            " flatten_47 (Flatten)        (None, 4)                 0         \n",
            "                                                                 \n",
            " dense_95 (Dense)            (None, 32)                160       \n",
            "                                                                 \n",
            " dense_96 (Dense)            (None, 2)                 66        \n",
            "                                                                 \n",
            "=================================================================\n",
            "Total params: 226\n",
            "Trainable params: 226\n",
            "Non-trainable params: 0\n",
            "_________________________________________________________________\n",
            "None\n"
          ]
        },
        {
          "output_type": "stream",
          "name": "stderr",
          "text": [
            "/usr/local/lib/python3.7/dist-packages/keras/optimizer_v2/adam.py:105: UserWarning: The `lr` argument is deprecated, use `learning_rate` instead.\n",
            "  super(Adam, self).__init__(name, **kwargs)\n"
          ]
        },
        {
          "output_type": "stream",
          "name": "stdout",
          "text": [
            "Training for 8000 steps ...\n"
          ]
        },
        {
          "output_type": "stream",
          "name": "stderr",
          "text": [
            "/usr/local/lib/python3.7/dist-packages/keras/engine/training_v1.py:2079: UserWarning: `Model.state_updates` will be removed in a future version. This property should not be used in TensorFlow 2.0, as `updates` are applied automatically.\n",
            "  updates=self.state_updates,\n"
          ]
        },
        {
          "output_type": "stream",
          "name": "stdout",
          "text": [
            "   10/8000: episode: 1, duration: 3.471s, episode steps:  10, steps per second:   3, episode reward: 10.000, mean reward:  1.000 [ 1.000,  1.000], mean action: 0.700 [0.000, 1.000],  loss: --, mae: --, mean_q: --, mean_eps: --\n"
          ]
        },
        {
          "output_type": "stream",
          "name": "stderr",
          "text": [
            "/usr/local/lib/python3.7/dist-packages/rl/memory.py:37: UserWarning: Not enough entries to sample without replacement. Consider increasing your warm-up phase to avoid oversampling!\n",
            "  warnings.warn('Not enough entries to sample without replacement. Consider increasing your warm-up phase to avoid oversampling!')\n",
            "/usr/local/lib/python3.7/dist-packages/keras/engine/training_v1.py:2079: UserWarning: `Model.state_updates` will be removed in a future version. This property should not be used in TensorFlow 2.0, as `updates` are applied automatically.\n",
            "  updates=self.state_updates,\n"
          ]
        },
        {
          "output_type": "stream",
          "name": "stdout",
          "text": [
            "   43/8000: episode: 2, duration: 10.752s, episode steps:  33, steps per second:   3, episode reward: 33.000, mean reward:  1.000 [ 1.000,  1.000], mean action: 0.545 [0.000, 1.000],  loss: 0.554078, mae: 0.571355, mean_q: 0.111323, mean_eps: 4.291250\n",
            "   63/8000: episode: 3, duration: 0.346s, episode steps:  20, steps per second:  58, episode reward: 20.000, mean reward:  1.000 [ 1.000,  1.000], mean action: 0.600 [0.000, 1.000],  loss: 0.443952, mae: 0.534531, mean_q: 0.198704, mean_eps: 3.818750\n",
            "  119/8000: episode: 4, duration: 1.206s, episode steps:  56, steps per second:  46, episode reward: 56.000, mean reward:  1.000 [ 1.000,  1.000], mean action: 0.500 [0.000, 1.000],  loss: 0.329681, mae: 0.557252, mean_q: 0.460828, mean_eps: 2.963750\n",
            "  132/8000: episode: 5, duration: 0.279s, episode steps:  13, steps per second:  47, episode reward: 13.000, mean reward:  1.000 [ 1.000,  1.000], mean action: 0.692 [0.000, 1.000],  loss: 0.213958, mae: 0.614235, mean_q: 0.776670, mean_eps: 2.187500\n",
            "  142/8000: episode: 6, duration: 0.164s, episode steps:  10, steps per second:  61, episode reward: 10.000, mean reward:  1.000 [ 1.000,  1.000], mean action: 0.800 [0.000, 1.000],  loss: 0.168855, mae: 0.652696, mean_q: 0.938020, mean_eps: 1.928750\n",
            "  154/8000: episode: 7, duration: 0.245s, episode steps:  12, steps per second:  49, episode reward: 12.000, mean reward:  1.000 [ 1.000,  1.000], mean action: 0.750 [0.000, 1.000],  loss: 0.127946, mae: 0.687358, mean_q: 1.095032, mean_eps: 1.681250\n",
            "  172/8000: episode: 8, duration: 0.356s, episode steps:  18, steps per second:  51, episode reward: 18.000, mean reward:  1.000 [ 1.000,  1.000], mean action: 0.389 [0.000, 1.000],  loss: 0.107147, mae: 0.750422, mean_q: 1.281300, mean_eps: 1.343750\n",
            "  193/8000: episode: 9, duration: 0.349s, episode steps:  21, steps per second:  60, episode reward: 21.000, mean reward:  1.000 [ 1.000,  1.000], mean action: 0.476 [0.000, 1.000],  loss: 0.107758, mae: 0.817476, mean_q: 1.406366, mean_eps: 0.905000\n",
            "  217/8000: episode: 10, duration: 0.466s, episode steps:  24, steps per second:  51, episode reward: 24.000, mean reward:  1.000 [ 1.000,  1.000], mean action: 0.667 [0.000, 1.000],  loss: 0.094933, mae: 0.879176, mean_q: 1.558906, mean_eps: 0.526250\n",
            "  226/8000: episode: 11, duration: 0.216s, episode steps:   9, steps per second:  42, episode reward:  9.000, mean reward:  1.000 [ 1.000,  1.000], mean action: 0.889 [0.000, 1.000],  loss: 0.081771, mae: 0.941620, mean_q: 1.713215, mean_eps: 0.500000\n",
            "  237/8000: episode: 12, duration: 0.230s, episode steps:  11, steps per second:  48, episode reward: 11.000, mean reward:  1.000 [ 1.000,  1.000], mean action: 0.818 [0.000, 1.000],  loss: 0.100845, mae: 1.000760, mean_q: 1.802857, mean_eps: 0.500000\n",
            "  254/8000: episode: 13, duration: 0.317s, episode steps:  17, steps per second:  54, episode reward: 17.000, mean reward:  1.000 [ 1.000,  1.000], mean action: 0.647 [0.000, 1.000],  loss: 0.126203, mae: 1.066208, mean_q: 1.896423, mean_eps: 0.500000\n",
            "  265/8000: episode: 14, duration: 0.213s, episode steps:  11, steps per second:  52, episode reward: 11.000, mean reward:  1.000 [ 1.000,  1.000], mean action: 0.909 [0.000, 1.000],  loss: 0.107026, mae: 1.108966, mean_q: 1.965020, mean_eps: 0.500000\n",
            "  286/8000: episode: 15, duration: 0.393s, episode steps:  21, steps per second:  53, episode reward: 21.000, mean reward:  1.000 [ 1.000,  1.000], mean action: 0.667 [0.000, 1.000],  loss: 0.115593, mae: 1.174051, mean_q: 2.171941, mean_eps: 0.500000\n",
            "  296/8000: episode: 16, duration: 0.289s, episode steps:  10, steps per second:  35, episode reward: 10.000, mean reward:  1.000 [ 1.000,  1.000], mean action: 0.900 [0.000, 1.000],  loss: 0.120872, mae: 1.243638, mean_q: 2.336243, mean_eps: 0.500000\n",
            "  306/8000: episode: 17, duration: 0.293s, episode steps:  10, steps per second:  34, episode reward: 10.000, mean reward:  1.000 [ 1.000,  1.000], mean action: 0.800 [0.000, 1.000],  loss: 0.184900, mae: 1.320814, mean_q: 2.445969, mean_eps: 0.500000\n",
            "  315/8000: episode: 18, duration: 0.286s, episode steps:   9, steps per second:  31, episode reward:  9.000, mean reward:  1.000 [ 1.000,  1.000], mean action: 1.000 [1.000, 1.000],  loss: 0.134313, mae: 1.323815, mean_q: 2.429799, mean_eps: 0.500000\n",
            "  328/8000: episode: 19, duration: 0.387s, episode steps:  13, steps per second:  34, episode reward: 13.000, mean reward:  1.000 [ 1.000,  1.000], mean action: 0.846 [0.000, 1.000],  loss: 0.173258, mae: 1.378768, mean_q: 2.575587, mean_eps: 0.500000\n",
            "  342/8000: episode: 20, duration: 0.361s, episode steps:  14, steps per second:  39, episode reward: 14.000, mean reward:  1.000 [ 1.000,  1.000], mean action: 0.643 [0.000, 1.000],  loss: 0.258081, mae: 1.451755, mean_q: 2.663418, mean_eps: 0.500000\n",
            "  352/8000: episode: 21, duration: 0.311s, episode steps:  10, steps per second:  32, episode reward: 10.000, mean reward:  1.000 [ 1.000,  1.000], mean action: 0.900 [0.000, 1.000],  loss: 0.228730, mae: 1.478087, mean_q: 2.629088, mean_eps: 0.500000\n",
            "  365/8000: episode: 22, duration: 0.344s, episode steps:  13, steps per second:  38, episode reward: 13.000, mean reward:  1.000 [ 1.000,  1.000], mean action: 0.692 [0.000, 1.000],  loss: 0.123285, mae: 1.479775, mean_q: 2.795063, mean_eps: 0.500000\n",
            "  375/8000: episode: 23, duration: 0.262s, episode steps:  10, steps per second:  38, episode reward: 10.000, mean reward:  1.000 [ 1.000,  1.000], mean action: 0.600 [0.000, 1.000],  loss: 0.153585, mae: 1.552129, mean_q: 3.038688, mean_eps: 0.500000\n",
            "  387/8000: episode: 24, duration: 0.334s, episode steps:  12, steps per second:  36, episode reward: 12.000, mean reward:  1.000 [ 1.000,  1.000], mean action: 0.167 [0.000, 1.000],  loss: 0.190745, mae: 1.623210, mean_q: 3.120770, mean_eps: 0.500000\n",
            "  397/8000: episode: 25, duration: 0.226s, episode steps:  10, steps per second:  44, episode reward: 10.000, mean reward:  1.000 [ 1.000,  1.000], mean action: 0.900 [0.000, 1.000],  loss: 0.180767, mae: 1.660515, mean_q: 3.165057, mean_eps: 0.500000\n",
            "  410/8000: episode: 26, duration: 0.301s, episode steps:  13, steps per second:  43, episode reward: 13.000, mean reward:  1.000 [ 1.000,  1.000], mean action: 0.846 [0.000, 1.000],  loss: 0.240065, mae: 1.718514, mean_q: 3.250992, mean_eps: 0.500000\n",
            "  423/8000: episode: 27, duration: 0.372s, episode steps:  13, steps per second:  35, episode reward: 13.000, mean reward:  1.000 [ 1.000,  1.000], mean action: 0.769 [0.000, 1.000],  loss: 0.237727, mae: 1.754813, mean_q: 3.300614, mean_eps: 0.500000\n",
            "  436/8000: episode: 28, duration: 0.340s, episode steps:  13, steps per second:  38, episode reward: 13.000, mean reward:  1.000 [ 1.000,  1.000], mean action: 0.692 [0.000, 1.000],  loss: 0.192207, mae: 1.774376, mean_q: 3.443100, mean_eps: 0.500000\n",
            "  447/8000: episode: 29, duration: 0.323s, episode steps:  11, steps per second:  34, episode reward: 11.000, mean reward:  1.000 [ 1.000,  1.000], mean action: 0.909 [0.000, 1.000],  loss: 0.270020, mae: 1.855360, mean_q: 3.524688, mean_eps: 0.500000\n",
            "  458/8000: episode: 30, duration: 0.350s, episode steps:  11, steps per second:  31, episode reward: 11.000, mean reward:  1.000 [ 1.000,  1.000], mean action: 0.818 [0.000, 1.000],  loss: 0.228833, mae: 1.899255, mean_q: 3.563887, mean_eps: 0.500000\n",
            "  473/8000: episode: 31, duration: 0.423s, episode steps:  15, steps per second:  35, episode reward: 15.000, mean reward:  1.000 [ 1.000,  1.000], mean action: 0.733 [0.000, 1.000],  loss: 0.266250, mae: 1.942725, mean_q: 3.601620, mean_eps: 0.500000\n",
            "  484/8000: episode: 32, duration: 0.283s, episode steps:  11, steps per second:  39, episode reward: 11.000, mean reward:  1.000 [ 1.000,  1.000], mean action: 0.818 [0.000, 1.000],  loss: 0.294295, mae: 1.994754, mean_q: 3.705567, mean_eps: 0.500000\n",
            "  497/8000: episode: 33, duration: 0.275s, episode steps:  13, steps per second:  47, episode reward: 13.000, mean reward:  1.000 [ 1.000,  1.000], mean action: 0.769 [0.000, 1.000],  loss: 0.290475, mae: 2.043951, mean_q: 3.771757, mean_eps: 0.500000\n",
            "  507/8000: episode: 34, duration: 0.222s, episode steps:  10, steps per second:  45, episode reward: 10.000, mean reward:  1.000 [ 1.000,  1.000], mean action: 0.700 [0.000, 1.000],  loss: 0.305054, mae: 2.093574, mean_q: 3.839889, mean_eps: 0.500000\n",
            "  520/8000: episode: 35, duration: 0.289s, episode steps:  13, steps per second:  45, episode reward: 13.000, mean reward:  1.000 [ 1.000,  1.000], mean action: 0.769 [0.000, 1.000],  loss: 0.311307, mae: 2.129359, mean_q: 3.902585, mean_eps: 0.500000\n",
            "  529/8000: episode: 36, duration: 0.245s, episode steps:   9, steps per second:  37, episode reward:  9.000, mean reward:  1.000 [ 1.000,  1.000], mean action: 1.000 [1.000, 1.000],  loss: 0.297811, mae: 2.167029, mean_q: 3.949811, mean_eps: 0.500000\n",
            "  542/8000: episode: 37, duration: 0.375s, episode steps:  13, steps per second:  35, episode reward: 13.000, mean reward:  1.000 [ 1.000,  1.000], mean action: 0.769 [0.000, 1.000],  loss: 0.325296, mae: 2.197492, mean_q: 4.108254, mean_eps: 0.500000\n",
            "  557/8000: episode: 38, duration: 0.424s, episode steps:  15, steps per second:  35, episode reward: 15.000, mean reward:  1.000 [ 1.000,  1.000], mean action: 0.667 [0.000, 1.000],  loss: 0.294220, mae: 2.218613, mean_q: 4.182773, mean_eps: 0.500000\n",
            "  574/8000: episode: 39, duration: 0.463s, episode steps:  17, steps per second:  37, episode reward: 17.000, mean reward:  1.000 [ 1.000,  1.000], mean action: 0.647 [0.000, 1.000],  loss: 0.378504, mae: 2.311187, mean_q: 4.225516, mean_eps: 0.500000\n",
            "  587/8000: episode: 40, duration: 0.339s, episode steps:  13, steps per second:  38, episode reward: 13.000, mean reward:  1.000 [ 1.000,  1.000], mean action: 0.615 [0.000, 1.000],  loss: 0.283408, mae: 2.335314, mean_q: 4.258887, mean_eps: 0.500000\n",
            "  609/8000: episode: 41, duration: 0.389s, episode steps:  22, steps per second:  57, episode reward: 22.000, mean reward:  1.000 [ 1.000,  1.000], mean action: 0.727 [0.000, 1.000],  loss: 0.383646, mae: 2.429171, mean_q: 4.474068, mean_eps: 0.500000\n",
            "  639/8000: episode: 42, duration: 0.511s, episode steps:  30, steps per second:  59, episode reward: 30.000, mean reward:  1.000 [ 1.000,  1.000], mean action: 0.267 [0.000, 1.000],  loss: 0.294275, mae: 2.486949, mean_q: 4.618679, mean_eps: 0.500000\n",
            "  649/8000: episode: 43, duration: 0.236s, episode steps:  10, steps per second:  42, episode reward: 10.000, mean reward:  1.000 [ 1.000,  1.000], mean action: 0.700 [0.000, 1.000],  loss: 0.368066, mae: 2.553266, mean_q: 4.792148, mean_eps: 0.500000\n",
            "  659/8000: episode: 44, duration: 0.200s, episode steps:  10, steps per second:  50, episode reward: 10.000, mean reward:  1.000 [ 1.000,  1.000], mean action: 0.600 [0.000, 1.000],  loss: 0.384830, mae: 2.582528, mean_q: 4.789184, mean_eps: 0.500000\n",
            "  672/8000: episode: 45, duration: 0.241s, episode steps:  13, steps per second:  54, episode reward: 13.000, mean reward:  1.000 [ 1.000,  1.000], mean action: 0.615 [0.000, 1.000],  loss: 0.353750, mae: 2.617370, mean_q: 4.812593, mean_eps: 0.500000\n",
            "  688/8000: episode: 46, duration: 0.296s, episode steps:  16, steps per second:  54, episode reward: 16.000, mean reward:  1.000 [ 1.000,  1.000], mean action: 0.688 [0.000, 1.000],  loss: 0.371669, mae: 2.678690, mean_q: 4.990218, mean_eps: 0.500000\n",
            "  715/8000: episode: 47, duration: 0.540s, episode steps:  27, steps per second:  50, episode reward: 27.000, mean reward:  1.000 [ 1.000,  1.000], mean action: 0.667 [0.000, 1.000],  loss: 0.420160, mae: 2.733334, mean_q: 5.033840, mean_eps: 0.500000\n",
            "  741/8000: episode: 48, duration: 0.498s, episode steps:  26, steps per second:  52, episode reward: 26.000, mean reward:  1.000 [ 1.000,  1.000], mean action: 0.538 [0.000, 1.000],  loss: 0.447567, mae: 2.833022, mean_q: 5.262584, mean_eps: 0.500000\n",
            "  886/8000: episode: 49, duration: 2.810s, episode steps: 145, steps per second:  52, episode reward: 145.000, mean reward:  1.000 [ 1.000,  1.000], mean action: 0.462 [0.000, 1.000],  loss: 0.418426, mae: 3.063812, mean_q: 5.736611, mean_eps: 0.500000\n",
            "  908/8000: episode: 50, duration: 0.632s, episode steps:  22, steps per second:  35, episode reward: 22.000, mean reward:  1.000 [ 1.000,  1.000], mean action: 0.455 [0.000, 1.000],  loss: 0.445731, mae: 3.324945, mean_q: 6.318944, mean_eps: 0.500000\n",
            " 1020/8000: episode: 51, duration: 2.420s, episode steps: 112, steps per second:  46, episode reward: 112.000, mean reward:  1.000 [ 1.000,  1.000], mean action: 0.536 [0.000, 1.000],  loss: 0.489402, mae: 3.617778, mean_q: 6.935340, mean_eps: 0.500000\n",
            " 1066/8000: episode: 52, duration: 1.126s, episode steps:  46, steps per second:  41, episode reward: 46.000, mean reward:  1.000 [ 1.000,  1.000], mean action: 0.478 [0.000, 1.000],  loss: 0.579252, mae: 3.953452, mean_q: 7.570109, mean_eps: 0.500000\n",
            " 1087/8000: episode: 53, duration: 0.540s, episode steps:  21, steps per second:  39, episode reward: 21.000, mean reward:  1.000 [ 1.000,  1.000], mean action: 0.476 [0.000, 1.000],  loss: 0.604715, mae: 4.070325, mean_q: 7.888361, mean_eps: 0.500000\n",
            " 1115/8000: episode: 54, duration: 0.753s, episode steps:  28, steps per second:  37, episode reward: 28.000, mean reward:  1.000 [ 1.000,  1.000], mean action: 0.500 [0.000, 1.000],  loss: 0.658989, mae: 4.176974, mean_q: 7.996961, mean_eps: 0.500000\n",
            " 1135/8000: episode: 55, duration: 0.557s, episode steps:  20, steps per second:  36, episode reward: 20.000, mean reward:  1.000 [ 1.000,  1.000], mean action: 0.500 [0.000, 1.000],  loss: 0.570814, mae: 4.278988, mean_q: 8.247115, mean_eps: 0.500000\n",
            " 1150/8000: episode: 56, duration: 0.413s, episode steps:  15, steps per second:  36, episode reward: 15.000, mean reward:  1.000 [ 1.000,  1.000], mean action: 0.533 [0.000, 1.000],  loss: 0.774082, mae: 4.391550, mean_q: 8.414588, mean_eps: 0.500000\n",
            " 1166/8000: episode: 57, duration: 0.413s, episode steps:  16, steps per second:  39, episode reward: 16.000, mean reward:  1.000 [ 1.000,  1.000], mean action: 0.438 [0.000, 1.000],  loss: 0.643192, mae: 4.399261, mean_q: 8.536163, mean_eps: 0.500000\n",
            " 1190/8000: episode: 58, duration: 0.614s, episode steps:  24, steps per second:  39, episode reward: 24.000, mean reward:  1.000 [ 1.000,  1.000], mean action: 0.500 [0.000, 1.000],  loss: 0.999359, mae: 4.523296, mean_q: 8.623393, mean_eps: 0.500000\n",
            " 1215/8000: episode: 59, duration: 0.636s, episode steps:  25, steps per second:  39, episode reward: 25.000, mean reward:  1.000 [ 1.000,  1.000], mean action: 0.480 [0.000, 1.000],  loss: 0.946653, mae: 4.665252, mean_q: 8.982222, mean_eps: 0.500000\n",
            " 1238/8000: episode: 60, duration: 0.615s, episode steps:  23, steps per second:  37, episode reward: 23.000, mean reward:  1.000 [ 1.000,  1.000], mean action: 0.565 [0.000, 1.000],  loss: 0.912032, mae: 4.678314, mean_q: 8.881889, mean_eps: 0.500000\n",
            " 1250/8000: episode: 61, duration: 0.225s, episode steps:  12, steps per second:  53, episode reward: 12.000, mean reward:  1.000 [ 1.000,  1.000], mean action: 0.333 [0.000, 1.000],  loss: 0.753952, mae: 4.816910, mean_q: 9.269919, mean_eps: 0.500000\n",
            " 1261/8000: episode: 62, duration: 0.183s, episode steps:  11, steps per second:  60, episode reward: 11.000, mean reward:  1.000 [ 1.000,  1.000], mean action: 0.273 [0.000, 1.000],  loss: 1.245540, mae: 4.880629, mean_q: 9.409927, mean_eps: 0.500000\n",
            " 1274/8000: episode: 63, duration: 0.267s, episode steps:  13, steps per second:  49, episode reward: 13.000, mean reward:  1.000 [ 1.000,  1.000], mean action: 0.385 [0.000, 1.000],  loss: 1.055062, mae: 4.935708, mean_q: 9.576185, mean_eps: 0.500000\n",
            " 1286/8000: episode: 64, duration: 0.260s, episode steps:  12, steps per second:  46, episode reward: 12.000, mean reward:  1.000 [ 1.000,  1.000], mean action: 0.250 [0.000, 1.000],  loss: 0.803522, mae: 4.925003, mean_q: 9.618798, mean_eps: 0.500000\n",
            " 1299/8000: episode: 65, duration: 0.342s, episode steps:  13, steps per second:  38, episode reward: 13.000, mean reward:  1.000 [ 1.000,  1.000], mean action: 0.308 [0.000, 1.000],  loss: 0.922578, mae: 4.999295, mean_q: 9.763605, mean_eps: 0.500000\n",
            " 1316/8000: episode: 66, duration: 0.437s, episode steps:  17, steps per second:  39, episode reward: 17.000, mean reward:  1.000 [ 1.000,  1.000], mean action: 0.353 [0.000, 1.000],  loss: 0.895553, mae: 5.066705, mean_q: 9.875965, mean_eps: 0.500000\n",
            " 1325/8000: episode: 67, duration: 0.279s, episode steps:   9, steps per second:  32, episode reward:  9.000, mean reward:  1.000 [ 1.000,  1.000], mean action: 0.111 [0.000, 1.000],  loss: 1.848966, mae: 5.153070, mean_q: 9.770375, mean_eps: 0.500000\n",
            " 1338/8000: episode: 68, duration: 0.343s, episode steps:  13, steps per second:  38, episode reward: 13.000, mean reward:  1.000 [ 1.000,  1.000], mean action: 0.462 [0.000, 1.000],  loss: 0.974942, mae: 5.173764, mean_q: 9.984076, mean_eps: 0.500000\n",
            " 1365/8000: episode: 69, duration: 0.776s, episode steps:  27, steps per second:  35, episode reward: 27.000, mean reward:  1.000 [ 1.000,  1.000], mean action: 0.296 [0.000, 1.000],  loss: 1.688331, mae: 5.328619, mean_q: 10.080015, mean_eps: 0.500000\n",
            " 1380/8000: episode: 70, duration: 0.458s, episode steps:  15, steps per second:  33, episode reward: 15.000, mean reward:  1.000 [ 1.000,  1.000], mean action: 0.333 [0.000, 1.000],  loss: 1.559905, mae: 5.402124, mean_q: 10.397883, mean_eps: 0.500000\n",
            " 1405/8000: episode: 71, duration: 0.698s, episode steps:  25, steps per second:  36, episode reward: 25.000, mean reward:  1.000 [ 1.000,  1.000], mean action: 0.480 [0.000, 1.000],  loss: 1.870414, mae: 5.493102, mean_q: 10.376409, mean_eps: 0.500000\n",
            " 1440/8000: episode: 72, duration: 0.892s, episode steps:  35, steps per second:  39, episode reward: 35.000, mean reward:  1.000 [ 1.000,  1.000], mean action: 0.486 [0.000, 1.000],  loss: 1.798439, mae: 5.554018, mean_q: 10.433406, mean_eps: 0.500000\n",
            " 1454/8000: episode: 73, duration: 0.270s, episode steps:  14, steps per second:  52, episode reward: 14.000, mean reward:  1.000 [ 1.000,  1.000], mean action: 0.357 [0.000, 1.000],  loss: 2.362718, mae: 5.643909, mean_q: 10.416923, mean_eps: 0.500000\n",
            " 1471/8000: episode: 74, duration: 0.368s, episode steps:  17, steps per second:  46, episode reward: 17.000, mean reward:  1.000 [ 1.000,  1.000], mean action: 0.412 [0.000, 1.000],  loss: 1.524788, mae: 5.683261, mean_q: 10.772053, mean_eps: 0.500000\n",
            " 1484/8000: episode: 75, duration: 0.265s, episode steps:  13, steps per second:  49, episode reward: 13.000, mean reward:  1.000 [ 1.000,  1.000], mean action: 0.462 [0.000, 1.000],  loss: 2.160610, mae: 5.787737, mean_q: 10.947158, mean_eps: 0.500000\n",
            " 1504/8000: episode: 76, duration: 0.533s, episode steps:  20, steps per second:  38, episode reward: 20.000, mean reward:  1.000 [ 1.000,  1.000], mean action: 0.350 [0.000, 1.000],  loss: 1.856586, mae: 5.784541, mean_q: 10.937036, mean_eps: 0.500000\n",
            " 1523/8000: episode: 77, duration: 0.543s, episode steps:  19, steps per second:  35, episode reward: 19.000, mean reward:  1.000 [ 1.000,  1.000], mean action: 0.474 [0.000, 1.000],  loss: 1.656343, mae: 5.805008, mean_q: 11.005763, mean_eps: 0.500000\n",
            " 1534/8000: episode: 78, duration: 0.202s, episode steps:  11, steps per second:  54, episode reward: 11.000, mean reward:  1.000 [ 1.000,  1.000], mean action: 0.273 [0.000, 1.000],  loss: 1.993633, mae: 5.894107, mean_q: 11.116895, mean_eps: 0.500000\n",
            " 1546/8000: episode: 79, duration: 0.250s, episode steps:  12, steps per second:  48, episode reward: 12.000, mean reward:  1.000 [ 1.000,  1.000], mean action: 0.333 [0.000, 1.000],  loss: 1.374028, mae: 5.895301, mean_q: 11.277791, mean_eps: 0.500000\n",
            " 1569/8000: episode: 80, duration: 0.500s, episode steps:  23, steps per second:  46, episode reward: 23.000, mean reward:  1.000 [ 1.000,  1.000], mean action: 0.522 [0.000, 1.000],  loss: 1.225757, mae: 5.972905, mean_q: 11.535099, mean_eps: 0.500000\n",
            " 1584/8000: episode: 81, duration: 0.439s, episode steps:  15, steps per second:  34, episode reward: 15.000, mean reward:  1.000 [ 1.000,  1.000], mean action: 0.467 [0.000, 1.000],  loss: 2.231229, mae: 6.018090, mean_q: 11.340109, mean_eps: 0.500000\n",
            " 1607/8000: episode: 82, duration: 0.665s, episode steps:  23, steps per second:  35, episode reward: 23.000, mean reward:  1.000 [ 1.000,  1.000], mean action: 0.348 [0.000, 1.000],  loss: 2.067595, mae: 6.075240, mean_q: 11.415123, mean_eps: 0.500000\n",
            " 1621/8000: episode: 83, duration: 0.375s, episode steps:  14, steps per second:  37, episode reward: 14.000, mean reward:  1.000 [ 1.000,  1.000], mean action: 0.357 [0.000, 1.000],  loss: 2.073282, mae: 6.100394, mean_q: 11.523027, mean_eps: 0.500000\n",
            " 1633/8000: episode: 84, duration: 0.412s, episode steps:  12, steps per second:  29, episode reward: 12.000, mean reward:  1.000 [ 1.000,  1.000], mean action: 0.250 [0.000, 1.000],  loss: 2.607040, mae: 6.226842, mean_q: 11.596173, mean_eps: 0.500000\n",
            " 1644/8000: episode: 85, duration: 0.314s, episode steps:  11, steps per second:  35, episode reward: 11.000, mean reward:  1.000 [ 1.000,  1.000], mean action: 0.273 [0.000, 1.000],  loss: 1.682781, mae: 6.169395, mean_q: 11.674713, mean_eps: 0.500000\n",
            " 1653/8000: episode: 86, duration: 0.728s, episode steps:   9, steps per second:  12, episode reward:  9.000, mean reward:  1.000 [ 1.000,  1.000], mean action: 0.222 [0.000, 1.000],  loss: 1.793831, mae: 6.179877, mean_q: 11.735933, mean_eps: 0.500000\n",
            " 1670/8000: episode: 87, duration: 0.618s, episode steps:  17, steps per second:  28, episode reward: 17.000, mean reward:  1.000 [ 1.000,  1.000], mean action: 0.471 [0.000, 1.000],  loss: 1.513748, mae: 6.227090, mean_q: 11.931574, mean_eps: 0.500000\n",
            " 1696/8000: episode: 88, duration: 0.748s, episode steps:  26, steps per second:  35, episode reward: 26.000, mean reward:  1.000 [ 1.000,  1.000], mean action: 0.462 [0.000, 1.000],  loss: 2.062719, mae: 6.332249, mean_q: 12.045939, mean_eps: 0.500000\n",
            " 1723/8000: episode: 89, duration: 0.738s, episode steps:  27, steps per second:  37, episode reward: 27.000, mean reward:  1.000 [ 1.000,  1.000], mean action: 0.556 [0.000, 1.000],  loss: 2.137370, mae: 6.353633, mean_q: 11.929288, mean_eps: 0.500000\n",
            " 1740/8000: episode: 90, duration: 0.501s, episode steps:  17, steps per second:  34, episode reward: 17.000, mean reward:  1.000 [ 1.000,  1.000], mean action: 0.471 [0.000, 1.000],  loss: 2.446058, mae: 6.445390, mean_q: 12.166215, mean_eps: 0.500000\n",
            " 1755/8000: episode: 91, duration: 0.447s, episode steps:  15, steps per second:  34, episode reward: 15.000, mean reward:  1.000 [ 1.000,  1.000], mean action: 0.533 [0.000, 1.000],  loss: 2.264712, mae: 6.454019, mean_q: 12.134109, mean_eps: 0.500000\n",
            " 1775/8000: episode: 92, duration: 0.588s, episode steps:  20, steps per second:  34, episode reward: 20.000, mean reward:  1.000 [ 1.000,  1.000], mean action: 0.500 [0.000, 1.000],  loss: 1.834104, mae: 6.478831, mean_q: 12.343480, mean_eps: 0.500000\n",
            " 1851/8000: episode: 93, duration: 2.110s, episode steps:  76, steps per second:  36, episode reward: 76.000, mean reward:  1.000 [ 1.000,  1.000], mean action: 0.513 [0.000, 1.000],  loss: 2.629992, mae: 6.604086, mean_q: 12.320904, mean_eps: 0.500000\n",
            " 1870/8000: episode: 94, duration: 0.534s, episode steps:  19, steps per second:  36, episode reward: 19.000, mean reward:  1.000 [ 1.000,  1.000], mean action: 0.579 [0.000, 1.000],  loss: 2.326908, mae: 6.677788, mean_q: 12.628107, mean_eps: 0.500000\n",
            " 1900/8000: episode: 95, duration: 0.831s, episode steps:  30, steps per second:  36, episode reward: 30.000, mean reward:  1.000 [ 1.000,  1.000], mean action: 0.533 [0.000, 1.000],  loss: 2.612825, mae: 6.741147, mean_q: 12.649998, mean_eps: 0.500000\n",
            " 1973/8000: episode: 96, duration: 1.362s, episode steps:  73, steps per second:  54, episode reward: 73.000, mean reward:  1.000 [ 1.000,  1.000], mean action: 0.507 [0.000, 1.000],  loss: 2.125896, mae: 6.856611, mean_q: 13.029410, mean_eps: 0.500000\n",
            " 1989/8000: episode: 97, duration: 0.440s, episode steps:  16, steps per second:  36, episode reward: 16.000, mean reward:  1.000 [ 1.000,  1.000], mean action: 0.500 [0.000, 1.000],  loss: 2.563066, mae: 7.025699, mean_q: 13.333196, mean_eps: 0.500000\n",
            " 2016/8000: episode: 98, duration: 0.708s, episode steps:  27, steps per second:  38, episode reward: 27.000, mean reward:  1.000 [ 1.000,  1.000], mean action: 0.519 [0.000, 1.000],  loss: 2.347095, mae: 7.043842, mean_q: 13.424732, mean_eps: 0.500000\n",
            " 2062/8000: episode: 99, duration: 1.064s, episode steps:  46, steps per second:  43, episode reward: 46.000, mean reward:  1.000 [ 1.000,  1.000], mean action: 0.522 [0.000, 1.000],  loss: 2.563202, mae: 7.111556, mean_q: 13.489686, mean_eps: 0.500000\n",
            " 2101/8000: episode: 100, duration: 0.738s, episode steps:  39, steps per second:  53, episode reward: 39.000, mean reward:  1.000 [ 1.000,  1.000], mean action: 0.538 [0.000, 1.000],  loss: 2.518753, mae: 7.239783, mean_q: 13.785475, mean_eps: 0.500000\n",
            " 2171/8000: episode: 101, duration: 1.456s, episode steps:  70, steps per second:  48, episode reward: 70.000, mean reward:  1.000 [ 1.000,  1.000], mean action: 0.457 [0.000, 1.000],  loss: 2.225479, mae: 7.326867, mean_q: 13.982835, mean_eps: 0.500000\n",
            " 2264/8000: episode: 102, duration: 2.005s, episode steps:  93, steps per second:  46, episode reward: 93.000, mean reward:  1.000 [ 1.000,  1.000], mean action: 0.484 [0.000, 1.000],  loss: 2.425748, mae: 7.545020, mean_q: 14.441797, mean_eps: 0.500000\n",
            " 2288/8000: episode: 103, duration: 0.638s, episode steps:  24, steps per second:  38, episode reward: 24.000, mean reward:  1.000 [ 1.000,  1.000], mean action: 0.500 [0.000, 1.000],  loss: 3.414971, mae: 7.764538, mean_q: 14.614968, mean_eps: 0.500000\n",
            " 2334/8000: episode: 104, duration: 1.197s, episode steps:  46, steps per second:  38, episode reward: 46.000, mean reward:  1.000 [ 1.000,  1.000], mean action: 0.543 [0.000, 1.000],  loss: 2.932257, mae: 7.719282, mean_q: 14.654372, mean_eps: 0.500000\n",
            " 2399/8000: episode: 105, duration: 1.444s, episode steps:  65, steps per second:  45, episode reward: 65.000, mean reward:  1.000 [ 1.000,  1.000], mean action: 0.477 [0.000, 1.000],  loss: 2.515479, mae: 7.880134, mean_q: 15.045444, mean_eps: 0.500000\n",
            " 2432/8000: episode: 106, duration: 0.675s, episode steps:  33, steps per second:  49, episode reward: 33.000, mean reward:  1.000 [ 1.000,  1.000], mean action: 0.545 [0.000, 1.000],  loss: 3.356620, mae: 7.975450, mean_q: 15.074604, mean_eps: 0.500000\n",
            " 2469/8000: episode: 107, duration: 0.999s, episode steps:  37, steps per second:  37, episode reward: 37.000, mean reward:  1.000 [ 1.000,  1.000], mean action: 0.486 [0.000, 1.000],  loss: 2.685984, mae: 8.004339, mean_q: 15.397948, mean_eps: 0.500000\n",
            " 2576/8000: episode: 108, duration: 2.506s, episode steps: 107, steps per second:  43, episode reward: 107.000, mean reward:  1.000 [ 1.000,  1.000], mean action: 0.514 [0.000, 1.000],  loss: 2.673171, mae: 8.224616, mean_q: 15.812669, mean_eps: 0.500000\n",
            " 2622/8000: episode: 109, duration: 1.285s, episode steps:  46, steps per second:  36, episode reward: 46.000, mean reward:  1.000 [ 1.000,  1.000], mean action: 0.478 [0.000, 1.000],  loss: 2.652308, mae: 8.461184, mean_q: 16.326048, mean_eps: 0.500000\n",
            " 2678/8000: episode: 110, duration: 1.629s, episode steps:  56, steps per second:  34, episode reward: 56.000, mean reward:  1.000 [ 1.000,  1.000], mean action: 0.536 [0.000, 1.000],  loss: 3.057020, mae: 8.550663, mean_q: 16.351874, mean_eps: 0.500000\n",
            " 2716/8000: episode: 111, duration: 0.890s, episode steps:  38, steps per second:  43, episode reward: 38.000, mean reward:  1.000 [ 1.000,  1.000], mean action: 0.526 [0.000, 1.000],  loss: 2.832807, mae: 8.683322, mean_q: 16.715113, mean_eps: 0.500000\n",
            " 2853/8000: episode: 112, duration: 3.092s, episode steps: 137, steps per second:  44, episode reward: 137.000, mean reward:  1.000 [ 1.000,  1.000], mean action: 0.489 [0.000, 1.000],  loss: 2.949749, mae: 8.826142, mean_q: 16.967974, mean_eps: 0.500000\n",
            " 3024/8000: episode: 113, duration: 4.048s, episode steps: 171, steps per second:  42, episode reward: 171.000, mean reward:  1.000 [ 1.000,  1.000], mean action: 0.497 [0.000, 1.000],  loss: 3.384868, mae: 9.186997, mean_q: 17.649949, mean_eps: 0.500000\n",
            " 3086/8000: episode: 114, duration: 1.302s, episode steps:  62, steps per second:  48, episode reward: 62.000, mean reward:  1.000 [ 1.000,  1.000], mean action: 0.500 [0.000, 1.000],  loss: 3.342199, mae: 9.411644, mean_q: 18.135617, mean_eps: 0.500000\n",
            " 3149/8000: episode: 115, duration: 1.527s, episode steps:  63, steps per second:  41, episode reward: 63.000, mean reward:  1.000 [ 1.000,  1.000], mean action: 0.524 [0.000, 1.000],  loss: 3.390428, mae: 9.587312, mean_q: 18.499213, mean_eps: 0.500000\n",
            " 3187/8000: episode: 116, duration: 0.654s, episode steps:  38, steps per second:  58, episode reward: 38.000, mean reward:  1.000 [ 1.000,  1.000], mean action: 0.500 [0.000, 1.000],  loss: 4.579598, mae: 9.705274, mean_q: 18.562748, mean_eps: 0.500000\n",
            " 3226/8000: episode: 117, duration: 0.716s, episode steps:  39, steps per second:  54, episode reward: 39.000, mean reward:  1.000 [ 1.000,  1.000], mean action: 0.462 [0.000, 1.000],  loss: 4.092345, mae: 9.656872, mean_q: 18.464421, mean_eps: 0.500000\n",
            " 3341/8000: episode: 118, duration: 2.434s, episode steps: 115, steps per second:  47, episode reward: 115.000, mean reward:  1.000 [ 1.000,  1.000], mean action: 0.496 [0.000, 1.000],  loss: 3.628137, mae: 9.912555, mean_q: 19.068667, mean_eps: 0.500000\n",
            " 3420/8000: episode: 119, duration: 1.553s, episode steps:  79, steps per second:  51, episode reward: 79.000, mean reward:  1.000 [ 1.000,  1.000], mean action: 0.468 [0.000, 1.000],  loss: 3.055682, mae: 10.123779, mean_q: 19.623299, mean_eps: 0.500000\n",
            " 3446/8000: episode: 120, duration: 0.543s, episode steps:  26, steps per second:  48, episode reward: 26.000, mean reward:  1.000 [ 1.000,  1.000], mean action: 0.538 [0.000, 1.000],  loss: 2.901319, mae: 10.106780, mean_q: 19.540729, mean_eps: 0.500000\n",
            " 3518/8000: episode: 121, duration: 1.331s, episode steps:  72, steps per second:  54, episode reward: 72.000, mean reward:  1.000 [ 1.000,  1.000], mean action: 0.528 [0.000, 1.000],  loss: 3.409003, mae: 10.310870, mean_q: 19.908930, mean_eps: 0.500000\n",
            " 3542/8000: episode: 122, duration: 0.438s, episode steps:  24, steps per second:  55, episode reward: 24.000, mean reward:  1.000 [ 1.000,  1.000], mean action: 0.500 [0.000, 1.000],  loss: 2.216359, mae: 10.377035, mean_q: 20.255492, mean_eps: 0.500000\n",
            " 3664/8000: episode: 123, duration: 2.372s, episode steps: 122, steps per second:  51, episode reward: 122.000, mean reward:  1.000 [ 1.000,  1.000], mean action: 0.525 [0.000, 1.000],  loss: 3.526499, mae: 10.553550, mean_q: 20.479691, mean_eps: 0.500000\n",
            " 3732/8000: episode: 124, duration: 1.881s, episode steps:  68, steps per second:  36, episode reward: 68.000, mean reward:  1.000 [ 1.000,  1.000], mean action: 0.529 [0.000, 1.000],  loss: 3.244011, mae: 10.781722, mean_q: 20.932275, mean_eps: 0.500000\n",
            " 3815/8000: episode: 125, duration: 1.892s, episode steps:  83, steps per second:  44, episode reward: 83.000, mean reward:  1.000 [ 1.000,  1.000], mean action: 0.494 [0.000, 1.000],  loss: 3.637296, mae: 10.881628, mean_q: 21.153597, mean_eps: 0.500000\n",
            " 3918/8000: episode: 126, duration: 1.939s, episode steps: 103, steps per second:  53, episode reward: 103.000, mean reward:  1.000 [ 1.000,  1.000], mean action: 0.505 [0.000, 1.000],  loss: 2.724499, mae: 11.101853, mean_q: 21.746227, mean_eps: 0.500000\n",
            " 4014/8000: episode: 127, duration: 2.189s, episode steps:  96, steps per second:  44, episode reward: 96.000, mean reward:  1.000 [ 1.000,  1.000], mean action: 0.531 [0.000, 1.000],  loss: 3.609891, mae: 11.373647, mean_q: 22.199349, mean_eps: 0.500000\n",
            " 4047/8000: episode: 128, duration: 1.104s, episode steps:  33, steps per second:  30, episode reward: 33.000, mean reward:  1.000 [ 1.000,  1.000], mean action: 0.485 [0.000, 1.000],  loss: 3.612477, mae: 11.514914, mean_q: 22.459970, mean_eps: 0.500000\n",
            " 4169/8000: episode: 129, duration: 3.102s, episode steps: 122, steps per second:  39, episode reward: 122.000, mean reward:  1.000 [ 1.000,  1.000], mean action: 0.475 [0.000, 1.000],  loss: 3.649892, mae: 11.709429, mean_q: 22.889769, mean_eps: 0.500000\n",
            " 4192/8000: episode: 130, duration: 0.576s, episode steps:  23, steps per second:  40, episode reward: 23.000, mean reward:  1.000 [ 1.000,  1.000], mean action: 0.522 [0.000, 1.000],  loss: 3.286457, mae: 11.842108, mean_q: 23.269033, mean_eps: 0.500000\n",
            " 4256/8000: episode: 131, duration: 1.530s, episode steps:  64, steps per second:  42, episode reward: 64.000, mean reward:  1.000 [ 1.000,  1.000], mean action: 0.500 [0.000, 1.000],  loss: 3.886291, mae: 11.918767, mean_q: 23.272874, mean_eps: 0.500000\n",
            " 4322/8000: episode: 132, duration: 1.805s, episode steps:  66, steps per second:  37, episode reward: 66.000, mean reward:  1.000 [ 1.000,  1.000], mean action: 0.500 [0.000, 1.000],  loss: 4.032439, mae: 12.149635, mean_q: 23.820881, mean_eps: 0.500000\n",
            " 4453/8000: episode: 133, duration: 3.055s, episode steps: 131, steps per second:  43, episode reward: 131.000, mean reward:  1.000 [ 1.000,  1.000], mean action: 0.527 [0.000, 1.000],  loss: 3.858082, mae: 12.361360, mean_q: 24.202063, mean_eps: 0.500000\n",
            " 4587/8000: episode: 134, duration: 2.888s, episode steps: 134, steps per second:  46, episode reward: 134.000, mean reward:  1.000 [ 1.000,  1.000], mean action: 0.530 [0.000, 1.000],  loss: 3.979309, mae: 12.681784, mean_q: 24.970898, mean_eps: 0.500000\n",
            " 4675/8000: episode: 135, duration: 2.020s, episode steps:  88, steps per second:  44, episode reward: 88.000, mean reward:  1.000 [ 1.000,  1.000], mean action: 0.534 [0.000, 1.000],  loss: 4.585627, mae: 12.928678, mean_q: 25.387072, mean_eps: 0.500000\n",
            " 4772/8000: episode: 136, duration: 2.262s, episode steps:  97, steps per second:  43, episode reward: 97.000, mean reward:  1.000 [ 1.000,  1.000], mean action: 0.505 [0.000, 1.000],  loss: 4.406670, mae: 13.138291, mean_q: 25.837794, mean_eps: 0.500000\n",
            " 4903/8000: episode: 137, duration: 2.970s, episode steps: 131, steps per second:  44, episode reward: 131.000, mean reward:  1.000 [ 1.000,  1.000], mean action: 0.458 [0.000, 1.000],  loss: 4.994717, mae: 13.385590, mean_q: 26.293329, mean_eps: 0.500000\n",
            " 5061/8000: episode: 138, duration: 3.439s, episode steps: 158, steps per second:  46, episode reward: 158.000, mean reward:  1.000 [ 1.000,  1.000], mean action: 0.456 [0.000, 1.000],  loss: 4.800592, mae: 13.726468, mean_q: 27.014157, mean_eps: 0.500000\n",
            " 5080/8000: episode: 139, duration: 0.418s, episode steps:  19, steps per second:  45, episode reward: 19.000, mean reward:  1.000 [ 1.000,  1.000], mean action: 0.474 [0.000, 1.000],  loss: 4.720210, mae: 13.839292, mean_q: 27.279528, mean_eps: 0.500000\n",
            " 5132/8000: episode: 140, duration: 1.183s, episode steps:  52, steps per second:  44, episode reward: 52.000, mean reward:  1.000 [ 1.000,  1.000], mean action: 0.500 [0.000, 1.000],  loss: 4.611760, mae: 14.039271, mean_q: 27.585707, mean_eps: 0.500000\n",
            " 5274/8000: episode: 141, duration: 2.598s, episode steps: 142, steps per second:  55, episode reward: 142.000, mean reward:  1.000 [ 1.000,  1.000], mean action: 0.535 [0.000, 1.000],  loss: 4.771774, mae: 14.189575, mean_q: 27.959022, mean_eps: 0.500000\n",
            " 5338/8000: episode: 142, duration: 1.560s, episode steps:  64, steps per second:  41, episode reward: 64.000, mean reward:  1.000 [ 1.000,  1.000], mean action: 0.484 [0.000, 1.000],  loss: 4.912127, mae: 14.353708, mean_q: 28.354863, mean_eps: 0.500000\n",
            " 5451/8000: episode: 143, duration: 2.813s, episode steps: 113, steps per second:  40, episode reward: 113.000, mean reward:  1.000 [ 1.000,  1.000], mean action: 0.460 [0.000, 1.000],  loss: 5.353738, mae: 14.641095, mean_q: 28.836832, mean_eps: 0.500000\n",
            " 5592/8000: episode: 144, duration: 3.465s, episode steps: 141, steps per second:  41, episode reward: 141.000, mean reward:  1.000 [ 1.000,  1.000], mean action: 0.532 [0.000, 1.000],  loss: 5.107412, mae: 14.863650, mean_q: 29.385151, mean_eps: 0.500000\n",
            " 5639/8000: episode: 145, duration: 1.289s, episode steps:  47, steps per second:  36, episode reward: 47.000, mean reward:  1.000 [ 1.000,  1.000], mean action: 0.468 [0.000, 1.000],  loss: 5.008373, mae: 15.171365, mean_q: 30.085385, mean_eps: 0.500000\n",
            " 5829/8000: episode: 146, duration: 5.522s, episode steps: 190, steps per second:  34, episode reward: 190.000, mean reward:  1.000 [ 1.000,  1.000], mean action: 0.468 [0.000, 1.000],  loss: 5.803647, mae: 15.427624, mean_q: 30.468984, mean_eps: 0.500000\n",
            " 5911/8000: episode: 147, duration: 2.315s, episode steps:  82, steps per second:  35, episode reward: 82.000, mean reward:  1.000 [ 1.000,  1.000], mean action: 0.476 [0.000, 1.000],  loss: 6.190715, mae: 15.671861, mean_q: 30.956003, mean_eps: 0.500000\n",
            " 6111/8000: episode: 148, duration: 4.920s, episode steps: 200, steps per second:  41, episode reward: 200.000, mean reward:  1.000 [ 1.000,  1.000], mean action: 0.515 [0.000, 1.000],  loss: 4.763515, mae: 16.038188, mean_q: 31.941690, mean_eps: 0.500000\n",
            " 6253/8000: episode: 149, duration: 3.830s, episode steps: 142, steps per second:  37, episode reward: 142.000, mean reward:  1.000 [ 1.000,  1.000], mean action: 0.500 [0.000, 1.000],  loss: 5.822128, mae: 16.437596, mean_q: 32.581933, mean_eps: 0.500000\n",
            " 6391/8000: episode: 150, duration: 3.490s, episode steps: 138, steps per second:  40, episode reward: 138.000, mean reward:  1.000 [ 1.000,  1.000], mean action: 0.493 [0.000, 1.000],  loss: 5.776086, mae: 16.778645, mean_q: 33.352382, mean_eps: 0.500000\n",
            " 6442/8000: episode: 151, duration: 1.188s, episode steps:  51, steps per second:  43, episode reward: 51.000, mean reward:  1.000 [ 1.000,  1.000], mean action: 0.451 [0.000, 1.000],  loss: 6.442624, mae: 17.033998, mean_q: 33.761136, mean_eps: 0.500000\n",
            " 6585/8000: episode: 152, duration: 3.243s, episode steps: 143, steps per second:  44, episode reward: 143.000, mean reward:  1.000 [ 1.000,  1.000], mean action: 0.510 [0.000, 1.000],  loss: 5.957673, mae: 17.236370, mean_q: 34.366520, mean_eps: 0.500000\n",
            " 6785/8000: episode: 153, duration: 4.268s, episode steps: 200, steps per second:  47, episode reward: 200.000, mean reward:  1.000 [ 1.000,  1.000], mean action: 0.500 [0.000, 1.000],  loss: 6.878185, mae: 17.650761, mean_q: 35.149156, mean_eps: 0.500000\n",
            " 6985/8000: episode: 154, duration: 3.948s, episode steps: 200, steps per second:  51, episode reward: 200.000, mean reward:  1.000 [ 1.000,  1.000], mean action: 0.510 [0.000, 1.000],  loss: 6.477140, mae: 18.105932, mean_q: 36.120307, mean_eps: 0.500000\n",
            " 7185/8000: episode: 155, duration: 4.728s, episode steps: 200, steps per second:  42, episode reward: 200.000, mean reward:  1.000 [ 1.000,  1.000], mean action: 0.520 [0.000, 1.000],  loss: 7.014077, mae: 18.652891, mean_q: 37.257574, mean_eps: 0.500000\n",
            " 7385/8000: episode: 156, duration: 4.670s, episode steps: 200, steps per second:  43, episode reward: 200.000, mean reward:  1.000 [ 1.000,  1.000], mean action: 0.515 [0.000, 1.000],  loss: 7.445869, mae: 19.159844, mean_q: 38.301768, mean_eps: 0.500000\n",
            " 7472/8000: episode: 157, duration: 1.810s, episode steps:  87, steps per second:  48, episode reward: 87.000, mean reward:  1.000 [ 1.000,  1.000], mean action: 0.494 [0.000, 1.000],  loss: 7.019931, mae: 19.559246, mean_q: 39.163911, mean_eps: 0.500000\n",
            " 7545/8000: episode: 158, duration: 1.864s, episode steps:  73, steps per second:  39, episode reward: 73.000, mean reward:  1.000 [ 1.000,  1.000], mean action: 0.507 [0.000, 1.000],  loss: 7.379682, mae: 19.792521, mean_q: 39.647688, mean_eps: 0.500000\n",
            " 7745/8000: episode: 159, duration: 4.046s, episode steps: 200, steps per second:  49, episode reward: 200.000, mean reward:  1.000 [ 1.000,  1.000], mean action: 0.505 [0.000, 1.000],  loss: 6.349385, mae: 20.131483, mean_q: 40.423190, mean_eps: 0.500000\n",
            " 7774/8000: episode: 160, duration: 0.561s, episode steps:  29, steps per second:  52, episode reward: 29.000, mean reward:  1.000 [ 1.000,  1.000], mean action: 0.621 [0.000, 1.000],  loss: 8.704894, mae: 20.464289, mean_q: 41.020914, mean_eps: 0.500000\n",
            " 7974/8000: episode: 161, duration: 4.595s, episode steps: 200, steps per second:  44, episode reward: 200.000, mean reward:  1.000 [ 1.000,  1.000], mean action: 0.480 [0.000, 1.000],  loss: 8.930377, mae: 20.670398, mean_q: 41.266830, mean_eps: 0.500000\n",
            "done, took 200.479 seconds\n"
          ]
        },
        {
          "output_type": "display_data",
          "data": {
            "text/plain": [
              "<Figure size 432x288 with 1 Axes>"
            ],
            "image/png": "[encoded data removed]"
          },
          "metadata": {
            "needs_background": "light"
          }
        },
        {
          "output_type": "stream",
          "name": "stdout",
          "text": [
            "Testing for 20 episodes ...\n",
            "Episode 1: reward: 200.000, steps: 200\n",
            "Episode 2: reward: 200.000, steps: 200\n",
            "Episode 3: reward: 200.000, steps: 200\n",
            "Episode 4: reward: 200.000, steps: 200\n",
            "Episode 5: reward: 200.000, steps: 200\n",
            "Episode 6: reward: 200.000, steps: 200\n",
            "Episode 7: reward: 200.000, steps: 200\n",
            "Episode 8: reward: 200.000, steps: 200\n",
            "Episode 9: reward: 200.000, steps: 200\n",
            "Episode 10: reward: 200.000, steps: 200\n",
            "Episode 11: reward: 200.000, steps: 200\n",
            "Episode 12: reward: 200.000, steps: 200\n",
            "Episode 13: reward: 200.000, steps: 200\n",
            "Episode 14: reward: 200.000, steps: 200\n",
            "Episode 15: reward: 200.000, steps: 200\n",
            "Episode 16: reward: 200.000, steps: 200\n",
            "Episode 17: reward: 200.000, steps: 200\n",
            "Episode 18: reward: 200.000, steps: 200\n",
            "Episode 19: reward: 200.000, steps: 200\n",
            "Episode 20: reward: 200.000, steps: 200\n"
          ]
        },
        {
          "output_type": "execute_result",
          "data": {
            "text/plain": [
              "<keras.callbacks.History at 0x7fb16fb0d650>"
            ]
          },
          "metadata": {},
          "execution_count": 98
        }
      ]
    }
  ]
}