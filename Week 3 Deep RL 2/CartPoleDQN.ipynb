{
  "nbformat": 4,
  "nbformat_minor": 0,
  "metadata": {
    "colab": {
      "name": "CartPoleDQN.ipynb",
      "provenance": [],
      "collapsed_sections": [],
      "include_colab_link": true
    },
    "kernelspec": {
      "name": "python3",
      "display_name": "Python 3"
    }
  },
  "cells": [
    {
      "cell_type": "markdown",
      "metadata": {
        "id": "view-in-github",
        "colab_type": "text"
      },
      "source": [
        "<a href=\"https://colab.research.google.com/github/Megacity1/CartpoleDQN/blob/main/Week%203%20Deep%20RL%202/CartPoleDQN.ipynb\" target=\"_parent\"><img src=\"https://colab.research.google.com/assets/colab-badge.svg\" alt=\"Open In Colab\"/></a>"
      ]
    },
    {
      "cell_type": "markdown",
      "metadata": {
        "id": "VKK5DA390wRe"
      },
      "source": [
        "# Deep Q Network (DQN) for CartPole Using Boltzmann Q Policy\n",
        "This exercise implements a DQN for CartPole using a Boltzmann Q policy for selecting the actions"
      ]
    },
    {
      "cell_type": "code",
      "metadata": {
        "id": "LGsC7cJ5jNcX",
        "colab": {
          "base_uri": "https://localhost:8080/"
        },
        "outputId": "cda73cbf-3020-40f4-e45e-7b87053448f1"
      },
      "source": [
        "# install keras rl2 (we need to install keras-rl2 so it works with the tensorflow 2 version that comes pre-installed with colab)\n",
        "!pip install keras-rl2"
      ],
      "execution_count": 57,
      "outputs": [
        {
          "output_type": "stream",
          "name": "stdout",
          "text": [
            "Requirement already satisfied: keras-rl2 in /usr/local/lib/python3.7/dist-packages (1.0.5)\n",
            "Requirement already satisfied: tensorflow in /usr/local/lib/python3.7/dist-packages (from keras-rl2) (2.8.0)\n",
            "Requirement already satisfied: keras-preprocessing>=1.1.1 in /usr/local/lib/python3.7/dist-packages (from tensorflow->keras-rl2) (1.1.2)\n",
            "Requirement already satisfied: protobuf>=3.9.2 in /usr/local/lib/python3.7/dist-packages (from tensorflow->keras-rl2) (3.17.3)\n",
            "Requirement already satisfied: tensorflow-io-gcs-filesystem>=0.23.1 in /usr/local/lib/python3.7/dist-packages (from tensorflow->keras-rl2) (0.24.0)\n",
            "Requirement already satisfied: libclang>=9.0.1 in /usr/local/lib/python3.7/dist-packages (from tensorflow->keras-rl2) (13.0.0)\n",
            "Requirement already satisfied: h5py>=2.9.0 in /usr/local/lib/python3.7/dist-packages (from tensorflow->keras-rl2) (3.1.0)\n",
            "Requirement already satisfied: opt-einsum>=2.3.2 in /usr/local/lib/python3.7/dist-packages (from tensorflow->keras-rl2) (3.3.0)\n",
            "Requirement already satisfied: gast>=0.2.1 in /usr/local/lib/python3.7/dist-packages (from tensorflow->keras-rl2) (0.5.3)\n",
            "Requirement already satisfied: grpcio<2.0,>=1.24.3 in /usr/local/lib/python3.7/dist-packages (from tensorflow->keras-rl2) (1.44.0)\n",
            "Requirement already satisfied: tensorboard<2.9,>=2.8 in /usr/local/lib/python3.7/dist-packages (from tensorflow->keras-rl2) (2.8.0)\n",
            "Requirement already satisfied: wrapt>=1.11.0 in /usr/local/lib/python3.7/dist-packages (from tensorflow->keras-rl2) (1.14.0)\n",
            "Requirement already satisfied: absl-py>=0.4.0 in /usr/local/lib/python3.7/dist-packages (from tensorflow->keras-rl2) (1.0.0)\n",
            "Requirement already satisfied: flatbuffers>=1.12 in /usr/local/lib/python3.7/dist-packages (from tensorflow->keras-rl2) (2.0)\n",
            "Requirement already satisfied: termcolor>=1.1.0 in /usr/local/lib/python3.7/dist-packages (from tensorflow->keras-rl2) (1.1.0)\n",
            "Requirement already satisfied: keras<2.9,>=2.8.0rc0 in /usr/local/lib/python3.7/dist-packages (from tensorflow->keras-rl2) (2.8.0)\n",
            "Requirement already satisfied: six>=1.12.0 in /usr/local/lib/python3.7/dist-packages (from tensorflow->keras-rl2) (1.15.0)\n",
            "Requirement already satisfied: tf-estimator-nightly==2.8.0.dev2021122109 in /usr/local/lib/python3.7/dist-packages (from tensorflow->keras-rl2) (2.8.0.dev2021122109)\n",
            "Requirement already satisfied: numpy>=1.20 in /usr/local/lib/python3.7/dist-packages (from tensorflow->keras-rl2) (1.21.5)\n",
            "Requirement already satisfied: astunparse>=1.6.0 in /usr/local/lib/python3.7/dist-packages (from tensorflow->keras-rl2) (1.6.3)\n",
            "Requirement already satisfied: typing-extensions>=3.6.6 in /usr/local/lib/python3.7/dist-packages (from tensorflow->keras-rl2) (3.10.0.2)\n",
            "Requirement already satisfied: setuptools in /usr/local/lib/python3.7/dist-packages (from tensorflow->keras-rl2) (57.4.0)\n",
            "Requirement already satisfied: google-pasta>=0.1.1 in /usr/local/lib/python3.7/dist-packages (from tensorflow->keras-rl2) (0.2.0)\n",
            "Requirement already satisfied: wheel<1.0,>=0.23.0 in /usr/local/lib/python3.7/dist-packages (from astunparse>=1.6.0->tensorflow->keras-rl2) (0.37.1)\n",
            "Requirement already satisfied: cached-property in /usr/local/lib/python3.7/dist-packages (from h5py>=2.9.0->tensorflow->keras-rl2) (1.5.2)\n",
            "Requirement already satisfied: google-auth-oauthlib<0.5,>=0.4.1 in /usr/local/lib/python3.7/dist-packages (from tensorboard<2.9,>=2.8->tensorflow->keras-rl2) (0.4.6)\n",
            "Requirement already satisfied: requests<3,>=2.21.0 in /usr/local/lib/python3.7/dist-packages (from tensorboard<2.9,>=2.8->tensorflow->keras-rl2) (2.23.0)\n",
            "Requirement already satisfied: werkzeug>=0.11.15 in /usr/local/lib/python3.7/dist-packages (from tensorboard<2.9,>=2.8->tensorflow->keras-rl2) (1.0.1)\n",
            "Requirement already satisfied: markdown>=2.6.8 in /usr/local/lib/python3.7/dist-packages (from tensorboard<2.9,>=2.8->tensorflow->keras-rl2) (3.3.6)\n",
            "Requirement already satisfied: google-auth<3,>=1.6.3 in /usr/local/lib/python3.7/dist-packages (from tensorboard<2.9,>=2.8->tensorflow->keras-rl2) (1.35.0)\n",
            "Requirement already satisfied: tensorboard-data-server<0.7.0,>=0.6.0 in /usr/local/lib/python3.7/dist-packages (from tensorboard<2.9,>=2.8->tensorflow->keras-rl2) (0.6.1)\n",
            "Requirement already satisfied: tensorboard-plugin-wit>=1.6.0 in /usr/local/lib/python3.7/dist-packages (from tensorboard<2.9,>=2.8->tensorflow->keras-rl2) (1.8.1)\n",
            "Requirement already satisfied: pyasn1-modules>=0.2.1 in /usr/local/lib/python3.7/dist-packages (from google-auth<3,>=1.6.3->tensorboard<2.9,>=2.8->tensorflow->keras-rl2) (0.2.8)\n",
            "Requirement already satisfied: cachetools<5.0,>=2.0.0 in /usr/local/lib/python3.7/dist-packages (from google-auth<3,>=1.6.3->tensorboard<2.9,>=2.8->tensorflow->keras-rl2) (4.2.4)\n",
            "Requirement already satisfied: rsa<5,>=3.1.4 in /usr/local/lib/python3.7/dist-packages (from google-auth<3,>=1.6.3->tensorboard<2.9,>=2.8->tensorflow->keras-rl2) (4.8)\n",
            "Requirement already satisfied: requests-oauthlib>=0.7.0 in /usr/local/lib/python3.7/dist-packages (from google-auth-oauthlib<0.5,>=0.4.1->tensorboard<2.9,>=2.8->tensorflow->keras-rl2) (1.3.1)\n",
            "Requirement already satisfied: importlib-metadata>=4.4 in /usr/local/lib/python3.7/dist-packages (from markdown>=2.6.8->tensorboard<2.9,>=2.8->tensorflow->keras-rl2) (4.11.3)\n",
            "Requirement already satisfied: zipp>=0.5 in /usr/local/lib/python3.7/dist-packages (from importlib-metadata>=4.4->markdown>=2.6.8->tensorboard<2.9,>=2.8->tensorflow->keras-rl2) (3.7.0)\n",
            "Requirement already satisfied: pyasn1<0.5.0,>=0.4.6 in /usr/local/lib/python3.7/dist-packages (from pyasn1-modules>=0.2.1->google-auth<3,>=1.6.3->tensorboard<2.9,>=2.8->tensorflow->keras-rl2) (0.4.8)\n",
            "Requirement already satisfied: chardet<4,>=3.0.2 in /usr/local/lib/python3.7/dist-packages (from requests<3,>=2.21.0->tensorboard<2.9,>=2.8->tensorflow->keras-rl2) (3.0.4)\n",
            "Requirement already satisfied: urllib3!=1.25.0,!=1.25.1,<1.26,>=1.21.1 in /usr/local/lib/python3.7/dist-packages (from requests<3,>=2.21.0->tensorboard<2.9,>=2.8->tensorflow->keras-rl2) (1.24.3)\n",
            "Requirement already satisfied: idna<3,>=2.5 in /usr/local/lib/python3.7/dist-packages (from requests<3,>=2.21.0->tensorboard<2.9,>=2.8->tensorflow->keras-rl2) (2.10)\n",
            "Requirement already satisfied: certifi>=2017.4.17 in /usr/local/lib/python3.7/dist-packages (from requests<3,>=2.21.0->tensorboard<2.9,>=2.8->tensorflow->keras-rl2) (2021.10.8)\n",
            "Requirement already satisfied: oauthlib>=3.0.0 in /usr/local/lib/python3.7/dist-packages (from requests-oauthlib>=0.7.0->google-auth-oauthlib<0.5,>=0.4.1->tensorboard<2.9,>=2.8->tensorflow->keras-rl2) (3.2.0)\n"
          ]
        }
      ]
    },
    {
      "cell_type": "code",
      "metadata": {
        "id": "XMIHLgQ3Z-lF",
        "colab": {
          "base_uri": "https://localhost:8080/"
        },
        "outputId": "3d5a8608-456f-4127-ce8a-f551e5f4e4f3"
      },
      "source": [
        "!pip install gym"
      ],
      "execution_count": 58,
      "outputs": [
        {
          "output_type": "stream",
          "name": "stdout",
          "text": [
            "Requirement already satisfied: gym in /usr/local/lib/python3.7/dist-packages (0.17.3)\n",
            "Requirement already satisfied: numpy>=1.10.4 in /usr/local/lib/python3.7/dist-packages (from gym) (1.21.5)\n",
            "Requirement already satisfied: scipy in /usr/local/lib/python3.7/dist-packages (from gym) (1.4.1)\n",
            "Requirement already satisfied: pyglet<=1.5.0,>=1.4.0 in /usr/local/lib/python3.7/dist-packages (from gym) (1.5.0)\n",
            "Requirement already satisfied: cloudpickle<1.7.0,>=1.2.0 in /usr/local/lib/python3.7/dist-packages (from gym) (1.3.0)\n",
            "Requirement already satisfied: future in /usr/local/lib/python3.7/dist-packages (from pyglet<=1.5.0,>=1.4.0->gym) (0.16.0)\n"
          ]
        }
      ]
    },
    {
      "cell_type": "code",
      "metadata": {
        "id": "M0AMLzq08ap0",
        "colab": {
          "base_uri": "https://localhost:8080/"
        },
        "outputId": "77b380e1-6c3d-4bce-8233-a8ac01deaf26"
      },
      "source": [
        "# load the gym module\n",
        "import gym\n",
        "import matplotlib.pyplot as plt\n",
        "# import the usual Keras modules for creating deep neural networks\n",
        "from keras import Sequential\n",
        "from keras.layers import Input, Flatten, Dense\n",
        "!pip install Adam\n",
        "#from keras.optimizers import Adam\n",
        "from tensorflow.keras.optimizers import Adam\n",
        "ENV_NAME = 'CartPole-v0'\n",
        "env = gym.make(ENV_NAME)"
      ],
      "execution_count": 62,
      "outputs": [
        {
          "output_type": "stream",
          "name": "stdout",
          "text": [
            "Requirement already satisfied: Adam in /usr/local/lib/python3.7/dist-packages (0.0.0.dev0)\n"
          ]
        }
      ]
    },
    {
      "cell_type": "markdown",
      "metadata": {
        "id": "ll6bNdUm54WS"
      },
      "source": [
        "Implementation of DQN for CartPole, applying policy BoltzmannQPolicy"
      ]
    },
    {
      "cell_type": "markdown",
      "metadata": {
        "id": "RSCrPKNy40PC"
      },
      "source": [
        "##Implement DQN with BoltzmannGumbelQPolicy"
      ]
    },
    {
      "cell_type": "code",
      "metadata": {
        "id": "efM9jkXr5A3c",
        "colab": {
          "base_uri": "https://localhost:8080/",
          "height": 1000
        },
        "outputId": "202d9826-40f8-4cb9-bcb8-b1483cf3a0be"
      },
      "source": [
        "import rl\n",
        "from rl.memory import SequentialMemory  # import the exerience replay buffer module\n",
        "from rl.policy import BoltzmannGumbelQPolicy\n",
        "from rl.policy import LinearAnnealedPolicy\n",
        "from rl.policy import EpsGreedyQPolicy\n",
        "from rl.agents.dqn import DQNAgent      # import the DQN agent\n",
        "\n",
        "# setup experience replay buffer\n",
        "memory = SequentialMemory(limit=10000, window_length=1)\n",
        "\n",
        "policy = LinearAnnealedPolicy(EpsGreedyQPolicy(), \n",
        "                               attr='eps',            \n",
        "                               value_max=5.,\n",
        "                               value_min=.5, \n",
        "                               value_test=.05,\n",
        "                               nb_steps=20)\n",
        "# Q-Network\n",
        "model = Sequential()\n",
        "model.add(Input(shape=(1,env.observation_space.shape[0])))  # The input is 1 observation vector, and the number of observations in that vector \n",
        "model.add(Flatten())\n",
        "model.add(Dense(16, activation='relu'))\n",
        "# add extra layers here\n",
        "model.add(Dense(env.action_space.n, activation='linear'))   # the output is the number of actions in the action space\n",
        "\n",
        "print(model.summary())\n",
        "\n",
        "# define the agent\n",
        "dqn = DQNAgent(model=model, \n",
        "               nb_actions=env.action_space.n,\n",
        "               memory=memory,\n",
        "               nb_steps_warmup=20,\n",
        "               target_model_update=1e-2, \n",
        "               policy=policy) \n",
        "\n",
        "dqn.compile(Adam(lr=1e-3), metrics=['mae'])\n",
        "\n",
        "history = dqn.fit(env, nb_steps=8000, visualize=False, verbose=2)\n",
        "\n",
        "# summarize the history for number  of episode steps\n",
        "plt.plot(history.history['nb_episode_steps'])\n",
        "plt.ylabel('nb_episode_steps')\n",
        "plt.xlabel('episodes')\n",
        "plt.show()\n",
        "\n",
        "dqn.test(env, nb_episodes=20, visualize=False)"
      ],
      "execution_count": 86,
      "outputs": [
        {
          "output_type": "stream",
          "name": "stdout",
          "text": [
            "Model: \"sequential_37\"\n",
            "_________________________________________________________________\n",
            " Layer (type)                Output Shape              Param #   \n",
            "=================================================================\n",
            " flatten_35 (Flatten)        (None, 4)                 0         \n",
            "                                                                 \n",
            " dense_71 (Dense)            (None, 16)                80        \n",
            "                                                                 \n",
            " dense_72 (Dense)            (None, 2)                 34        \n",
            "                                                                 \n",
            "=================================================================\n",
            "Total params: 114\n",
            "Trainable params: 114\n",
            "Non-trainable params: 0\n",
            "_________________________________________________________________\n",
            "None\n"
          ]
        },
        {
          "output_type": "stream",
          "name": "stderr",
          "text": [
            "/usr/local/lib/python3.7/dist-packages/keras/optimizer_v2/adam.py:105: UserWarning: The `lr` argument is deprecated, use `learning_rate` instead.\n",
            "  super(Adam, self).__init__(name, **kwargs)\n"
          ]
        },
        {
          "output_type": "stream",
          "name": "stdout",
          "text": [
            "Training for 8000 steps ...\n"
          ]
        },
        {
          "output_type": "stream",
          "name": "stderr",
          "text": [
            "/usr/local/lib/python3.7/dist-packages/keras/engine/training_v1.py:2079: UserWarning: `Model.state_updates` will be removed in a future version. This property should not be used in TensorFlow 2.0, as `updates` are applied automatically.\n",
            "  updates=self.state_updates,\n"
          ]
        },
        {
          "output_type": "stream",
          "name": "stdout",
          "text": [
            "   17/8000: episode: 1, duration: 1.817s, episode steps:  17, steps per second:   9, episode reward: 17.000, mean reward:  1.000 [ 1.000,  1.000], mean action: 0.353 [0.000, 1.000],  loss: --, mae: --, mean_q: --, mean_eps: --\n"
          ]
        },
        {
          "output_type": "stream",
          "name": "stderr",
          "text": [
            "/usr/local/lib/python3.7/dist-packages/rl/memory.py:37: UserWarning: Not enough entries to sample without replacement. Consider increasing your warm-up phase to avoid oversampling!\n",
            "  warnings.warn('Not enough entries to sample without replacement. Consider increasing your warm-up phase to avoid oversampling!')\n",
            "/usr/local/lib/python3.7/dist-packages/keras/engine/training_v1.py:2079: UserWarning: `Model.state_updates` will be removed in a future version. This property should not be used in TensorFlow 2.0, as `updates` are applied automatically.\n",
            "  updates=self.state_updates,\n"
          ]
        },
        {
          "output_type": "stream",
          "name": "stdout",
          "text": [
            "   39/8000: episode: 2, duration: 6.314s, episode steps:  22, steps per second:   3, episode reward: 22.000, mean reward:  1.000 [ 1.000,  1.000], mean action: 0.318 [0.000, 1.000],  loss: 0.500788, mae: 0.554375, mean_q: 0.020877, mean_eps: 0.500000\n",
            "   52/8000: episode: 3, duration: 0.161s, episode steps:  13, steps per second:  81, episode reward: 13.000, mean reward:  1.000 [ 1.000,  1.000], mean action: 0.308 [0.000, 1.000],  loss: 0.404463, mae: 0.525994, mean_q: 0.156828, mean_eps: 0.500000\n",
            "   64/8000: episode: 4, duration: 0.156s, episode steps:  12, steps per second:  77, episode reward: 12.000, mean reward:  1.000 [ 1.000,  1.000], mean action: 0.417 [0.000, 1.000],  loss: 0.359710, mae: 0.507065, mean_q: 0.293145, mean_eps: 0.500000\n",
            "   80/8000: episode: 5, duration: 0.228s, episode steps:  16, steps per second:  70, episode reward: 16.000, mean reward:  1.000 [ 1.000,  1.000], mean action: 0.250 [0.000, 1.000],  loss: 0.343485, mae: 0.497616, mean_q: 0.435040, mean_eps: 0.500000\n",
            "   91/8000: episode: 6, duration: 0.136s, episode steps:  11, steps per second:  81, episode reward: 11.000, mean reward:  1.000 [ 1.000,  1.000], mean action: 0.091 [0.000, 1.000],  loss: 0.284903, mae: 0.454385, mean_q: 0.595698, mean_eps: 0.500000\n",
            "  100/8000: episode: 7, duration: 0.114s, episode steps:   9, steps per second:  79, episode reward:  9.000, mean reward:  1.000 [ 1.000,  1.000], mean action: 0.000 [0.000, 0.000],  loss: 0.267423, mae: 0.463789, mean_q: 0.708922, mean_eps: 0.500000\n",
            "  109/8000: episode: 8, duration: 0.119s, episode steps:   9, steps per second:  76, episode reward:  9.000, mean reward:  1.000 [ 1.000,  1.000], mean action: 0.000 [0.000, 0.000],  loss: 0.240418, mae: 0.472633, mean_q: 0.784573, mean_eps: 0.500000\n",
            "  123/8000: episode: 9, duration: 0.181s, episode steps:  14, steps per second:  77, episode reward: 14.000, mean reward:  1.000 [ 1.000,  1.000], mean action: 0.571 [0.000, 1.000],  loss: 0.226542, mae: 0.509812, mean_q: 0.909253, mean_eps: 0.500000\n",
            "  149/8000: episode: 10, duration: 0.326s, episode steps:  26, steps per second:  80, episode reward: 26.000, mean reward:  1.000 [ 1.000,  1.000], mean action: 0.308 [0.000, 1.000],  loss: 0.264612, mae: 0.596084, mean_q: 0.984964, mean_eps: 0.500000\n",
            "  168/8000: episode: 11, duration: 0.248s, episode steps:  19, steps per second:  77, episode reward: 19.000, mean reward:  1.000 [ 1.000,  1.000], mean action: 0.316 [0.000, 1.000],  loss: 0.268410, mae: 0.691947, mean_q: 1.143812, mean_eps: 0.500000\n",
            "  186/8000: episode: 12, duration: 0.238s, episode steps:  18, steps per second:  76, episode reward: 18.000, mean reward:  1.000 [ 1.000,  1.000], mean action: 0.278 [0.000, 1.000],  loss: 0.257797, mae: 0.765956, mean_q: 1.248094, mean_eps: 0.500000\n",
            "  210/8000: episode: 13, duration: 0.308s, episode steps:  24, steps per second:  78, episode reward: 24.000, mean reward:  1.000 [ 1.000,  1.000], mean action: 0.333 [0.000, 1.000],  loss: 0.235126, mae: 0.833266, mean_q: 1.340978, mean_eps: 0.500000\n",
            "  225/8000: episode: 14, duration: 0.190s, episode steps:  15, steps per second:  79, episode reward: 15.000, mean reward:  1.000 [ 1.000,  1.000], mean action: 0.333 [0.000, 1.000],  loss: 0.206514, mae: 0.883415, mean_q: 1.494715, mean_eps: 0.500000\n",
            "  245/8000: episode: 15, duration: 0.267s, episode steps:  20, steps per second:  75, episode reward: 20.000, mean reward:  1.000 [ 1.000,  1.000], mean action: 0.300 [0.000, 1.000],  loss: 0.210762, mae: 0.979474, mean_q: 1.667669, mean_eps: 0.500000\n",
            "  260/8000: episode: 16, duration: 0.183s, episode steps:  15, steps per second:  82, episode reward: 15.000, mean reward:  1.000 [ 1.000,  1.000], mean action: 0.467 [0.000, 1.000],  loss: 0.185741, mae: 1.017438, mean_q: 1.733589, mean_eps: 0.500000\n",
            "  268/8000: episode: 17, duration: 0.112s, episode steps:   8, steps per second:  71, episode reward:  8.000, mean reward:  1.000 [ 1.000,  1.000], mean action: 0.000 [0.000, 0.000],  loss: 0.190811, mae: 1.063648, mean_q: 1.856689, mean_eps: 0.500000\n",
            "  278/8000: episode: 18, duration: 0.143s, episode steps:  10, steps per second:  70, episode reward: 10.000, mean reward:  1.000 [ 1.000,  1.000], mean action: 0.000 [0.000, 0.000],  loss: 0.197081, mae: 1.104503, mean_q: 1.936040, mean_eps: 0.500000\n",
            "  288/8000: episode: 19, duration: 0.140s, episode steps:  10, steps per second:  71, episode reward: 10.000, mean reward:  1.000 [ 1.000,  1.000], mean action: 0.100 [0.000, 1.000],  loss: 0.185094, mae: 1.151307, mean_q: 2.022246, mean_eps: 0.500000\n",
            "  299/8000: episode: 20, duration: 0.149s, episode steps:  11, steps per second:  74, episode reward: 11.000, mean reward:  1.000 [ 1.000,  1.000], mean action: 0.273 [0.000, 1.000],  loss: 0.218986, mae: 1.231204, mean_q: 2.122031, mean_eps: 0.500000\n",
            "  310/8000: episode: 21, duration: 0.161s, episode steps:  11, steps per second:  68, episode reward: 11.000, mean reward:  1.000 [ 1.000,  1.000], mean action: 0.182 [0.000, 1.000],  loss: 0.248567, mae: 1.279136, mean_q: 2.176884, mean_eps: 0.500000\n",
            "  324/8000: episode: 22, duration: 0.173s, episode steps:  14, steps per second:  81, episode reward: 14.000, mean reward:  1.000 [ 1.000,  1.000], mean action: 0.357 [0.000, 1.000],  loss: 0.229818, mae: 1.298588, mean_q: 2.224286, mean_eps: 0.500000\n",
            "  336/8000: episode: 23, duration: 0.162s, episode steps:  12, steps per second:  74, episode reward: 12.000, mean reward:  1.000 [ 1.000,  1.000], mean action: 0.250 [0.000, 1.000],  loss: 0.167827, mae: 1.296513, mean_q: 2.331004, mean_eps: 0.500000\n",
            "  358/8000: episode: 24, duration: 0.281s, episode steps:  22, steps per second:  78, episode reward: 22.000, mean reward:  1.000 [ 1.000,  1.000], mean action: 0.364 [0.000, 1.000],  loss: 0.221005, mae: 1.381395, mean_q: 2.524201, mean_eps: 0.500000\n",
            "  373/8000: episode: 25, duration: 0.194s, episode steps:  15, steps per second:  77, episode reward: 15.000, mean reward:  1.000 [ 1.000,  1.000], mean action: 0.333 [0.000, 1.000],  loss: 0.295891, mae: 1.468951, mean_q: 2.651210, mean_eps: 0.500000\n",
            "  395/8000: episode: 26, duration: 0.290s, episode steps:  22, steps per second:  76, episode reward: 22.000, mean reward:  1.000 [ 1.000,  1.000], mean action: 0.318 [0.000, 1.000],  loss: 0.252866, mae: 1.493253, mean_q: 2.712696, mean_eps: 0.500000\n",
            "  413/8000: episode: 27, duration: 0.231s, episode steps:  18, steps per second:  78, episode reward: 18.000, mean reward:  1.000 [ 1.000,  1.000], mean action: 0.389 [0.000, 1.000],  loss: 0.322522, mae: 1.613351, mean_q: 2.906623, mean_eps: 0.500000\n",
            "  425/8000: episode: 28, duration: 0.153s, episode steps:  12, steps per second:  78, episode reward: 12.000, mean reward:  1.000 [ 1.000,  1.000], mean action: 0.417 [0.000, 1.000],  loss: 0.281921, mae: 1.648654, mean_q: 2.962767, mean_eps: 0.500000\n",
            "  435/8000: episode: 29, duration: 0.135s, episode steps:  10, steps per second:  74, episode reward: 10.000, mean reward:  1.000 [ 1.000,  1.000], mean action: 0.200 [0.000, 1.000],  loss: 0.326424, mae: 1.691225, mean_q: 3.090675, mean_eps: 0.500000\n",
            "  445/8000: episode: 30, duration: 0.135s, episode steps:  10, steps per second:  74, episode reward: 10.000, mean reward:  1.000 [ 1.000,  1.000], mean action: 0.300 [0.000, 1.000],  loss: 0.345096, mae: 1.730359, mean_q: 3.152859, mean_eps: 0.500000\n",
            "  458/8000: episode: 31, duration: 0.166s, episode steps:  13, steps per second:  78, episode reward: 13.000, mean reward:  1.000 [ 1.000,  1.000], mean action: 0.308 [0.000, 1.000],  loss: 0.335664, mae: 1.765450, mean_q: 3.220526, mean_eps: 0.500000\n",
            "  468/8000: episode: 32, duration: 0.150s, episode steps:  10, steps per second:  67, episode reward: 10.000, mean reward:  1.000 [ 1.000,  1.000], mean action: 0.300 [0.000, 1.000],  loss: 0.255582, mae: 1.765187, mean_q: 3.304232, mean_eps: 0.500000\n",
            "  485/8000: episode: 33, duration: 0.220s, episode steps:  17, steps per second:  77, episode reward: 17.000, mean reward:  1.000 [ 1.000,  1.000], mean action: 0.471 [0.000, 1.000],  loss: 0.317199, mae: 1.840990, mean_q: 3.381953, mean_eps: 0.500000\n",
            "  496/8000: episode: 34, duration: 0.154s, episode steps:  11, steps per second:  71, episode reward: 11.000, mean reward:  1.000 [ 1.000,  1.000], mean action: 0.273 [0.000, 1.000],  loss: 0.246746, mae: 1.869322, mean_q: 3.483624, mean_eps: 0.500000\n",
            "  509/8000: episode: 35, duration: 0.193s, episode steps:  13, steps per second:  67, episode reward: 13.000, mean reward:  1.000 [ 1.000,  1.000], mean action: 0.385 [0.000, 1.000],  loss: 0.216480, mae: 1.894245, mean_q: 3.640379, mean_eps: 0.500000\n",
            "  520/8000: episode: 36, duration: 0.145s, episode steps:  11, steps per second:  76, episode reward: 11.000, mean reward:  1.000 [ 1.000,  1.000], mean action: 0.273 [0.000, 1.000],  loss: 0.278508, mae: 1.964337, mean_q: 3.774800, mean_eps: 0.500000\n",
            "  535/8000: episode: 37, duration: 0.224s, episode steps:  15, steps per second:  67, episode reward: 15.000, mean reward:  1.000 [ 1.000,  1.000], mean action: 0.400 [0.000, 1.000],  loss: 0.284754, mae: 1.987059, mean_q: 3.814326, mean_eps: 0.500000\n",
            "  547/8000: episode: 38, duration: 0.146s, episode steps:  12, steps per second:  82, episode reward: 12.000, mean reward:  1.000 [ 1.000,  1.000], mean action: 0.333 [0.000, 1.000],  loss: 0.337735, mae: 2.026649, mean_q: 3.838076, mean_eps: 0.500000\n",
            "  560/8000: episode: 39, duration: 0.172s, episode steps:  13, steps per second:  75, episode reward: 13.000, mean reward:  1.000 [ 1.000,  1.000], mean action: 0.308 [0.000, 1.000],  loss: 0.377855, mae: 2.081555, mean_q: 3.962867, mean_eps: 0.500000\n",
            "  576/8000: episode: 40, duration: 0.199s, episode steps:  16, steps per second:  80, episode reward: 16.000, mean reward:  1.000 [ 1.000,  1.000], mean action: 0.375 [0.000, 1.000],  loss: 0.309120, mae: 2.108974, mean_q: 4.056880, mean_eps: 0.500000\n",
            "  587/8000: episode: 41, duration: 0.145s, episode steps:  11, steps per second:  76, episode reward: 11.000, mean reward:  1.000 [ 1.000,  1.000], mean action: 0.182 [0.000, 1.000],  loss: 0.378622, mae: 2.201449, mean_q: 4.186776, mean_eps: 0.500000\n",
            "  603/8000: episode: 42, duration: 0.204s, episode steps:  16, steps per second:  79, episode reward: 16.000, mean reward:  1.000 [ 1.000,  1.000], mean action: 0.312 [0.000, 1.000],  loss: 0.349764, mae: 2.215470, mean_q: 4.224583, mean_eps: 0.500000\n",
            "  616/8000: episode: 43, duration: 0.173s, episode steps:  13, steps per second:  75, episode reward: 13.000, mean reward:  1.000 [ 1.000,  1.000], mean action: 0.231 [0.000, 1.000],  loss: 0.425810, mae: 2.281836, mean_q: 4.243603, mean_eps: 0.500000\n",
            "  627/8000: episode: 44, duration: 0.144s, episode steps:  11, steps per second:  76, episode reward: 11.000, mean reward:  1.000 [ 1.000,  1.000], mean action: 0.182 [0.000, 1.000],  loss: 0.349630, mae: 2.312263, mean_q: 4.342130, mean_eps: 0.500000\n",
            "  645/8000: episode: 45, duration: 0.229s, episode steps:  18, steps per second:  79, episode reward: 18.000, mean reward:  1.000 [ 1.000,  1.000], mean action: 0.389 [0.000, 1.000],  loss: 0.260641, mae: 2.341604, mean_q: 4.591864, mean_eps: 0.500000\n",
            "  656/8000: episode: 46, duration: 0.150s, episode steps:  11, steps per second:  73, episode reward: 11.000, mean reward:  1.000 [ 1.000,  1.000], mean action: 0.091 [0.000, 1.000],  loss: 0.244201, mae: 2.401724, mean_q: 4.741500, mean_eps: 0.500000\n",
            "  672/8000: episode: 47, duration: 0.214s, episode steps:  16, steps per second:  75, episode reward: 16.000, mean reward:  1.000 [ 1.000,  1.000], mean action: 0.375 [0.000, 1.000],  loss: 0.404126, mae: 2.499500, mean_q: 4.735285, mean_eps: 0.500000\n",
            "  691/8000: episode: 48, duration: 0.249s, episode steps:  19, steps per second:  76, episode reward: 19.000, mean reward:  1.000 [ 1.000,  1.000], mean action: 0.368 [0.000, 1.000],  loss: 0.358913, mae: 2.529322, mean_q: 4.771201, mean_eps: 0.500000\n",
            "  707/8000: episode: 49, duration: 0.200s, episode steps:  16, steps per second:  80, episode reward: 16.000, mean reward:  1.000 [ 1.000,  1.000], mean action: 0.375 [0.000, 1.000],  loss: 0.330194, mae: 2.588142, mean_q: 4.910387, mean_eps: 0.500000\n",
            "  720/8000: episode: 50, duration: 0.170s, episode steps:  13, steps per second:  76, episode reward: 13.000, mean reward:  1.000 [ 1.000,  1.000], mean action: 0.231 [0.000, 1.000],  loss: 0.415953, mae: 2.662005, mean_q: 5.017883, mean_eps: 0.500000\n",
            "  729/8000: episode: 51, duration: 0.123s, episode steps:   9, steps per second:  73, episode reward:  9.000, mean reward:  1.000 [ 1.000,  1.000], mean action: 0.222 [0.000, 1.000],  loss: 0.329129, mae: 2.687371, mean_q: 5.035758, mean_eps: 0.500000\n",
            "  749/8000: episode: 52, duration: 0.256s, episode steps:  20, steps per second:  78, episode reward: 20.000, mean reward:  1.000 [ 1.000,  1.000], mean action: 0.350 [0.000, 1.000],  loss: 0.379804, mae: 2.735744, mean_q: 5.218499, mean_eps: 0.500000\n",
            "  761/8000: episode: 53, duration: 0.156s, episode steps:  12, steps per second:  77, episode reward: 12.000, mean reward:  1.000 [ 1.000,  1.000], mean action: 0.333 [0.000, 1.000],  loss: 0.381166, mae: 2.793791, mean_q: 5.280351, mean_eps: 0.500000\n",
            "  774/8000: episode: 54, duration: 0.178s, episode steps:  13, steps per second:  73, episode reward: 13.000, mean reward:  1.000 [ 1.000,  1.000], mean action: 0.462 [0.000, 1.000],  loss: 0.405226, mae: 2.834097, mean_q: 5.321160, mean_eps: 0.500000\n",
            "  788/8000: episode: 55, duration: 0.179s, episode steps:  14, steps per second:  78, episode reward: 14.000, mean reward:  1.000 [ 1.000,  1.000], mean action: 0.429 [0.000, 1.000],  loss: 0.326202, mae: 2.859681, mean_q: 5.421084, mean_eps: 0.500000\n",
            "  801/8000: episode: 56, duration: 0.174s, episode steps:  13, steps per second:  75, episode reward: 13.000, mean reward:  1.000 [ 1.000,  1.000], mean action: 0.308 [0.000, 1.000],  loss: 0.351942, mae: 2.913008, mean_q: 5.533737, mean_eps: 0.500000\n",
            "  812/8000: episode: 57, duration: 0.143s, episode steps:  11, steps per second:  77, episode reward: 11.000, mean reward:  1.000 [ 1.000,  1.000], mean action: 0.455 [0.000, 1.000],  loss: 0.481892, mae: 2.949103, mean_q: 5.480601, mean_eps: 0.500000\n",
            "  829/8000: episode: 58, duration: 0.214s, episode steps:  17, steps per second:  80, episode reward: 17.000, mean reward:  1.000 [ 1.000,  1.000], mean action: 0.471 [0.000, 1.000],  loss: 0.469525, mae: 2.994140, mean_q: 5.559446, mean_eps: 0.500000\n",
            "  845/8000: episode: 59, duration: 0.207s, episode steps:  16, steps per second:  77, episode reward: 16.000, mean reward:  1.000 [ 1.000,  1.000], mean action: 0.500 [0.000, 1.000],  loss: 0.368771, mae: 3.011558, mean_q: 5.673829, mean_eps: 0.500000\n",
            "  878/8000: episode: 60, duration: 0.417s, episode steps:  33, steps per second:  79, episode reward: 33.000, mean reward:  1.000 [ 1.000,  1.000], mean action: 0.667 [0.000, 1.000],  loss: 0.465894, mae: 3.090176, mean_q: 5.832377, mean_eps: 0.500000\n",
            "  893/8000: episode: 61, duration: 0.187s, episode steps:  15, steps per second:  80, episode reward: 15.000, mean reward:  1.000 [ 1.000,  1.000], mean action: 0.467 [0.000, 1.000],  loss: 0.345190, mae: 3.149798, mean_q: 5.964896, mean_eps: 0.500000\n",
            "  910/8000: episode: 62, duration: 0.232s, episode steps:  17, steps per second:  73, episode reward: 17.000, mean reward:  1.000 [ 1.000,  1.000], mean action: 0.412 [0.000, 1.000],  loss: 0.605489, mae: 3.255139, mean_q: 6.089602, mean_eps: 0.500000\n",
            "  953/8000: episode: 63, duration: 0.552s, episode steps:  43, steps per second:  78, episode reward: 43.000, mean reward:  1.000 [ 1.000,  1.000], mean action: 0.488 [0.000, 1.000],  loss: 0.415950, mae: 3.292777, mean_q: 6.223205, mean_eps: 0.500000\n",
            "  984/8000: episode: 64, duration: 0.418s, episode steps:  31, steps per second:  74, episode reward: 31.000, mean reward:  1.000 [ 1.000,  1.000], mean action: 0.710 [0.000, 1.000],  loss: 0.611899, mae: 3.451733, mean_q: 6.524566, mean_eps: 0.500000\n",
            " 1006/8000: episode: 65, duration: 0.293s, episode steps:  22, steps per second:  75, episode reward: 22.000, mean reward:  1.000 [ 1.000,  1.000], mean action: 0.455 [0.000, 1.000],  loss: 0.440467, mae: 3.501189, mean_q: 6.633270, mean_eps: 0.500000\n",
            " 1022/8000: episode: 66, duration: 0.202s, episode steps:  16, steps per second:  79, episode reward: 16.000, mean reward:  1.000 [ 1.000,  1.000], mean action: 0.438 [0.000, 1.000],  loss: 0.614814, mae: 3.573682, mean_q: 6.765984, mean_eps: 0.500000\n",
            " 1048/8000: episode: 67, duration: 0.351s, episode steps:  26, steps per second:  74, episode reward: 26.000, mean reward:  1.000 [ 1.000,  1.000], mean action: 0.500 [0.000, 1.000],  loss: 0.543703, mae: 3.641494, mean_q: 6.957946, mean_eps: 0.500000\n",
            " 1065/8000: episode: 68, duration: 0.216s, episode steps:  17, steps per second:  79, episode reward: 17.000, mean reward:  1.000 [ 1.000,  1.000], mean action: 0.471 [0.000, 1.000],  loss: 0.539921, mae: 3.648874, mean_q: 6.890678, mean_eps: 0.500000\n",
            " 1081/8000: episode: 69, duration: 0.215s, episode steps:  16, steps per second:  75, episode reward: 16.000, mean reward:  1.000 [ 1.000,  1.000], mean action: 0.500 [0.000, 1.000],  loss: 0.637113, mae: 3.730691, mean_q: 7.058469, mean_eps: 0.500000\n",
            " 1123/8000: episode: 70, duration: 0.535s, episode steps:  42, steps per second:  78, episode reward: 42.000, mean reward:  1.000 [ 1.000,  1.000], mean action: 0.667 [0.000, 1.000],  loss: 0.605292, mae: 3.795598, mean_q: 7.140832, mean_eps: 0.500000\n",
            " 1156/8000: episode: 71, duration: 0.412s, episode steps:  33, steps per second:  80, episode reward: 33.000, mean reward:  1.000 [ 1.000,  1.000], mean action: 0.606 [0.000, 1.000],  loss: 0.648475, mae: 3.905786, mean_q: 7.451504, mean_eps: 0.500000\n",
            " 1187/8000: episode: 72, duration: 0.405s, episode steps:  31, steps per second:  77, episode reward: 31.000, mean reward:  1.000 [ 1.000,  1.000], mean action: 0.645 [0.000, 1.000],  loss: 0.867428, mae: 4.029348, mean_q: 7.586689, mean_eps: 0.500000\n",
            " 1203/8000: episode: 73, duration: 0.203s, episode steps:  16, steps per second:  79, episode reward: 16.000, mean reward:  1.000 [ 1.000,  1.000], mean action: 0.500 [0.000, 1.000],  loss: 0.760882, mae: 4.088980, mean_q: 7.724967, mean_eps: 0.500000\n",
            " 1334/8000: episode: 74, duration: 1.659s, episode steps: 131, steps per second:  79, episode reward: 131.000, mean reward:  1.000 [ 1.000,  1.000], mean action: 0.496 [0.000, 1.000],  loss: 0.787201, mae: 4.355121, mean_q: 8.289454, mean_eps: 0.500000\n",
            " 1471/8000: episode: 75, duration: 1.666s, episode steps: 137, steps per second:  82, episode reward: 137.000, mean reward:  1.000 [ 1.000,  1.000], mean action: 0.511 [0.000, 1.000],  loss: 0.895766, mae: 4.853198, mean_q: 9.277112, mean_eps: 0.500000\n",
            " 1503/8000: episode: 76, duration: 0.408s, episode steps:  32, steps per second:  78, episode reward: 32.000, mean reward:  1.000 [ 1.000,  1.000], mean action: 0.500 [0.000, 1.000],  loss: 0.957855, mae: 5.186226, mean_q: 9.952342, mean_eps: 0.500000\n",
            " 1518/8000: episode: 77, duration: 0.181s, episode steps:  15, steps per second:  83, episode reward: 15.000, mean reward:  1.000 [ 1.000,  1.000], mean action: 0.400 [0.000, 1.000],  loss: 0.615315, mae: 5.220979, mean_q: 10.096452, mean_eps: 0.500000\n",
            " 1577/8000: episode: 78, duration: 0.716s, episode steps:  59, steps per second:  82, episode reward: 59.000, mean reward:  1.000 [ 1.000,  1.000], mean action: 0.542 [0.000, 1.000],  loss: 0.839161, mae: 5.318416, mean_q: 10.296411, mean_eps: 0.500000\n",
            " 1593/8000: episode: 79, duration: 0.202s, episode steps:  16, steps per second:  79, episode reward: 16.000, mean reward:  1.000 [ 1.000,  1.000], mean action: 0.500 [0.000, 1.000],  loss: 1.083350, mae: 5.379802, mean_q: 10.387115, mean_eps: 0.500000\n",
            " 1633/8000: episode: 80, duration: 0.492s, episode steps:  40, steps per second:  81, episode reward: 40.000, mean reward:  1.000 [ 1.000,  1.000], mean action: 0.475 [0.000, 1.000],  loss: 1.437737, mae: 5.558535, mean_q: 10.605902, mean_eps: 0.500000\n",
            " 1730/8000: episode: 81, duration: 1.161s, episode steps:  97, steps per second:  84, episode reward: 97.000, mean reward:  1.000 [ 1.000,  1.000], mean action: 0.433 [0.000, 1.000],  loss: 1.221672, mae: 5.682030, mean_q: 10.914773, mean_eps: 0.500000\n",
            " 1755/8000: episode: 82, duration: 0.316s, episode steps:  25, steps per second:  79, episode reward: 25.000, mean reward:  1.000 [ 1.000,  1.000], mean action: 0.560 [0.000, 1.000],  loss: 1.157742, mae: 5.834706, mean_q: 11.248649, mean_eps: 0.500000\n",
            " 1955/8000: episode: 83, duration: 2.408s, episode steps: 200, steps per second:  83, episode reward: 200.000, mean reward:  1.000 [ 1.000,  1.000], mean action: 0.495 [0.000, 1.000],  loss: 1.126821, mae: 6.154453, mean_q: 11.971566, mean_eps: 0.500000\n",
            " 2155/8000: episode: 84, duration: 2.385s, episode steps: 200, steps per second:  84, episode reward: 200.000, mean reward:  1.000 [ 1.000,  1.000], mean action: 0.485 [0.000, 1.000],  loss: 1.341059, mae: 6.850431, mean_q: 13.352302, mean_eps: 0.500000\n",
            " 2203/8000: episode: 85, duration: 0.590s, episode steps:  48, steps per second:  81, episode reward: 48.000, mean reward:  1.000 [ 1.000,  1.000], mean action: 0.500 [0.000, 1.000],  loss: 1.640869, mae: 7.241868, mean_q: 14.123495, mean_eps: 0.500000\n",
            " 2254/8000: episode: 86, duration: 0.676s, episode steps:  51, steps per second:  75, episode reward: 51.000, mean reward:  1.000 [ 1.000,  1.000], mean action: 0.431 [0.000, 1.000],  loss: 1.158050, mae: 7.423842, mean_q: 14.522763, mean_eps: 0.500000\n",
            " 2280/8000: episode: 87, duration: 0.342s, episode steps:  26, steps per second:  76, episode reward: 26.000, mean reward:  1.000 [ 1.000,  1.000], mean action: 0.538 [0.000, 1.000],  loss: 1.506227, mae: 7.603723, mean_q: 14.899384, mean_eps: 0.500000\n",
            " 2312/8000: episode: 88, duration: 0.397s, episode steps:  32, steps per second:  81, episode reward: 32.000, mean reward:  1.000 [ 1.000,  1.000], mean action: 0.469 [0.000, 1.000],  loss: 1.730574, mae: 7.614759, mean_q: 14.906997, mean_eps: 0.500000\n",
            " 2392/8000: episode: 89, duration: 0.962s, episode steps:  80, steps per second:  83, episode reward: 80.000, mean reward:  1.000 [ 1.000,  1.000], mean action: 0.475 [0.000, 1.000],  loss: 1.946488, mae: 7.806942, mean_q: 15.191173, mean_eps: 0.500000\n",
            " 2418/8000: episode: 90, duration: 0.339s, episode steps:  26, steps per second:  77, episode reward: 26.000, mean reward:  1.000 [ 1.000,  1.000], mean action: 0.500 [0.000, 1.000],  loss: 1.506201, mae: 7.994480, mean_q: 15.642311, mean_eps: 0.500000\n",
            " 2437/8000: episode: 91, duration: 0.257s, episode steps:  19, steps per second:  74, episode reward: 19.000, mean reward:  1.000 [ 1.000,  1.000], mean action: 0.474 [0.000, 1.000],  loss: 0.649073, mae: 7.926236, mean_q: 15.644483, mean_eps: 0.500000\n",
            " 2488/8000: episode: 92, duration: 0.647s, episode steps:  51, steps per second:  79, episode reward: 51.000, mean reward:  1.000 [ 1.000,  1.000], mean action: 0.431 [0.000, 1.000],  loss: 2.609086, mae: 8.254552, mean_q: 16.094562, mean_eps: 0.500000\n",
            " 2537/8000: episode: 93, duration: 0.622s, episode steps:  49, steps per second:  79, episode reward: 49.000, mean reward:  1.000 [ 1.000,  1.000], mean action: 0.490 [0.000, 1.000],  loss: 1.356633, mae: 8.271388, mean_q: 16.211077, mean_eps: 0.500000\n",
            " 2575/8000: episode: 94, duration: 0.491s, episode steps:  38, steps per second:  77, episode reward: 38.000, mean reward:  1.000 [ 1.000,  1.000], mean action: 0.526 [0.000, 1.000],  loss: 2.436222, mae: 8.516634, mean_q: 16.584437, mean_eps: 0.500000\n",
            " 2615/8000: episode: 95, duration: 0.523s, episode steps:  40, steps per second:  76, episode reward: 40.000, mean reward:  1.000 [ 1.000,  1.000], mean action: 0.450 [0.000, 1.000],  loss: 2.774074, mae: 8.674926, mean_q: 16.843015, mean_eps: 0.500000\n",
            " 2686/8000: episode: 96, duration: 0.887s, episode steps:  71, steps per second:  80, episode reward: 71.000, mean reward:  1.000 [ 1.000,  1.000], mean action: 0.465 [0.000, 1.000],  loss: 2.158501, mae: 8.745240, mean_q: 17.071625, mean_eps: 0.500000\n",
            " 2753/8000: episode: 97, duration: 0.837s, episode steps:  67, steps per second:  80, episode reward: 67.000, mean reward:  1.000 [ 1.000,  1.000], mean action: 0.478 [0.000, 1.000],  loss: 1.851051, mae: 8.969071, mean_q: 17.639126, mean_eps: 0.500000\n",
            " 2795/8000: episode: 98, duration: 0.489s, episode steps:  42, steps per second:  86, episode reward: 42.000, mean reward:  1.000 [ 1.000,  1.000], mean action: 0.476 [0.000, 1.000],  loss: 2.848938, mae: 9.121111, mean_q: 17.852794, mean_eps: 0.500000\n",
            " 2841/8000: episode: 99, duration: 0.565s, episode steps:  46, steps per second:  81, episode reward: 46.000, mean reward:  1.000 [ 1.000,  1.000], mean action: 0.457 [0.000, 1.000],  loss: 2.695075, mae: 9.239661, mean_q: 18.055242, mean_eps: 0.500000\n",
            " 2904/8000: episode: 100, duration: 0.800s, episode steps:  63, steps per second:  79, episode reward: 63.000, mean reward:  1.000 [ 1.000,  1.000], mean action: 0.476 [0.000, 1.000],  loss: 2.375263, mae: 9.398117, mean_q: 18.381215, mean_eps: 0.500000\n",
            " 2926/8000: episode: 101, duration: 0.293s, episode steps:  22, steps per second:  75, episode reward: 22.000, mean reward:  1.000 [ 1.000,  1.000], mean action: 0.545 [0.000, 1.000],  loss: 3.512305, mae: 9.640028, mean_q: 18.858945, mean_eps: 0.500000\n",
            " 2947/8000: episode: 102, duration: 0.267s, episode steps:  21, steps per second:  79, episode reward: 21.000, mean reward:  1.000 [ 1.000,  1.000], mean action: 0.476 [0.000, 1.000],  loss: 4.535560, mae: 9.619086, mean_q: 18.631449, mean_eps: 0.500000\n",
            " 2970/8000: episode: 103, duration: 0.275s, episode steps:  23, steps per second:  84, episode reward: 23.000, mean reward:  1.000 [ 1.000,  1.000], mean action: 0.478 [0.000, 1.000],  loss: 4.060014, mae: 9.593099, mean_q: 18.527637, mean_eps: 0.500000\n",
            " 2987/8000: episode: 104, duration: 0.233s, episode steps:  17, steps per second:  73, episode reward: 17.000, mean reward:  1.000 [ 1.000,  1.000], mean action: 0.529 [0.000, 1.000],  loss: 3.095618, mae: 9.790156, mean_q: 18.991749, mean_eps: 0.500000\n",
            " 3019/8000: episode: 105, duration: 0.406s, episode steps:  32, steps per second:  79, episode reward: 32.000, mean reward:  1.000 [ 1.000,  1.000], mean action: 0.469 [0.000, 1.000],  loss: 3.802097, mae: 9.811642, mean_q: 19.147345, mean_eps: 0.500000\n",
            " 3036/8000: episode: 106, duration: 0.232s, episode steps:  17, steps per second:  73, episode reward: 17.000, mean reward:  1.000 [ 1.000,  1.000], mean action: 0.588 [0.000, 1.000],  loss: 2.030845, mae: 9.698887, mean_q: 19.086755, mean_eps: 0.500000\n",
            " 3071/8000: episode: 107, duration: 0.452s, episode steps:  35, steps per second:  77, episode reward: 35.000, mean reward:  1.000 [ 1.000,  1.000], mean action: 0.486 [0.000, 1.000],  loss: 2.756539, mae: 9.805121, mean_q: 19.189565, mean_eps: 0.500000\n",
            " 3093/8000: episode: 108, duration: 0.280s, episode steps:  22, steps per second:  79, episode reward: 22.000, mean reward:  1.000 [ 1.000,  1.000], mean action: 0.455 [0.000, 1.000],  loss: 1.359403, mae: 9.855001, mean_q: 19.528925, mean_eps: 0.500000\n",
            " 3155/8000: episode: 109, duration: 0.747s, episode steps:  62, steps per second:  83, episode reward: 62.000, mean reward:  1.000 [ 1.000,  1.000], mean action: 0.468 [0.000, 1.000],  loss: 3.762736, mae: 10.123888, mean_q: 19.748206, mean_eps: 0.500000\n",
            " 3169/8000: episode: 110, duration: 0.173s, episode steps:  14, steps per second:  81, episode reward: 14.000, mean reward:  1.000 [ 1.000,  1.000], mean action: 0.500 [0.000, 1.000],  loss: 3.343777, mae: 10.232774, mean_q: 20.024319, mean_eps: 0.500000\n",
            " 3193/8000: episode: 111, duration: 0.305s, episode steps:  24, steps per second:  79, episode reward: 24.000, mean reward:  1.000 [ 1.000,  1.000], mean action: 0.583 [0.000, 1.000],  loss: 3.997733, mae: 10.519503, mean_q: 20.523419, mean_eps: 0.500000\n",
            " 3230/8000: episode: 112, duration: 0.465s, episode steps:  37, steps per second:  80, episode reward: 37.000, mean reward:  1.000 [ 1.000,  1.000], mean action: 0.459 [0.000, 1.000],  loss: 3.842790, mae: 10.452590, mean_q: 20.361443, mean_eps: 0.500000\n",
            " 3248/8000: episode: 113, duration: 0.219s, episode steps:  18, steps per second:  82, episode reward: 18.000, mean reward:  1.000 [ 1.000,  1.000], mean action: 0.500 [0.000, 1.000],  loss: 2.760514, mae: 10.368518, mean_q: 20.299936, mean_eps: 0.500000\n",
            " 3295/8000: episode: 114, duration: 0.564s, episode steps:  47, steps per second:  83, episode reward: 47.000, mean reward:  1.000 [ 1.000,  1.000], mean action: 0.468 [0.000, 1.000],  loss: 4.107994, mae: 10.478667, mean_q: 20.491863, mean_eps: 0.500000\n",
            " 3318/8000: episode: 115, duration: 0.293s, episode steps:  23, steps per second:  79, episode reward: 23.000, mean reward:  1.000 [ 1.000,  1.000], mean action: 0.565 [0.000, 1.000],  loss: 3.987774, mae: 10.650403, mean_q: 20.703781, mean_eps: 0.500000\n",
            " 3379/8000: episode: 116, duration: 0.735s, episode steps:  61, steps per second:  83, episode reward: 61.000, mean reward:  1.000 [ 1.000,  1.000], mean action: 0.459 [0.000, 1.000],  loss: 4.201744, mae: 10.832221, mean_q: 21.017134, mean_eps: 0.500000\n",
            " 3454/8000: episode: 117, duration: 0.957s, episode steps:  75, steps per second:  78, episode reward: 75.000, mean reward:  1.000 [ 1.000,  1.000], mean action: 0.467 [0.000, 1.000],  loss: 3.416422, mae: 10.937198, mean_q: 21.349473, mean_eps: 0.500000\n",
            " 3472/8000: episode: 118, duration: 0.233s, episode steps:  18, steps per second:  77, episode reward: 18.000, mean reward:  1.000 [ 1.000,  1.000], mean action: 0.556 [0.000, 1.000],  loss: 2.797074, mae: 11.107791, mean_q: 21.811677, mean_eps: 0.500000\n",
            " 3503/8000: episode: 119, duration: 0.380s, episode steps:  31, steps per second:  82, episode reward: 31.000, mean reward:  1.000 [ 1.000,  1.000], mean action: 0.452 [0.000, 1.000],  loss: 5.992505, mae: 11.115246, mean_q: 21.557025, mean_eps: 0.500000\n",
            " 3529/8000: episode: 120, duration: 0.327s, episode steps:  26, steps per second:  79, episode reward: 26.000, mean reward:  1.000 [ 1.000,  1.000], mean action: 0.462 [0.000, 1.000],  loss: 4.542684, mae: 11.119510, mean_q: 21.514588, mean_eps: 0.500000\n",
            " 3547/8000: episode: 121, duration: 0.254s, episode steps:  18, steps per second:  71, episode reward: 18.000, mean reward:  1.000 [ 1.000,  1.000], mean action: 0.500 [0.000, 1.000],  loss: 5.758328, mae: 11.310252, mean_q: 21.880887, mean_eps: 0.500000\n",
            " 3591/8000: episode: 122, duration: 0.527s, episode steps:  44, steps per second:  84, episode reward: 44.000, mean reward:  1.000 [ 1.000,  1.000], mean action: 0.477 [0.000, 1.000],  loss: 4.880337, mae: 11.300333, mean_q: 21.936250, mean_eps: 0.500000\n",
            " 3640/8000: episode: 123, duration: 0.613s, episode steps:  49, steps per second:  80, episode reward: 49.000, mean reward:  1.000 [ 1.000,  1.000], mean action: 0.490 [0.000, 1.000],  loss: 4.036834, mae: 11.423843, mean_q: 22.273946, mean_eps: 0.500000\n",
            " 3840/8000: episode: 124, duration: 2.425s, episode steps: 200, steps per second:  82, episode reward: 200.000, mean reward:  1.000 [ 1.000,  1.000], mean action: 0.520 [0.000, 1.000],  loss: 5.219657, mae: 11.646780, mean_q: 22.616455, mean_eps: 0.500000\n",
            " 3879/8000: episode: 125, duration: 0.529s, episode steps:  39, steps per second:  74, episode reward: 39.000, mean reward:  1.000 [ 1.000,  1.000], mean action: 0.462 [0.000, 1.000],  loss: 4.688675, mae: 11.905188, mean_q: 23.113533, mean_eps: 0.500000\n",
            " 3993/8000: episode: 126, duration: 1.419s, episode steps: 114, steps per second:  80, episode reward: 114.000, mean reward:  1.000 [ 1.000,  1.000], mean action: 0.482 [0.000, 1.000],  loss: 4.185973, mae: 12.050038, mean_q: 23.621772, mean_eps: 0.500000\n",
            " 4006/8000: episode: 127, duration: 0.171s, episode steps:  13, steps per second:  76, episode reward: 13.000, mean reward:  1.000 [ 1.000,  1.000], mean action: 0.462 [0.000, 1.000],  loss: 7.841157, mae: 12.421164, mean_q: 23.947054, mean_eps: 0.500000\n",
            " 4028/8000: episode: 128, duration: 0.277s, episode steps:  22, steps per second:  79, episode reward: 22.000, mean reward:  1.000 [ 1.000,  1.000], mean action: 0.545 [0.000, 1.000],  loss: 6.621592, mae: 12.390115, mean_q: 23.885053, mean_eps: 0.500000\n",
            " 4056/8000: episode: 129, duration: 0.365s, episode steps:  28, steps per second:  77, episode reward: 28.000, mean reward:  1.000 [ 1.000,  1.000], mean action: 0.500 [0.000, 1.000],  loss: 6.878574, mae: 12.349736, mean_q: 23.898940, mean_eps: 0.500000\n",
            " 4113/8000: episode: 130, duration: 0.718s, episode steps:  57, steps per second:  79, episode reward: 57.000, mean reward:  1.000 [ 1.000,  1.000], mean action: 0.456 [0.000, 1.000],  loss: 5.314496, mae: 12.280905, mean_q: 23.859301, mean_eps: 0.500000\n",
            " 4147/8000: episode: 131, duration: 0.427s, episode steps:  34, steps per second:  80, episode reward: 34.000, mean reward:  1.000 [ 1.000,  1.000], mean action: 0.471 [0.000, 1.000],  loss: 7.744584, mae: 12.482915, mean_q: 24.041117, mean_eps: 0.500000\n",
            " 4169/8000: episode: 132, duration: 0.273s, episode steps:  22, steps per second:  81, episode reward: 22.000, mean reward:  1.000 [ 1.000,  1.000], mean action: 0.500 [0.000, 1.000],  loss: 5.370275, mae: 12.460812, mean_q: 24.193280, mean_eps: 0.500000\n",
            " 4223/8000: episode: 133, duration: 0.664s, episode steps:  54, steps per second:  81, episode reward: 54.000, mean reward:  1.000 [ 1.000,  1.000], mean action: 0.574 [0.000, 1.000],  loss: 5.903278, mae: 12.505461, mean_q: 24.263791, mean_eps: 0.500000\n",
            " 4250/8000: episode: 134, duration: 0.382s, episode steps:  27, steps per second:  71, episode reward: 27.000, mean reward:  1.000 [ 1.000,  1.000], mean action: 0.556 [0.000, 1.000],  loss: 4.823841, mae: 12.614943, mean_q: 24.545056, mean_eps: 0.500000\n",
            " 4303/8000: episode: 135, duration: 0.678s, episode steps:  53, steps per second:  78, episode reward: 53.000, mean reward:  1.000 [ 1.000,  1.000], mean action: 0.566 [0.000, 1.000],  loss: 5.846452, mae: 12.646749, mean_q: 24.575043, mean_eps: 0.500000\n",
            " 4327/8000: episode: 136, duration: 0.301s, episode steps:  24, steps per second:  80, episode reward: 24.000, mean reward:  1.000 [ 1.000,  1.000], mean action: 0.458 [0.000, 1.000],  loss: 5.307811, mae: 12.727031, mean_q: 24.733216, mean_eps: 0.500000\n",
            " 4357/8000: episode: 137, duration: 0.376s, episode steps:  30, steps per second:  80, episode reward: 30.000, mean reward:  1.000 [ 1.000,  1.000], mean action: 0.500 [0.000, 1.000],  loss: 7.716781, mae: 12.897043, mean_q: 24.944892, mean_eps: 0.500000\n",
            " 4380/8000: episode: 138, duration: 0.303s, episode steps:  23, steps per second:  76, episode reward: 23.000, mean reward:  1.000 [ 1.000,  1.000], mean action: 0.478 [0.000, 1.000],  loss: 5.749221, mae: 12.789172, mean_q: 24.812657, mean_eps: 0.500000\n",
            " 4406/8000: episode: 139, duration: 0.328s, episode steps:  26, steps per second:  79, episode reward: 26.000, mean reward:  1.000 [ 1.000,  1.000], mean action: 0.462 [0.000, 1.000],  loss: 6.343580, mae: 12.929303, mean_q: 25.072826, mean_eps: 0.500000\n",
            " 4477/8000: episode: 140, duration: 0.923s, episode steps:  71, steps per second:  77, episode reward: 71.000, mean reward:  1.000 [ 1.000,  1.000], mean action: 0.507 [0.000, 1.000],  loss: 6.307155, mae: 12.969479, mean_q: 25.123874, mean_eps: 0.500000\n",
            " 4524/8000: episode: 141, duration: 0.627s, episode steps:  47, steps per second:  75, episode reward: 47.000, mean reward:  1.000 [ 1.000,  1.000], mean action: 0.447 [0.000, 1.000],  loss: 4.991107, mae: 12.999326, mean_q: 25.295785, mean_eps: 0.500000\n",
            " 4599/8000: episode: 142, duration: 0.935s, episode steps:  75, steps per second:  80, episode reward: 75.000, mean reward:  1.000 [ 1.000,  1.000], mean action: 0.480 [0.000, 1.000],  loss: 6.548507, mae: 13.086597, mean_q: 25.290148, mean_eps: 0.500000\n",
            " 4615/8000: episode: 143, duration: 0.212s, episode steps:  16, steps per second:  75, episode reward: 16.000, mean reward:  1.000 [ 1.000,  1.000], mean action: 0.688 [0.000, 1.000],  loss: 5.067929, mae: 13.173683, mean_q: 25.698375, mean_eps: 0.500000\n",
            " 4675/8000: episode: 144, duration: 0.731s, episode steps:  60, steps per second:  82, episode reward: 60.000, mean reward:  1.000 [ 1.000,  1.000], mean action: 0.483 [0.000, 1.000],  loss: 6.278943, mae: 13.220269, mean_q: 25.654805, mean_eps: 0.500000\n",
            " 4719/8000: episode: 145, duration: 0.576s, episode steps:  44, steps per second:  76, episode reward: 44.000, mean reward:  1.000 [ 1.000,  1.000], mean action: 0.455 [0.000, 1.000],  loss: 7.480460, mae: 13.320748, mean_q: 25.700750, mean_eps: 0.500000\n",
            " 4783/8000: episode: 146, duration: 0.772s, episode steps:  64, steps per second:  83, episode reward: 64.000, mean reward:  1.000 [ 1.000,  1.000], mean action: 0.562 [0.000, 1.000],  loss: 6.651846, mae: 13.370069, mean_q: 25.915650, mean_eps: 0.500000\n",
            " 4813/8000: episode: 147, duration: 0.384s, episode steps:  30, steps per second:  78, episode reward: 30.000, mean reward:  1.000 [ 1.000,  1.000], mean action: 0.533 [0.000, 1.000],  loss: 7.805566, mae: 13.367034, mean_q: 25.841520, mean_eps: 0.500000\n",
            " 4950/8000: episode: 148, duration: 1.656s, episode steps: 137, steps per second:  83, episode reward: 137.000, mean reward:  1.000 [ 1.000,  1.000], mean action: 0.533 [0.000, 1.000],  loss: 6.337795, mae: 13.493751, mean_q: 26.210830, mean_eps: 0.500000\n",
            " 4997/8000: episode: 149, duration: 0.565s, episode steps:  47, steps per second:  83, episode reward: 47.000, mean reward:  1.000 [ 1.000,  1.000], mean action: 0.532 [0.000, 1.000],  loss: 5.525154, mae: 13.571039, mean_q: 26.521086, mean_eps: 0.500000\n",
            " 5100/8000: episode: 150, duration: 1.257s, episode steps: 103, steps per second:  82, episode reward: 103.000, mean reward:  1.000 [ 1.000,  1.000], mean action: 0.466 [0.000, 1.000],  loss: 6.850842, mae: 13.670078, mean_q: 26.507934, mean_eps: 0.500000\n",
            " 5225/8000: episode: 151, duration: 1.484s, episode steps: 125, steps per second:  84, episode reward: 125.000, mean reward:  1.000 [ 1.000,  1.000], mean action: 0.480 [0.000, 1.000],  loss: 5.903509, mae: 13.867497, mean_q: 27.039734, mean_eps: 0.500000\n",
            " 5326/8000: episode: 152, duration: 1.221s, episode steps: 101, steps per second:  83, episode reward: 101.000, mean reward:  1.000 [ 1.000,  1.000], mean action: 0.475 [0.000, 1.000],  loss: 6.406800, mae: 14.068783, mean_q: 27.356797, mean_eps: 0.500000\n",
            " 5462/8000: episode: 153, duration: 1.640s, episode steps: 136, steps per second:  83, episode reward: 136.000, mean reward:  1.000 [ 1.000,  1.000], mean action: 0.529 [0.000, 1.000],  loss: 5.342124, mae: 14.154402, mean_q: 27.639359, mean_eps: 0.500000\n",
            " 5527/8000: episode: 154, duration: 0.807s, episode steps:  65, steps per second:  81, episode reward: 65.000, mean reward:  1.000 [ 1.000,  1.000], mean action: 0.492 [0.000, 1.000],  loss: 6.437046, mae: 14.472986, mean_q: 28.244579, mean_eps: 0.500000\n",
            " 5620/8000: episode: 155, duration: 1.131s, episode steps:  93, steps per second:  82, episode reward: 93.000, mean reward:  1.000 [ 1.000,  1.000], mean action: 0.527 [0.000, 1.000],  loss: 5.819420, mae: 14.502749, mean_q: 28.355257, mean_eps: 0.500000\n",
            " 5738/8000: episode: 156, duration: 1.422s, episode steps: 118, steps per second:  83, episode reward: 118.000, mean reward:  1.000 [ 1.000,  1.000], mean action: 0.525 [0.000, 1.000],  loss: 6.288969, mae: 14.669332, mean_q: 28.673895, mean_eps: 0.500000\n",
            " 5831/8000: episode: 157, duration: 1.139s, episode steps:  93, steps per second:  82, episode reward: 93.000, mean reward:  1.000 [ 1.000,  1.000], mean action: 0.548 [0.000, 1.000],  loss: 6.526017, mae: 14.808090, mean_q: 28.927138, mean_eps: 0.500000\n",
            " 5938/8000: episode: 158, duration: 1.301s, episode steps: 107, steps per second:  82, episode reward: 107.000, mean reward:  1.000 [ 1.000,  1.000], mean action: 0.477 [0.000, 1.000],  loss: 6.828639, mae: 15.047111, mean_q: 29.402397, mean_eps: 0.500000\n",
            " 6138/8000: episode: 159, duration: 2.394s, episode steps: 200, steps per second:  84, episode reward: 200.000, mean reward:  1.000 [ 1.000,  1.000], mean action: 0.490 [0.000, 1.000],  loss: 7.748948, mae: 15.173600, mean_q: 29.492962, mean_eps: 0.500000\n",
            " 6295/8000: episode: 160, duration: 1.893s, episode steps: 157, steps per second:  83, episode reward: 157.000, mean reward:  1.000 [ 1.000,  1.000], mean action: 0.497 [0.000, 1.000],  loss: 6.910642, mae: 15.314866, mean_q: 29.919660, mean_eps: 0.500000\n",
            " 6311/8000: episode: 161, duration: 0.196s, episode steps:  16, steps per second:  82, episode reward: 16.000, mean reward:  1.000 [ 1.000,  1.000], mean action: 0.375 [0.000, 1.000],  loss: 4.804385, mae: 15.469315, mean_q: 30.418010, mean_eps: 0.500000\n",
            " 6511/8000: episode: 162, duration: 2.446s, episode steps: 200, steps per second:  82, episode reward: 200.000, mean reward:  1.000 [ 1.000,  1.000], mean action: 0.500 [0.000, 1.000],  loss: 7.809338, mae: 15.691306, mean_q: 30.618527, mean_eps: 0.500000\n",
            " 6711/8000: episode: 163, duration: 2.760s, episode steps: 200, steps per second:  72, episode reward: 200.000, mean reward:  1.000 [ 1.000,  1.000], mean action: 0.520 [0.000, 1.000],  loss: 8.400716, mae: 15.869512, mean_q: 30.913930, mean_eps: 0.500000\n",
            " 6736/8000: episode: 164, duration: 0.335s, episode steps:  25, steps per second:  75, episode reward: 25.000, mean reward:  1.000 [ 1.000,  1.000], mean action: 0.480 [0.000, 1.000],  loss: 6.948894, mae: 15.865708, mean_q: 30.946265, mean_eps: 0.500000\n",
            " 6893/8000: episode: 165, duration: 1.985s, episode steps: 157, steps per second:  79, episode reward: 157.000, mean reward:  1.000 [ 1.000,  1.000], mean action: 0.541 [0.000, 1.000],  loss: 7.163589, mae: 16.076801, mean_q: 31.451279, mean_eps: 0.500000\n",
            " 7002/8000: episode: 166, duration: 1.373s, episode steps: 109, steps per second:  79, episode reward: 109.000, mean reward:  1.000 [ 1.000,  1.000], mean action: 0.477 [0.000, 1.000],  loss: 8.522013, mae: 16.292271, mean_q: 31.776845, mean_eps: 0.500000\n",
            " 7187/8000: episode: 167, duration: 2.353s, episode steps: 185, steps per second:  79, episode reward: 185.000, mean reward:  1.000 [ 1.000,  1.000], mean action: 0.530 [0.000, 1.000],  loss: 5.599619, mae: 16.384091, mean_q: 32.303546, mean_eps: 0.500000\n",
            " 7387/8000: episode: 168, duration: 2.550s, episode steps: 200, steps per second:  78, episode reward: 200.000, mean reward:  1.000 [ 1.000,  1.000], mean action: 0.505 [0.000, 1.000],  loss: 7.939923, mae: 16.831065, mean_q: 33.025138, mean_eps: 0.500000\n",
            " 7529/8000: episode: 169, duration: 1.746s, episode steps: 142, steps per second:  81, episode reward: 142.000, mean reward:  1.000 [ 1.000,  1.000], mean action: 0.472 [0.000, 1.000],  loss: 7.529859, mae: 17.081760, mean_q: 33.590342, mean_eps: 0.500000\n",
            " 7729/8000: episode: 170, duration: 2.526s, episode steps: 200, steps per second:  79, episode reward: 200.000, mean reward:  1.000 [ 1.000,  1.000], mean action: 0.505 [0.000, 1.000],  loss: 7.879336, mae: 17.282300, mean_q: 33.968541, mean_eps: 0.500000\n",
            " 7792/8000: episode: 171, duration: 0.776s, episode steps:  63, steps per second:  81, episode reward: 63.000, mean reward:  1.000 [ 1.000,  1.000], mean action: 0.476 [0.000, 1.000],  loss: 7.847778, mae: 17.587830, mean_q: 34.611354, mean_eps: 0.500000\n",
            " 7952/8000: episode: 172, duration: 1.986s, episode steps: 160, steps per second:  81, episode reward: 160.000, mean reward:  1.000 [ 1.000,  1.000], mean action: 0.519 [0.000, 1.000],  loss: 6.793722, mae: 17.705671, mean_q: 34.970816, mean_eps: 0.500000\n",
            "done, took 108.139 seconds\n"
          ]
        },
        {
          "output_type": "display_data",
          "data": {
            "text/plain": [
              "<Figure size 432x288 with 1 Axes>"
            ],
            "image/png": "[encoded data removed]"
          },
          "metadata": {
            "needs_background": "light"
          }
        },
        {
          "output_type": "stream",
          "name": "stdout",
          "text": [
            "Testing for 20 episodes ...\n",
            "Episode 1: reward: 200.000, steps: 200\n",
            "Episode 2: reward: 200.000, steps: 200\n",
            "Episode 3: reward: 200.000, steps: 200\n",
            "Episode 4: reward: 200.000, steps: 200\n",
            "Episode 5: reward: 200.000, steps: 200\n",
            "Episode 6: reward: 200.000, steps: 200\n",
            "Episode 7: reward: 200.000, steps: 200\n",
            "Episode 8: reward: 200.000, steps: 200\n",
            "Episode 9: reward: 200.000, steps: 200\n",
            "Episode 10: reward: 200.000, steps: 200\n",
            "Episode 11: reward: 200.000, steps: 200\n",
            "Episode 12: reward: 200.000, steps: 200\n",
            "Episode 13: reward: 200.000, steps: 200\n",
            "Episode 14: reward: 200.000, steps: 200\n",
            "Episode 15: reward: 200.000, steps: 200\n",
            "Episode 16: reward: 200.000, steps: 200\n",
            "Episode 17: reward: 200.000, steps: 200\n",
            "Episode 18: reward: 200.000, steps: 200\n",
            "Episode 19: reward: 200.000, steps: 200\n",
            "Episode 20: reward: 200.000, steps: 200\n"
          ]
        },
        {
          "output_type": "execute_result",
          "data": {
            "text/plain": [
              "<keras.callbacks.History at 0x7fb172187950>"
            ]
          },
          "metadata": {},
          "execution_count": 86
        }
      ]
    }
  ]
}