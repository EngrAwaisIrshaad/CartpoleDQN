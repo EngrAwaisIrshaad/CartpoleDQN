{
  "nbformat": 4,
  "nbformat_minor": 0,
  "metadata": {
    "colab": {
      "name": "CartPoleDQN.ipynb",
      "provenance": [],
      "collapsed_sections": [],
      "include_colab_link": true
    },
    "kernelspec": {
      "name": "python3",
      "display_name": "Python 3"
    }
  },
  "cells": [
    {
      "cell_type": "markdown",
      "metadata": {
        "id": "view-in-github",
        "colab_type": "text"
      },
      "source": [
        "<a href=\"https://colab.research.google.com/github/Megacity1/CartpoleDQN/blob/main/Week%203%20Deep%20RL%202/CartPoleDQN.ipynb\" target=\"_parent\"><img src=\"https://colab.research.google.com/assets/colab-badge.svg\" alt=\"Open In Colab\"/></a>"
      ]
    },
    {
      "cell_type": "markdown",
      "metadata": {
        "id": "VKK5DA390wRe"
      },
      "source": [
        "# Deep Q Network (DQN) for CartPole Using Boltzmann Q Policy\n",
        "This exercise implements a DQN for CartPole using a Boltzmann Q policy for selecting the actions"
      ]
    },
    {
      "cell_type": "code",
      "metadata": {
        "id": "LGsC7cJ5jNcX",
        "colab": {
          "base_uri": "https://localhost:8080/"
        },
        "outputId": "cda73cbf-3020-40f4-e45e-7b87053448f1"
      },
      "source": [
        "# install keras rl2 (we need to install keras-rl2 so it works with the tensorflow 2 version that comes pre-installed with colab)\n",
        "!pip install keras-rl2"
      ],
      "execution_count": 57,
      "outputs": [
        {
          "output_type": "stream",
          "name": "stdout",
          "text": [
            "Requirement already satisfied: keras-rl2 in /usr/local/lib/python3.7/dist-packages (1.0.5)\n",
            "Requirement already satisfied: tensorflow in /usr/local/lib/python3.7/dist-packages (from keras-rl2) (2.8.0)\n",
            "Requirement already satisfied: keras-preprocessing>=1.1.1 in /usr/local/lib/python3.7/dist-packages (from tensorflow->keras-rl2) (1.1.2)\n",
            "Requirement already satisfied: protobuf>=3.9.2 in /usr/local/lib/python3.7/dist-packages (from tensorflow->keras-rl2) (3.17.3)\n",
            "Requirement already satisfied: tensorflow-io-gcs-filesystem>=0.23.1 in /usr/local/lib/python3.7/dist-packages (from tensorflow->keras-rl2) (0.24.0)\n",
            "Requirement already satisfied: libclang>=9.0.1 in /usr/local/lib/python3.7/dist-packages (from tensorflow->keras-rl2) (13.0.0)\n",
            "Requirement already satisfied: h5py>=2.9.0 in /usr/local/lib/python3.7/dist-packages (from tensorflow->keras-rl2) (3.1.0)\n",
            "Requirement already satisfied: opt-einsum>=2.3.2 in /usr/local/lib/python3.7/dist-packages (from tensorflow->keras-rl2) (3.3.0)\n",
            "Requirement already satisfied: gast>=0.2.1 in /usr/local/lib/python3.7/dist-packages (from tensorflow->keras-rl2) (0.5.3)\n",
            "Requirement already satisfied: grpcio<2.0,>=1.24.3 in /usr/local/lib/python3.7/dist-packages (from tensorflow->keras-rl2) (1.44.0)\n",
            "Requirement already satisfied: tensorboard<2.9,>=2.8 in /usr/local/lib/python3.7/dist-packages (from tensorflow->keras-rl2) (2.8.0)\n",
            "Requirement already satisfied: wrapt>=1.11.0 in /usr/local/lib/python3.7/dist-packages (from tensorflow->keras-rl2) (1.14.0)\n",
            "Requirement already satisfied: absl-py>=0.4.0 in /usr/local/lib/python3.7/dist-packages (from tensorflow->keras-rl2) (1.0.0)\n",
            "Requirement already satisfied: flatbuffers>=1.12 in /usr/local/lib/python3.7/dist-packages (from tensorflow->keras-rl2) (2.0)\n",
            "Requirement already satisfied: termcolor>=1.1.0 in /usr/local/lib/python3.7/dist-packages (from tensorflow->keras-rl2) (1.1.0)\n",
            "Requirement already satisfied: keras<2.9,>=2.8.0rc0 in /usr/local/lib/python3.7/dist-packages (from tensorflow->keras-rl2) (2.8.0)\n",
            "Requirement already satisfied: six>=1.12.0 in /usr/local/lib/python3.7/dist-packages (from tensorflow->keras-rl2) (1.15.0)\n",
            "Requirement already satisfied: tf-estimator-nightly==2.8.0.dev2021122109 in /usr/local/lib/python3.7/dist-packages (from tensorflow->keras-rl2) (2.8.0.dev2021122109)\n",
            "Requirement already satisfied: numpy>=1.20 in /usr/local/lib/python3.7/dist-packages (from tensorflow->keras-rl2) (1.21.5)\n",
            "Requirement already satisfied: astunparse>=1.6.0 in /usr/local/lib/python3.7/dist-packages (from tensorflow->keras-rl2) (1.6.3)\n",
            "Requirement already satisfied: typing-extensions>=3.6.6 in /usr/local/lib/python3.7/dist-packages (from tensorflow->keras-rl2) (3.10.0.2)\n",
            "Requirement already satisfied: setuptools in /usr/local/lib/python3.7/dist-packages (from tensorflow->keras-rl2) (57.4.0)\n",
            "Requirement already satisfied: google-pasta>=0.1.1 in /usr/local/lib/python3.7/dist-packages (from tensorflow->keras-rl2) (0.2.0)\n",
            "Requirement already satisfied: wheel<1.0,>=0.23.0 in /usr/local/lib/python3.7/dist-packages (from astunparse>=1.6.0->tensorflow->keras-rl2) (0.37.1)\n",
            "Requirement already satisfied: cached-property in /usr/local/lib/python3.7/dist-packages (from h5py>=2.9.0->tensorflow->keras-rl2) (1.5.2)\n",
            "Requirement already satisfied: google-auth-oauthlib<0.5,>=0.4.1 in /usr/local/lib/python3.7/dist-packages (from tensorboard<2.9,>=2.8->tensorflow->keras-rl2) (0.4.6)\n",
            "Requirement already satisfied: requests<3,>=2.21.0 in /usr/local/lib/python3.7/dist-packages (from tensorboard<2.9,>=2.8->tensorflow->keras-rl2) (2.23.0)\n",
            "Requirement already satisfied: werkzeug>=0.11.15 in /usr/local/lib/python3.7/dist-packages (from tensorboard<2.9,>=2.8->tensorflow->keras-rl2) (1.0.1)\n",
            "Requirement already satisfied: markdown>=2.6.8 in /usr/local/lib/python3.7/dist-packages (from tensorboard<2.9,>=2.8->tensorflow->keras-rl2) (3.3.6)\n",
            "Requirement already satisfied: google-auth<3,>=1.6.3 in /usr/local/lib/python3.7/dist-packages (from tensorboard<2.9,>=2.8->tensorflow->keras-rl2) (1.35.0)\n",
            "Requirement already satisfied: tensorboard-data-server<0.7.0,>=0.6.0 in /usr/local/lib/python3.7/dist-packages (from tensorboard<2.9,>=2.8->tensorflow->keras-rl2) (0.6.1)\n",
            "Requirement already satisfied: tensorboard-plugin-wit>=1.6.0 in /usr/local/lib/python3.7/dist-packages (from tensorboard<2.9,>=2.8->tensorflow->keras-rl2) (1.8.1)\n",
            "Requirement already satisfied: pyasn1-modules>=0.2.1 in /usr/local/lib/python3.7/dist-packages (from google-auth<3,>=1.6.3->tensorboard<2.9,>=2.8->tensorflow->keras-rl2) (0.2.8)\n",
            "Requirement already satisfied: cachetools<5.0,>=2.0.0 in /usr/local/lib/python3.7/dist-packages (from google-auth<3,>=1.6.3->tensorboard<2.9,>=2.8->tensorflow->keras-rl2) (4.2.4)\n",
            "Requirement already satisfied: rsa<5,>=3.1.4 in /usr/local/lib/python3.7/dist-packages (from google-auth<3,>=1.6.3->tensorboard<2.9,>=2.8->tensorflow->keras-rl2) (4.8)\n",
            "Requirement already satisfied: requests-oauthlib>=0.7.0 in /usr/local/lib/python3.7/dist-packages (from google-auth-oauthlib<0.5,>=0.4.1->tensorboard<2.9,>=2.8->tensorflow->keras-rl2) (1.3.1)\n",
            "Requirement already satisfied: importlib-metadata>=4.4 in /usr/local/lib/python3.7/dist-packages (from markdown>=2.6.8->tensorboard<2.9,>=2.8->tensorflow->keras-rl2) (4.11.3)\n",
            "Requirement already satisfied: zipp>=0.5 in /usr/local/lib/python3.7/dist-packages (from importlib-metadata>=4.4->markdown>=2.6.8->tensorboard<2.9,>=2.8->tensorflow->keras-rl2) (3.7.0)\n",
            "Requirement already satisfied: pyasn1<0.5.0,>=0.4.6 in /usr/local/lib/python3.7/dist-packages (from pyasn1-modules>=0.2.1->google-auth<3,>=1.6.3->tensorboard<2.9,>=2.8->tensorflow->keras-rl2) (0.4.8)\n",
            "Requirement already satisfied: chardet<4,>=3.0.2 in /usr/local/lib/python3.7/dist-packages (from requests<3,>=2.21.0->tensorboard<2.9,>=2.8->tensorflow->keras-rl2) (3.0.4)\n",
            "Requirement already satisfied: urllib3!=1.25.0,!=1.25.1,<1.26,>=1.21.1 in /usr/local/lib/python3.7/dist-packages (from requests<3,>=2.21.0->tensorboard<2.9,>=2.8->tensorflow->keras-rl2) (1.24.3)\n",
            "Requirement already satisfied: idna<3,>=2.5 in /usr/local/lib/python3.7/dist-packages (from requests<3,>=2.21.0->tensorboard<2.9,>=2.8->tensorflow->keras-rl2) (2.10)\n",
            "Requirement already satisfied: certifi>=2017.4.17 in /usr/local/lib/python3.7/dist-packages (from requests<3,>=2.21.0->tensorboard<2.9,>=2.8->tensorflow->keras-rl2) (2021.10.8)\n",
            "Requirement already satisfied: oauthlib>=3.0.0 in /usr/local/lib/python3.7/dist-packages (from requests-oauthlib>=0.7.0->google-auth-oauthlib<0.5,>=0.4.1->tensorboard<2.9,>=2.8->tensorflow->keras-rl2) (3.2.0)\n"
          ]
        }
      ]
    },
    {
      "cell_type": "code",
      "metadata": {
        "id": "XMIHLgQ3Z-lF",
        "colab": {
          "base_uri": "https://localhost:8080/"
        },
        "outputId": "3d5a8608-456f-4127-ce8a-f551e5f4e4f3"
      },
      "source": [
        "!pip install gym"
      ],
      "execution_count": 58,
      "outputs": [
        {
          "output_type": "stream",
          "name": "stdout",
          "text": [
            "Requirement already satisfied: gym in /usr/local/lib/python3.7/dist-packages (0.17.3)\n",
            "Requirement already satisfied: numpy>=1.10.4 in /usr/local/lib/python3.7/dist-packages (from gym) (1.21.5)\n",
            "Requirement already satisfied: scipy in /usr/local/lib/python3.7/dist-packages (from gym) (1.4.1)\n",
            "Requirement already satisfied: pyglet<=1.5.0,>=1.4.0 in /usr/local/lib/python3.7/dist-packages (from gym) (1.5.0)\n",
            "Requirement already satisfied: cloudpickle<1.7.0,>=1.2.0 in /usr/local/lib/python3.7/dist-packages (from gym) (1.3.0)\n",
            "Requirement already satisfied: future in /usr/local/lib/python3.7/dist-packages (from pyglet<=1.5.0,>=1.4.0->gym) (0.16.0)\n"
          ]
        }
      ]
    },
    {
      "cell_type": "code",
      "metadata": {
        "id": "M0AMLzq08ap0",
        "colab": {
          "base_uri": "https://localhost:8080/"
        },
        "outputId": "77b380e1-6c3d-4bce-8233-a8ac01deaf26"
      },
      "source": [
        "# load the gym module\n",
        "import gym\n",
        "import matplotlib.pyplot as plt\n",
        "# import the usual Keras modules for creating deep neural networks\n",
        "from keras import Sequential\n",
        "from keras.layers import Input, Flatten, Dense\n",
        "!pip install Adam\n",
        "#from keras.optimizers import Adam\n",
        "from tensorflow.keras.optimizers import Adam\n",
        "ENV_NAME = 'CartPole-v0'\n",
        "env = gym.make(ENV_NAME)"
      ],
      "execution_count": 62,
      "outputs": [
        {
          "output_type": "stream",
          "name": "stdout",
          "text": [
            "Requirement already satisfied: Adam in /usr/local/lib/python3.7/dist-packages (0.0.0.dev0)\n"
          ]
        }
      ]
    },
    {
      "cell_type": "markdown",
      "metadata": {
        "id": "ll6bNdUm54WS"
      },
      "source": [
        "Implementation of DQN for CartPole, applying policy BoltzmannQPolicy"
      ]
    },
    {
      "cell_type": "markdown",
      "metadata": {
        "id": "RSCrPKNy40PC"
      },
      "source": [
        "##Implement DQN with BoltzmannGumbelQPolicy"
      ]
    },
    {
      "cell_type": "code",
      "metadata": {
        "id": "efM9jkXr5A3c",
        "colab": {
          "base_uri": "https://localhost:8080/",
          "height": 1000
        },
        "outputId": "3e40f8d2-f66f-4a46-ce31-ef364c77ef15"
      },
      "source": [
        "import rl\n",
        "from rl.memory import SequentialMemory  # import the exerience replay buffer module\n",
        "from rl.policy import BoltzmannGumbelQPolicy\n",
        "from rl.policy import LinearAnnealedPolicy\n",
        "from rl.policy import EpsGreedyQPolicy\n",
        "from rl.agents.dqn import DQNAgent      # import the DQN agent\n",
        "\n",
        "# setup experience replay buffer\n",
        "memory = SequentialMemory(limit=10000, window_length=1)\n",
        "\n",
        "policy = LinearAnnealedPolicy(EpsGreedyQPolicy(), \n",
        "                               attr='eps',            \n",
        "                               value_max=5.,\n",
        "                               value_min=.5, \n",
        "                               value_test=.05,\n",
        "                               nb_steps=200)\n",
        "# Q-Network\n",
        "model = Sequential()\n",
        "model.add(Input(shape=(1,env.observation_space.shape[0])))  # The input is 1 observation vector, and the number of observations in that vector \n",
        "model.add(Flatten())\n",
        "model.add(Dense(16, activation='relu'))\n",
        "# add extra layers here\n",
        "model.add(Dense(env.action_space.n, activation='linear'))   # the output is the number of actions in the action space\n",
        "\n",
        "print(model.summary())\n",
        "\n",
        "# define the agent\n",
        "dqn = DQNAgent(model=model, \n",
        "               nb_actions=env.action_space.n,\n",
        "               memory=memory,\n",
        "               nb_steps_warmup=30,\n",
        "               target_model_update=1e-2, \n",
        "               policy=policy) \n",
        "\n",
        "dqn.compile(Adam(lr=1e-3), metrics=['mae'])\n",
        "\n",
        "history = dqn.fit(env, nb_steps=8000, visualize=False, verbose=2)\n",
        "\n",
        "# summarize the history for number  of episode steps\n",
        "plt.plot(history.history['nb_episode_steps'])\n",
        "plt.ylabel('nb_episode_steps')\n",
        "plt.xlabel('episodes')\n",
        "plt.show()\n",
        "\n",
        "dqn.test(env, nb_episodes=20, visualize=False)"
      ],
      "execution_count": 104,
      "outputs": [
        {
          "output_type": "stream",
          "name": "stdout",
          "text": [
            "Model: \"sequential_55\"\n",
            "_________________________________________________________________\n",
            " Layer (type)                Output Shape              Param #   \n",
            "=================================================================\n",
            " flatten_53 (Flatten)        (None, 4)                 0         \n",
            "                                                                 \n",
            " dense_107 (Dense)           (None, 16)                80        \n",
            "                                                                 \n",
            " dense_108 (Dense)           (None, 2)                 34        \n",
            "                                                                 \n",
            "=================================================================\n",
            "Total params: 114\n",
            "Trainable params: 114\n",
            "Non-trainable params: 0\n",
            "_________________________________________________________________\n",
            "None\n"
          ]
        },
        {
          "output_type": "stream",
          "name": "stderr",
          "text": [
            "/usr/local/lib/python3.7/dist-packages/keras/optimizer_v2/adam.py:105: UserWarning: The `lr` argument is deprecated, use `learning_rate` instead.\n",
            "  super(Adam, self).__init__(name, **kwargs)\n"
          ]
        },
        {
          "output_type": "stream",
          "name": "stdout",
          "text": [
            "Training for 8000 steps ...\n"
          ]
        },
        {
          "output_type": "stream",
          "name": "stderr",
          "text": [
            "/usr/local/lib/python3.7/dist-packages/keras/engine/training_v1.py:2079: UserWarning: `Model.state_updates` will be removed in a future version. This property should not be used in TensorFlow 2.0, as `updates` are applied automatically.\n",
            "  updates=self.state_updates,\n",
            "/usr/local/lib/python3.7/dist-packages/rl/memory.py:37: UserWarning: Not enough entries to sample without replacement. Consider increasing your warm-up phase to avoid oversampling!\n",
            "  warnings.warn('Not enough entries to sample without replacement. Consider increasing your warm-up phase to avoid oversampling!')\n"
          ]
        },
        {
          "output_type": "stream",
          "name": "stdout",
          "text": [
            "   36/8000: episode: 1, duration: 12.859s, episode steps:  36, steps per second:   3, episode reward: 36.000, mean reward:  1.000 [ 1.000,  1.000], mean action: 0.500 [0.000, 1.000],  loss: 0.533167, mae: 0.556622, mean_q: 0.148141, mean_eps: 4.257500\n",
            "   85/8000: episode: 2, duration: 0.829s, episode steps:  49, steps per second:  59, episode reward: 49.000, mean reward:  1.000 [ 1.000,  1.000], mean action: 0.510 [0.000, 1.000],  loss: 0.449545, mae: 0.561929, mean_q: 0.282393, mean_eps: 3.650000\n",
            "  107/8000: episode: 3, duration: 0.430s, episode steps:  22, steps per second:  51, episode reward: 22.000, mean reward:  1.000 [ 1.000,  1.000], mean action: 0.545 [0.000, 1.000],  loss: 0.364422, mae: 0.598397, mean_q: 0.501945, mean_eps: 2.851250\n",
            "  116/8000: episode: 4, duration: 0.232s, episode steps:   9, steps per second:  39, episode reward:  9.000, mean reward:  1.000 [ 1.000,  1.000], mean action: 0.333 [0.000, 1.000],  loss: 0.356177, mae: 0.628138, mean_q: 0.579221, mean_eps: 2.502500\n",
            "  183/8000: episode: 5, duration: 1.362s, episode steps:  67, steps per second:  49, episode reward: 67.000, mean reward:  1.000 [ 1.000,  1.000], mean action: 0.433 [0.000, 1.000],  loss: 0.275763, mae: 0.699172, mean_q: 0.856956, mean_eps: 1.647500\n",
            "  248/8000: episode: 6, duration: 1.259s, episode steps:  65, steps per second:  52, episode reward: 65.000, mean reward:  1.000 [ 1.000,  1.000], mean action: 0.585 [0.000, 1.000],  loss: 0.156348, mae: 0.853425, mean_q: 1.350854, mean_eps: 0.552962\n",
            "  262/8000: episode: 7, duration: 0.311s, episode steps:  14, steps per second:  45, episode reward: 14.000, mean reward:  1.000 [ 1.000,  1.000], mean action: 0.500 [0.000, 1.000],  loss: 0.093885, mae: 0.995278, mean_q: 1.747085, mean_eps: 0.500000\n",
            "  273/8000: episode: 8, duration: 0.372s, episode steps:  11, steps per second:  30, episode reward: 11.000, mean reward:  1.000 [ 1.000,  1.000], mean action: 0.818 [0.000, 1.000],  loss: 0.127364, mae: 1.103091, mean_q: 1.967198, mean_eps: 0.500000\n",
            "  294/8000: episode: 9, duration: 0.699s, episode steps:  21, steps per second:  30, episode reward: 21.000, mean reward:  1.000 [ 1.000,  1.000], mean action: 0.667 [0.000, 1.000],  loss: 0.170392, mae: 1.168560, mean_q: 2.067532, mean_eps: 0.500000\n",
            "  322/8000: episode: 10, duration: 0.719s, episode steps:  28, steps per second:  39, episode reward: 28.000, mean reward:  1.000 [ 1.000,  1.000], mean action: 0.714 [0.000, 1.000],  loss: 0.125915, mae: 1.251320, mean_q: 2.241545, mean_eps: 0.500000\n",
            "  340/8000: episode: 11, duration: 0.494s, episode steps:  18, steps per second:  36, episode reward: 18.000, mean reward:  1.000 [ 1.000,  1.000], mean action: 0.667 [0.000, 1.000],  loss: 0.226369, mae: 1.382976, mean_q: 2.489927, mean_eps: 0.500000\n",
            "  351/8000: episode: 12, duration: 0.350s, episode steps:  11, steps per second:  31, episode reward: 11.000, mean reward:  1.000 [ 1.000,  1.000], mean action: 0.909 [0.000, 1.000],  loss: 0.175927, mae: 1.433438, mean_q: 2.545358, mean_eps: 0.500000\n",
            "  377/8000: episode: 13, duration: 0.768s, episode steps:  26, steps per second:  34, episode reward: 26.000, mean reward:  1.000 [ 1.000,  1.000], mean action: 0.654 [0.000, 1.000],  loss: 0.244263, mae: 1.535992, mean_q: 2.769549, mean_eps: 0.500000\n",
            "  398/8000: episode: 14, duration: 0.632s, episode steps:  21, steps per second:  33, episode reward: 21.000, mean reward:  1.000 [ 1.000,  1.000], mean action: 0.524 [0.000, 1.000],  loss: 0.271328, mae: 1.629988, mean_q: 2.896625, mean_eps: 0.500000\n",
            "  408/8000: episode: 15, duration: 0.215s, episode steps:  10, steps per second:  47, episode reward: 10.000, mean reward:  1.000 [ 1.000,  1.000], mean action: 0.800 [0.000, 1.000],  loss: 0.246845, mae: 1.681353, mean_q: 3.034766, mean_eps: 0.500000\n",
            "  418/8000: episode: 16, duration: 0.192s, episode steps:  10, steps per second:  52, episode reward: 10.000, mean reward:  1.000 [ 1.000,  1.000], mean action: 0.900 [0.000, 1.000],  loss: 0.214665, mae: 1.731015, mean_q: 3.169005, mean_eps: 0.500000\n",
            "  434/8000: episode: 17, duration: 0.288s, episode steps:  16, steps per second:  56, episode reward: 16.000, mean reward:  1.000 [ 1.000,  1.000], mean action: 0.750 [0.000, 1.000],  loss: 0.369214, mae: 1.836113, mean_q: 3.373122, mean_eps: 0.500000\n",
            "  445/8000: episode: 18, duration: 0.187s, episode steps:  11, steps per second:  59, episode reward: 11.000, mean reward:  1.000 [ 1.000,  1.000], mean action: 0.727 [0.000, 1.000],  loss: 0.373447, mae: 1.857582, mean_q: 3.438453, mean_eps: 0.500000\n",
            "  456/8000: episode: 19, duration: 0.217s, episode steps:  11, steps per second:  51, episode reward: 11.000, mean reward:  1.000 [ 1.000,  1.000], mean action: 0.909 [0.000, 1.000],  loss: 0.455865, mae: 1.960654, mean_q: 3.545756, mean_eps: 0.500000\n",
            "  476/8000: episode: 20, duration: 0.599s, episode steps:  20, steps per second:  33, episode reward: 20.000, mean reward:  1.000 [ 1.000,  1.000], mean action: 0.650 [0.000, 1.000],  loss: 0.315772, mae: 1.960204, mean_q: 3.664543, mean_eps: 0.500000\n",
            "  492/8000: episode: 21, duration: 0.440s, episode steps:  16, steps per second:  36, episode reward: 16.000, mean reward:  1.000 [ 1.000,  1.000], mean action: 0.688 [0.000, 1.000],  loss: 0.402091, mae: 2.058286, mean_q: 3.880437, mean_eps: 0.500000\n",
            "  504/8000: episode: 22, duration: 0.251s, episode steps:  12, steps per second:  48, episode reward: 12.000, mean reward:  1.000 [ 1.000,  1.000], mean action: 0.750 [0.000, 1.000],  loss: 0.487585, mae: 2.170075, mean_q: 4.061069, mean_eps: 0.500000\n",
            "  513/8000: episode: 23, duration: 0.198s, episode steps:   9, steps per second:  45, episode reward:  9.000, mean reward:  1.000 [ 1.000,  1.000], mean action: 0.889 [0.000, 1.000],  loss: 0.502751, mae: 2.190351, mean_q: 4.067813, mean_eps: 0.500000\n",
            "  522/8000: episode: 24, duration: 0.185s, episode steps:   9, steps per second:  49, episode reward:  9.000, mean reward:  1.000 [ 1.000,  1.000], mean action: 0.889 [0.000, 1.000],  loss: 0.492293, mae: 2.210471, mean_q: 4.085456, mean_eps: 0.500000\n",
            "  532/8000: episode: 25, duration: 0.234s, episode steps:  10, steps per second:  43, episode reward: 10.000, mean reward:  1.000 [ 1.000,  1.000], mean action: 0.700 [0.000, 1.000],  loss: 0.584282, mae: 2.299456, mean_q: 4.224824, mean_eps: 0.500000\n",
            "  543/8000: episode: 26, duration: 0.261s, episode steps:  11, steps per second:  42, episode reward: 11.000, mean reward:  1.000 [ 1.000,  1.000], mean action: 0.273 [0.000, 1.000],  loss: 0.569720, mae: 2.325725, mean_q: 4.262701, mean_eps: 0.500000\n",
            "  553/8000: episode: 27, duration: 0.235s, episode steps:  10, steps per second:  43, episode reward: 10.000, mean reward:  1.000 [ 1.000,  1.000], mean action: 1.000 [1.000, 1.000],  loss: 0.587632, mae: 2.389676, mean_q: 4.367578, mean_eps: 0.500000\n",
            "  569/8000: episode: 28, duration: 0.322s, episode steps:  16, steps per second:  50, episode reward: 16.000, mean reward:  1.000 [ 1.000,  1.000], mean action: 0.750 [0.000, 1.000],  loss: 0.302388, mae: 2.322036, mean_q: 4.421576, mean_eps: 0.500000\n",
            "  585/8000: episode: 29, duration: 0.364s, episode steps:  16, steps per second:  44, episode reward: 16.000, mean reward:  1.000 [ 1.000,  1.000], mean action: 0.750 [0.000, 1.000],  loss: 0.550060, mae: 2.460370, mean_q: 4.568972, mean_eps: 0.500000\n",
            "  613/8000: episode: 30, duration: 0.902s, episode steps:  28, steps per second:  31, episode reward: 28.000, mean reward:  1.000 [ 1.000,  1.000], mean action: 0.607 [0.000, 1.000],  loss: 0.462100, mae: 2.536538, mean_q: 4.733906, mean_eps: 0.500000\n",
            "  625/8000: episode: 31, duration: 0.331s, episode steps:  12, steps per second:  36, episode reward: 12.000, mean reward:  1.000 [ 1.000,  1.000], mean action: 0.750 [0.000, 1.000],  loss: 0.461006, mae: 2.588302, mean_q: 4.840745, mean_eps: 0.500000\n",
            "  636/8000: episode: 32, duration: 0.281s, episode steps:  11, steps per second:  39, episode reward: 11.000, mean reward:  1.000 [ 1.000,  1.000], mean action: 0.909 [0.000, 1.000],  loss: 0.407368, mae: 2.635503, mean_q: 4.945487, mean_eps: 0.500000\n",
            "  648/8000: episode: 33, duration: 0.268s, episode steps:  12, steps per second:  45, episode reward: 12.000, mean reward:  1.000 [ 1.000,  1.000], mean action: 0.750 [0.000, 1.000],  loss: 0.483335, mae: 2.702147, mean_q: 5.033446, mean_eps: 0.500000\n",
            "  661/8000: episode: 34, duration: 0.282s, episode steps:  13, steps per second:  46, episode reward: 13.000, mean reward:  1.000 [ 1.000,  1.000], mean action: 0.615 [0.000, 1.000],  loss: 0.485720, mae: 2.742576, mean_q: 5.109032, mean_eps: 0.500000\n",
            "  675/8000: episode: 35, duration: 0.249s, episode steps:  14, steps per second:  56, episode reward: 14.000, mean reward:  1.000 [ 1.000,  1.000], mean action: 0.571 [0.000, 1.000],  loss: 0.598822, mae: 2.813093, mean_q: 5.176352, mean_eps: 0.500000\n",
            "  707/8000: episode: 36, duration: 0.545s, episode steps:  32, steps per second:  59, episode reward: 32.000, mean reward:  1.000 [ 1.000,  1.000], mean action: 0.656 [0.000, 1.000],  loss: 0.489388, mae: 2.848670, mean_q: 5.264208, mean_eps: 0.500000\n",
            "  719/8000: episode: 37, duration: 0.228s, episode steps:  12, steps per second:  53, episode reward: 12.000, mean reward:  1.000 [ 1.000,  1.000], mean action: 0.750 [0.000, 1.000],  loss: 0.584734, mae: 2.954712, mean_q: 5.548125, mean_eps: 0.500000\n",
            "  732/8000: episode: 38, duration: 0.267s, episode steps:  13, steps per second:  49, episode reward: 13.000, mean reward:  1.000 [ 1.000,  1.000], mean action: 0.692 [0.000, 1.000],  loss: 0.666581, mae: 3.016532, mean_q: 5.557186, mean_eps: 0.500000\n",
            "  745/8000: episode: 39, duration: 0.242s, episode steps:  13, steps per second:  54, episode reward: 13.000, mean reward:  1.000 [ 1.000,  1.000], mean action: 0.615 [0.000, 1.000],  loss: 0.527284, mae: 3.015315, mean_q: 5.553894, mean_eps: 0.500000\n",
            "  763/8000: episode: 40, duration: 0.328s, episode steps:  18, steps per second:  55, episode reward: 18.000, mean reward:  1.000 [ 1.000,  1.000], mean action: 0.667 [0.000, 1.000],  loss: 0.479758, mae: 3.068208, mean_q: 5.785563, mean_eps: 0.500000\n",
            "  774/8000: episode: 41, duration: 0.239s, episode steps:  11, steps per second:  46, episode reward: 11.000, mean reward:  1.000 [ 1.000,  1.000], mean action: 0.545 [0.000, 1.000],  loss: 0.668144, mae: 3.157973, mean_q: 5.849444, mean_eps: 0.500000\n",
            "  797/8000: episode: 42, duration: 0.431s, episode steps:  23, steps per second:  53, episode reward: 23.000, mean reward:  1.000 [ 1.000,  1.000], mean action: 0.522 [0.000, 1.000],  loss: 0.633888, mae: 3.207967, mean_q: 5.876170, mean_eps: 0.500000\n",
            "  811/8000: episode: 43, duration: 0.290s, episode steps:  14, steps per second:  48, episode reward: 14.000, mean reward:  1.000 [ 1.000,  1.000], mean action: 0.643 [0.000, 1.000],  loss: 0.446398, mae: 3.205365, mean_q: 5.940380, mean_eps: 0.500000\n",
            "  824/8000: episode: 44, duration: 0.256s, episode steps:  13, steps per second:  51, episode reward: 13.000, mean reward:  1.000 [ 1.000,  1.000], mean action: 0.615 [0.000, 1.000],  loss: 0.591979, mae: 3.266258, mean_q: 6.092705, mean_eps: 0.500000\n",
            "  854/8000: episode: 45, duration: 0.636s, episode steps:  30, steps per second:  47, episode reward: 30.000, mean reward:  1.000 [ 1.000,  1.000], mean action: 0.600 [0.000, 1.000],  loss: 0.529508, mae: 3.334579, mean_q: 6.232388, mean_eps: 0.500000\n",
            "  868/8000: episode: 46, duration: 0.315s, episode steps:  14, steps per second:  44, episode reward: 14.000, mean reward:  1.000 [ 1.000,  1.000], mean action: 0.214 [0.000, 1.000],  loss: 0.606311, mae: 3.419138, mean_q: 6.399127, mean_eps: 0.500000\n",
            "  887/8000: episode: 47, duration: 0.378s, episode steps:  19, steps per second:  50, episode reward: 19.000, mean reward:  1.000 [ 1.000,  1.000], mean action: 0.474 [0.000, 1.000],  loss: 0.483111, mae: 3.446107, mean_q: 6.467597, mean_eps: 0.500000\n",
            "  904/8000: episode: 48, duration: 0.393s, episode steps:  17, steps per second:  43, episode reward: 17.000, mean reward:  1.000 [ 1.000,  1.000], mean action: 0.588 [0.000, 1.000],  loss: 0.613729, mae: 3.538035, mean_q: 6.630833, mean_eps: 0.500000\n",
            "  919/8000: episode: 49, duration: 0.409s, episode steps:  15, steps per second:  37, episode reward: 15.000, mean reward:  1.000 [ 1.000,  1.000], mean action: 0.467 [0.000, 1.000],  loss: 0.482619, mae: 3.559254, mean_q: 6.640159, mean_eps: 0.500000\n",
            "  951/8000: episode: 50, duration: 0.720s, episode steps:  32, steps per second:  44, episode reward: 32.000, mean reward:  1.000 [ 1.000,  1.000], mean action: 0.312 [0.000, 1.000],  loss: 0.721050, mae: 3.637493, mean_q: 6.767022, mean_eps: 0.500000\n",
            "  961/8000: episode: 51, duration: 0.245s, episode steps:  10, steps per second:  41, episode reward: 10.000, mean reward:  1.000 [ 1.000,  1.000], mean action: 0.100 [0.000, 1.000],  loss: 0.464755, mae: 3.683719, mean_q: 6.914688, mean_eps: 0.500000\n",
            "  972/8000: episode: 52, duration: 0.237s, episode steps:  11, steps per second:  46, episode reward: 11.000, mean reward:  1.000 [ 1.000,  1.000], mean action: 0.182 [0.000, 1.000],  loss: 0.585706, mae: 3.704355, mean_q: 6.916563, mean_eps: 0.500000\n",
            "  983/8000: episode: 53, duration: 0.271s, episode steps:  11, steps per second:  41, episode reward: 11.000, mean reward:  1.000 [ 1.000,  1.000], mean action: 0.182 [0.000, 1.000],  loss: 0.958419, mae: 3.830193, mean_q: 7.137972, mean_eps: 0.500000\n",
            "  996/8000: episode: 54, duration: 0.293s, episode steps:  13, steps per second:  44, episode reward: 13.000, mean reward:  1.000 [ 1.000,  1.000], mean action: 0.231 [0.000, 1.000],  loss: 0.875521, mae: 3.859108, mean_q: 7.183690, mean_eps: 0.500000\n",
            " 1007/8000: episode: 55, duration: 0.275s, episode steps:  11, steps per second:  40, episode reward: 11.000, mean reward:  1.000 [ 1.000,  1.000], mean action: 0.182 [0.000, 1.000],  loss: 0.730618, mae: 3.825368, mean_q: 7.143084, mean_eps: 0.500000\n",
            " 1018/8000: episode: 56, duration: 0.266s, episode steps:  11, steps per second:  41, episode reward: 11.000, mean reward:  1.000 [ 1.000,  1.000], mean action: 0.182 [0.000, 1.000],  loss: 0.654591, mae: 3.868272, mean_q: 7.250121, mean_eps: 0.500000\n",
            " 1036/8000: episode: 57, duration: 0.416s, episode steps:  18, steps per second:  43, episode reward: 18.000, mean reward:  1.000 [ 1.000,  1.000], mean action: 0.333 [0.000, 1.000],  loss: 0.944104, mae: 3.951593, mean_q: 7.363127, mean_eps: 0.500000\n",
            " 1047/8000: episode: 58, duration: 0.292s, episode steps:  11, steps per second:  38, episode reward: 11.000, mean reward:  1.000 [ 1.000,  1.000], mean action: 0.273 [0.000, 1.000],  loss: 0.560583, mae: 3.980881, mean_q: 7.534146, mean_eps: 0.500000\n",
            " 1056/8000: episode: 59, duration: 0.292s, episode steps:   9, steps per second:  31, episode reward:  9.000, mean reward:  1.000 [ 1.000,  1.000], mean action: 0.111 [0.000, 1.000],  loss: 0.763189, mae: 4.058436, mean_q: 7.707528, mean_eps: 0.500000\n",
            " 1069/8000: episode: 60, duration: 0.421s, episode steps:  13, steps per second:  31, episode reward: 13.000, mean reward:  1.000 [ 1.000,  1.000], mean action: 0.231 [0.000, 1.000],  loss: 1.357740, mae: 4.148205, mean_q: 7.716340, mean_eps: 0.500000\n",
            " 1081/8000: episode: 61, duration: 0.346s, episode steps:  12, steps per second:  35, episode reward: 12.000, mean reward:  1.000 [ 1.000,  1.000], mean action: 0.500 [0.000, 1.000],  loss: 0.792348, mae: 4.133257, mean_q: 7.698972, mean_eps: 0.500000\n",
            " 1092/8000: episode: 62, duration: 0.273s, episode steps:  11, steps per second:  40, episode reward: 11.000, mean reward:  1.000 [ 1.000,  1.000], mean action: 0.273 [0.000, 1.000],  loss: 1.084137, mae: 4.199800, mean_q: 7.792670, mean_eps: 0.500000\n",
            " 1105/8000: episode: 63, duration: 0.315s, episode steps:  13, steps per second:  41, episode reward: 13.000, mean reward:  1.000 [ 1.000,  1.000], mean action: 0.154 [0.000, 1.000],  loss: 0.762950, mae: 4.193131, mean_q: 7.881833, mean_eps: 0.500000\n",
            " 1115/8000: episode: 64, duration: 0.267s, episode steps:  10, steps per second:  37, episode reward: 10.000, mean reward:  1.000 [ 1.000,  1.000], mean action: 0.200 [0.000, 1.000],  loss: 0.895885, mae: 4.225195, mean_q: 7.925411, mean_eps: 0.500000\n",
            " 1148/8000: episode: 65, duration: 0.744s, episode steps:  33, steps per second:  44, episode reward: 33.000, mean reward:  1.000 [ 1.000,  1.000], mean action: 0.394 [0.000, 1.000],  loss: 1.065864, mae: 4.339847, mean_q: 8.114427, mean_eps: 0.500000\n",
            " 1167/8000: episode: 66, duration: 0.467s, episode steps:  19, steps per second:  41, episode reward: 19.000, mean reward:  1.000 [ 1.000,  1.000], mean action: 0.211 [0.000, 1.000],  loss: 0.834029, mae: 4.367146, mean_q: 8.206326, mean_eps: 0.500000\n",
            " 1179/8000: episode: 67, duration: 0.293s, episode steps:  12, steps per second:  41, episode reward: 12.000, mean reward:  1.000 [ 1.000,  1.000], mean action: 0.167 [0.000, 1.000],  loss: 1.418703, mae: 4.503210, mean_q: 8.379488, mean_eps: 0.500000\n",
            " 1269/8000: episode: 68, duration: 1.997s, episode steps:  90, steps per second:  45, episode reward: 90.000, mean reward:  1.000 [ 1.000,  1.000], mean action: 0.478 [0.000, 1.000],  loss: 1.419034, mae: 4.636864, mean_q: 8.534160, mean_eps: 0.500000\n",
            " 1328/8000: episode: 69, duration: 1.275s, episode steps:  59, steps per second:  46, episode reward: 59.000, mean reward:  1.000 [ 1.000,  1.000], mean action: 0.492 [0.000, 1.000],  loss: 1.183996, mae: 4.777422, mean_q: 8.957381, mean_eps: 0.500000\n",
            " 1361/8000: episode: 70, duration: 0.720s, episode steps:  33, steps per second:  46, episode reward: 33.000, mean reward:  1.000 [ 1.000,  1.000], mean action: 0.485 [0.000, 1.000],  loss: 1.464389, mae: 4.943548, mean_q: 9.221769, mean_eps: 0.500000\n",
            " 1395/8000: episode: 71, duration: 0.701s, episode steps:  34, steps per second:  48, episode reward: 34.000, mean reward:  1.000 [ 1.000,  1.000], mean action: 0.529 [0.000, 1.000],  loss: 1.558713, mae: 5.020938, mean_q: 9.312752, mean_eps: 0.500000\n",
            " 1435/8000: episode: 72, duration: 0.960s, episode steps:  40, steps per second:  42, episode reward: 40.000, mean reward:  1.000 [ 1.000,  1.000], mean action: 0.475 [0.000, 1.000],  loss: 1.277263, mae: 5.101091, mean_q: 9.580351, mean_eps: 0.500000\n",
            " 1495/8000: episode: 73, duration: 1.373s, episode steps:  60, steps per second:  44, episode reward: 60.000, mean reward:  1.000 [ 1.000,  1.000], mean action: 0.517 [0.000, 1.000],  loss: 1.597753, mae: 5.264601, mean_q: 9.823373, mean_eps: 0.500000\n",
            " 1535/8000: episode: 74, duration: 0.871s, episode steps:  40, steps per second:  46, episode reward: 40.000, mean reward:  1.000 [ 1.000,  1.000], mean action: 0.525 [0.000, 1.000],  loss: 1.257946, mae: 5.336779, mean_q: 10.033846, mean_eps: 0.500000\n",
            " 1561/8000: episode: 75, duration: 0.616s, episode steps:  26, steps per second:  42, episode reward: 26.000, mean reward:  1.000 [ 1.000,  1.000], mean action: 0.462 [0.000, 1.000],  loss: 1.803713, mae: 5.491158, mean_q: 10.257844, mean_eps: 0.500000\n",
            " 1581/8000: episode: 76, duration: 0.402s, episode steps:  20, steps per second:  50, episode reward: 20.000, mean reward:  1.000 [ 1.000,  1.000], mean action: 0.550 [0.000, 1.000],  loss: 1.156197, mae: 5.457502, mean_q: 10.268869, mean_eps: 0.500000\n",
            " 1595/8000: episode: 77, duration: 0.306s, episode steps:  14, steps per second:  46, episode reward: 14.000, mean reward:  1.000 [ 1.000,  1.000], mean action: 0.571 [0.000, 1.000],  loss: 0.884652, mae: 5.489854, mean_q: 10.532388, mean_eps: 0.500000\n",
            " 1636/8000: episode: 78, duration: 0.806s, episode steps:  41, steps per second:  51, episode reward: 41.000, mean reward:  1.000 [ 1.000,  1.000], mean action: 0.488 [0.000, 1.000],  loss: 1.538632, mae: 5.629265, mean_q: 10.670196, mean_eps: 0.500000\n",
            " 1666/8000: episode: 79, duration: 0.622s, episode steps:  30, steps per second:  48, episode reward: 30.000, mean reward:  1.000 [ 1.000,  1.000], mean action: 0.533 [0.000, 1.000],  loss: 1.836780, mae: 5.735989, mean_q: 10.749130, mean_eps: 0.500000\n",
            " 1700/8000: episode: 80, duration: 0.697s, episode steps:  34, steps per second:  49, episode reward: 34.000, mean reward:  1.000 [ 1.000,  1.000], mean action: 0.471 [0.000, 1.000],  loss: 1.482857, mae: 5.794855, mean_q: 10.971331, mean_eps: 0.500000\n",
            " 1728/8000: episode: 81, duration: 0.500s, episode steps:  28, steps per second:  56, episode reward: 28.000, mean reward:  1.000 [ 1.000,  1.000], mean action: 0.500 [0.000, 1.000],  loss: 2.160308, mae: 5.927141, mean_q: 10.992260, mean_eps: 0.500000\n",
            " 1744/8000: episode: 82, duration: 0.301s, episode steps:  16, steps per second:  53, episode reward: 16.000, mean reward:  1.000 [ 1.000,  1.000], mean action: 0.562 [0.000, 1.000],  loss: 1.369097, mae: 5.877376, mean_q: 11.184710, mean_eps: 0.500000\n",
            " 1802/8000: episode: 83, duration: 1.085s, episode steps:  58, steps per second:  53, episode reward: 58.000, mean reward:  1.000 [ 1.000,  1.000], mean action: 0.500 [0.000, 1.000],  loss: 2.039930, mae: 6.053706, mean_q: 11.398656, mean_eps: 0.500000\n",
            " 1818/8000: episode: 84, duration: 0.312s, episode steps:  16, steps per second:  51, episode reward: 16.000, mean reward:  1.000 [ 1.000,  1.000], mean action: 0.500 [0.000, 1.000],  loss: 1.028386, mae: 6.072263, mean_q: 11.567798, mean_eps: 0.500000\n",
            " 1842/8000: episode: 85, duration: 0.467s, episode steps:  24, steps per second:  51, episode reward: 24.000, mean reward:  1.000 [ 1.000,  1.000], mean action: 0.500 [0.000, 1.000],  loss: 1.876681, mae: 6.187226, mean_q: 11.699651, mean_eps: 0.500000\n",
            " 1873/8000: episode: 86, duration: 0.690s, episode steps:  31, steps per second:  45, episode reward: 31.000, mean reward:  1.000 [ 1.000,  1.000], mean action: 0.548 [0.000, 1.000],  loss: 2.288392, mae: 6.247335, mean_q: 11.693668, mean_eps: 0.500000\n",
            " 1895/8000: episode: 87, duration: 0.545s, episode steps:  22, steps per second:  40, episode reward: 22.000, mean reward:  1.000 [ 1.000,  1.000], mean action: 0.500 [0.000, 1.000],  loss: 2.453975, mae: 6.263996, mean_q: 11.631496, mean_eps: 0.500000\n",
            " 1910/8000: episode: 88, duration: 0.401s, episode steps:  15, steps per second:  37, episode reward: 15.000, mean reward:  1.000 [ 1.000,  1.000], mean action: 0.733 [0.000, 1.000],  loss: 1.676440, mae: 6.238875, mean_q: 11.704143, mean_eps: 0.500000\n",
            " 1925/8000: episode: 89, duration: 0.354s, episode steps:  15, steps per second:  42, episode reward: 15.000, mean reward:  1.000 [ 1.000,  1.000], mean action: 0.600 [0.000, 1.000],  loss: 1.693880, mae: 6.282206, mean_q: 11.913796, mean_eps: 0.500000\n",
            " 1952/8000: episode: 90, duration: 0.630s, episode steps:  27, steps per second:  43, episode reward: 27.000, mean reward:  1.000 [ 1.000,  1.000], mean action: 0.519 [0.000, 1.000],  loss: 1.521877, mae: 6.323218, mean_q: 12.027935, mean_eps: 0.500000\n",
            " 2004/8000: episode: 91, duration: 1.120s, episode steps:  52, steps per second:  46, episode reward: 52.000, mean reward:  1.000 [ 1.000,  1.000], mean action: 0.500 [0.000, 1.000],  loss: 1.855853, mae: 6.435714, mean_q: 12.184684, mean_eps: 0.500000\n",
            " 2055/8000: episode: 92, duration: 1.011s, episode steps:  51, steps per second:  50, episode reward: 51.000, mean reward:  1.000 [ 1.000,  1.000], mean action: 0.510 [0.000, 1.000],  loss: 2.390594, mae: 6.560805, mean_q: 12.344900, mean_eps: 0.500000\n",
            " 2099/8000: episode: 93, duration: 0.851s, episode steps:  44, steps per second:  52, episode reward: 44.000, mean reward:  1.000 [ 1.000,  1.000], mean action: 0.500 [0.000, 1.000],  loss: 1.947458, mae: 6.637316, mean_q: 12.617237, mean_eps: 0.500000\n",
            " 2154/8000: episode: 94, duration: 1.046s, episode steps:  55, steps per second:  53, episode reward: 55.000, mean reward:  1.000 [ 1.000,  1.000], mean action: 0.491 [0.000, 1.000],  loss: 2.075747, mae: 6.819285, mean_q: 12.965859, mean_eps: 0.500000\n",
            " 2189/8000: episode: 95, duration: 0.634s, episode steps:  35, steps per second:  55, episode reward: 35.000, mean reward:  1.000 [ 1.000,  1.000], mean action: 0.543 [0.000, 1.000],  loss: 1.652696, mae: 6.853497, mean_q: 13.105813, mean_eps: 0.500000\n",
            " 2210/8000: episode: 96, duration: 0.414s, episode steps:  21, steps per second:  51, episode reward: 21.000, mean reward:  1.000 [ 1.000,  1.000], mean action: 0.476 [0.000, 1.000],  loss: 3.299936, mae: 6.976444, mean_q: 13.053152, mean_eps: 0.500000\n",
            " 2255/8000: episode: 97, duration: 0.886s, episode steps:  45, steps per second:  51, episode reward: 45.000, mean reward:  1.000 [ 1.000,  1.000], mean action: 0.489 [0.000, 1.000],  loss: 1.795497, mae: 6.958024, mean_q: 13.276861, mean_eps: 0.500000\n",
            " 2298/8000: episode: 98, duration: 0.841s, episode steps:  43, steps per second:  51, episode reward: 43.000, mean reward:  1.000 [ 1.000,  1.000], mean action: 0.488 [0.000, 1.000],  loss: 1.915458, mae: 7.062802, mean_q: 13.516701, mean_eps: 0.500000\n",
            " 2394/8000: episode: 99, duration: 2.027s, episode steps:  96, steps per second:  47, episode reward: 96.000, mean reward:  1.000 [ 1.000,  1.000], mean action: 0.479 [0.000, 1.000],  loss: 2.281831, mae: 7.255099, mean_q: 13.820974, mean_eps: 0.500000\n",
            " 2477/8000: episode: 100, duration: 1.641s, episode steps:  83, steps per second:  51, episode reward: 83.000, mean reward:  1.000 [ 1.000,  1.000], mean action: 0.506 [0.000, 1.000],  loss: 2.699169, mae: 7.468161, mean_q: 14.160881, mean_eps: 0.500000\n",
            " 2549/8000: episode: 101, duration: 1.447s, episode steps:  72, steps per second:  50, episode reward: 72.000, mean reward:  1.000 [ 1.000,  1.000], mean action: 0.514 [0.000, 1.000],  loss: 2.149877, mae: 7.647142, mean_q: 14.690967, mean_eps: 0.500000\n",
            " 2631/8000: episode: 102, duration: 1.600s, episode steps:  82, steps per second:  51, episode reward: 82.000, mean reward:  1.000 [ 1.000,  1.000], mean action: 0.500 [0.000, 1.000],  loss: 2.817702, mae: 7.826090, mean_q: 14.907621, mean_eps: 0.500000\n",
            " 2682/8000: episode: 103, duration: 0.956s, episode steps:  51, steps per second:  53, episode reward: 51.000, mean reward:  1.000 [ 1.000,  1.000], mean action: 0.510 [0.000, 1.000],  loss: 2.577284, mae: 7.985502, mean_q: 15.310966, mean_eps: 0.500000\n",
            " 2777/8000: episode: 104, duration: 1.653s, episode steps:  95, steps per second:  57, episode reward: 95.000, mean reward:  1.000 [ 1.000,  1.000], mean action: 0.505 [0.000, 1.000],  loss: 2.608564, mae: 8.120883, mean_q: 15.562902, mean_eps: 0.500000\n",
            " 2823/8000: episode: 105, duration: 0.853s, episode steps:  46, steps per second:  54, episode reward: 46.000, mean reward:  1.000 [ 1.000,  1.000], mean action: 0.478 [0.000, 1.000],  loss: 2.647443, mae: 8.315033, mean_q: 15.957678, mean_eps: 0.500000\n",
            " 2885/8000: episode: 106, duration: 1.149s, episode steps:  62, steps per second:  54, episode reward: 62.000, mean reward:  1.000 [ 1.000,  1.000], mean action: 0.500 [0.000, 1.000],  loss: 2.592256, mae: 8.414756, mean_q: 16.143448, mean_eps: 0.500000\n",
            " 2921/8000: episode: 107, duration: 0.738s, episode steps:  36, steps per second:  49, episode reward: 36.000, mean reward:  1.000 [ 1.000,  1.000], mean action: 0.472 [0.000, 1.000],  loss: 3.464376, mae: 8.538778, mean_q: 16.269796, mean_eps: 0.500000\n",
            " 2951/8000: episode: 108, duration: 0.913s, episode steps:  30, steps per second:  33, episode reward: 30.000, mean reward:  1.000 [ 1.000,  1.000], mean action: 0.500 [0.000, 1.000],  loss: 3.232439, mae: 8.520998, mean_q: 16.209377, mean_eps: 0.500000\n",
            " 3012/8000: episode: 109, duration: 1.444s, episode steps:  61, steps per second:  42, episode reward: 61.000, mean reward:  1.000 [ 1.000,  1.000], mean action: 0.525 [0.000, 1.000],  loss: 2.133694, mae: 8.652885, mean_q: 16.717445, mean_eps: 0.500000\n",
            " 3056/8000: episode: 110, duration: 0.897s, episode steps:  44, steps per second:  49, episode reward: 44.000, mean reward:  1.000 [ 1.000,  1.000], mean action: 0.477 [0.000, 1.000],  loss: 3.050386, mae: 8.796240, mean_q: 16.873683, mean_eps: 0.500000\n",
            " 3108/8000: episode: 111, duration: 1.040s, episode steps:  52, steps per second:  50, episode reward: 52.000, mean reward:  1.000 [ 1.000,  1.000], mean action: 0.481 [0.000, 1.000],  loss: 2.888933, mae: 8.858422, mean_q: 17.080629, mean_eps: 0.500000\n",
            " 3135/8000: episode: 112, duration: 0.874s, episode steps:  27, steps per second:  31, episode reward: 27.000, mean reward:  1.000 [ 1.000,  1.000], mean action: 0.481 [0.000, 1.000],  loss: 2.761742, mae: 8.947955, mean_q: 17.119307, mean_eps: 0.500000\n",
            " 3184/8000: episode: 113, duration: 1.328s, episode steps:  49, steps per second:  37, episode reward: 49.000, mean reward:  1.000 [ 1.000,  1.000], mean action: 0.490 [0.000, 1.000],  loss: 3.730691, mae: 9.043612, mean_q: 17.270448, mean_eps: 0.500000\n",
            " 3223/8000: episode: 114, duration: 0.887s, episode steps:  39, steps per second:  44, episode reward: 39.000, mean reward:  1.000 [ 1.000,  1.000], mean action: 0.462 [0.000, 1.000],  loss: 2.172652, mae: 9.103868, mean_q: 17.580908, mean_eps: 0.500000\n",
            " 3284/8000: episode: 115, duration: 1.323s, episode steps:  61, steps per second:  46, episode reward: 61.000, mean reward:  1.000 [ 1.000,  1.000], mean action: 0.475 [0.000, 1.000],  loss: 2.913380, mae: 9.201425, mean_q: 17.654838, mean_eps: 0.500000\n",
            " 3335/8000: episode: 116, duration: 1.124s, episode steps:  51, steps per second:  45, episode reward: 51.000, mean reward:  1.000 [ 1.000,  1.000], mean action: 0.510 [0.000, 1.000],  loss: 3.640767, mae: 9.310099, mean_q: 17.813826, mean_eps: 0.500000\n",
            " 3370/8000: episode: 117, duration: 0.793s, episode steps:  35, steps per second:  44, episode reward: 35.000, mean reward:  1.000 [ 1.000,  1.000], mean action: 0.457 [0.000, 1.000],  loss: 3.243044, mae: 9.369729, mean_q: 18.030039, mean_eps: 0.500000\n",
            " 3399/8000: episode: 118, duration: 0.641s, episode steps:  29, steps per second:  45, episode reward: 29.000, mean reward:  1.000 [ 1.000,  1.000], mean action: 0.448 [0.000, 1.000],  loss: 4.248730, mae: 9.511704, mean_q: 18.146157, mean_eps: 0.500000\n",
            " 3472/8000: episode: 119, duration: 1.491s, episode steps:  73, steps per second:  49, episode reward: 73.000, mean reward:  1.000 [ 1.000,  1.000], mean action: 0.479 [0.000, 1.000],  loss: 3.325451, mae: 9.508539, mean_q: 18.330194, mean_eps: 0.500000\n",
            " 3519/8000: episode: 120, duration: 0.981s, episode steps:  47, steps per second:  48, episode reward: 47.000, mean reward:  1.000 [ 1.000,  1.000], mean action: 0.489 [0.000, 1.000],  loss: 3.641146, mae: 9.631729, mean_q: 18.527091, mean_eps: 0.500000\n",
            " 3547/8000: episode: 121, duration: 0.511s, episode steps:  28, steps per second:  55, episode reward: 28.000, mean reward:  1.000 [ 1.000,  1.000], mean action: 0.464 [0.000, 1.000],  loss: 3.123011, mae: 9.644012, mean_q: 18.645625, mean_eps: 0.500000\n",
            " 3565/8000: episode: 122, duration: 0.333s, episode steps:  18, steps per second:  54, episode reward: 18.000, mean reward:  1.000 [ 1.000,  1.000], mean action: 0.556 [0.000, 1.000],  loss: 3.696972, mae: 9.750892, mean_q: 18.698781, mean_eps: 0.500000\n",
            " 3592/8000: episode: 123, duration: 0.496s, episode steps:  27, steps per second:  54, episode reward: 27.000, mean reward:  1.000 [ 1.000,  1.000], mean action: 0.481 [0.000, 1.000],  loss: 2.966147, mae: 9.687656, mean_q: 18.722454, mean_eps: 0.500000\n",
            " 3636/8000: episode: 124, duration: 0.827s, episode steps:  44, steps per second:  53, episode reward: 44.000, mean reward:  1.000 [ 1.000,  1.000], mean action: 0.523 [0.000, 1.000],  loss: 3.088211, mae: 9.833158, mean_q: 19.030488, mean_eps: 0.500000\n",
            " 3661/8000: episode: 125, duration: 0.523s, episode steps:  25, steps per second:  48, episode reward: 25.000, mean reward:  1.000 [ 1.000,  1.000], mean action: 0.440 [0.000, 1.000],  loss: 4.433709, mae: 9.895482, mean_q: 18.896196, mean_eps: 0.500000\n",
            " 3695/8000: episode: 126, duration: 0.732s, episode steps:  34, steps per second:  46, episode reward: 34.000, mean reward:  1.000 [ 1.000,  1.000], mean action: 0.471 [0.000, 1.000],  loss: 2.792616, mae: 9.905695, mean_q: 19.128963, mean_eps: 0.500000\n",
            " 3748/8000: episode: 127, duration: 1.061s, episode steps:  53, steps per second:  50, episode reward: 53.000, mean reward:  1.000 [ 1.000,  1.000], mean action: 0.491 [0.000, 1.000],  loss: 3.239740, mae: 10.095448, mean_q: 19.505465, mean_eps: 0.500000\n",
            " 3784/8000: episode: 128, duration: 0.708s, episode steps:  36, steps per second:  51, episode reward: 36.000, mean reward:  1.000 [ 1.000,  1.000], mean action: 0.500 [0.000, 1.000],  loss: 4.427242, mae: 10.168526, mean_q: 19.463785, mean_eps: 0.500000\n",
            " 3831/8000: episode: 129, duration: 1.004s, episode steps:  47, steps per second:  47, episode reward: 47.000, mean reward:  1.000 [ 1.000,  1.000], mean action: 0.468 [0.000, 1.000],  loss: 2.824829, mae: 10.172455, mean_q: 19.750283, mean_eps: 0.500000\n",
            " 3895/8000: episode: 130, duration: 1.264s, episode steps:  64, steps per second:  51, episode reward: 64.000, mean reward:  1.000 [ 1.000,  1.000], mean action: 0.516 [0.000, 1.000],  loss: 4.067539, mae: 10.292989, mean_q: 19.772812, mean_eps: 0.500000\n",
            " 3964/8000: episode: 131, duration: 1.327s, episode steps:  69, steps per second:  52, episode reward: 69.000, mean reward:  1.000 [ 1.000,  1.000], mean action: 0.478 [0.000, 1.000],  loss: 4.212680, mae: 10.464977, mean_q: 20.082483, mean_eps: 0.500000\n",
            " 4013/8000: episode: 132, duration: 1.112s, episode steps:  49, steps per second:  44, episode reward: 49.000, mean reward:  1.000 [ 1.000,  1.000], mean action: 0.469 [0.000, 1.000],  loss: 4.201555, mae: 10.450067, mean_q: 20.057428, mean_eps: 0.500000\n",
            " 4056/8000: episode: 133, duration: 1.070s, episode steps:  43, steps per second:  40, episode reward: 43.000, mean reward:  1.000 [ 1.000,  1.000], mean action: 0.512 [0.000, 1.000],  loss: 4.099949, mae: 10.530837, mean_q: 20.332391, mean_eps: 0.500000\n",
            " 4075/8000: episode: 134, duration: 0.435s, episode steps:  19, steps per second:  44, episode reward: 19.000, mean reward:  1.000 [ 1.000,  1.000], mean action: 0.421 [0.000, 1.000],  loss: 3.799411, mae: 10.622516, mean_q: 20.610849, mean_eps: 0.500000\n",
            " 4188/8000: episode: 135, duration: 2.427s, episode steps: 113, steps per second:  47, episode reward: 113.000, mean reward:  1.000 [ 1.000,  1.000], mean action: 0.504 [0.000, 1.000],  loss: 4.400119, mae: 10.700891, mean_q: 20.625192, mean_eps: 0.500000\n",
            " 4223/8000: episode: 136, duration: 0.743s, episode steps:  35, steps per second:  47, episode reward: 35.000, mean reward:  1.000 [ 1.000,  1.000], mean action: 0.457 [0.000, 1.000],  loss: 4.769608, mae: 10.905515, mean_q: 21.082392, mean_eps: 0.500000\n",
            " 4301/8000: episode: 137, duration: 1.630s, episode steps:  78, steps per second:  48, episode reward: 78.000, mean reward:  1.000 [ 1.000,  1.000], mean action: 0.526 [0.000, 1.000],  loss: 3.943822, mae: 10.922469, mean_q: 21.083606, mean_eps: 0.500000\n",
            " 4351/8000: episode: 138, duration: 1.053s, episode steps:  50, steps per second:  47, episode reward: 50.000, mean reward:  1.000 [ 1.000,  1.000], mean action: 0.520 [0.000, 1.000],  loss: 4.531981, mae: 10.996434, mean_q: 21.186410, mean_eps: 0.500000\n",
            " 4401/8000: episode: 139, duration: 1.060s, episode steps:  50, steps per second:  47, episode reward: 50.000, mean reward:  1.000 [ 1.000,  1.000], mean action: 0.480 [0.000, 1.000],  loss: 5.181039, mae: 11.022792, mean_q: 21.188550, mean_eps: 0.500000\n",
            " 4449/8000: episode: 140, duration: 0.940s, episode steps:  48, steps per second:  51, episode reward: 48.000, mean reward:  1.000 [ 1.000,  1.000], mean action: 0.500 [0.000, 1.000],  loss: 3.708370, mae: 11.058270, mean_q: 21.453692, mean_eps: 0.500000\n",
            " 4507/8000: episode: 141, duration: 1.183s, episode steps:  58, steps per second:  49, episode reward: 58.000, mean reward:  1.000 [ 1.000,  1.000], mean action: 0.534 [0.000, 1.000],  loss: 3.571423, mae: 11.209381, mean_q: 21.780271, mean_eps: 0.500000\n",
            " 4539/8000: episode: 142, duration: 0.633s, episode steps:  32, steps per second:  51, episode reward: 32.000, mean reward:  1.000 [ 1.000,  1.000], mean action: 0.438 [0.000, 1.000],  loss: 5.189611, mae: 11.396067, mean_q: 21.971896, mean_eps: 0.500000\n",
            " 4566/8000: episode: 143, duration: 0.527s, episode steps:  27, steps per second:  51, episode reward: 27.000, mean reward:  1.000 [ 1.000,  1.000], mean action: 0.481 [0.000, 1.000],  loss: 4.152800, mae: 11.350740, mean_q: 22.011679, mean_eps: 0.500000\n",
            " 4641/8000: episode: 144, duration: 1.521s, episode steps:  75, steps per second:  49, episode reward: 75.000, mean reward:  1.000 [ 1.000,  1.000], mean action: 0.480 [0.000, 1.000],  loss: 3.840947, mae: 11.401586, mean_q: 22.119044, mean_eps: 0.500000\n",
            " 4676/8000: episode: 145, duration: 0.686s, episode steps:  35, steps per second:  51, episode reward: 35.000, mean reward:  1.000 [ 1.000,  1.000], mean action: 0.486 [0.000, 1.000],  loss: 3.534036, mae: 11.592247, mean_q: 22.564814, mean_eps: 0.500000\n",
            " 4694/8000: episode: 146, duration: 0.386s, episode steps:  18, steps per second:  47, episode reward: 18.000, mean reward:  1.000 [ 1.000,  1.000], mean action: 0.444 [0.000, 1.000],  loss: 6.338056, mae: 11.652882, mean_q: 22.440750, mean_eps: 0.500000\n",
            " 4758/8000: episode: 147, duration: 1.291s, episode steps:  64, steps per second:  50, episode reward: 64.000, mean reward:  1.000 [ 1.000,  1.000], mean action: 0.469 [0.000, 1.000],  loss: 4.467362, mae: 11.648036, mean_q: 22.604996, mean_eps: 0.500000\n",
            " 4809/8000: episode: 148, duration: 1.068s, episode steps:  51, steps per second:  48, episode reward: 51.000, mean reward:  1.000 [ 1.000,  1.000], mean action: 0.510 [0.000, 1.000],  loss: 4.556151, mae: 11.760539, mean_q: 22.836252, mean_eps: 0.500000\n",
            " 4855/8000: episode: 149, duration: 0.914s, episode steps:  46, steps per second:  50, episode reward: 46.000, mean reward:  1.000 [ 1.000,  1.000], mean action: 0.543 [0.000, 1.000],  loss: 3.624989, mae: 11.816330, mean_q: 23.013001, mean_eps: 0.500000\n",
            " 4935/8000: episode: 150, duration: 1.523s, episode steps:  80, steps per second:  53, episode reward: 80.000, mean reward:  1.000 [ 1.000,  1.000], mean action: 0.525 [0.000, 1.000],  loss: 4.270435, mae: 11.953060, mean_q: 23.254336, mean_eps: 0.500000\n",
            " 4967/8000: episode: 151, duration: 0.558s, episode steps:  32, steps per second:  57, episode reward: 32.000, mean reward:  1.000 [ 1.000,  1.000], mean action: 0.500 [0.000, 1.000],  loss: 5.028735, mae: 11.989585, mean_q: 23.287950, mean_eps: 0.500000\n",
            " 5057/8000: episode: 152, duration: 1.705s, episode steps:  90, steps per second:  53, episode reward: 90.000, mean reward:  1.000 [ 1.000,  1.000], mean action: 0.522 [0.000, 1.000],  loss: 4.677637, mae: 12.209090, mean_q: 23.730844, mean_eps: 0.500000\n",
            " 5146/8000: episode: 153, duration: 1.733s, episode steps:  89, steps per second:  51, episode reward: 89.000, mean reward:  1.000 [ 1.000,  1.000], mean action: 0.517 [0.000, 1.000],  loss: 4.698449, mae: 12.359689, mean_q: 24.010917, mean_eps: 0.500000\n",
            " 5222/8000: episode: 154, duration: 1.467s, episode steps:  76, steps per second:  52, episode reward: 76.000, mean reward:  1.000 [ 1.000,  1.000], mean action: 0.474 [0.000, 1.000],  loss: 3.961097, mae: 12.406126, mean_q: 24.195963, mean_eps: 0.500000\n",
            " 5242/8000: episode: 155, duration: 0.407s, episode steps:  20, steps per second:  49, episode reward: 20.000, mean reward:  1.000 [ 1.000,  1.000], mean action: 0.450 [0.000, 1.000],  loss: 3.915338, mae: 12.547128, mean_q: 24.497119, mean_eps: 0.500000\n",
            " 5326/8000: episode: 156, duration: 1.753s, episode steps:  84, steps per second:  48, episode reward: 84.000, mean reward:  1.000 [ 1.000,  1.000], mean action: 0.500 [0.000, 1.000],  loss: 3.884002, mae: 12.645400, mean_q: 24.719105, mean_eps: 0.500000\n",
            " 5392/8000: episode: 157, duration: 1.312s, episode steps:  66, steps per second:  50, episode reward: 66.000, mean reward:  1.000 [ 1.000,  1.000], mean action: 0.500 [0.000, 1.000],  loss: 4.910592, mae: 12.831614, mean_q: 25.075955, mean_eps: 0.500000\n",
            " 5417/8000: episode: 158, duration: 0.501s, episode steps:  25, steps per second:  50, episode reward: 25.000, mean reward:  1.000 [ 1.000,  1.000], mean action: 0.480 [0.000, 1.000],  loss: 5.506434, mae: 12.843038, mean_q: 25.093788, mean_eps: 0.500000\n",
            " 5445/8000: episode: 159, duration: 0.583s, episode steps:  28, steps per second:  48, episode reward: 28.000, mean reward:  1.000 [ 1.000,  1.000], mean action: 0.464 [0.000, 1.000],  loss: 4.720365, mae: 12.919143, mean_q: 25.245742, mean_eps: 0.500000\n",
            " 5511/8000: episode: 160, duration: 1.308s, episode steps:  66, steps per second:  50, episode reward: 66.000, mean reward:  1.000 [ 1.000,  1.000], mean action: 0.455 [0.000, 1.000],  loss: 4.825850, mae: 12.903642, mean_q: 25.181778, mean_eps: 0.500000\n",
            " 5567/8000: episode: 161, duration: 1.182s, episode steps:  56, steps per second:  47, episode reward: 56.000, mean reward:  1.000 [ 1.000,  1.000], mean action: 0.464 [0.000, 1.000],  loss: 4.632093, mae: 13.098320, mean_q: 25.590582, mean_eps: 0.500000\n",
            " 5589/8000: episode: 162, duration: 0.404s, episode steps:  22, steps per second:  54, episode reward: 22.000, mean reward:  1.000 [ 1.000,  1.000], mean action: 0.455 [0.000, 1.000],  loss: 4.253657, mae: 12.975723, mean_q: 25.345329, mean_eps: 0.500000\n",
            " 5611/8000: episode: 163, duration: 0.476s, episode steps:  22, steps per second:  46, episode reward: 22.000, mean reward:  1.000 [ 1.000,  1.000], mean action: 0.545 [0.000, 1.000],  loss: 4.632590, mae: 13.088191, mean_q: 25.552139, mean_eps: 0.500000\n",
            " 5712/8000: episode: 164, duration: 2.012s, episode steps: 101, steps per second:  50, episode reward: 101.000, mean reward:  1.000 [ 1.000,  1.000], mean action: 0.525 [0.000, 1.000],  loss: 4.047128, mae: 13.267632, mean_q: 25.994879, mean_eps: 0.500000\n",
            " 5825/8000: episode: 165, duration: 2.135s, episode steps: 113, steps per second:  53, episode reward: 113.000, mean reward:  1.000 [ 1.000,  1.000], mean action: 0.522 [0.000, 1.000],  loss: 4.443509, mae: 13.389721, mean_q: 26.196309, mean_eps: 0.500000\n",
            " 5889/8000: episode: 166, duration: 1.204s, episode steps:  64, steps per second:  53, episode reward: 64.000, mean reward:  1.000 [ 1.000,  1.000], mean action: 0.453 [0.000, 1.000],  loss: 4.332755, mae: 13.487257, mean_q: 26.457225, mean_eps: 0.500000\n",
            " 5926/8000: episode: 167, duration: 0.686s, episode steps:  37, steps per second:  54, episode reward: 37.000, mean reward:  1.000 [ 1.000,  1.000], mean action: 0.486 [0.000, 1.000],  loss: 3.822382, mae: 13.616074, mean_q: 26.850487, mean_eps: 0.500000\n",
            " 6036/8000: episode: 168, duration: 1.784s, episode steps: 110, steps per second:  62, episode reward: 110.000, mean reward:  1.000 [ 1.000,  1.000], mean action: 0.473 [0.000, 1.000],  loss: 6.965342, mae: 13.778712, mean_q: 26.822755, mean_eps: 0.500000\n",
            " 6163/8000: episode: 169, duration: 2.159s, episode steps: 127, steps per second:  59, episode reward: 127.000, mean reward:  1.000 [ 1.000,  1.000], mean action: 0.512 [0.000, 1.000],  loss: 4.810441, mae: 13.941795, mean_q: 27.310457, mean_eps: 0.500000\n",
            " 6194/8000: episode: 170, duration: 0.542s, episode steps:  31, steps per second:  57, episode reward: 31.000, mean reward:  1.000 [ 1.000,  1.000], mean action: 0.516 [0.000, 1.000],  loss: 6.838939, mae: 13.984307, mean_q: 27.186922, mean_eps: 0.500000\n",
            " 6350/8000: episode: 171, duration: 2.759s, episode steps: 156, steps per second:  57, episode reward: 156.000, mean reward:  1.000 [ 1.000,  1.000], mean action: 0.494 [0.000, 1.000],  loss: 5.335622, mae: 14.152690, mean_q: 27.694152, mean_eps: 0.500000\n",
            " 6422/8000: episode: 172, duration: 1.404s, episode steps:  72, steps per second:  51, episode reward: 72.000, mean reward:  1.000 [ 1.000,  1.000], mean action: 0.472 [0.000, 1.000],  loss: 5.920441, mae: 14.406276, mean_q: 28.190810, mean_eps: 0.500000\n",
            " 6448/8000: episode: 173, duration: 0.554s, episode steps:  26, steps per second:  47, episode reward: 26.000, mean reward:  1.000 [ 1.000,  1.000], mean action: 0.538 [0.000, 1.000],  loss: 6.179694, mae: 14.339662, mean_q: 27.980480, mean_eps: 0.500000\n",
            " 6520/8000: episode: 174, duration: 1.295s, episode steps:  72, steps per second:  56, episode reward: 72.000, mean reward:  1.000 [ 1.000,  1.000], mean action: 0.458 [0.000, 1.000],  loss: 6.068785, mae: 14.423552, mean_q: 28.216984, mean_eps: 0.500000\n",
            " 6568/8000: episode: 175, duration: 0.815s, episode steps:  48, steps per second:  59, episode reward: 48.000, mean reward:  1.000 [ 1.000,  1.000], mean action: 0.479 [0.000, 1.000],  loss: 3.965425, mae: 14.397193, mean_q: 28.374381, mean_eps: 0.500000\n",
            " 6682/8000: episode: 176, duration: 2.042s, episode steps: 114, steps per second:  56, episode reward: 114.000, mean reward:  1.000 [ 1.000,  1.000], mean action: 0.526 [0.000, 1.000],  loss: 4.651874, mae: 14.632130, mean_q: 28.792596, mean_eps: 0.500000\n",
            " 6726/8000: episode: 177, duration: 1.140s, episode steps:  44, steps per second:  39, episode reward: 44.000, mean reward:  1.000 [ 1.000,  1.000], mean action: 0.477 [0.000, 1.000],  loss: 6.566430, mae: 14.807638, mean_q: 28.931076, mean_eps: 0.500000\n",
            " 6773/8000: episode: 178, duration: 1.099s, episode steps:  47, steps per second:  43, episode reward: 47.000, mean reward:  1.000 [ 1.000,  1.000], mean action: 0.553 [0.000, 1.000],  loss: 4.709951, mae: 14.836000, mean_q: 29.206036, mean_eps: 0.500000\n",
            " 6832/8000: episode: 179, duration: 1.103s, episode steps:  59, steps per second:  54, episode reward: 59.000, mean reward:  1.000 [ 1.000,  1.000], mean action: 0.525 [0.000, 1.000],  loss: 5.136584, mae: 14.792589, mean_q: 29.147720, mean_eps: 0.500000\n",
            " 6954/8000: episode: 180, duration: 2.494s, episode steps: 122, steps per second:  49, episode reward: 122.000, mean reward:  1.000 [ 1.000,  1.000], mean action: 0.484 [0.000, 1.000],  loss: 6.161359, mae: 15.078686, mean_q: 29.618075, mean_eps: 0.500000\n",
            " 7003/8000: episode: 181, duration: 1.016s, episode steps:  49, steps per second:  48, episode reward: 49.000, mean reward:  1.000 [ 1.000,  1.000], mean action: 0.551 [0.000, 1.000],  loss: 6.580422, mae: 15.269937, mean_q: 29.960527, mean_eps: 0.500000\n",
            " 7123/8000: episode: 182, duration: 2.115s, episode steps: 120, steps per second:  57, episode reward: 120.000, mean reward:  1.000 [ 1.000,  1.000], mean action: 0.492 [0.000, 1.000],  loss: 4.558434, mae: 15.372178, mean_q: 30.375683, mean_eps: 0.500000\n",
            " 7187/8000: episode: 183, duration: 1.324s, episode steps:  64, steps per second:  48, episode reward: 64.000, mean reward:  1.000 [ 1.000,  1.000], mean action: 0.547 [0.000, 1.000],  loss: 5.396480, mae: 15.483340, mean_q: 30.502281, mean_eps: 0.500000\n",
            " 7253/8000: episode: 184, duration: 1.280s, episode steps:  66, steps per second:  52, episode reward: 66.000, mean reward:  1.000 [ 1.000,  1.000], mean action: 0.530 [0.000, 1.000],  loss: 4.665522, mae: 15.610986, mean_q: 30.818490, mean_eps: 0.500000\n",
            " 7317/8000: episode: 185, duration: 1.186s, episode steps:  64, steps per second:  54, episode reward: 64.000, mean reward:  1.000 [ 1.000,  1.000], mean action: 0.516 [0.000, 1.000],  loss: 3.583849, mae: 15.809579, mean_q: 31.318495, mean_eps: 0.500000\n",
            " 7409/8000: episode: 186, duration: 1.819s, episode steps:  92, steps per second:  51, episode reward: 92.000, mean reward:  1.000 [ 1.000,  1.000], mean action: 0.457 [0.000, 1.000],  loss: 5.595926, mae: 15.859332, mean_q: 31.281961, mean_eps: 0.500000\n",
            " 7460/8000: episode: 187, duration: 1.043s, episode steps:  51, steps per second:  49, episode reward: 51.000, mean reward:  1.000 [ 1.000,  1.000], mean action: 0.510 [0.000, 1.000],  loss: 7.563339, mae: 16.051063, mean_q: 31.574334, mean_eps: 0.500000\n",
            " 7481/8000: episode: 188, duration: 0.431s, episode steps:  21, steps per second:  49, episode reward: 21.000, mean reward:  1.000 [ 1.000,  1.000], mean action: 0.476 [0.000, 1.000],  loss: 5.120362, mae: 16.090478, mean_q: 31.754506, mean_eps: 0.500000\n",
            " 7538/8000: episode: 189, duration: 1.083s, episode steps:  57, steps per second:  53, episode reward: 57.000, mean reward:  1.000 [ 1.000,  1.000], mean action: 0.491 [0.000, 1.000],  loss: 3.940014, mae: 16.152297, mean_q: 32.008710, mean_eps: 0.500000\n",
            " 7590/8000: episode: 190, duration: 0.978s, episode steps:  52, steps per second:  53, episode reward: 52.000, mean reward:  1.000 [ 1.000,  1.000], mean action: 0.538 [0.000, 1.000],  loss: 5.521360, mae: 16.220251, mean_q: 32.174267, mean_eps: 0.500000\n",
            " 7684/8000: episode: 191, duration: 1.734s, episode steps:  94, steps per second:  54, episode reward: 94.000, mean reward:  1.000 [ 1.000,  1.000], mean action: 0.543 [0.000, 1.000],  loss: 6.168397, mae: 16.332737, mean_q: 32.302104, mean_eps: 0.500000\n",
            " 7842/8000: episode: 192, duration: 3.233s, episode steps: 158, steps per second:  49, episode reward: 158.000, mean reward:  1.000 [ 1.000,  1.000], mean action: 0.462 [0.000, 1.000],  loss: 6.656020, mae: 16.570860, mean_q: 32.734873, mean_eps: 0.500000\n",
            " 7985/8000: episode: 193, duration: 3.016s, episode steps: 143, steps per second:  47, episode reward: 143.000, mean reward:  1.000 [ 1.000,  1.000], mean action: 0.497 [0.000, 1.000],  loss: 6.138496, mae: 16.761110, mean_q: 33.141224, mean_eps: 0.500000\n",
            "done, took 176.905 seconds\n"
          ]
        },
        {
          "output_type": "display_data",
          "data": {
            "text/plain": [
              "<Figure size 432x288 with 1 Axes>"
            ],
            "image/png": "[encoded data removed]"
          },
          "metadata": {
            "needs_background": "light"
          }
        },
        {
          "output_type": "stream",
          "name": "stdout",
          "text": [
            "Testing for 20 episodes ...\n",
            "Episode 1: reward: 139.000, steps: 139\n",
            "Episode 2: reward: 200.000, steps: 200\n",
            "Episode 3: reward: 200.000, steps: 200\n",
            "Episode 4: reward: 200.000, steps: 200\n",
            "Episode 5: reward: 200.000, steps: 200\n",
            "Episode 6: reward: 200.000, steps: 200\n",
            "Episode 7: reward: 200.000, steps: 200\n",
            "Episode 8: reward: 200.000, steps: 200\n",
            "Episode 9: reward: 200.000, steps: 200\n",
            "Episode 10: reward: 200.000, steps: 200\n",
            "Episode 11: reward: 120.000, steps: 120\n",
            "Episode 12: reward: 200.000, steps: 200\n",
            "Episode 13: reward: 200.000, steps: 200\n",
            "Episode 14: reward: 200.000, steps: 200\n",
            "Episode 15: reward: 200.000, steps: 200\n",
            "Episode 16: reward: 200.000, steps: 200\n",
            "Episode 17: reward: 200.000, steps: 200\n",
            "Episode 18: reward: 134.000, steps: 134\n",
            "Episode 19: reward: 116.000, steps: 116\n",
            "Episode 20: reward: 200.000, steps: 200\n"
          ]
        },
        {
          "output_type": "execute_result",
          "data": {
            "text/plain": [
              "<keras.callbacks.History at 0x7fb16f20efd0>"
            ]
          },
          "metadata": {},
          "execution_count": 104
        }
      ]
    }
  ]
}